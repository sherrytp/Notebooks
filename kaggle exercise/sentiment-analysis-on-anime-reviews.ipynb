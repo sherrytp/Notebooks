{
 "cells": [
  {
   "cell_type": "markdown",
   "metadata": {},
   "source": [
    "#            Sentiment Analysis on Anime Reviews \n",
    "\n",
    "* ## 0 Introduction \n",
    "    * ### 0.1 Import Libraries\n",
    "    * ### 0.2 Loading the Database \n",
    "\n",
    "* ## 1 Exploratory Data Analysis \n",
    "    * ### 1.1 Data Exploration \n",
    "        * #### 1.1.1 Rating Frequency Table\n",
    "        * #### 1.1.2 Word Cloud \n",
    "    * ### 1.2 Data Cleaning \n",
    "    * ### 1.3 Data Split - only get rTrain\n",
    "    * ### 1.4 Word Frequency Table \n",
    "    * ### 1.5  Import Sentiment Weights \n",
    "\n",
    "* ## 2 Train Models \n",
    "    * ### 2.1 Logistic Regression \n",
    "    * ### 2.2 Gaussian Naive Bayes \n",
    "    * ### 2.3 Random Forests \n",
    "\n",
    "* ## 3 Model Selection \n",
    "        * Cross Validatioin \n",
    "        * print skm_conf_mat\n",
    "\n",
    "* ## 4 Prediction on Random Forests "
   ]
  },
  {
   "cell_type": "markdown",
   "metadata": {},
   "source": [
    "## 0. Introduction \n",
    "\n",
    "* Question: \n",
    "How we can use Sentiment Analysis on comments to further predict viewers' ratings? \n",
    "\n",
    "* Source: \n",
    "A Japanese anime, from Chinese viewing website called bilibili.com, which went IPO in NY Exchange as ticker (BILI). The reviews are scrapped from the website using JSON and till the end of the date of May 6, 2019. \n",
    "\n",
    "* Deliverables: cvs.file on predicting Ratings \n",
    "\n",
    "## Note: \n",
    "Test data is split half (train/test) and then 70-30, containing 2258 comments. "
   ]
  },
  {
   "cell_type": "markdown",
   "metadata": {},
   "source": [
    "### 0.1 Import Libraries "
   ]
  },
  {
   "cell_type": "code",
   "execution_count": 1,
   "metadata": {},
   "outputs": [],
   "source": [
    "import os \n",
    "import sys \n",
    "import re\n",
    "\n",
    "import scipy\n",
    "import numpy as np\n",
    "import pandas as pd\n",
    "import jieba.analyse\n",
    "from wordcloud import WordCloud, STOPWORDS, ImageColorGenerator\n",
    "import matplotlib.pyplot as plt\n",
    "from matplotlib.font_manager import FontProperties\n",
    "\n",
    "# import sklearn modules \n",
    "import sklearn.metrics as skm\n",
    "import sklearn.model_selection\n",
    "import sklearn.preprocessing\n",
    "from sklearn.model_selection import train_test_split\n",
    "from sklearn.metrics import confusion_matrix as skm_conf_mat\n",
    "from collections import Counter\n",
    "from collections import defaultdict"
   ]
  },
  {
   "cell_type": "markdown",
   "metadata": {},
   "source": [
    "### 0.2 Loading the Dataset"
   ]
  },
  {
   "cell_type": "code",
   "execution_count": 2,
   "metadata": {},
   "outputs": [],
   "source": [
    "datas = pd.read_csv(\"./bilibilib_gongzuoxibao.csv\", sep = \",\")"
   ]
  },
  {
   "cell_type": "markdown",
   "metadata": {},
   "source": [
    "## 1. Exploratory Data Analysis \n",
    "### 1.1. Data Exploration "
   ]
  },
  {
   "cell_type": "code",
   "execution_count": 3,
   "metadata": {
    "scrolled": true
   },
   "outputs": [
    {
     "name": "stdout",
     "output_type": "stream",
     "text": [
      "Index(['author', 'score', 'disliked', 'likes', 'liked', 'ctime', 'content',\n",
      "       'last_ep_index', 'cursor', 'date'],\n",
      "      dtype='object')\n"
     ]
    }
   ],
   "source": [
    "colnames = datas.columns\n",
    "print(colnames) # author, score, disliked, likes, liked, ctime, score.1, content, last_ex_index, cursor, date"
   ]
  },
  {
   "cell_type": "code",
   "execution_count": 4,
   "metadata": {},
   "outputs": [
    {
     "data": {
      "text/plain": [
       "(19063, 10)"
      ]
     },
     "execution_count": 4,
     "metadata": {},
     "output_type": "execute_result"
    }
   ],
   "source": [
    "datas.shape"
   ]
  },
  {
   "cell_type": "code",
   "execution_count": 5,
   "metadata": {},
   "outputs": [
    {
     "data": {
      "text/html": [
       "<div>\n",
       "<style scoped>\n",
       "    .dataframe tbody tr th:only-of-type {\n",
       "        vertical-align: middle;\n",
       "    }\n",
       "\n",
       "    .dataframe tbody tr th {\n",
       "        vertical-align: top;\n",
       "    }\n",
       "\n",
       "    .dataframe thead th {\n",
       "        text-align: right;\n",
       "    }\n",
       "</style>\n",
       "<table border=\"1\" class=\"dataframe\">\n",
       "  <thead>\n",
       "    <tr style=\"text-align: right;\">\n",
       "      <th></th>\n",
       "      <th>author</th>\n",
       "      <th>score</th>\n",
       "      <th>disliked</th>\n",
       "      <th>likes</th>\n",
       "      <th>liked</th>\n",
       "      <th>ctime</th>\n",
       "      <th>content</th>\n",
       "      <th>last_ep_index</th>\n",
       "      <th>cursor</th>\n",
       "      <th>date</th>\n",
       "    </tr>\n",
       "  </thead>\n",
       "  <tbody>\n",
       "    <tr>\n",
       "      <th>0</th>\n",
       "      <td>緖山まひろ</td>\n",
       "      <td>10</td>\n",
       "      <td>0</td>\n",
       "      <td>9981</td>\n",
       "      <td>0</td>\n",
       "      <td>1530982477</td>\n",
       "      <td>我有个想法，动物体内的细胞会不会是兽耳呢d(ŐдŐ๑)</td>\n",
       "      <td>0</td>\n",
       "      <td>77395314810369</td>\n",
       "      <td>2018-07-07 16:54:37</td>\n",
       "    </tr>\n",
       "    <tr>\n",
       "      <th>1</th>\n",
       "      <td>onlylove丶亚丝娜</td>\n",
       "      <td>10</td>\n",
       "      <td>0</td>\n",
       "      <td>1</td>\n",
       "      <td>0</td>\n",
       "      <td>1557139155</td>\n",
       "      <td>题材新颖</td>\n",
       "      <td>0</td>\n",
       "      <td>77395314810369</td>\n",
       "      <td>2019-05-06 10:39:15</td>\n",
       "    </tr>\n",
       "    <tr>\n",
       "      <th>2</th>\n",
       "      <td>AKAHANE_铃木羽</td>\n",
       "      <td>10</td>\n",
       "      <td>0</td>\n",
       "      <td>3</td>\n",
       "      <td>0</td>\n",
       "      <td>1556947242</td>\n",
       "      <td>坐等第二季！！表白白细胞∠( ᐛ 」∠)＿</td>\n",
       "      <td>0</td>\n",
       "      <td>77395314810369</td>\n",
       "      <td>2019-05-04 05:20:42</td>\n",
       "    </tr>\n",
       "    <tr>\n",
       "      <th>3</th>\n",
       "      <td>妖怪退散</td>\n",
       "      <td>10</td>\n",
       "      <td>0</td>\n",
       "      <td>0</td>\n",
       "      <td>0</td>\n",
       "      <td>1557182714</td>\n",
       "      <td>好看，推荐</td>\n",
       "      <td>0</td>\n",
       "      <td>77395314810369</td>\n",
       "      <td>2019-05-06 22:45:14</td>\n",
       "    </tr>\n",
       "    <tr>\n",
       "      <th>4</th>\n",
       "      <td>受虎大王</td>\n",
       "      <td>10</td>\n",
       "      <td>0</td>\n",
       "      <td>0</td>\n",
       "      <td>0</td>\n",
       "      <td>1557118709</td>\n",
       "      <td>涨知识</td>\n",
       "      <td>0</td>\n",
       "      <td>77395314810369</td>\n",
       "      <td>2019-05-06 04:58:29</td>\n",
       "    </tr>\n",
       "  </tbody>\n",
       "</table>\n",
       "</div>"
      ],
      "text/plain": [
       "         author  score  disliked  likes  liked       ctime  \\\n",
       "0         緖山まひろ     10         0   9981      0  1530982477   \n",
       "1  onlylove丶亚丝娜     10         0      1      0  1557139155   \n",
       "2   AKAHANE_铃木羽     10         0      3      0  1556947242   \n",
       "3          妖怪退散     10         0      0      0  1557182714   \n",
       "4          受虎大王     10         0      0      0  1557118709   \n",
       "\n",
       "                       content last_ep_index          cursor  \\\n",
       "0  我有个想法，动物体内的细胞会不会是兽耳呢d(ŐдŐ๑)             0  77395314810369   \n",
       "1                         题材新颖             0  77395314810369   \n",
       "2        坐等第二季！！表白白细胞∠( ᐛ 」∠)＿             0  77395314810369   \n",
       "3                        好看，推荐             0  77395314810369   \n",
       "4                          涨知识             0  77395314810369   \n",
       "\n",
       "                  date  \n",
       "0  2018-07-07 16:54:37  \n",
       "1  2019-05-06 10:39:15  \n",
       "2  2019-05-04 05:20:42  \n",
       "3  2019-05-06 22:45:14  \n",
       "4  2019-05-06 04:58:29  "
      ]
     },
     "execution_count": 5,
     "metadata": {},
     "output_type": "execute_result"
    }
   ],
   "source": [
    "datas.head()"
   ]
  },
  {
   "cell_type": "markdown",
   "metadata": {},
   "source": [
    "#### 1.1.1 Rating Frequency Table"
   ]
  },
  {
   "cell_type": "code",
   "execution_count": 6,
   "metadata": {
    "scrolled": true
   },
   "outputs": [
    {
     "data": {
      "text/plain": [
       "10    17480\n",
       "8       933\n",
       "6       292\n",
       "2       272\n",
       "4        86\n",
       "Name: score, dtype: int64"
      ]
     },
     "execution_count": 6,
     "metadata": {},
     "output_type": "execute_result"
    }
   ],
   "source": [
    "datas['score'].value_counts()"
   ]
  },
  {
   "cell_type": "code",
   "execution_count": 7,
   "metadata": {},
   "outputs": [
    {
     "data": {
      "image/png": "[encoded data removed]",
      "text/plain": [
       "<Figure size 432x288 with 1 Axes>"
      ]
     },
     "metadata": {
      "needs_background": "light"
     },
     "output_type": "display_data"
    }
   ],
   "source": [
    "x = list(sorted(datas['score'].unique()))\n",
    "y = list(datas['score'].value_counts())[::-1]\n",
    "plt.bar(x,y, color='orange')\n",
    "plt.xlabel('Score')\n",
    "plt.ylabel('')\n",
    "plt.title('Rating Frequencies')\n",
    "plt.show()"
   ]
  },
  {
   "cell_type": "code",
   "execution_count": 8,
   "metadata": {},
   "outputs": [
    {
     "name": "stderr",
     "output_type": "stream",
     "text": [
      "Building prefix dict from the default dictionary ...\n",
      "Dumping model to file cache /var/folders/xs/nq7vm8r13hz0xx2101tsfxlc0000gn/T/jieba.cache\n",
      "Loading model cost 1.093 seconds.\n",
      "Prefix dict has been built successfully.\n"
     ]
    }
   ],
   "source": [
    "#%% Content Analysis \n",
    "texts = ';'.join(datas['content'].tolist())\n",
    "cut_text = \" \".join(jieba.cut(texts))\n",
    "# TF_IDF\n",
    "keywords = jieba.analyse.extract_tags(cut_text, topK=100, withWeight=True, allowPOS=('a','e','n','nr','ns'))\n",
    "text_cloud = dict(keywords)\n",
    "###pd.DataFrame(keywords).to_excel('TF_IDF关键词前100.xlsx')"
   ]
  },
  {
   "cell_type": "code",
   "execution_count": 9,
   "metadata": {
    "scrolled": true
   },
   "outputs": [],
   "source": [
    "# Remove all punctuation and expression marks \n",
    "temp =  \"\\\\【.*?】+|\\\\《.*?》+|\\\\#.*?#+|[.!/_,$&%^*()<>+\"\"'?@|:~{}#]+|[——！\\\\\\，。=？、：“”‘’￥……（）《》【】]\"\n",
    "cut_text = re.sub(pattern = temp, repl = \"\", string = cut_text)"
   ]
  },
  {
   "cell_type": "markdown",
   "metadata": {},
   "source": [
    "#### cannot open Word Cloud picture "
   ]
  },
  {
   "cell_type": "markdown",
   "metadata": {},
   "source": [
    "### 1.2. Data Cleaning "
   ]
  },
  {
   "cell_type": "code",
   "execution_count": 10,
   "metadata": {},
   "outputs": [
    {
     "data": {
      "text/plain": [
       "author     0\n",
       "score      0\n",
       "content    0\n",
       "date       0\n",
       "dtype: int64"
      ]
     },
     "execution_count": 10,
     "metadata": {},
     "output_type": "execute_result"
    }
   ],
   "source": [
    "del datas['ctime']\n",
    "del datas['cursor']\n",
    "del datas['liked']\n",
    "del datas['disliked']\n",
    "del datas['likes']\n",
    "del datas['last_ep_index']\n",
    "pd.isnull(datas).astype(int).aggregate(sum, axis = 0)"
   ]
  },
  {
   "cell_type": "markdown",
   "metadata": {},
   "source": [
    "### 1.3. Data Split"
   ]
  },
  {
   "cell_type": "code",
   "execution_count": 11,
   "metadata": {},
   "outputs": [],
   "source": [
    "perfect = datas[datas.score == 10]\n",
    "imperfect = datas[datas.score != 10]\n",
    "perfect_sample = perfect.sample(n = 1583, random_state = 1 )\n",
    "new_data = pd.concat([perfect_sample, imperfect], axis = 0)\n",
    "\n",
    "features = new_data['content']\n",
    "labels = new_data['score']"
   ]
  },
  {
   "cell_type": "code",
   "execution_count": 12,
   "metadata": {},
   "outputs": [
    {
     "name": "stdout",
     "output_type": "stream",
     "text": [
      "\t\t\tFeature Shapes:\n",
      "Train set: \t\t(2216,) \n",
      "Test set: \t\t(950,)\n"
     ]
    }
   ],
   "source": [
    "rTrain, rTest, y_train, y_test = train_test_split(features, labels, test_size = 0.3, random_state=42)\n",
    "# let's understand up a bit the data\n",
    "## print out the shapes of  resultant feature data\n",
    "print(\"\\t\\t\\tFeature Shapes:\")\n",
    "print(\"Train set: \\t\\t{}\".format(rTrain.shape), \n",
    "      #\"\\nValidation set: \\t{}\".format(rValidation.shape),\n",
    "      \"\\nTest set: \\t\\t{}\".format(rTest.shape))"
   ]
  },
  {
   "cell_type": "markdown",
   "metadata": {},
   "source": [
    "### 1.4. Frequency Table for Top 100 "
   ]
  },
  {
   "cell_type": "code",
   "execution_count": 13,
   "metadata": {},
   "outputs": [
    {
     "data": {
      "text/plain": [
       "['血小板',\n",
       " '细胞',\n",
       " '剧情',\n",
       " '不错',\n",
       " '有趣',\n",
       " '感觉',\n",
       " '动画',\n",
       " '啊啊啊',\n",
       " '生物',\n",
       " '身体',\n",
       " '动漫',\n",
       " '番剧',\n",
       " '新颖',\n",
       " '有点',\n",
       " '无聊',\n",
       " '白细胞',\n",
       " '红细胞',\n",
       " '很棒',\n",
       " '题材',\n",
       " '白血球',\n",
       " '画风',\n",
       " '香菜',\n",
       " '脑洞',\n",
       " '癌细胞',\n",
       " '优秀',\n",
       " '作品',\n",
       " '拟人化',\n",
       " '意义',\n",
       " '单身',\n",
       " '漫画',\n",
       " '老婆',\n",
       " '热血',\n",
       " '很好',\n",
       " '弹幕',\n",
       " '陪伴',\n",
       " '硬核',\n",
       " '赛高',\n",
       " '超棒',\n",
       " '声优',\n",
       " '一般',\n",
       " '会员',\n",
       " '安利',\n",
       " '时候',\n",
       " '套路',\n",
       " '作画',\n",
       " '故事',\n",
       " '科普性',\n",
       " '文科生',\n",
       " '理科生',\n",
       " '卡哇伊',\n",
       " '人物',\n",
       " '棒棒',\n",
       " '评分',\n",
       " '细菌',\n",
       " '人体',\n",
       " '大家',\n",
       " '霸权',\n",
       " '红血球',\n",
       " '内容',\n",
       " '新意',\n",
       " '科普知识',\n",
       " '总体',\n",
       " '亮点',\n",
       " '白哥',\n",
       " '情节',\n",
       " '良心',\n",
       " '谢谢',\n",
       " '地方',\n",
       " '生物学',\n",
       " '角色',\n",
       " '医学生',\n",
       " '迷路',\n",
       " '个人',\n",
       " '方式',\n",
       " '路痴',\n",
       " '轻松',\n",
       " '画面',\n",
       " '老少皆宜',\n",
       " '学生',\n",
       " '好好看',\n",
       " '兴趣',\n",
       " '节奏',\n",
       " '方面',\n",
       " '完美',\n",
       " '简单',\n",
       " '拟人',\n",
       " '尴尬',\n",
       " '精良',\n",
       " '一星',\n",
       " '作者',\n",
       " '真棒',\n",
       " '姿势',\n",
       " '厉害',\n",
       " '帅气',\n",
       " '国漫',\n",
       " '制作组',\n",
       " '女主',\n",
       " '主人',\n",
       " '整体',\n",
       " '生病']"
      ]
     },
     "execution_count": 13,
     "metadata": {},
     "output_type": "execute_result"
    }
   ],
   "source": [
    "texts = '\\n'.join(rTrain.tolist())\n",
    "#cut_text = jieba.lcut(texts)\n",
    "cut_text = \"\".join(jieba.cut(texts))\n",
    "cut_text = re.sub(pattern = temp, repl = \"\", string = cut_text)\n",
    "\n",
    "keyword = jieba.analyse.extract_tags(cut_text, topK=100, allowPOS=('a','e','n','nr','ns'))  # list\n",
    "cut_text = cut_text.split('\\n')\n",
    "keyword"
   ]
  },
  {
   "cell_type": "code",
   "execution_count": 14,
   "metadata": {
    "scrolled": true
   },
   "outputs": [],
   "source": [
    "cutlist = []\n",
    "\n",
    "for i in range(0, len(cut_text)):\n",
    "    cut_dic = defaultdict(int) \n",
    "    comment = cut_text[i]\n",
    "    comment_cut = jieba.lcut(comment)\n",
    "    for word in comment_cut: # word freq for every comment \n",
    "        if word in keyword:\n",
    "            cut_dic[word] += 1  \n",
    "    order = sorted(cut_dic.items(),key = lambda x:x[1],reverse = True) # word freq in descending order\n",
    "    #print(order)\n",
    " \n",
    "    myresult = \"\" \n",
    "    for j in range(0,len(order)): \n",
    "        result = order[j][0]+ \"-\" + str(order[j][1])\n",
    "        myresult = myresult + \" \" + result  \n",
    "    cutlist.append(myresult)\n",
    "#print(cutlist)"
   ]
  },
  {
   "cell_type": "code",
   "execution_count": 15,
   "metadata": {},
   "outputs": [],
   "source": [
    "word_freqs = []\n",
    "for raw in cutlist:\n",
    "    word_freq = {}\n",
    "    for word_freq_raw in raw.split():\n",
    "        index = word_freq_raw.find('-')\n",
    "        word = word_freq_raw[:index]\n",
    "        freq = int(word_freq_raw[index + 1])\n",
    "        word_freq[word] = freq\n",
    "    word_freqs.append(word_freq)\n",
    "    \n",
    "matrix = []\n",
    "for word_freq in word_freqs:\n",
    "    row = []\n",
    "    for word in keyword:\n",
    "        if word in word_freq:\n",
    "            row.append(word_freq[word])\n",
    "        else:\n",
    "            row.append(0)\n",
    "    matrix.append(row)\n",
    "#print(matrix)\n",
    "matrix = np.array(matrix)"
   ]
  },
  {
   "cell_type": "markdown",
   "metadata": {},
   "source": [
    "### 1.5. Import Sentiment Weights \n",
    "> X_rTrain"
   ]
  },
  {
   "cell_type": "code",
   "execution_count": 16,
   "metadata": {},
   "outputs": [],
   "source": [
    "grade1 = np.array([0.1\n",
    ",0\n",
    ",0\n",
    ",0.7\n",
    ",0.8\n",
    ",0.1\n",
    ",0\n",
    ",0.3\n",
    ",0\n",
    ",0\n",
    ",0\n",
    ",0\n",
    ",0.6\n",
    ",0.1\n",
    ",-1\n",
    ",0\n",
    ",0\n",
    ",1\n",
    ",0\n",
    ",0\n",
    ",0\n",
    ",0.5\n",
    ",-0.3\n",
    ",-0.1\n",
    ",0.8\n",
    ",0\n",
    ",0.4\n",
    ",0\n",
    ",0\n",
    ",0\n",
    ",0.6\n",
    ",0.6\n",
    ",0.8\n",
    ",0\n",
    ",0.6\n",
    ",0.4\n",
    ",0.6\n",
    ",1\n",
    ",0\n",
    ",-0.7\n",
    ",0\n",
    ",0.9\n",
    ",0\n",
    ",-0.2\n",
    ",0\n",
    ",0\n",
    ",0\n",
    ",0\n",
    ",0\n",
    ",0.7\n",
    ",0\n",
    ",1\n",
    ",0\n",
    ",0\n",
    ",0\n",
    ",0\n",
    ",-0.2\n",
    ",0\n",
    ",0\n",
    ",0.6\n",
    ",0.1\n",
    ",0\n",
    ",0.6\n",
    ",0.3\n",
    ",0\n",
    ",0.7\n",
    ",0.7\n",
    ",0\n",
    ",0\n",
    ",0\n",
    ",0\n",
    ",0\n",
    ",0\n",
    ",0\n",
    ",0\n",
    ",0.4\n",
    ",0\n",
    ",0.6\n",
    ",0\n",
    ",1\n",
    ",0.6\n",
    ",0\n",
    ",0\n",
    ",1\n",
    ",0.4\n",
    ",0.2\n",
    ",-1\n",
    ",0.8\n",
    ",-1\n",
    ",0\n",
    ",1\n",
    ",0\n",
    ",0.9\n",
    ",0.7\n",
    ",-0.3\n",
    ",0\n",
    ",0.2\n",
    ",0\n",
    ",0\n",
    ",0])"
   ]
  },
  {
   "cell_type": "code",
   "execution_count": 17,
   "metadata": {},
   "outputs": [],
   "source": [
    "X = np.array(matrix) * grade1"
   ]
  },
  {
   "cell_type": "markdown",
   "metadata": {},
   "source": [
    "## 2. Train Model \n",
    "### 2.1. Logistic Regression"
   ]
  },
  {
   "cell_type": "code",
   "execution_count": 18,
   "metadata": {},
   "outputs": [
    {
     "data": {
      "text/plain": [
       "0.5342960288808665"
      ]
     },
     "execution_count": 18,
     "metadata": {},
     "output_type": "execute_result"
    }
   ],
   "source": [
    "# import Logistic model\n",
    "from sklearn.linear_model import LogisticRegression\n",
    "from sklearn.linear_model import LogisticRegressionCV\n",
    "\n",
    "clf = LogisticRegression(random_state=0, solver='lbfgs',multi_class='multinomial').fit(X, y_train)\n",
    "clf.score(X, y_train)"
   ]
  },
  {
   "cell_type": "code",
   "execution_count": 19,
   "metadata": {},
   "outputs": [
    {
     "data": {
      "text/plain": [
       "array([ 2,  6,  8, 10])"
      ]
     },
     "execution_count": 19,
     "metadata": {},
     "output_type": "execute_result"
    }
   ],
   "source": [
    "np.unique(clf.predict(X))"
   ]
  },
  {
   "cell_type": "markdown",
   "metadata": {},
   "source": [
    "### 2.2 Gaussian Naive Bayes"
   ]
  },
  {
   "cell_type": "code",
   "execution_count": 20,
   "metadata": {},
   "outputs": [
    {
     "data": {
      "text/plain": [
       "0.08664259927797834"
      ]
     },
     "execution_count": 20,
     "metadata": {},
     "output_type": "execute_result"
    }
   ],
   "source": [
    "#Import Library of Gaussian Naive Bayes model\n",
    "from sklearn.naive_bayes import GaussianNB\n",
    "gnb = GaussianNB()\n",
    "\n",
    "gnb.fit(X, y_train)\n",
    "gnb.score(X,y_train)"
   ]
  },
  {
   "cell_type": "code",
   "execution_count": 21,
   "metadata": {
    "scrolled": true
   },
   "outputs": [
    {
     "data": {
      "text/plain": [
       "array([ 2,  4,  6,  8, 10])"
      ]
     },
     "execution_count": 21,
     "metadata": {},
     "output_type": "execute_result"
    }
   ],
   "source": [
    "np.unique(gnb.predict(X))"
   ]
  },
  {
   "cell_type": "markdown",
   "metadata": {},
   "source": [
    "### 2.3 Random Forests "
   ]
  },
  {
   "cell_type": "code",
   "execution_count": 22,
   "metadata": {},
   "outputs": [
    {
     "data": {
      "text/plain": [
       "0.5234657039711191"
      ]
     },
     "execution_count": 22,
     "metadata": {},
     "output_type": "execute_result"
    }
   ],
   "source": [
    "from sklearn.ensemble import RandomForestClassifier as RFClass\n",
    "model_rf = RFClass(n_estimators = 100, max_depth=5, random_state=2019)\n",
    "model_rf.fit(X, y_train)\n",
    "model_rf.score(X, y_train)"
   ]
  },
  {
   "cell_type": "code",
   "execution_count": 23,
   "metadata": {
    "scrolled": true
   },
   "outputs": [
    {
     "data": {
      "text/plain": [
       "array([ 2,  4,  6,  8, 10])"
      ]
     },
     "execution_count": 23,
     "metadata": {},
     "output_type": "execute_result"
    }
   ],
   "source": [
    "np.unique(gnb.predict(X))"
   ]
  },
  {
   "cell_type": "markdown",
   "metadata": {},
   "source": [
    "## 3. Model Selection\n",
    "> Import rTest"
   ]
  },
  {
   "cell_type": "code",
   "execution_count": 24,
   "metadata": {
    "scrolled": true
   },
   "outputs": [
    {
     "data": {
      "text/plain": [
       "['血小板',\n",
       " '细胞',\n",
       " '剧情',\n",
       " '不错',\n",
       " '啊啊啊',\n",
       " '动画',\n",
       " '生物',\n",
       " '有趣',\n",
       " '香菜',\n",
       " '身体',\n",
       " '有点',\n",
       " '感觉',\n",
       " '白细胞',\n",
       " '动漫',\n",
       " '很棒',\n",
       " '无聊',\n",
       " '声优',\n",
       " '红细胞',\n",
       " '题材',\n",
       " '拟人化',\n",
       " '番剧',\n",
       " '新颖',\n",
       " '白血球',\n",
       " '赛高',\n",
       " '作品',\n",
       " '意义',\n",
       " '超棒',\n",
       " '漫画',\n",
       " '很好',\n",
       " '癌细胞',\n",
       " '会员',\n",
       " '评分',\n",
       " '女主',\n",
       " '时候',\n",
       " '作画',\n",
       " '弹幕',\n",
       " '陪伴',\n",
       " '老婆',\n",
       " '肥宅',\n",
       " '细菌',\n",
       " '人物',\n",
       " '人体',\n",
       " '学生',\n",
       " '红血球',\n",
       " '硬核',\n",
       " '棒棒',\n",
       " '血腥',\n",
       " '配音',\n",
       " '一般',\n",
       " '安利',\n",
       " '枯燥',\n",
       " '轻松',\n",
       " '科普知识',\n",
       " '套路',\n",
       " '脑洞',\n",
       " '新意',\n",
       " '画风',\n",
       " '拟人',\n",
       " '单身',\n",
       " '大家',\n",
       " '个人',\n",
       " '故事',\n",
       " '看点',\n",
       " '科普性',\n",
       " '兴趣',\n",
       " '意思',\n",
       " '严谨',\n",
       " '恶心',\n",
       " '形象',\n",
       " '医学生',\n",
       " '佳作',\n",
       " '阵容',\n",
       " '文科生',\n",
       " '虚高',\n",
       " '花泽',\n",
       " '番会',\n",
       " '珍惜',\n",
       " '老套',\n",
       " '节奏',\n",
       " '树突',\n",
       " '贫穷',\n",
       " '场景',\n",
       " '谢谢你们',\n",
       " '用心',\n",
       " '老师',\n",
       " '精彩',\n",
       " '观感',\n",
       " '刻画',\n",
       " '理由',\n",
       " '内容',\n",
       " '现实',\n",
       " '亮点',\n",
       " '豪华',\n",
       " '谢谢',\n",
       " '观众',\n",
       " '角色',\n",
       " '精良',\n",
       " '科学',\n",
       " '卡哇伊',\n",
       " '美化']"
      ]
     },
     "execution_count": 24,
     "metadata": {},
     "output_type": "execute_result"
    }
   ],
   "source": [
    "texts = '\\n'.join(rTest.tolist())\n",
    "#cut_text = jieba.lcut(texts)\n",
    "cut_text = \"\".join(jieba.cut(texts))\n",
    "cut_text = re.sub(pattern = temp, repl = \"\", string = cut_text)\n",
    "\n",
    "keyword = jieba.analyse.extract_tags(cut_text, topK=100, allowPOS=('a','e','n','nr','ns'))  # list\n",
    "cut_text = cut_text.split('\\n')\n",
    "keyword"
   ]
  },
  {
   "cell_type": "code",
   "execution_count": 25,
   "metadata": {},
   "outputs": [],
   "source": [
    "cutlist = []\n",
    "\n",
    "for i in range(0, len(cut_text)):\n",
    "    cut_dic = defaultdict(int) \n",
    "    comment = cut_text[i]\n",
    "    comment_cut = jieba.lcut(comment)\n",
    "    for word in comment_cut: # word freq for every comment \n",
    "        if word in keyword:\n",
    "            cut_dic[word] += 1  \n",
    "    order = sorted(cut_dic.items(),key = lambda x:x[1],reverse = True) # word freq in descending order\n",
    "    #print(order)\n",
    " \n",
    "    myresult = \"\" \n",
    "    for j in range(0,len(order)): \n",
    "        result = order[j][0]+ \"-\" + str(order[j][1])\n",
    "        myresult = myresult + \" \" + result  \n",
    "    cutlist.append(myresult)\n",
    "#print(cutlist)"
   ]
  },
  {
   "cell_type": "code",
   "execution_count": 26,
   "metadata": {},
   "outputs": [],
   "source": [
    "word_freqs = []\n",
    "for raw in cutlist:\n",
    "    word_freq = {}\n",
    "    for word_freq_raw in raw.split():\n",
    "        index = word_freq_raw.find('-')\n",
    "        word = word_freq_raw[:index]\n",
    "        freq = int(word_freq_raw[index + 1])\n",
    "        word_freq[word] = freq\n",
    "    word_freqs.append(word_freq)\n",
    "    \n",
    "matrix = []\n",
    "for word_freq in word_freqs:\n",
    "    row = []\n",
    "    for word in keyword:\n",
    "        if word in word_freq:\n",
    "            row.append(word_freq[word])\n",
    "        else:\n",
    "            row.append(0)\n",
    "    matrix.append(row)\n",
    "#print(matrix)\n",
    "matrix = np.array(matrix)"
   ]
  },
  {
   "cell_type": "code",
   "execution_count": 27,
   "metadata": {},
   "outputs": [],
   "source": [
    "grade2 = np.array([0.1\n",
    ",0\n",
    ",0\n",
    ",0.7\n",
    ",0.3\n",
    ",0\n",
    ",0\n",
    ",0.8\n",
    ",0.5\n",
    ",0\n",
    ",0.1\n",
    ",0.1\n",
    ",0\n",
    ",0\n",
    ",1\n",
    ",-1\n",
    ",0\n",
    ",0\n",
    ",0\n",
    ",0.4\n",
    ",0\n",
    ",0.6\n",
    ",0\n",
    ",0.6\n",
    ",0\n",
    ",0\n",
    ",1\n",
    ",0\n",
    ",0.8\n",
    ",-0.1\n",
    ",0\n",
    ",0\n",
    ",0.4\n",
    ",0\n",
    ",0\n",
    ",0\n",
    ",0.6\n",
    ",0.6\n",
    ",-0.4\n",
    ",0\n",
    ",0\n",
    ",0\n",
    ",0\n",
    ",0\n",
    ",0.4\n",
    ",1\n",
    ",-0.6\n",
    ",0\n",
    ",-0.7\n",
    ",0.9\n",
    ",-1\n",
    ",0.4\n",
    ",0.1\n",
    ",-0.2\n",
    ",-0.3\n",
    ",0.6\n",
    ",0\n",
    ",0.2\n",
    ",0\n",
    ",0\n",
    ",0\n",
    ",0\n",
    ",0.2\n",
    ",0\n",
    ",0.6\n",
    ",0\n",
    ",0.5\n",
    ",-1\n",
    ",0\n",
    ",0\n",
    ",0.9\n",
    ",0\n",
    ",0\n",
    ",-0.6\n",
    ",0.1\n",
    ",0\n",
    ",0.4\n",
    ",-0.8\n",
    ",0\n",
    ",0\n",
    ",-0.3\n",
    ",0\n",
    ",0.7\n",
    ",0.5\n",
    ",0\n",
    ",0.8\n",
    ",0\n",
    ",0\n",
    ",0\n",
    ",0\n",
    ",-0.2\n",
    ",0.6\n",
    ",0.5\n",
    ",0.7\n",
    ",0\n",
    ",0\n",
    ",0.8\n",
    ",0.5\n",
    ",0.7\n",
    ",-0.4])"
   ]
  },
  {
   "cell_type": "code",
   "execution_count": 28,
   "metadata": {},
   "outputs": [
    {
     "data": {
      "text/plain": [
       "(950, 100)"
      ]
     },
     "execution_count": 28,
     "metadata": {},
     "output_type": "execute_result"
    }
   ],
   "source": [
    "xTest = np.array(matrix) * grade2\n",
    "xTest.shape"
   ]
  },
  {
   "cell_type": "markdown",
   "metadata": {},
   "source": [
    "> function confusion matrix"
   ]
  },
  {
   "cell_type": "code",
   "execution_count": 29,
   "metadata": {},
   "outputs": [],
   "source": [
    "def plot_confusion_matrix(cm, classes,\n",
    "                          normalize=False,\n",
    "                          title='Confusion matrix',\n",
    "                          cmap=plt.cm.Blues):\n",
    "    \"\"\"\n",
    "    This function prints and plots the confusion matrix.\n",
    "    Normalization can be applied by setting `normalize=True`.\n",
    "    \"\"\"\n",
    "    plt.imshow(cm, interpolation='nearest', cmap=cmap)\n",
    "    plt.title(title)\n",
    "    plt.colorbar()\n",
    "    tick_marks = np.arange(len(classes))\n",
    "    plt.xticks(tick_marks, classes)\n",
    "    plt.show()\n",
    "\n",
    "np.set_printoptions(precision = 2)"
   ]
  },
  {
   "cell_type": "markdown",
   "metadata": {},
   "source": [
    "### Log prediction"
   ]
  },
  {
   "cell_type": "code",
   "execution_count": 30,
   "metadata": {
    "scrolled": true
   },
   "outputs": [
    {
     "data": {
      "text/plain": [
       "0.5305263157894737"
      ]
     },
     "execution_count": 30,
     "metadata": {},
     "output_type": "execute_result"
    }
   ],
   "source": [
    "clf_proba = clf.predict_proba(xTest)   # predict probability \n",
    "clf_pred = clf.predict(xTest)   # prediction result\n",
    "clf.score(xTest, y_test)"
   ]
  },
  {
   "cell_type": "code",
   "execution_count": 31,
   "metadata": {},
   "outputs": [
    {
     "data": {
      "image/png": "[encoded data removed]",
      "text/plain": [
       "<Figure size 432x288 with 2 Axes>"
      ]
     },
     "metadata": {
      "needs_background": "light"
     },
     "output_type": "display_data"
    }
   ],
   "source": [
    "clf_cm = skm_conf_mat(y_test, clf_pred)\n",
    "plot_confusion_matrix(clf_cm, classes = list(sorted(y_train.unique())), title = 'Confusion Matrix')"
   ]
  },
  {
   "cell_type": "markdown",
   "metadata": {},
   "source": [
    "### Cross Validation"
   ]
  },
  {
   "cell_type": "code",
   "execution_count": 32,
   "metadata": {
    "scrolled": true
   },
   "outputs": [
    {
     "name": "stderr",
     "output_type": "stream",
     "text": [
      "/Users/sherrytp/opt/anaconda3/envs/ml4t/lib/python3.8/site-packages/sklearn/linear_model/_logistic.py:763: ConvergenceWarning: lbfgs failed to converge (status=1):\n",
      "STOP: TOTAL NO. of ITERATIONS REACHED LIMIT.\n",
      "\n",
      "Increase the number of iterations (max_iter) or scale the data as shown in:\n",
      "    https://scikit-learn.org/stable/modules/preprocessing.html\n",
      "Please also refer to the documentation for alternative solver options:\n",
      "    https://scikit-learn.org/stable/modules/linear_model.html#logistic-regression\n",
      "  n_iter_i = _check_optimize_result(\n",
      "/Users/sherrytp/opt/anaconda3/envs/ml4t/lib/python3.8/site-packages/sklearn/linear_model/_logistic.py:763: ConvergenceWarning: lbfgs failed to converge (status=1):\n",
      "STOP: TOTAL NO. of ITERATIONS REACHED LIMIT.\n",
      "\n",
      "Increase the number of iterations (max_iter) or scale the data as shown in:\n",
      "    https://scikit-learn.org/stable/modules/preprocessing.html\n",
      "Please also refer to the documentation for alternative solver options:\n",
      "    https://scikit-learn.org/stable/modules/linear_model.html#logistic-regression\n",
      "  n_iter_i = _check_optimize_result(\n",
      "/Users/sherrytp/opt/anaconda3/envs/ml4t/lib/python3.8/site-packages/sklearn/linear_model/_logistic.py:763: ConvergenceWarning: lbfgs failed to converge (status=1):\n",
      "STOP: TOTAL NO. of ITERATIONS REACHED LIMIT.\n",
      "\n",
      "Increase the number of iterations (max_iter) or scale the data as shown in:\n",
      "    https://scikit-learn.org/stable/modules/preprocessing.html\n",
      "Please also refer to the documentation for alternative solver options:\n",
      "    https://scikit-learn.org/stable/modules/linear_model.html#logistic-regression\n",
      "  n_iter_i = _check_optimize_result(\n",
      "/Users/sherrytp/opt/anaconda3/envs/ml4t/lib/python3.8/site-packages/sklearn/linear_model/_logistic.py:763: ConvergenceWarning: lbfgs failed to converge (status=1):\n",
      "STOP: TOTAL NO. of ITERATIONS REACHED LIMIT.\n",
      "\n",
      "Increase the number of iterations (max_iter) or scale the data as shown in:\n",
      "    https://scikit-learn.org/stable/modules/preprocessing.html\n",
      "Please also refer to the documentation for alternative solver options:\n",
      "    https://scikit-learn.org/stable/modules/linear_model.html#logistic-regression\n",
      "  n_iter_i = _check_optimize_result(\n",
      "/Users/sherrytp/opt/anaconda3/envs/ml4t/lib/python3.8/site-packages/sklearn/linear_model/_logistic.py:763: ConvergenceWarning: lbfgs failed to converge (status=1):\n",
      "STOP: TOTAL NO. of ITERATIONS REACHED LIMIT.\n",
      "\n",
      "Increase the number of iterations (max_iter) or scale the data as shown in:\n",
      "    https://scikit-learn.org/stable/modules/preprocessing.html\n",
      "Please also refer to the documentation for alternative solver options:\n",
      "    https://scikit-learn.org/stable/modules/linear_model.html#logistic-regression\n",
      "  n_iter_i = _check_optimize_result(\n",
      "/Users/sherrytp/opt/anaconda3/envs/ml4t/lib/python3.8/site-packages/sklearn/linear_model/_logistic.py:763: ConvergenceWarning: lbfgs failed to converge (status=1):\n",
      "STOP: TOTAL NO. of ITERATIONS REACHED LIMIT.\n",
      "\n",
      "Increase the number of iterations (max_iter) or scale the data as shown in:\n",
      "    https://scikit-learn.org/stable/modules/preprocessing.html\n",
      "Please also refer to the documentation for alternative solver options:\n",
      "    https://scikit-learn.org/stable/modules/linear_model.html#logistic-regression\n",
      "  n_iter_i = _check_optimize_result(\n"
     ]
    },
    {
     "data": {
      "text/plain": [
       "0.5487364620938628"
      ]
     },
     "execution_count": 32,
     "metadata": {},
     "output_type": "execute_result"
    }
   ],
   "source": [
    "clfcv = LogisticRegressionCV(cv=5, random_state=0, multi_class='multinomial').fit(X, y_train)\n",
    "clfcv.score(X, y_train)"
   ]
  },
  {
   "cell_type": "code",
   "execution_count": 33,
   "metadata": {},
   "outputs": [
    {
     "data": {
      "text/plain": [
       "0.5242105263157895"
      ]
     },
     "execution_count": 33,
     "metadata": {},
     "output_type": "execute_result"
    }
   ],
   "source": [
    "clfcv_proba = clfcv.predict_proba(xTest)\n",
    "clfcv_pred = clfcv.predict(xTest)\n",
    "clfcv.score(xTest, y_test)"
   ]
  },
  {
   "cell_type": "code",
   "execution_count": 34,
   "metadata": {},
   "outputs": [
    {
     "data": {
      "image/png": "[encoded data removed]",
      "text/plain": [
       "<Figure size 432x288 with 2 Axes>"
      ]
     },
     "metadata": {
      "needs_background": "light"
     },
     "output_type": "display_data"
    }
   ],
   "source": [
    "clfcv_cm = skm_conf_mat(y_test, clf_pred)\n",
    "plot_confusion_matrix(clfcv_cm, classes = list(sorted(datas['score'].unique())), title = 'Confusion Matrix')"
   ]
  },
  {
   "cell_type": "markdown",
   "metadata": {},
   "source": [
    "### RF"
   ]
  },
  {
   "cell_type": "code",
   "execution_count": 35,
   "metadata": {},
   "outputs": [
    {
     "data": {
      "text/plain": [
       "0.5189473684210526"
      ]
     },
     "execution_count": 35,
     "metadata": {},
     "output_type": "execute_result"
    }
   ],
   "source": [
    "rf_proba = model_rf.predict_proba(xTest)\n",
    "rf_pred = model_rf.predict(xTest)\n",
    "model_rf.score(xTest, y_test)"
   ]
  },
  {
   "cell_type": "code",
   "execution_count": 36,
   "metadata": {
    "scrolled": true
   },
   "outputs": [
    {
     "data": {
      "image/svg+xml": [
       "<?xml version=\"1.0\" encoding=\"UTF-8\" standalone=\"no\"?>\n",
       "<!DOCTYPE svg PUBLIC \"-//W3C//DTD SVG 1.1//EN\"\n",
       " \"http://www.w3.org/Graphics/SVG/1.1/DTD/svg11.dtd\">\n",
       "<!-- Generated by graphviz version 2.47.1 (0)\n",
       " -->\n",
       "<!-- Title: Tree Pages: 1 -->\n",
       "<svg width=\"1833pt\" height=\"581pt\"\n",
       " viewBox=\"0.00 0.00 1833.00 581.00\" xmlns=\"http://www.w3.org/2000/svg\" xmlns:xlink=\"http://www.w3.org/1999/xlink\">\n",
       "<g id=\"graph0\" class=\"graph\" transform=\"scale(1 1) rotate(0) translate(4 577)\">\n",
       "<title>Tree</title>\n",
       "<polygon fill=\"white\" stroke=\"transparent\" points=\"-4,4 -4,-577 1829,-577 1829,4 -4,4\"/>\n",
       "<!-- 0 -->\n",
       "<g id=\"node1\" class=\"node\">\n",
       "<title>0</title>\n",
       "<polygon fill=\"#f8c7ed\" stroke=\"black\" points=\"1516.5,-573 1266.5,-573 1266.5,-505 1516.5,-505 1516.5,-573\"/>\n",
       "<text text-anchor=\"middle\" x=\"1391.5\" y=\"-557.8\" font-family=\"Times,serif\" font-size=\"14.00\">X[96] &lt;= 0.1</text>\n",
       "<text text-anchor=\"middle\" x=\"1391.5\" y=\"-542.8\" font-family=\"Times,serif\" font-size=\"14.00\">gini = 0.649</text>\n",
       "<text text-anchor=\"middle\" x=\"1391.5\" y=\"-527.8\" font-family=\"Times,serif\" font-size=\"14.00\">samples = 100.0%</text>\n",
       "<text text-anchor=\"middle\" x=\"1391.5\" y=\"-512.8\" font-family=\"Times,serif\" font-size=\"14.00\">value = [0.082, 0.03, 0.095, 0.296, 0.497]</text>\n",
       "</g>\n",
       "<!-- 1 -->\n",
       "<g id=\"node2\" class=\"node\">\n",
       "<title>1</title>\n",
       "<polygon fill=\"#f8c6ed\" stroke=\"black\" points=\"1321,-469 1064,-469 1064,-401 1321,-401 1321,-469\"/>\n",
       "<text text-anchor=\"middle\" x=\"1192.5\" y=\"-453.8\" font-family=\"Times,serif\" font-size=\"14.00\">X[7] &lt;= 0.15</text>\n",
       "<text text-anchor=\"middle\" x=\"1192.5\" y=\"-438.8\" font-family=\"Times,serif\" font-size=\"14.00\">gini = 0.647</text>\n",
       "<text text-anchor=\"middle\" x=\"1192.5\" y=\"-423.8\" font-family=\"Times,serif\" font-size=\"14.00\">samples = 99.7%</text>\n",
       "<text text-anchor=\"middle\" x=\"1192.5\" y=\"-408.8\" font-family=\"Times,serif\" font-size=\"14.00\">value = [0.081, 0.029, 0.095, 0.297, 0.498]</text>\n",
       "</g>\n",
       "<!-- 0&#45;&gt;1 -->\n",
       "<g id=\"edge1\" class=\"edge\">\n",
       "<title>0&#45;&gt;1</title>\n",
       "<path fill=\"none\" stroke=\"black\" d=\"M1326.89,-504.88C1307.5,-494.95 1286.09,-483.97 1266.16,-473.76\"/>\n",
       "<polygon fill=\"black\" stroke=\"black\" points=\"1267.62,-470.57 1257.13,-469.12 1264.43,-476.8 1267.62,-470.57\"/>\n",
       "<text text-anchor=\"middle\" x=\"1264.79\" y=\"-489.22\" font-family=\"Times,serif\" font-size=\"14.00\">True</text>\n",
       "</g>\n",
       "<!-- 18 -->\n",
       "<g id=\"node19\" class=\"node\">\n",
       "<title>18</title>\n",
       "<polygon fill=\"#ffffff\" stroke=\"black\" points=\"1606,-469 1419,-469 1419,-401 1606,-401 1606,-469\"/>\n",
       "<text text-anchor=\"middle\" x=\"1512.5\" y=\"-453.8\" font-family=\"Times,serif\" font-size=\"14.00\">X[31] &lt;= 0.3</text>\n",
       "<text text-anchor=\"middle\" x=\"1512.5\" y=\"-438.8\" font-family=\"Times,serif\" font-size=\"14.00\">gini = 0.64</text>\n",
       "<text text-anchor=\"middle\" x=\"1512.5\" y=\"-423.8\" font-family=\"Times,serif\" font-size=\"14.00\">samples = 0.3%</text>\n",
       "<text text-anchor=\"middle\" x=\"1512.5\" y=\"-408.8\" font-family=\"Times,serif\" font-size=\"14.00\">value = [0.4, 0.2, 0.4, 0.0, 0.0]</text>\n",
       "</g>\n",
       "<!-- 0&#45;&gt;18 -->\n",
       "<g id=\"edge18\" class=\"edge\">\n",
       "<title>0&#45;&gt;18</title>\n",
       "<path fill=\"none\" stroke=\"black\" d=\"M1430.79,-504.88C1441.77,-495.62 1453.83,-485.45 1465.23,-475.85\"/>\n",
       "<polygon fill=\"black\" stroke=\"black\" points=\"1467.61,-478.42 1473,-469.3 1463.1,-473.07 1467.61,-478.42\"/>\n",
       "<text text-anchor=\"middle\" x=\"1470.88\" y=\"-490.51\" font-family=\"Times,serif\" font-size=\"14.00\">False</text>\n",
       "</g>\n",
       "<!-- 2 -->\n",
       "<g id=\"node3\" class=\"node\">\n",
       "<title>2</title>\n",
       "<polygon fill=\"#f8c8ee\" stroke=\"black\" points=\"980.5,-365 730.5,-365 730.5,-297 980.5,-297 980.5,-365\"/>\n",
       "<text text-anchor=\"middle\" x=\"855.5\" y=\"-349.8\" font-family=\"Times,serif\" font-size=\"14.00\">X[34] &lt;= 0.3</text>\n",
       "<text text-anchor=\"middle\" x=\"855.5\" y=\"-334.8\" font-family=\"Times,serif\" font-size=\"14.00\">gini = 0.65</text>\n",
       "<text text-anchor=\"middle\" x=\"855.5\" y=\"-319.8\" font-family=\"Times,serif\" font-size=\"14.00\">samples = 98.4%</text>\n",
       "<text text-anchor=\"middle\" x=\"855.5\" y=\"-304.8\" font-family=\"Times,serif\" font-size=\"14.00\">value = [0.081, 0.03, 0.096, 0.299, 0.494]</text>\n",
       "</g>\n",
       "<!-- 1&#45;&gt;2 -->\n",
       "<g id=\"edge2\" class=\"edge\">\n",
       "<title>1&#45;&gt;2</title>\n",
       "<path fill=\"none\" stroke=\"black\" d=\"M1083.09,-400.88C1048.39,-390.38 1009.87,-378.72 974.53,-368.03\"/>\n",
       "<polygon fill=\"black\" stroke=\"black\" points=\"975.24,-364.58 964.65,-365.04 973.21,-371.28 975.24,-364.58\"/>\n",
       "</g>\n",
       "<!-- 11 -->\n",
       "<g id=\"node12\" class=\"node\">\n",
       "<title>11</title>\n",
       "<polygon fill=\"#e954c9\" stroke=\"black\" points=\"1307,-365 1078,-365 1078,-297 1307,-297 1307,-365\"/>\n",
       "<text text-anchor=\"middle\" x=\"1192.5\" y=\"-349.8\" font-family=\"Times,serif\" font-size=\"14.00\">X[0] &lt;= 0.05</text>\n",
       "<text text-anchor=\"middle\" x=\"1192.5\" y=\"-334.8\" font-family=\"Times,serif\" font-size=\"14.00\">gini = 0.226</text>\n",
       "<text text-anchor=\"middle\" x=\"1192.5\" y=\"-319.8\" font-family=\"Times,serif\" font-size=\"14.00\">samples = 1.3%</text>\n",
       "<text text-anchor=\"middle\" x=\"1192.5\" y=\"-304.8\" font-family=\"Times,serif\" font-size=\"14.00\">value = [0.042, 0.0, 0.0, 0.083, 0.875]</text>\n",
       "</g>\n",
       "<!-- 1&#45;&gt;11 -->\n",
       "<g id=\"edge11\" class=\"edge\">\n",
       "<title>1&#45;&gt;11</title>\n",
       "<path fill=\"none\" stroke=\"black\" d=\"M1192.5,-400.88C1192.5,-392.78 1192.5,-383.98 1192.5,-375.47\"/>\n",
       "<polygon fill=\"black\" stroke=\"black\" points=\"1196,-375.3 1192.5,-365.3 1189,-375.3 1196,-375.3\"/>\n",
       "</g>\n",
       "<!-- 3 -->\n",
       "<g id=\"node4\" class=\"node\">\n",
       "<title>3</title>\n",
       "<polygon fill=\"#f8caee\" stroke=\"black\" points=\"744,-261 501,-261 501,-193 744,-193 744,-261\"/>\n",
       "<text text-anchor=\"middle\" x=\"622.5\" y=\"-245.8\" font-family=\"Times,serif\" font-size=\"14.00\">X[3] &lt;= 0.35</text>\n",
       "<text text-anchor=\"middle\" x=\"622.5\" y=\"-230.8\" font-family=\"Times,serif\" font-size=\"14.00\">gini = 0.652</text>\n",
       "<text text-anchor=\"middle\" x=\"622.5\" y=\"-215.8\" font-family=\"Times,serif\" font-size=\"14.00\">samples = 97.7%</text>\n",
       "<text text-anchor=\"middle\" x=\"622.5\" y=\"-200.8\" font-family=\"Times,serif\" font-size=\"14.00\">value = [0.082, 0.03, 0.096, 0.302, 0.49]</text>\n",
       "</g>\n",
       "<!-- 2&#45;&gt;3 -->\n",
       "<g id=\"edge3\" class=\"edge\">\n",
       "<title>2&#45;&gt;3</title>\n",
       "<path fill=\"none\" stroke=\"black\" d=\"M779.85,-296.88C756.74,-286.77 731.18,-275.58 707.49,-265.21\"/>\n",
       "<polygon fill=\"black\" stroke=\"black\" points=\"708.73,-261.93 698.17,-261.12 705.92,-268.34 708.73,-261.93\"/>\n",
       "</g>\n",
       "<!-- 10 -->\n",
       "<g id=\"node11\" class=\"node\">\n",
       "<title>10</title>\n",
       "<polygon fill=\"#e539c0\" stroke=\"black\" points=\"949,-253.5 762,-253.5 762,-200.5 949,-200.5 949,-253.5\"/>\n",
       "<text text-anchor=\"middle\" x=\"855.5\" y=\"-238.3\" font-family=\"Times,serif\" font-size=\"14.00\">gini = 0.0</text>\n",
       "<text text-anchor=\"middle\" x=\"855.5\" y=\"-223.3\" font-family=\"Times,serif\" font-size=\"14.00\">samples = 0.8%</text>\n",
       "<text text-anchor=\"middle\" x=\"855.5\" y=\"-208.3\" font-family=\"Times,serif\" font-size=\"14.00\">value = [0.0, 0.0, 0.0, 0.0, 1.0]</text>\n",
       "</g>\n",
       "<!-- 2&#45;&gt;10 -->\n",
       "<g id=\"edge10\" class=\"edge\">\n",
       "<title>2&#45;&gt;10</title>\n",
       "<path fill=\"none\" stroke=\"black\" d=\"M855.5,-296.88C855.5,-286.33 855.5,-274.6 855.5,-263.85\"/>\n",
       "<polygon fill=\"black\" stroke=\"black\" points=\"859,-263.52 855.5,-253.52 852,-263.52 859,-263.52\"/>\n",
       "</g>\n",
       "<!-- 4 -->\n",
       "<g id=\"node5\" class=\"node\">\n",
       "<title>4</title>\n",
       "<polygon fill=\"#f7c3ec\" stroke=\"black\" points=\"488,-157 231,-157 231,-89 488,-89 488,-157\"/>\n",
       "<text text-anchor=\"middle\" x=\"359.5\" y=\"-141.8\" font-family=\"Times,serif\" font-size=\"14.00\">X[49] &lt;= 0.35</text>\n",
       "<text text-anchor=\"middle\" x=\"359.5\" y=\"-126.8\" font-family=\"Times,serif\" font-size=\"14.00\">gini = 0.649</text>\n",
       "<text text-anchor=\"middle\" x=\"359.5\" y=\"-111.8\" font-family=\"Times,serif\" font-size=\"14.00\">samples = 91.9%</text>\n",
       "<text text-anchor=\"middle\" x=\"359.5\" y=\"-96.8\" font-family=\"Times,serif\" font-size=\"14.00\">value = [0.087, 0.031, 0.093, 0.287, 0.501]</text>\n",
       "</g>\n",
       "<!-- 3&#45;&gt;4 -->\n",
       "<g id=\"edge4\" class=\"edge\">\n",
       "<title>3&#45;&gt;4</title>\n",
       "<path fill=\"none\" stroke=\"black\" d=\"M537.11,-192.88C510.68,-182.63 481.4,-171.28 454.37,-160.79\"/>\n",
       "<polygon fill=\"black\" stroke=\"black\" points=\"455.5,-157.48 444.91,-157.12 452.97,-164 455.5,-157.48\"/>\n",
       "</g>\n",
       "<!-- 7 -->\n",
       "<g id=\"node8\" class=\"node\">\n",
       "<title>7</title>\n",
       "<polygon fill=\"#c0bff7\" stroke=\"black\" points=\"749,-157 506,-157 506,-89 749,-89 749,-157\"/>\n",
       "<text text-anchor=\"middle\" x=\"627.5\" y=\"-141.8\" font-family=\"Times,serif\" font-size=\"14.00\">X[31] &lt;= 0.3</text>\n",
       "<text text-anchor=\"middle\" x=\"627.5\" y=\"-126.8\" font-family=\"Times,serif\" font-size=\"14.00\">gini = 0.595</text>\n",
       "<text text-anchor=\"middle\" x=\"627.5\" y=\"-111.8\" font-family=\"Times,serif\" font-size=\"14.00\">samples = 5.8%</text>\n",
       "<text text-anchor=\"middle\" x=\"627.5\" y=\"-96.8\" font-family=\"Times,serif\" font-size=\"14.00\">value = [0.0, 0.008, 0.145, 0.534, 0.313]</text>\n",
       "</g>\n",
       "<!-- 3&#45;&gt;7 -->\n",
       "<g id=\"edge7\" class=\"edge\">\n",
       "<title>3&#45;&gt;7</title>\n",
       "<path fill=\"none\" stroke=\"black\" d=\"M624.12,-192.88C624.52,-184.78 624.95,-175.98 625.37,-167.47\"/>\n",
       "<polygon fill=\"black\" stroke=\"black\" points=\"628.87,-167.46 625.87,-157.3 621.88,-167.12 628.87,-167.46\"/>\n",
       "</g>\n",
       "<!-- 5 -->\n",
       "<g id=\"node6\" class=\"node\">\n",
       "<title>5</title>\n",
       "<polygon fill=\"#f7c4ec\" stroke=\"black\" points=\"257,-53 0,-53 0,0 257,0 257,-53\"/>\n",
       "<text text-anchor=\"middle\" x=\"128.5\" y=\"-37.8\" font-family=\"Times,serif\" font-size=\"14.00\">gini = 0.65</text>\n",
       "<text text-anchor=\"middle\" x=\"128.5\" y=\"-22.8\" font-family=\"Times,serif\" font-size=\"14.00\">samples = 91.5%</text>\n",
       "<text text-anchor=\"middle\" x=\"128.5\" y=\"-7.8\" font-family=\"Times,serif\" font-size=\"14.00\">value = [0.088, 0.032, 0.094, 0.288, 0.499]</text>\n",
       "</g>\n",
       "<!-- 4&#45;&gt;5 -->\n",
       "<g id=\"edge5\" class=\"edge\">\n",
       "<title>4&#45;&gt;5</title>\n",
       "<path fill=\"none\" stroke=\"black\" d=\"M278.71,-88.95C253.21,-78.52 225.23,-67.07 200.4,-56.91\"/>\n",
       "<polygon fill=\"black\" stroke=\"black\" points=\"201.63,-53.63 191.05,-53.09 198.98,-60.11 201.63,-53.63\"/>\n",
       "</g>\n",
       "<!-- 6 -->\n",
       "<g id=\"node7\" class=\"node\">\n",
       "<title>6</title>\n",
       "<polygon fill=\"#e84fc7\" stroke=\"black\" points=\"462,-53 275,-53 275,0 462,0 462,-53\"/>\n",
       "<text text-anchor=\"middle\" x=\"368.5\" y=\"-37.8\" font-family=\"Times,serif\" font-size=\"14.00\">gini = 0.18</text>\n",
       "<text text-anchor=\"middle\" x=\"368.5\" y=\"-22.8\" font-family=\"Times,serif\" font-size=\"14.00\">samples = 0.4%</text>\n",
       "<text text-anchor=\"middle\" x=\"368.5\" y=\"-7.8\" font-family=\"Times,serif\" font-size=\"14.00\">value = [0.0, 0.0, 0.0, 0.1, 0.9]</text>\n",
       "</g>\n",
       "<!-- 4&#45;&gt;6 -->\n",
       "<g id=\"edge6\" class=\"edge\">\n",
       "<title>4&#45;&gt;6</title>\n",
       "<path fill=\"none\" stroke=\"black\" d=\"M362.65,-88.95C363.44,-80.62 364.3,-71.65 365.1,-63.2\"/>\n",
       "<polygon fill=\"black\" stroke=\"black\" points=\"368.58,-63.52 366.05,-53.24 361.62,-62.86 368.58,-63.52\"/>\n",
       "</g>\n",
       "<!-- 8 -->\n",
       "<g id=\"node9\" class=\"node\">\n",
       "<title>8</title>\n",
       "<polygon fill=\"#bcbbf6\" stroke=\"black\" points=\"740,-53 497,-53 497,0 740,0 740,-53\"/>\n",
       "<text text-anchor=\"middle\" x=\"618.5\" y=\"-37.8\" font-family=\"Times,serif\" font-size=\"14.00\">gini = 0.592</text>\n",
       "<text text-anchor=\"middle\" x=\"618.5\" y=\"-22.8\" font-family=\"Times,serif\" font-size=\"14.00\">samples = 5.7%</text>\n",
       "<text text-anchor=\"middle\" x=\"618.5\" y=\"-7.8\" font-family=\"Times,serif\" font-size=\"14.00\">value = [0.0, 0.008, 0.147, 0.543, 0.302]</text>\n",
       "</g>\n",
       "<!-- 7&#45;&gt;8 -->\n",
       "<g id=\"edge8\" class=\"edge\">\n",
       "<title>7&#45;&gt;8</title>\n",
       "<path fill=\"none\" stroke=\"black\" d=\"M624.35,-88.95C623.56,-80.62 622.7,-71.65 621.9,-63.2\"/>\n",
       "<polygon fill=\"black\" stroke=\"black\" points=\"625.38,-62.86 620.95,-53.24 618.42,-63.52 625.38,-62.86\"/>\n",
       "</g>\n",
       "<!-- 9 -->\n",
       "<g id=\"node10\" class=\"node\">\n",
       "<title>9</title>\n",
       "<polygon fill=\"#e539c0\" stroke=\"black\" points=\"945,-53 758,-53 758,0 945,0 945,-53\"/>\n",
       "<text text-anchor=\"middle\" x=\"851.5\" y=\"-37.8\" font-family=\"Times,serif\" font-size=\"14.00\">gini = 0.0</text>\n",
       "<text text-anchor=\"middle\" x=\"851.5\" y=\"-22.8\" font-family=\"Times,serif\" font-size=\"14.00\">samples = 0.1%</text>\n",
       "<text text-anchor=\"middle\" x=\"851.5\" y=\"-7.8\" font-family=\"Times,serif\" font-size=\"14.00\">value = [0.0, 0.0, 0.0, 0.0, 1.0]</text>\n",
       "</g>\n",
       "<!-- 7&#45;&gt;9 -->\n",
       "<g id=\"edge9\" class=\"edge\">\n",
       "<title>7&#45;&gt;9</title>\n",
       "<path fill=\"none\" stroke=\"black\" d=\"M705.84,-88.95C730.46,-78.56 757.46,-67.17 781.46,-57.05\"/>\n",
       "<polygon fill=\"black\" stroke=\"black\" points=\"783,-60.2 790.85,-53.09 780.28,-53.75 783,-60.2\"/>\n",
       "</g>\n",
       "<!-- 12 -->\n",
       "<g id=\"node13\" class=\"node\">\n",
       "<title>12</title>\n",
       "<polygon fill=\"#f08edb\" stroke=\"black\" points=\"1196,-261 967,-261 967,-193 1196,-193 1196,-261\"/>\n",
       "<text text-anchor=\"middle\" x=\"1081.5\" y=\"-245.8\" font-family=\"Times,serif\" font-size=\"14.00\">X[7] &lt;= 1.2</text>\n",
       "<text text-anchor=\"middle\" x=\"1081.5\" y=\"-230.8\" font-family=\"Times,serif\" font-size=\"14.00\">gini = 0.494</text>\n",
       "<text text-anchor=\"middle\" x=\"1081.5\" y=\"-215.8\" font-family=\"Times,serif\" font-size=\"14.00\">samples = 0.4%</text>\n",
       "<text text-anchor=\"middle\" x=\"1081.5\" y=\"-200.8\" font-family=\"Times,serif\" font-size=\"14.00\">value = [0.111, 0.0, 0.0, 0.222, 0.667]</text>\n",
       "</g>\n",
       "<!-- 11&#45;&gt;12 -->\n",
       "<g id=\"edge12\" class=\"edge\">\n",
       "<title>11&#45;&gt;12</title>\n",
       "<path fill=\"none\" stroke=\"black\" d=\"M1156.46,-296.88C1146.48,-287.71 1135.53,-277.65 1125.16,-268.12\"/>\n",
       "<polygon fill=\"black\" stroke=\"black\" points=\"1127.47,-265.49 1117.74,-261.3 1122.73,-270.64 1127.47,-265.49\"/>\n",
       "</g>\n",
       "<!-- 17 -->\n",
       "<g id=\"node18\" class=\"node\">\n",
       "<title>17</title>\n",
       "<polygon fill=\"#e539c0\" stroke=\"black\" points=\"1401,-253.5 1214,-253.5 1214,-200.5 1401,-200.5 1401,-253.5\"/>\n",
       "<text text-anchor=\"middle\" x=\"1307.5\" y=\"-238.3\" font-family=\"Times,serif\" font-size=\"14.00\">gini = 0.0</text>\n",
       "<text text-anchor=\"middle\" x=\"1307.5\" y=\"-223.3\" font-family=\"Times,serif\" font-size=\"14.00\">samples = 0.9%</text>\n",
       "<text text-anchor=\"middle\" x=\"1307.5\" y=\"-208.3\" font-family=\"Times,serif\" font-size=\"14.00\">value = [0.0, 0.0, 0.0, 0.0, 1.0]</text>\n",
       "</g>\n",
       "<!-- 11&#45;&gt;17 -->\n",
       "<g id=\"edge17\" class=\"edge\">\n",
       "<title>11&#45;&gt;17</title>\n",
       "<path fill=\"none\" stroke=\"black\" d=\"M1229.84,-296.88C1243.1,-285.12 1258.01,-271.89 1271.19,-260.2\"/>\n",
       "<polygon fill=\"black\" stroke=\"black\" points=\"1273.57,-262.77 1278.73,-253.52 1268.92,-257.54 1273.57,-262.77\"/>\n",
       "</g>\n",
       "<!-- 13 -->\n",
       "<g id=\"node14\" class=\"node\">\n",
       "<title>13</title>\n",
       "<polygon fill=\"#ee7bd5\" stroke=\"black\" points=\"1172,-157 971,-157 971,-89 1172,-89 1172,-157\"/>\n",
       "<text text-anchor=\"middle\" x=\"1071.5\" y=\"-141.8\" font-family=\"Times,serif\" font-size=\"14.00\">X[4] &lt;= 0.8</text>\n",
       "<text text-anchor=\"middle\" x=\"1071.5\" y=\"-126.8\" font-family=\"Times,serif\" font-size=\"14.00\">gini = 0.375</text>\n",
       "<text text-anchor=\"middle\" x=\"1071.5\" y=\"-111.8\" font-family=\"Times,serif\" font-size=\"14.00\">samples = 0.4%</text>\n",
       "<text text-anchor=\"middle\" x=\"1071.5\" y=\"-96.8\" font-family=\"Times,serif\" font-size=\"14.00\">value = [0.0, 0.0, 0.0, 0.25, 0.75]</text>\n",
       "</g>\n",
       "<!-- 12&#45;&gt;13 -->\n",
       "<g id=\"edge13\" class=\"edge\">\n",
       "<title>12&#45;&gt;13</title>\n",
       "<path fill=\"none\" stroke=\"black\" d=\"M1078.25,-192.88C1077.46,-184.78 1076.6,-175.98 1075.76,-167.47\"/>\n",
       "<polygon fill=\"black\" stroke=\"black\" points=\"1079.22,-166.91 1074.76,-157.3 1072.26,-167.59 1079.22,-166.91\"/>\n",
       "</g>\n",
       "<!-- 16 -->\n",
       "<g id=\"node17\" class=\"node\">\n",
       "<title>16</title>\n",
       "<polygon fill=\"#e58139\" stroke=\"black\" points=\"1377,-149.5 1190,-149.5 1190,-96.5 1377,-96.5 1377,-149.5\"/>\n",
       "<text text-anchor=\"middle\" x=\"1283.5\" y=\"-134.3\" font-family=\"Times,serif\" font-size=\"14.00\">gini = 0.0</text>\n",
       "<text text-anchor=\"middle\" x=\"1283.5\" y=\"-119.3\" font-family=\"Times,serif\" font-size=\"14.00\">samples = 0.1%</text>\n",
       "<text text-anchor=\"middle\" x=\"1283.5\" y=\"-104.3\" font-family=\"Times,serif\" font-size=\"14.00\">value = [1.0, 0.0, 0.0, 0.0, 0.0]</text>\n",
       "</g>\n",
       "<!-- 12&#45;&gt;16 -->\n",
       "<g id=\"edge16\" class=\"edge\">\n",
       "<title>12&#45;&gt;16</title>\n",
       "<path fill=\"none\" stroke=\"black\" d=\"M1147.08,-192.88C1171.8,-180.4 1199.77,-166.28 1223.91,-154.09\"/>\n",
       "<polygon fill=\"black\" stroke=\"black\" points=\"1225.61,-157.15 1232.96,-149.52 1222.46,-150.9 1225.61,-157.15\"/>\n",
       "</g>\n",
       "<!-- 14 -->\n",
       "<g id=\"node15\" class=\"node\">\n",
       "<title>14</title>\n",
       "<polygon fill=\"#e539c0\" stroke=\"black\" points=\"1160,-53 973,-53 973,0 1160,0 1160,-53\"/>\n",
       "<text text-anchor=\"middle\" x=\"1066.5\" y=\"-37.8\" font-family=\"Times,serif\" font-size=\"14.00\">gini = 0.0</text>\n",
       "<text text-anchor=\"middle\" x=\"1066.5\" y=\"-22.8\" font-family=\"Times,serif\" font-size=\"14.00\">samples = 0.3%</text>\n",
       "<text text-anchor=\"middle\" x=\"1066.5\" y=\"-7.8\" font-family=\"Times,serif\" font-size=\"14.00\">value = [0.0, 0.0, 0.0, 0.0, 1.0]</text>\n",
       "</g>\n",
       "<!-- 13&#45;&gt;14 -->\n",
       "<g id=\"edge14\" class=\"edge\">\n",
       "<title>13&#45;&gt;14</title>\n",
       "<path fill=\"none\" stroke=\"black\" d=\"M1069.75,-88.95C1069.32,-80.72 1068.85,-71.85 1068.4,-63.48\"/>\n",
       "<polygon fill=\"black\" stroke=\"black\" points=\"1071.89,-63.04 1067.86,-53.24 1064.9,-63.41 1071.89,-63.04\"/>\n",
       "</g>\n",
       "<!-- 15 -->\n",
       "<g id=\"node16\" class=\"node\">\n",
       "<title>15</title>\n",
       "<polygon fill=\"#3c39e5\" stroke=\"black\" points=\"1365,-53 1178,-53 1178,0 1365,0 1365,-53\"/>\n",
       "<text text-anchor=\"middle\" x=\"1271.5\" y=\"-37.8\" font-family=\"Times,serif\" font-size=\"14.00\">gini = 0.0</text>\n",
       "<text text-anchor=\"middle\" x=\"1271.5\" y=\"-22.8\" font-family=\"Times,serif\" font-size=\"14.00\">samples = 0.1%</text>\n",
       "<text text-anchor=\"middle\" x=\"1271.5\" y=\"-7.8\" font-family=\"Times,serif\" font-size=\"14.00\">value = [0.0, 0.0, 0.0, 1.0, 0.0]</text>\n",
       "</g>\n",
       "<!-- 13&#45;&gt;15 -->\n",
       "<g id=\"edge15\" class=\"edge\">\n",
       "<title>13&#45;&gt;15</title>\n",
       "<path fill=\"none\" stroke=\"black\" d=\"M1141.45,-88.95C1163.14,-78.7 1186.9,-67.47 1208.11,-57.45\"/>\n",
       "<polygon fill=\"black\" stroke=\"black\" points=\"1209.8,-60.52 1217.35,-53.09 1206.81,-54.19 1209.8,-60.52\"/>\n",
       "</g>\n",
       "<!-- 19 -->\n",
       "<g id=\"node20\" class=\"node\">\n",
       "<title>19</title>\n",
       "<polygon fill=\"#9cf2e2\" stroke=\"black\" points=\"1620,-365 1405,-365 1405,-297 1620,-297 1620,-365\"/>\n",
       "<text text-anchor=\"middle\" x=\"1512.5\" y=\"-349.8\" font-family=\"Times,serif\" font-size=\"14.00\">X[0] &lt;= 0.1</text>\n",
       "<text text-anchor=\"middle\" x=\"1512.5\" y=\"-334.8\" font-family=\"Times,serif\" font-size=\"14.00\">gini = 0.444</text>\n",
       "<text text-anchor=\"middle\" x=\"1512.5\" y=\"-319.8\" font-family=\"Times,serif\" font-size=\"14.00\">samples = 0.2%</text>\n",
       "<text text-anchor=\"middle\" x=\"1512.5\" y=\"-304.8\" font-family=\"Times,serif\" font-size=\"14.00\">value = [0.0, 0.333, 0.667, 0.0, 0.0]</text>\n",
       "</g>\n",
       "<!-- 18&#45;&gt;19 -->\n",
       "<g id=\"edge19\" class=\"edge\">\n",
       "<title>18&#45;&gt;19</title>\n",
       "<path fill=\"none\" stroke=\"black\" d=\"M1512.5,-400.88C1512.5,-392.78 1512.5,-383.98 1512.5,-375.47\"/>\n",
       "<polygon fill=\"black\" stroke=\"black\" points=\"1516,-375.3 1512.5,-365.3 1509,-375.3 1516,-375.3\"/>\n",
       "</g>\n",
       "<!-- 22 -->\n",
       "<g id=\"node23\" class=\"node\">\n",
       "<title>22</title>\n",
       "<polygon fill=\"#e58139\" stroke=\"black\" points=\"1825,-357.5 1638,-357.5 1638,-304.5 1825,-304.5 1825,-357.5\"/>\n",
       "<text text-anchor=\"middle\" x=\"1731.5\" y=\"-342.3\" font-family=\"Times,serif\" font-size=\"14.00\">gini = 0.0</text>\n",
       "<text text-anchor=\"middle\" x=\"1731.5\" y=\"-327.3\" font-family=\"Times,serif\" font-size=\"14.00\">samples = 0.1%</text>\n",
       "<text text-anchor=\"middle\" x=\"1731.5\" y=\"-312.3\" font-family=\"Times,serif\" font-size=\"14.00\">value = [1.0, 0.0, 0.0, 0.0, 0.0]</text>\n",
       "</g>\n",
       "<!-- 18&#45;&gt;22 -->\n",
       "<g id=\"edge22\" class=\"edge\">\n",
       "<title>18&#45;&gt;22</title>\n",
       "<path fill=\"none\" stroke=\"black\" d=\"M1583.6,-400.88C1610.64,-388.29 1641.25,-374.03 1667.58,-361.77\"/>\n",
       "<polygon fill=\"black\" stroke=\"black\" points=\"1669.12,-364.91 1676.71,-357.52 1666.16,-358.57 1669.12,-364.91\"/>\n",
       "</g>\n",
       "<!-- 20 -->\n",
       "<g id=\"node21\" class=\"node\">\n",
       "<title>20</title>\n",
       "<polygon fill=\"#ffffff\" stroke=\"black\" points=\"1606,-253.5 1419,-253.5 1419,-200.5 1606,-200.5 1606,-253.5\"/>\n",
       "<text text-anchor=\"middle\" x=\"1512.5\" y=\"-238.3\" font-family=\"Times,serif\" font-size=\"14.00\">gini = 0.5</text>\n",
       "<text text-anchor=\"middle\" x=\"1512.5\" y=\"-223.3\" font-family=\"Times,serif\" font-size=\"14.00\">samples = 0.1%</text>\n",
       "<text text-anchor=\"middle\" x=\"1512.5\" y=\"-208.3\" font-family=\"Times,serif\" font-size=\"14.00\">value = [0.0, 0.5, 0.5, 0.0, 0.0]</text>\n",
       "</g>\n",
       "<!-- 19&#45;&gt;20 -->\n",
       "<g id=\"edge20\" class=\"edge\">\n",
       "<title>19&#45;&gt;20</title>\n",
       "<path fill=\"none\" stroke=\"black\" d=\"M1512.5,-296.88C1512.5,-286.33 1512.5,-274.6 1512.5,-263.85\"/>\n",
       "<polygon fill=\"black\" stroke=\"black\" points=\"1516,-263.52 1512.5,-253.52 1509,-263.52 1516,-263.52\"/>\n",
       "</g>\n",
       "<!-- 21 -->\n",
       "<g id=\"node22\" class=\"node\">\n",
       "<title>21</title>\n",
       "<polygon fill=\"#39e5c5\" stroke=\"black\" points=\"1811,-253.5 1624,-253.5 1624,-200.5 1811,-200.5 1811,-253.5\"/>\n",
       "<text text-anchor=\"middle\" x=\"1717.5\" y=\"-238.3\" font-family=\"Times,serif\" font-size=\"14.00\">gini = 0.0</text>\n",
       "<text text-anchor=\"middle\" x=\"1717.5\" y=\"-223.3\" font-family=\"Times,serif\" font-size=\"14.00\">samples = 0.1%</text>\n",
       "<text text-anchor=\"middle\" x=\"1717.5\" y=\"-208.3\" font-family=\"Times,serif\" font-size=\"14.00\">value = [0.0, 0.0, 1.0, 0.0, 0.0]</text>\n",
       "</g>\n",
       "<!-- 19&#45;&gt;21 -->\n",
       "<g id=\"edge21\" class=\"edge\">\n",
       "<title>19&#45;&gt;21</title>\n",
       "<path fill=\"none\" stroke=\"black\" d=\"M1579.06,-296.88C1604.15,-284.4 1632.52,-270.28 1657.02,-258.09\"/>\n",
       "<polygon fill=\"black\" stroke=\"black\" points=\"1658.82,-261.11 1666.21,-253.52 1655.7,-254.84 1658.82,-261.11\"/>\n",
       "</g>\n",
       "</g>\n",
       "</svg>\n"
      ],
      "text/plain": [
       "<graphviz.files.Source at 0x7fe4d1b94dc0>"
      ]
     },
     "execution_count": 36,
     "metadata": {},
     "output_type": "execute_result"
    }
   ],
   "source": [
    "# Tree Plot\n",
    "from graphviz import Source\n",
    "from sklearn import tree as treemodule\n",
    "Source(treemodule.export_graphviz(\n",
    "        model_rf.estimators_[1]\n",
    "        , out_file=None\n",
    "        , filled = True\n",
    "        , proportion = True #@@ try False and understand the differences\n",
    "        )\n",
    ")"
   ]
  },
  {
   "cell_type": "code",
   "execution_count": 37,
   "metadata": {},
   "outputs": [
    {
     "data": {
      "image/png": "[encoded data removed]",
      "text/plain": [
       "<Figure size 432x288 with 2 Axes>"
      ]
     },
     "metadata": {
      "needs_background": "light"
     },
     "output_type": "display_data"
    }
   ],
   "source": [
    "rf_cm = skm_conf_mat(y_test, rf_pred)\n",
    "plot_confusion_matrix(rf_cm, classes = list(sorted(datas['score'].unique())), title = 'Confusion Matrix')"
   ]
  },
  {
   "cell_type": "markdown",
   "metadata": {},
   "source": [
    "## 4. Prediction Print on RF"
   ]
  },
  {
   "cell_type": "code",
   "execution_count": 38,
   "metadata": {},
   "outputs": [],
   "source": [
    "rf_pred = pd.DataFrame(rf_pred)\n",
    "rf_pred.to_csv(\"Predictions on Ratings.csv\")"
   ]
  },
  {
   "cell_type": "markdown",
   "metadata": {},
   "source": [
    "* ## 3 Model Selection REVISED\n",
    "    * ### 3.1 Group Ratings by very high(10), high(8), and others(2-6) TO (4) "
   ]
  },
  {
   "cell_type": "code",
   "execution_count": 39,
   "metadata": {},
   "outputs": [],
   "source": [
    "#score = (new_data.score == 2)|(new_data.score == 6)\n",
    "new_data.loc[new_data.score == 6, 'score'] = 4\n",
    "new_data.loc[new_data.score == 2, 'score'] = 4"
   ]
  },
  {
   "cell_type": "code",
   "execution_count": 40,
   "metadata": {},
   "outputs": [
    {
     "data": {
      "text/plain": [
       "10    1583\n",
       "8      933\n",
       "4      650\n",
       "Name: score, dtype: int64"
      ]
     },
     "execution_count": 40,
     "metadata": {},
     "output_type": "execute_result"
    }
   ],
   "source": [
    "features = new_data['content']\n",
    "labels = new_data['score']\n",
    "\n",
    "new_data['score'].value_counts()"
   ]
  },
  {
   "cell_type": "code",
   "execution_count": 41,
   "metadata": {},
   "outputs": [
    {
     "name": "stdout",
     "output_type": "stream",
     "text": [
      "\t\t\tFeature Shapes:\n",
      "Train set: \t\t(2216,) \n",
      "Test set: \t\t(950,)\n"
     ]
    }
   ],
   "source": [
    "rTrain, rTest, y_train, y_test = train_test_split(features, labels, test_size = 0.3, random_state=42)\n",
    "# let's understand up a bit the data\n",
    "## print out the shapes of  resultant feature data\n",
    "print(\"\\t\\t\\tFeature Shapes:\")\n",
    "print(\"Train set: \\t\\t{}\".format(rTrain.shape), \n",
    "      #\"\\nValidation set: \\t{}\".format(rValidation.shape),\n",
    "      \"\\nTest set: \\t\\t{}\".format(rTest.shape))"
   ]
  },
  {
   "cell_type": "markdown",
   "metadata": {},
   "source": [
    "* rTrain"
   ]
  },
  {
   "cell_type": "code",
   "execution_count": 42,
   "metadata": {},
   "outputs": [
    {
     "data": {
      "text/plain": [
       "['血小板',\n",
       " '细胞',\n",
       " '剧情',\n",
       " '不错',\n",
       " '有趣',\n",
       " '感觉',\n",
       " '动画',\n",
       " '啊啊啊',\n",
       " '生物',\n",
       " '身体',\n",
       " '动漫',\n",
       " '番剧',\n",
       " '新颖',\n",
       " '有点',\n",
       " '无聊',\n",
       " '白细胞',\n",
       " '红细胞',\n",
       " '很棒',\n",
       " '题材',\n",
       " '白血球',\n",
       " '画风',\n",
       " '香菜',\n",
       " '脑洞',\n",
       " '癌细胞',\n",
       " '优秀',\n",
       " '作品',\n",
       " '拟人化',\n",
       " '意义',\n",
       " '单身',\n",
       " '漫画',\n",
       " '老婆',\n",
       " '热血',\n",
       " '很好',\n",
       " '弹幕',\n",
       " '陪伴',\n",
       " '硬核',\n",
       " '赛高',\n",
       " '超棒',\n",
       " '声优',\n",
       " '一般',\n",
       " '会员',\n",
       " '安利',\n",
       " '时候',\n",
       " '套路',\n",
       " '作画',\n",
       " '故事',\n",
       " '科普性',\n",
       " '文科生',\n",
       " '理科生',\n",
       " '卡哇伊',\n",
       " '人物',\n",
       " '棒棒',\n",
       " '评分',\n",
       " '细菌',\n",
       " '人体',\n",
       " '大家',\n",
       " '霸权',\n",
       " '红血球',\n",
       " '内容',\n",
       " '新意',\n",
       " '科普知识',\n",
       " '总体',\n",
       " '亮点',\n",
       " '白哥',\n",
       " '情节',\n",
       " '良心',\n",
       " '谢谢',\n",
       " '地方',\n",
       " '生物学',\n",
       " '角色',\n",
       " '医学生',\n",
       " '迷路',\n",
       " '个人',\n",
       " '方式',\n",
       " '路痴',\n",
       " '轻松',\n",
       " '画面',\n",
       " '老少皆宜',\n",
       " '学生',\n",
       " '好好看',\n",
       " '兴趣',\n",
       " '节奏',\n",
       " '方面',\n",
       " '完美',\n",
       " '简单',\n",
       " '拟人',\n",
       " '尴尬',\n",
       " '精良',\n",
       " '一星',\n",
       " '作者',\n",
       " '真棒',\n",
       " '姿势',\n",
       " '厉害',\n",
       " '帅气',\n",
       " '国漫',\n",
       " '制作组',\n",
       " '女主',\n",
       " '主人',\n",
       " '整体',\n",
       " '生病']"
      ]
     },
     "execution_count": 42,
     "metadata": {},
     "output_type": "execute_result"
    }
   ],
   "source": [
    "texts = '\\n'.join(rTrain.tolist())\n",
    "#cut_text = jieba.lcut(texts)\n",
    "cut_text = \"\".join(jieba.cut(texts))\n",
    "cut_text = re.sub(pattern = temp, repl = \"\", string = cut_text)\n",
    "\n",
    "keyword = jieba.analyse.extract_tags(cut_text, topK=100, allowPOS=('a','e','n','nr','ns'))  # list\n",
    "cut_text = cut_text.split('\\n')\n",
    "keyword"
   ]
  },
  {
   "cell_type": "code",
   "execution_count": 43,
   "metadata": {},
   "outputs": [],
   "source": [
    "cutlist = []\n",
    "\n",
    "for i in range(0, len(cut_text)):\n",
    "    cut_dic = defaultdict(int) \n",
    "    comment = cut_text[i]\n",
    "    comment_cut = jieba.lcut(comment)\n",
    "    for word in comment_cut: # word freq for every comment \n",
    "        if word in keyword:\n",
    "            cut_dic[word] += 1  \n",
    "    order = sorted(cut_dic.items(),key = lambda x:x[1],reverse = True) # word freq in descending order\n",
    "    #print(order)\n",
    " \n",
    "    myresult = \"\" \n",
    "    for j in range(0,len(order)): \n",
    "        result = order[j][0]+ \"-\" + str(order[j][1])\n",
    "        myresult = myresult + \" \" + result  \n",
    "    cutlist.append(myresult)\n",
    "#print(cutlist)"
   ]
  },
  {
   "cell_type": "code",
   "execution_count": 44,
   "metadata": {},
   "outputs": [],
   "source": [
    "word_freqs = []\n",
    "for raw in cutlist:\n",
    "    word_freq = {}\n",
    "    for word_freq_raw in raw.split():\n",
    "        index = word_freq_raw.find('-')\n",
    "        word = word_freq_raw[:index]\n",
    "        freq = int(word_freq_raw[index + 1])\n",
    "        word_freq[word] = freq\n",
    "    word_freqs.append(word_freq)\n",
    "    \n",
    "matrix = []\n",
    "for word_freq in word_freqs:\n",
    "    row = []\n",
    "    for word in keyword:\n",
    "        if word in word_freq:\n",
    "            row.append(word_freq[word])\n",
    "        else:\n",
    "            row.append(0)\n",
    "    matrix.append(row)\n",
    "#print(matrix)\n",
    "matrix = np.array(matrix)"
   ]
  },
  {
   "cell_type": "code",
   "execution_count": 45,
   "metadata": {},
   "outputs": [],
   "source": [
    "X = np.array(matrix) * grade1"
   ]
  },
  {
   "cell_type": "markdown",
   "metadata": {},
   "source": [
    "* rTest "
   ]
  },
  {
   "cell_type": "code",
   "execution_count": 46,
   "metadata": {},
   "outputs": [
    {
     "data": {
      "text/plain": [
       "['血小板',\n",
       " '细胞',\n",
       " '剧情',\n",
       " '不错',\n",
       " '啊啊啊',\n",
       " '动画',\n",
       " '生物',\n",
       " '有趣',\n",
       " '香菜',\n",
       " '身体',\n",
       " '有点',\n",
       " '感觉',\n",
       " '白细胞',\n",
       " '动漫',\n",
       " '很棒',\n",
       " '无聊',\n",
       " '声优',\n",
       " '红细胞',\n",
       " '题材',\n",
       " '拟人化',\n",
       " '番剧',\n",
       " '新颖',\n",
       " '白血球',\n",
       " '赛高',\n",
       " '作品',\n",
       " '意义',\n",
       " '超棒',\n",
       " '漫画',\n",
       " '很好',\n",
       " '癌细胞',\n",
       " '会员',\n",
       " '评分',\n",
       " '女主',\n",
       " '时候',\n",
       " '作画',\n",
       " '弹幕',\n",
       " '陪伴',\n",
       " '老婆',\n",
       " '肥宅',\n",
       " '细菌',\n",
       " '人物',\n",
       " '人体',\n",
       " '学生',\n",
       " '红血球',\n",
       " '硬核',\n",
       " '棒棒',\n",
       " '血腥',\n",
       " '配音',\n",
       " '一般',\n",
       " '安利',\n",
       " '枯燥',\n",
       " '轻松',\n",
       " '科普知识',\n",
       " '套路',\n",
       " '脑洞',\n",
       " '新意',\n",
       " '画风',\n",
       " '拟人',\n",
       " '单身',\n",
       " '大家',\n",
       " '个人',\n",
       " '故事',\n",
       " '看点',\n",
       " '科普性',\n",
       " '兴趣',\n",
       " '意思',\n",
       " '严谨',\n",
       " '恶心',\n",
       " '形象',\n",
       " '医学生',\n",
       " '佳作',\n",
       " '阵容',\n",
       " '文科生',\n",
       " '虚高',\n",
       " '花泽',\n",
       " '番会',\n",
       " '珍惜',\n",
       " '老套',\n",
       " '节奏',\n",
       " '树突',\n",
       " '贫穷',\n",
       " '场景',\n",
       " '谢谢你们',\n",
       " '用心',\n",
       " '老师',\n",
       " '精彩',\n",
       " '观感',\n",
       " '刻画',\n",
       " '理由',\n",
       " '内容',\n",
       " '现实',\n",
       " '亮点',\n",
       " '豪华',\n",
       " '谢谢',\n",
       " '观众',\n",
       " '角色',\n",
       " '精良',\n",
       " '科学',\n",
       " '卡哇伊',\n",
       " '美化']"
      ]
     },
     "execution_count": 46,
     "metadata": {},
     "output_type": "execute_result"
    }
   ],
   "source": [
    "texts = '\\n'.join(rTest.tolist())\n",
    "#cut_text = jieba.lcut(texts)\n",
    "cut_text = \"\".join(jieba.cut(texts))\n",
    "cut_text = re.sub(pattern = temp, repl = \"\", string = cut_text)\n",
    "\n",
    "keyword = jieba.analyse.extract_tags(cut_text, topK=100, allowPOS=('a','e','n','nr','ns'))  # list\n",
    "cut_text = cut_text.split('\\n')\n",
    "keyword"
   ]
  },
  {
   "cell_type": "code",
   "execution_count": 47,
   "metadata": {},
   "outputs": [],
   "source": [
    "cutlist = []\n",
    "\n",
    "for i in range(0, len(cut_text)):\n",
    "    cut_dic = defaultdict(int) \n",
    "    comment = cut_text[i]\n",
    "    comment_cut = jieba.lcut(comment)\n",
    "    for word in comment_cut: # word freq for every comment \n",
    "        if word in keyword:\n",
    "            cut_dic[word] += 1  \n",
    "    order = sorted(cut_dic.items(),key = lambda x:x[1],reverse = True) # word freq in descending order\n",
    "    #print(order)\n",
    " \n",
    "    myresult = \"\" \n",
    "    for j in range(0,len(order)): \n",
    "        result = order[j][0]+ \"-\" + str(order[j][1])\n",
    "        myresult = myresult + \" \" + result  \n",
    "    cutlist.append(myresult)\n",
    "#print(cutlist)"
   ]
  },
  {
   "cell_type": "code",
   "execution_count": 48,
   "metadata": {},
   "outputs": [],
   "source": [
    "word_freqs = []\n",
    "for raw in cutlist:\n",
    "    word_freq = {}\n",
    "    for word_freq_raw in raw.split():\n",
    "        index = word_freq_raw.find('-')\n",
    "        word = word_freq_raw[:index]\n",
    "        freq = int(word_freq_raw[index + 1])\n",
    "        word_freq[word] = freq\n",
    "    word_freqs.append(word_freq)\n",
    "    \n",
    "matrix = []\n",
    "for word_freq in word_freqs:\n",
    "    row = []\n",
    "    for word in keyword:\n",
    "        if word in word_freq:\n",
    "            row.append(word_freq[word])\n",
    "        else:\n",
    "            row.append(0)\n",
    "    matrix.append(row)\n",
    "#print(matrix)\n",
    "matrix = np.array(matrix)"
   ]
  },
  {
   "cell_type": "code",
   "execution_count": 49,
   "metadata": {},
   "outputs": [
    {
     "data": {
      "text/plain": [
       "(950, 100)"
      ]
     },
     "execution_count": 49,
     "metadata": {},
     "output_type": "execute_result"
    }
   ],
   "source": [
    "xTest = np.array(matrix) * grade2\n",
    "xTest.shape"
   ]
  },
  {
   "cell_type": "code",
   "execution_count": 50,
   "metadata": {},
   "outputs": [
    {
     "data": {
      "text/plain": [
       "0.5305263157894737"
      ]
     },
     "execution_count": 50,
     "metadata": {},
     "output_type": "execute_result"
    }
   ],
   "source": [
    "clf = LogisticRegression(random_state=0, solver='lbfgs',multi_class='multinomial').fit(X, y_train)\n",
    "clf.score(xTest, y_test)"
   ]
  },
  {
   "cell_type": "code",
   "execution_count": 51,
   "metadata": {},
   "outputs": [
    {
     "name": "stderr",
     "output_type": "stream",
     "text": [
      "/Users/sherrytp/opt/anaconda3/envs/ml4t/lib/python3.8/site-packages/sklearn/linear_model/_logistic.py:763: ConvergenceWarning: lbfgs failed to converge (status=1):\n",
      "STOP: TOTAL NO. of ITERATIONS REACHED LIMIT.\n",
      "\n",
      "Increase the number of iterations (max_iter) or scale the data as shown in:\n",
      "    https://scikit-learn.org/stable/modules/preprocessing.html\n",
      "Please also refer to the documentation for alternative solver options:\n",
      "    https://scikit-learn.org/stable/modules/linear_model.html#logistic-regression\n",
      "  n_iter_i = _check_optimize_result(\n",
      "/Users/sherrytp/opt/anaconda3/envs/ml4t/lib/python3.8/site-packages/sklearn/linear_model/_logistic.py:763: ConvergenceWarning: lbfgs failed to converge (status=1):\n",
      "STOP: TOTAL NO. of ITERATIONS REACHED LIMIT.\n",
      "\n",
      "Increase the number of iterations (max_iter) or scale the data as shown in:\n",
      "    https://scikit-learn.org/stable/modules/preprocessing.html\n",
      "Please also refer to the documentation for alternative solver options:\n",
      "    https://scikit-learn.org/stable/modules/linear_model.html#logistic-regression\n",
      "  n_iter_i = _check_optimize_result(\n",
      "/Users/sherrytp/opt/anaconda3/envs/ml4t/lib/python3.8/site-packages/sklearn/linear_model/_logistic.py:763: ConvergenceWarning: lbfgs failed to converge (status=1):\n",
      "STOP: TOTAL NO. of ITERATIONS REACHED LIMIT.\n",
      "\n",
      "Increase the number of iterations (max_iter) or scale the data as shown in:\n",
      "    https://scikit-learn.org/stable/modules/preprocessing.html\n",
      "Please also refer to the documentation for alternative solver options:\n",
      "    https://scikit-learn.org/stable/modules/linear_model.html#logistic-regression\n",
      "  n_iter_i = _check_optimize_result(\n",
      "/Users/sherrytp/opt/anaconda3/envs/ml4t/lib/python3.8/site-packages/sklearn/linear_model/_logistic.py:763: ConvergenceWarning: lbfgs failed to converge (status=1):\n",
      "STOP: TOTAL NO. of ITERATIONS REACHED LIMIT.\n",
      "\n",
      "Increase the number of iterations (max_iter) or scale the data as shown in:\n",
      "    https://scikit-learn.org/stable/modules/preprocessing.html\n",
      "Please also refer to the documentation for alternative solver options:\n",
      "    https://scikit-learn.org/stable/modules/linear_model.html#logistic-regression\n",
      "  n_iter_i = _check_optimize_result(\n",
      "/Users/sherrytp/opt/anaconda3/envs/ml4t/lib/python3.8/site-packages/sklearn/linear_model/_logistic.py:763: ConvergenceWarning: lbfgs failed to converge (status=1):\n",
      "STOP: TOTAL NO. of ITERATIONS REACHED LIMIT.\n",
      "\n",
      "Increase the number of iterations (max_iter) or scale the data as shown in:\n",
      "    https://scikit-learn.org/stable/modules/preprocessing.html\n",
      "Please also refer to the documentation for alternative solver options:\n",
      "    https://scikit-learn.org/stable/modules/linear_model.html#logistic-regression\n",
      "  n_iter_i = _check_optimize_result(\n",
      "/Users/sherrytp/opt/anaconda3/envs/ml4t/lib/python3.8/site-packages/sklearn/linear_model/_logistic.py:763: ConvergenceWarning: lbfgs failed to converge (status=1):\n",
      "STOP: TOTAL NO. of ITERATIONS REACHED LIMIT.\n",
      "\n",
      "Increase the number of iterations (max_iter) or scale the data as shown in:\n",
      "    https://scikit-learn.org/stable/modules/preprocessing.html\n",
      "Please also refer to the documentation for alternative solver options:\n",
      "    https://scikit-learn.org/stable/modules/linear_model.html#logistic-regression\n",
      "  n_iter_i = _check_optimize_result(\n"
     ]
    },
    {
     "data": {
      "text/plain": [
       "0.5263157894736842"
      ]
     },
     "execution_count": 51,
     "metadata": {},
     "output_type": "execute_result"
    }
   ],
   "source": [
    "clfcv = LogisticRegressionCV(cv=5, random_state=0, multi_class='multinomial').fit(X, y_train)\n",
    "clfcv.score(xTest, y_test)"
   ]
  },
  {
   "cell_type": "code",
   "execution_count": 52,
   "metadata": {},
   "outputs": [
    {
     "data": {
      "text/plain": [
       "0.2326315789473684"
      ]
     },
     "execution_count": 52,
     "metadata": {},
     "output_type": "execute_result"
    }
   ],
   "source": [
    "gnb.fit(X, y_train)\n",
    "gnb.score(xTest, y_test)"
   ]
  },
  {
   "cell_type": "code",
   "execution_count": 53,
   "metadata": {},
   "outputs": [
    {
     "name": "stdout",
     "output_type": "stream",
     "text": [
      "0.5437725631768953\n",
      "0.5189473684210526\n"
     ]
    }
   ],
   "source": [
    "model_rf.fit(X, y_train)\n",
    "print(model_rf.score(X, y_train))\n",
    "print(model_rf.score(xTest, y_test))"
   ]
  },
  {
   "cell_type": "markdown",
   "metadata": {},
   "source": [
    "> Until now, we attempted multiple approaches to improve the accuracy rate of predicting corresponding scores on sentiment analysis. \n",
    "\n",
    "> 1. Importing different sets of sentiment weights\n",
    "> 2. Lowering score dimensions to [4,8,10] rather [2,4,6,8,10] "
   ]
  }
 ],
 "metadata": {
  "kernelspec": {
   "display_name": "Python 3",
   "language": "python",
   "name": "python3"
  },
  "language_info": {
   "codemirror_mode": {
    "name": "ipython",
    "version": 3
   },
   "file_extension": ".py",
   "mimetype": "text/x-python",
   "name": "python",
   "nbconvert_exporter": "python",
   "pygments_lexer": "ipython3",
   "version": "3.8.8"
  }
 },
 "nbformat": 4,
 "nbformat_minor": 4
}
