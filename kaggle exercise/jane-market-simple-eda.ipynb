{
 "cells": [
  {
   "cell_type": "code",
   "execution_count": 1,
   "metadata": {
    "_cell_guid": "b1076dfc-b9ad-4769-8c92-a6c4dae69d19",
    "_kg_hide-input": true,
    "_uuid": "8f2839f25d086af736a60e9eeb907d3b93b6e0e5"
   },
   "outputs": [],
   "source": [
    "import numpy as np # linear algebra\n",
    "import pandas as pd # data processing, CSV file I/O (e.g. pd.read_csv)\n",
    "import seaborn as sns\n",
    "import xgboost as xgb\n",
    "import lightgbm as lgb\n",
    "import matplotlib.pyplot as plt\n",
    "import matplotlib.gridspec as gridspec\n",
    "from collections import defaultdict\n",
    "# Warning\n",
    "import warnings\n",
    "warnings.filterwarnings(\"ignore\")"
   ]
  },
  {
   "cell_type": "code",
   "execution_count": 2,
   "metadata": {
    "_cell_guid": "79c7e3d0-c299-4dcb-8224-4455121ee9b0",
    "_kg_hide-input": true,
    "_uuid": "d629ff2d2480ee46fbb7e2d37f6b5fab8052498a"
   },
   "outputs": [
    {
     "ename": "ModuleNotFoundError",
     "evalue": "No module named 'janestreet'",
     "output_type": "error",
     "traceback": [
      "\u001b[0;31m---------------------------------------------------------------------------\u001b[0m",
      "\u001b[0;31mModuleNotFoundError\u001b[0m                       Traceback (most recent call last)",
      "\u001b[0;32m<ipython-input-2-2465f9ccb88b>\u001b[0m in \u001b[0;36m<module>\u001b[0;34m\u001b[0m\n\u001b[1;32m      2\u001b[0m \u001b[0;32mimport\u001b[0m \u001b[0mcufflinks\u001b[0m \u001b[0;32mas\u001b[0m \u001b[0mcf\u001b[0m\u001b[0;34m\u001b[0m\u001b[0;34m\u001b[0m\u001b[0m\n\u001b[1;32m      3\u001b[0m \u001b[0;34m\u001b[0m\u001b[0m\n\u001b[0;32m----> 4\u001b[0;31m \u001b[0;32mimport\u001b[0m \u001b[0mjanestreet\u001b[0m\u001b[0;34m\u001b[0m\u001b[0;34m\u001b[0m\u001b[0m\n\u001b[0m\u001b[1;32m      5\u001b[0m \u001b[0menv\u001b[0m \u001b[0;34m=\u001b[0m \u001b[0mjanestreet\u001b[0m\u001b[0;34m.\u001b[0m\u001b[0mmake_env\u001b[0m\u001b[0;34m(\u001b[0m\u001b[0;34m)\u001b[0m \u001b[0;31m# initialize the environment\u001b[0m\u001b[0;34m\u001b[0m\u001b[0;34m\u001b[0m\u001b[0m\n\u001b[1;32m      6\u001b[0m \u001b[0miter_test\u001b[0m \u001b[0;34m=\u001b[0m \u001b[0menv\u001b[0m\u001b[0;34m.\u001b[0m\u001b[0miter_test\u001b[0m\u001b[0;34m(\u001b[0m\u001b[0;34m)\u001b[0m \u001b[0;31m# an iterator which loops over the test set\u001b[0m\u001b[0;34m\u001b[0m\u001b[0;34m\u001b[0m\u001b[0m\n",
      "\u001b[0;31mModuleNotFoundError\u001b[0m: No module named 'janestreet'"
     ]
    }
   ],
   "source": [
    "import cufflinks\n",
    "import cufflinks as cf\n",
    "\n",
    "import janestreet\n",
    "env = janestreet.make_env() # initialize the environment\n",
    "iter_test = env.iter_test() # an iterator which loops over the test set\n",
    "\n",
    "sample_prediction_df = pd.read_csv('./example_sample_submission.csv')\n",
    "for (test_df, sample_prediction_df) in iter_test:\n",
    "    sample_prediction_df.action = 0 #make your 0/1 prediction here\n",
    "    env.predict(sample_prediction_df)"
   ]
  },
  {
   "cell_type": "markdown",
   "metadata": {},
   "source": [
    "## 导引目录:\n",
    "* [总体构造 Overall](#first-bullet)\n",
    "* [数据分布 Distribution](#second-bullet)\n",
    "* [相关性与分组 Correlation](#third-bullet) \n",
    "* [分组实例 Group 0](#forth-bullet) \n",
    "\n",
    "\n",
    "## 总体构造 Overall <a class=\"anchor\" id=\"first-bullet\"></a>"
   ]
  },
  {
   "cell_type": "code",
   "execution_count": null,
   "metadata": {
    "_kg_hide-input": true
   },
   "outputs": [],
   "source": [
    "train  = pd.read_csv('../input/jane-street-market-prediction/train.csv')\n",
    "meta_data = pd.read_csv('../input/jane-street-market-prediction/features.csv')\n",
    "test = pd.read_csv('../input/jane-street-market-prediction/example_test.csv')\n",
    "train.head()"
   ]
  },
  {
   "cell_type": "code",
   "execution_count": null,
   "metadata": {
    "_kg_hide-input": true
   },
   "outputs": [],
   "source": [
    "# 数据行数/列数确认\n",
    "print('train data shape is {}'.format(train.shape))\n",
    "print('metadata features shape is {}'.format(meta_data.shape))\n",
    "print('test data shape is {}'.format(test.shape))"
   ]
  },
  {
   "cell_type": "markdown",
   "metadata": {},
   "source": [
    "如果觉得数据不是按照逻辑排列，想让数据表达更清晰，可以再次sort一下。\n",
    "\n",
    "`df.sort_values(by=['date', 'ts_id'], inplace=True)` "
   ]
  },
  {
   "cell_type": "code",
   "execution_count": null,
   "metadata": {},
   "outputs": [],
   "source": [
    "train.ts_id.unique()"
   ]
  },
  {
   "cell_type": "code",
   "execution_count": null,
   "metadata": {},
   "outputs": [],
   "source": [
    "train.isnull().sum()"
   ]
  },
  {
   "cell_type": "markdown",
   "metadata": {},
   "source": [
    "## 数据分布 Distribution <a class=\"anchor\" id=\"second-bullet\"></a>\n",
    "\n",
    "可以看出数据是用天数`date`，加权`weight`，多个`resp`，多个数据特征`features`，和`ts_id`构成的，我们需要对中间的weight和resp做出分析。经由图像显示，他们多呈现正态分布且数据标准化，对我们接下来的数据分析意义重大。\n",
    "\n",
    "The distribution of the train dateset seems normally distributed (standardized) and are mean/zero reverted. \n",
    "\n",
    "同时可以看出有很多缺失的数据，所以接下来我们需要进行数据填充。因为数据是呈正态分布的，所以我也选择了使用平均数来替代NA。"
   ]
  },
  {
   "cell_type": "code",
   "execution_count": null,
   "metadata": {},
   "outputs": [],
   "source": [
    "# Features Plotting \n",
    "fig, axes = plt.subplots(nrows=44\n",
    "                         , ncols=3,figsize=(25,250))\n",
    "for i, column in enumerate(train.iloc[:,7:].columns):\n",
    "    sns.distplot(train[column],ax=axes[i//3,i%3])"
   ]
  },
  {
   "cell_type": "code",
   "execution_count": null,
   "metadata": {},
   "outputs": [],
   "source": [
    "# resp Plotting \n",
    "fig = plt.figure(figsize=(16,6))\n",
    "ax = plt.subplot(1,1,1)\n",
    "train.groupby('date')[['resp_1', 'resp_2', 'resp_3', 'resp_4', 'resp']].sum().cumsum().plot(ax=ax)\n",
    "plt.title('Cumulative Sum Return of resp\\'s',fontsize=18)\n",
    "plt.xlabel('Date',fontsize=14)\n",
    "plt.axvspan(0,150,linestyle=':',linewidth=2,label='first 150 days',color='yellow',alpha=.2)\n",
    "plt.legend(fontsize=12,ncol=2,loc=2);"
   ]
  },
  {
   "cell_type": "code",
   "execution_count": null,
   "metadata": {},
   "outputs": [],
   "source": [
    "# Weight Plotting \n",
    "plt.figure(figsize = (12,5))\n",
    "ax = sns.distplot(train['weight'], \n",
    "             bins=1400, \n",
    "             kde_kws={\"clip\":(0.001,1.4)}, \n",
    "             hist_kws={\"range\":(0.001,1.4)},\n",
    "             color='darkcyan', \n",
    "             kde=False);\n",
    "\n",
    "values = np.array([rec.get_height() for rec in ax.patches])\n",
    "norm = plt.Normalize(values.min(), values.max())\n",
    "colors = plt.cm.jet(norm(values))\n",
    "\n",
    "for rec, col in zip(ax.patches, colors):\n",
    "    rec.set_color(col)\n",
    "plt.xlabel(\"Histogram of non-zero weights\", size=14)\n",
    "plt.show();\n",
    "del values"
   ]
  },
  {
   "cell_type": "code",
   "execution_count": null,
   "metadata": {},
   "outputs": [],
   "source": [
    "# Another weight trend \n",
    "train['resp_trend'] = train['resp'].cumsum()\n",
    "train['weight_trend'] = (train['weight'] * train['resp']).cumsum()\n",
    "train.plot(x='ts_id', y='weight_trend', figsize=(15,5))\n",
    "plt.xlabel('Trade', size=18)\n",
    "plt.title('Cumulative return of resp and weight trend', size=18)\n",
    "plt.legend(loc=2)\n",
    "plt.show()"
   ]
  },
  {
   "cell_type": "code",
   "execution_count": null,
   "metadata": {},
   "outputs": [],
   "source": [
    "f, (ax_box, ax_hist) = plt.subplots(2, sharex=True, gridspec_kw={\n",
    "    'height_ratios': (.15, .85)})\n",
    "sns.boxplot(train['weight'], ax=ax_box)\n",
    "sns.distplot(train['weight'], ax=ax_hist)\n",
    "\n",
    "y = sns.JointGrid(data=train, x='weight', y='resp')\n",
    "y.plot_joint(sns.scatterplot, s=100, alpha=.5)\n",
    "y.plot_marginals(sns.distplot, kde=True, color='green')"
   ]
  },
  {
   "cell_type": "markdown",
   "metadata": {},
   "source": [
    "#### 数据缺失 Null Values \n",
    "\n",
    "因为高频交易的规律与特性，我们会只取单独一天的数据来看EDA。同时接下来的数据填充，是由平均数mean来填充的。"
   ]
  },
  {
   "cell_type": "code",
   "execution_count": null,
   "metadata": {},
   "outputs": [],
   "source": [
    "sample_df = train.query('date == 1')\n",
    "sample_df.describe()"
   ]
  },
  {
   "cell_type": "code",
   "execution_count": null,
   "metadata": {},
   "outputs": [],
   "source": [
    "nan_val = train.isna().sum()[train.isna().sum() > 0].sort_values(ascending=False)\n",
    "fig, axs = plt.subplots(figsize=(10,10))\n",
    "sns.barplot(y = nan_val.index[0:62], \n",
    "            x = nan_val.values[0:62], \n",
    "            alpha = 0.8)\n",
    "plt.title('Missing Values of Train Dataset')\n",
    "plt.xlabel('# of NA')\n",
    "plt.show()"
   ]
  },
  {
   "cell_type": "code",
   "execution_count": null,
   "metadata": {},
   "outputs": [],
   "source": [
    "sample_df = sample_df.apply(lambda x: x.fillna(x.mean()), axis=0)\n",
    "print('After replacing, number of features with null values: ', sample_df.isna().sum().sum())"
   ]
  },
  {
   "cell_type": "code",
   "execution_count": null,
   "metadata": {},
   "outputs": [],
   "source": [
    "sample_df.iloc[:, 7:-2].hist(bins=100, figsize=(30,74), layout=(35,4));"
   ]
  },
  {
   "cell_type": "markdown",
   "metadata": {},
   "source": [
    "在填充完缺失数据之后，我们也来比较一下resp之于weight的散点图的区别。可以发现：\n",
    "* weight更低的时候，resp的离散程度就更高一些。\n",
    "* **Lower weight trades have a much higher dispersion in resp.** \n",
    "* weight可能可以作为一种未来收益波动的预测量。\n",
    "* **Weights implies to be some kind of predictor of future return volatility.** \n"
   ]
  },
  {
   "cell_type": "code",
   "execution_count": null,
   "metadata": {},
   "outputs": [],
   "source": [
    "sns.scatterplot(data=sample_df, x='resp', y='weight', color='green', alpha=.3)\n",
    "plt.title('resp vs weight \\ncorrelation={}'.format(round(sample_df.weight.corr(sample_df.resp), 3))); "
   ]
  },
  {
   "cell_type": "code",
   "execution_count": null,
   "metadata": {},
   "outputs": [],
   "source": [
    "sns.scatterplot(data=train, x='resp', y='weight', alpha=.3)\n",
    "plt.title('resp vs weight \\ncorrelation={}'.format(round(train.weight.corr(train.resp), 3))); "
   ]
  },
  {
   "cell_type": "code",
   "execution_count": null,
   "metadata": {},
   "outputs": [],
   "source": [
    "sns.pairplot(sample_df[['resp_1', 'resp_2', 'resp_3', 'resp_4', 'resp']], corner=True)"
   ]
  },
  {
   "cell_type": "code",
   "execution_count": null,
   "metadata": {},
   "outputs": [],
   "source": [
    "import gc \n",
    "featstr = [i for i in train.columns[7:-2]]\n",
    "fig = plt.figure(figsize=(20,80))\n",
    "fig.suptitle('Features Box plot with 0.1% 99.9% whiskers',fontsize=22, y=.89)\n",
    "grid =  gridspec.GridSpec(29,4,figure=fig,hspace=.5,wspace=.05)\n",
    "counter = 0\n",
    "for i in range(29):\n",
    "    for j in range(4):\n",
    "        subf = fig.add_subplot(grid[i, j]);\n",
    "        sns.boxplot(x= sample_df[featstr[counter]],saturation=.5,color= 'blue', ax= subf,width=.5,whis=(.1,99.9));\n",
    "        subf.set_xlabel('')\n",
    "        subf.set_title('{}'.format(featstr[counter]),fontsize=16)\n",
    "        counter += 1\n",
    "        gc.collect();"
   ]
  },
  {
   "cell_type": "code",
   "execution_count": null,
   "metadata": {},
   "outputs": [],
   "source": [
    "from scipy import stats \n",
    "def r2(x, y):\n",
    "    return stats.pearsonr(x, y)[0] ** 2\n",
    "\n",
    "ratio=4\n",
    "f = plt.figure(figsize=(25,60))\n",
    "outer_grid = gridspec.GridSpec(7, 3, wspace=0.3, hspace=0.3)\n",
    "\n",
    "class myjoint(sns.JointGrid):\n",
    "    def __init__(self, x, y, data=None,height=7, ratio=5, space=.2,\n",
    "                 dropna=True, xlim=None, ylim=None, size=None):\n",
    "        super(myjoint, self).__init__(x, y, data,height, ratio, space,\n",
    "                 dropna, xlim, ylim, size)\n",
    "        plt.close(2)\n",
    "        # Set up the subplot grid\n",
    "        self.ax_joint = f.add_subplot(gs[1:, :-1])\n",
    "        self.ax_marg_x = f.add_subplot(gs[0, :-1], sharex=self.ax_joint)\n",
    "        self.ax_marg_y = f.add_subplot(gs[1:, -1], sharey=self.ax_joint)\n",
    "\n",
    "        # Turn off tick visibility for the measure axis on the marginal plots\n",
    "        plt.setp(self.ax_marg_x.get_xticklabels(), visible=False)\n",
    "        plt.setp(self.ax_marg_y.get_yticklabels(), visible=False)\n",
    "for i, column in enumerate(['resp_1', 'resp_2', 'resp_3', 'resp_4', 'resp']):\n",
    "    gs = gridspec.GridSpecFromSubplotSpec(ratio+1, ratio+1,\n",
    "            subplot_spec=outer_grid[i], wspace=0.3, hspace=0.3)\n",
    "    g = myjoint(y=\"weight\", x=column, data=train, ratio=ratio)\n",
    "    g = g.plot(sns.regplot, sns.distplot)\n",
    "    r2_score = r2(x=train[column],y=train[\"weight\"])\n",
    "    plt.xlabel(f\"{column} R2 score:{round(r2_score,4)}\")"
   ]
  },
  {
   "cell_type": "markdown",
   "metadata": {},
   "source": [
    "## 相关性与分组 Correlation <a class=\"anchor\" id=\"first-bullet\"></a>\n",
    "**元数据** 竞赛主持人对此进行了描述，这也是一个假设，即元数据中的标记代表某种概念（例如体积不平衡）可用来创建这些功能。这使得验证另一个**假设**：根据相同的值，由相同概念制成的要素将具有相同的行为，并且要素之间也具有相关性。因此，为了检验该假设的有效性，我们将尝试将这些特征划分为不同的*类别*。\n",
    "\n",
    "相关性的图标表明，feature resp_4相对于feature resp拥有最高的正相关性，而feature resp_1用于最低的正相关性。"
   ]
  },
  {
   "cell_type": "code",
   "execution_count": null,
   "metadata": {},
   "outputs": [],
   "source": [
    "corr = sample_df.iloc[:,2:7].corr()\n",
    "f, ax = plt.subplots(figsize=(15,10))\n",
    "sns.heatmap(corr, cmap='BrBG', center=0, vmin=1, vmax=1, annot=True, square=True, linewidths=.5, cbar_kws={\n",
    "    'shrink': .5\n",
    "})"
   ]
  },
  {
   "cell_type": "markdown",
   "metadata": {},
   "source": [
    "## 分组实例 Group 0 <a class=\"anchor\" id=\"forth-bullet\"></a>\n",
    "Distributions : Group 0 features with 1st concept "
   ]
  },
  {
   "cell_type": "code",
   "execution_count": null,
   "metadata": {},
   "outputs": [],
   "source": [
    "conditions = [\n",
    "    (sample_df['weight'] <= 40), \n",
    "    (sample_df['weight'] > 40) & (sample_df['weight'] <= 80), \n",
    "    (sample_df['weight'] > 80)\n",
    "]\n",
    "values = ['tier1', 'tier2', 'tier3']\n",
    "sample_df['weight_tier'] = np.select(conditions, values)\n",
    "categories = defaultdict(list)\n",
    "for columns in meta_data.columns[1:]: \n",
    "    categories[f'{columns}'].append(meta_data.query(f'{columns} == True')['feature'].to_list())\n",
    "tag_0 = sample_df[[*categories['tag_0'][0]]]"
   ]
  },
  {
   "cell_type": "code",
   "execution_count": null,
   "metadata": {},
   "outputs": [],
   "source": [
    "fig, axes = plt.subplots(nrows=6, ncols=3,figsize=(25,50))\n",
    "for i, column in enumerate(tag_0.columns):\n",
    "    sns.distplot(tag_0[column],ax=axes[i//3,i%3],color='Green')"
   ]
  },
  {
   "cell_type": "markdown",
   "metadata": {},
   "source": [
    "#### Group 0 Correlation Analysis "
   ]
  },
  {
   "cell_type": "code",
   "execution_count": null,
   "metadata": {},
   "outputs": [],
   "source": [
    "f, ax = plt.subplots(figsize=(45, 20))\n",
    "sns.heatmap(tag_0.corr(), cmap='BrBG', center=0, vmin=-1, vmax=1, annot=True, \n",
    "           square=True, linewidths=.5, cbar_kws={'shrink': .5})"
   ]
  },
  {
   "cell_type": "markdown",
   "metadata": {},
   "source": [
    "#### Group 0 Linear Regression Analysis "
   ]
  },
  {
   "cell_type": "code",
   "execution_count": null,
   "metadata": {},
   "outputs": [],
   "source": [
    "ratio = 4 \n",
    "f = plt.figure(figsize=(25, 60))\n",
    "outer_grid = gridspec.GridSpec(6, 3, wspace=.3, hspace=.3)\n",
    "for i, column in enumerate(tag_0.columns): \n",
    "    gs = gridspec.GridSpecFromSubplotSpec(ratio+1, ratio+1, \n",
    "                                         subplot_spec=outer_grid[i], wspace=.3, hspace=.3)\n",
    "    g = myjoint(y='resp', x=column, data=sample_df, ratio=ratio)\n",
    "    g = g.plot(sns.regplot, sns.distplot)\n",
    "    r2_score = r2(x=sample_df[column].values, y=sample_df['resp'].values)\n",
    "    plt.xlabel(f'{column} R2 score: {round(r2_score, 4)}')\n",
    "f.tight_layout()"
   ]
  },
  {
   "cell_type": "markdown",
   "metadata": {},
   "source": [
    "#### Group 0 Scatter Plot"
   ]
  },
  {
   "cell_type": "code",
   "execution_count": null,
   "metadata": {},
   "outputs": [],
   "source": [
    "ratio = 4 \n",
    "f = plt.figure(figsize=(25, 60))\n",
    "outer_grid = gridspec.GridSpec(6, 3, wspace=.3, hspace=.3)\n",
    "for i, column in enumerate(tag_0.columns): \n",
    "    gs = gridspec.GridSpecFromSubplotSpec(ratio+1, ratio+1, \n",
    "                                         subplot_spec=outer_grid[i], wspace=.3, hspace=.3)\n",
    "    g = myjoint(y='resp', x=column, data=sample_df, ratio=ratio)\n",
    "    g = g.plot(sns.scatterplot, sns.distplot)\n",
    "    r2_score = r2(x=sample_df[column].values, y=sample_df['resp'].values)\n",
    "    plt.xlabel(f'{column} R2 score: {round(r2_score, 4)}')"
   ]
  }
 ],
 "metadata": {
  "kernelspec": {
   "display_name": "Python 3",
   "language": "python",
   "name": "python3"
  },
  "language_info": {
   "codemirror_mode": {
    "name": "ipython",
    "version": 3
   },
   "file_extension": ".py",
   "mimetype": "text/x-python",
   "name": "python",
   "nbconvert_exporter": "python",
   "pygments_lexer": "ipython3",
   "version": "3.8.8"
  }
 },
 "nbformat": 4,
 "nbformat_minor": 4
}
