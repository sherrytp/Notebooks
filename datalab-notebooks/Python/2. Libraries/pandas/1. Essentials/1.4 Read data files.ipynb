{
  "nbformat": 4,
  "nbformat_minor": 0,
  "metadata": {
    "colab": {
      "name": "1.4 Read data files.ipynb",
      "version": "0.3.2",
      "provenance": []
    },
    "kernelspec": {
      "name": "python3",
      "display_name": "Python 3"
    }
  },
  "cells": [
    {
      "cell_type": "markdown",
      "metadata": {
        "id": "8LDGTnYyD35f",
        "colab_type": "text"
      },
      "source": [
        "# `pandas` - Read data files"
      ]
    },
    {
      "cell_type": "markdown",
      "metadata": {
        "id": "7yNRhaNhD35i",
        "colab_type": "text"
      },
      "source": [
        "This notebook demonstrates the `read_csv`, `read_excel`, and `read_json` functions from pandas."
      ]
    },
    {
      "cell_type": "markdown",
      "metadata": {
        "id": "fdfELnsgD35j",
        "colab_type": "text"
      },
      "source": [
        "## Contents\n",
        "1. Setup\n",
        "1. `read_csv` & fixing errors\n",
        "1. `read_excel`\n",
        "1. `read_json`"
      ]
    },
    {
      "cell_type": "markdown",
      "metadata": {
        "id": "Hjoc2UQgD35k",
        "colab_type": "text"
      },
      "source": [
        "## 1. Setup"
      ]
    },
    {
      "cell_type": "code",
      "metadata": {
        "id": "RAYxtdCcD59F",
        "colab_type": "code",
        "colab": {
          "base_uri": "https://localhost:8080/",
          "height": 34
        },
        "outputId": "37165810-c7a9-4e6a-b361-1c6cad9da700"
      },
      "source": [
        "%%sh\n",
        "git clone https://github.com/datalab-datasets/538-mad-men"
      ],
      "execution_count": 14,
      "outputs": [
        {
          "output_type": "stream",
          "text": [
            "Cloning into '538-mad-men'...\n"
          ],
          "name": "stderr"
        }
      ]
    },
    {
      "cell_type": "code",
      "metadata": {
        "id": "U1bLRcixEDI_",
        "colab_type": "code",
        "colab": {
          "base_uri": "https://localhost:8080/",
          "height": 51
        },
        "outputId": "a7296a96-9f96-4504-d238-380f1462bee7"
      },
      "source": [
        "%ls  /content/538-mad-men/*"
      ],
      "execution_count": 15,
      "outputs": [
        {
          "output_type": "stream",
          "text": [
            "/content/538-mad-men/performer-scores.csv  /content/538-mad-men/show-data.csv\n",
            "/content/538-mad-men/README.md\n"
          ],
          "name": "stdout"
        }
      ]
    },
    {
      "cell_type": "markdown",
      "metadata": {
        "id": "jgYaCBcCD35l",
        "colab_type": "text"
      },
      "source": [
        "Load the `pandas` Python library."
      ]
    },
    {
      "cell_type": "code",
      "metadata": {
        "id": "FQjg4NP4D35m",
        "colab_type": "code",
        "colab": {}
      },
      "source": [
        "%python\n",
        "import pandas as pd"
      ],
      "execution_count": 0,
      "outputs": []
    },
    {
      "cell_type": "code",
      "metadata": {
        "id": "l3QtbCf_D35q",
        "colab_type": "code",
        "colab": {
          "base_uri": "https://localhost:8080/",
          "height": 85
        },
        "outputId": "19c70ac2-0b16-4d71-aa84-6047b7b8e064"
      },
      "source": [
        "%ls -hot /content/538-mad-men/"
      ],
      "execution_count": 19,
      "outputs": [
        {
          "output_type": "stream",
          "text": [
            "total 48K\n",
            "-rw-r--r-- 1 root 8.0K Jun 18 14:52 performer-scores.csv\n",
            "-rw-r--r-- 1 root 2.0K Jun 18 14:52 README.md\n",
            "-rw-r--r-- 1 root  35K Jun 18 14:52 show-data.csv\n"
          ],
          "name": "stdout"
        }
      ]
    },
    {
      "cell_type": "code",
      "metadata": {
        "id": "duR4WFGGD35u",
        "colab_type": "code",
        "colab": {
          "base_uri": "https://localhost:8080/",
          "height": 68
        },
        "outputId": "dd9658ce-b58c-4bbf-8fb5-5caa86f6c4f7"
      },
      "source": [
        "%ls -hot /content/538-mad-men/*"
      ],
      "execution_count": 20,
      "outputs": [
        {
          "output_type": "stream",
          "text": [
            "-rw-r--r-- 1 root 8.0K Jun 18 14:52 /content/538-mad-men/performer-scores.csv\n",
            "-rw-r--r-- 1 root 2.0K Jun 18 14:52 /content/538-mad-men/README.md\n",
            "-rw-r--r-- 1 root  35K Jun 18 14:52 /content/538-mad-men/show-data.csv\n"
          ],
          "name": "stdout"
        }
      ]
    },
    {
      "cell_type": "markdown",
      "metadata": {
        "id": "wAkHsy32D35w",
        "colab_type": "text"
      },
      "source": [
        "Notice that the output above changes if the asterisk is removed/included in the filepath of the `ls` command. \n",
        "\n",
        "The asterisk is required in order to produce a vector of full filepaths."
      ]
    },
    {
      "cell_type": "markdown",
      "metadata": {
        "id": "Eim95QcUD35x",
        "colab_type": "text"
      },
      "source": [
        "## 2. `read_csv` & fixing errors"
      ]
    },
    {
      "cell_type": "markdown",
      "metadata": {
        "id": "QAlfAEpmD35y",
        "colab_type": "text"
      },
      "source": [
        "Attempt to read the `show-data.csv` file with the pandas `read_csv` function. \n",
        "\n",
        "It produces an error, which we will fix below."
      ]
    },
    {
      "cell_type": "code",
      "metadata": {
        "id": "U-HkhxFQD35z",
        "colab_type": "code",
        "colab": {
          "base_uri": "https://localhost:8080/",
          "height": 834
        },
        "outputId": "d6b491e6-c169-406e-e87c-3e493c6e3bd9"
      },
      "source": [
        "import pandas as pd\n",
        "mad_men_show_data_pdf = pd.read_csv('/content/538-mad-men/show-data.csv')\n",
        "mad_men_show_data_pdf"
      ],
      "execution_count": 21,
      "outputs": [
        {
          "output_type": "error",
          "ename": "UnicodeDecodeError",
          "evalue": "ignored",
          "traceback": [
            "\u001b[0;31m---------------------------------------------------------------------------\u001b[0m",
            "\u001b[0;31mUnicodeDecodeError\u001b[0m                        Traceback (most recent call last)",
            "\u001b[0;32mpandas/_libs/parsers.pyx\u001b[0m in \u001b[0;36mpandas._libs.parsers.TextReader._convert_tokens\u001b[0;34m()\u001b[0m\n",
            "\u001b[0;32mpandas/_libs/parsers.pyx\u001b[0m in \u001b[0;36mpandas._libs.parsers.TextReader._convert_with_dtype\u001b[0;34m()\u001b[0m\n",
            "\u001b[0;32mpandas/_libs/parsers.pyx\u001b[0m in \u001b[0;36mpandas._libs.parsers.TextReader._string_convert\u001b[0;34m()\u001b[0m\n",
            "\u001b[0;32mpandas/_libs/parsers.pyx\u001b[0m in \u001b[0;36mpandas._libs.parsers._string_box_utf8\u001b[0;34m()\u001b[0m\n",
            "\u001b[0;31mUnicodeDecodeError\u001b[0m: 'utf-8' codec can't decode byte 0xd5 in position 11: invalid continuation byte",
            "\nDuring handling of the above exception, another exception occurred:\n",
            "\u001b[0;31mUnicodeDecodeError\u001b[0m                        Traceback (most recent call last)",
            "\u001b[0;32m<ipython-input-21-ed13fc13aa23>\u001b[0m in \u001b[0;36m<module>\u001b[0;34m()\u001b[0m\n\u001b[1;32m      1\u001b[0m \u001b[0;32mimport\u001b[0m \u001b[0mpandas\u001b[0m \u001b[0;32mas\u001b[0m \u001b[0mpd\u001b[0m\u001b[0;34m\u001b[0m\u001b[0;34m\u001b[0m\u001b[0m\n\u001b[0;32m----> 2\u001b[0;31m \u001b[0mmad_men_show_data_pdf\u001b[0m \u001b[0;34m=\u001b[0m \u001b[0mpd\u001b[0m\u001b[0;34m.\u001b[0m\u001b[0mread_csv\u001b[0m\u001b[0;34m(\u001b[0m\u001b[0;34m'/content/538-mad-men/show-data.csv'\u001b[0m\u001b[0;34m)\u001b[0m\u001b[0;34m\u001b[0m\u001b[0;34m\u001b[0m\u001b[0m\n\u001b[0m\u001b[1;32m      3\u001b[0m \u001b[0mmad_men_show_data_pdf\u001b[0m\u001b[0;34m\u001b[0m\u001b[0;34m\u001b[0m\u001b[0m\n",
            "\u001b[0;32m/usr/local/lib/python3.6/dist-packages/pandas/io/parsers.py\u001b[0m in \u001b[0;36mparser_f\u001b[0;34m(filepath_or_buffer, sep, delimiter, header, names, index_col, usecols, squeeze, prefix, mangle_dupe_cols, dtype, engine, converters, true_values, false_values, skipinitialspace, skiprows, skipfooter, nrows, na_values, keep_default_na, na_filter, verbose, skip_blank_lines, parse_dates, infer_datetime_format, keep_date_col, date_parser, dayfirst, iterator, chunksize, compression, thousands, decimal, lineterminator, quotechar, quoting, doublequote, escapechar, comment, encoding, dialect, tupleize_cols, error_bad_lines, warn_bad_lines, delim_whitespace, low_memory, memory_map, float_precision)\u001b[0m\n\u001b[1;32m    700\u001b[0m                     skip_blank_lines=skip_blank_lines)\n\u001b[1;32m    701\u001b[0m \u001b[0;34m\u001b[0m\u001b[0m\n\u001b[0;32m--> 702\u001b[0;31m         \u001b[0;32mreturn\u001b[0m \u001b[0m_read\u001b[0m\u001b[0;34m(\u001b[0m\u001b[0mfilepath_or_buffer\u001b[0m\u001b[0;34m,\u001b[0m \u001b[0mkwds\u001b[0m\u001b[0;34m)\u001b[0m\u001b[0;34m\u001b[0m\u001b[0;34m\u001b[0m\u001b[0m\n\u001b[0m\u001b[1;32m    703\u001b[0m \u001b[0;34m\u001b[0m\u001b[0m\n\u001b[1;32m    704\u001b[0m     \u001b[0mparser_f\u001b[0m\u001b[0;34m.\u001b[0m\u001b[0m__name__\u001b[0m \u001b[0;34m=\u001b[0m \u001b[0mname\u001b[0m\u001b[0;34m\u001b[0m\u001b[0;34m\u001b[0m\u001b[0m\n",
            "\u001b[0;32m/usr/local/lib/python3.6/dist-packages/pandas/io/parsers.py\u001b[0m in \u001b[0;36m_read\u001b[0;34m(filepath_or_buffer, kwds)\u001b[0m\n\u001b[1;32m    433\u001b[0m \u001b[0;34m\u001b[0m\u001b[0m\n\u001b[1;32m    434\u001b[0m     \u001b[0;32mtry\u001b[0m\u001b[0;34m:\u001b[0m\u001b[0;34m\u001b[0m\u001b[0;34m\u001b[0m\u001b[0m\n\u001b[0;32m--> 435\u001b[0;31m         \u001b[0mdata\u001b[0m \u001b[0;34m=\u001b[0m \u001b[0mparser\u001b[0m\u001b[0;34m.\u001b[0m\u001b[0mread\u001b[0m\u001b[0;34m(\u001b[0m\u001b[0mnrows\u001b[0m\u001b[0;34m)\u001b[0m\u001b[0;34m\u001b[0m\u001b[0;34m\u001b[0m\u001b[0m\n\u001b[0m\u001b[1;32m    436\u001b[0m     \u001b[0;32mfinally\u001b[0m\u001b[0;34m:\u001b[0m\u001b[0;34m\u001b[0m\u001b[0;34m\u001b[0m\u001b[0m\n\u001b[1;32m    437\u001b[0m         \u001b[0mparser\u001b[0m\u001b[0;34m.\u001b[0m\u001b[0mclose\u001b[0m\u001b[0;34m(\u001b[0m\u001b[0;34m)\u001b[0m\u001b[0;34m\u001b[0m\u001b[0;34m\u001b[0m\u001b[0m\n",
            "\u001b[0;32m/usr/local/lib/python3.6/dist-packages/pandas/io/parsers.py\u001b[0m in \u001b[0;36mread\u001b[0;34m(self, nrows)\u001b[0m\n\u001b[1;32m   1137\u001b[0m     \u001b[0;32mdef\u001b[0m \u001b[0mread\u001b[0m\u001b[0;34m(\u001b[0m\u001b[0mself\u001b[0m\u001b[0;34m,\u001b[0m \u001b[0mnrows\u001b[0m\u001b[0;34m=\u001b[0m\u001b[0;32mNone\u001b[0m\u001b[0;34m)\u001b[0m\u001b[0;34m:\u001b[0m\u001b[0;34m\u001b[0m\u001b[0;34m\u001b[0m\u001b[0m\n\u001b[1;32m   1138\u001b[0m         \u001b[0mnrows\u001b[0m \u001b[0;34m=\u001b[0m \u001b[0m_validate_integer\u001b[0m\u001b[0;34m(\u001b[0m\u001b[0;34m'nrows'\u001b[0m\u001b[0;34m,\u001b[0m \u001b[0mnrows\u001b[0m\u001b[0;34m)\u001b[0m\u001b[0;34m\u001b[0m\u001b[0;34m\u001b[0m\u001b[0m\n\u001b[0;32m-> 1139\u001b[0;31m         \u001b[0mret\u001b[0m \u001b[0;34m=\u001b[0m \u001b[0mself\u001b[0m\u001b[0;34m.\u001b[0m\u001b[0m_engine\u001b[0m\u001b[0;34m.\u001b[0m\u001b[0mread\u001b[0m\u001b[0;34m(\u001b[0m\u001b[0mnrows\u001b[0m\u001b[0;34m)\u001b[0m\u001b[0;34m\u001b[0m\u001b[0;34m\u001b[0m\u001b[0m\n\u001b[0m\u001b[1;32m   1140\u001b[0m \u001b[0;34m\u001b[0m\u001b[0m\n\u001b[1;32m   1141\u001b[0m         \u001b[0;31m# May alter columns / col_dict\u001b[0m\u001b[0;34m\u001b[0m\u001b[0;34m\u001b[0m\u001b[0;34m\u001b[0m\u001b[0m\n",
            "\u001b[0;32m/usr/local/lib/python3.6/dist-packages/pandas/io/parsers.py\u001b[0m in \u001b[0;36mread\u001b[0;34m(self, nrows)\u001b[0m\n\u001b[1;32m   1993\u001b[0m     \u001b[0;32mdef\u001b[0m \u001b[0mread\u001b[0m\u001b[0;34m(\u001b[0m\u001b[0mself\u001b[0m\u001b[0;34m,\u001b[0m \u001b[0mnrows\u001b[0m\u001b[0;34m=\u001b[0m\u001b[0;32mNone\u001b[0m\u001b[0;34m)\u001b[0m\u001b[0;34m:\u001b[0m\u001b[0;34m\u001b[0m\u001b[0;34m\u001b[0m\u001b[0m\n\u001b[1;32m   1994\u001b[0m         \u001b[0;32mtry\u001b[0m\u001b[0;34m:\u001b[0m\u001b[0;34m\u001b[0m\u001b[0;34m\u001b[0m\u001b[0m\n\u001b[0;32m-> 1995\u001b[0;31m             \u001b[0mdata\u001b[0m \u001b[0;34m=\u001b[0m \u001b[0mself\u001b[0m\u001b[0;34m.\u001b[0m\u001b[0m_reader\u001b[0m\u001b[0;34m.\u001b[0m\u001b[0mread\u001b[0m\u001b[0;34m(\u001b[0m\u001b[0mnrows\u001b[0m\u001b[0;34m)\u001b[0m\u001b[0;34m\u001b[0m\u001b[0;34m\u001b[0m\u001b[0m\n\u001b[0m\u001b[1;32m   1996\u001b[0m         \u001b[0;32mexcept\u001b[0m \u001b[0mStopIteration\u001b[0m\u001b[0;34m:\u001b[0m\u001b[0;34m\u001b[0m\u001b[0;34m\u001b[0m\u001b[0m\n\u001b[1;32m   1997\u001b[0m             \u001b[0;32mif\u001b[0m \u001b[0mself\u001b[0m\u001b[0;34m.\u001b[0m\u001b[0m_first_chunk\u001b[0m\u001b[0;34m:\u001b[0m\u001b[0;34m\u001b[0m\u001b[0;34m\u001b[0m\u001b[0m\n",
            "\u001b[0;32mpandas/_libs/parsers.pyx\u001b[0m in \u001b[0;36mpandas._libs.parsers.TextReader.read\u001b[0;34m()\u001b[0m\n",
            "\u001b[0;32mpandas/_libs/parsers.pyx\u001b[0m in \u001b[0;36mpandas._libs.parsers.TextReader._read_low_memory\u001b[0;34m()\u001b[0m\n",
            "\u001b[0;32mpandas/_libs/parsers.pyx\u001b[0m in \u001b[0;36mpandas._libs.parsers.TextReader._read_rows\u001b[0;34m()\u001b[0m\n",
            "\u001b[0;32mpandas/_libs/parsers.pyx\u001b[0m in \u001b[0;36mpandas._libs.parsers.TextReader._convert_column_data\u001b[0;34m()\u001b[0m\n",
            "\u001b[0;32mpandas/_libs/parsers.pyx\u001b[0m in \u001b[0;36mpandas._libs.parsers.TextReader._convert_tokens\u001b[0;34m()\u001b[0m\n",
            "\u001b[0;32mpandas/_libs/parsers.pyx\u001b[0m in \u001b[0;36mpandas._libs.parsers.TextReader._convert_with_dtype\u001b[0;34m()\u001b[0m\n",
            "\u001b[0;32mpandas/_libs/parsers.pyx\u001b[0m in \u001b[0;36mpandas._libs.parsers.TextReader._string_convert\u001b[0;34m()\u001b[0m\n",
            "\u001b[0;32mpandas/_libs/parsers.pyx\u001b[0m in \u001b[0;36mpandas._libs.parsers._string_box_utf8\u001b[0;34m()\u001b[0m\n",
            "\u001b[0;31mUnicodeDecodeError\u001b[0m: 'utf-8' codec can't decode byte 0xd5 in position 11: invalid continuation byte"
          ]
        }
      ]
    },
    {
      "cell_type": "markdown",
      "metadata": {
        "id": "j-p_4xZ7D352",
        "colab_type": "text"
      },
      "source": [
        "Notice the error above is also repeat below when simply displaying the file with the `cat` command."
      ]
    },
    {
      "cell_type": "code",
      "metadata": {
        "id": "Rj73wovZD353",
        "colab_type": "code",
        "colab": {
          "base_uri": "https://localhost:8080/",
          "height": 34
        },
        "outputId": "46e845dc-dc39-45b3-f534-838ceb8bca71"
      },
      "source": [
        "%%sh \n",
        "cat /content/538-mad-men/show-data.csv"
      ],
      "execution_count": 24,
      "outputs": [
        {
          "output_type": "stream",
          "text": [
            "Performer,Show,Show Start,Show End,Status?,CharEnd,Years Since,#LEAD,#SUPPORT,#Shows,Score,Score/Y,lead_notes,support_notes,show_notes\rSteven Hill,Law & Order,1990,2010,END,2000,15,0,0,0,0,0,,,\rKelli Williams,The Practice,1997,2014,END,2003,12,0,1,6,6.25,0.520833333,,Any Day Now (2012),\"Medical Investigation, Season 1; Lie To Me, Season 1-3; Army Wives, Season 6-7\"\rLisaGay Hamilton,The Practice,1997,2014,END,2003,12,2,0,2,4,0.333333333,\"Life of a King, 2014; Go For Sisters, 2013\",,\"Men of a Certain Age, Season 1-2\"\rLara Flynn Boyle,The Practice,1997,2014,END,2003,12,0,0,0,0,0,,,\rDylan McDermott,The Practice,1997,2014,END,2004,11,2,7,6,9.75,0.886363636,\"Olympus Has Fallen, 2013; Freezer, 2014\",\"The Messengers, 2007; Unbeatable Harold, 2009; Burning Palms, 2011; The Perks of Being a Wallflower, 2012; Nobody Walks, 2012; Behaving Badly, 2014; Automata, 2014\",\"Big Shots, Season 1; Dark Blue, Season 1-2; American Horror Story, Season 1; Hostages, Season 1; Stalker, Season 1\"\rCamryn Manheim,The Practice,1997,2014,END,2004,11,0,4,5,6,0.545454545,\"The Hot Flashes, 2013\",\"Twisted, 2004; Dark Water, 2005; An Unfinished Life, 2005; Fort McCoy, 2014\",\"The Gosts Whisperer, Season 2-5; Extant, Season 1\"\rSteve Harris,The Practice,1997,2014,END,2004,11,0,2,3,3.5,0.318181818,,\"12 Rounds, 2009; Takers, 2010\",\"Heist, Season 1; Awake, Season 1; Legends, Season 1\"\rMarla Sokoloff,The Practice,1997,2014,END,2004,11,0,1,1,1.25,0.113636364,,\"Play The Game, 2009\",\"Big Day, Season 1; \"\rJerry Orbach,Law & Order,1990,2010,END,2004,11,0,0,0,0,0,,,\rMichael Badalucco,The Practice,1997,2014,END,2004,11,0,1,0,0.25,0.022727273,,\"Bewitched, 2005\",\rMichael C. Hall,Six Feet Under,2001,2005,END,2005,10,3,1,10,13.25,1.325,\"Gamer, 2009; The Trouble With Bliss, 2012; Cold in July, 2014\",\"Kill Your Darlings, 2013\",\"Dexter: Early Cuts, Season 1-2; Dexter, Season 1-8\"\rJoe Mantegna,Joan of Arcadia,2003,2005,END,2005,10,0,7,9,10.75,1.075,,\"The Kid & I, 2005; The Simpsons Movie, 2007; Redbelt, 2008; Archie's Final Project, 2010; The Assistants, 2010; Cars 2, 2011; Compulsion, 2013\",\"The Starter Wife, Season 1; Criminal Minds, Season 3-10\"\rPeter Krause,Six Feet Under,2001,2005,END,2005,10,1,1,8,9.25,0.925,\"Steep, 2007\",\"Beastly, 2011\",\"The Lost Room, Season 1; Dirty Sexy Money, Season 1-2; Parenthood, Season 1-5\"\rRachel Griffiths,Six Feet Under,2001,2005,END,2005,10,1,2,7,8.5,0.85,\"Patrick: Evil Awakens, 2014\",\"Step Up, 2006; Saving Mr. Banks, 2013\",\"Brothers & Sisters, Seasons 1-5; Camp, Season 1; House Husbands, Season 3\"\rJason Ritter,Joan of Arcadia,2003,2005,END,2005,10,5,9,7,14.25,1.425,\"The Perfect Family, 2012; A Bag of Hammers, 2012; The Big Ask, 2014; About Alex, 2014; Always Woodstock, 2014\",\"W., 2008; The Perfect Age of Rock n Roll, 2011; Brooklyn Brothers Beat the Best, 2012; The End of Love, 2013; Morning, 2013; I Am I, 2014; We'll Never have Paris, 2015; Hits, 2015; Wild Canaries, 2015\",\"The Class, Season 1; The Event, Season 1; Parenthood, Season 3-4; Us and Them season 1; Gravity Falls, Season 1-2\"\rFreddy Rodr�guez,Six Feet Under,2001,2005,END,2005,10,2,4,5,8,0.8,\"Nothing Like the Holidays, 2008; CBGB, 2013\",\"Harsh Times, 2006; Bobby, 2006; Grindhouse, 2007; Fort Bliss, 2014\",\"Ugly Betty, Season 2; Chaos, Season 1; Kaijudo: Rise of the Duel Masters, Season 1; The Night Shift, Season 1-2\"\rFrances Conroy,Six Feet Under,2001,2005,END,2005,10,0,6,4,5.5,0.55,,\"The Wicker Man, 2006; The Seeker: The Dark Is Rising, 2007; The Tale of Despereaux, 2008; Stone, 2010; Bloodworth, 2011; 6 Souls, 2013\",\"Happy Town, Season 1; American Horror Story, Season 1,3-4\"\rLauren Ambrose,Six Feet Under,2001,2005,END,2005,10,1,5,3,5.25,0.525,\"Diggers, 2007\",\"Cold Souls, 2009; Where the Wild Things Are, 2009; Wanderlust, 2012; Grassroots, 2012; Sleepwalk with Me, 2012\",\"The Return of Jezebel James, Season 1; Torchwood, Season 4; Dig, Season1; \"\rAmber Tamblyn,Joan of Arcadia,2003,2005,END,2005,10,3,2,3,6.5,0.65,\"The Grudge 2, 2006; The Sisterhood of the Traveling Pants 2, 2008; 3 Nights in the Desert, 2015\",\"Beyond a Reasonable Doubt, 2009; 127 Hours, 2010\",\"House Season 7; The Unusuals, Season 1; Two and a Half Men, Season 11\"\rJustina Machado,Six Feet Under,2001,2005,END,2005,10,0,3,2,2.75,0.275,,\"The Call, 2013; The Purge: Anarchy, 2014; The Last of Robin Hood, 2014\",\"Three Rivers, Season 1; Welcome to the Family, Season 1\"\rMary Steenburgen,Joan of Arcadia,2003,2005,END,2005,10,0,10,2,4.5,0.45,,\"The Brave One, 2007; Nobel Son, 2008; The Proposal, 2009; The Open Road, 2009; Did You Hear About the Morgans?, 2009; The Help, 2011; Dirty Girl, 2011; Last Vegas, 2013; the One I Love, 2014; Kaguyahime no monogatari, 2015\",\"Bored to Death, Season 3; Justified, Season 6 \"\rMathew St. Patrick,Six Feet Under,2001,2005,END,2005,10,0,1,1,1.25,0.125,,\"War, 2007\",\"Reunion, Season 1\"\rMichael Welch,Joan of Arcadia,2003,2005,END,2005,10,0,8,1,3,0.3,,\"Remember the Daze, 2008; Twilight, 2008; The Twilight Saga: New Moon, 2009; The Twilight Saga: Eclipse, 2010; The Twilight Saga: Breaking Dawn Part 1, 2011; Grace Unplugged, 2013; All The Boys Love Mandy Lane, 2013; Boys of AbuGhraib, 2014\",\"Z Nation, Season 1\"\rAaron Himelstein,Joan of Arcadia,2003,2005,END,2005,10,2,4,1,4,0.4,\"The Assistants, 2010; Losers take All, 2013\",\"Remember the Daze, 2008; The Informers, 2009; All the Boys love Mandy Lane, 2013; Captain America: The Winter Soldier, 2014\",\"Doll & Em, Season 1, The Legend of Korra, Season 2\"\rBecky Wahlstrom,Joan of Arcadia,2003,2005,END,2005,10,0,0,0,0,0,,,\rChris Marquette,Joan of Arcadia,2003,2005,END,2005,10,1,6,0,2.5,0.25,\"Fanboys, 2009\",\"Just Friends, 2005; The Invisible, 2007; Remember the Daze, 2008; The Rite, 2011; The Double, 2011; 10 Rules for Sleeping Around, 2014\",\rMageina Tovah,Joan of Arcadia,2003,2005,END,2005,10,0,1,0,0.25,0.025,,SpongeBob Squarepants: The Movei,\rRob Lowe,The West Wing,1999,2006,END,2006,9,3,2,9,12.5,1.388888889,\"Breakaway, 2011; I Melt With You, 2011; Knife Fight, 2013\",\"Thank You For Smoking, 2006; Sex Tape, 2014\",\"Dr. Vegas, Season 1; Brothers and Sisters, Season 1-4; Parks & Recreations Season 3-6\"\rDul_ Hill,The West Wing,1999,2006,END,2006,9,0,2,8,8.5,0.944444444,,\"The Guardian, 2006; Gayby, 2012\",\"Psych, Season 1-8\"\rDayton Callie,Deadwood,2004,2006,END,2006,9,0,0,8,8,0.888888889,,,\"John from Cincinatti, Season 1; Sons of Anarchy, Season 1-7\"\rTimothy Olyphant,Deadwood,2004,2006,END,2006,9,3,7,7,11.75,1.305555556,\"A Perfect Getaway, 2009; The Crazies, 2010; Dealin with Idiots, 2014\",\"Live Free or Die Hard, 2007; Stop Loss, 2008; Meet Bill, 2008; I am Number Four, 2011; Rango, 2011; Elektra Luxx, 2011; This is where I leave you, 2014\",\"Damages, Season 2; Justified, Season 1-6\"\rJoshua Malina,The West Wing,1999,2006,END,2006,9,0,1,6,6.25,0.694444444,,\"The First Time, 2012\",\"Big Shots, Season 1; Backwash, Season 1; Scandal, Season 1-4\"\rAnna Gunn,Deadwood,2004,2006,END,2006,9,0,0,6,6,0.666666667,,,\"Breaking Bad, Season 1-5; Gracepoint, Season 1\"\rAllison Janney,The West Wing,1999,2006,END,2006,9,4,17,5,13.25,1.472222222,\"The Oranges, 2012; The Way Way Back, 2013; Brightest Star, 2014; Days and Nights, 2014\",\"Hairspray, 2007; Juno, 2007; Away we Go, 2009; Pretty Ugly People, 2009; The Help, 2011; Margaret, 2011; A Thousand Words, 2012; Liberal Arts, 2012; Struck by Lightening, 2013; Touchy Feely, 2013; Mr. Peabody & Sherman, 2014; Bad Words, 2014; Trust Me, 2014; Tammy, 2014; Get on Up, 2014; The Rewrite, 2015; The Duff, 2015\",\"Mr. Sunshine, Season 1; Masters of Sex, Season 1; Mom, Season 1-3\"\rDrea de Matteo,The Sopranos,1999,2007,END,2006,9,1,1,5,6.25,0.694444444,\"New York, I Love You, 2009\",\"Broken English, 2007\",\"Joey, Season 1-2; Desperate Housewives, Season 6; Sons of Anarchy Season 6-7\"\rPaula Malcomson,Deadwood,2004,2006,END,2006,9,0,3,5,5.75,0.638888889,,\"The Hunger Games, 2012; The Hinger Games: Catching Fire, 2013; The Hunger Games: Mockingjay - Part 1, 2014\",\"John From Cincinatti, Season 1; Sons of Anarchy, Season 3; Caprica, Season 1; Ray Donovan, Season 1-2;\"\rLeon Rippy,Deadwood,2004,2006,END,2006,9,0,2,5,5.5,0.611111111,,\"Gridiron Gang, 2006; The Lone Ranger, 2013\",\"Saving Grace, Season 1-3; Alcatraz, Season 1; \"\rKim Dickens,Deadwood,2004,2006,END,2006,9,0,3,5,5.75,0.638888889,,\"Thank You For Smoking, 2006; The Blind Side, 2009; Gone Girl, 2014\",\"12 Miles of Bad Road, Season 1; Treme, Season 1-4\"\rBradley Whitford,The West Wing,1999,2006,END,2006,9,1,2,4,5.5,0.611111111,\"The Cabin In The Woods, 2012\",\"Saving Mr. Banks, 2013; Decoding Annie Parker, 2014\",\"Studio 60 on the Sunset Strip, Season 1; The Good Guys, Season 1; Lauren, Season 2; Trophy Wife, Season 1\"\rMolly Parker,Deadwood,2004,2006,END,2006,9,1,3,4,5.75,0.638888889,\"The Playroom, 2013\",\"The Wicker Man, 2006; Hollywoodland, 2006; That's What I Am, 2011\",\"Swingtown, Season 1; The Firm, Season 1; House of Cards, Season 2-3\"\rWilliam Sanderson,Deadwood,2004,2006,END,2006,9,0,0,4,4,0.444444444,,,\"Bar Karma, Season 1; True Blood, Season 1-3\"\rSean Bridgers,Deadwood,2004,2006,END,2006,9,0,2,3,3.5,0.388888889,,\"Jug Face, 2013; The Best of Me, 2014\",\"12 Miles of Bad Road, Season 1; Rectify Season 1-2\"\rRichard Schiff,The West Wing,1999,2006,END,2006,9,2,7,2,5.75,0.638888889,\"Knife Fight, 2013; Decoding Annie Parker, 2014\",\"The Martian Child, 2007; Imagine That, 2009; Johnny English Reborn, 2011; Man of Steel, 2013; Kill the Messenger, 2014; Before I Disappear, 2014; The Gambler, 2014\",\"Past Life, Season 1; Murder in the First, Season 1\"\rIan McShane,Deadwood,2004,2006,END,2006,9,1,13,2,6.25,0.694444444,\"Pirates of the Carribean: On Stranger Tides, 2011\",\"We Are Marshall, 2006; Shrek the Third, 2007; Hot Rod, 2007; The Seeker: The Dark is Rising, 2007; Kung Fu Panda, 2008; Death Race, 2008; Coraline, 2009; Case 39, 2010; Snow White and the Huntsman, 2012; Jack the Giant Slayer, 2013; Cuban Fury, 2014; Hercules, 2014; John Wick, 2014;\",\"Kings, Season 1; The Pillars of the Earth, Season 1\"\rJohn Hawkes,Deadwood,2004,2006,END,2006,9,6,7,2,9.75,1.083333333,\"Earthwork, 2011; The Sessions, 2012; The Playroom, 2013; The Pardon, 2013; Life of Crime, 2014; Low Down, 2014\",\"Miami Vice, 2006; American Gangster, 2007; Winter's Bone, 2010; Higher Ground, 2011; Contagion, 2011; Martha Marcy May Marlene, 2011; Lincoln, 2012; \",\"Eastbound & Down, Season 1&4\"\rRobin Weigert,Deadwood,2004,2006,END,2006,9,1,3,2,3.75,0.416666667,\"Concussion, 2013\",\"Synechdoche, New York, 2008; My One And Only, 2009; The Sessions, 2012\",\"Life, Season 1; Sons of Anarchy, Season 6; \"\rJim Beaver,Deadwood,2004,2006,END,2006,9,0,0,2,2,0.222222222,,,\"John from Cincinnati, Season 1; Harper's Island, Season 1; \"\rPowers Boothe,Deadwood,2004,2006,END,2006,9,0,4,2,3,0.333333333,,\"The Final Season, 2007; MacGruber, 2010; The Avengers, 2012; Sin City: A Dame to Kill For, 2014\",\"24, Season 6; Nashville, Season 1\"\rTitus Welliver,Deadwood,2004,2006,END,2006,9,1,6,2,4.5,0.5,\"Poker Night, 2014\",\"Gone Baby Gone, 2007; The Town, 2010; Man on a Ledge, 2012; Argo, 2012; Promised Land, 2012; Transformers: Age of Extinction, 2014\",\"Sons of Anarchy, Season 3; Bosch, Season 1\"\rKeone Young,Deadwood,2004,2006,END,2006,9,0,0,2,2,0.222222222,,,\"American Dragon Jake Long, Season 1-2\"\rJanel Moloney,The West Wing,1999,2006,END,2006,9,0,1,1,1.25,0.138888889,,\"Concussion, 2013\",\"Brotherhood, Season 2\"\rMelissa Fitzgerald,The West Wing,1999,2006,END,2006,9,0,0,1,1,0.111111111,,,\"Chasing the Hill, Season 1\"\rW. Earl Brown,Deadwood,2004,2006,END,2006,9,0,6,1,2.5,0.277777778,,\"Bloodworth, 2011; The Sessions, 2012; The Lone Ranger, 2013; Draft Day, 2014; Beneath the Harvest Sky, 2014; Wild, 2014\",\"American Crime, Season 1\"\rJohn Spencer,The West Wing,1999,2006,END,2006,9,0,0,0,0,0,,,\rMartin Sheen,The West Wing,1999,2006,END,2006,9,2,9,0,4.25,0.472222222,\"The Way, 2011; Stella Days, 2012\",\"The Departed, 2006; Bobby, 2006; Talk to Me, 2007; Imagine That, 2009; The Double, 2011; Seeking a Friend for the End of the World, 2012; The Amazing Spider-Man, 2012; The Amazing Spider-Man 2, 2014; Selma, 2014\",\rNiCole Robinson,The West Wing,1999,2006,END,2006,9,0,0,0,0,0,,,\rBrad Dourif,Deadwood,2004,2006,END,2006,9,1,5,0,2.25,0.25,\"Chain Letter, 2010\",\"Halloween, 2007; Haloween 2, 2009; Priest, 2011; Fading of the Cross, 2011; Catch .44, 2011\",\rBree Seanna Wall,Deadwood,2004,2006,END,2006,9,0,0,0,0,0,,,\rJeffrey Jones,Deadwood,2004,2006,END,2006,9,1,0,0,1,0.111111111,\"Who's Your Caddy?, 2007\",,\rPeter Jason,Deadwood,2004,2006,END,2006,9,0,1,0,0.25,0.027777778,,\"The Secret World of Arietty, 2012\",\rLarry Cedar,Deadwood,2004,2006,END,2006,9,0,2,0,0.5,0.055555556,,\"The Ant Bully, 2006; Atlas Shrugged: Who Is John Galt, 2014\",\rGeri Jewell,Deadwood,2004,2006,END,2006,9,0,0,0,0,0,,,\rRalph Richeson,Deadwood,2004,2006,END,2006,9,0,0,0,0,0,,,\rEdie Falco,The Sopranos,1999,2007,END,2007,8,0,0,7,7,0.875,,,\"Nurse Jackie, Season 1-7\"\rLorraine Bracco,The Sopranos,1999,2007,END,2007,8,0,0,6,6,0.75,,,\"Rizzoli & Isles, Season 1-5\"\rMark Valley,Boston Legal,2004,2008,END,2007,8,0,1,6,6.25,0.78125,,\"Zero Dark Thirty, 2012\",\"Fringe, Season 1; Human Target, Season 1-2; Harry's Law, Season 2; Body of Proof, Season 2; Crisis, Season 1;\"\rSteve Schirripa,The Sopranos,1999,2007,END,2007,8,0,1,5,5.25,0.65625,,\"Planes: Fire and Rescue, 2014\",The Secret Life of the American Teenager Season 1-5\rMichael Imperioli,The Sopranos,1999,2007,END,2007,8,0,6,3,4.5,0.5625,,\"The Lovely Bones, 2009; Stuck between stations, 2011; The Call, 2013; Oldboy, 2013; Catinflas, 2014; The Scribbler, 2014\",\"Life on Mars, Season 1; Detroit 1-8-7, Season 1; Californication, Season 7\"\rSteven Van Zandt,The Sopranos,1999,2007,END,2007,8,0,0,3,3,0.375,,,\"Lillyhammer, Season 1-3\"\rJamie-Lynn Sigler,The Sopranos,1999,2007,END,2007,8,2,0,2,4,0.5,\"I Do, 2013; Jewtopia, 2013\",,\"Entourage, Season 6; Guys with Kids, Season 1\"\rDominic Chianese,The Sopranos,1999,2007,END,2007,8,0,0,1,1,0.125,,,\"Damages, Season 3; \"\rJames Gandolfini,The Sopranos,1999,2007,END,2007,8,4,7,0,5.75,0.71875,\"Welcome to the Rileys, 2010; Down the Shore, 2013; Enough Said, 2013; The Drop, 2014\",\"The Taking of Pelham 123, 2009; Where the Wild Things Are, 2009; Killing them Softly, 2012; Zero Dark Thirty, 2012; Not Fade Away, 2012; The Incredible Burt Wonderstone, 2013; Violet and Daisy, 2013\",\rTony Sirico,The Sopranos,1999,2007,END,2007,8,0,0,0,0,0,,,\rRobert Iler,The Sopranos,1999,2007,END,2007,8,0,0,0,0,0,,,\rAida Turturro,The Sopranos,1999,2007,END,2007,8,0,0,0,0,0,,,\rDan Grimaldi,The Sopranos,1999,2007,END,2007,8,0,1,0,0.25,0.03125,,\"The Quitter, 2014\",\rJulie Bowen,Boston Legal,2004,2008,END,2008,7,1,2,6,7.5,1.071428571,\"Knife Fight, 2013\",\"Jumping the Broom, 2011; Planes: Fire and Rescue, 2014\",\"Modern Family, Season 1-6\"\rGoran Visnjic,ER,1994,2009,END,2008,7,1,3,3,4.75,0.678571429,\"k-11, 2013\",\"Beginners, 2011; The Girl With The Dragon Tattoo, 2011; The Counselor, 2013\",\"The Deep, Season 1; Red Widow, Season 1; Extant, Season 1\"\rJames Spader,Boston Legal,2004,2008,END,2008,7,1,2,3,4.5,0.642857143,\"The Avengers: Age of Ultron, 2015\",\"Lincoln, 2012; The Homesman, 2014\",\"The Office, Season 8; The Blacklist, Season 1-2\"\rRene Auberjonois,Boston Legal,2004,2008,END,2008,7,0,1,3,3.25,0.464285714,,\"Planes: Fire and Rescue, 2014\",\"Pound Puppies, Season 1-3\"\rGaius Charles,Friday Night Lights,2006,2011,END,2008,7,0,0,2,2,0.285714286,,,\"Grey's Anatomy, Season 9-10\"\rAnthony Edwards,ER,1994,2009,END,2008,7,0,4,1,2,0.285714286,,\"Motherhood, 2009; Flipped, 2010; Disney Planes, 2013; Big Sur, 2013\",\"Zero Hour, season1\"\rWilliam Shatner,Boston Legal,2004,2008,END,2008,7,1,0,1,2,0.285714286,\"Escape from Planet Earth, 2013\",,\"$#*! My Dad Says, Season 1; \"\rCandice Bergen,Boston Legal,2004,2008,END,2008,7,0,3,0,0.75,0.107142857,,\"Sex and the City, 2008; The Women, 2008; A Merry Friggin Christmas, 2014\",\rNoah Wyle,ER,1994,2009,END,2009,6,2,1,5,7.25,1.208333333,\"Queen of the Lot, 2010; The World Made Straight, 2015\",Snake and Mongoose,\"Falling Skies, Season 1-5\"\rMaura Tierney,ER,1994,2009,END,2009,6,1,0,4,5,0.833333333,\"Nature Calls, 2012\",,\"The Whole Truth, Season 1; Ruth & Erica, Season 1; The Affair, Season 1-2\"\rLaura Innes,ER,1994,2009,END,2009,6,0,0,2,2,0.333333333,,,\"The Event, Season 1; Awake, Season1\"\rCarlos Bernard,24,2001,2010,END,2009,6,0,0,2,2,0.333333333,,,\"Scoundrels, Season 1; Dallas, Season 1\"\rMinka Kelly,Friday Night Lights,2006,2011,END,2009,6,1,2,2,3.5,0.583333333,\"The World Made Straight, 2015\",\"The Roommate, 2011; Lee Daniels' The Butler, 2013\",\"Charlie's Angels, Season 1; Almost Human, Season 1\"\rYvette Freeman,ER,1994,2009,END,2009,6,0,0,1,1,0.166666667,,,\"Orange is the new Black, Season 2\"\rLaura Cer�n,ER,1994,2009,END,2009,6,0,0,0,0,0,,,\rDeezer D,ER,1994,2009,END,2009,6,0,0,0,0,0,,,\rEriq La Salle,ER,1994,2009,END,2009,6,0,0,0,0,0,,,\rEmily Wagner,ER,1994,2009,END,2009,6,0,1,0,0.25,0.041666667,,\"2 Days In New York, 2012\",\rAdrian Pasdar,Heroes,2006,2010,END,2010,5,0,0,6,6,1.2,,,\"Iron Man, Season 1; Political Animals, Season 1; The Lying Game, Season 1-2; Marvel's Avengers Assemble, Season 1-2\"\rScott Porter,Friday Night Lights,2006,2011,END,2010,5,3,1,6,9.25,1.85,\"The Good Guy, 2010; 10 Years, 2012; The To Do List, 2013\",\"Dear John, 2010\",\"The Good Wife, Season 2; X-Men, Season 1; Heart of Dixie, Season 1-4\"\rDaniel Dae Kim,Lost,2004,2010,END,2010,5,0,1,5,5.25,1.05,,\"Insurgent, 2015\",\"Hawaii Five-O, Season 1-5\"\rKiefer Sutherland,24,2001,2010,END,2010,5,1,4,4,6,1.2,\"The Reluctant Fundamentalist, 2013\",\"Marmaduke, 2010; Twelve, 2010; Melancholia, 2011; Pompeii, 2014\",\"The Confession, Season 1; Touch, Season 1-2; 24: Live Another Day, Season 1\"\rMichael Emerson,Lost,2004,2010,END,2010,5,0,0,4,4,0.8,,,\"Person of Interest, Season 1-4\"\rHarold Perrineau,Lost,2004,2010,END,2010,5,1,5,4,6.25,1.25,\"The Best Man Holiday, 2013\",\"Seeking Justice, 2012; Zero Dark Thirty, 2012; Snitch, 2013; Go for Sisters, 2013; Sabotage, 2014\",\"Blade, Season 1;  Sons of Anarchy, Season 5; Wedding Band, Season 1; Constantine, Season 1\"\rMilo Ventimiglia,Heroes,2006,2010,END,2010,5,1,6,4,6.5,1.3,\"The Divide, 2012\",\"That's My Boy, 2012; Kiss of the Damned, 2013; Grown Ups 2, 2013; Killing Season, 2013; Wild Card, 2015; Walter, 2015\",\"Wolverine, Season 1; Mob City, Season 1; Chosen, Season 1-2\"\rMasi Oka,Heroes,2006,2010,END,2010,5,0,0,4,4,0.8,,,\"Hawaii Five-O, Season 2-5\"\rSam Waterston,Law & Order,1990,2010,END,2010,5,0,0,3,3,0.6,,,\"The Newsroom, Season 1-3\"\rMary Lynn Rajskub,24,2001,2010,END,2010,5,0,2,3,3.5,0.7,,\"Safety Not Guaranteed, 2012; The Kings of Summer, 2013\",\"FCU: Fact Checker's Unit, Season 2; How to be a Gentleman, Season 1; 24: Live Another Day, Season 1\"\rEmilie de Ravin,Lost,2004,2010,END,2010,5,2,1,3,5.25,1.05,\"Remember Me, 2010; The Chameleon, 2011\",\"Legend of the Guardians: The Owls of Ga'Hoole 3D, 2010\",\"Once Upon A Time, Season 2-4\"\rHenry Ian Cusick,Lost,2004,2010,END,2010,5,1,0,3,4,0.8,\"The Girl on the Train, 2014\",,\"Scandal, Season 1; The 100, Season 1-2\"\rDominic Monaghan,Lost,2004,2010,END,2010,5,1,0,3,4,0.8,\"The Day, 2012\",,\"FlashForward, Season 1; Goodnight Burbank, Season 1; 100 Code, Season 1\"\rHayden Panettiere,Heroes,2006,2010,END,2010,5,3,1,3,6.25,1.25,\"Alpha and Omega 3D, 2010; Hoodwinked Too: Hood vs. Evil, 2011; Fireflies in the Garden, 2011\",\"Scream 4, 2011\",\"Nashville, Season 1-3\"\rSendhil Ramamurthy,Heroes,2006,2010,END,2010,5,1,0,3,4,0.8,\"It's A Wonderful Afterlife, 2010\",,\"Covert Affairs, Season 1-2; Beauty and the Beast, Season 2\"\rJulie Benz,Dexter,2006,2013,END,2010,5,1,0,3,4,0.8,\"Answers to Nothing, 2011\",,\"No Ordinary Family, Season 1; Defiance, Season 1-2; \"\rJorge Garcia,Lost,2004,2010,END,2010,5,1,0,2,3,0.6,\"The Wedding Ringer, 2015\",,\"Alcatraz, Season 1; Hawaii Five-O, Season 5\"\rNaveen Andrews,Lost,2004,2010,END,2010,5,0,1,2,2.25,0.45,,\"Diana, 2013\",\"Sinbad, Season 1; Once Upon A Time In Wonderland, Season 1\"\rYunjin Kim,Lost,2004,2010,END,2010,5,0,0,2,2,0.4,,,\"Mistresses, Season 1-2\"\rTerry O'Quinn,Lost,2004,2010,END,2010,5,0,0,2,2,0.4,,,\"666 Park Ave, Season 1; Gang Related, Season 1\"\rGreg Grunberg,Heroes,2006,2010,END,2010,5,1,1,2,3.25,0.65,\"Big Ass Spider, 2013\",\"Let's Kill Ward's Wide, 2015\",\"Love Bites, Season 1; The Client List, Season 2; \"\rZachary Quinto,Heroes,2006,2010,END,2010,5,2,2,2,4.5,0.9,\"Margin Call, 2011; Star Trek Into Darkness, 2013\",\"What's Your Number, 2011; We'll Never Have Paris, 2015\",\"American Horror Story, Season 2; The Slap, Season 1\"\rTate Donovan,Damages,2007,2012,END,2010,5,0,1,2,2.25,0.45,,\"Argo, 2012\",\"Hostages, Season 1; 24: Live Another Day, Season 1\"\rJosh Holloway,Lost,2004,2010,END,2010,5,3,1,1,4.25,0.85,\"Stay Cool, 2011; Mission:Impossible - Ghost Protocol, 2011; Battle of the Year, 2013\",\"Sabotage, 2014\",\"Intelligence, Season 1\"\rJack Coleman,Heroes,2006,2010,END,2010,5,0,0,1,1,0.2,,,\"Burn Notice, Season 7; \"\rAli Larter,Heroes,2006,2010,END,2010,5,1,1,1,2.25,0.45,\"Lovesick, 2015\",Resident Evil: Afterlife 3D,\"Legends, Season 1\"\rAshley Crow,Heroes,2006,2010,END,2010,5,0,0,1,1,0.2,,,\"The Secret Circle, Season 1\"\rShawn Doyle,Big Love,2006,2011,End,2010,5,1,0,1,2,0.4,\"The Returned, 2014\",,\"Endgame, Season 1; \"\rS. Epatha Merkerson,Law & Order,1990,2010,END,2010,5,1,2,0,1.5,0.3,\"Peeples, 2013\",\"Mother and Child, 2010; Lincoln, 2012\",\rMatthew Fox,Lost,2004,2010,END,2010,5,1,2,0,1.5,0.3,\"Emperor, 2013\",\"Alex Cross, 2012; World War Z, 2013\",\rEvangeline Lilly,Lost,2004,2010,END,2010,5,0,4,0,1,0.2,,\"Real Steel, 2011; The Hobbit: The Desolation of Smaug, 2013; The Hobbit: The Battle of the Five Armies, 2014; Ant-Man, 2015\",\rJames Kyson,Heroes,2006,2010,END,2010,5,0,0,0,0,0,,,\rCristine Rose,Heroes,2006,2010,END,2010,5,0,0,0,0,0,,,\rMelora Walters,Big Love,2006,2011,End,2010,5,1,3,0,1.75,0.35,\"Underdogs, 2013\",\"Love Ranch, 2010; I Melt with You, 2011; Short Term 12, 2013\",\rHarry Dean Stanton,Big Love,2006,2011,End,2010,5,0,3,0,0.75,0.15,,\"Rango, 2011; The Avengers, 2012; This Must Be The Place, 2012\",\rGinnifer Goodwin,Big Love,2006,2011,End,2011,4,1,1,5,6.25,1.5625,\"Something Borrowed, 2011\",\"Take me Home tonight, 2011\",\"Electric City, Season 1; Once Upon A Time, Season 1-4\"\rChlo� Sevigny,Big Love,2006,2011,End,2011,4,1,2,4,5.5,1.375,\"The Wait, 2014\",\"Mr. Nice, 2011; Little Accidents, 2015\",\"Hit & Miss, Season 1; Portlandia, Season 3; Those Who Kill, Season 1; Bloodline, Season 1\"\rMatt Ross,Big Love,2006,2011,End,2011,4,0,0,4,4,1,,,\"Magic City, Season 1-2; Silicon Valley, Season 1-2\"\rConnie Britton,Friday Night Lights,2006,2011,END,2011,4,3,1,4,7.25,1.8125,\"The Fitzgerald Family Christmas, 2012; Angels Sing, 2013; This Is Where I Leave You, 2014\",\"The To Do List, 2013\",\"American Horror Story, Season 1; Nashville, Season 1-3\"\rJeanne Tripplehorn,Big Love,2006,2011,End,2011,4,2,0,3,5,1.25,\"Morning, 2013; A Perfect Man, 2013\",,\"Electric City, Season 1; Criminal Minds Season 8-9\"\rAimee Teegarden,Friday Night Lights,2006,2011,END,2011,4,2,2,3,5.5,1.375,\"Prom, 2011; Beneath the Darkness, 2012\",\"Scream 4, 2011; Love and Honor, 2013\",\"Aim High, Season 1-2; Star-Crossed, Season 1\"\rLouanne Stephens,Friday Night Lights,2006,2011,END,2011,4,0,0,3,3,0.75,,,\"Longmire, Season 1-3\"\rLisa Edelstein,House,2004,2012,END,2011,4,0,0,2,2,0.5,,,\"The Legend of Korra, Season 2; Girlfriend's Guide to Divorce, Season 1\"\rJoel McKinnon Miller,Big Love,2006,2011,End,2011,4,0,2,2,2.5,0.625,,\"Little Birds, 2012; Rushlights, 2013\",\"Brooklyn Nine-Nine, Season 1-2\"\rJesse Plemons,Friday Night Lights,2006,2011,END,2011,4,0,3,2,2.75,0.6875,,\"Paul, 2011; Meeting Spencer, 2011; Battleship, 2012\",\"Bent, Season 1; Breaking Bad, Season 5\"\rAdrianne Palicki,Friday Night Lights,2006,2011,END,2011,4,3,3,2,5.75,1.4375,\"Red Dawn, 2012; GI Joe: Retaliation, 2012; Dr. Cabbie, 2014\",\"Elektra Luxx, 2011; Coffee Town, 2013; John Wick, 2014\",\"About a Boy, Season 1;  Agents of S.H.E.I.L.D., Season 2\"\rBill Paxton,Big Love,2006,2011,End,2011,4,3,5,1,5.25,1.3125,\"Shanghai Calling, 2012; The Colony, 2013; Red Wing, 2013\",\"Haywire, 2012; 2 Guns, 2013; Million Dollar Arm, 2014; Edge of Tomorrow, 2014; Nightcrawler, 2014\",\"Hatfields & McCoys, Season 1;\"\rKyle Chandler,Friday Night Lights,2006,2011,END,2011,4,1,6,1,3.5,0.875,\"Super 8, 2011\",\"Argo, 2012; Zero Dark Thirty, 2012; Broken City, 2013; The Spectacular Now, 2013; Morning, 2013; The Wolf of Wall Street, 2013\",\"Bloodline, Season 1\"\rZach Gilford,Friday Night Lights,2006,2011,END,2011,4,3,3,1,4.75,1.1875,\"Answers to Nothing, 2011; In our Nature, 2013; Crazy Kind of Love, 2013\",\"The Last Stand, 2013; Devil's Due, 2014; The Purge: Anarchy, 2014\",\"Off The Map, Season 1\"\rDerek Phillips,Friday Night Lights,2006,2011,END,2011,4,0,1,1,1.25,0.3125,,\"42, 2013\",\"The Event, Season 1\"\rStacey Oristano,Friday Night Lights,2006,2011,END,2011,4,0,0,1,1,0.25,,,\"Bunheads, Season 1\"\rDouglas Smith,Big Love,2006,2011,End,2011,4,2,3,0,2.75,0.6875,\"Percy Jackson: Sea of Monsters, 2013; Treading Water, 2015\",\"Antiviral, 2013; Stage Fright, 2014; Ouija, 2014\",\rGrace Zabriskie,Big Love,2006,2011,End,2011,4,0,2,0,0.5,0.125,,\"Wring Cops, 2013; The Judge, 2014\",\rKeegan Holst,Big Love,2006,2011,End,2011,4,0,0,0,0,0,,,\rGarrett Gray,Big Love,2006,2011,End,2011,4,0,0,0,0,0,,,\rAmanda Seyfried,Big Love,2006,2011,End,2011,4,8,3,0,8.75,2.1875,\"Red Riding Hood, 2011; In Time, 2011; Gine, 2012; Les Miserables, 2012; The Big Wedding, 2013; Epic, 2013; Lovelace, 2013; A Million Ways To Die In The West, 2014\",\"The End of Love, 2013; Veronica Mars, 2014; While We're Young, 2015\",\rMary Kay Place,Big Love,2006,2011,End,2011,4,0,4,0,1,0.25,,\"Smashed, 2012; Leonie, 2013; Bad Milo, 2013; Miss Meadows, 2014\",\rDaveigh Chase,Big Love,2006,2011,End,2011,4,0,0,0,0,0,,,\rBruce Dern,Big Love,2006,2011,End,2011,4,1,5,0,2.25,0.5625,\"Nebraska, 2013\",\"Inside Out, 2011; The Hole 3D, 2012; Django Unchained, 2012; Kokuriko-zaka Kara, 2013; Cut Bank, 2015\",\rBrad Leland,Friday Night Lights,2006,2011,END,2011,4,0,0,0,0,0,,,\rTaylor Kitsch,Friday Night Lights,2006,2011,END,2011,4,5,1,0,5.25,1.3125,\"The Bang Bang Club, 2011; John Carter, 2012; Battleship, 2012; Savages, 2012; The Grand Seduction, 2014\",\"Lone Survivor, 2014\",\rBlue Deckert,Friday Night Lights,2006,2011,END,2011,4,0,0,0,0,0,,,\rTimothy F. Crowley,Friday Night Lights,2006,2011,END,2011,4,0,0,0,0,0,,,\rSiobhan Finneran,Downton Abbey,2010,PRESENT,LEFT,2012,3,0,0,8,8,2.666666667,,,\"The Syndicate, Season 2; Happy Valley, Season 1; Benidorm, Season 1-6\"\rJennifer Morrison,House,2004,2012,END,2012,3,2,1,5,7.25,2.416666667,\"Knife Fight, 2013; Some Girl(s), 2013\",\"Warrior, 2011\",\"How I Met Your Mother, Season 6; Once Upon A Time, Season 1-4\"\rRobert Sean Leonard,House,2004,2012,END,2012,3,0,0,3,3,1,,,\"Falling Skies, Season 3\"\rJesse Spencer,House,2004,2012,END,2012,3,1,0,3,4,1.333333333,\"The Girl is in Trouble, 2015\",,\"Chicago Fire, Season 1-3\"\rOmar Epps,House,2004,2012,END,2012,3,0,0,2,2,0.666666667,,,\"Resurrection, Season 1-2\"\rEric Dane,Grey's Anatomy,2005,PRESENT,LEFT,2012,3,0,0,1,1,0.333333333,,,\"The Last Ship, Season 1\"\rDavid Harewood,Homeland,2011,PRESENT,LEFT,2012,3,0,0,1,1,0.333333333,,,\"Selfie, Season 1\"\rHugh Laurie,House,2004,2012,END,2012,3,2,0,0,2,0.666666667,\"The Oranges, 2012; Mr. Pip, 2014\",,\rBobbin Bergstrom,House,2004,2012,END,2012,3,0,0,0,0,0,,,\rPeter Jacobson,House,2004,2012,END,2012,3,0,1,0,0.25,0.083333333,,\"White House Down, 2013\",\rGlenn Close,Damages,2007,2012,END,2012,3,0,3,0,0.75,0.25,,\"Guardians of the Galaxy, 2014; Low Down, 2014; 5 to 7, 2015\",\rRose Byrne,Damages,2007,2012,END,2012,3,5,3,0,5.75,1.916666667,\"I Give It A Year, 2013; Insidious Chapter 2, 2013; Neighbors, 2014; This is where I leave You, 2014; Adult Beginners, 2015\",\"The Place Beyone the Pines, 2013; The Internship, 2013; Annie, 2014\",\rZachary Booth,Damages,2007,2012,END,2012,3,1,3,0,1.75,0.583333333,\"Keep the lights on, 2012\",\"Dark Horse, 2012; Allegiance, 2012; Last Weekend, 2014\",\rChristina Robinson,Dexter,2006,2013,END,2012,3,0,0,0,0,0,,,\rDan Stevens,Downton Abbey,2010,PRESENT,LEFT,2012,3,3,4,0,4,1.333333333,\"Summer in February, 2014; The Guest, 2014; Night at the Museum: Secret of the Tomb, 2014\",\"Vamps, 2012; The Fifth Estate, 2013; A Walk Among the Tombstones, 2014; The Cobbler, 2015\",\rBob Odenkirk,Breaking Bad,2008,2013,END,2013,2,1,3,3,4.75,2.375,\"Dealin with Idiots, 2013\",\"The Spectacular Now, 2013; Ass Backwards, 2013; Nebraska, 2013\",\"Fargo, Season 1; The Birthday Boys, Season 1; Better Call Saul, Season 1\"\rMichelle Fairley,Game of Thrones,2011,PRESENT,LEFT,2013,2,0,2,3,3.5,1.75,,\"Ironclad: Battle for Blood, 2014; Jack et la mecanique du coeur, 2014\",\"Suits, Season 3; 24: Live Another Day, Season 1; Resurrection, Season 2\"\rDavid Zayas,Dexter,2006,2013,END,2013,2,0,2,2,2.5,1.25,,\"Annie, 2014; Ride, 2015\",\"Saint George, Season 1; Gotham, Season 1\"\rDean Norris,Breaking Bad,2008,2013,END,2013,2,1,2,2,3.5,1.75,\"Small Time, 2014\",\"The Counselor, 2013; Men, Women and Children, 2014\",\"Under The Dome, Season 1-2\"\rBetsy Brandt,Breaking Bad,2008,2013,END,2013,2,0,0,2,2,1,,,\"The Michael J. Fox Show, Season 1; Masters of Sex, Season 2;\"\rMorena Baccarin,Homeland,2011,PRESENT,LEFT,2013,2,1,0,2,3,1.5,\"Back in the Day, 2014\",,\"The Red Tent, Season 1; Gotham, Season 1\"\rDiego Klattenhoff,Homeland,2011,PRESENT,LEFT,2013,2,1,0,2,3,1.5,\"Pacific Rim, 2013\",,\"The Blacklist, Season 1-2\"\rMarg Helgenberger,CSI: Crime Scene Investigations,2000,PRESENT,LEFT,2013,2,0,0,1,1,0.5,,,\"Intelligence, Season 1\"\rJames Remar,Dexter,2006,2013,END,2013,2,1,2,1,2.5,1.25,\"Persecuted, 2014\",\"Horns, 2014; Lap Dance, 2014\",\"State of Affairs, Season 1;\"\rAnna Gunn,Breaking Bad,2008,2013,END,2013,2,0,0,1,1,0.5,,,\"Gracepoint, Season 1\"\rAaron Paul,Breaking Bad,2008,2013,END,2013,2,4,1,1,5.25,2.625,\"Need for Speed, 2014; Decoding Annie Parker, 2014; Hellion, 2014; A Long Way Down, 2914\",Exodus: Gods and Kings,\"Bojack Horseman, Season 1\"\rJack Huston,Boardwalk Empire,2010,2014,END,2013,2,1,3,1,2.75,1.375,\"Two Jacks, 2013\",\"Kill your darlings, 2013; American Hustle, 2013; The Longest Ride, 2015\",\"The Great Fire, Season 1\"\rMichael C. Hall,Dexter,2006,2013,END,2013,2,1,0,0,1,0.5,\"Cold in July, 2014\",\"Kill Your Darlings, 2013\",\rJennifer Carpenter,Dexter,2006,2013,END,2013,2,0,1,0,0.25,0.125,,\"The Devil's Hand, 2014\",\rC.S. Lee,Dexter,2006,2013,END,2013,2,0,0,0,0,0,,,\rLauren V�lez,Dexter,2006,2013,END,2013,2,0,0,0,0,0,,,\rDesmond Harrington,Dexter,2006,2013,END,2013,2,0,0,0,0,0,,,\rBryan Cranston,Breaking Bad,2008,2013,END,2013,2,2,1,0,2.25,1.125,\"Cold Comes the Night, 2014; Trumbo, 2015\",\"Godzilla, 2014\",\rRJ Mitte,Breaking Bad,2008,2013,END,2013,2,0,0,0,0,0,,,\rSteven Michael Quezada,Breaking Bad,2008,2013,END,2013,2,0,0,0,0,0,,,\rMichael Stuhlbarg,Boardwalk Empire,2010,2014,END,2013,2,0,2,0,0.5,0.25,,\"Blue Jasmine, 2013; Cut Bank, 2015\",\rAnthony Laciura,Boardwalk Empire,2010,2014,END,2013,2,0,0,0,0,0,,,\rBrady Noon,Boardwalk Empire,2010,2014,END,2013,2,0,0,0,0,0,,,\rConnor Noon,Boardwalk Empire,2010,2014,END,2013,2,0,0,0,0,0,,,\rLucy Gallina,Boardwalk Empire,2010,2014,END,2013,2,0,0,0,0,0,,,\rJosie Gallina,Boardwalk Empire,2010,2014,END,2013,2,0,0,0,0,0,,,\rDeclan McTigue,Boardwalk Empire,2010,2014,END,2013,2,0,0,0,0,0,,,\rRory McTigue,Boardwalk Empire,2010,2014,END,2013,2,0,0,0,0,0,,,\rJackson Pace,Homeland,2011,PRESENT,LEFT,2013,2,0,0,0,0,0,,,\rMorgan Saylor,Homeland,2011,PRESENT,LEFT,2013,2,0,2,0,0.5,0.25,,\"Jamie Marks is Dead, 2014; McFarland, USA, 2015\",\rDeborah Ann Woll,True Blood,2008,2014,END,2014,1,0,0,1,1,1,,,\"Daredevil, Season 1\"\rShea Whigham,Boardwalk Empire,2010,2014,END,2014,1,0,3,1,1.75,1.75,,\"Non-Stop, 2014; Radio Free Albemuth, 2014; The Life and Mind of Mark DeFriest, 2015\",\"Agent Carter, Season 1\"\rPaul Sparks,Boardwalk Empire,2010,2014,END,2014,1,0,1,1,1.25,1.25,,\"Trust Me, 2014\",\"House of Cards, Season 3\"\rRory McCann,Game of Thrones,2011,PRESENT,LEFT,2014,1,0,0,1,1,1,,,\"Banished, Season 1\"\rTory Kittles,True Detective -10,2014,2014,END,2014,1,0,0,1,1,1,,,\"Intruders, Season 1\"\rJ.D. Evermore,True Detective -29,2014,2014,END,2014,1,0,0,1,1,1,,,\"Rectify, Season 2\"\rPaul Guilfoyle,CSI: Crime Scene Investigations,2000,PRESENT,LEFT,2014,1,0,0,0,0,0,,,\rAnna Paquin,True Blood,2008,2014,END,2014,1,0,1,0,0.25,0.25,,X-Men: Days of Future Past,\rStephen Moyer,True Blood,2008,2014,END,2014,1,0,1,0,0.25,0.25,,\"Devil's Knot, 2014\",\rSam Trammell,True Blood,2008,2014,END,2014,1,1,1,0,1.25,1.25,\"The Privileged, 2014\",\"The Fault in our Stars, 2014\",\rRyan Kwanten,True Blood,2008,2014,END,2014,1,4,0,0,4,4,\"Knights of Badassdom, 2014; The Right Kind of Wrong, 2014; Reach Me, 2014; Kidnapping Mr. Heineken, 2015\",,\rRutina Wesley,True Blood,2008,2014,END,2014,1,0,2,0,0.5,0.5,,\"13 Sins, 2014; Last Weekend, 2014\",\rChris Bauer,True Blood,2008,2014,END,2014,1,0,0,0,0,0,,,\rNelsan Ellis,True Blood,2008,2014,END,2014,1,0,1,0,0.25,0.25,,\"Get on Up, 2014\",\rCarrie Preston,True Blood,2008,2014,END,2014,1,0,2,0,0.5,0.5,,\"Beneath the Harvest Sky, 2014; 5 Flights up, 2015\",\rAlexander Skarsg�rd,True Blood,2008,2014,END,2014,1,0,0,0,0,0,,,\rKristin Bauer van Straten,True Blood,2008,2014,END,2014,1,0,0,0,0,0,,,\rTodd Lowe,True Blood,2008,2014,END,2014,1,0,1,0,0.25,0.25,,\"50 to 1, 2014\",\rJim Parrack,True Blood,2008,2014,END,2014,1,0,2,0,0.5,0.5,,\"A Night in Old Mexico, 2014; Child of God, 2014\",\rLauren Bowles,True Blood,2008,2014,END,2014,1,0,0,0,0,0,,,\rJoe Manganiello,True Blood,2008,2014,END,2014,1,1,0,0,1,1,\"Sabotage, 2014\",,\rSteve Buscemi,Boardwalk Empire,2010,2014,END,2014,1,0,1,0,0.25,0.25,,\"The Cobbler, 2014\",\rStephen Graham,Boardwalk Empire,2010,2014,END,2014,1,0,1,0,0.25,0.25,,\"Hyena, 2015\",\rVincent Piazza,Boardwalk Empire,2010,2014,END,2014,1,1,1,0,1.25,1.25,\"Jersey Boys, 2014\",\"3 Nights In The Desert, 2015\",\rKelly Macdonald,Boardwalk Empire,2010,2014,END,2014,1,0,0,0,0,0,,,\rMichael Shannon,Boardwalk Empire,2010,2014,END,2014,1,1,0,0,1,1,\"Young Ones, 2014\",,\rMichael Kenneth Williams,Boardwalk Empire,2010,2014,END,2014,1,0,4,0,1,1,,\"Robocop, 2014; Kill the messenger, 2014; The Gambler, 2014; Inherent Vice, 2014\",\rGretchen Mol,Boardwalk Empire,2010,2014,END,2014,1,0,2,0,0.5,0.5,,\"Laggies, 2014; True Story, 2015\",\rAnatol Yusef,Boardwalk Empire,2010,2014,END,2014,1,0,0,0,0,0,,,\rJack Gleeson,Game of Thrones,2011,PRESENT,LEFT,2014,1,0,0,0,0,0,,,\rMichael Gill,House of Cards,2013,PRESENT,LEFT,2014,1,0,0,0,0,0,,,\rMatthew McConaughey,True Detective,2014,PRESENT,LEFT,2014,1,1,0,0,1,1,\"Interstellar, 2014\",,\rWoody Harrelson,True Detective,2014,PRESENT,LEFT,2014,1,0,2,0,0.5,0.5,,\"The Hunger Games: Mockingjay - Part 1, 2014; The Hunger Games: Mockingjay - Part 2, 2015\",\rMichelle Monaghan,True Detective,2014,PRESENT,LEFT,2014,1,4,0,0,4,4,\"Better Living through Chemistry, 2014; Fort Bliss, 2014; The Best of Men, 2014; Playing it Cool, 2015\",,\rMichael Potts,True Detective,2014,PRESENT,LEFT,2014,1,0,0,0,0,0,,,\rDana Gourrier,True Detective,2014,PRESENT,LEFT,2014,1,0,0,0,0,0,,,\rMichael Irby,True Detective,2014,PRESENT,LEFT,2014,1,0,0,0,0,0,,,\rJoe Chrest,True Detective,2014,PRESENT,LEFT,2014,1,0,1,0,0.25,0.25,,\"Black or White, 2015\",\rDane Rhodes,True Detective,2014,PRESENT,LEFT,2014,1,0,1,0,0.25,0.25,,\"When the Game Stands Tall, 2014\",\rMichael Hyatt,True Detective,2014,PRESENT,LEFT,2014,1,0,1,0,0.25,0.25,,\"Nightcrawler, 2014\",\rTony Molina Jr.,True Detective,2014,PRESENT,LEFT,2014,1,0,0,0,0,0,,,\rMeghan Wolfe,True Detective,2014,PRESENT,LEFT,2014,1,0,0,0,0,0,,,\rKevin Dunn,True Detective,2014,PRESENT,LEFT,2014,1,0,1,2,2.25,2.25,,\"Draft Day, 2014\",\"Veep, Season 3-4\"\rCharles Dance,Game of Thrones,2011,PRESENT,LEFT,2015,0,0,2,1,1.5,#DIV/0!,,\"Woman in Gold, 2015; Child 44, 2015\",\"Deadline Gallipoli, Season 1\"\rPatrick Dempsey,Grey's Anatomy,2005,PRESENT,LEFT,2015,0,0,0,0,0,#DIV/0!,,,\rIan McElhinney,Game of Thrones,2011,PRESENT,LEFT,2015,0,0,0,0,0,#DIV/0!,,,"
          ],
          "name": "stdout"
        }
      ]
    },
    {
      "cell_type": "markdown",
      "metadata": {
        "id": "T8jrmbb2D355",
        "colab_type": "text"
      },
      "source": [
        "In this case, when encountering an unknown error, I search for posts about the error on Google. \n",
        "\n",
        "Search for: \"read_csv pandas UnicodeDecodeError utf-8 codec can't decode byte  in position invalid continuation byte\". \n",
        "\n",
        "Notice I added \"read_csv\" and \"pandas\" to the search string. \n",
        "I removed `0xd5` and `3032` as these are specific to our file and won't help the search find other posts that solve the same problem, but with a different file. \n",
        "\n",
        "The search found: https://stackoverflow.com/questions/18171739/unicodedecodeerror-when-reading-csv-file-in-pandas-with-python\n",
        "\n",
        "This links suggests trying `encoding = \"ISO-8859-1\"` as a parameter to `read_csv` (it works, see below)"
      ]
    },
    {
      "cell_type": "code",
      "metadata": {
        "id": "OYMJfPv1D356",
        "colab_type": "code",
        "colab": {
          "base_uri": "https://localhost:8080/",
          "height": 357
        },
        "outputId": "dbe456cd-3a0c-4bb2-af68-5aa5f2839dc2"
      },
      "source": [
        "mad_men_show_data_pdf = pd.read_csv('/content/538-mad-men/show-data.csv', \n",
        "                                    encoding = 'ISO-8859-1')\n",
        "mad_men_show_data_pdf.info()"
      ],
      "execution_count": 25,
      "outputs": [
        {
          "output_type": "stream",
          "text": [
            "<class 'pandas.core.frame.DataFrame'>\n",
            "RangeIndex: 248 entries, 0 to 247\n",
            "Data columns (total 15 columns):\n",
            "Performer        248 non-null object\n",
            "Show             248 non-null object\n",
            "Show Start       248 non-null int64\n",
            "Show End         248 non-null object\n",
            "Status?          248 non-null object\n",
            "CharEnd          248 non-null int64\n",
            "Years Since      248 non-null int64\n",
            "#LEAD            248 non-null int64\n",
            "#SUPPORT         248 non-null int64\n",
            "#Shows           248 non-null int64\n",
            "Score            248 non-null float64\n",
            "Score/Y          248 non-null object\n",
            "lead_notes       89 non-null object\n",
            "support_notes    135 non-null object\n",
            "show_notes       138 non-null object\n",
            "dtypes: float64(1), int64(6), object(8)\n",
            "memory usage: 29.1+ KB\n"
          ],
          "name": "stdout"
        }
      ]
    },
    {
      "cell_type": "markdown",
      "metadata": {
        "id": "bpfpR5YrD35-",
        "colab_type": "text"
      },
      "source": [
        "The command did work. \n",
        "\n",
        "Notice the column names have non-alphabetic characters (including spaces).\n",
        "The next step is to read in the columns with better names."
      ]
    },
    {
      "cell_type": "markdown",
      "metadata": {
        "id": "zXOkhRSbD36A",
        "colab_type": "text"
      },
      "source": [
        "The names parameter specifies the column names to use (in the dataframe returned by `read_csv`)."
      ]
    },
    {
      "cell_type": "code",
      "metadata": {
        "id": "6Ey3WVHDD36B",
        "colab_type": "code",
        "colab": {
          "base_uri": "https://localhost:8080/",
          "height": 357
        },
        "outputId": "5f9b9e2b-95ff-445d-e5ac-f6b4f973e1ea"
      },
      "source": [
        "mad_men_show_data_pdf = pd.read_csv('/content/538-mad-men/show-data.csv', \n",
        "                                    names=['performer', 'show', 'show_start', 'show_end',\n",
        "                                           'status', 'char_end', 'years_since', 'lead', \n",
        "                                           'support', 'shows', 'score', 'score_y',\n",
        "                                           'lead_notes', 'support_notes', 'show_notes'],\n",
        "                                    header=0, \n",
        "                                    encoding = 'ISO-8859-1')\n",
        "mad_men_show_data_pdf.info()"
      ],
      "execution_count": 26,
      "outputs": [
        {
          "output_type": "stream",
          "text": [
            "<class 'pandas.core.frame.DataFrame'>\n",
            "RangeIndex: 248 entries, 0 to 247\n",
            "Data columns (total 15 columns):\n",
            "performer        248 non-null object\n",
            "show             248 non-null object\n",
            "show_start       248 non-null int64\n",
            "show_end         248 non-null object\n",
            "status           248 non-null object\n",
            "char_end         248 non-null int64\n",
            "years_since      248 non-null int64\n",
            "lead             248 non-null int64\n",
            "support          248 non-null int64\n",
            "shows            248 non-null int64\n",
            "score            248 non-null float64\n",
            "score_y          248 non-null object\n",
            "lead_notes       89 non-null object\n",
            "support_notes    135 non-null object\n",
            "show_notes       138 non-null object\n",
            "dtypes: float64(1), int64(6), object(8)\n",
            "memory usage: 29.1+ KB\n"
          ],
          "name": "stdout"
        }
      ]
    },
    {
      "cell_type": "markdown",
      "metadata": {
        "id": "nP2LSKTXD36F",
        "colab_type": "text"
      },
      "source": [
        "Notice the column names are better, but that we needed to specify, with the `header` parameter, that row `0` containes the column names."
      ]
    },
    {
      "cell_type": "markdown",
      "metadata": {
        "id": "1mGwdZWiD36G",
        "colab_type": "text"
      },
      "source": [
        "The column types are in the right hand column of the output from the `info` method.\n",
        "If a column is read in as a `float64` or `int64` then we can assume it was read correctly. \n",
        "\n",
        "To check for columns that were not read correctly we only need to select columns with `object` type. \n",
        "The next command does this."
      ]
    },
    {
      "cell_type": "code",
      "metadata": {
        "id": "eL33mtTDD36H",
        "colab_type": "code",
        "colab": {
          "base_uri": "https://localhost:8080/",
          "height": 289
        },
        "outputId": "8ff657be-2f9d-4f2f-9b67-e2af2dfd2643"
      },
      "source": [
        "mad_men_show_data_pdf \\\n",
        "  .select_dtypes(include=['object']) \\\n",
        "  .head()"
      ],
      "execution_count": 27,
      "outputs": [
        {
          "output_type": "execute_result",
          "data": {
            "text/html": [
              "<div>\n",
              "<style scoped>\n",
              "    .dataframe tbody tr th:only-of-type {\n",
              "        vertical-align: middle;\n",
              "    }\n",
              "\n",
              "    .dataframe tbody tr th {\n",
              "        vertical-align: top;\n",
              "    }\n",
              "\n",
              "    .dataframe thead th {\n",
              "        text-align: right;\n",
              "    }\n",
              "</style>\n",
              "<table border=\"1\" class=\"dataframe\">\n",
              "  <thead>\n",
              "    <tr style=\"text-align: right;\">\n",
              "      <th></th>\n",
              "      <th>performer</th>\n",
              "      <th>show</th>\n",
              "      <th>show_end</th>\n",
              "      <th>status</th>\n",
              "      <th>score_y</th>\n",
              "      <th>lead_notes</th>\n",
              "      <th>support_notes</th>\n",
              "      <th>show_notes</th>\n",
              "    </tr>\n",
              "  </thead>\n",
              "  <tbody>\n",
              "    <tr>\n",
              "      <th>0</th>\n",
              "      <td>Steven Hill</td>\n",
              "      <td>Law &amp; Order</td>\n",
              "      <td>2010</td>\n",
              "      <td>END</td>\n",
              "      <td>0</td>\n",
              "      <td>NaN</td>\n",
              "      <td>NaN</td>\n",
              "      <td>NaN</td>\n",
              "    </tr>\n",
              "    <tr>\n",
              "      <th>1</th>\n",
              "      <td>Kelli Williams</td>\n",
              "      <td>The Practice</td>\n",
              "      <td>2014</td>\n",
              "      <td>END</td>\n",
              "      <td>0.520833333</td>\n",
              "      <td>NaN</td>\n",
              "      <td>Any Day Now (2012)</td>\n",
              "      <td>Medical Investigation, Season 1; Lie To Me, Se...</td>\n",
              "    </tr>\n",
              "    <tr>\n",
              "      <th>2</th>\n",
              "      <td>LisaGay Hamilton</td>\n",
              "      <td>The Practice</td>\n",
              "      <td>2014</td>\n",
              "      <td>END</td>\n",
              "      <td>0.333333333</td>\n",
              "      <td>Life of a King, 2014; Go For Sisters, 2013</td>\n",
              "      <td>NaN</td>\n",
              "      <td>Men of a Certain Age, Season 1-2</td>\n",
              "    </tr>\n",
              "    <tr>\n",
              "      <th>3</th>\n",
              "      <td>Lara Flynn Boyle</td>\n",
              "      <td>The Practice</td>\n",
              "      <td>2014</td>\n",
              "      <td>END</td>\n",
              "      <td>0</td>\n",
              "      <td>NaN</td>\n",
              "      <td>NaN</td>\n",
              "      <td>NaN</td>\n",
              "    </tr>\n",
              "    <tr>\n",
              "      <th>4</th>\n",
              "      <td>Dylan McDermott</td>\n",
              "      <td>The Practice</td>\n",
              "      <td>2014</td>\n",
              "      <td>END</td>\n",
              "      <td>0.886363636</td>\n",
              "      <td>Olympus Has Fallen, 2013; Freezer, 2014</td>\n",
              "      <td>The Messengers, 2007; Unbeatable Harold, 2009;...</td>\n",
              "      <td>Big Shots, Season 1; Dark Blue, Season 1-2; Am...</td>\n",
              "    </tr>\n",
              "  </tbody>\n",
              "</table>\n",
              "</div>"
            ],
            "text/plain": [
              "          performer  ...                                         show_notes\n",
              "0       Steven Hill  ...                                                NaN\n",
              "1    Kelli Williams  ...  Medical Investigation, Season 1; Lie To Me, Se...\n",
              "2  LisaGay Hamilton  ...                   Men of a Certain Age, Season 1-2\n",
              "3  Lara Flynn Boyle  ...                                                NaN\n",
              "4   Dylan McDermott  ...  Big Shots, Season 1; Dark Blue, Season 1-2; Am...\n",
              "\n",
              "[5 rows x 8 columns]"
            ]
          },
          "metadata": {
            "tags": []
          },
          "execution_count": 27
        }
      ]
    },
    {
      "cell_type": "markdown",
      "metadata": {
        "id": "-emmnpWMD36J",
        "colab_type": "text"
      },
      "source": [
        "Notice that `show_end` and `score_y` should be numbers.\n",
        "\n",
        "The following command specifies both `show_start` and `show_end` as integers. We leave `score_y` until later."
      ]
    },
    {
      "cell_type": "code",
      "metadata": {
        "id": "dvRy1E1JD36K",
        "colab_type": "code",
        "colab": {
          "base_uri": "https://localhost:8080/",
          "height": 647
        },
        "outputId": "e61a2de4-1f40-4ae9-8aec-de8de301f9b9"
      },
      "source": [
        "import numpy as np\n",
        "mad_men_show_data_pdf = pd.read_csv('/content/538-mad-men/show-data.csv', \n",
        "                                    names=['performer', 'show', 'show_start', 'show_end',\n",
        "                                             'status', 'char_end', 'years_since', 'lead', \n",
        "                                             'support', 'shows', 'score', 'score_y',\n",
        "                                             'lead_notes', 'support_notes', 'show_notes'],\n",
        "                                    dtype={'show_start': np.int64, 'show_end': np.int64},\n",
        "                                    header=0, \n",
        "                                    encoding = 'ISO-8859-1')\n",
        "mad_men_show_data_pdf.info()"
      ],
      "execution_count": 29,
      "outputs": [
        {
          "output_type": "error",
          "ename": "ValueError",
          "evalue": "ignored",
          "traceback": [
            "\u001b[0;31m---------------------------------------------------------------------------\u001b[0m",
            "\u001b[0;31mTypeError\u001b[0m                                 Traceback (most recent call last)",
            "\u001b[0;32mpandas/_libs/parsers.pyx\u001b[0m in \u001b[0;36mpandas._libs.parsers.TextReader._convert_tokens\u001b[0;34m()\u001b[0m\n",
            "\u001b[0;31mTypeError\u001b[0m: Cannot cast array from dtype('O') to dtype('int64') according to the rule 'safe'",
            "\nDuring handling of the above exception, another exception occurred:\n",
            "\u001b[0;31mValueError\u001b[0m                                Traceback (most recent call last)",
            "\u001b[0;32m<ipython-input-29-2793c153f8d7>\u001b[0m in \u001b[0;36m<module>\u001b[0;34m()\u001b[0m\n\u001b[1;32m      7\u001b[0m                                     \u001b[0mdtype\u001b[0m\u001b[0;34m=\u001b[0m\u001b[0;34m{\u001b[0m\u001b[0;34m'show_start'\u001b[0m\u001b[0;34m:\u001b[0m \u001b[0mnp\u001b[0m\u001b[0;34m.\u001b[0m\u001b[0mint64\u001b[0m\u001b[0;34m,\u001b[0m \u001b[0;34m'show_end'\u001b[0m\u001b[0;34m:\u001b[0m \u001b[0mnp\u001b[0m\u001b[0;34m.\u001b[0m\u001b[0mint64\u001b[0m\u001b[0;34m}\u001b[0m\u001b[0;34m,\u001b[0m\u001b[0;34m\u001b[0m\u001b[0;34m\u001b[0m\u001b[0m\n\u001b[1;32m      8\u001b[0m                                     \u001b[0mheader\u001b[0m\u001b[0;34m=\u001b[0m\u001b[0;36m0\u001b[0m\u001b[0;34m,\u001b[0m\u001b[0;34m\u001b[0m\u001b[0;34m\u001b[0m\u001b[0m\n\u001b[0;32m----> 9\u001b[0;31m                                     encoding = 'ISO-8859-1')\n\u001b[0m\u001b[1;32m     10\u001b[0m \u001b[0mmad_men_show_data_pdf\u001b[0m\u001b[0;34m.\u001b[0m\u001b[0minfo\u001b[0m\u001b[0;34m(\u001b[0m\u001b[0;34m)\u001b[0m\u001b[0;34m\u001b[0m\u001b[0;34m\u001b[0m\u001b[0m\n",
            "\u001b[0;32m/usr/local/lib/python3.6/dist-packages/pandas/io/parsers.py\u001b[0m in \u001b[0;36mparser_f\u001b[0;34m(filepath_or_buffer, sep, delimiter, header, names, index_col, usecols, squeeze, prefix, mangle_dupe_cols, dtype, engine, converters, true_values, false_values, skipinitialspace, skiprows, skipfooter, nrows, na_values, keep_default_na, na_filter, verbose, skip_blank_lines, parse_dates, infer_datetime_format, keep_date_col, date_parser, dayfirst, iterator, chunksize, compression, thousands, decimal, lineterminator, quotechar, quoting, doublequote, escapechar, comment, encoding, dialect, tupleize_cols, error_bad_lines, warn_bad_lines, delim_whitespace, low_memory, memory_map, float_precision)\u001b[0m\n\u001b[1;32m    700\u001b[0m                     skip_blank_lines=skip_blank_lines)\n\u001b[1;32m    701\u001b[0m \u001b[0;34m\u001b[0m\u001b[0m\n\u001b[0;32m--> 702\u001b[0;31m         \u001b[0;32mreturn\u001b[0m \u001b[0m_read\u001b[0m\u001b[0;34m(\u001b[0m\u001b[0mfilepath_or_buffer\u001b[0m\u001b[0;34m,\u001b[0m \u001b[0mkwds\u001b[0m\u001b[0;34m)\u001b[0m\u001b[0;34m\u001b[0m\u001b[0;34m\u001b[0m\u001b[0m\n\u001b[0m\u001b[1;32m    703\u001b[0m \u001b[0;34m\u001b[0m\u001b[0m\n\u001b[1;32m    704\u001b[0m     \u001b[0mparser_f\u001b[0m\u001b[0;34m.\u001b[0m\u001b[0m__name__\u001b[0m \u001b[0;34m=\u001b[0m \u001b[0mname\u001b[0m\u001b[0;34m\u001b[0m\u001b[0;34m\u001b[0m\u001b[0m\n",
            "\u001b[0;32m/usr/local/lib/python3.6/dist-packages/pandas/io/parsers.py\u001b[0m in \u001b[0;36m_read\u001b[0;34m(filepath_or_buffer, kwds)\u001b[0m\n\u001b[1;32m    433\u001b[0m \u001b[0;34m\u001b[0m\u001b[0m\n\u001b[1;32m    434\u001b[0m     \u001b[0;32mtry\u001b[0m\u001b[0;34m:\u001b[0m\u001b[0;34m\u001b[0m\u001b[0;34m\u001b[0m\u001b[0m\n\u001b[0;32m--> 435\u001b[0;31m         \u001b[0mdata\u001b[0m \u001b[0;34m=\u001b[0m \u001b[0mparser\u001b[0m\u001b[0;34m.\u001b[0m\u001b[0mread\u001b[0m\u001b[0;34m(\u001b[0m\u001b[0mnrows\u001b[0m\u001b[0;34m)\u001b[0m\u001b[0;34m\u001b[0m\u001b[0;34m\u001b[0m\u001b[0m\n\u001b[0m\u001b[1;32m    436\u001b[0m     \u001b[0;32mfinally\u001b[0m\u001b[0;34m:\u001b[0m\u001b[0;34m\u001b[0m\u001b[0;34m\u001b[0m\u001b[0m\n\u001b[1;32m    437\u001b[0m         \u001b[0mparser\u001b[0m\u001b[0;34m.\u001b[0m\u001b[0mclose\u001b[0m\u001b[0;34m(\u001b[0m\u001b[0;34m)\u001b[0m\u001b[0;34m\u001b[0m\u001b[0;34m\u001b[0m\u001b[0m\n",
            "\u001b[0;32m/usr/local/lib/python3.6/dist-packages/pandas/io/parsers.py\u001b[0m in \u001b[0;36mread\u001b[0;34m(self, nrows)\u001b[0m\n\u001b[1;32m   1137\u001b[0m     \u001b[0;32mdef\u001b[0m \u001b[0mread\u001b[0m\u001b[0;34m(\u001b[0m\u001b[0mself\u001b[0m\u001b[0;34m,\u001b[0m \u001b[0mnrows\u001b[0m\u001b[0;34m=\u001b[0m\u001b[0;32mNone\u001b[0m\u001b[0;34m)\u001b[0m\u001b[0;34m:\u001b[0m\u001b[0;34m\u001b[0m\u001b[0;34m\u001b[0m\u001b[0m\n\u001b[1;32m   1138\u001b[0m         \u001b[0mnrows\u001b[0m \u001b[0;34m=\u001b[0m \u001b[0m_validate_integer\u001b[0m\u001b[0;34m(\u001b[0m\u001b[0;34m'nrows'\u001b[0m\u001b[0;34m,\u001b[0m \u001b[0mnrows\u001b[0m\u001b[0;34m)\u001b[0m\u001b[0;34m\u001b[0m\u001b[0;34m\u001b[0m\u001b[0m\n\u001b[0;32m-> 1139\u001b[0;31m         \u001b[0mret\u001b[0m \u001b[0;34m=\u001b[0m \u001b[0mself\u001b[0m\u001b[0;34m.\u001b[0m\u001b[0m_engine\u001b[0m\u001b[0;34m.\u001b[0m\u001b[0mread\u001b[0m\u001b[0;34m(\u001b[0m\u001b[0mnrows\u001b[0m\u001b[0;34m)\u001b[0m\u001b[0;34m\u001b[0m\u001b[0;34m\u001b[0m\u001b[0m\n\u001b[0m\u001b[1;32m   1140\u001b[0m \u001b[0;34m\u001b[0m\u001b[0m\n\u001b[1;32m   1141\u001b[0m         \u001b[0;31m# May alter columns / col_dict\u001b[0m\u001b[0;34m\u001b[0m\u001b[0;34m\u001b[0m\u001b[0;34m\u001b[0m\u001b[0m\n",
            "\u001b[0;32m/usr/local/lib/python3.6/dist-packages/pandas/io/parsers.py\u001b[0m in \u001b[0;36mread\u001b[0;34m(self, nrows)\u001b[0m\n\u001b[1;32m   1993\u001b[0m     \u001b[0;32mdef\u001b[0m \u001b[0mread\u001b[0m\u001b[0;34m(\u001b[0m\u001b[0mself\u001b[0m\u001b[0;34m,\u001b[0m \u001b[0mnrows\u001b[0m\u001b[0;34m=\u001b[0m\u001b[0;32mNone\u001b[0m\u001b[0;34m)\u001b[0m\u001b[0;34m:\u001b[0m\u001b[0;34m\u001b[0m\u001b[0;34m\u001b[0m\u001b[0m\n\u001b[1;32m   1994\u001b[0m         \u001b[0;32mtry\u001b[0m\u001b[0;34m:\u001b[0m\u001b[0;34m\u001b[0m\u001b[0;34m\u001b[0m\u001b[0m\n\u001b[0;32m-> 1995\u001b[0;31m             \u001b[0mdata\u001b[0m \u001b[0;34m=\u001b[0m \u001b[0mself\u001b[0m\u001b[0;34m.\u001b[0m\u001b[0m_reader\u001b[0m\u001b[0;34m.\u001b[0m\u001b[0mread\u001b[0m\u001b[0;34m(\u001b[0m\u001b[0mnrows\u001b[0m\u001b[0;34m)\u001b[0m\u001b[0;34m\u001b[0m\u001b[0;34m\u001b[0m\u001b[0m\n\u001b[0m\u001b[1;32m   1996\u001b[0m         \u001b[0;32mexcept\u001b[0m \u001b[0mStopIteration\u001b[0m\u001b[0;34m:\u001b[0m\u001b[0;34m\u001b[0m\u001b[0;34m\u001b[0m\u001b[0m\n\u001b[1;32m   1997\u001b[0m             \u001b[0;32mif\u001b[0m \u001b[0mself\u001b[0m\u001b[0;34m.\u001b[0m\u001b[0m_first_chunk\u001b[0m\u001b[0;34m:\u001b[0m\u001b[0;34m\u001b[0m\u001b[0;34m\u001b[0m\u001b[0m\n",
            "\u001b[0;32mpandas/_libs/parsers.pyx\u001b[0m in \u001b[0;36mpandas._libs.parsers.TextReader.read\u001b[0;34m()\u001b[0m\n",
            "\u001b[0;32mpandas/_libs/parsers.pyx\u001b[0m in \u001b[0;36mpandas._libs.parsers.TextReader._read_low_memory\u001b[0;34m()\u001b[0m\n",
            "\u001b[0;32mpandas/_libs/parsers.pyx\u001b[0m in \u001b[0;36mpandas._libs.parsers.TextReader._read_rows\u001b[0;34m()\u001b[0m\n",
            "\u001b[0;32mpandas/_libs/parsers.pyx\u001b[0m in \u001b[0;36mpandas._libs.parsers.TextReader._convert_column_data\u001b[0;34m()\u001b[0m\n",
            "\u001b[0;32mpandas/_libs/parsers.pyx\u001b[0m in \u001b[0;36mpandas._libs.parsers.TextReader._convert_tokens\u001b[0;34m()\u001b[0m\n",
            "\u001b[0;31mValueError\u001b[0m: invalid literal for int() with base 10: 'PRESENT'"
          ]
        }
      ]
    },
    {
      "cell_type": "markdown",
      "metadata": {
        "id": "9-U-nr2yD36M",
        "colab_type": "text"
      },
      "source": [
        "An error is encountered, indicating that `PRESENT` is an invalid value for an integer. \n",
        "\n",
        "So we specify `PRESENT` to indicate a missing value. This should work."
      ]
    },
    {
      "cell_type": "code",
      "metadata": {
        "id": "RYaBiOSMD36N",
        "colab_type": "code",
        "colab": {
          "base_uri": "https://localhost:8080/",
          "height": 562
        },
        "outputId": "5e280ce3-5b12-4a9c-9d38-fc771bee9181"
      },
      "source": [
        "import numpy as np\n",
        "mad_men_show_data_pdf = pd.read_csv('/content/538-mad-men/show-data.csv', \n",
        "                                    names=['performer', 'show', 'show_start', 'show_end',\n",
        "                                             'status', 'char_end', 'years_since', 'lead', \n",
        "                                             'support', 'shows', 'score', 'score_y',\n",
        "                                             'lead_notes', 'support_notes', 'show_notes'],\n",
        "                                    dtype={'show_start': np.int64, 'show_end': np.int64, \n",
        "                                           'score_y': np.float64},\n",
        "                                    header=0, \n",
        "                                    na_values=['PRESENT'],\n",
        "                                    encoding = 'ISO-8859-1')\n",
        "mad_men_show_data_pdf.info()"
      ],
      "execution_count": 32,
      "outputs": [
        {
          "output_type": "error",
          "ename": "ValueError",
          "evalue": "ignored",
          "traceback": [
            "\u001b[0;31m---------------------------------------------------------------------------\u001b[0m",
            "\u001b[0;31mValueError\u001b[0m                                Traceback (most recent call last)",
            "\u001b[0;32m<ipython-input-32-703f01891be5>\u001b[0m in \u001b[0;36m<module>\u001b[0;34m()\u001b[0m\n\u001b[1;32m      9\u001b[0m                                     \u001b[0mheader\u001b[0m\u001b[0;34m=\u001b[0m\u001b[0;36m0\u001b[0m\u001b[0;34m,\u001b[0m\u001b[0;34m\u001b[0m\u001b[0;34m\u001b[0m\u001b[0m\n\u001b[1;32m     10\u001b[0m                                     \u001b[0mna_values\u001b[0m\u001b[0;34m=\u001b[0m\u001b[0;34m[\u001b[0m\u001b[0;34m'PRESENT'\u001b[0m\u001b[0;34m]\u001b[0m\u001b[0;34m,\u001b[0m\u001b[0;34m\u001b[0m\u001b[0;34m\u001b[0m\u001b[0m\n\u001b[0;32m---> 11\u001b[0;31m                                     encoding = 'ISO-8859-1')\n\u001b[0m\u001b[1;32m     12\u001b[0m \u001b[0mmad_men_show_data_pdf\u001b[0m\u001b[0;34m.\u001b[0m\u001b[0minfo\u001b[0m\u001b[0;34m(\u001b[0m\u001b[0;34m)\u001b[0m\u001b[0;34m\u001b[0m\u001b[0;34m\u001b[0m\u001b[0m\n",
            "\u001b[0;32m/usr/local/lib/python3.6/dist-packages/pandas/io/parsers.py\u001b[0m in \u001b[0;36mparser_f\u001b[0;34m(filepath_or_buffer, sep, delimiter, header, names, index_col, usecols, squeeze, prefix, mangle_dupe_cols, dtype, engine, converters, true_values, false_values, skipinitialspace, skiprows, skipfooter, nrows, na_values, keep_default_na, na_filter, verbose, skip_blank_lines, parse_dates, infer_datetime_format, keep_date_col, date_parser, dayfirst, iterator, chunksize, compression, thousands, decimal, lineterminator, quotechar, quoting, doublequote, escapechar, comment, encoding, dialect, tupleize_cols, error_bad_lines, warn_bad_lines, delim_whitespace, low_memory, memory_map, float_precision)\u001b[0m\n\u001b[1;32m    700\u001b[0m                     skip_blank_lines=skip_blank_lines)\n\u001b[1;32m    701\u001b[0m \u001b[0;34m\u001b[0m\u001b[0m\n\u001b[0;32m--> 702\u001b[0;31m         \u001b[0;32mreturn\u001b[0m \u001b[0m_read\u001b[0m\u001b[0;34m(\u001b[0m\u001b[0mfilepath_or_buffer\u001b[0m\u001b[0;34m,\u001b[0m \u001b[0mkwds\u001b[0m\u001b[0;34m)\u001b[0m\u001b[0;34m\u001b[0m\u001b[0;34m\u001b[0m\u001b[0m\n\u001b[0m\u001b[1;32m    703\u001b[0m \u001b[0;34m\u001b[0m\u001b[0m\n\u001b[1;32m    704\u001b[0m     \u001b[0mparser_f\u001b[0m\u001b[0;34m.\u001b[0m\u001b[0m__name__\u001b[0m \u001b[0;34m=\u001b[0m \u001b[0mname\u001b[0m\u001b[0;34m\u001b[0m\u001b[0;34m\u001b[0m\u001b[0m\n",
            "\u001b[0;32m/usr/local/lib/python3.6/dist-packages/pandas/io/parsers.py\u001b[0m in \u001b[0;36m_read\u001b[0;34m(filepath_or_buffer, kwds)\u001b[0m\n\u001b[1;32m    433\u001b[0m \u001b[0;34m\u001b[0m\u001b[0m\n\u001b[1;32m    434\u001b[0m     \u001b[0;32mtry\u001b[0m\u001b[0;34m:\u001b[0m\u001b[0;34m\u001b[0m\u001b[0;34m\u001b[0m\u001b[0m\n\u001b[0;32m--> 435\u001b[0;31m         \u001b[0mdata\u001b[0m \u001b[0;34m=\u001b[0m \u001b[0mparser\u001b[0m\u001b[0;34m.\u001b[0m\u001b[0mread\u001b[0m\u001b[0;34m(\u001b[0m\u001b[0mnrows\u001b[0m\u001b[0;34m)\u001b[0m\u001b[0;34m\u001b[0m\u001b[0;34m\u001b[0m\u001b[0m\n\u001b[0m\u001b[1;32m    436\u001b[0m     \u001b[0;32mfinally\u001b[0m\u001b[0;34m:\u001b[0m\u001b[0;34m\u001b[0m\u001b[0;34m\u001b[0m\u001b[0m\n\u001b[1;32m    437\u001b[0m         \u001b[0mparser\u001b[0m\u001b[0;34m.\u001b[0m\u001b[0mclose\u001b[0m\u001b[0;34m(\u001b[0m\u001b[0;34m)\u001b[0m\u001b[0;34m\u001b[0m\u001b[0;34m\u001b[0m\u001b[0m\n",
            "\u001b[0;32m/usr/local/lib/python3.6/dist-packages/pandas/io/parsers.py\u001b[0m in \u001b[0;36mread\u001b[0;34m(self, nrows)\u001b[0m\n\u001b[1;32m   1137\u001b[0m     \u001b[0;32mdef\u001b[0m \u001b[0mread\u001b[0m\u001b[0;34m(\u001b[0m\u001b[0mself\u001b[0m\u001b[0;34m,\u001b[0m \u001b[0mnrows\u001b[0m\u001b[0;34m=\u001b[0m\u001b[0;32mNone\u001b[0m\u001b[0;34m)\u001b[0m\u001b[0;34m:\u001b[0m\u001b[0;34m\u001b[0m\u001b[0;34m\u001b[0m\u001b[0m\n\u001b[1;32m   1138\u001b[0m         \u001b[0mnrows\u001b[0m \u001b[0;34m=\u001b[0m \u001b[0m_validate_integer\u001b[0m\u001b[0;34m(\u001b[0m\u001b[0;34m'nrows'\u001b[0m\u001b[0;34m,\u001b[0m \u001b[0mnrows\u001b[0m\u001b[0;34m)\u001b[0m\u001b[0;34m\u001b[0m\u001b[0;34m\u001b[0m\u001b[0m\n\u001b[0;32m-> 1139\u001b[0;31m         \u001b[0mret\u001b[0m \u001b[0;34m=\u001b[0m \u001b[0mself\u001b[0m\u001b[0;34m.\u001b[0m\u001b[0m_engine\u001b[0m\u001b[0;34m.\u001b[0m\u001b[0mread\u001b[0m\u001b[0;34m(\u001b[0m\u001b[0mnrows\u001b[0m\u001b[0;34m)\u001b[0m\u001b[0;34m\u001b[0m\u001b[0;34m\u001b[0m\u001b[0m\n\u001b[0m\u001b[1;32m   1140\u001b[0m \u001b[0;34m\u001b[0m\u001b[0m\n\u001b[1;32m   1141\u001b[0m         \u001b[0;31m# May alter columns / col_dict\u001b[0m\u001b[0;34m\u001b[0m\u001b[0;34m\u001b[0m\u001b[0;34m\u001b[0m\u001b[0m\n",
            "\u001b[0;32m/usr/local/lib/python3.6/dist-packages/pandas/io/parsers.py\u001b[0m in \u001b[0;36mread\u001b[0;34m(self, nrows)\u001b[0m\n\u001b[1;32m   1993\u001b[0m     \u001b[0;32mdef\u001b[0m \u001b[0mread\u001b[0m\u001b[0;34m(\u001b[0m\u001b[0mself\u001b[0m\u001b[0;34m,\u001b[0m \u001b[0mnrows\u001b[0m\u001b[0;34m=\u001b[0m\u001b[0;32mNone\u001b[0m\u001b[0;34m)\u001b[0m\u001b[0;34m:\u001b[0m\u001b[0;34m\u001b[0m\u001b[0;34m\u001b[0m\u001b[0m\n\u001b[1;32m   1994\u001b[0m         \u001b[0;32mtry\u001b[0m\u001b[0;34m:\u001b[0m\u001b[0;34m\u001b[0m\u001b[0;34m\u001b[0m\u001b[0m\n\u001b[0;32m-> 1995\u001b[0;31m             \u001b[0mdata\u001b[0m \u001b[0;34m=\u001b[0m \u001b[0mself\u001b[0m\u001b[0;34m.\u001b[0m\u001b[0m_reader\u001b[0m\u001b[0;34m.\u001b[0m\u001b[0mread\u001b[0m\u001b[0;34m(\u001b[0m\u001b[0mnrows\u001b[0m\u001b[0;34m)\u001b[0m\u001b[0;34m\u001b[0m\u001b[0;34m\u001b[0m\u001b[0m\n\u001b[0m\u001b[1;32m   1996\u001b[0m         \u001b[0;32mexcept\u001b[0m \u001b[0mStopIteration\u001b[0m\u001b[0;34m:\u001b[0m\u001b[0;34m\u001b[0m\u001b[0;34m\u001b[0m\u001b[0m\n\u001b[1;32m   1997\u001b[0m             \u001b[0;32mif\u001b[0m \u001b[0mself\u001b[0m\u001b[0;34m.\u001b[0m\u001b[0m_first_chunk\u001b[0m\u001b[0;34m:\u001b[0m\u001b[0;34m\u001b[0m\u001b[0;34m\u001b[0m\u001b[0m\n",
            "\u001b[0;32mpandas/_libs/parsers.pyx\u001b[0m in \u001b[0;36mpandas._libs.parsers.TextReader.read\u001b[0;34m()\u001b[0m\n",
            "\u001b[0;32mpandas/_libs/parsers.pyx\u001b[0m in \u001b[0;36mpandas._libs.parsers.TextReader._read_low_memory\u001b[0;34m()\u001b[0m\n",
            "\u001b[0;32mpandas/_libs/parsers.pyx\u001b[0m in \u001b[0;36mpandas._libs.parsers.TextReader._read_rows\u001b[0;34m()\u001b[0m\n",
            "\u001b[0;32mpandas/_libs/parsers.pyx\u001b[0m in \u001b[0;36mpandas._libs.parsers.TextReader._convert_column_data\u001b[0;34m()\u001b[0m\n",
            "\u001b[0;32mpandas/_libs/parsers.pyx\u001b[0m in \u001b[0;36mpandas._libs.parsers.TextReader._convert_tokens\u001b[0;34m()\u001b[0m\n",
            "\u001b[0;32mpandas/_libs/parsers.pyx\u001b[0m in \u001b[0;36mpandas._libs.parsers.TextReader._convert_with_dtype\u001b[0;34m()\u001b[0m\n",
            "\u001b[0;31mValueError\u001b[0m: Integer column has NA values in column 3"
          ]
        }
      ]
    },
    {
      "cell_type": "markdown",
      "metadata": {
        "id": "Pin0FNXnD36P",
        "colab_type": "text"
      },
      "source": [
        "But this does not work. So we check Google again for the error."
      ]
    },
    {
      "cell_type": "markdown",
      "metadata": {
        "id": "bF9su7gND36Q",
        "colab_type": "text"
      },
      "source": [
        "Searching for \"ValueError: Integer column has NA values in column 3\" yields this link:\n",
        "- https://stackoverflow.com/questions/21287624/convert-pandas-column-containing-nans-to-dtype-int\n",
        "\n",
        "The post indicates that integers cannot have missing values in pandas and that they should be retyped to `np.float32`. \n",
        "Both columns (`show_start` and `show_end`) where coding this way for consistency. \n",
        "It's awkward, but it works."
      ]
    },
    {
      "cell_type": "code",
      "metadata": {
        "id": "M4sPhDY3D36Q",
        "colab_type": "code",
        "colab": {
          "base_uri": "https://localhost:8080/",
          "height": 357
        },
        "outputId": "7fb3efa3-225b-40ce-c8b2-4999ad380540"
      },
      "source": [
        "import numpy as np\n",
        "mad_men_show_data_pdf = pd.read_csv('/content/538-mad-men/show-data.csv', \n",
        "                                    names=['performer', 'show', 'show_start', 'show_end',\n",
        "                                           'status', 'char_end', 'years_since', 'lead', \n",
        "                                           'support', 'shows', 'score', 'score_y',\n",
        "                                           'lead_notes', 'support_notes', 'show_notes'],\n",
        "                                    dtype={'show_start': np.float32, 'show_end': np.float32},\n",
        "                                    header=0, \n",
        "                                    na_values=['PRESENT'],\n",
        "                                    encoding = 'ISO-8859-1')\n",
        "mad_men_show_data_pdf.info()"
      ],
      "execution_count": 33,
      "outputs": [
        {
          "output_type": "stream",
          "text": [
            "<class 'pandas.core.frame.DataFrame'>\n",
            "RangeIndex: 248 entries, 0 to 247\n",
            "Data columns (total 15 columns):\n",
            "performer        248 non-null object\n",
            "show             248 non-null object\n",
            "show_start       248 non-null float32\n",
            "show_end         219 non-null float32\n",
            "status           248 non-null object\n",
            "char_end         248 non-null int64\n",
            "years_since      248 non-null int64\n",
            "lead             248 non-null int64\n",
            "support          248 non-null int64\n",
            "shows            248 non-null int64\n",
            "score            248 non-null float64\n",
            "score_y          248 non-null object\n",
            "lead_notes       89 non-null object\n",
            "support_notes    135 non-null object\n",
            "show_notes       138 non-null object\n",
            "dtypes: float32(2), float64(1), int64(5), object(7)\n",
            "memory usage: 27.2+ KB\n"
          ],
          "name": "stdout"
        }
      ]
    },
    {
      "cell_type": "markdown",
      "metadata": {
        "id": "l6S36qy4D36T",
        "colab_type": "text"
      },
      "source": [
        "Recall that`score_y` should be a `float`. The command below specifies this in the `dtype` parameter."
      ]
    },
    {
      "cell_type": "code",
      "metadata": {
        "id": "2zHguIeTD36V",
        "colab_type": "code",
        "colab": {
          "base_uri": "https://localhost:8080/",
          "height": 647
        },
        "outputId": "8a0bf9e9-a421-4c24-a702-9fbfe921b3a3"
      },
      "source": [
        "import numpy as np\n",
        "mad_men_show_data_pdf = pd.read_csv('/content/538-mad-men/show-data.csv', \n",
        "                                    names=['performer', 'show', 'show_start', 'show_end',\n",
        "                                           'status', 'char_end', 'years_since', 'lead', \n",
        "                                           'support', 'shows', 'score', 'score_y',\n",
        "                                           'lead_notes', 'support_notes', 'show_notes'],\n",
        "                                    dtype={'show_start': np.float32, \n",
        "                                           'show_end': np.float32,\n",
        "                                           'score_y': np.float32},\n",
        "                                    header=0, \n",
        "                                    na_values=['PRESENT'],\n",
        "                                    encoding = 'ISO-8859-1')\n",
        "mad_men_show_data_pdf.info()"
      ],
      "execution_count": 34,
      "outputs": [
        {
          "output_type": "error",
          "ename": "ValueError",
          "evalue": "ignored",
          "traceback": [
            "\u001b[0;31m---------------------------------------------------------------------------\u001b[0m",
            "\u001b[0;31mTypeError\u001b[0m                                 Traceback (most recent call last)",
            "\u001b[0;32mpandas/_libs/parsers.pyx\u001b[0m in \u001b[0;36mpandas._libs.parsers.TextReader._convert_tokens\u001b[0;34m()\u001b[0m\n",
            "\u001b[0;31mTypeError\u001b[0m: Cannot cast array from dtype('O') to dtype('float32') according to the rule 'safe'",
            "\nDuring handling of the above exception, another exception occurred:\n",
            "\u001b[0;31mValueError\u001b[0m                                Traceback (most recent call last)",
            "\u001b[0;32m<ipython-input-34-e7f6735c31bf>\u001b[0m in \u001b[0;36m<module>\u001b[0;34m()\u001b[0m\n\u001b[1;32m     10\u001b[0m                                     \u001b[0mheader\u001b[0m\u001b[0;34m=\u001b[0m\u001b[0;36m0\u001b[0m\u001b[0;34m,\u001b[0m\u001b[0;34m\u001b[0m\u001b[0;34m\u001b[0m\u001b[0m\n\u001b[1;32m     11\u001b[0m                                     \u001b[0mna_values\u001b[0m\u001b[0;34m=\u001b[0m\u001b[0;34m[\u001b[0m\u001b[0;34m'PRESENT'\u001b[0m\u001b[0;34m]\u001b[0m\u001b[0;34m,\u001b[0m\u001b[0;34m\u001b[0m\u001b[0;34m\u001b[0m\u001b[0m\n\u001b[0;32m---> 12\u001b[0;31m                                     encoding = 'ISO-8859-1')\n\u001b[0m\u001b[1;32m     13\u001b[0m \u001b[0mmad_men_show_data_pdf\u001b[0m\u001b[0;34m.\u001b[0m\u001b[0minfo\u001b[0m\u001b[0;34m(\u001b[0m\u001b[0;34m)\u001b[0m\u001b[0;34m\u001b[0m\u001b[0;34m\u001b[0m\u001b[0m\n",
            "\u001b[0;32m/usr/local/lib/python3.6/dist-packages/pandas/io/parsers.py\u001b[0m in \u001b[0;36mparser_f\u001b[0;34m(filepath_or_buffer, sep, delimiter, header, names, index_col, usecols, squeeze, prefix, mangle_dupe_cols, dtype, engine, converters, true_values, false_values, skipinitialspace, skiprows, skipfooter, nrows, na_values, keep_default_na, na_filter, verbose, skip_blank_lines, parse_dates, infer_datetime_format, keep_date_col, date_parser, dayfirst, iterator, chunksize, compression, thousands, decimal, lineterminator, quotechar, quoting, doublequote, escapechar, comment, encoding, dialect, tupleize_cols, error_bad_lines, warn_bad_lines, delim_whitespace, low_memory, memory_map, float_precision)\u001b[0m\n\u001b[1;32m    700\u001b[0m                     skip_blank_lines=skip_blank_lines)\n\u001b[1;32m    701\u001b[0m \u001b[0;34m\u001b[0m\u001b[0m\n\u001b[0;32m--> 702\u001b[0;31m         \u001b[0;32mreturn\u001b[0m \u001b[0m_read\u001b[0m\u001b[0;34m(\u001b[0m\u001b[0mfilepath_or_buffer\u001b[0m\u001b[0;34m,\u001b[0m \u001b[0mkwds\u001b[0m\u001b[0;34m)\u001b[0m\u001b[0;34m\u001b[0m\u001b[0;34m\u001b[0m\u001b[0m\n\u001b[0m\u001b[1;32m    703\u001b[0m \u001b[0;34m\u001b[0m\u001b[0m\n\u001b[1;32m    704\u001b[0m     \u001b[0mparser_f\u001b[0m\u001b[0;34m.\u001b[0m\u001b[0m__name__\u001b[0m \u001b[0;34m=\u001b[0m \u001b[0mname\u001b[0m\u001b[0;34m\u001b[0m\u001b[0;34m\u001b[0m\u001b[0m\n",
            "\u001b[0;32m/usr/local/lib/python3.6/dist-packages/pandas/io/parsers.py\u001b[0m in \u001b[0;36m_read\u001b[0;34m(filepath_or_buffer, kwds)\u001b[0m\n\u001b[1;32m    433\u001b[0m \u001b[0;34m\u001b[0m\u001b[0m\n\u001b[1;32m    434\u001b[0m     \u001b[0;32mtry\u001b[0m\u001b[0;34m:\u001b[0m\u001b[0;34m\u001b[0m\u001b[0;34m\u001b[0m\u001b[0m\n\u001b[0;32m--> 435\u001b[0;31m         \u001b[0mdata\u001b[0m \u001b[0;34m=\u001b[0m \u001b[0mparser\u001b[0m\u001b[0;34m.\u001b[0m\u001b[0mread\u001b[0m\u001b[0;34m(\u001b[0m\u001b[0mnrows\u001b[0m\u001b[0;34m)\u001b[0m\u001b[0;34m\u001b[0m\u001b[0;34m\u001b[0m\u001b[0m\n\u001b[0m\u001b[1;32m    436\u001b[0m     \u001b[0;32mfinally\u001b[0m\u001b[0;34m:\u001b[0m\u001b[0;34m\u001b[0m\u001b[0;34m\u001b[0m\u001b[0m\n\u001b[1;32m    437\u001b[0m         \u001b[0mparser\u001b[0m\u001b[0;34m.\u001b[0m\u001b[0mclose\u001b[0m\u001b[0;34m(\u001b[0m\u001b[0;34m)\u001b[0m\u001b[0;34m\u001b[0m\u001b[0;34m\u001b[0m\u001b[0m\n",
            "\u001b[0;32m/usr/local/lib/python3.6/dist-packages/pandas/io/parsers.py\u001b[0m in \u001b[0;36mread\u001b[0;34m(self, nrows)\u001b[0m\n\u001b[1;32m   1137\u001b[0m     \u001b[0;32mdef\u001b[0m \u001b[0mread\u001b[0m\u001b[0;34m(\u001b[0m\u001b[0mself\u001b[0m\u001b[0;34m,\u001b[0m \u001b[0mnrows\u001b[0m\u001b[0;34m=\u001b[0m\u001b[0;32mNone\u001b[0m\u001b[0;34m)\u001b[0m\u001b[0;34m:\u001b[0m\u001b[0;34m\u001b[0m\u001b[0;34m\u001b[0m\u001b[0m\n\u001b[1;32m   1138\u001b[0m         \u001b[0mnrows\u001b[0m \u001b[0;34m=\u001b[0m \u001b[0m_validate_integer\u001b[0m\u001b[0;34m(\u001b[0m\u001b[0;34m'nrows'\u001b[0m\u001b[0;34m,\u001b[0m \u001b[0mnrows\u001b[0m\u001b[0;34m)\u001b[0m\u001b[0;34m\u001b[0m\u001b[0;34m\u001b[0m\u001b[0m\n\u001b[0;32m-> 1139\u001b[0;31m         \u001b[0mret\u001b[0m \u001b[0;34m=\u001b[0m \u001b[0mself\u001b[0m\u001b[0;34m.\u001b[0m\u001b[0m_engine\u001b[0m\u001b[0;34m.\u001b[0m\u001b[0mread\u001b[0m\u001b[0;34m(\u001b[0m\u001b[0mnrows\u001b[0m\u001b[0;34m)\u001b[0m\u001b[0;34m\u001b[0m\u001b[0;34m\u001b[0m\u001b[0m\n\u001b[0m\u001b[1;32m   1140\u001b[0m \u001b[0;34m\u001b[0m\u001b[0m\n\u001b[1;32m   1141\u001b[0m         \u001b[0;31m# May alter columns / col_dict\u001b[0m\u001b[0;34m\u001b[0m\u001b[0;34m\u001b[0m\u001b[0;34m\u001b[0m\u001b[0m\n",
            "\u001b[0;32m/usr/local/lib/python3.6/dist-packages/pandas/io/parsers.py\u001b[0m in \u001b[0;36mread\u001b[0;34m(self, nrows)\u001b[0m\n\u001b[1;32m   1993\u001b[0m     \u001b[0;32mdef\u001b[0m \u001b[0mread\u001b[0m\u001b[0;34m(\u001b[0m\u001b[0mself\u001b[0m\u001b[0;34m,\u001b[0m \u001b[0mnrows\u001b[0m\u001b[0;34m=\u001b[0m\u001b[0;32mNone\u001b[0m\u001b[0;34m)\u001b[0m\u001b[0;34m:\u001b[0m\u001b[0;34m\u001b[0m\u001b[0;34m\u001b[0m\u001b[0m\n\u001b[1;32m   1994\u001b[0m         \u001b[0;32mtry\u001b[0m\u001b[0;34m:\u001b[0m\u001b[0;34m\u001b[0m\u001b[0;34m\u001b[0m\u001b[0m\n\u001b[0;32m-> 1995\u001b[0;31m             \u001b[0mdata\u001b[0m \u001b[0;34m=\u001b[0m \u001b[0mself\u001b[0m\u001b[0;34m.\u001b[0m\u001b[0m_reader\u001b[0m\u001b[0;34m.\u001b[0m\u001b[0mread\u001b[0m\u001b[0;34m(\u001b[0m\u001b[0mnrows\u001b[0m\u001b[0;34m)\u001b[0m\u001b[0;34m\u001b[0m\u001b[0;34m\u001b[0m\u001b[0m\n\u001b[0m\u001b[1;32m   1996\u001b[0m         \u001b[0;32mexcept\u001b[0m \u001b[0mStopIteration\u001b[0m\u001b[0;34m:\u001b[0m\u001b[0;34m\u001b[0m\u001b[0;34m\u001b[0m\u001b[0m\n\u001b[1;32m   1997\u001b[0m             \u001b[0;32mif\u001b[0m \u001b[0mself\u001b[0m\u001b[0;34m.\u001b[0m\u001b[0m_first_chunk\u001b[0m\u001b[0;34m:\u001b[0m\u001b[0;34m\u001b[0m\u001b[0;34m\u001b[0m\u001b[0m\n",
            "\u001b[0;32mpandas/_libs/parsers.pyx\u001b[0m in \u001b[0;36mpandas._libs.parsers.TextReader.read\u001b[0;34m()\u001b[0m\n",
            "\u001b[0;32mpandas/_libs/parsers.pyx\u001b[0m in \u001b[0;36mpandas._libs.parsers.TextReader._read_low_memory\u001b[0;34m()\u001b[0m\n",
            "\u001b[0;32mpandas/_libs/parsers.pyx\u001b[0m in \u001b[0;36mpandas._libs.parsers.TextReader._read_rows\u001b[0;34m()\u001b[0m\n",
            "\u001b[0;32mpandas/_libs/parsers.pyx\u001b[0m in \u001b[0;36mpandas._libs.parsers.TextReader._convert_column_data\u001b[0;34m()\u001b[0m\n",
            "\u001b[0;32mpandas/_libs/parsers.pyx\u001b[0m in \u001b[0;36mpandas._libs.parsers.TextReader._convert_tokens\u001b[0;34m()\u001b[0m\n",
            "\u001b[0;31mValueError\u001b[0m: could not convert string to float: '#DIV/0!'"
          ]
        }
      ]
    },
    {
      "cell_type": "markdown",
      "metadata": {
        "id": "VF53gIvBD36Y",
        "colab_type": "text"
      },
      "source": [
        "The error indicates that `#DIV/0!` is a value in the `score_y` field. So this value is included in the `na_values` parameter (below)."
      ]
    },
    {
      "cell_type": "code",
      "metadata": {
        "id": "O5f6ZSWGD36Z",
        "colab_type": "code",
        "colab": {
          "base_uri": "https://localhost:8080/",
          "height": 357
        },
        "outputId": "cbbfa3e1-1049-454d-f69f-c0734d0f8b98"
      },
      "source": [
        "import numpy as np\n",
        "mad_men_show_data_pdf = pd.read_csv('/content/538-mad-men/show-data.csv', \n",
        "                                    names=['performer', 'show', 'show_start', 'show_end',\n",
        "                                           'status', 'char_end', 'years_since', 'lead', \n",
        "                                           'support', 'shows', 'score', 'score_y',\n",
        "                                           'lead_notes', 'support_notes', 'show_notes'],\n",
        "                                    dtype={'show_start': np.float32, \n",
        "                                           'show_end': np.float32,\n",
        "                                           'score_y': np.float32},\n",
        "                                    header=0, \n",
        "                                    na_values=['PRESENT','#DIV/0!'],\n",
        "                                    encoding = 'ISO-8859-1')\n",
        "mad_men_show_data_pdf.info()"
      ],
      "execution_count": 35,
      "outputs": [
        {
          "output_type": "stream",
          "text": [
            "<class 'pandas.core.frame.DataFrame'>\n",
            "RangeIndex: 248 entries, 0 to 247\n",
            "Data columns (total 15 columns):\n",
            "performer        248 non-null object\n",
            "show             248 non-null object\n",
            "show_start       248 non-null float32\n",
            "show_end         219 non-null float32\n",
            "status           248 non-null object\n",
            "char_end         248 non-null int64\n",
            "years_since      248 non-null int64\n",
            "lead             248 non-null int64\n",
            "support          248 non-null int64\n",
            "shows            248 non-null int64\n",
            "score            248 non-null float64\n",
            "score_y          245 non-null float32\n",
            "lead_notes       89 non-null object\n",
            "support_notes    135 non-null object\n",
            "show_notes       138 non-null object\n",
            "dtypes: float32(3), float64(1), int64(5), object(6)\n",
            "memory usage: 26.2+ KB\n"
          ],
          "name": "stdout"
        }
      ]
    },
    {
      "cell_type": "markdown",
      "metadata": {
        "id": "UPqfr8oOD36i",
        "colab_type": "text"
      },
      "source": [
        "Great. All columns are read with acceptable datatypes. The following command displays the first few records for `object` columns."
      ]
    },
    {
      "cell_type": "code",
      "metadata": {
        "id": "nz8RM9KED36j",
        "colab_type": "code",
        "colab": {
          "base_uri": "https://localhost:8080/",
          "height": 289
        },
        "outputId": "0cf107d4-5dd1-49e4-8204-dcd0069298a2"
      },
      "source": [
        "import numpy as np\n",
        "mad_men_show_data_pdf = pd.read_csv('/content/538-mad-men/show-data.csv', \n",
        "                                    names=['performer', 'show', 'show_start', 'show_end',\n",
        "                                           'status', 'char_end', 'years_since', 'lead', \n",
        "                                           'support', 'shows', 'score', 'score_y',\n",
        "                                           'lead_notes', 'support_notes', 'show_notes'],\n",
        "                                    dtype={'show_start': np.float32, \n",
        "                                           'show_end': np.float32,\n",
        "                                           'score_y': np.float32},\n",
        "                                    header=0, \n",
        "                                    na_values=['PRESENT','#DIV/0!'],\n",
        "                                    encoding = 'ISO-8859-1')\n",
        "mad_men_show_data_pdf \\\n",
        "  .select_dtypes(include=['object']) \\\n",
        "  .head(5)"
      ],
      "execution_count": 37,
      "outputs": [
        {
          "output_type": "execute_result",
          "data": {
            "text/html": [
              "<div>\n",
              "<style scoped>\n",
              "    .dataframe tbody tr th:only-of-type {\n",
              "        vertical-align: middle;\n",
              "    }\n",
              "\n",
              "    .dataframe tbody tr th {\n",
              "        vertical-align: top;\n",
              "    }\n",
              "\n",
              "    .dataframe thead th {\n",
              "        text-align: right;\n",
              "    }\n",
              "</style>\n",
              "<table border=\"1\" class=\"dataframe\">\n",
              "  <thead>\n",
              "    <tr style=\"text-align: right;\">\n",
              "      <th></th>\n",
              "      <th>performer</th>\n",
              "      <th>show</th>\n",
              "      <th>status</th>\n",
              "      <th>lead_notes</th>\n",
              "      <th>support_notes</th>\n",
              "      <th>show_notes</th>\n",
              "    </tr>\n",
              "  </thead>\n",
              "  <tbody>\n",
              "    <tr>\n",
              "      <th>0</th>\n",
              "      <td>Steven Hill</td>\n",
              "      <td>Law &amp; Order</td>\n",
              "      <td>END</td>\n",
              "      <td>NaN</td>\n",
              "      <td>NaN</td>\n",
              "      <td>NaN</td>\n",
              "    </tr>\n",
              "    <tr>\n",
              "      <th>1</th>\n",
              "      <td>Kelli Williams</td>\n",
              "      <td>The Practice</td>\n",
              "      <td>END</td>\n",
              "      <td>NaN</td>\n",
              "      <td>Any Day Now (2012)</td>\n",
              "      <td>Medical Investigation, Season 1; Lie To Me, Se...</td>\n",
              "    </tr>\n",
              "    <tr>\n",
              "      <th>2</th>\n",
              "      <td>LisaGay Hamilton</td>\n",
              "      <td>The Practice</td>\n",
              "      <td>END</td>\n",
              "      <td>Life of a King, 2014; Go For Sisters, 2013</td>\n",
              "      <td>NaN</td>\n",
              "      <td>Men of a Certain Age, Season 1-2</td>\n",
              "    </tr>\n",
              "    <tr>\n",
              "      <th>3</th>\n",
              "      <td>Lara Flynn Boyle</td>\n",
              "      <td>The Practice</td>\n",
              "      <td>END</td>\n",
              "      <td>NaN</td>\n",
              "      <td>NaN</td>\n",
              "      <td>NaN</td>\n",
              "    </tr>\n",
              "    <tr>\n",
              "      <th>4</th>\n",
              "      <td>Dylan McDermott</td>\n",
              "      <td>The Practice</td>\n",
              "      <td>END</td>\n",
              "      <td>Olympus Has Fallen, 2013; Freezer, 2014</td>\n",
              "      <td>The Messengers, 2007; Unbeatable Harold, 2009;...</td>\n",
              "      <td>Big Shots, Season 1; Dark Blue, Season 1-2; Am...</td>\n",
              "    </tr>\n",
              "  </tbody>\n",
              "</table>\n",
              "</div>"
            ],
            "text/plain": [
              "          performer  ...                                         show_notes\n",
              "0       Steven Hill  ...                                                NaN\n",
              "1    Kelli Williams  ...  Medical Investigation, Season 1; Lie To Me, Se...\n",
              "2  LisaGay Hamilton  ...                   Men of a Certain Age, Season 1-2\n",
              "3  Lara Flynn Boyle  ...                                                NaN\n",
              "4   Dylan McDermott  ...  Big Shots, Season 1; Dark Blue, Season 1-2; Am...\n",
              "\n",
              "[5 rows x 6 columns]"
            ]
          },
          "metadata": {
            "tags": []
          },
          "execution_count": 37
        }
      ]
    },
    {
      "cell_type": "markdown",
      "metadata": {
        "id": "tXx47LO2D36n",
        "colab_type": "text"
      },
      "source": [
        "One final modification is to check on the `status` column. It is likely that it should have datatype of `category`.\n",
        "\n",
        "First, check the unique values of this column."
      ]
    },
    {
      "cell_type": "code",
      "metadata": {
        "id": "tehB49tlD36r",
        "colab_type": "code",
        "colab": {
          "base_uri": "https://localhost:8080/",
          "height": 85
        },
        "outputId": "a663b1d5-de8f-4f9b-ab09-b605ffa2d168"
      },
      "source": [
        "mad_men_show_data_pdf.status.value_counts()"
      ],
      "execution_count": 38,
      "outputs": [
        {
          "output_type": "execute_result",
          "data": {
            "text/plain": [
              "END     202\n",
              "LEFT     29\n",
              "End      17\n",
              "Name: status, dtype: int64"
            ]
          },
          "metadata": {
            "tags": []
          },
          "execution_count": 38
        }
      ]
    },
    {
      "cell_type": "markdown",
      "metadata": {
        "id": "psDJgqk8D36v",
        "colab_type": "text"
      },
      "source": [
        "Now change the datatype for the `status` column with the `dtype` parameter."
      ]
    },
    {
      "cell_type": "code",
      "metadata": {
        "id": "3nuG0Q1AD36w",
        "colab_type": "code",
        "colab": {
          "base_uri": "https://localhost:8080/",
          "height": 357
        },
        "outputId": "6824196a-63bc-4486-ba47-f5fe27469dea"
      },
      "source": [
        "import numpy as np\n",
        "mad_men_show_data_pdf = pd.read_csv('/content/538-mad-men/show-data.csv', \n",
        "                                    names=['performer', 'show', 'show_start', 'show_end',\n",
        "                                           'status', 'char_end', 'years_since', 'lead', \n",
        "                                           'support', 'shows', 'score', 'score_y',\n",
        "                                           'lead_notes', 'support_notes', 'show_notes'],\n",
        "                                    dtype={'show_start': np.float32, \n",
        "                                           'show_end': np.float32,\n",
        "                                           'score_y': np.float32,\n",
        "                                           'status': 'category'},\n",
        "                                    header=0, \n",
        "                                    na_values=['PRESENT','#DIV/0!'],\n",
        "                                    encoding = 'ISO-8859-1')\n",
        "mad_men_show_data_pdf \\\n",
        "  .info()"
      ],
      "execution_count": 40,
      "outputs": [
        {
          "output_type": "stream",
          "text": [
            "<class 'pandas.core.frame.DataFrame'>\n",
            "RangeIndex: 248 entries, 0 to 247\n",
            "Data columns (total 15 columns):\n",
            "performer        248 non-null object\n",
            "show             248 non-null object\n",
            "show_start       248 non-null float32\n",
            "show_end         219 non-null float32\n",
            "status           248 non-null category\n",
            "char_end         248 non-null int64\n",
            "years_since      248 non-null int64\n",
            "lead             248 non-null int64\n",
            "support          248 non-null int64\n",
            "shows            248 non-null int64\n",
            "score            248 non-null float64\n",
            "score_y          245 non-null float32\n",
            "lead_notes       89 non-null object\n",
            "support_notes    135 non-null object\n",
            "show_notes       138 non-null object\n",
            "dtypes: category(1), float32(3), float64(1), int64(5), object(5)\n",
            "memory usage: 24.6+ KB\n"
          ],
          "name": "stdout"
        }
      ]
    },
    {
      "cell_type": "markdown",
      "metadata": {
        "id": "BsDc5lneD361",
        "colab_type": "text"
      },
      "source": [
        "Great. Now, all columns really are read with acceptable datatypes."
      ]
    },
    {
      "cell_type": "markdown",
      "metadata": {
        "id": "EDdxna8UD362",
        "colab_type": "text"
      },
      "source": [
        "## 3. `read_excel`"
      ]
    },
    {
      "cell_type": "markdown",
      "metadata": {
        "id": "ZdqUSzeyD366",
        "colab_type": "text"
      },
      "source": [
        "List the spreadsheets in the `per_diem` directory."
      ]
    },
    {
      "cell_type": "code",
      "metadata": {
        "id": "3iG69XQGGH29",
        "colab_type": "code",
        "colab": {
          "base_uri": "https://localhost:8080/",
          "height": 34
        },
        "outputId": "d3a50849-7b58-4158-af69-3b2671a8ec63"
      },
      "source": [
        "%%sh\n",
        "git clone https://github.com/datalab-datasets/per_diem"
      ],
      "execution_count": 41,
      "outputs": [
        {
          "output_type": "stream",
          "text": [
            "Cloning into 'per_diem'...\n"
          ],
          "name": "stderr"
        }
      ]
    },
    {
      "cell_type": "code",
      "metadata": {
        "id": "YBrisxLAD369",
        "colab_type": "code",
        "colab": {
          "base_uri": "https://localhost:8080/",
          "height": 204
        },
        "outputId": "8055bf91-77a8-48a3-9436-c7c146a5e289"
      },
      "source": [
        "%ls /content/per_diem/*.xls"
      ],
      "execution_count": 43,
      "outputs": [
        {
          "output_type": "stream",
          "text": [
            "/content/per_diem/April2017PD.xls     /content/per_diem/June2017PD.xls\n",
            "/content/per_diem/April2018PD.xls     /content/per_diem/June2018PD.xls\n",
            "/content/per_diem/August2017PD.xls    /content/per_diem/March2017PD.xls\n",
            "/content/per_diem/August2018PD.xls    /content/per_diem/March2018PD.xls\n",
            "/content/per_diem/December2017PD.xls  /content/per_diem/May2017PD.xls\n",
            "/content/per_diem/February2017PD.xls  /content/per_diem/May2018PD.xls\n",
            "/content/per_diem/February2018PD.xls  /content/per_diem/November2017PD.xls\n",
            "/content/per_diem/January2017PD.xls   /content/per_diem/October2017PD.xls\n",
            "/content/per_diem/January2018PD.xls   /content/per_diem/September2017PD.xls\n",
            "/content/per_diem/July2017PD.xls      /content/per_diem/September2018PD.xls\n",
            "/content/per_diem/July2018PD.xls\n"
          ],
          "name": "stdout"
        }
      ]
    },
    {
      "cell_type": "markdown",
      "metadata": {
        "id": "Ym7sTdjUD37v",
        "colab_type": "text"
      },
      "source": [
        "The following command uses the pandas function `read_excel` to read in the spreadsheet."
      ]
    },
    {
      "cell_type": "code",
      "metadata": {
        "id": "lU-wDqfyD37v",
        "colab_type": "code",
        "colab": {
          "base_uri": "https://localhost:8080/",
          "height": 34
        },
        "outputId": "bdc993c5-b98e-4032-97ae-8683299fc85d"
      },
      "source": [
        "import pandas as pd\n",
        "may_2017_pdf = pd.read_excel('/content/per_diem/May2017PD.xls')\n",
        "may_2017_pdf.info()"
      ],
      "execution_count": 44,
      "outputs": [
        {
          "output_type": "stream",
          "text": [
            "UsageError: Line magic function `%python` not found (But cell magic `%%python` exists, did you mean that instead?).\n"
          ],
          "name": "stderr"
        }
      ]
    },
    {
      "cell_type": "markdown",
      "metadata": {
        "id": "H4qFVaO2D37y",
        "colab_type": "text"
      },
      "source": [
        "Notice the column names (they are in mixed case and contain spaces) and notice the columns with type `object`. \n",
        "\n",
        "We fix the column names with the `names` parameter."
      ]
    },
    {
      "cell_type": "code",
      "metadata": {
        "id": "XIjZYDBqD37z",
        "colab_type": "code",
        "colab": {
          "base_uri": "https://localhost:8080/",
          "height": 306
        },
        "outputId": "734d81b1-3d11-4cab-ba05-34b475686cc5"
      },
      "source": [
        "import pandas as pd\n",
        "may_2017_pdf = pd.read_excel('/content/per_diem/May2017PD.xls',\n",
        "                             names=['country_name', 'location', 'season_code', 'season_start_date', \n",
        "                                    'season_end_date', 'lodging', 'meals_incidentals', 'per_diem', \n",
        "                                    'effective_date', 'footnote_reference', 'location_code']\n",
        "                            )\n",
        "may_2017_pdf.info()"
      ],
      "execution_count": 45,
      "outputs": [
        {
          "output_type": "stream",
          "text": [
            "WARNING *** file size (262658) not 512 + multiple of sector size (512)\n",
            "<class 'pandas.core.frame.DataFrame'>\n",
            "RangeIndex: 1105 entries, 0 to 1104\n",
            "Data columns (total 11 columns):\n",
            "country_name          1105 non-null object\n",
            "location              1105 non-null object\n",
            "season_code           1105 non-null object\n",
            "season_start_date     1105 non-null datetime64[ns]\n",
            "season_end_date       1105 non-null datetime64[ns]\n",
            "lodging               1105 non-null int64\n",
            "meals_incidentals     1105 non-null int64\n",
            "per_diem              1105 non-null int64\n",
            "effective_date        1105 non-null datetime64[ns]\n",
            "footnote_reference    340 non-null object\n",
            "location_code         1105 non-null int64\n",
            "dtypes: datetime64[ns](3), int64(4), object(4)\n",
            "memory usage: 95.0+ KB\n"
          ],
          "name": "stdout"
        }
      ]
    },
    {
      "cell_type": "code",
      "metadata": {
        "id": "2Vhq5ENKD371",
        "colab_type": "code",
        "colab": {}
      },
      "source": [
        "may_2017_pdf \\\n",
        "  .select_dtypes(include=['object']) \\\n",
        "  .head()"
      ],
      "execution_count": 0,
      "outputs": []
    },
    {
      "cell_type": "markdown",
      "metadata": {
        "id": "4E_EIR3ND373",
        "colab_type": "text"
      },
      "source": [
        "The first three columns should have datatype `category`. Make is so number 1."
      ]
    },
    {
      "cell_type": "code",
      "metadata": {
        "id": "7oaQsPcfD374",
        "colab_type": "code",
        "colab": {
          "base_uri": "https://localhost:8080/",
          "height": 306
        },
        "outputId": "00eac639-c909-4832-e320-5e2677787e33"
      },
      "source": [
        "import pandas as pd\n",
        "may_2017_pdf = pd.read_excel('/content/per_diem/May2017PD.xls',\n",
        "                             names=['country_name', 'location', 'season_code', 'season_start_date', \n",
        "                                    'season_end_date', 'lodging', 'meals_incidentals', 'per_diem', \n",
        "                                    'effective_date', 'footnote_reference', 'location_code'],\n",
        "                             dtypes={'country_name': 'category',\n",
        "                                     'location': 'category',\n",
        "                                     'season_code': 'category'}\n",
        "                            )\n",
        "may_2017_pdf.info()"
      ],
      "execution_count": 46,
      "outputs": [
        {
          "output_type": "stream",
          "text": [
            "WARNING *** file size (262658) not 512 + multiple of sector size (512)\n",
            "<class 'pandas.core.frame.DataFrame'>\n",
            "RangeIndex: 1105 entries, 0 to 1104\n",
            "Data columns (total 11 columns):\n",
            "country_name          1105 non-null object\n",
            "location              1105 non-null object\n",
            "season_code           1105 non-null object\n",
            "season_start_date     1105 non-null datetime64[ns]\n",
            "season_end_date       1105 non-null datetime64[ns]\n",
            "lodging               1105 non-null int64\n",
            "meals_incidentals     1105 non-null int64\n",
            "per_diem              1105 non-null int64\n",
            "effective_date        1105 non-null datetime64[ns]\n",
            "footnote_reference    340 non-null object\n",
            "location_code         1105 non-null int64\n",
            "dtypes: datetime64[ns](3), int64(4), object(4)\n",
            "memory usage: 95.0+ KB\n"
          ],
          "name": "stdout"
        }
      ]
    },
    {
      "cell_type": "code",
      "metadata": {
        "id": "5Lif_R8yD378",
        "colab_type": "code",
        "colab": {
          "base_uri": "https://localhost:8080/",
          "height": 306
        },
        "outputId": "7c37141f-a835-461d-eba6-77262230cae9"
      },
      "source": [
        "import pandas as pd\n",
        "may_2017_pdf = pd.read_excel('/content/per_diem/May2017PD.xls',\n",
        "                             names=['country_name', 'location', 'season_code', 'season_start_date', \n",
        "                                    'season_end_date', 'lodging', 'meals_incidentals', 'per_diem', \n",
        "                                    'effective_date', 'footnote_reference', 'location_code'],\n",
        "                             dtype={'country_name': 'category',\n",
        "                                     'location': 'category',\n",
        "                                     'season_code': 'category'}\n",
        "                            )\n",
        "may_2017_pdf.info()"
      ],
      "execution_count": 48,
      "outputs": [
        {
          "output_type": "stream",
          "text": [
            "WARNING *** file size (262658) not 512 + multiple of sector size (512)\n",
            "<class 'pandas.core.frame.DataFrame'>\n",
            "RangeIndex: 1105 entries, 0 to 1104\n",
            "Data columns (total 11 columns):\n",
            "country_name          1105 non-null category\n",
            "location              1105 non-null category\n",
            "season_code           1105 non-null category\n",
            "season_start_date     1105 non-null datetime64[ns]\n",
            "season_end_date       1105 non-null datetime64[ns]\n",
            "lodging               1105 non-null int64\n",
            "meals_incidentals     1105 non-null int64\n",
            "per_diem              1105 non-null int64\n",
            "effective_date        1105 non-null datetime64[ns]\n",
            "footnote_reference    340 non-null object\n",
            "location_code         1105 non-null int64\n",
            "dtypes: category(3), datetime64[ns](3), int64(4), object(1)\n",
            "memory usage: 123.2+ KB\n"
          ],
          "name": "stdout"
        }
      ]
    },
    {
      "cell_type": "markdown",
      "metadata": {
        "id": "qpTbD9R-D37_",
        "colab_type": "text"
      },
      "source": [
        "Checking this message on Google reveals that we should use the `converters` parameter. See [stackoverflow](https://stackoverflow.com/questions/32591466/python-pandas-how-to-specify-data-types-when-reading-an-excel-file).\n",
        "\n",
        "Further checking [the documentation](https://pandas.pydata.org/pandas-docs/stable/generated/pandas.read_excel.html) reveals that the `dtype` parameter was added in version `0.20.0` and we are running `0.19.2`. (See below.)"
      ]
    },
    {
      "cell_type": "code",
      "metadata": {
        "id": "bf1OtDe9D38A",
        "colab_type": "code",
        "colab": {
          "base_uri": "https://localhost:8080/",
          "height": 34
        },
        "outputId": "20158e4d-e01d-4cee-d74c-11ca8694ecda"
      },
      "source": [
        "pd.__version__"
      ],
      "execution_count": 49,
      "outputs": [
        {
          "output_type": "execute_result",
          "data": {
            "text/plain": [
              "'0.24.2'"
            ]
          },
          "metadata": {
            "tags": []
          },
          "execution_count": 49
        }
      ]
    },
    {
      "cell_type": "markdown",
      "metadata": {
        "id": "5Fpb2P7TD38E",
        "colab_type": "text"
      },
      "source": [
        "There seems to be little documentation on the `converters` parameter.  Because of this I use the `assign` method to change the type of the column after reading the spreadsheet with `read_excel` as follows."
      ]
    },
    {
      "cell_type": "code",
      "metadata": {
        "id": "vAbCbMsGD38F",
        "colab_type": "code",
        "colab": {
          "base_uri": "https://localhost:8080/",
          "height": 306
        },
        "outputId": "b0116a77-d56e-4594-d6e5-dcb025b320cb"
      },
      "source": [
        "import pandas as pd\n",
        "may_2017_pdf = \\\n",
        "pd.read_excel('/content/per_diem/May2017PD.xls',\n",
        "              names=['country_name', 'location', 'season_code', 'season_start_date', \n",
        "                     'season_end_date', 'lodging', 'meals_incidentals', 'per_diem', \n",
        "                     'effective_date', 'footnote_reference', 'location_code']\n",
        "             ) \\\n",
        "  .assign(country_name=lambda df: df.country_name.astype('category'),\n",
        "          location    =lambda df: df.location.astype('category'),\n",
        "          season_code =lambda df: df.season_code.astype('category')\n",
        "         )\n",
        "        \n",
        "may_2017_pdf.info()"
      ],
      "execution_count": 51,
      "outputs": [
        {
          "output_type": "stream",
          "text": [
            "WARNING *** file size (262658) not 512 + multiple of sector size (512)\n",
            "<class 'pandas.core.frame.DataFrame'>\n",
            "RangeIndex: 1105 entries, 0 to 1104\n",
            "Data columns (total 11 columns):\n",
            "country_name          1105 non-null category\n",
            "location              1105 non-null category\n",
            "season_code           1105 non-null category\n",
            "season_start_date     1105 non-null datetime64[ns]\n",
            "season_end_date       1105 non-null datetime64[ns]\n",
            "lodging               1105 non-null int64\n",
            "meals_incidentals     1105 non-null int64\n",
            "per_diem              1105 non-null int64\n",
            "effective_date        1105 non-null datetime64[ns]\n",
            "footnote_reference    340 non-null object\n",
            "location_code         1105 non-null int64\n",
            "dtypes: category(3), datetime64[ns](3), int64(4), object(1)\n",
            "memory usage: 133.3+ KB\n"
          ],
          "name": "stdout"
        }
      ]
    },
    {
      "cell_type": "markdown",
      "metadata": {
        "id": "4uP9iY9YD38I",
        "colab_type": "text"
      },
      "source": [
        "See the documentation on the `assign` method:\n",
        "- https://pandas.pydata.org/pandas-docs/stable/generated/pandas.DataFrame.assign.html"
      ]
    },
    {
      "cell_type": "markdown",
      "metadata": {
        "id": "f6i3t-eaD38J",
        "colab_type": "text"
      },
      "source": [
        "Make one last check on the columns of type `object`."
      ]
    },
    {
      "cell_type": "code",
      "metadata": {
        "id": "DRREoLvnD38K",
        "colab_type": "code",
        "colab": {
          "base_uri": "https://localhost:8080/",
          "height": 204
        },
        "outputId": "01e3287d-7d9f-40da-c389-5e567e75d8e4"
      },
      "source": [
        "may_2017_pdf \\\n",
        "  .select_dtypes(include=['object']) \\\n",
        "  .head()"
      ],
      "execution_count": 52,
      "outputs": [
        {
          "output_type": "execute_result",
          "data": {
            "text/html": [
              "<div>\n",
              "<style scoped>\n",
              "    .dataframe tbody tr th:only-of-type {\n",
              "        vertical-align: middle;\n",
              "    }\n",
              "\n",
              "    .dataframe tbody tr th {\n",
              "        vertical-align: top;\n",
              "    }\n",
              "\n",
              "    .dataframe thead th {\n",
              "        text-align: right;\n",
              "    }\n",
              "</style>\n",
              "<table border=\"1\" class=\"dataframe\">\n",
              "  <thead>\n",
              "    <tr style=\"text-align: right;\">\n",
              "      <th></th>\n",
              "      <th>footnote_reference</th>\n",
              "    </tr>\n",
              "  </thead>\n",
              "  <tbody>\n",
              "    <tr>\n",
              "      <th>0</th>\n",
              "      <td>19,2</td>\n",
              "    </tr>\n",
              "    <tr>\n",
              "      <th>1</th>\n",
              "      <td>19,2</td>\n",
              "    </tr>\n",
              "    <tr>\n",
              "      <th>2</th>\n",
              "      <td>NaN</td>\n",
              "    </tr>\n",
              "    <tr>\n",
              "      <th>3</th>\n",
              "      <td>NaN</td>\n",
              "    </tr>\n",
              "    <tr>\n",
              "      <th>4</th>\n",
              "      <td>2</td>\n",
              "    </tr>\n",
              "  </tbody>\n",
              "</table>\n",
              "</div>"
            ],
            "text/plain": [
              "  footnote_reference\n",
              "0               19,2\n",
              "1               19,2\n",
              "2                NaN\n",
              "3                NaN\n",
              "4                  2"
            ]
          },
          "metadata": {
            "tags": []
          },
          "execution_count": 52
        }
      ]
    },
    {
      "cell_type": "markdown",
      "metadata": {
        "id": "j470aaZ8D38M",
        "colab_type": "text"
      },
      "source": [
        "That looks like a reasonable `object` column. The `may_2017_pdf` dataframe is ready to be analyzed."
      ]
    },
    {
      "cell_type": "markdown",
      "metadata": {
        "id": "UEp50ZeiD38N",
        "colab_type": "text"
      },
      "source": [
        "## 4. `read_json`"
      ]
    },
    {
      "cell_type": "markdown",
      "metadata": {
        "id": "TppNJVgED38N",
        "colab_type": "text"
      },
      "source": [
        "List the JSON files in the `/dbfs/mnt/datalab-datasets/JSON` directory."
      ]
    },
    {
      "cell_type": "code",
      "metadata": {
        "id": "UpLLmsCFGpy3",
        "colab_type": "code",
        "colab": {
          "base_uri": "https://localhost:8080/",
          "height": 34
        },
        "outputId": "6ee6f117-f6af-4610-92c2-758a357d47fe"
      },
      "source": [
        "%%sh\n",
        "git clone https://github.com/datalab-datasets/file-samples"
      ],
      "execution_count": 54,
      "outputs": [
        {
          "output_type": "stream",
          "text": [
            "Cloning into 'file-samples'...\n"
          ],
          "name": "stderr"
        }
      ]
    },
    {
      "cell_type": "code",
      "metadata": {
        "id": "5DK17zioD38O",
        "colab_type": "code",
        "colab": {
          "base_uri": "https://localhost:8080/",
          "height": 221
        },
        "outputId": "d89c1085-3353-4f95-8794-07f44c983f55"
      },
      "source": [
        "%ls /content/file-samples/*.json"
      ],
      "execution_count": 57,
      "outputs": [
        {
          "output_type": "stream",
          "text": [
            "/content/file-samples/dict_of_lists.json\n",
            "/content/file-samples/each_line.json\n",
            "/content/file-samples/enron.json\n",
            "/content/file-samples/list_of_dicts.json\n",
            "/content/file-samples/one_dictionary.json\n",
            "/content/file-samples/one_list.json\n",
            "/content/file-samples/one_list_with_metadata.json\n",
            "/content/file-samples/simple_dict.json\n",
            "/content/file-samples/simple_list.json\n",
            "/content/file-samples/stocks.json\n",
            "/content/file-samples/world_bank.json\n",
            "/content/file-samples/zips.json\n"
          ],
          "name": "stdout"
        }
      ]
    },
    {
      "cell_type": "markdown",
      "metadata": {
        "id": "-dpP-HSeD38Q",
        "colab_type": "text"
      },
      "source": [
        "The first example uses the `zips.json` file. It only contains three records, which are displayed below."
      ]
    },
    {
      "cell_type": "code",
      "metadata": {
        "id": "jStozWZwD38S",
        "colab_type": "code",
        "colab": {
          "base_uri": "https://localhost:8080/",
          "height": 68
        },
        "outputId": "c2d5cccc-cef9-48e7-cb87-ff9acacbfc81"
      },
      "source": [
        "%%sh \n",
        "head -n 3 /content/file-samples/zips.json"
      ],
      "execution_count": 59,
      "outputs": [
        {
          "output_type": "stream",
          "text": [
            "{ \"city\" : \"AGAWAM\", \"loc\" : [ -72.622739, 42.070206 ], \"pop\" : 15338, \"state\" : \"MA\", \"_id\" : \"01001\" }\n",
            "{ \"city\" : \"CUSHMAN\", \"loc\" : [ -72.51564999999999, 42.377017 ], \"pop\" : 36963, \"state\" : \"MA\", \"_id\" : \"01002\" }\n",
            "{ \"city\" : \"BARRE\", \"loc\" : [ -72.10835400000001, 42.409698 ], \"pop\" : 4546, \"state\" : \"MA\", \"_id\" : \"01005\" }\n"
          ],
          "name": "stdout"
        }
      ]
    },
    {
      "cell_type": "markdown",
      "metadata": {
        "id": "KgsMLe6ZD38T",
        "colab_type": "text"
      },
      "source": [
        "Read the file using `read_json`. The `lines=True` parameter indicates that there should be one JSON object per line. These JSON objects correspond to rows/records. The key names correspond to column names."
      ]
    },
    {
      "cell_type": "code",
      "metadata": {
        "id": "h3qIlFcND38U",
        "colab_type": "code",
        "colab": {
          "base_uri": "https://localhost:8080/",
          "height": 187
        },
        "outputId": "5245529e-3dc1-4b01-a898-56f1a879b772"
      },
      "source": [
        "zips_pdf = pd.read_json('/content/file-samples/zips.json',\n",
        "                        lines=True)\n",
        "zips_pdf.info()"
      ],
      "execution_count": 62,
      "outputs": [
        {
          "output_type": "stream",
          "text": [
            "<class 'pandas.core.frame.DataFrame'>\n",
            "RangeIndex: 29467 entries, 0 to 29466\n",
            "Data columns (total 5 columns):\n",
            "_id      29467 non-null int64\n",
            "city     29467 non-null object\n",
            "loc      29467 non-null object\n",
            "pop      29467 non-null int64\n",
            "state    29467 non-null object\n",
            "dtypes: int64(2), object(3)\n",
            "memory usage: 1.1+ MB\n"
          ],
          "name": "stdout"
        }
      ]
    },
    {
      "cell_type": "markdown",
      "metadata": {
        "id": "syCnZUPjD38V",
        "colab_type": "text"
      },
      "source": [
        "List the first five records of the dataframe. Notice the `loc` column. It seems to contain a list, but has the `object` datatype."
      ]
    },
    {
      "cell_type": "code",
      "metadata": {
        "id": "FBXFNiySD38W",
        "colab_type": "code",
        "colab": {
          "base_uri": "https://localhost:8080/",
          "height": 204
        },
        "outputId": "103df16c-7e80-4204-b844-5f0b88e0c8f6"
      },
      "source": [
        "zips_pdf.head()"
      ],
      "execution_count": 63,
      "outputs": [
        {
          "output_type": "execute_result",
          "data": {
            "text/html": [
              "<div>\n",
              "<style scoped>\n",
              "    .dataframe tbody tr th:only-of-type {\n",
              "        vertical-align: middle;\n",
              "    }\n",
              "\n",
              "    .dataframe tbody tr th {\n",
              "        vertical-align: top;\n",
              "    }\n",
              "\n",
              "    .dataframe thead th {\n",
              "        text-align: right;\n",
              "    }\n",
              "</style>\n",
              "<table border=\"1\" class=\"dataframe\">\n",
              "  <thead>\n",
              "    <tr style=\"text-align: right;\">\n",
              "      <th></th>\n",
              "      <th>_id</th>\n",
              "      <th>city</th>\n",
              "      <th>loc</th>\n",
              "      <th>pop</th>\n",
              "      <th>state</th>\n",
              "    </tr>\n",
              "  </thead>\n",
              "  <tbody>\n",
              "    <tr>\n",
              "      <th>0</th>\n",
              "      <td>1001</td>\n",
              "      <td>AGAWAM</td>\n",
              "      <td>[-72.622739, 42.070206]</td>\n",
              "      <td>15338</td>\n",
              "      <td>MA</td>\n",
              "    </tr>\n",
              "    <tr>\n",
              "      <th>1</th>\n",
              "      <td>1002</td>\n",
              "      <td>CUSHMAN</td>\n",
              "      <td>[-72.51565, 42.377017]</td>\n",
              "      <td>36963</td>\n",
              "      <td>MA</td>\n",
              "    </tr>\n",
              "    <tr>\n",
              "      <th>2</th>\n",
              "      <td>1005</td>\n",
              "      <td>BARRE</td>\n",
              "      <td>[-72.108354, 42.409698]</td>\n",
              "      <td>4546</td>\n",
              "      <td>MA</td>\n",
              "    </tr>\n",
              "    <tr>\n",
              "      <th>3</th>\n",
              "      <td>1007</td>\n",
              "      <td>BELCHERTOWN</td>\n",
              "      <td>[-72.410953, 42.275103]</td>\n",
              "      <td>10579</td>\n",
              "      <td>MA</td>\n",
              "    </tr>\n",
              "    <tr>\n",
              "      <th>4</th>\n",
              "      <td>1008</td>\n",
              "      <td>BLANDFORD</td>\n",
              "      <td>[-72.936114, 42.182949]</td>\n",
              "      <td>1240</td>\n",
              "      <td>MA</td>\n",
              "    </tr>\n",
              "  </tbody>\n",
              "</table>\n",
              "</div>"
            ],
            "text/plain": [
              "    _id         city                      loc    pop state\n",
              "0  1001       AGAWAM  [-72.622739, 42.070206]  15338    MA\n",
              "1  1002      CUSHMAN   [-72.51565, 42.377017]  36963    MA\n",
              "2  1005        BARRE  [-72.108354, 42.409698]   4546    MA\n",
              "3  1007  BELCHERTOWN  [-72.410953, 42.275103]  10579    MA\n",
              "4  1008    BLANDFORD  [-72.936114, 42.182949]   1240    MA"
            ]
          },
          "metadata": {
            "tags": []
          },
          "execution_count": 63
        }
      ]
    },
    {
      "cell_type": "code",
      "metadata": {
        "id": "hPquhuPZD38Y",
        "colab_type": "code",
        "colab": {
          "base_uri": "https://localhost:8080/",
          "height": 34
        },
        "outputId": "87ae24c9-5be0-4eab-ea3c-5236bbc6a4b3"
      },
      "source": [
        "zips_pdf.loc"
      ],
      "execution_count": 64,
      "outputs": [
        {
          "output_type": "execute_result",
          "data": {
            "text/plain": [
              "<pandas.core.indexing._LocIndexer at 0x7f4cf47cd0e8>"
            ]
          },
          "metadata": {
            "tags": []
          },
          "execution_count": 64
        }
      ]
    },
    {
      "cell_type": "markdown",
      "metadata": {
        "id": "XBvO3ciqD38b",
        "colab_type": "text"
      },
      "source": [
        "The `loc` indexer masks the `loc column` so it should be renamed. The `read_json` function has no `names` parameter so we use the `rename` method. See the documentation for details on the `rename` method: \n",
        "- https://pandas.pydata.org/pandas-docs/stable/generated/pandas.DataFrame.rename.html"
      ]
    },
    {
      "cell_type": "code",
      "metadata": {
        "id": "BGOHoEsYD38c",
        "colab_type": "code",
        "colab": {
          "base_uri": "https://localhost:8080/",
          "height": 187
        },
        "outputId": "9b945145-eb63-41ee-aba4-af33f7f2aeb0"
      },
      "source": [
        "zips_pdf = \\\n",
        "pd.read_json('/content/file-samples/zips.json',\n",
        "             lines=True) \\\n",
        "  .rename(columns={'loc':'lon_lat'})\n",
        "zips_pdf.info()"
      ],
      "execution_count": 65,
      "outputs": [
        {
          "output_type": "stream",
          "text": [
            "<class 'pandas.core.frame.DataFrame'>\n",
            "RangeIndex: 29467 entries, 0 to 29466\n",
            "Data columns (total 5 columns):\n",
            "_id        29467 non-null int64\n",
            "city       29467 non-null object\n",
            "lon_lat    29467 non-null object\n",
            "pop        29467 non-null int64\n",
            "state      29467 non-null object\n",
            "dtypes: int64(2), object(3)\n",
            "memory usage: 1.1+ MB\n"
          ],
          "name": "stdout"
        }
      ]
    },
    {
      "cell_type": "markdown",
      "metadata": {
        "id": "25AVL5dRD38d",
        "colab_type": "text"
      },
      "source": [
        "The `city` and `state` columns should have datatype `category`. The `dtype` parameter didn't work so the `assign` method is used."
      ]
    },
    {
      "cell_type": "code",
      "metadata": {
        "id": "07n_vDPnD38e",
        "colab_type": "code",
        "colab": {
          "base_uri": "https://localhost:8080/",
          "height": 187
        },
        "outputId": "68111073-1902-4007-d168-cc3d0d0ac5e3"
      },
      "source": [
        "zips_pdf = \\\n",
        "pd.read_json('/content/file-samples/zips.json',\n",
        "             lines=True) \\\n",
        "  .rename(columns={'loc':'lon_lat'}) \\\n",
        "  .assign(city =lambda df: df.city .astype('category'),\n",
        "          state=lambda df: df.state.astype('category')\n",
        "         )\n",
        "\n",
        "zips_pdf.info()"
      ],
      "execution_count": 66,
      "outputs": [
        {
          "output_type": "stream",
          "text": [
            "<class 'pandas.core.frame.DataFrame'>\n",
            "RangeIndex: 29467 entries, 0 to 29466\n",
            "Data columns (total 5 columns):\n",
            "_id        29467 non-null int64\n",
            "city       29467 non-null category\n",
            "lon_lat    29467 non-null object\n",
            "pop        29467 non-null int64\n",
            "state      29467 non-null category\n",
            "dtypes: category(2), int64(2), object(1)\n",
            "memory usage: 1.5+ MB\n"
          ],
          "name": "stdout"
        }
      ]
    },
    {
      "cell_type": "markdown",
      "metadata": {
        "id": "UyiDSXQtD38f",
        "colab_type": "text"
      },
      "source": [
        "The `lon_lat` column should be split into two columns, but that will have to wait until later."
      ]
    },
    {
      "cell_type": "markdown",
      "metadata": {
        "id": "rtGppUvED38g",
        "colab_type": "text"
      },
      "source": [
        "__The End__"
      ]
    }
  ]
}