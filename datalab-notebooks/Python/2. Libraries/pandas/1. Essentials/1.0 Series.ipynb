{
  "nbformat": 4,
  "nbformat_minor": 0,
  "metadata": {
    "colab": {
      "name": "1.0 Series.ipynb",
      "version": "0.3.2",
      "provenance": []
    },
    "kernelspec": {
      "name": "python3",
      "display_name": "Python 3"
    }
  },
  "cells": [
    {
      "cell_type": "markdown",
      "metadata": {
        "id": "apSRTBMnvz1F",
        "colab_type": "text"
      },
      "source": [
        "# `pandas` - Series"
      ]
    },
    {
      "cell_type": "markdown",
      "metadata": {
        "id": "aymmtYEpvz1H",
        "colab_type": "text"
      },
      "source": [
        "## Reference\n",
        "- https://pandas.pydata.org/pandas-docs/stable/index.html\n",
        "- https://pandas.pydata.org/pandas-docs/stable/dsintro.html\n",
        "- https://pandas.pydata.org/pandas-docs/stable/generated/pandas.Series.html\n",
        "- https://pandas.pydata.org/pandas-docs/stable/generated/pandas.to_datetime.html\n",
        "- https://pandas.pydata.org/pandas-docs/stable/timeseries.html\n",
        "- https://docs.scipy.org/doc/numpy/reference/routines.random.html"
      ]
    },
    {
      "cell_type": "markdown",
      "metadata": {
        "id": "7rqvcRL4vz1I",
        "colab_type": "text"
      },
      "source": [
        "## Contents\n",
        "1. Series \n",
        "1. Numeric Series\n",
        "1. Character Series\n",
        "1. Time Series"
      ]
    },
    {
      "cell_type": "markdown",
      "metadata": {
        "id": "USFALwmyvz1J",
        "colab_type": "text"
      },
      "source": [
        "## 1. Series"
      ]
    },
    {
      "cell_type": "markdown",
      "metadata": {
        "id": "bwO6U1Gqvz1K",
        "colab_type": "text"
      },
      "source": [
        "Documentation:\n",
        "- https://pandas.pydata.org/pandas-docs/stable/generated/pandas.Series.html"
      ]
    },
    {
      "cell_type": "markdown",
      "metadata": {
        "id": "yO43uow4vz1K",
        "colab_type": "text"
      },
      "source": [
        "Load libraries."
      ]
    },
    {
      "cell_type": "code",
      "metadata": {
        "id": "J87tlJc-vz1L",
        "colab_type": "code",
        "colab": {
          "base_uri": "https://localhost:8080/",
          "height": 51
        },
        "outputId": "50699f06-1d21-4816-e1b2-d3ebfe36da7d"
      },
      "source": [
        "import pandas  as pd\n",
        "import numpy   as np\n",
        "print('pandas',pd.__version__)\n",
        "print('numpy ',np.__version__)"
      ],
      "execution_count": 1,
      "outputs": [
        {
          "output_type": "stream",
          "text": [
            "pandas 0.24.2\n",
            "numpy  1.16.4\n"
          ],
          "name": "stdout"
        }
      ]
    },
    {
      "cell_type": "markdown",
      "metadata": {
        "id": "cC4_HUWRvz1P",
        "colab_type": "text"
      },
      "source": [
        "There are two types of objects in pandas:\n",
        "- __Series__, which are 1-dimensional and contain only one type of value (i.e. `float64`, `int64`, `bool`, `object`)\n",
        "- __Dataframes__, which are 2-dimensional tables\n",
        "\n",
        "The columns of a DataFrame can be retrieved as a Series or as a DataFrame with a single column."
      ]
    },
    {
      "cell_type": "markdown",
      "metadata": {
        "id": "MeNwYAD2vz1P",
        "colab_type": "text"
      },
      "source": [
        "A __Series__ is a sequence of values and a corresponding sequence of names (an index) for these values."
      ]
    },
    {
      "cell_type": "markdown",
      "metadata": {
        "id": "m87uegUqvz1Q",
        "colab_type": "text"
      },
      "source": [
        "Create a Series object `my_series` for a range."
      ]
    },
    {
      "cell_type": "code",
      "metadata": {
        "id": "Z6jFGL3rvz1R",
        "colab_type": "code",
        "colab": {
          "base_uri": "https://localhost:8080/",
          "height": 119
        },
        "outputId": "f2cc031f-0be7-4852-847e-3483b36abdd7"
      },
      "source": [
        "my_series = pd.Series(range(0,50,10))\n",
        "my_series"
      ],
      "execution_count": 2,
      "outputs": [
        {
          "output_type": "execute_result",
          "data": {
            "text/plain": [
              "0     0\n",
              "1    10\n",
              "2    20\n",
              "3    30\n",
              "4    40\n",
              "dtype: int64"
            ]
          },
          "metadata": {
            "tags": []
          },
          "execution_count": 2
        }
      ]
    },
    {
      "cell_type": "markdown",
      "metadata": {
        "id": "npbhhhENvz1T",
        "colab_type": "text"
      },
      "source": [
        "Use the `dtype` attribute to get the type of object stored in the Series."
      ]
    },
    {
      "cell_type": "code",
      "metadata": {
        "id": "H7Porjgcvz1U",
        "colab_type": "code",
        "colab": {
          "base_uri": "https://localhost:8080/",
          "height": 34
        },
        "outputId": "0cad195e-84ea-4f69-de4c-4987c56d96c4"
      },
      "source": [
        "my_series.dtype"
      ],
      "execution_count": 3,
      "outputs": [
        {
          "output_type": "execute_result",
          "data": {
            "text/plain": [
              "dtype('int64')"
            ]
          },
          "metadata": {
            "tags": []
          },
          "execution_count": 3
        }
      ]
    },
    {
      "cell_type": "markdown",
      "metadata": {
        "id": "CinUI2oRvz1W",
        "colab_type": "text"
      },
      "source": [
        "The `size` attribute returns the number of elements in the Series."
      ]
    },
    {
      "cell_type": "code",
      "metadata": {
        "id": "I8NAMC5zvz1W",
        "colab_type": "code",
        "colab": {
          "base_uri": "https://localhost:8080/",
          "height": 34
        },
        "outputId": "6a7627d3-fbb2-438c-ff20-09c171e5d8ac"
      },
      "source": [
        "my_series.size"
      ],
      "execution_count": 4,
      "outputs": [
        {
          "output_type": "execute_result",
          "data": {
            "text/plain": [
              "5"
            ]
          },
          "metadata": {
            "tags": []
          },
          "execution_count": 4
        }
      ]
    },
    {
      "cell_type": "markdown",
      "metadata": {
        "id": "XmwvxeEFvz1Y",
        "colab_type": "text"
      },
      "source": [
        "The `shape` attribute returns the shape of the data."
      ]
    },
    {
      "cell_type": "code",
      "metadata": {
        "id": "oi-UKfkBvz1Z",
        "colab_type": "code",
        "colab": {
          "base_uri": "https://localhost:8080/",
          "height": 34
        },
        "outputId": "f4513ff0-94ef-414f-f60c-7874e47d07d4"
      },
      "source": [
        "my_series.shape"
      ],
      "execution_count": 5,
      "outputs": [
        {
          "output_type": "execute_result",
          "data": {
            "text/plain": [
              "(5,)"
            ]
          },
          "metadata": {
            "tags": []
          },
          "execution_count": 5
        }
      ]
    },
    {
      "cell_type": "markdown",
      "metadata": {
        "id": "G7wQ2D7avz1b",
        "colab_type": "text"
      },
      "source": [
        "Notice that `my_series` has `5` elements and only a single dimension."
      ]
    },
    {
      "cell_type": "markdown",
      "metadata": {
        "id": "OpuzQinGvz1d",
        "colab_type": "text"
      },
      "source": [
        "To see the number of elements in the Series, we can also use `len()` function."
      ]
    },
    {
      "cell_type": "code",
      "metadata": {
        "id": "lBPhTrcnvz1e",
        "colab_type": "code",
        "colab": {
          "base_uri": "https://localhost:8080/",
          "height": 34
        },
        "outputId": "72b6c8a7-da74-4a8e-a44a-6f9c7ad54cd6"
      },
      "source": [
        "len(my_series)"
      ],
      "execution_count": 6,
      "outputs": [
        {
          "output_type": "execute_result",
          "data": {
            "text/plain": [
              "5"
            ]
          },
          "metadata": {
            "tags": []
          },
          "execution_count": 6
        }
      ]
    },
    {
      "cell_type": "markdown",
      "metadata": {
        "id": "Yg9ws3r0vz1g",
        "colab_type": "text"
      },
      "source": [
        "The counts of the distinct values of a Series are displayed using the `value_counts` method."
      ]
    },
    {
      "cell_type": "code",
      "metadata": {
        "id": "JJwAx6fzvz1h",
        "colab_type": "code",
        "colab": {
          "base_uri": "https://localhost:8080/",
          "height": 119
        },
        "outputId": "2cd8b2fe-68dd-4260-cdc0-181ce4a03ffe"
      },
      "source": [
        "my_series.value_counts()"
      ],
      "execution_count": 7,
      "outputs": [
        {
          "output_type": "execute_result",
          "data": {
            "text/plain": [
              "30    1\n",
              "40    1\n",
              "20    1\n",
              "10    1\n",
              "0     1\n",
              "dtype: int64"
            ]
          },
          "metadata": {
            "tags": []
          },
          "execution_count": 7
        }
      ]
    },
    {
      "cell_type": "code",
      "metadata": {
        "id": "6t1WmtXPvz1k",
        "colab_type": "code",
        "colab": {
          "base_uri": "https://localhost:8080/",
          "height": 85
        },
        "outputId": "c9df132d-6b69-4d5d-f2aa-3d7f76f1a808"
      },
      "source": [
        "import pandas as pd\n",
        "pd.Series([1,2,3,2,3,2,3,1]).value_counts()"
      ],
      "execution_count": 10,
      "outputs": [
        {
          "output_type": "execute_result",
          "data": {
            "text/plain": [
              "3    3\n",
              "2    3\n",
              "1    2\n",
              "dtype: int64"
            ]
          },
          "metadata": {
            "tags": []
          },
          "execution_count": 10
        }
      ]
    },
    {
      "cell_type": "markdown",
      "metadata": {
        "id": "Ujwh6n-Lvz1l",
        "colab_type": "text"
      },
      "source": [
        "The values of a Series can be converted into a 1-dimensional numpy array using the `values` method."
      ]
    },
    {
      "cell_type": "code",
      "metadata": {
        "id": "eypFEVGJvz1m",
        "colab_type": "code",
        "colab": {
          "base_uri": "https://localhost:8080/",
          "height": 51
        },
        "outputId": "d25afb82-fed1-429b-e8fc-46c36e6f22bd"
      },
      "source": [
        "print(type(my_series.values))\n",
        "my_series.values"
      ],
      "execution_count": 11,
      "outputs": [
        {
          "output_type": "stream",
          "text": [
            "<class 'numpy.ndarray'>\n"
          ],
          "name": "stdout"
        },
        {
          "output_type": "execute_result",
          "data": {
            "text/plain": [
              "array([ 0, 10, 20, 30, 40])"
            ]
          },
          "metadata": {
            "tags": []
          },
          "execution_count": 11
        }
      ]
    },
    {
      "cell_type": "markdown",
      "metadata": {
        "id": "-DkgcHdxvz1o",
        "colab_type": "text"
      },
      "source": [
        "There are two ways to aggregate the values of a Series. \n",
        "1. Through methods of the Series object, such as `mean()`, `median()`, `sum()`.\n",
        "1. Through numpy functions, such as `numpy.square()`, `numpy.add()`.\n",
        "\n",
        "A couple of each are displayed below. More can be found in the documentation."
      ]
    },
    {
      "cell_type": "code",
      "metadata": {
        "id": "CVbva4H2vz1o",
        "colab_type": "code",
        "colab": {
          "base_uri": "https://localhost:8080/",
          "height": 34
        },
        "outputId": "c2f3d4b3-c387-4b3e-ce65-a86fa51da851"
      },
      "source": [
        "my_series.mean()"
      ],
      "execution_count": 12,
      "outputs": [
        {
          "output_type": "execute_result",
          "data": {
            "text/plain": [
              "20.0"
            ]
          },
          "metadata": {
            "tags": []
          },
          "execution_count": 12
        }
      ]
    },
    {
      "cell_type": "code",
      "metadata": {
        "id": "igeAKOvIvz1q",
        "colab_type": "code",
        "colab": {
          "base_uri": "https://localhost:8080/",
          "height": 34
        },
        "outputId": "1cf1cbb9-b0e4-425d-9c70-24dc31158b86"
      },
      "source": [
        "my_series.median()"
      ],
      "execution_count": 13,
      "outputs": [
        {
          "output_type": "execute_result",
          "data": {
            "text/plain": [
              "20.0"
            ]
          },
          "metadata": {
            "tags": []
          },
          "execution_count": 13
        }
      ]
    },
    {
      "cell_type": "code",
      "metadata": {
        "id": "K9KD99CKvz1s",
        "colab_type": "code",
        "colab": {
          "base_uri": "https://localhost:8080/",
          "height": 34
        },
        "outputId": "dd531e0c-1be4-45f9-e12a-8fb2c5712fb7"
      },
      "source": [
        "my_series.sum()"
      ],
      "execution_count": 14,
      "outputs": [
        {
          "output_type": "execute_result",
          "data": {
            "text/plain": [
              "100"
            ]
          },
          "metadata": {
            "tags": []
          },
          "execution_count": 14
        }
      ]
    },
    {
      "cell_type": "markdown",
      "metadata": {
        "id": "B6zGiXyuvz1t",
        "colab_type": "text"
      },
      "source": [
        "See link below for a list of numpy aggregation functions:\n",
        "- https://jakevdp.github.io/PythonDataScienceHandbook/02.04-computation-on-arrays-aggregates.html\n",
        "\n",
        "One difference between these functions and the Series methods is that the numpy functions can take multi-dimensional numpy arrays as input."
      ]
    },
    {
      "cell_type": "code",
      "metadata": {
        "id": "8IS2YR-tvz1u",
        "colab_type": "code",
        "colab": {
          "base_uri": "https://localhost:8080/",
          "height": 34
        },
        "outputId": "a1e5f0c6-870d-47e3-c04e-469905701b05"
      },
      "source": [
        "np.max(my_series)"
      ],
      "execution_count": 15,
      "outputs": [
        {
          "output_type": "execute_result",
          "data": {
            "text/plain": [
              "40"
            ]
          },
          "metadata": {
            "tags": []
          },
          "execution_count": 15
        }
      ]
    },
    {
      "cell_type": "code",
      "metadata": {
        "id": "0qA444iMvz1w",
        "colab_type": "code",
        "colab": {
          "base_uri": "https://localhost:8080/",
          "height": 34
        },
        "outputId": "f0b0148b-63eb-4c1a-9fc9-989ac45c90a1"
      },
      "source": [
        "np.mean(my_series)"
      ],
      "execution_count": 16,
      "outputs": [
        {
          "output_type": "execute_result",
          "data": {
            "text/plain": [
              "20.0"
            ]
          },
          "metadata": {
            "tags": []
          },
          "execution_count": 16
        }
      ]
    },
    {
      "cell_type": "markdown",
      "metadata": {
        "id": "Wc03lqGrvz1y",
        "colab_type": "text"
      },
      "source": [
        "There are three types of Series. Each has a different type of index. These are:\n",
        "- __Numeric Series__, where rows are labeled by numbers, which is the default\n",
        "- __Character Series__, where rows are labeled by strings\n",
        "- __Time Series__, where the rows are labeled by `datetime` values\n",
        "\n",
        "The __index__ of a Series is a corresponding sequence of values used to refer to individual elements of a Series or sets of elements of a Series. \n",
        "\n",
        "The indexing (retrieval of elements) is slightly different for each type of Series."
      ]
    },
    {
      "cell_type": "markdown",
      "metadata": {
        "id": "5XJljdokvz1z",
        "colab_type": "text"
      },
      "source": [
        "## 2. Numeric Indexed Series"
      ]
    },
    {
      "cell_type": "markdown",
      "metadata": {
        "id": "Cf-7keC5vz1z",
        "colab_type": "text"
      },
      "source": [
        "Documentation:\n",
        "- https://docs.scipy.org/doc/numpy/reference/routines.random.html"
      ]
    },
    {
      "cell_type": "markdown",
      "metadata": {
        "id": "EDu28i05vz10",
        "colab_type": "text"
      },
      "source": [
        "Create a Series from a numpy array of 11 random integers between 100 and 110."
      ]
    },
    {
      "cell_type": "code",
      "metadata": {
        "id": "vcW5KpDHvz12",
        "colab_type": "code",
        "colab": {
          "base_uri": "https://localhost:8080/",
          "height": 34
        },
        "outputId": "98396524-5b48-47fb-cd86-5def891fbf36"
      },
      "source": [
        "import numpy as np\n",
        "num_series = pd.Series(np.random.randint(100,110,11))\n",
        "type(num_series)"
      ],
      "execution_count": 17,
      "outputs": [
        {
          "output_type": "execute_result",
          "data": {
            "text/plain": [
              "pandas.core.series.Series"
            ]
          },
          "metadata": {
            "tags": []
          },
          "execution_count": 17
        }
      ]
    },
    {
      "cell_type": "markdown",
      "metadata": {
        "id": "9YXqyXFhvz16",
        "colab_type": "text"
      },
      "source": [
        "Have a look at the Series."
      ]
    },
    {
      "cell_type": "code",
      "metadata": {
        "id": "rV7pInWVvz17",
        "colab_type": "code",
        "colab": {
          "base_uri": "https://localhost:8080/",
          "height": 221
        },
        "outputId": "5f542b7b-582c-4dc9-cd75-ec8eb4b0db84"
      },
      "source": [
        "num_series"
      ],
      "execution_count": 18,
      "outputs": [
        {
          "output_type": "execute_result",
          "data": {
            "text/plain": [
              "0     104\n",
              "1     106\n",
              "2     106\n",
              "3     108\n",
              "4     108\n",
              "5     107\n",
              "6     108\n",
              "7     104\n",
              "8     100\n",
              "9     107\n",
              "10    101\n",
              "dtype: int64"
            ]
          },
          "metadata": {
            "tags": []
          },
          "execution_count": 18
        }
      ]
    },
    {
      "cell_type": "markdown",
      "metadata": {
        "id": "av2dRLUPvz18",
        "colab_type": "text"
      },
      "source": [
        "Access a group of values using labels/indexes in the Series using the `.loc` attribute."
      ]
    },
    {
      "cell_type": "code",
      "metadata": {
        "id": "r9u63LZuvz19",
        "colab_type": "code",
        "colab": {
          "base_uri": "https://localhost:8080/",
          "height": 153
        },
        "outputId": "e3ff1673-91e6-4aff-d965-a491b2eafd67"
      },
      "source": [
        "num_series.loc[num_series > 105]"
      ],
      "execution_count": 19,
      "outputs": [
        {
          "output_type": "execute_result",
          "data": {
            "text/plain": [
              "1    106\n",
              "2    106\n",
              "3    108\n",
              "4    108\n",
              "5    107\n",
              "6    108\n",
              "9    107\n",
              "dtype: int64"
            ]
          },
          "metadata": {
            "tags": []
          },
          "execution_count": 19
        }
      ]
    },
    {
      "cell_type": "markdown",
      "metadata": {
        "id": "MZ0USHgIvz1_",
        "colab_type": "text"
      },
      "source": [
        "[note: might add more examples here]"
      ]
    },
    {
      "cell_type": "markdown",
      "metadata": {
        "id": "_pDdNh0tvz1_",
        "colab_type": "text"
      },
      "source": [
        "Access group of values by integer indexes using the `.iloc` attribute."
      ]
    },
    {
      "cell_type": "code",
      "metadata": {
        "id": "vBn92N9evz2B",
        "colab_type": "code",
        "colab": {
          "base_uri": "https://localhost:8080/",
          "height": 85
        },
        "outputId": "b29f82a1-bfb5-464d-e403-5cf4c6696992"
      },
      "source": [
        "num_series.iloc[[0,2,4]]"
      ],
      "execution_count": 20,
      "outputs": [
        {
          "output_type": "execute_result",
          "data": {
            "text/plain": [
              "0    104\n",
              "2    106\n",
              "4    108\n",
              "dtype: int64"
            ]
          },
          "metadata": {
            "tags": []
          },
          "execution_count": 20
        }
      ]
    },
    {
      "cell_type": "markdown",
      "metadata": {
        "id": "PYmup_g0vz2D",
        "colab_type": "text"
      },
      "source": [
        "Note that the `.iloc` attribute takes 0-based indexing. When slicing, the start bounds is included, while the upper bound is excluded."
      ]
    },
    {
      "cell_type": "code",
      "metadata": {
        "id": "cEY4Qt8ovz2D",
        "colab_type": "code",
        "colab": {
          "base_uri": "https://localhost:8080/",
          "height": 85
        },
        "outputId": "30bbbb5d-266d-4dae-f708-e79c690f582f"
      },
      "source": [
        "num_series.iloc[:3]"
      ],
      "execution_count": 21,
      "outputs": [
        {
          "output_type": "execute_result",
          "data": {
            "text/plain": [
              "0    104\n",
              "1    106\n",
              "2    106\n",
              "dtype: int64"
            ]
          },
          "metadata": {
            "tags": []
          },
          "execution_count": 21
        }
      ]
    },
    {
      "cell_type": "markdown",
      "metadata": {
        "id": "PHwAR6E_vz2F",
        "colab_type": "text"
      },
      "source": [
        "The above section introduces the numeric indexed Series and ways to access the values in these Series."
      ]
    },
    {
      "cell_type": "markdown",
      "metadata": {
        "id": "kYEdSSrivz2F",
        "colab_type": "text"
      },
      "source": [
        "## 3. Character Indexed Series"
      ]
    },
    {
      "cell_type": "markdown",
      "metadata": {
        "id": "odV6v8Lhvz2G",
        "colab_type": "text"
      },
      "source": [
        "Create a Series with character index by passing a list of strings to the `index` parameter."
      ]
    },
    {
      "cell_type": "code",
      "metadata": {
        "id": "JfxFC7Bsvz2G",
        "colab_type": "code",
        "colab": {
          "base_uri": "https://localhost:8080/",
          "height": 238
        },
        "outputId": "4ae9834f-19ad-4389-9750-d0c2a4f3d4b2"
      },
      "source": [
        "my_series_chr_ndx = pd.Series(data=np.random.randint(100,110,12), \n",
        "                              index=['jan','feb','mar','apr','may','jun',\n",
        "                                     'jul','aug','sep','oct','nov','dec'])\n",
        "my_series_chr_ndx"
      ],
      "execution_count": 22,
      "outputs": [
        {
          "output_type": "execute_result",
          "data": {
            "text/plain": [
              "jan    107\n",
              "feb    109\n",
              "mar    103\n",
              "apr    106\n",
              "may    108\n",
              "jun    101\n",
              "jul    108\n",
              "aug    100\n",
              "sep    101\n",
              "oct    104\n",
              "nov    109\n",
              "dec    104\n",
              "dtype: int64"
            ]
          },
          "metadata": {
            "tags": []
          },
          "execution_count": 22
        }
      ]
    },
    {
      "cell_type": "markdown",
      "metadata": {
        "id": "jUlHgcr9vz2H",
        "colab_type": "text"
      },
      "source": [
        "Retrieve the value of a single element using an index label value inside square brackets."
      ]
    },
    {
      "cell_type": "code",
      "metadata": {
        "id": "-693sGkVvz2I",
        "colab_type": "code",
        "colab": {
          "base_uri": "https://localhost:8080/",
          "height": 34
        },
        "outputId": "14bb62da-cfb1-4642-9337-ec63861dd248"
      },
      "source": [
        "my_series_chr_ndx['jan']"
      ],
      "execution_count": 23,
      "outputs": [
        {
          "output_type": "execute_result",
          "data": {
            "text/plain": [
              "107"
            ]
          },
          "metadata": {
            "tags": []
          },
          "execution_count": 23
        }
      ]
    },
    {
      "cell_type": "markdown",
      "metadata": {
        "id": "JMYl2Geqvz2L",
        "colab_type": "text"
      },
      "source": [
        "Retrieve multiple elements using the colon operator between index label values."
      ]
    },
    {
      "cell_type": "code",
      "metadata": {
        "id": "-bqPXUg3vz2L",
        "colab_type": "code",
        "colab": {
          "base_uri": "https://localhost:8080/",
          "height": 102
        },
        "outputId": "cfc3d00b-0aff-46ff-e7fc-7eda91d599db"
      },
      "source": [
        "my_series_chr_ndx['jan':'apr']"
      ],
      "execution_count": 24,
      "outputs": [
        {
          "output_type": "execute_result",
          "data": {
            "text/plain": [
              "jan    107\n",
              "feb    109\n",
              "mar    103\n",
              "apr    106\n",
              "dtype: int64"
            ]
          },
          "metadata": {
            "tags": []
          },
          "execution_count": 24
        }
      ]
    },
    {
      "cell_type": "markdown",
      "metadata": {
        "id": "tTWnd2wcvz2S",
        "colab_type": "text"
      },
      "source": [
        "Notice that both endpoints are included."
      ]
    },
    {
      "cell_type": "markdown",
      "metadata": {
        "id": "78_LEkLZvz2S",
        "colab_type": "text"
      },
      "source": [
        "The `.loc` attribute does the same thing using index label to retrieve elements in the Series."
      ]
    },
    {
      "cell_type": "code",
      "metadata": {
        "id": "Hg02tUt4vz2T",
        "colab_type": "code",
        "colab": {
          "base_uri": "https://localhost:8080/",
          "height": 102
        },
        "outputId": "a6520668-9d31-4307-daae-2eff07b3515a"
      },
      "source": [
        "my_series_chr_ndx.loc['jan':'apr']"
      ],
      "execution_count": 25,
      "outputs": [
        {
          "output_type": "execute_result",
          "data": {
            "text/plain": [
              "jan    107\n",
              "feb    109\n",
              "mar    103\n",
              "apr    106\n",
              "dtype: int64"
            ]
          },
          "metadata": {
            "tags": []
          },
          "execution_count": 25
        }
      ]
    },
    {
      "cell_type": "markdown",
      "metadata": {
        "id": "NSev1V_5vz2U",
        "colab_type": "text"
      },
      "source": [
        "The `.iloc` attribute needs to take integer index values to retrieve elements in the Series."
      ]
    },
    {
      "cell_type": "code",
      "metadata": {
        "id": "PAYz6Sudvz2U",
        "colab_type": "code",
        "colab": {
          "base_uri": "https://localhost:8080/",
          "height": 102
        },
        "outputId": "acee4ffc-ad02-4ad2-d206-4ecbfd08163c"
      },
      "source": [
        "my_series_chr_ndx.iloc[0:4]"
      ],
      "execution_count": 26,
      "outputs": [
        {
          "output_type": "execute_result",
          "data": {
            "text/plain": [
              "jan    107\n",
              "feb    109\n",
              "mar    103\n",
              "apr    106\n",
              "dtype: int64"
            ]
          },
          "metadata": {
            "tags": []
          },
          "execution_count": 26
        }
      ]
    },
    {
      "cell_type": "markdown",
      "metadata": {
        "id": "tJnQBTMqvz2W",
        "colab_type": "text"
      },
      "source": [
        "To retrieve elements in the Series, one can also use index label values inside double square brackets."
      ]
    },
    {
      "cell_type": "code",
      "metadata": {
        "id": "yGEWug-Ivz2X",
        "colab_type": "code",
        "colab": {
          "base_uri": "https://localhost:8080/",
          "height": 68
        },
        "outputId": "6383e85b-07c1-422d-938c-055677a6461d"
      },
      "source": [
        "my_series_chr_ndx.loc[['jan','dec']]"
      ],
      "execution_count": 27,
      "outputs": [
        {
          "output_type": "execute_result",
          "data": {
            "text/plain": [
              "jan    107\n",
              "dec    104\n",
              "dtype: int64"
            ]
          },
          "metadata": {
            "tags": []
          },
          "execution_count": 27
        }
      ]
    },
    {
      "cell_type": "markdown",
      "metadata": {
        "id": "_nOIcQLEvz2Z",
        "colab_type": "text"
      },
      "source": [
        "The above section introduces creating a character indexed Series and retrieving elements in the Series."
      ]
    },
    {
      "cell_type": "markdown",
      "metadata": {
        "id": "ydyD838Mvz2a",
        "colab_type": "text"
      },
      "source": [
        "## 4. Time Indexed Series"
      ]
    },
    {
      "cell_type": "markdown",
      "metadata": {
        "id": "5RtyY5-wvz2a",
        "colab_type": "text"
      },
      "source": [
        "Documentation:\n",
        "- https://pandas.pydata.org/pandas-docs/stable/generated/pandas.to_datetime.html\n",
        "- http://pandas.pydata.org/pandas-docs/stable/timeseries.html"
      ]
    },
    {
      "cell_type": "markdown",
      "metadata": {
        "id": "_f-G3Sfivz2a",
        "colab_type": "text"
      },
      "source": [
        "First create a timestamp `start_datetime` using the `to_datetime` function. The function converts its argument to datetime, and a `format` argument is passed to indicate the format of the string to be converted into a datetime value."
      ]
    },
    {
      "cell_type": "code",
      "metadata": {
        "id": "FIc-SYcLvz2b",
        "colab_type": "code",
        "colab": {
          "base_uri": "https://localhost:8080/",
          "height": 34
        },
        "outputId": "a6bdf9c8-8c7e-4a85-ef0c-485b5c66271e"
      },
      "source": [
        "start_datetime = pd.to_datetime('201802031100', format='%Y%m%d%H%M')\n",
        "start_datetime"
      ],
      "execution_count": 28,
      "outputs": [
        {
          "output_type": "execute_result",
          "data": {
            "text/plain": [
              "Timestamp('2018-02-03 11:00:00')"
            ]
          },
          "metadata": {
            "tags": []
          },
          "execution_count": 28
        }
      ]
    },
    {
      "cell_type": "markdown",
      "metadata": {
        "id": "aLuEiwU1vz2d",
        "colab_type": "text"
      },
      "source": [
        "Use the `date_range` function to return a fixed frequency `DatetimeIndex`. Exactly three of the four parameters `start`, `end`, `periods`, and `freq` must be specified."
      ]
    },
    {
      "cell_type": "code",
      "metadata": {
        "id": "4rUxdddxvz2e",
        "colab_type": "code",
        "colab": {
          "base_uri": "https://localhost:8080/",
          "height": 646
        },
        "outputId": "65f7dfad-3652-42ac-ab20-d681a3b271c2"
      },
      "source": [
        "time_ndx = pd.date_range(start=start_datetime, periods=72, freq='H')\n",
        "time_ndx"
      ],
      "execution_count": 29,
      "outputs": [
        {
          "output_type": "execute_result",
          "data": {
            "text/plain": [
              "DatetimeIndex(['2018-02-03 11:00:00', '2018-02-03 12:00:00',\n",
              "               '2018-02-03 13:00:00', '2018-02-03 14:00:00',\n",
              "               '2018-02-03 15:00:00', '2018-02-03 16:00:00',\n",
              "               '2018-02-03 17:00:00', '2018-02-03 18:00:00',\n",
              "               '2018-02-03 19:00:00', '2018-02-03 20:00:00',\n",
              "               '2018-02-03 21:00:00', '2018-02-03 22:00:00',\n",
              "               '2018-02-03 23:00:00', '2018-02-04 00:00:00',\n",
              "               '2018-02-04 01:00:00', '2018-02-04 02:00:00',\n",
              "               '2018-02-04 03:00:00', '2018-02-04 04:00:00',\n",
              "               '2018-02-04 05:00:00', '2018-02-04 06:00:00',\n",
              "               '2018-02-04 07:00:00', '2018-02-04 08:00:00',\n",
              "               '2018-02-04 09:00:00', '2018-02-04 10:00:00',\n",
              "               '2018-02-04 11:00:00', '2018-02-04 12:00:00',\n",
              "               '2018-02-04 13:00:00', '2018-02-04 14:00:00',\n",
              "               '2018-02-04 15:00:00', '2018-02-04 16:00:00',\n",
              "               '2018-02-04 17:00:00', '2018-02-04 18:00:00',\n",
              "               '2018-02-04 19:00:00', '2018-02-04 20:00:00',\n",
              "               '2018-02-04 21:00:00', '2018-02-04 22:00:00',\n",
              "               '2018-02-04 23:00:00', '2018-02-05 00:00:00',\n",
              "               '2018-02-05 01:00:00', '2018-02-05 02:00:00',\n",
              "               '2018-02-05 03:00:00', '2018-02-05 04:00:00',\n",
              "               '2018-02-05 05:00:00', '2018-02-05 06:00:00',\n",
              "               '2018-02-05 07:00:00', '2018-02-05 08:00:00',\n",
              "               '2018-02-05 09:00:00', '2018-02-05 10:00:00',\n",
              "               '2018-02-05 11:00:00', '2018-02-05 12:00:00',\n",
              "               '2018-02-05 13:00:00', '2018-02-05 14:00:00',\n",
              "               '2018-02-05 15:00:00', '2018-02-05 16:00:00',\n",
              "               '2018-02-05 17:00:00', '2018-02-05 18:00:00',\n",
              "               '2018-02-05 19:00:00', '2018-02-05 20:00:00',\n",
              "               '2018-02-05 21:00:00', '2018-02-05 22:00:00',\n",
              "               '2018-02-05 23:00:00', '2018-02-06 00:00:00',\n",
              "               '2018-02-06 01:00:00', '2018-02-06 02:00:00',\n",
              "               '2018-02-06 03:00:00', '2018-02-06 04:00:00',\n",
              "               '2018-02-06 05:00:00', '2018-02-06 06:00:00',\n",
              "               '2018-02-06 07:00:00', '2018-02-06 08:00:00',\n",
              "               '2018-02-06 09:00:00', '2018-02-06 10:00:00'],\n",
              "              dtype='datetime64[ns]', freq='H')"
            ]
          },
          "metadata": {
            "tags": []
          },
          "execution_count": 29
        }
      ]
    },
    {
      "cell_type": "markdown",
      "metadata": {
        "id": "H4HiHZ80vz2g",
        "colab_type": "text"
      },
      "source": [
        "Create a Series `my_series_dt_ndx` with time index."
      ]
    },
    {
      "cell_type": "code",
      "metadata": {
        "id": "_sUC6tfrvz2h",
        "colab_type": "code",
        "colab": {}
      },
      "source": [
        "my_series_dt_ndx = pd.Series(np.random.randint(100,110,72), index=time_ndx)"
      ],
      "execution_count": 0,
      "outputs": []
    },
    {
      "cell_type": "markdown",
      "metadata": {
        "id": "9xogKTwBvz2j",
        "colab_type": "text"
      },
      "source": [
        "Use the `iloc` attribute to retrieve the first 10 rows of the Series."
      ]
    },
    {
      "cell_type": "code",
      "metadata": {
        "id": "N4Jp6gm7vz2j",
        "colab_type": "code",
        "colab": {
          "base_uri": "https://localhost:8080/",
          "height": 204
        },
        "outputId": "76227044-a674-4e87-d3dc-f1857e5921d8"
      },
      "source": [
        "my_series_dt_ndx.iloc[:10]"
      ],
      "execution_count": 31,
      "outputs": [
        {
          "output_type": "execute_result",
          "data": {
            "text/plain": [
              "2018-02-03 11:00:00    103\n",
              "2018-02-03 12:00:00    105\n",
              "2018-02-03 13:00:00    100\n",
              "2018-02-03 14:00:00    106\n",
              "2018-02-03 15:00:00    104\n",
              "2018-02-03 16:00:00    109\n",
              "2018-02-03 17:00:00    104\n",
              "2018-02-03 18:00:00    101\n",
              "2018-02-03 19:00:00    101\n",
              "2018-02-03 20:00:00    100\n",
              "Freq: H, dtype: int64"
            ]
          },
          "metadata": {
            "tags": []
          },
          "execution_count": 31
        }
      ]
    },
    {
      "cell_type": "markdown",
      "metadata": {
        "id": "0wkbAJSWvz2m",
        "colab_type": "text"
      },
      "source": [
        "Use the `loc` attribute to retrieve values with passing the date as string."
      ]
    },
    {
      "cell_type": "code",
      "metadata": {
        "id": "rBqiEoKSvz2n",
        "colab_type": "code",
        "colab": {
          "base_uri": "https://localhost:8080/",
          "height": 255
        },
        "outputId": "1128f2bc-8eff-437e-bf99-9fefcf7ac74b"
      },
      "source": [
        "my_series_dt_ndx.loc['2018-02-03']"
      ],
      "execution_count": 32,
      "outputs": [
        {
          "output_type": "execute_result",
          "data": {
            "text/plain": [
              "2018-02-03 11:00:00    103\n",
              "2018-02-03 12:00:00    105\n",
              "2018-02-03 13:00:00    100\n",
              "2018-02-03 14:00:00    106\n",
              "2018-02-03 15:00:00    104\n",
              "2018-02-03 16:00:00    109\n",
              "2018-02-03 17:00:00    104\n",
              "2018-02-03 18:00:00    101\n",
              "2018-02-03 19:00:00    101\n",
              "2018-02-03 20:00:00    100\n",
              "2018-02-03 21:00:00    106\n",
              "2018-02-03 22:00:00    103\n",
              "2018-02-03 23:00:00    102\n",
              "Freq: H, dtype: int64"
            ]
          },
          "metadata": {
            "tags": []
          },
          "execution_count": 32
        }
      ]
    },
    {
      "cell_type": "markdown",
      "metadata": {
        "id": "t-MjNBEwvz2s",
        "colab_type": "text"
      },
      "source": [
        "Note that when slicing, all the matching times in the range will be included."
      ]
    },
    {
      "cell_type": "markdown",
      "metadata": {
        "id": "XD3jaQFsvz2t",
        "colab_type": "text"
      },
      "source": [
        "Notice a datetime index can be provided in multiple formats."
      ]
    },
    {
      "cell_type": "code",
      "metadata": {
        "id": "VVzt-vzNvz2w",
        "colab_type": "code",
        "colab": {
          "base_uri": "https://localhost:8080/",
          "height": 255
        },
        "outputId": "61ee1edf-341c-4bba-b302-c432115e218a"
      },
      "source": [
        "my_series_dt_ndx.loc['Feb 3, 2018']"
      ],
      "execution_count": 33,
      "outputs": [
        {
          "output_type": "execute_result",
          "data": {
            "text/plain": [
              "2018-02-03 11:00:00    103\n",
              "2018-02-03 12:00:00    105\n",
              "2018-02-03 13:00:00    100\n",
              "2018-02-03 14:00:00    106\n",
              "2018-02-03 15:00:00    104\n",
              "2018-02-03 16:00:00    109\n",
              "2018-02-03 17:00:00    104\n",
              "2018-02-03 18:00:00    101\n",
              "2018-02-03 19:00:00    101\n",
              "2018-02-03 20:00:00    100\n",
              "2018-02-03 21:00:00    106\n",
              "2018-02-03 22:00:00    103\n",
              "2018-02-03 23:00:00    102\n",
              "Freq: H, dtype: int64"
            ]
          },
          "metadata": {
            "tags": []
          },
          "execution_count": 33
        }
      ]
    },
    {
      "cell_type": "markdown",
      "metadata": {
        "id": "gMeE0-4Bvz2z",
        "colab_type": "text"
      },
      "source": [
        "Note that when slicing, all the matching times in the range will be included, __including the endpoint__."
      ]
    },
    {
      "cell_type": "code",
      "metadata": {
        "id": "5JhoXuUOvz20",
        "colab_type": "code",
        "colab": {
          "base_uri": "https://localhost:8080/",
          "height": 187
        },
        "outputId": "ac60625e-4c47-4940-994c-4739ba5b836d"
      },
      "source": [
        "my_series_dt_ndx.loc['2018-02-03 11:00:00':'2018-02-03 19:00:00']"
      ],
      "execution_count": 34,
      "outputs": [
        {
          "output_type": "execute_result",
          "data": {
            "text/plain": [
              "2018-02-03 11:00:00    103\n",
              "2018-02-03 12:00:00    105\n",
              "2018-02-03 13:00:00    100\n",
              "2018-02-03 14:00:00    106\n",
              "2018-02-03 15:00:00    104\n",
              "2018-02-03 16:00:00    109\n",
              "2018-02-03 17:00:00    104\n",
              "2018-02-03 18:00:00    101\n",
              "2018-02-03 19:00:00    101\n",
              "Freq: H, dtype: int64"
            ]
          },
          "metadata": {
            "tags": []
          },
          "execution_count": 34
        }
      ]
    },
    {
      "cell_type": "markdown",
      "metadata": {
        "id": "P4J882Xtvz22",
        "colab_type": "text"
      },
      "source": [
        "The above section introduces time indexed Series and ways to retrieve values in the Series."
      ]
    },
    {
      "cell_type": "markdown",
      "metadata": {
        "id": "6y1P_OLbvz24",
        "colab_type": "text"
      },
      "source": [
        "__The End__"
      ]
    }
  ]
}