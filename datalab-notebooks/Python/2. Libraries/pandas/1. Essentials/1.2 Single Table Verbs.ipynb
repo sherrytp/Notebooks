{
  "nbformat": 4,
  "nbformat_minor": 0,
  "metadata": {
    "colab": {
      "name": "1.2 Single Table Verbs.ipynb",
      "version": "0.3.2",
      "provenance": []
    },
    "kernelspec": {
      "name": "python3",
      "display_name": "Python 3"
    }
  },
  "cells": [
    {
      "cell_type": "markdown",
      "metadata": {
        "id": "OCCXz2jewr9Z",
        "colab_type": "text"
      },
      "source": [
        "# `pandas` - Single Table Verbs"
      ]
    },
    {
      "cell_type": "markdown",
      "metadata": {
        "id": "rAqOocqPwr9c",
        "colab_type": "text"
      },
      "source": [
        "## Contents\n",
        "1. Setup\n",
        "1. Rename columns\n",
        "1. Modify columns\n",
        "1. Sort rows\n",
        "1. Sample rows\n",
        "1. Filter rows\n",
        "\n",
        "The summarization and grouping verbs are described in the `Summarization` notebook."
      ]
    },
    {
      "cell_type": "markdown",
      "metadata": {
        "id": "PP-G1Cxhwr9d",
        "colab_type": "text"
      },
      "source": [
        "## Reference\n",
        "- http://pandas.pydata.org/pandas-docs/stable/index.html\n",
        "- https://pandas.pydata.org/pandas-docs/stable/indexing.html\n",
        "- https://pandas.pydata.org/pandas-docs/stable/dsintro.html"
      ]
    },
    {
      "cell_type": "markdown",
      "metadata": {
        "id": "eE0xF6CWwr9d",
        "colab_type": "text"
      },
      "source": [
        "## 1. Setup"
      ]
    },
    {
      "cell_type": "markdown",
      "metadata": {
        "id": "z43UWsFcwr9e",
        "colab_type": "text"
      },
      "source": [
        "Load libraries."
      ]
    },
    {
      "cell_type": "code",
      "metadata": {
        "id": "qBXVD5ygwr9k",
        "colab_type": "code",
        "colab": {
          "base_uri": "https://localhost:8080/",
          "height": 34
        },
        "outputId": "11b0e71f-ff6a-4b81-d27e-e44a40885a53"
      },
      "source": [
        "import pandas  as pd\n",
        "import numpy  as np\n",
        "(pd.__version__,\n",
        " np.__version__\n",
        ")"
      ],
      "execution_count": 3,
      "outputs": [
        {
          "output_type": "execute_result",
          "data": {
            "text/plain": [
              "('0.24.2', '1.16.4')"
            ]
          },
          "metadata": {
            "tags": []
          },
          "execution_count": 3
        }
      ]
    },
    {
      "cell_type": "markdown",
      "metadata": {
        "id": "WY0bCJuZwr9n",
        "colab_type": "text"
      },
      "source": [
        "The most common way to create a DataFrame is to use the `read_csv` (pandas) function to read a CSV file. \n",
        "\n",
        "Another common technique is to use the `DataFrame` function, which has these three parameters:\n",
        "1. `data`, which is a numpy array, a dictionary or another DataFrame (examples of each follow)\n",
        "1. `index`, which is a list of the names of the rows\n",
        "1. `columns`, which is a list of the names of the columns\n",
        "\n",
        "There are two additional parameters that are not described here. For those details and more see:\n",
        "- http://pandas.pydata.org/pandas-docs/version/0.19/generated/pandas.DataFrame.html#pandas.DataFrame"
      ]
    },
    {
      "cell_type": "markdown",
      "metadata": {
        "id": "B9wk7okDwr9o",
        "colab_type": "text"
      },
      "source": [
        "Create a sample dataframe for the demonstrations below."
      ]
    },
    {
      "cell_type": "code",
      "metadata": {
        "id": "n3ibDMY6wr9o",
        "colab_type": "code",
        "colab": {
          "base_uri": "https://localhost:8080/",
          "height": 142
        },
        "outputId": "fd639fd8-dcbb-4a44-b519-cb9a589a6c88"
      },
      "source": [
        "df_col = pd.DataFrame(data=[[100, 200, 300, 400],\n",
        "                            [101, 201, 301, 401],\n",
        "                            [102, 202, 302, 402]], \n",
        "                      columns=['col_a', 'col_b', 'col_c', 'col_d']\n",
        "                     )\n",
        "df_col"
      ],
      "execution_count": 4,
      "outputs": [
        {
          "output_type": "execute_result",
          "data": {
            "text/html": [
              "<div>\n",
              "<style scoped>\n",
              "    .dataframe tbody tr th:only-of-type {\n",
              "        vertical-align: middle;\n",
              "    }\n",
              "\n",
              "    .dataframe tbody tr th {\n",
              "        vertical-align: top;\n",
              "    }\n",
              "\n",
              "    .dataframe thead th {\n",
              "        text-align: right;\n",
              "    }\n",
              "</style>\n",
              "<table border=\"1\" class=\"dataframe\">\n",
              "  <thead>\n",
              "    <tr style=\"text-align: right;\">\n",
              "      <th></th>\n",
              "      <th>col_a</th>\n",
              "      <th>col_b</th>\n",
              "      <th>col_c</th>\n",
              "      <th>col_d</th>\n",
              "    </tr>\n",
              "  </thead>\n",
              "  <tbody>\n",
              "    <tr>\n",
              "      <th>0</th>\n",
              "      <td>100</td>\n",
              "      <td>200</td>\n",
              "      <td>300</td>\n",
              "      <td>400</td>\n",
              "    </tr>\n",
              "    <tr>\n",
              "      <th>1</th>\n",
              "      <td>101</td>\n",
              "      <td>201</td>\n",
              "      <td>301</td>\n",
              "      <td>401</td>\n",
              "    </tr>\n",
              "    <tr>\n",
              "      <th>2</th>\n",
              "      <td>102</td>\n",
              "      <td>202</td>\n",
              "      <td>302</td>\n",
              "      <td>402</td>\n",
              "    </tr>\n",
              "  </tbody>\n",
              "</table>\n",
              "</div>"
            ],
            "text/plain": [
              "   col_a  col_b  col_c  col_d\n",
              "0    100    200    300    400\n",
              "1    101    201    301    401\n",
              "2    102    202    302    402"
            ]
          },
          "metadata": {
            "tags": []
          },
          "execution_count": 4
        }
      ]
    },
    {
      "cell_type": "code",
      "metadata": {
        "id": "TpoV8LhUwyrC",
        "colab_type": "code",
        "colab": {
          "base_uri": "https://localhost:8080/",
          "height": 34
        },
        "outputId": "aa2251f2-245a-4c94-ef7a-785fdc1fddc2"
      },
      "source": [
        "%%sh\n",
        "git clone https://github.com/datalab-datasets/file-samples.git"
      ],
      "execution_count": 5,
      "outputs": [
        {
          "output_type": "stream",
          "text": [
            "fatal: destination path 'file-samples' already exists and is not an empty directory.\n"
          ],
          "name": "stderr"
        }
      ]
    },
    {
      "cell_type": "code",
      "metadata": {
        "id": "-W7RC7Nsw-H2",
        "colab_type": "code",
        "colab": {
          "base_uri": "https://localhost:8080/",
          "height": 34
        },
        "outputId": "de054e92-51f6-4b0b-d13c-42a45d0ea44e"
      },
      "source": [
        "%ls /content/file-samples/imports-85.csv"
      ],
      "execution_count": 6,
      "outputs": [
        {
          "output_type": "stream",
          "text": [
            "/content/file-samples/imports-85.csv\n"
          ],
          "name": "stdout"
        }
      ]
    },
    {
      "cell_type": "markdown",
      "metadata": {
        "id": "CtYtXYUTwr9r",
        "colab_type": "text"
      },
      "source": [
        "## 2. Rename Columns\n",
        "- https://pandas.pydata.org/pandas-docs/stable/generated/pandas.DataFrame.rename.html"
      ]
    },
    {
      "cell_type": "markdown",
      "metadata": {
        "id": "otn-mzROwr9s",
        "colab_type": "text"
      },
      "source": [
        "Read a dataframe from a CSV file, replace `-` with `_` in the column names and set `?` to be a missing value indicator."
      ]
    },
    {
      "cell_type": "code",
      "metadata": {
        "id": "mZG4L7FNwr9t",
        "colab_type": "code",
        "colab": {}
      },
      "source": [
        "column_names = ['symboling', 'normalized_losses', 'make', 'fuel-type',\n",
        "                'aspiration', 'num_of_doors', 'body_style', 'drive_wheels',\n",
        "                'engine_location', 'wheel_base', 'length', 'width',\n",
        "                'height', 'curb_weight', 'engine_type', 'num_of_cylinders',\n",
        "                'engine_size', 'fuel_system', 'bore', 'stroke',\n",
        "                'compression_ratio', 'horsepower', 'peak_rpm', 'city_mpg',\n",
        "                'highway_mpg', 'price']\n",
        "import_df = pd.read_csv('/content/file-samples/imports-85.csv',\n",
        "                        names=[string.replace('-','_') for string in column_names],\n",
        "                        na_values=['?']\n",
        "                       )"
      ],
      "execution_count": 0,
      "outputs": []
    },
    {
      "cell_type": "markdown",
      "metadata": {
        "id": "RIXVgiOFwr9v",
        "colab_type": "text"
      },
      "source": [
        "Rename the column names using `rename` method with a dict. The `columns` attribute displays a list of column names."
      ]
    },
    {
      "cell_type": "code",
      "metadata": {
        "id": "t3imYObcwr9w",
        "colab_type": "code",
        "colab": {
          "base_uri": "https://localhost:8080/",
          "height": 136
        },
        "outputId": "946c7a10-4c74-490d-9452-9525fb2c8090"
      },
      "source": [
        "rename_df = import_df.rename(columns={'city_mpg'   : 'mpg_city',\n",
        "                                      'highway_mpg': 'mpg_highway'\n",
        "                                     })\n",
        "rename_df.columns"
      ],
      "execution_count": 8,
      "outputs": [
        {
          "output_type": "execute_result",
          "data": {
            "text/plain": [
              "Index(['symboling', 'normalized_losses', 'make', 'fuel_type', 'aspiration',\n",
              "       'num_of_doors', 'body_style', 'drive_wheels', 'engine_location',\n",
              "       'wheel_base', 'length', 'width', 'height', 'curb_weight', 'engine_type',\n",
              "       'num_of_cylinders', 'engine_size', 'fuel_system', 'bore', 'stroke',\n",
              "       'compression_ratio', 'horsepower', 'peak_rpm', 'mpg_city',\n",
              "       'mpg_highway', 'price'],\n",
              "      dtype='object')"
            ]
          },
          "metadata": {
            "tags": []
          },
          "execution_count": 8
        }
      ]
    },
    {
      "cell_type": "markdown",
      "metadata": {
        "id": "81abyupjwr9y",
        "colab_type": "text"
      },
      "source": [
        "## 3. Modify Columns"
      ]
    },
    {
      "cell_type": "markdown",
      "metadata": {
        "id": "_Nfw6suOwr9z",
        "colab_type": "text"
      },
      "source": [
        "From the documentation: https://pandas.pydata.org/pandas-docs/stable/generated/pandas.DataFrame.assign.html\n",
        "\n",
        "> Assigning multiple columns within the same assign is possible, but you cannot reference other columns created within the same assign call."
      ]
    },
    {
      "cell_type": "markdown",
      "metadata": {
        "id": "Bs0u2_rmwr90",
        "colab_type": "text"
      },
      "source": [
        "Assign new columns to the sample dataframe `df_col` using the `assign` method. It returns a new object (a copy) with the new columns added to the original ones."
      ]
    },
    {
      "cell_type": "code",
      "metadata": {
        "id": "V0aWhGzwwr90",
        "colab_type": "code",
        "colab": {
          "base_uri": "https://localhost:8080/",
          "height": 142
        },
        "outputId": "6e52b49f-6f1e-49ae-a208-ce5793a61666"
      },
      "source": [
        "df_col.assign(apb = df_col.col_a    + df_col.col_b, \n",
        "              ctd = df_col['col_c'] * df_col['col_d'])"
      ],
      "execution_count": 9,
      "outputs": [
        {
          "output_type": "execute_result",
          "data": {
            "text/html": [
              "<div>\n",
              "<style scoped>\n",
              "    .dataframe tbody tr th:only-of-type {\n",
              "        vertical-align: middle;\n",
              "    }\n",
              "\n",
              "    .dataframe tbody tr th {\n",
              "        vertical-align: top;\n",
              "    }\n",
              "\n",
              "    .dataframe thead th {\n",
              "        text-align: right;\n",
              "    }\n",
              "</style>\n",
              "<table border=\"1\" class=\"dataframe\">\n",
              "  <thead>\n",
              "    <tr style=\"text-align: right;\">\n",
              "      <th></th>\n",
              "      <th>col_a</th>\n",
              "      <th>col_b</th>\n",
              "      <th>col_c</th>\n",
              "      <th>col_d</th>\n",
              "      <th>apb</th>\n",
              "      <th>ctd</th>\n",
              "    </tr>\n",
              "  </thead>\n",
              "  <tbody>\n",
              "    <tr>\n",
              "      <th>0</th>\n",
              "      <td>100</td>\n",
              "      <td>200</td>\n",
              "      <td>300</td>\n",
              "      <td>400</td>\n",
              "      <td>300</td>\n",
              "      <td>120000</td>\n",
              "    </tr>\n",
              "    <tr>\n",
              "      <th>1</th>\n",
              "      <td>101</td>\n",
              "      <td>201</td>\n",
              "      <td>301</td>\n",
              "      <td>401</td>\n",
              "      <td>302</td>\n",
              "      <td>120701</td>\n",
              "    </tr>\n",
              "    <tr>\n",
              "      <th>2</th>\n",
              "      <td>102</td>\n",
              "      <td>202</td>\n",
              "      <td>302</td>\n",
              "      <td>402</td>\n",
              "      <td>304</td>\n",
              "      <td>121404</td>\n",
              "    </tr>\n",
              "  </tbody>\n",
              "</table>\n",
              "</div>"
            ],
            "text/plain": [
              "   col_a  col_b  col_c  col_d  apb     ctd\n",
              "0    100    200    300    400  300  120000\n",
              "1    101    201    301    401  302  120701\n",
              "2    102    202    302    402  304  121404"
            ]
          },
          "metadata": {
            "tags": []
          },
          "execution_count": 9
        }
      ]
    },
    {
      "cell_type": "code",
      "metadata": {
        "id": "VYbCXiJPwr93",
        "colab_type": "code",
        "colab": {
          "base_uri": "https://localhost:8080/",
          "height": 142
        },
        "outputId": "b480b9c7-a355-4e08-f9d7-a7e724a64331"
      },
      "source": [
        "df_col.assign(apb = lambda df: df.col_a + df.col_b, \n",
        "              ctd = lambda df: df['col_c'] * df['col_d'])"
      ],
      "execution_count": 10,
      "outputs": [
        {
          "output_type": "execute_result",
          "data": {
            "text/html": [
              "<div>\n",
              "<style scoped>\n",
              "    .dataframe tbody tr th:only-of-type {\n",
              "        vertical-align: middle;\n",
              "    }\n",
              "\n",
              "    .dataframe tbody tr th {\n",
              "        vertical-align: top;\n",
              "    }\n",
              "\n",
              "    .dataframe thead th {\n",
              "        text-align: right;\n",
              "    }\n",
              "</style>\n",
              "<table border=\"1\" class=\"dataframe\">\n",
              "  <thead>\n",
              "    <tr style=\"text-align: right;\">\n",
              "      <th></th>\n",
              "      <th>col_a</th>\n",
              "      <th>col_b</th>\n",
              "      <th>col_c</th>\n",
              "      <th>col_d</th>\n",
              "      <th>apb</th>\n",
              "      <th>ctd</th>\n",
              "    </tr>\n",
              "  </thead>\n",
              "  <tbody>\n",
              "    <tr>\n",
              "      <th>0</th>\n",
              "      <td>100</td>\n",
              "      <td>200</td>\n",
              "      <td>300</td>\n",
              "      <td>400</td>\n",
              "      <td>300</td>\n",
              "      <td>120000</td>\n",
              "    </tr>\n",
              "    <tr>\n",
              "      <th>1</th>\n",
              "      <td>101</td>\n",
              "      <td>201</td>\n",
              "      <td>301</td>\n",
              "      <td>401</td>\n",
              "      <td>302</td>\n",
              "      <td>120701</td>\n",
              "    </tr>\n",
              "    <tr>\n",
              "      <th>2</th>\n",
              "      <td>102</td>\n",
              "      <td>202</td>\n",
              "      <td>302</td>\n",
              "      <td>402</td>\n",
              "      <td>304</td>\n",
              "      <td>121404</td>\n",
              "    </tr>\n",
              "  </tbody>\n",
              "</table>\n",
              "</div>"
            ],
            "text/plain": [
              "   col_a  col_b  col_c  col_d  apb     ctd\n",
              "0    100    200    300    400  300  120000\n",
              "1    101    201    301    401  302  120701\n",
              "2    102    202    302    402  304  121404"
            ]
          },
          "metadata": {
            "tags": []
          },
          "execution_count": 10
        }
      ]
    },
    {
      "cell_type": "markdown",
      "metadata": {
        "id": "JIluUaB2wr96",
        "colab_type": "text"
      },
      "source": [
        "## 4. Sort Rows"
      ]
    },
    {
      "cell_type": "markdown",
      "metadata": {
        "id": "o4shZniVwr97",
        "colab_type": "text"
      },
      "source": [
        "- http://pandas.pydata.org/pandas-docs/version/0.17.1/generated/pandas.DataFrame.sort_values.html"
      ]
    },
    {
      "cell_type": "markdown",
      "metadata": {
        "id": "-Ommvwxuwr99",
        "colab_type": "text"
      },
      "source": [
        "The `sort_values` method in the following code cell sorts rows by the ascending `horsepower` values. Use `head()` function to return the first 5 rows and the 4 columns (`horsepower`,`make`,`city_mpg`,`highway_mpg`) of the dataframe."
      ]
    },
    {
      "cell_type": "code",
      "metadata": {
        "id": "PO_m2rCgwr9-",
        "colab_type": "code",
        "colab": {
          "base_uri": "https://localhost:8080/",
          "height": 204
        },
        "outputId": "aa6d9c92-8e2b-461a-bf65-92ef11b6028e"
      },
      "source": [
        "import_df \\\n",
        "  .sort_values(by='horsepower',\n",
        "               axis=0, \n",
        "               ascending=True\n",
        "              ) \\\n",
        "  .loc[:,['horsepower','make','city_mpg','highway_mpg']] \\\n",
        "  .head()"
      ],
      "execution_count": 11,
      "outputs": [
        {
          "output_type": "execute_result",
          "data": {
            "text/html": [
              "<div>\n",
              "<style scoped>\n",
              "    .dataframe tbody tr th:only-of-type {\n",
              "        vertical-align: middle;\n",
              "    }\n",
              "\n",
              "    .dataframe tbody tr th {\n",
              "        vertical-align: top;\n",
              "    }\n",
              "\n",
              "    .dataframe thead th {\n",
              "        text-align: right;\n",
              "    }\n",
              "</style>\n",
              "<table border=\"1\" class=\"dataframe\">\n",
              "  <thead>\n",
              "    <tr style=\"text-align: right;\">\n",
              "      <th></th>\n",
              "      <th>horsepower</th>\n",
              "      <th>make</th>\n",
              "      <th>city_mpg</th>\n",
              "      <th>highway_mpg</th>\n",
              "    </tr>\n",
              "  </thead>\n",
              "  <tbody>\n",
              "    <tr>\n",
              "      <th>18</th>\n",
              "      <td>48.0</td>\n",
              "      <td>chevrolet</td>\n",
              "      <td>47</td>\n",
              "      <td>53</td>\n",
              "    </tr>\n",
              "    <tr>\n",
              "      <th>182</th>\n",
              "      <td>52.0</td>\n",
              "      <td>volkswagen</td>\n",
              "      <td>37</td>\n",
              "      <td>46</td>\n",
              "    </tr>\n",
              "    <tr>\n",
              "      <th>184</th>\n",
              "      <td>52.0</td>\n",
              "      <td>volkswagen</td>\n",
              "      <td>37</td>\n",
              "      <td>46</td>\n",
              "    </tr>\n",
              "    <tr>\n",
              "      <th>90</th>\n",
              "      <td>55.0</td>\n",
              "      <td>nissan</td>\n",
              "      <td>45</td>\n",
              "      <td>50</td>\n",
              "    </tr>\n",
              "    <tr>\n",
              "      <th>158</th>\n",
              "      <td>56.0</td>\n",
              "      <td>toyota</td>\n",
              "      <td>34</td>\n",
              "      <td>36</td>\n",
              "    </tr>\n",
              "  </tbody>\n",
              "</table>\n",
              "</div>"
            ],
            "text/plain": [
              "     horsepower        make  city_mpg  highway_mpg\n",
              "18         48.0   chevrolet        47           53\n",
              "182        52.0  volkswagen        37           46\n",
              "184        52.0  volkswagen        37           46\n",
              "90         55.0      nissan        45           50\n",
              "158        56.0      toyota        34           36"
            ]
          },
          "metadata": {
            "tags": []
          },
          "execution_count": 11
        }
      ]
    },
    {
      "cell_type": "code",
      "metadata": {
        "id": "5K_4Nbqpwr-A",
        "colab_type": "code",
        "colab": {
          "base_uri": "https://localhost:8080/",
          "height": 204
        },
        "outputId": "96e8f20a-4e7f-42e0-9e37-b9af6e3a46c9"
      },
      "source": [
        "import_df.sort_values(by='horsepower',\n",
        "                      axis=0, \n",
        "                      ascending=True\n",
        "                     ) \\\n",
        "         .loc[:,['horsepower','make','city_mpg','highway_mpg']] \\\n",
        "         .head()"
      ],
      "execution_count": 12,
      "outputs": [
        {
          "output_type": "execute_result",
          "data": {
            "text/html": [
              "<div>\n",
              "<style scoped>\n",
              "    .dataframe tbody tr th:only-of-type {\n",
              "        vertical-align: middle;\n",
              "    }\n",
              "\n",
              "    .dataframe tbody tr th {\n",
              "        vertical-align: top;\n",
              "    }\n",
              "\n",
              "    .dataframe thead th {\n",
              "        text-align: right;\n",
              "    }\n",
              "</style>\n",
              "<table border=\"1\" class=\"dataframe\">\n",
              "  <thead>\n",
              "    <tr style=\"text-align: right;\">\n",
              "      <th></th>\n",
              "      <th>horsepower</th>\n",
              "      <th>make</th>\n",
              "      <th>city_mpg</th>\n",
              "      <th>highway_mpg</th>\n",
              "    </tr>\n",
              "  </thead>\n",
              "  <tbody>\n",
              "    <tr>\n",
              "      <th>18</th>\n",
              "      <td>48.0</td>\n",
              "      <td>chevrolet</td>\n",
              "      <td>47</td>\n",
              "      <td>53</td>\n",
              "    </tr>\n",
              "    <tr>\n",
              "      <th>182</th>\n",
              "      <td>52.0</td>\n",
              "      <td>volkswagen</td>\n",
              "      <td>37</td>\n",
              "      <td>46</td>\n",
              "    </tr>\n",
              "    <tr>\n",
              "      <th>184</th>\n",
              "      <td>52.0</td>\n",
              "      <td>volkswagen</td>\n",
              "      <td>37</td>\n",
              "      <td>46</td>\n",
              "    </tr>\n",
              "    <tr>\n",
              "      <th>90</th>\n",
              "      <td>55.0</td>\n",
              "      <td>nissan</td>\n",
              "      <td>45</td>\n",
              "      <td>50</td>\n",
              "    </tr>\n",
              "    <tr>\n",
              "      <th>158</th>\n",
              "      <td>56.0</td>\n",
              "      <td>toyota</td>\n",
              "      <td>34</td>\n",
              "      <td>36</td>\n",
              "    </tr>\n",
              "  </tbody>\n",
              "</table>\n",
              "</div>"
            ],
            "text/plain": [
              "     horsepower        make  city_mpg  highway_mpg\n",
              "18         48.0   chevrolet        47           53\n",
              "182        52.0  volkswagen        37           46\n",
              "184        52.0  volkswagen        37           46\n",
              "90         55.0      nissan        45           50\n",
              "158        56.0      toyota        34           36"
            ]
          },
          "metadata": {
            "tags": []
          },
          "execution_count": 12
        }
      ]
    },
    {
      "cell_type": "markdown",
      "metadata": {
        "id": "5INnP6HJwr-C",
        "colab_type": "text"
      },
      "source": [
        "## 5. Sample Rows\n",
        "- https://pandas.pydata.org/pandas-docs/stable/generated/pandas.DataFrame.sample.html\n",
        "\n",
        "See also parameters for: `frac`, `replace` and `weight`"
      ]
    },
    {
      "cell_type": "markdown",
      "metadata": {
        "id": "4zjvYJUzwr-D",
        "colab_type": "text"
      },
      "source": [
        "The `sample` method extract 10 random elements (since n=10) from the `import_df` dataframe object."
      ]
    },
    {
      "cell_type": "code",
      "metadata": {
        "id": "b8sKMdNlwr-E",
        "colab_type": "code",
        "colab": {
          "base_uri": "https://localhost:8080/",
          "height": 359
        },
        "outputId": "659aca6c-cced-4c09-8a9a-99d52157bb23"
      },
      "source": [
        "import_df \\\n",
        "  .sample(n=10) \\\n",
        "  .loc[:,['horsepower','make','city_mpg','highway_mpg']]"
      ],
      "execution_count": 13,
      "outputs": [
        {
          "output_type": "execute_result",
          "data": {
            "text/html": [
              "<div>\n",
              "<style scoped>\n",
              "    .dataframe tbody tr th:only-of-type {\n",
              "        vertical-align: middle;\n",
              "    }\n",
              "\n",
              "    .dataframe tbody tr th {\n",
              "        vertical-align: top;\n",
              "    }\n",
              "\n",
              "    .dataframe thead th {\n",
              "        text-align: right;\n",
              "    }\n",
              "</style>\n",
              "<table border=\"1\" class=\"dataframe\">\n",
              "  <thead>\n",
              "    <tr style=\"text-align: right;\">\n",
              "      <th></th>\n",
              "      <th>horsepower</th>\n",
              "      <th>make</th>\n",
              "      <th>city_mpg</th>\n",
              "      <th>highway_mpg</th>\n",
              "    </tr>\n",
              "  </thead>\n",
              "  <tbody>\n",
              "    <tr>\n",
              "      <th>139</th>\n",
              "      <td>73.0</td>\n",
              "      <td>subaru</td>\n",
              "      <td>26</td>\n",
              "      <td>31</td>\n",
              "    </tr>\n",
              "    <tr>\n",
              "      <th>201</th>\n",
              "      <td>160.0</td>\n",
              "      <td>volvo</td>\n",
              "      <td>19</td>\n",
              "      <td>25</td>\n",
              "    </tr>\n",
              "    <tr>\n",
              "      <th>170</th>\n",
              "      <td>116.0</td>\n",
              "      <td>toyota</td>\n",
              "      <td>24</td>\n",
              "      <td>30</td>\n",
              "    </tr>\n",
              "    <tr>\n",
              "      <th>7</th>\n",
              "      <td>110.0</td>\n",
              "      <td>audi</td>\n",
              "      <td>19</td>\n",
              "      <td>25</td>\n",
              "    </tr>\n",
              "    <tr>\n",
              "      <th>39</th>\n",
              "      <td>86.0</td>\n",
              "      <td>honda</td>\n",
              "      <td>27</td>\n",
              "      <td>33</td>\n",
              "    </tr>\n",
              "    <tr>\n",
              "      <th>35</th>\n",
              "      <td>76.0</td>\n",
              "      <td>honda</td>\n",
              "      <td>30</td>\n",
              "      <td>34</td>\n",
              "    </tr>\n",
              "    <tr>\n",
              "      <th>104</th>\n",
              "      <td>160.0</td>\n",
              "      <td>nissan</td>\n",
              "      <td>19</td>\n",
              "      <td>25</td>\n",
              "    </tr>\n",
              "    <tr>\n",
              "      <th>107</th>\n",
              "      <td>97.0</td>\n",
              "      <td>peugot</td>\n",
              "      <td>19</td>\n",
              "      <td>24</td>\n",
              "    </tr>\n",
              "    <tr>\n",
              "      <th>61</th>\n",
              "      <td>84.0</td>\n",
              "      <td>mazda</td>\n",
              "      <td>26</td>\n",
              "      <td>32</td>\n",
              "    </tr>\n",
              "    <tr>\n",
              "      <th>203</th>\n",
              "      <td>106.0</td>\n",
              "      <td>volvo</td>\n",
              "      <td>26</td>\n",
              "      <td>27</td>\n",
              "    </tr>\n",
              "  </tbody>\n",
              "</table>\n",
              "</div>"
            ],
            "text/plain": [
              "     horsepower    make  city_mpg  highway_mpg\n",
              "139        73.0  subaru        26           31\n",
              "201       160.0   volvo        19           25\n",
              "170       116.0  toyota        24           30\n",
              "7         110.0    audi        19           25\n",
              "39         86.0   honda        27           33\n",
              "35         76.0   honda        30           34\n",
              "104       160.0  nissan        19           25\n",
              "107        97.0  peugot        19           24\n",
              "61         84.0   mazda        26           32\n",
              "203       106.0   volvo        26           27"
            ]
          },
          "metadata": {
            "tags": []
          },
          "execution_count": 13
        }
      ]
    },
    {
      "cell_type": "markdown",
      "metadata": {
        "id": "pvJG9a7hwr-n",
        "colab_type": "text"
      },
      "source": [
        "## 6. Filter Rows\n",
        "- https://pandas.pydata.org/pandas-docs/stable/generated/pandas.DataFrame.query.html\n",
        "- https://pandas.pydata.org/pandas-docs/stable/generated/pandas.DataFrame.filter.html\n",
        "- https://pythonspot.com/pandas-filter/"
      ]
    },
    {
      "cell_type": "markdown",
      "metadata": {
        "id": "yUNTzxIHwr-o",
        "colab_type": "text"
      },
      "source": [
        "Filter rows by indexing with a boolean expression."
      ]
    },
    {
      "cell_type": "code",
      "metadata": {
        "id": "vehT3CPMwr-q",
        "colab_type": "code",
        "colab": {
          "base_uri": "https://localhost:8080/",
          "height": 204
        },
        "outputId": "3e2c86ea-f1de-40b1-f8bc-e74c9446d8e4"
      },
      "source": [
        "import_df[import_df.make==\"toyota\"][['make','body_style','city_mpg','highway_mpg']].head()"
      ],
      "execution_count": 14,
      "outputs": [
        {
          "output_type": "execute_result",
          "data": {
            "text/html": [
              "<div>\n",
              "<style scoped>\n",
              "    .dataframe tbody tr th:only-of-type {\n",
              "        vertical-align: middle;\n",
              "    }\n",
              "\n",
              "    .dataframe tbody tr th {\n",
              "        vertical-align: top;\n",
              "    }\n",
              "\n",
              "    .dataframe thead th {\n",
              "        text-align: right;\n",
              "    }\n",
              "</style>\n",
              "<table border=\"1\" class=\"dataframe\">\n",
              "  <thead>\n",
              "    <tr style=\"text-align: right;\">\n",
              "      <th></th>\n",
              "      <th>make</th>\n",
              "      <th>body_style</th>\n",
              "      <th>city_mpg</th>\n",
              "      <th>highway_mpg</th>\n",
              "    </tr>\n",
              "  </thead>\n",
              "  <tbody>\n",
              "    <tr>\n",
              "      <th>150</th>\n",
              "      <td>toyota</td>\n",
              "      <td>hatchback</td>\n",
              "      <td>35</td>\n",
              "      <td>39</td>\n",
              "    </tr>\n",
              "    <tr>\n",
              "      <th>151</th>\n",
              "      <td>toyota</td>\n",
              "      <td>hatchback</td>\n",
              "      <td>31</td>\n",
              "      <td>38</td>\n",
              "    </tr>\n",
              "    <tr>\n",
              "      <th>152</th>\n",
              "      <td>toyota</td>\n",
              "      <td>hatchback</td>\n",
              "      <td>31</td>\n",
              "      <td>38</td>\n",
              "    </tr>\n",
              "    <tr>\n",
              "      <th>153</th>\n",
              "      <td>toyota</td>\n",
              "      <td>wagon</td>\n",
              "      <td>31</td>\n",
              "      <td>37</td>\n",
              "    </tr>\n",
              "    <tr>\n",
              "      <th>154</th>\n",
              "      <td>toyota</td>\n",
              "      <td>wagon</td>\n",
              "      <td>27</td>\n",
              "      <td>32</td>\n",
              "    </tr>\n",
              "  </tbody>\n",
              "</table>\n",
              "</div>"
            ],
            "text/plain": [
              "       make body_style  city_mpg  highway_mpg\n",
              "150  toyota  hatchback        35           39\n",
              "151  toyota  hatchback        31           38\n",
              "152  toyota  hatchback        31           38\n",
              "153  toyota      wagon        31           37\n",
              "154  toyota      wagon        27           32"
            ]
          },
          "metadata": {
            "tags": []
          },
          "execution_count": 14
        }
      ]
    },
    {
      "cell_type": "code",
      "metadata": {
        "id": "9xtYi_sxwr-u",
        "colab_type": "code",
        "colab": {
          "base_uri": "https://localhost:8080/",
          "height": 204
        },
        "outputId": "8746e51b-d078-444b-98b0-f5c4cfb52439"
      },
      "source": [
        "import_df \\\n",
        "  .loc[lambda df: df.make == \"toyota\"] \\\n",
        "  .loc[:,['make','body_style','city_mpg','highway_mpg']] \\\n",
        "  .head()"
      ],
      "execution_count": 15,
      "outputs": [
        {
          "output_type": "execute_result",
          "data": {
            "text/html": [
              "<div>\n",
              "<style scoped>\n",
              "    .dataframe tbody tr th:only-of-type {\n",
              "        vertical-align: middle;\n",
              "    }\n",
              "\n",
              "    .dataframe tbody tr th {\n",
              "        vertical-align: top;\n",
              "    }\n",
              "\n",
              "    .dataframe thead th {\n",
              "        text-align: right;\n",
              "    }\n",
              "</style>\n",
              "<table border=\"1\" class=\"dataframe\">\n",
              "  <thead>\n",
              "    <tr style=\"text-align: right;\">\n",
              "      <th></th>\n",
              "      <th>make</th>\n",
              "      <th>body_style</th>\n",
              "      <th>city_mpg</th>\n",
              "      <th>highway_mpg</th>\n",
              "    </tr>\n",
              "  </thead>\n",
              "  <tbody>\n",
              "    <tr>\n",
              "      <th>150</th>\n",
              "      <td>toyota</td>\n",
              "      <td>hatchback</td>\n",
              "      <td>35</td>\n",
              "      <td>39</td>\n",
              "    </tr>\n",
              "    <tr>\n",
              "      <th>151</th>\n",
              "      <td>toyota</td>\n",
              "      <td>hatchback</td>\n",
              "      <td>31</td>\n",
              "      <td>38</td>\n",
              "    </tr>\n",
              "    <tr>\n",
              "      <th>152</th>\n",
              "      <td>toyota</td>\n",
              "      <td>hatchback</td>\n",
              "      <td>31</td>\n",
              "      <td>38</td>\n",
              "    </tr>\n",
              "    <tr>\n",
              "      <th>153</th>\n",
              "      <td>toyota</td>\n",
              "      <td>wagon</td>\n",
              "      <td>31</td>\n",
              "      <td>37</td>\n",
              "    </tr>\n",
              "    <tr>\n",
              "      <th>154</th>\n",
              "      <td>toyota</td>\n",
              "      <td>wagon</td>\n",
              "      <td>27</td>\n",
              "      <td>32</td>\n",
              "    </tr>\n",
              "  </tbody>\n",
              "</table>\n",
              "</div>"
            ],
            "text/plain": [
              "       make body_style  city_mpg  highway_mpg\n",
              "150  toyota  hatchback        35           39\n",
              "151  toyota  hatchback        31           38\n",
              "152  toyota  hatchback        31           38\n",
              "153  toyota      wagon        31           37\n",
              "154  toyota      wagon        27           32"
            ]
          },
          "metadata": {
            "tags": []
          },
          "execution_count": 15
        }
      ]
    },
    {
      "cell_type": "code",
      "metadata": {
        "id": "JSL56p9xwr-w",
        "colab_type": "code",
        "colab": {
          "base_uri": "https://localhost:8080/",
          "height": 80
        },
        "outputId": "206d69de-c9e1-4069-f6e7-7faa05deb795"
      },
      "source": [
        "import_df[(import_df.make==\"toyota\") & (import_df.city_mpg ==35 )][['make','body_style','city_mpg','highway_mpg']].head()"
      ],
      "execution_count": 16,
      "outputs": [
        {
          "output_type": "execute_result",
          "data": {
            "text/html": [
              "<div>\n",
              "<style scoped>\n",
              "    .dataframe tbody tr th:only-of-type {\n",
              "        vertical-align: middle;\n",
              "    }\n",
              "\n",
              "    .dataframe tbody tr th {\n",
              "        vertical-align: top;\n",
              "    }\n",
              "\n",
              "    .dataframe thead th {\n",
              "        text-align: right;\n",
              "    }\n",
              "</style>\n",
              "<table border=\"1\" class=\"dataframe\">\n",
              "  <thead>\n",
              "    <tr style=\"text-align: right;\">\n",
              "      <th></th>\n",
              "      <th>make</th>\n",
              "      <th>body_style</th>\n",
              "      <th>city_mpg</th>\n",
              "      <th>highway_mpg</th>\n",
              "    </tr>\n",
              "  </thead>\n",
              "  <tbody>\n",
              "    <tr>\n",
              "      <th>150</th>\n",
              "      <td>toyota</td>\n",
              "      <td>hatchback</td>\n",
              "      <td>35</td>\n",
              "      <td>39</td>\n",
              "    </tr>\n",
              "  </tbody>\n",
              "</table>\n",
              "</div>"
            ],
            "text/plain": [
              "       make body_style  city_mpg  highway_mpg\n",
              "150  toyota  hatchback        35           39"
            ]
          },
          "metadata": {
            "tags": []
          },
          "execution_count": 16
        }
      ]
    },
    {
      "cell_type": "markdown",
      "metadata": {
        "id": "1Mv-sr7iwr-z",
        "colab_type": "text"
      },
      "source": [
        "Filter rows by calling the `query` method with a boolean expression. This expression is based on the column names. The query method will return a new filtered dataframe."
      ]
    },
    {
      "cell_type": "code",
      "metadata": {
        "id": "F_X85-Azwr-0",
        "colab_type": "code",
        "colab": {
          "base_uri": "https://localhost:8080/",
          "height": 204
        },
        "outputId": "0d7b1636-3cae-4460-8127-2edb0411f4ca"
      },
      "source": [
        "import_df.query('make==\"toyota\"')[['make','body_style','city_mpg','highway_mpg']].head()"
      ],
      "execution_count": 17,
      "outputs": [
        {
          "output_type": "execute_result",
          "data": {
            "text/html": [
              "<div>\n",
              "<style scoped>\n",
              "    .dataframe tbody tr th:only-of-type {\n",
              "        vertical-align: middle;\n",
              "    }\n",
              "\n",
              "    .dataframe tbody tr th {\n",
              "        vertical-align: top;\n",
              "    }\n",
              "\n",
              "    .dataframe thead th {\n",
              "        text-align: right;\n",
              "    }\n",
              "</style>\n",
              "<table border=\"1\" class=\"dataframe\">\n",
              "  <thead>\n",
              "    <tr style=\"text-align: right;\">\n",
              "      <th></th>\n",
              "      <th>make</th>\n",
              "      <th>body_style</th>\n",
              "      <th>city_mpg</th>\n",
              "      <th>highway_mpg</th>\n",
              "    </tr>\n",
              "  </thead>\n",
              "  <tbody>\n",
              "    <tr>\n",
              "      <th>150</th>\n",
              "      <td>toyota</td>\n",
              "      <td>hatchback</td>\n",
              "      <td>35</td>\n",
              "      <td>39</td>\n",
              "    </tr>\n",
              "    <tr>\n",
              "      <th>151</th>\n",
              "      <td>toyota</td>\n",
              "      <td>hatchback</td>\n",
              "      <td>31</td>\n",
              "      <td>38</td>\n",
              "    </tr>\n",
              "    <tr>\n",
              "      <th>152</th>\n",
              "      <td>toyota</td>\n",
              "      <td>hatchback</td>\n",
              "      <td>31</td>\n",
              "      <td>38</td>\n",
              "    </tr>\n",
              "    <tr>\n",
              "      <th>153</th>\n",
              "      <td>toyota</td>\n",
              "      <td>wagon</td>\n",
              "      <td>31</td>\n",
              "      <td>37</td>\n",
              "    </tr>\n",
              "    <tr>\n",
              "      <th>154</th>\n",
              "      <td>toyota</td>\n",
              "      <td>wagon</td>\n",
              "      <td>27</td>\n",
              "      <td>32</td>\n",
              "    </tr>\n",
              "  </tbody>\n",
              "</table>\n",
              "</div>"
            ],
            "text/plain": [
              "       make body_style  city_mpg  highway_mpg\n",
              "150  toyota  hatchback        35           39\n",
              "151  toyota  hatchback        31           38\n",
              "152  toyota  hatchback        31           38\n",
              "153  toyota      wagon        31           37\n",
              "154  toyota      wagon        27           32"
            ]
          },
          "metadata": {
            "tags": []
          },
          "execution_count": 17
        }
      ]
    },
    {
      "cell_type": "code",
      "metadata": {
        "id": "4SOkIGc_wr-5",
        "colab_type": "code",
        "colab": {
          "base_uri": "https://localhost:8080/",
          "height": 204
        },
        "outputId": "245775fe-b678-4414-88db-63fce900214c"
      },
      "source": [
        "import_df.query('make==\"toyota\" | city_mpg == 35  & highway_mpg == 39' )[['make','body_style','city_mpg','highway_mpg']].head()"
      ],
      "execution_count": 18,
      "outputs": [
        {
          "output_type": "execute_result",
          "data": {
            "text/html": [
              "<div>\n",
              "<style scoped>\n",
              "    .dataframe tbody tr th:only-of-type {\n",
              "        vertical-align: middle;\n",
              "    }\n",
              "\n",
              "    .dataframe tbody tr th {\n",
              "        vertical-align: top;\n",
              "    }\n",
              "\n",
              "    .dataframe thead th {\n",
              "        text-align: right;\n",
              "    }\n",
              "</style>\n",
              "<table border=\"1\" class=\"dataframe\">\n",
              "  <thead>\n",
              "    <tr style=\"text-align: right;\">\n",
              "      <th></th>\n",
              "      <th>make</th>\n",
              "      <th>body_style</th>\n",
              "      <th>city_mpg</th>\n",
              "      <th>highway_mpg</th>\n",
              "    </tr>\n",
              "  </thead>\n",
              "  <tbody>\n",
              "    <tr>\n",
              "      <th>150</th>\n",
              "      <td>toyota</td>\n",
              "      <td>hatchback</td>\n",
              "      <td>35</td>\n",
              "      <td>39</td>\n",
              "    </tr>\n",
              "    <tr>\n",
              "      <th>151</th>\n",
              "      <td>toyota</td>\n",
              "      <td>hatchback</td>\n",
              "      <td>31</td>\n",
              "      <td>38</td>\n",
              "    </tr>\n",
              "    <tr>\n",
              "      <th>152</th>\n",
              "      <td>toyota</td>\n",
              "      <td>hatchback</td>\n",
              "      <td>31</td>\n",
              "      <td>38</td>\n",
              "    </tr>\n",
              "    <tr>\n",
              "      <th>153</th>\n",
              "      <td>toyota</td>\n",
              "      <td>wagon</td>\n",
              "      <td>31</td>\n",
              "      <td>37</td>\n",
              "    </tr>\n",
              "    <tr>\n",
              "      <th>154</th>\n",
              "      <td>toyota</td>\n",
              "      <td>wagon</td>\n",
              "      <td>27</td>\n",
              "      <td>32</td>\n",
              "    </tr>\n",
              "  </tbody>\n",
              "</table>\n",
              "</div>"
            ],
            "text/plain": [
              "       make body_style  city_mpg  highway_mpg\n",
              "150  toyota  hatchback        35           39\n",
              "151  toyota  hatchback        31           38\n",
              "152  toyota  hatchback        31           38\n",
              "153  toyota      wagon        31           37\n",
              "154  toyota      wagon        27           32"
            ]
          },
          "metadata": {
            "tags": []
          },
          "execution_count": 18
        }
      ]
    },
    {
      "cell_type": "markdown",
      "metadata": {
        "id": "BhZvn_-4wr-9",
        "colab_type": "text"
      },
      "source": [
        "__The End__"
      ]
    }
  ]
}