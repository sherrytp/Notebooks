{
 "cells": [
  {
   "cell_type": "markdown",
   "id": "cbfdb227-d127-4774-90c5-81c0a8089eef",
   "metadata": {},
   "source": [
    "Homes on sale in Atlanta, GA. \n",
    "\n",
    "```\n",
    "id: Unique property identifier\n",
    "street: Property's street address\n",
    "city: Property's city\n",
    "state: Property's state\n",
    "zip: Property's 5 digit zip code\n",
    "county: Property's county name\n",
    "beds: Number of bedrooms\n",
    "**baths_full**: Number of full bathrooms\n",
    "**baths_half**: Number of half bathrooms\n",
    "description: Seller's description of the property\n",
    "listing_date: Date the property was listed on the MLS\n",
    "list_price: Most recently posted list price for the property \n",
    "sqft: Interior size of the house in square feet\n",
    "lotsize_sqft: Size of the entire lot in square feet (including outdoor space)\n",
    "property_type: Type of property e.g. Townhouse, Single Family Residence, Condo\n",
    "**school_district**: School district in which the property is located\n",
    "? subdivision: Subdivision in which the property is located, if applicable\n",
    "lat: Property's latitude\n",
    "lng: Property's longitude\n",
    "year_built: Year in which the property was constructed\n",
    "features_*: These are additional features supplied by the MLS, which may or may not be provided for every home\n",
    "xf_attributes: These are additional features supplied by Zillow, which may or may not be provided for every home\n",
    "photo_urls: Array of URLs that link to photos of the property\n",
    "```\n",
    "\n",
    "> `xf_attributes`: {\"xf_city\":\"Powder Springs\",\"xf_roof\":[\"Composition\"],\"xf_view\":[\"Other\"],\"xf_dpryn\":true,\"xf_sewer\":[\"Public Sewer\"],\"xf_dprurl\":\"http://www.workforce-resource.com/eligibility/listing?metro_area=FMLS&listing_id=6840598&; show_results=true&skip_sso=true\",\"xf_levels\":[\"Two\"],\"xf_taxlot\":\"15\",\"xf_cooling\":[\"Ceiling Fan(s)\",\"Central Air\",\"Window Unit(s)\",\"Zoned\"],\"xf_dprurl2\":\"https://www.workforce-resource.com/dpr/listing/FMLS/6840598?w=PubMLS\",\"xf_fencing\":[\"Wood\"],\"xf_heating\":[\"Electric\",\"Zoned\"],\"xf_landlot\":\"000\",\"xf_taxyear\":2020,\"xf_basement\":[\"None\"],\"xf_district\":\"1\",\"xf_electric\":[\"None\"],\"xf_flooring\":[\"Carpet\",\"Hardwood\",\"Vinyl\"],\"xf_latitude\":33.86312538,\"xf_roomtype\":[\"Family Room\"],\"xf_taxblock\":\"000\",\"xf_listingid\":\"6840598\",\"xf_listprice\":320443,\"xf_longitude\":-84.69555349,\"xf_mlsstatus\":\"Active\",\"xf_ownership\":\"Fee Simple\",\"xf_utilities\":[\"Cable Available\",\"Electricity Available\",\"Natural Gas Available\",\"Phone Available\",\"Sewer Available\",\"Underground Utilities\",\"Water Available\"],\"xf_yearbuilt\":2021,\"xf_appliances\":[\"Dishwasher\",\"Disposal\",\"Gas Range\",\"Microwave\"],\"xf_directions\":\"GPS: 4686 Sweetwater Ave, Powder Springs GA 30127. Traveling I-20W, exit 44 (Thornton Rd, SR-6 Austell) Turn Right off exit, continue for 8mi. Turn Right onto Sweetwater Ave, then left into Sweetwater Landing Townhomes.\",\"xf_foundation\":[\"Slab\"],\"xf_highschool\":\"McEachern\",\"xf_postalcode\":\"30127\",\"xf_sectiongmd\":\"000\",\"xf_streetname\":\"Gardenwick\",\"xf_unitnumber\":\"15\",\"xf_assumableyn\":false,\"xf_commonwalls\":[\"2+ Common Walls\"],\"xf_landleaseyn\":false,\"xf_lockboxtype\":[\"None\"],\"xf_lotfeatures\":[\"Back Yard\",\"Front Yard\",\"Landscaped\",\"Level\",\"Other\"],\"xf_photoscount\":39,\"xf_spafeatures\":[\"None\"],\"xf_watersource\":[\"Public\"],\"xf_currentprice\":320443,\"xf_daysonmarket\":72,\"xf_garagespaces\":2,\"xf_lotsizeacres\":0,\"xf_mlsareamajor\":\"73 - Cobb-West\",\"xf_onmarketdate\":1613347200,\"xf_poolfeatures\":[\"None\"],\"xf_propertytype\":\"Residential\",\"xf_streetnumber\":\"3729\",\"xf_streetsuffix\":\"Road\",\"xf_associationyn\":true,\"xf_bathroomsfull\":2,\"xf_bathroomshalf\":1,\"xf_bedroomstotal\":3,\"xf_listfirmmlsid\":\"PARR\",\"xf_listofficeurl\":\"www.paranhomes.com\",\"xf_lotsizesource\":\"Not Available\",\"xf_ownersecondyn\":false,\"xf_publicremarks\":\"Stafford, an eye-catching two-story interior unit townhome hosting 3 bedrooms, 2.5 bathrooms and two car garage. This new open concept townhome includes a wide foyer with beautiful hardwood floors flowing throughout the first floor. The open chef inspired kitchen includes granite kitchen countertops, stylish 42 cabinets, stainless steel appliances, tile kitchen backsplash, walk-in pantry and a large kitchen island. The open spacious dining room has views and access to the chef-inspired kitchen and large family room with fireplace. Hardwood stairs leading to the amazing\",\"xf_waterbodyname\":\"None\",\"xf_associationfee\":135,\"xf_countyorparish\":\"Cobb\",\"xf_homewarrantyyn\":true,\"xf_horseamenities\":[\"None\"],\"xf_listagentmlsid\":\"SHOLLOW\",\"xf_listofficename\":\"Paran Realty, LLC.\",\"xf_otherequipment\":[\"None\"],\"xf_standardstatus\":\"Active\",\"xf_windowfeatures\":[\"Insulated Windows\"],\"xf_associationfee2\":0,\"xf_fireplacestotal\":1,\"xf_laundryfeatures\":[\"In Hall\",\"Laundry Room\",\"Upper Floor\"],\"xf_listofficemlsid\":\"PARR01\",\"xf_listofficephone\":\"678-726-9646\",\"xf_majorchangetype\":\"New Listing\",\"xf_mlspropertytype\":\"Residential Attached\",\"xf_otherstructures\":[\"None\"],\"xf_parkingfeatures\":[\"Attached\",\"Driveway\",\"Garage\",\"Garage Faces Front\",\"Kitchen Level\",\"Level Driveway\"],\"xf_propertysubtype\":\"Townhouse\",\"xf_roadsurfacetype\":[\"Paved\"],\"xf_stateorprovince\":\"GA\",\"xf_subdivisionname\":\"Sweetwater Landing Townhomes\",\"xf_taxannualamount\":0,\"xf_taxparcelletter\":\"NA\",\"xf_elementaryschool\":\"Powder Springs\",\"xf_exteriorfeatures\":[\"None\"],\"xf_interiorfeatures\":[\"Double Vanity\",\"Entrance Foyer\",\"High Ceilings 9 ft Main\",\"Tray Ceiling(s)\",\"Walk-In Closet(s)\"],\"xf_ownerfinancingyn\":false,\"xf_roadfrontagetype\":[\"None\"],\"xf_securityfeatures\":[\"Carbon Monoxide Detector(s)\",\"Fire Alarm\",\"Smoke Detector(s)\"],\"xf_buildingareatotal\":1874,\"xf_communityfeatures\":[\"Clubhouse\",\"Homeowners Assoc\",\"Near Marta\",\"Near Schools\",\"Near Shopping\",\"Near Trails/Greenway\",\"Playground\",\"Pool\",\"Sidewalks\",\"Street Lights\"],\"xf_fireplacefeatures\":[\"Factory Built\",\"Family Room\"],\"xf_listagentfullname\":\"Suejun Hollowell\",\"xf_listingkeynumeric\":242010052,\"xf_lotsizedimensions\":\"00\",\"xf_mainlevelbedrooms\":0,\"xf_originallistprice\":303915,\"xf_previouslistprice\":317443,\"xf_propertycondition\":[\"To Be Built\"],\"xf_architecturalstyle\":[\"Traditional\"],\"xf_buildingareasource\":\"Builder\",\"xf_carportgaragetotal\":2,\"xf_fhacondoapprovalyn\":false,\"xf_lowerlevelbedrooms\":0,\"xf_mainlevelbathrooms\":0,\"xf_propertyattachedyn\":true,\"xf_publicremarksextra\":\"oversized owner's suite, with a huge walk-in closet, double vanity, water closet, separate tile shower and soaking tub. Hurry, do not miss this opportunity! Homebuyers still have opportunity to semi-customize this townhome with their interior color selections! This will not last long! Schedule to be complete in July/August. Photos not of actual property, Stock photos of a Stafford plan.\",\"xf_showingcontactname\":\"Su Hollowell\",\"xf_upperlevelbedrooms\":3,\"xf_listagentkeynumeric\":49829627,\"xf_listingcontractdate\":1613347200,\"xf_originatingsystemid\":\"M00000175\",\"xf_roombedroomfeatures\":[\"Oversized Master\"],\"xf_roomkitchenfeatures\":[\"Eat-in Kitchen\",\"Kitchen Island\",\"Pantry\",\"Pantry Walk-In\",\"Solid Surface Counters\",\"View to Family Room\",\"Other\"],\"xf_showingcontactphone\":\"404-372-4839\",\"xf_streetnumbernumeric\":3729,\"xf_greenenergyefficient\":[\"None\"],\"xf_listagentdirectphone\":\"404-372-4839\",\"xf_listofficekeynumeric\":2389664,\"xf_majorchangetimestamp\":1616237050,\"xf_middleorjuniorschool\":\"Cooper\",\"xf_pricechangetimestamp\":1616237050,\"xf_specialcircumstances\":[\"None\"],\"xf_accessibilityfeatures\":[\"None\"],\"xf_bathroomstotalinteger\":3,\"xf_constructionmaterials\":[\"Brick Front\",\"Cement Siding\",\"Other\"],\"xf_greenenergygeneration\":[\"None\"],\"xf_modificationtimestamp\":1616237050,\"xf_patioandporchfeatures\":[\"Patio\"],\"xf_photoschangetimestamp\":1613412725,\"xf_statuschangetimestamp\":1613412500,\"xf_abovegradefinishedarea\":1874,\"xf_mainlevelhalfbathrooms\":1,\"xf_numberofunitstobebuilt\":16,\"xf_roomdiningroomfeatures\":[\"Open Concept\",\"Other\"],\"xf_associationfeefrequency\":\"Monthly\",\"xf_buyeragencycompensation\":\"3\",\"xf_lowerlevelfullbathrooms\":0,\"xf_lowerlevelhalfbathrooms\":0,\"xf_upperlevelfullbathrooms\":2,\"xf_upperlevelhalfbathrooms\":0,\"xf_internetaddressdisplayyn\":true,\"xf_numberofunitsincommunity\":45,\"xf_speciallistingconditions\":[\"None\"],\"xf_virtualtoururlunbranded2\":\"https://www.propertypanorama.com/3729-Gardenwick-Road-Unit-15-Powder-Springs-GA-30127/unbranded\",\"xf_dualvariablecompensationyn\":false,\"xf_representativeofpropertyyn\":true,\"xf_roommasterbathroomfeatures\":[\"Double Vanity\",\"Separate Tub/Shower\",\"Other\"],\"xf_assessmentduecontemplatedyn\":false,\"xf_buyeragencycompensationtype\":\"%\",\"xf_associationrentrestrictionsyn\":false,\"xf_internetentirelistingdisplayyn\":true}"
   ]
  },
  {
   "cell_type": "code",
   "execution_count": 2,
   "id": "33e6b5b5-f2c2-4c58-9b8b-cc3461f9d975",
   "metadata": {},
   "outputs": [],
   "source": [
    "# Input \n",
    "import re\n",
    "import numpy as np\n",
    "import pandas as pd\n",
    "import seaborn as sns\n",
    "from matplotlib import pyplot as plt\n",
    "%matplotlib inline\n",
    "\n",
    "import warnings\n",
    "warnings.filterwarnings('ignore')"
   ]
  },
  {
   "cell_type": "code",
   "execution_count": 3,
   "id": "44eb6a2b-2352-4de6-9fe8-0cdee7c34dac",
   "metadata": {},
   "outputs": [
    {
     "name": "stdout",
     "output_type": "stream",
     "text": [
      "<class 'pandas.core.frame.DataFrame'>\n",
      "Int64Index: 8168 entries, 1 to 8168\n",
      "Data columns (total 59 columns):\n",
      " #   Column                             Non-Null Count  Dtype  \n",
      "---  ------                             --------------  -----  \n",
      " 0   street                             8168 non-null   object \n",
      " 1   city                               8168 non-null   object \n",
      " 2   state                              8168 non-null   object \n",
      " 3   zip                                8168 non-null   int64  \n",
      " 4   county                             8168 non-null   object \n",
      " 5   beds                               8168 non-null   int64  \n",
      " 6   baths_full                         8168 non-null   int64  \n",
      " 7   baths_half                         8168 non-null   int64  \n",
      " 8   description                        8134 non-null   object \n",
      " 9   listing_date                       8168 non-null   object \n",
      " 10  list_price                         8168 non-null   int64  \n",
      " 11  sqft                               8168 non-null   int64  \n",
      " 12  lotsize_sqft                       7252 non-null   float64\n",
      " 13  property_type                      8168 non-null   object \n",
      " 14  school_district                    4288 non-null   object \n",
      " 15  subdivision                        7058 non-null   object \n",
      " 16  lat                                8168 non-null   float64\n",
      " 17  lng                                8168 non-null   float64\n",
      " 18  year_built                         8168 non-null   int64  \n",
      " 19  features_appliances_and_equipment  0 non-null      float64\n",
      " 20  features_bathrooms                 7209 non-null   object \n",
      " 21  features_bedrooms                  7213 non-null   object \n",
      " 22  features_community                 0 non-null      float64\n",
      " 23  features_dining_room               6964 non-null   object \n",
      " 24  features_doors                     0 non-null      float64\n",
      " 25  features_energy_saving             0 non-null      float64\n",
      " 26  features_exterior_features         0 non-null      float64\n",
      " 27  features_fence                     0 non-null      float64\n",
      " 28  features_fireplaces                5205 non-null   object \n",
      " 29  features_foundation                0 non-null      float64\n",
      " 30  features_fees                      4070 non-null   object \n",
      " 31  features_garage                    938 non-null    object \n",
      " 32  features_heating                   7928 non-null   object \n",
      " 33  features_home_owners_association   4181 non-null   object \n",
      " 34  features_house                     7230 non-null   object \n",
      " 35  features_interior                  0 non-null      float64\n",
      " 36  features_interior_features         6146 non-null   object \n",
      " 37  features_kitchen                   7474 non-null   object \n",
      " 38  features_laundry                   6328 non-null   object \n",
      " 39  features_location                  169 non-null    object \n",
      " 40  features_lot                       7230 non-null   object \n",
      " 41  features_miscellaneous             0 non-null      float64\n",
      " 42  features_parking                   7811 non-null   object \n",
      " 43  features_pool                      8168 non-null   object \n",
      " 44  features_property                  130 non-null    object \n",
      " 45  features_property_access           7230 non-null   object \n",
      " 46  features_roof                      6568 non-null   object \n",
      " 47  features_schools                   8168 non-null   object \n",
      " 48  features_security_system           0 non-null      float64\n",
      " 49  features_sewer                     7091 non-null   object \n",
      " 50  features_spa                       0 non-null      float64\n",
      " 51  features_taxes                     7129 non-null   object \n",
      " 52  features_water                     7166 non-null   object \n",
      " 53  features_amenities                 0 non-null      float64\n",
      " 54  features_disclosures               0 non-null      float64\n",
      " 55  features_utilities                 6002 non-null   object \n",
      " 56  features_windows_and_doors         0 non-null      float64\n",
      " 57  xf_attributes                      8168 non-null   object \n",
      " 58  photo_urls                         8114 non-null   object \n",
      "dtypes: float64(17), int64(7), object(35)\n",
      "memory usage: 3.7+ MB\n"
     ]
    }
   ],
   "source": [
    "df = pd.read_csv('mls-sample.csv', index_col=0)\n",
    "df.info()"
   ]
  },
  {
   "cell_type": "code",
   "execution_count": 4,
   "id": "f3e8a36d-d54d-48ad-a73f-24d4ef22dcff",
   "metadata": {},
   "outputs": [
    {
     "data": {
      "text/html": [
       "<div>\n",
       "<style scoped>\n",
       "    .dataframe tbody tr th:only-of-type {\n",
       "        vertical-align: middle;\n",
       "    }\n",
       "\n",
       "    .dataframe tbody tr th {\n",
       "        vertical-align: top;\n",
       "    }\n",
       "\n",
       "    .dataframe thead th {\n",
       "        text-align: right;\n",
       "    }\n",
       "</style>\n",
       "<table border=\"1\" class=\"dataframe\">\n",
       "  <thead>\n",
       "    <tr style=\"text-align: right;\">\n",
       "      <th></th>\n",
       "      <th>street</th>\n",
       "      <th>city</th>\n",
       "      <th>state</th>\n",
       "      <th>zip</th>\n",
       "      <th>county</th>\n",
       "      <th>beds</th>\n",
       "      <th>baths_full</th>\n",
       "      <th>baths_half</th>\n",
       "      <th>description</th>\n",
       "      <th>listing_date</th>\n",
       "      <th>...</th>\n",
       "      <th>features_sewer</th>\n",
       "      <th>features_spa</th>\n",
       "      <th>features_taxes</th>\n",
       "      <th>features_water</th>\n",
       "      <th>features_amenities</th>\n",
       "      <th>features_disclosures</th>\n",
       "      <th>features_utilities</th>\n",
       "      <th>features_windows_and_doors</th>\n",
       "      <th>xf_attributes</th>\n",
       "      <th>photo_urls</th>\n",
       "    </tr>\n",
       "    <tr>\n",
       "      <th>id</th>\n",
       "      <th></th>\n",
       "      <th></th>\n",
       "      <th></th>\n",
       "      <th></th>\n",
       "      <th></th>\n",
       "      <th></th>\n",
       "      <th></th>\n",
       "      <th></th>\n",
       "      <th></th>\n",
       "      <th></th>\n",
       "      <th></th>\n",
       "      <th></th>\n",
       "      <th></th>\n",
       "      <th></th>\n",
       "      <th></th>\n",
       "      <th></th>\n",
       "      <th></th>\n",
       "      <th></th>\n",
       "      <th></th>\n",
       "      <th></th>\n",
       "      <th></th>\n",
       "    </tr>\n",
       "  </thead>\n",
       "  <tbody>\n",
       "    <tr>\n",
       "      <th>5886</th>\n",
       "      <td>921 Fernwood Road</td>\n",
       "      <td>Woodstock</td>\n",
       "      <td>GA</td>\n",
       "      <td>30189</td>\n",
       "      <td>Cherokee</td>\n",
       "      <td>4</td>\n",
       "      <td>3</td>\n",
       "      <td>0</td>\n",
       "      <td>Fantastic and hard to find Eagle Watch Golf Co...</td>\n",
       "      <td>2021-04-16 00:00:00+00</td>\n",
       "      <td>...</td>\n",
       "      <td>[\"Public Sewer\"]</td>\n",
       "      <td>NaN</td>\n",
       "      <td>[\"$878\",\"Year: 2020\"]</td>\n",
       "      <td>[\"Public\"]</td>\n",
       "      <td>NaN</td>\n",
       "      <td>NaN</td>\n",
       "      <td>[\"Utilities available: Cable Available,Electri...</td>\n",
       "      <td>NaN</td>\n",
       "      <td>{\"xf_city\":\"Woodstock\",\"xf_dock\":[\"None\"],\"xf_...</td>\n",
       "      <td>[\"https://listing-images.homejunction.com/fmls...</td>\n",
       "    </tr>\n",
       "    <tr>\n",
       "      <th>6653</th>\n",
       "      <td>6925 Blackthorn Lane</td>\n",
       "      <td>Suwanee</td>\n",
       "      <td>GA</td>\n",
       "      <td>30024</td>\n",
       "      <td>Forsyth</td>\n",
       "      <td>5</td>\n",
       "      <td>4</td>\n",
       "      <td>1</td>\n",
       "      <td>INCREDIBLE OPPORTUNITY IN LAUREL SPRINGS! 5 be...</td>\n",
       "      <td>2021-03-26 00:00:00+00</td>\n",
       "      <td>...</td>\n",
       "      <td>[\"Public Sewer\"]</td>\n",
       "      <td>NaN</td>\n",
       "      <td>[\"$1,363\",\"Year: 2020\"]</td>\n",
       "      <td>[\"Public\"]</td>\n",
       "      <td>NaN</td>\n",
       "      <td>NaN</td>\n",
       "      <td>[\"Utilities available: Cable Available,Electri...</td>\n",
       "      <td>NaN</td>\n",
       "      <td>{\"xf_city\":\"Suwanee\",\"xf_roof\":[\"Composition\",...</td>\n",
       "      <td>[\"https://listing-images.homejunction.com/fmls...</td>\n",
       "    </tr>\n",
       "    <tr>\n",
       "      <th>1272</th>\n",
       "      <td>1868 Sam Snead Drive</td>\n",
       "      <td>Braselton</td>\n",
       "      <td>GA</td>\n",
       "      <td>30517</td>\n",
       "      <td>Gwinnett</td>\n",
       "      <td>7</td>\n",
       "      <td>6</td>\n",
       "      <td>1</td>\n",
       "      <td>NEW PRICE ON GRAND ESTATE HOME ON AMAZING GOLF...</td>\n",
       "      <td>2021-02-27 00:00:00+00</td>\n",
       "      <td>...</td>\n",
       "      <td>[\"Septic Tank\"]</td>\n",
       "      <td>NaN</td>\n",
       "      <td>[\"$17,256\",\"Year: 2020\"]</td>\n",
       "      <td>[\"Public\"]</td>\n",
       "      <td>NaN</td>\n",
       "      <td>NaN</td>\n",
       "      <td>[\"Utilities available: Cable Available,Electri...</td>\n",
       "      <td>NaN</td>\n",
       "      <td>{\"xf_city\":\"Braselton\",\"xf_roof\":[\"Composition...</td>\n",
       "      <td>[\"https://listing-images.homejunction.com/fmls...</td>\n",
       "    </tr>\n",
       "    <tr>\n",
       "      <th>5129</th>\n",
       "      <td>307 Parkside Meadow Drive</td>\n",
       "      <td>Marietta</td>\n",
       "      <td>GA</td>\n",
       "      <td>30064</td>\n",
       "      <td>Cobb</td>\n",
       "      <td>3</td>\n",
       "      <td>3</td>\n",
       "      <td>0</td>\n",
       "      <td>Ready June! Ranch style - The Hammond floor pl...</td>\n",
       "      <td>2021-03-12 00:00:00+00</td>\n",
       "      <td>...</td>\n",
       "      <td>[\"Public Sewer\"]</td>\n",
       "      <td>NaN</td>\n",
       "      <td>[\"$1\",\"Year: 2020\"]</td>\n",
       "      <td>[\"Public\"]</td>\n",
       "      <td>NaN</td>\n",
       "      <td>NaN</td>\n",
       "      <td>[\"Utilities available: Cable Available,Electri...</td>\n",
       "      <td>NaN</td>\n",
       "      <td>{\"xf_city\":\"Marietta\",\"xf_dock\":[\"None\"],\"xf_r...</td>\n",
       "      <td>[\"https://listing-images.homejunction.com/fmls...</td>\n",
       "    </tr>\n",
       "    <tr>\n",
       "      <th>5730</th>\n",
       "      <td>583 Allen Drive</td>\n",
       "      <td>Lawrenceville</td>\n",
       "      <td>GA</td>\n",
       "      <td>30043</td>\n",
       "      <td>Gwinnett</td>\n",
       "      <td>3</td>\n",
       "      <td>1</td>\n",
       "      <td>0</td>\n",
       "      <td>Welcome home to your beautiful 4 sided brick r...</td>\n",
       "      <td>2021-04-02 00:00:00+00</td>\n",
       "      <td>...</td>\n",
       "      <td>[\"Septic Tank\"]</td>\n",
       "      <td>NaN</td>\n",
       "      <td>[\"$2,550\",\"Year: 2020\"]</td>\n",
       "      <td>[\"Public\"]</td>\n",
       "      <td>NaN</td>\n",
       "      <td>NaN</td>\n",
       "      <td>[\"Utilities available: Cable Available,Electri...</td>\n",
       "      <td>NaN</td>\n",
       "      <td>{\"xf_city\":\"Lawrenceville\",\"xf_roof\":[\"Composi...</td>\n",
       "      <td>[\"https://listing-images.homejunction.com/fmls...</td>\n",
       "    </tr>\n",
       "    <tr>\n",
       "      <th>6146</th>\n",
       "      <td>5325 Sherwood Way</td>\n",
       "      <td>Cumming</td>\n",
       "      <td>GA</td>\n",
       "      <td>30040</td>\n",
       "      <td>Cumming</td>\n",
       "      <td>2</td>\n",
       "      <td>2</td>\n",
       "      <td>1</td>\n",
       "      <td>This Cumming two-story home offers granite cou...</td>\n",
       "      <td>2021-02-04 05:00:00+00</td>\n",
       "      <td>...</td>\n",
       "      <td>NaN</td>\n",
       "      <td>NaN</td>\n",
       "      <td>NaN</td>\n",
       "      <td>NaN</td>\n",
       "      <td>NaN</td>\n",
       "      <td>NaN</td>\n",
       "      <td>NaN</td>\n",
       "      <td>NaN</td>\n",
       "      <td>{}</td>\n",
       "      <td>[\"https://opendoor.imgix.net/https%3A%2F%2Flis...</td>\n",
       "    </tr>\n",
       "    <tr>\n",
       "      <th>2541</th>\n",
       "      <td>1986 Braeburn Circle SE</td>\n",
       "      <td>Atlanta</td>\n",
       "      <td>GA</td>\n",
       "      <td>30316</td>\n",
       "      <td>Dekalb</td>\n",
       "      <td>3</td>\n",
       "      <td>2</td>\n",
       "      <td>0</td>\n",
       "      <td>Welcome home to this charming &amp; renovated 3 be...</td>\n",
       "      <td>2021-04-15 00:00:00+00</td>\n",
       "      <td>...</td>\n",
       "      <td>[\"Public Sewer\"]</td>\n",
       "      <td>NaN</td>\n",
       "      <td>[\"$1,555\",\"Year: 2020\"]</td>\n",
       "      <td>[\"Public\"]</td>\n",
       "      <td>NaN</td>\n",
       "      <td>NaN</td>\n",
       "      <td>[\"Utilities available: Cable Available,Electri...</td>\n",
       "      <td>NaN</td>\n",
       "      <td>{\"xf_city\":\"Atlanta\",\"xf_dock\":[\"None\"],\"xf_ro...</td>\n",
       "      <td>[\"https://listing-images.homejunction.com/fmls...</td>\n",
       "    </tr>\n",
       "    <tr>\n",
       "      <th>547</th>\n",
       "      <td>5170 Halcyon Drive</td>\n",
       "      <td>Atlanta</td>\n",
       "      <td>GA</td>\n",
       "      <td>30349</td>\n",
       "      <td>Fulton</td>\n",
       "      <td>4</td>\n",
       "      <td>3</td>\n",
       "      <td>1</td>\n",
       "      <td>Hurry to snap up this gorgeous Executive 4 BR/...</td>\n",
       "      <td>2021-04-26 00:00:00+00</td>\n",
       "      <td>...</td>\n",
       "      <td>[\"Public Sewer\"]</td>\n",
       "      <td>NaN</td>\n",
       "      <td>[\"$3,586\",\"Year: 2019\"]</td>\n",
       "      <td>[\"Public\"]</td>\n",
       "      <td>NaN</td>\n",
       "      <td>NaN</td>\n",
       "      <td>NaN</td>\n",
       "      <td>NaN</td>\n",
       "      <td>{\"xf_city\":\"Atlanta\",\"xf_dock\":[\"None\"],\"xf_ro...</td>\n",
       "      <td>[\"https://listing-images.homejunction.com/fmls...</td>\n",
       "    </tr>\n",
       "    <tr>\n",
       "      <th>7903</th>\n",
       "      <td>1285 Winder Highway</td>\n",
       "      <td>Dacula</td>\n",
       "      <td>GA</td>\n",
       "      <td>30019</td>\n",
       "      <td>Gwinnett</td>\n",
       "      <td>3</td>\n",
       "      <td>2</td>\n",
       "      <td>0</td>\n",
       "      <td>OPPORTUNITY KNOCKS! YES, YOU GET 1.5 ACRES ON ...</td>\n",
       "      <td>2021-04-09 00:00:00+00</td>\n",
       "      <td>...</td>\n",
       "      <td>[\"Septic Tank\"]</td>\n",
       "      <td>NaN</td>\n",
       "      <td>[\"$1,046\",\"Year: 2020\"]</td>\n",
       "      <td>[\"Public\"]</td>\n",
       "      <td>NaN</td>\n",
       "      <td>NaN</td>\n",
       "      <td>[\"Utilities available: Cable Available,Electri...</td>\n",
       "      <td>NaN</td>\n",
       "      <td>{\"xf_city\":\"Dacula\",\"xf_dock\":[\"None\"],\"xf_roo...</td>\n",
       "      <td>[\"https://listing-images.homejunction.com/fmls...</td>\n",
       "    </tr>\n",
       "    <tr>\n",
       "      <th>3277</th>\n",
       "      <td>632 DOGWOOD Way</td>\n",
       "      <td>Dawsonville</td>\n",
       "      <td>GA</td>\n",
       "      <td>30534</td>\n",
       "      <td>Dawson</td>\n",
       "      <td>5</td>\n",
       "      <td>4</td>\n",
       "      <td>1</td>\n",
       "      <td>This is truly a one of a kind Chestatee Master...</td>\n",
       "      <td>2021-04-24 00:00:00+00</td>\n",
       "      <td>...</td>\n",
       "      <td>NaN</td>\n",
       "      <td>NaN</td>\n",
       "      <td>[\"$1,575\",\"Year: 2020\"]</td>\n",
       "      <td>[\"Lake: Lanier\",\"Public\"]</td>\n",
       "      <td>NaN</td>\n",
       "      <td>NaN</td>\n",
       "      <td>[\"Utilities available: Cable Available,Electri...</td>\n",
       "      <td>NaN</td>\n",
       "      <td>{\"xf_city\":\"Dawsonville\",\"xf_dock\":[\"None\"],\"x...</td>\n",
       "      <td>[\"https://listing-images.homejunction.com/fmls...</td>\n",
       "    </tr>\n",
       "    <tr>\n",
       "      <th>1921</th>\n",
       "      <td>3376 Peachtree Road NE Unit 40A</td>\n",
       "      <td>Atlanta</td>\n",
       "      <td>GA</td>\n",
       "      <td>30326</td>\n",
       "      <td>Fulton</td>\n",
       "      <td>2</td>\n",
       "      <td>2</td>\n",
       "      <td>1</td>\n",
       "      <td>This Waldorf Astoria furnished residence trans...</td>\n",
       "      <td>2020-12-03 00:00:00+00</td>\n",
       "      <td>...</td>\n",
       "      <td>[\"Public Sewer\"]</td>\n",
       "      <td>NaN</td>\n",
       "      <td>[\"$25,284\",\"Year: 2018\"]</td>\n",
       "      <td>[\"Public\"]</td>\n",
       "      <td>NaN</td>\n",
       "      <td>NaN</td>\n",
       "      <td>[\"Utilities available: Cable Available,Electri...</td>\n",
       "      <td>NaN</td>\n",
       "      <td>{\"xf_city\":\"Atlanta\",\"xf_roof\":[\"Other\"],\"xf_v...</td>\n",
       "      <td>[\"https://listing-images.homejunction.com/fmls...</td>\n",
       "    </tr>\n",
       "    <tr>\n",
       "      <th>1887</th>\n",
       "      <td>238 Odell Street</td>\n",
       "      <td>Acworth</td>\n",
       "      <td>GA</td>\n",
       "      <td>30102</td>\n",
       "      <td>Cherokee</td>\n",
       "      <td>2</td>\n",
       "      <td>2</td>\n",
       "      <td>0</td>\n",
       "      <td>Inviting RANCH home under construction for Spr...</td>\n",
       "      <td>2021-01-10 00:00:00+00</td>\n",
       "      <td>...</td>\n",
       "      <td>[\"Public Sewer\"]</td>\n",
       "      <td>NaN</td>\n",
       "      <td>[\"Year: 2021\"]</td>\n",
       "      <td>[\"Public\"]</td>\n",
       "      <td>NaN</td>\n",
       "      <td>NaN</td>\n",
       "      <td>[\"Utilities available: Underground Utilities\"]</td>\n",
       "      <td>NaN</td>\n",
       "      <td>{\"xf_city\":\"Acworth\",\"xf_dock\":[\"None\"],\"xf_ro...</td>\n",
       "      <td>[\"https://listing-images.homejunction.com/fmls...</td>\n",
       "    </tr>\n",
       "    <tr>\n",
       "      <th>1356</th>\n",
       "      <td>4738 Arbor Crest Place</td>\n",
       "      <td>Suwanee</td>\n",
       "      <td>GA</td>\n",
       "      <td>30024</td>\n",
       "      <td>Gwinnett</td>\n",
       "      <td>5</td>\n",
       "      <td>4</td>\n",
       "      <td>0</td>\n",
       "      <td>Stunning, rustic style home w/craftsman exteri...</td>\n",
       "      <td>2021-04-26 00:00:00+00</td>\n",
       "      <td>...</td>\n",
       "      <td>[\"Public Sewer\"]</td>\n",
       "      <td>NaN</td>\n",
       "      <td>[\"$6,285\",\"Year: 2020\"]</td>\n",
       "      <td>[\"Public\"]</td>\n",
       "      <td>NaN</td>\n",
       "      <td>NaN</td>\n",
       "      <td>[\"Utilities available: Underground Utilities\"]</td>\n",
       "      <td>NaN</td>\n",
       "      <td>{\"xf_city\":\"Suwanee\",\"xf_roof\":[\"Composition\",...</td>\n",
       "      <td>[\"https://listing-images.homejunction.com/fmls...</td>\n",
       "    </tr>\n",
       "    <tr>\n",
       "      <th>693</th>\n",
       "      <td>3203 Lenox Road NE Unit 4</td>\n",
       "      <td>Atlanta</td>\n",
       "      <td>GA</td>\n",
       "      <td>30324</td>\n",
       "      <td>Fulton</td>\n",
       "      <td>2</td>\n",
       "      <td>2</td>\n",
       "      <td>0</td>\n",
       "      <td>1st floor unit (Great for Pets) with a 3rd flo...</td>\n",
       "      <td>2021-04-08 00:00:00+00</td>\n",
       "      <td>...</td>\n",
       "      <td>[\"Public Sewer\"]</td>\n",
       "      <td>NaN</td>\n",
       "      <td>[\"$3,785\",\"Year: 2021\"]</td>\n",
       "      <td>[\"Public\"]</td>\n",
       "      <td>NaN</td>\n",
       "      <td>NaN</td>\n",
       "      <td>[\"Utilities available: Cable Available,Electri...</td>\n",
       "      <td>NaN</td>\n",
       "      <td>{\"xf_city\":\"Atlanta\",\"xf_dock\":[\"None\"],\"xf_ro...</td>\n",
       "      <td>[\"https://listing-images.homejunction.com/fmls...</td>\n",
       "    </tr>\n",
       "    <tr>\n",
       "      <th>1049</th>\n",
       "      <td>85 Dalrymple Road</td>\n",
       "      <td>Sandy Springs</td>\n",
       "      <td>GA</td>\n",
       "      <td>30328</td>\n",
       "      <td>Fulton</td>\n",
       "      <td>4</td>\n",
       "      <td>2</td>\n",
       "      <td>1</td>\n",
       "      <td>Don2019;t miss your opportunity to own an 1.1 ...</td>\n",
       "      <td>2021-02-12 00:00:00+00</td>\n",
       "      <td>...</td>\n",
       "      <td>[\"Public Sewer\"]</td>\n",
       "      <td>NaN</td>\n",
       "      <td>[\"$5,594\",\"Year: 2020\"]</td>\n",
       "      <td>[\"Public\"]</td>\n",
       "      <td>NaN</td>\n",
       "      <td>NaN</td>\n",
       "      <td>[\"Utilities available: Cable Available,Electri...</td>\n",
       "      <td>NaN</td>\n",
       "      <td>{\"xf_city\":\"Sandy Springs\",\"xf_dock\":[\"None\"],...</td>\n",
       "      <td>[\"https://listing-images.homejunction.com/fmls...</td>\n",
       "    </tr>\n",
       "    <tr>\n",
       "      <th>2112</th>\n",
       "      <td>NW Galt Commons Lot 26</td>\n",
       "      <td>Kennesaw</td>\n",
       "      <td>GA</td>\n",
       "      <td>30144</td>\n",
       "      <td>Cobb</td>\n",
       "      <td>3</td>\n",
       "      <td>2</td>\n",
       "      <td>1</td>\n",
       "      <td>Introducing our Handy Shanty Plan! A Signature...</td>\n",
       "      <td>2021-02-05 00:00:00+00</td>\n",
       "      <td>...</td>\n",
       "      <td>[\"Public Sewer\"]</td>\n",
       "      <td>NaN</td>\n",
       "      <td>[\"Year: 2019\"]</td>\n",
       "      <td>[\"Public\"]</td>\n",
       "      <td>NaN</td>\n",
       "      <td>NaN</td>\n",
       "      <td>[\"Utilities available: Cable Available,Electri...</td>\n",
       "      <td>NaN</td>\n",
       "      <td>{\"xf_city\":\"Kennesaw\",\"xf_dock\":[\"None\"],\"xf_r...</td>\n",
       "      <td>[\"https://listing-images.homejunction.com/fmls...</td>\n",
       "    </tr>\n",
       "    <tr>\n",
       "      <th>5327</th>\n",
       "      <td>1075 Moreland Avenue</td>\n",
       "      <td>Atlanta</td>\n",
       "      <td>GA</td>\n",
       "      <td>30316</td>\n",
       "      <td>Fulton</td>\n",
       "      <td>3</td>\n",
       "      <td>2</td>\n",
       "      <td>0</td>\n",
       "      <td>Charming renovated Ormewood Park bungalow. Enj...</td>\n",
       "      <td>2021-02-25 00:00:00+00</td>\n",
       "      <td>...</td>\n",
       "      <td>[\"Public Sewer\"]</td>\n",
       "      <td>NaN</td>\n",
       "      <td>[\"$3,145\",\"Year: 2020\"]</td>\n",
       "      <td>[\"Public\"]</td>\n",
       "      <td>NaN</td>\n",
       "      <td>NaN</td>\n",
       "      <td>[\"Utilities available: Cable Available,Electri...</td>\n",
       "      <td>NaN</td>\n",
       "      <td>{\"xf_city\":\"Atlanta\",\"xf_dock\":[\"None\"],\"xf_ro...</td>\n",
       "      <td>[\"https://listing-images.homejunction.com/fmls...</td>\n",
       "    </tr>\n",
       "    <tr>\n",
       "      <th>679</th>\n",
       "      <td>2870 Pharr Court South NW Unit 107</td>\n",
       "      <td>Atlanta</td>\n",
       "      <td>GA</td>\n",
       "      <td>30305</td>\n",
       "      <td>Fulton</td>\n",
       "      <td>2</td>\n",
       "      <td>2</td>\n",
       "      <td>0</td>\n",
       "      <td>Experience first-level (no elevators, no stair...</td>\n",
       "      <td>2021-04-07 00:00:00+00</td>\n",
       "      <td>...</td>\n",
       "      <td>[\"Public Sewer\"]</td>\n",
       "      <td>NaN</td>\n",
       "      <td>[\"$356\",\"Year: 2019\"]</td>\n",
       "      <td>[\"Public\"]</td>\n",
       "      <td>NaN</td>\n",
       "      <td>NaN</td>\n",
       "      <td>[\"Utilities available: Cable Available,Electri...</td>\n",
       "      <td>NaN</td>\n",
       "      <td>{\"xf_city\":\"Atlanta\",\"xf_dock\":[\"None\"],\"xf_ro...</td>\n",
       "      <td>[\"https://listing-images.homejunction.com/fmls...</td>\n",
       "    </tr>\n",
       "    <tr>\n",
       "      <th>5197</th>\n",
       "      <td>3424 Boring Road</td>\n",
       "      <td>Decatur</td>\n",
       "      <td>GA</td>\n",
       "      <td>30034</td>\n",
       "      <td>Dekalb</td>\n",
       "      <td>4</td>\n",
       "      <td>3</td>\n",
       "      <td>1</td>\n",
       "      <td>Experience this grand estate w/ 2 connecting l...</td>\n",
       "      <td>2021-04-19 00:00:00+00</td>\n",
       "      <td>...</td>\n",
       "      <td>[\"Public Sewer\"]</td>\n",
       "      <td>NaN</td>\n",
       "      <td>[\"$2,252\",\"Year: 2020\"]</td>\n",
       "      <td>[\"Public\"]</td>\n",
       "      <td>NaN</td>\n",
       "      <td>NaN</td>\n",
       "      <td>NaN</td>\n",
       "      <td>NaN</td>\n",
       "      <td>{\"xf_city\":\"Decatur\",\"xf_dock\":[\"None\"],\"xf_ro...</td>\n",
       "      <td>[\"https://listing-images.homejunction.com/fmls...</td>\n",
       "    </tr>\n",
       "    <tr>\n",
       "      <th>3403</th>\n",
       "      <td>1550- Aldworth Place Unit 22</td>\n",
       "      <td>Atlanta</td>\n",
       "      <td>GA</td>\n",
       "      <td>30339</td>\n",
       "      <td>Cobb</td>\n",
       "      <td>4</td>\n",
       "      <td>3</td>\n",
       "      <td>1</td>\n",
       "      <td>Brand new release of the Cooper Home Plan at R...</td>\n",
       "      <td>2021-03-17 00:00:00+00</td>\n",
       "      <td>...</td>\n",
       "      <td>[\"Public Sewer\"]</td>\n",
       "      <td>NaN</td>\n",
       "      <td>[\"Year: 2020\"]</td>\n",
       "      <td>[\"Public\"]</td>\n",
       "      <td>NaN</td>\n",
       "      <td>NaN</td>\n",
       "      <td>[\"Utilities available: Cable Available,Electri...</td>\n",
       "      <td>NaN</td>\n",
       "      <td>{\"xf_city\":\"Atlanta\",\"xf_dock\":[\"None\"],\"xf_ro...</td>\n",
       "      <td>[\"https://listing-images.homejunction.com/fmls...</td>\n",
       "    </tr>\n",
       "  </tbody>\n",
       "</table>\n",
       "<p>20 rows × 59 columns</p>\n",
       "</div>"
      ],
      "text/plain": [
       "                                  street           city state    zip  \\\n",
       "id                                                                     \n",
       "5886                   921 Fernwood Road      Woodstock    GA  30189   \n",
       "6653                6925 Blackthorn Lane        Suwanee    GA  30024   \n",
       "1272                1868 Sam Snead Drive      Braselton    GA  30517   \n",
       "5129           307 Parkside Meadow Drive       Marietta    GA  30064   \n",
       "5730                     583 Allen Drive  Lawrenceville    GA  30043   \n",
       "6146                   5325 Sherwood Way        Cumming    GA  30040   \n",
       "2541             1986 Braeburn Circle SE        Atlanta    GA  30316   \n",
       "547                   5170 Halcyon Drive        Atlanta    GA  30349   \n",
       "7903                 1285 Winder Highway         Dacula    GA  30019   \n",
       "3277                     632 DOGWOOD Way    Dawsonville    GA  30534   \n",
       "1921     3376 Peachtree Road NE Unit 40A        Atlanta    GA  30326   \n",
       "1887                    238 Odell Street        Acworth    GA  30102   \n",
       "1356              4738 Arbor Crest Place        Suwanee    GA  30024   \n",
       "693            3203 Lenox Road NE Unit 4        Atlanta    GA  30324   \n",
       "1049                   85 Dalrymple Road  Sandy Springs    GA  30328   \n",
       "2112              NW Galt Commons Lot 26       Kennesaw    GA  30144   \n",
       "5327                1075 Moreland Avenue        Atlanta    GA  30316   \n",
       "679   2870 Pharr Court South NW Unit 107        Atlanta    GA  30305   \n",
       "5197                    3424 Boring Road        Decatur    GA  30034   \n",
       "3403        1550- Aldworth Place Unit 22        Atlanta    GA  30339   \n",
       "\n",
       "        county  beds  baths_full  baths_half  \\\n",
       "id                                             \n",
       "5886  Cherokee     4           3           0   \n",
       "6653   Forsyth     5           4           1   \n",
       "1272  Gwinnett     7           6           1   \n",
       "5129      Cobb     3           3           0   \n",
       "5730  Gwinnett     3           1           0   \n",
       "6146   Cumming     2           2           1   \n",
       "2541    Dekalb     3           2           0   \n",
       "547     Fulton     4           3           1   \n",
       "7903  Gwinnett     3           2           0   \n",
       "3277    Dawson     5           4           1   \n",
       "1921    Fulton     2           2           1   \n",
       "1887  Cherokee     2           2           0   \n",
       "1356  Gwinnett     5           4           0   \n",
       "693     Fulton     2           2           0   \n",
       "1049    Fulton     4           2           1   \n",
       "2112      Cobb     3           2           1   \n",
       "5327    Fulton     3           2           0   \n",
       "679     Fulton     2           2           0   \n",
       "5197    Dekalb     4           3           1   \n",
       "3403      Cobb     4           3           1   \n",
       "\n",
       "                                            description  \\\n",
       "id                                                        \n",
       "5886  Fantastic and hard to find Eagle Watch Golf Co...   \n",
       "6653  INCREDIBLE OPPORTUNITY IN LAUREL SPRINGS! 5 be...   \n",
       "1272  NEW PRICE ON GRAND ESTATE HOME ON AMAZING GOLF...   \n",
       "5129  Ready June! Ranch style - The Hammond floor pl...   \n",
       "5730  Welcome home to your beautiful 4 sided brick r...   \n",
       "6146  This Cumming two-story home offers granite cou...   \n",
       "2541  Welcome home to this charming & renovated 3 be...   \n",
       "547   Hurry to snap up this gorgeous Executive 4 BR/...   \n",
       "7903  OPPORTUNITY KNOCKS! YES, YOU GET 1.5 ACRES ON ...   \n",
       "3277  This is truly a one of a kind Chestatee Master...   \n",
       "1921  This Waldorf Astoria furnished residence trans...   \n",
       "1887  Inviting RANCH home under construction for Spr...   \n",
       "1356  Stunning, rustic style home w/craftsman exteri...   \n",
       "693   1st floor unit (Great for Pets) with a 3rd flo...   \n",
       "1049  Don2019;t miss your opportunity to own an 1.1 ...   \n",
       "2112  Introducing our Handy Shanty Plan! A Signature...   \n",
       "5327  Charming renovated Ormewood Park bungalow. Enj...   \n",
       "679   Experience first-level (no elevators, no stair...   \n",
       "5197  Experience this grand estate w/ 2 connecting l...   \n",
       "3403  Brand new release of the Cooper Home Plan at R...   \n",
       "\n",
       "                listing_date  ...    features_sewer  features_spa  \\\n",
       "id                            ...                                   \n",
       "5886  2021-04-16 00:00:00+00  ...  [\"Public Sewer\"]           NaN   \n",
       "6653  2021-03-26 00:00:00+00  ...  [\"Public Sewer\"]           NaN   \n",
       "1272  2021-02-27 00:00:00+00  ...   [\"Septic Tank\"]           NaN   \n",
       "5129  2021-03-12 00:00:00+00  ...  [\"Public Sewer\"]           NaN   \n",
       "5730  2021-04-02 00:00:00+00  ...   [\"Septic Tank\"]           NaN   \n",
       "6146  2021-02-04 05:00:00+00  ...               NaN           NaN   \n",
       "2541  2021-04-15 00:00:00+00  ...  [\"Public Sewer\"]           NaN   \n",
       "547   2021-04-26 00:00:00+00  ...  [\"Public Sewer\"]           NaN   \n",
       "7903  2021-04-09 00:00:00+00  ...   [\"Septic Tank\"]           NaN   \n",
       "3277  2021-04-24 00:00:00+00  ...               NaN           NaN   \n",
       "1921  2020-12-03 00:00:00+00  ...  [\"Public Sewer\"]           NaN   \n",
       "1887  2021-01-10 00:00:00+00  ...  [\"Public Sewer\"]           NaN   \n",
       "1356  2021-04-26 00:00:00+00  ...  [\"Public Sewer\"]           NaN   \n",
       "693   2021-04-08 00:00:00+00  ...  [\"Public Sewer\"]           NaN   \n",
       "1049  2021-02-12 00:00:00+00  ...  [\"Public Sewer\"]           NaN   \n",
       "2112  2021-02-05 00:00:00+00  ...  [\"Public Sewer\"]           NaN   \n",
       "5327  2021-02-25 00:00:00+00  ...  [\"Public Sewer\"]           NaN   \n",
       "679   2021-04-07 00:00:00+00  ...  [\"Public Sewer\"]           NaN   \n",
       "5197  2021-04-19 00:00:00+00  ...  [\"Public Sewer\"]           NaN   \n",
       "3403  2021-03-17 00:00:00+00  ...  [\"Public Sewer\"]           NaN   \n",
       "\n",
       "                features_taxes             features_water features_amenities  \\\n",
       "id                                                                             \n",
       "5886     [\"$878\",\"Year: 2020\"]                 [\"Public\"]                NaN   \n",
       "6653   [\"$1,363\",\"Year: 2020\"]                 [\"Public\"]                NaN   \n",
       "1272  [\"$17,256\",\"Year: 2020\"]                 [\"Public\"]                NaN   \n",
       "5129       [\"$1\",\"Year: 2020\"]                 [\"Public\"]                NaN   \n",
       "5730   [\"$2,550\",\"Year: 2020\"]                 [\"Public\"]                NaN   \n",
       "6146                       NaN                        NaN                NaN   \n",
       "2541   [\"$1,555\",\"Year: 2020\"]                 [\"Public\"]                NaN   \n",
       "547    [\"$3,586\",\"Year: 2019\"]                 [\"Public\"]                NaN   \n",
       "7903   [\"$1,046\",\"Year: 2020\"]                 [\"Public\"]                NaN   \n",
       "3277   [\"$1,575\",\"Year: 2020\"]  [\"Lake: Lanier\",\"Public\"]                NaN   \n",
       "1921  [\"$25,284\",\"Year: 2018\"]                 [\"Public\"]                NaN   \n",
       "1887            [\"Year: 2021\"]                 [\"Public\"]                NaN   \n",
       "1356   [\"$6,285\",\"Year: 2020\"]                 [\"Public\"]                NaN   \n",
       "693    [\"$3,785\",\"Year: 2021\"]                 [\"Public\"]                NaN   \n",
       "1049   [\"$5,594\",\"Year: 2020\"]                 [\"Public\"]                NaN   \n",
       "2112            [\"Year: 2019\"]                 [\"Public\"]                NaN   \n",
       "5327   [\"$3,145\",\"Year: 2020\"]                 [\"Public\"]                NaN   \n",
       "679      [\"$356\",\"Year: 2019\"]                 [\"Public\"]                NaN   \n",
       "5197   [\"$2,252\",\"Year: 2020\"]                 [\"Public\"]                NaN   \n",
       "3403            [\"Year: 2020\"]                 [\"Public\"]                NaN   \n",
       "\n",
       "     features_disclosures                                 features_utilities  \\\n",
       "id                                                                             \n",
       "5886                  NaN  [\"Utilities available: Cable Available,Electri...   \n",
       "6653                  NaN  [\"Utilities available: Cable Available,Electri...   \n",
       "1272                  NaN  [\"Utilities available: Cable Available,Electri...   \n",
       "5129                  NaN  [\"Utilities available: Cable Available,Electri...   \n",
       "5730                  NaN  [\"Utilities available: Cable Available,Electri...   \n",
       "6146                  NaN                                                NaN   \n",
       "2541                  NaN  [\"Utilities available: Cable Available,Electri...   \n",
       "547                   NaN                                                NaN   \n",
       "7903                  NaN  [\"Utilities available: Cable Available,Electri...   \n",
       "3277                  NaN  [\"Utilities available: Cable Available,Electri...   \n",
       "1921                  NaN  [\"Utilities available: Cable Available,Electri...   \n",
       "1887                  NaN     [\"Utilities available: Underground Utilities\"]   \n",
       "1356                  NaN     [\"Utilities available: Underground Utilities\"]   \n",
       "693                   NaN  [\"Utilities available: Cable Available,Electri...   \n",
       "1049                  NaN  [\"Utilities available: Cable Available,Electri...   \n",
       "2112                  NaN  [\"Utilities available: Cable Available,Electri...   \n",
       "5327                  NaN  [\"Utilities available: Cable Available,Electri...   \n",
       "679                   NaN  [\"Utilities available: Cable Available,Electri...   \n",
       "5197                  NaN                                                NaN   \n",
       "3403                  NaN  [\"Utilities available: Cable Available,Electri...   \n",
       "\n",
       "      features_windows_and_doors  \\\n",
       "id                                 \n",
       "5886                         NaN   \n",
       "6653                         NaN   \n",
       "1272                         NaN   \n",
       "5129                         NaN   \n",
       "5730                         NaN   \n",
       "6146                         NaN   \n",
       "2541                         NaN   \n",
       "547                          NaN   \n",
       "7903                         NaN   \n",
       "3277                         NaN   \n",
       "1921                         NaN   \n",
       "1887                         NaN   \n",
       "1356                         NaN   \n",
       "693                          NaN   \n",
       "1049                         NaN   \n",
       "2112                         NaN   \n",
       "5327                         NaN   \n",
       "679                          NaN   \n",
       "5197                         NaN   \n",
       "3403                         NaN   \n",
       "\n",
       "                                          xf_attributes  \\\n",
       "id                                                        \n",
       "5886  {\"xf_city\":\"Woodstock\",\"xf_dock\":[\"None\"],\"xf_...   \n",
       "6653  {\"xf_city\":\"Suwanee\",\"xf_roof\":[\"Composition\",...   \n",
       "1272  {\"xf_city\":\"Braselton\",\"xf_roof\":[\"Composition...   \n",
       "5129  {\"xf_city\":\"Marietta\",\"xf_dock\":[\"None\"],\"xf_r...   \n",
       "5730  {\"xf_city\":\"Lawrenceville\",\"xf_roof\":[\"Composi...   \n",
       "6146                                                 {}   \n",
       "2541  {\"xf_city\":\"Atlanta\",\"xf_dock\":[\"None\"],\"xf_ro...   \n",
       "547   {\"xf_city\":\"Atlanta\",\"xf_dock\":[\"None\"],\"xf_ro...   \n",
       "7903  {\"xf_city\":\"Dacula\",\"xf_dock\":[\"None\"],\"xf_roo...   \n",
       "3277  {\"xf_city\":\"Dawsonville\",\"xf_dock\":[\"None\"],\"x...   \n",
       "1921  {\"xf_city\":\"Atlanta\",\"xf_roof\":[\"Other\"],\"xf_v...   \n",
       "1887  {\"xf_city\":\"Acworth\",\"xf_dock\":[\"None\"],\"xf_ro...   \n",
       "1356  {\"xf_city\":\"Suwanee\",\"xf_roof\":[\"Composition\",...   \n",
       "693   {\"xf_city\":\"Atlanta\",\"xf_dock\":[\"None\"],\"xf_ro...   \n",
       "1049  {\"xf_city\":\"Sandy Springs\",\"xf_dock\":[\"None\"],...   \n",
       "2112  {\"xf_city\":\"Kennesaw\",\"xf_dock\":[\"None\"],\"xf_r...   \n",
       "5327  {\"xf_city\":\"Atlanta\",\"xf_dock\":[\"None\"],\"xf_ro...   \n",
       "679   {\"xf_city\":\"Atlanta\",\"xf_dock\":[\"None\"],\"xf_ro...   \n",
       "5197  {\"xf_city\":\"Decatur\",\"xf_dock\":[\"None\"],\"xf_ro...   \n",
       "3403  {\"xf_city\":\"Atlanta\",\"xf_dock\":[\"None\"],\"xf_ro...   \n",
       "\n",
       "                                             photo_urls  \n",
       "id                                                       \n",
       "5886  [\"https://listing-images.homejunction.com/fmls...  \n",
       "6653  [\"https://listing-images.homejunction.com/fmls...  \n",
       "1272  [\"https://listing-images.homejunction.com/fmls...  \n",
       "5129  [\"https://listing-images.homejunction.com/fmls...  \n",
       "5730  [\"https://listing-images.homejunction.com/fmls...  \n",
       "6146  [\"https://opendoor.imgix.net/https%3A%2F%2Flis...  \n",
       "2541  [\"https://listing-images.homejunction.com/fmls...  \n",
       "547   [\"https://listing-images.homejunction.com/fmls...  \n",
       "7903  [\"https://listing-images.homejunction.com/fmls...  \n",
       "3277  [\"https://listing-images.homejunction.com/fmls...  \n",
       "1921  [\"https://listing-images.homejunction.com/fmls...  \n",
       "1887  [\"https://listing-images.homejunction.com/fmls...  \n",
       "1356  [\"https://listing-images.homejunction.com/fmls...  \n",
       "693   [\"https://listing-images.homejunction.com/fmls...  \n",
       "1049  [\"https://listing-images.homejunction.com/fmls...  \n",
       "2112  [\"https://listing-images.homejunction.com/fmls...  \n",
       "5327  [\"https://listing-images.homejunction.com/fmls...  \n",
       "679   [\"https://listing-images.homejunction.com/fmls...  \n",
       "5197  [\"https://listing-images.homejunction.com/fmls...  \n",
       "3403  [\"https://listing-images.homejunction.com/fmls...  \n",
       "\n",
       "[20 rows x 59 columns]"
      ]
     },
     "execution_count": 4,
     "metadata": {},
     "output_type": "execute_result"
    }
   ],
   "source": [
    "df.sample(20)"
   ]
  },
  {
   "cell_type": "code",
   "execution_count": 5,
   "id": "50211fc3-e926-4fe7-9aaf-041c759c504a",
   "metadata": {},
   "outputs": [
    {
     "data": {
      "text/plain": [
       "id\n",
       "1                           NaN\n",
       "2                [\"Year: 2020\"]\n",
       "3       [\"$2,924\",\"Year: 2020\"]\n",
       "4       [\"$4,256\",\"Year: 2020\"]\n",
       "5       [\"$2,838\",\"Year: 2019\"]\n",
       "                 ...           \n",
       "8164    [\"$3,139\",\"Year: 2019\"]\n",
       "8165    [\"$2,891\",\"Year: 2020\"]\n",
       "8166    [\"$2,006\",\"Year: 2018\"]\n",
       "8167    [\"$1,628\",\"Year: 2020\"]\n",
       "8168      [\"$175\",\"Year: 2020\"]\n",
       "Name: features_taxes, Length: 8168, dtype: object"
      ]
     },
     "execution_count": 5,
     "metadata": {},
     "output_type": "execute_result"
    }
   ],
   "source": [
    "df['features_taxes']"
   ]
  },
  {
   "cell_type": "code",
   "execution_count": 6,
   "id": "d86ce08d-15ee-4422-acbf-83f36b353297",
   "metadata": {},
   "outputs": [
    {
     "data": {
      "text/plain": [
       "array([nan, '[\"Composition\"]', '[\"Composition\",\"Shingle\"]',\n",
       "       '[\"Shingle\",\"Tar/Gravel\"]', '[\"Shingle\"]',\n",
       "       '[\"Composition\",\"Ridge Vents\",\"Shingle\"]',\n",
       "       '[\"Composition\",\"Metal\",\"Ridge Vents\"]',\n",
       "       '[\"Composition\",\"Shingle\",\"Tar/Gravel\"]', '[\"Concrete\"]',\n",
       "       '[\"Metal\"]', '[\"Composition\",\"Metal\"]', '[\"Slate\"]',\n",
       "       '[\"Composition\",\"Ridge Vents\"]', '[\"Tar/Gravel\"]', '[\"Tile\"]',\n",
       "       '[\"Metal\",\"Shingle\"]', '[\"Wood\"]', '[\"Metal\",\"Slate\"]',\n",
       "       '[\"Ridge Vents\",\"Shingle\"]', '[\"Copper\"]', '[\"Shingle\",\"Wood\"]',\n",
       "       '[\"Composition\",\"Tar/Gravel\"]',\n",
       "       '[\"Composition\",\"Metal\",\"Shingle\"]', '[\"Composition\",\"Wood\"]',\n",
       "       '[\"Composition\",\"Copper\",\"Ridge Vents\"]',\n",
       "       '[\"Ridge Vents\",\"Composition\"]', '[\"Composition\",\"Concrete\"]',\n",
       "       '[\"Composition\",\"Metal\",\"Ridge Vents\",\"Shingle\"]',\n",
       "       '[\"Composition\",\"Slate\"]', '[\"Shingle\",\"Composition\"]',\n",
       "       '[\"Ridge Vents\"]', '[\"Concrete\",\"Tar/Gravel\"]',\n",
       "       '[\"Metal\",\"Ridge Vents\"]', '[\"Metal\",\"Ridge Vents\",\"Shingle\"]',\n",
       "       '[\"Concrete\",\"Shingle\"]', '[\"Green Roof\"]',\n",
       "       '[\"Composition\",\"Concrete\",\"Shingle\"]', '[\"Green Roof\",\"Metal\"]',\n",
       "       '[\"Concrete\",\"Ridge Vents\"]', '[\"Ridge Vents\",\"Wood\"]',\n",
       "       '[\"Composition\",\"Copper\",\"Shingle\"]',\n",
       "       '[\"Composition\",\"Shingle\",\"Tile\"]', '[\"Copper\",\"Slate\"]',\n",
       "       '[\"Green Roof\",\"Shingle\"]',\n",
       "       '[\"Composition\",\"Ridge Vents\",\"Shingle\",\"Slate\"]',\n",
       "       '[\"Concrete\",\"Metal\"]', '[\"Composition\",\"Shingle\",\"Wood\"]',\n",
       "       '[\"Copper\",\"Shingle\"]', '[\"Metal\",\"Ridge Vents\",\"Wood\"]',\n",
       "       '[\"Shingle\",\"Slate\"]', '[\"Shingle\",\"Tile\"]',\n",
       "       '[\"Ridge Vents\",\"Slate\",\"Wood\"]', '[\"Metal\",\"Shingle\",\"Wood\"]'],\n",
       "      dtype=object)"
      ]
     },
     "execution_count": 6,
     "metadata": {},
     "output_type": "execute_result"
    }
   ],
   "source": [
    "df['features_roof'].unique()"
   ]
  },
  {
   "cell_type": "code",
   "execution_count": 7,
   "id": "fbf4a4fc-35f1-4ea3-9e52-86d55f31354e",
   "metadata": {},
   "outputs": [
    {
     "data": {
      "text/plain": [
       "array(['single family home', 'Townhouse', 'Single Family Residence',\n",
       "       'Condominium', 'townhouse', 'condo'], dtype=object)"
      ]
     },
     "execution_count": 7,
     "metadata": {},
     "output_type": "execute_result"
    }
   ],
   "source": [
    "df['property_type'].unique()"
   ]
  },
  {
   "cell_type": "code",
   "execution_count": 8,
   "id": "64db3d43-f570-4f11-8afa-f62c09ea7139",
   "metadata": {},
   "outputs": [
    {
     "data": {
      "text/plain": [
       "array([nan, '1', '5th', '17', '8', '-', '14th', '14', '4', '5', '1747',\n",
       "       '3', '7', '6th', '15', '45', '17th', '18', '0', '13', '99', '16',\n",
       "       '13TH', '15Th', '15TH', '419', '18th', '10', '12', '50', '7th',\n",
       "       '3RD', '9', '21', '22', '2nd', '73', '2', 'x', '55', '9F', '6',\n",
       "       '20', '11', '61', 'na', '110', '80', '151', '3rd', '1st', '5TH',\n",
       "       '19', '16th', '10th', '16TH', '15th', '6TH', '23/3', '1-ST',\n",
       "       '9999', '2ND', '18TH', '7TH', '14FF', '05W', '25', '5453', '17TH',\n",
       "       '\\\\', '70', 'Cent', '227', '19th', '8th', '00/00', '13022', '247',\n",
       "       '24', '.', '4th', '1ST', '23', '13s', '13S', 'XX', 'GM', '59',\n",
       "       'GMD', '35', '23rd', '57', '14TH', '51', 'X', '8TH', '--', '14H',\n",
       "       '28', '`', '83', '4TH', '26', '20th', '245', '14F', '21st', '12th',\n",
       "       '243', '26TH', '13th', 'Dougl', '29TH', '11th', '316', '213', 'O',\n",
       "       '999', 'm', '20TH', 'Flowe', 'first', 'B', '121', '161', '112',\n",
       "       '0ST', '30', '1749', 'TBD', '1744', '92', '0XX04', '6A', 'Na',\n",
       "       '05T', '2, 14', 'Gwinn', '19TH', '244', '91', '90', '63', '11TH',\n",
       "       '22nd', '104', '9th', '27', '14-Mar', '156', '65', '1765', '99999',\n",
       "       '480', '113', '1-May', '261', '255', '56', '05S', 'Cobb', 'o', 'A',\n",
       "       '120', 'N/A.', 'Un', '6b', '31', '82', '1587', '135', '13028',\n",
       "       '-16th', '1-Dec', '024A', '465'], dtype=object)"
      ]
     },
     "execution_count": 8,
     "metadata": {},
     "output_type": "execute_result"
    }
   ],
   "source": [
    "df['school_district'].unique()"
   ]
  },
  {
   "attachments": {
    "2b65dab0-686a-4db8-91c7-2855f58d6712.png": {
     "image/png": "[encoded data removed]"
    }
   },
   "cell_type": "markdown",
   "id": "3232a46e-fda8-4038-a0c8-39ee951718c2",
   "metadata": {},
   "source": [
    "## Cleaning the data \n",
    "\n",
    "After reviewing the entire data table and specfic unique values of every column, I started pre-processing with self-inputs for houses. Since `features_*` is a bit complicated and unpatterned, several of features columns are left not cleaned and couldn't be used for running analysis for now. \n",
    "\n",
    "For `school_district`, I planed to clear out letters and keep only reasonal and valid numbers for visualization and futher analysis. But then, I realized that some of the entries, e.g. **Dougl**, **Flowe**, **Gwin**, **GM**, **Cobb**, **Cent** might atually means the school disticts. I did some research to find the source of this dataset and also Atlanta's public school districts. However, lacking with district and number mapping-table, I'm afraid to include those. \n",
    "\n",
    "Some of those might be a typo, so I'm also curious how the data was collected at the first place: electronic or hand-written (then elec recognized?). \n",
    "![Screen Shot 2021-07-12 at 5.50.27 PM.png](attachment:2b65dab0-686a-4db8-91c7-2855f58d6712.png)\n",
    "\n",
    "> I did find Atlanta districts of Cherokee, Clayton, **Cobb**, DeKalb, *Douglas*, Fulton, **Gwinnett**, Henry, Newton and Rockdale. \n",
    "\n",
    "For `property_type`, change different values to only `Townhouse, Single Family Residence, conda`. \n",
    "\n",
    "For `bath`, combine full bath counts with half-bath to create a separate new column for analysis. "
   ]
  },
  {
   "cell_type": "code",
   "execution_count": 9,
   "id": "50bcce5d-0f6c-43d7-bb6c-06b3f1b89940",
   "metadata": {},
   "outputs": [
    {
     "data": {
      "text/plain": [
       "3880"
      ]
     },
     "execution_count": 9,
     "metadata": {},
     "output_type": "execute_result"
    }
   ],
   "source": [
    "df['school_district'].isnull().sum()"
   ]
  },
  {
   "cell_type": "code",
   "execution_count": 10,
   "id": "9d5262ee-c8d0-4b5e-9ec0-07ae534ec6c5",
   "metadata": {},
   "outputs": [
    {
     "data": {
      "text/plain": [
       "id\n",
       "1       NaN\n",
       "2         1\n",
       "3         5\n",
       "4         1\n",
       "5         1\n",
       "       ... \n",
       "8164    NaN\n",
       "8165    NaN\n",
       "8166     14\n",
       "8167    NaN\n",
       "8168    NaN\n",
       "Name: school_district, Length: 8168, dtype: object"
      ]
     },
     "execution_count": 10,
     "metadata": {},
     "output_type": "execute_result"
    }
   ],
   "source": [
    "# bath\n",
    "df['bath'] = df['baths_full'] + df['baths_half']*0.5\n",
    "\n",
    "# modity property_type\n",
    "df['property_type'] = df['property_type'].replace({'single family home': 'Single Family Residence', 'townhouse': 'Townhouse', 'Condominium': 'condo'}, regex=True)\n",
    "\n",
    "# clear nth or st words of school_district\n",
    "df['school_district']= df['school_district'].astype(str).map(lambda x: re.sub(\"[^0-9]\", '', x))\n",
    "df['school_district'] = df['school_district'].map(lambda x: x.strip('0/xXAoOF-9')).replace(r'^\\s*$', np.nan, regex=True)\n",
    "df['school_district']"
   ]
  },
  {
   "cell_type": "code",
   "execution_count": 11,
   "id": "88e956ce-7c46-4e48-94fe-1052bf2320ad",
   "metadata": {},
   "outputs": [
    {
     "name": "stdout",
     "output_type": "stream",
     "text": [
      "id\n",
      "1                                          NaN\n",
      "2     [\"In Hall\",\"Laundry Room\",\"Upper Floor\"]\n",
      "3                                          NaN\n",
      "4                                          NaN\n",
      "5                              [\"In Basement\"]\n",
      "6                              [\"Lower Level\"]\n",
      "7                             [\"Laundry Room\"]\n",
      "8                              [\"In Basement\"]\n",
      "9                                [\"In Garage\"]\n",
      "10                                         NaN\n",
      "11                                 [\"In Hall\"]\n",
      "12                              [\"In Kitchen\"]\n",
      "13               [\"Laundry Room\",\"Main Level\"]\n",
      "14              [\"Laundry Room\",\"Lower Level\"]\n",
      "15               [\"Laundry Room\",\"Main Level\"]\n",
      "16                                         NaN\n",
      "17                                         NaN\n",
      "18                                         NaN\n",
      "19                   [\"In Hall\",\"Upper Floor\"]\n",
      "20                                         NaN\n",
      "Name: features_laundry, dtype: object\n"
     ]
    }
   ],
   "source": [
    "print(df['features_laundry'].head(20))\n",
    "df['laundry'] = df['features_laundry'].map(lambda x: 0 if x is np.nan else 1)\n",
    "df['parking'] = df['features_parking'].map(lambda x: 0 if x is np.nan else 1)"
   ]
  },
  {
   "cell_type": "code",
   "execution_count": 12,
   "id": "e5461977-89cc-4650-a5a4-233f5bbc7691",
   "metadata": {},
   "outputs": [
    {
     "name": "stdout",
     "output_type": "stream",
     "text": [
      "[nan '[\"Public\"]' '[\"Lake: Other\",\"Public\"]'\n",
      " '[\"Lake: Allatoona\",\"Public\"]' '[\"Waterfront Footage: 500\",\"Well\"]'\n",
      " '[\"Lake: Lanier\",\"Public\"]' '[\"Well\"]' '[\"Private\"]'\n",
      " '[\"Lake: Lanier\",\"Waterfront Footage: 50\",\"Public\"]'\n",
      " '[\"Lake: Oconee\",\"Public\"]' '[\"Lake: Arrowhead\",\"Private\"]'\n",
      " '[\"Lake: Lanier\",\"Waterfront Footage: 85\",\"Public\"]'\n",
      " '[\"Lake: Lanier\",\"Well\"]' '[\"Lake: Nottely\",\"Public\"]'\n",
      " '[\"Lake: Lanier\",\"Waterfront Footage: 77\",\"Public\"]'\n",
      " '[\"Lake: Other\",\"Waterfront Footage: 180\",\"Well\"]'\n",
      " '[\"Lake: Sinclair\",\"Waterfront Footage: 350\",\"Public\"]'\n",
      " '[\"Lake: Lanier\",\"Waterfront Footage: 300\",\"Public\"]'\n",
      " '[\"Lake: Other\",\"Waterfront Footage: 217\",\"Public\"]'\n",
      " '[\"Lake: Berkeley Lake\",\"Public\"]'\n",
      " '[\"Lake: Lanier\",\"Waterfront Footage: 400\",\"Public\"]'\n",
      " '[\"Lake: Lanier\",\"Waterfront Footage: 207\",\"Public\"]'\n",
      " '[\"Waterfront Footage: 160\",\"Public\"]'\n",
      " '[\"Waterfront Footage: 1\",\"Public\"]' '[\"Lake: Norris\",\"Public\"]'\n",
      " '[\"Lake: Hartwell\",\"Public\"]'\n",
      " '[\"Lake: Jackson\",\"Waterfront Footage: 106\",\"Public\"]'\n",
      " '[\"Lake: Lanier\",\"Waterfront Footage: 204\",\"Public\"]'\n",
      " '[\"Lake: Other\",\"Waterfront Footage: 500\",\"Public\"]'\n",
      " '[\"Lake: Hartwell\",\"Waterfront Footage: 240\",\"Private\"]'\n",
      " '[\"Lake: Allatoona\",\"Waterfront Footage: 1\",\"Public\"]'\n",
      " '[\"Lake: Nottely\",\"Waterfront Footage: 114\",\"Public\"]'\n",
      " '[\"Lake: Jackson\",\"Waterfront Footage: 75\",\"Private\"]'\n",
      " '[\"Lake: Burton\",\"Well\"]' '[\"Lake: Other\",\"Private\"]'\n",
      " '[\"Waterfront Footage: 330\",\"Public\"]'\n",
      " '[\"Lake: Lanier\",\"Waterfront Footage: 107\",\"Public\"]'\n",
      " '[\"Lake: Lanier\",\"Waterfront Footage: 110\",\"Public\"]'\n",
      " '[\"Waterfront Footage: 86\",\"Public\"]' '[\"Lake: Arrowhead\",\"Public\"]'\n",
      " '[\"Lake: Lanier\",\"Waterfront Footage: 542\"]'\n",
      " '[\"Lake: Windward\",\"Public\"]' '[\"Waterfront Footage: 210\",\"Well\"]'\n",
      " '[\"Waterfront Footage: 120\",\"Private\"]' '[\"Lake: Lanier\",\"Private\"]'\n",
      " '[\"Lake: Other\",\"Waterfront Footage: 850\",\"Well\"]'\n",
      " '[\"Lake: Other\",\"Waterfront Footage: 127\"]'\n",
      " '[\"Waterfront Footage: 144\",\"Public\"]'\n",
      " '[\"Lake: Lanier\",\"Waterfront Footage: 650\",\"Public\"]'\n",
      " '[\"Lake: Other\",\"Waterfront Footage: 240\",\"Public\"]'\n",
      " '[\"Lake: Lanier\",\"Waterfront Footage: 50\",\"Well\"]'\n",
      " '[\"Lake: Allatoona\",\"Well\"]'\n",
      " '[\"Lake: Other\",\"Waterfront Footage: 248\",\"Well\"]'\n",
      " '[\"Waterfront Footage: 180\",\"Public\"]'\n",
      " '[\"Lake: Lanier\",\"Waterfront Footage: 124\",\"Public\"]'\n",
      " '[\"Lake: Lanier\",\"Waterfront Footage: 78\",\"Well\"]'\n",
      " '[\"Lake: Nottely\",\"Well\"]'\n",
      " '[\"Lake: Lanier\",\"Waterfront Footage: 200\",\"Public\"]'\n",
      " '[\"Lake: Carters\",\"Well\"]'\n",
      " '[\"Lake: Lanier\",\"Waterfront Footage: 92\",\"Public\"]'\n",
      " '[\"Lake: Lanier\",\"Waterfront Footage: 550\",\"Public\"]'\n",
      " '[\"Lake: Berkeley Lake\",\"Waterfront Footage: 213\",\"Public\"]'\n",
      " '[\"Waterfront Footage: 1,988\"]'\n",
      " '[\"Lake: Other\",\"Waterfront Footage: 100\",\"Well\"]'\n",
      " '[\"Lake: Blue Ridge\",\"Public\"]'\n",
      " '[\"Lake: Lanier\",\"Waterfront Footage: 226\",\"Public\"]'\n",
      " '[\"Lake: Other\",\"Waterfront Footage: 1,000\",\"Public\"]'\n",
      " '[\"Waterfront Footage: 200\",\"Public\"]'\n",
      " '[\"Waterfront Footage: 400\",\"Public\"]'\n",
      " '[\"Lake: Allatoona\",\"Waterfront Footage: 100\",\"Well\"]'\n",
      " '[\"Waterfront Footage: 1\",\"Well\"]' '[\"Waterfront Footage: 250\",\"Well\"]'\n",
      " '[\"Lake: Norris\",\"Waterfront Footage: 200\",\"Public\"]'\n",
      " '[\"Waterfront Footage: 59\",\"Public\"]' '[\"Lake: Oconee\",\"Private\"]'\n",
      " '[\"Waterfront Footage: 100\",\"Well\"]'\n",
      " '[\"Lake: Other\",\"Waterfront Footage: 410\",\"Well\"]'\n",
      " '[\"Waterfront Footage: 5,000\",\"Public\"]'\n",
      " '[\"Lake: Other\",\"Waterfront Footage: 139\",\"Public\"]'\n",
      " '[\"Lake: Chatuge\",\"Waterfront Footage: 100\",\"Public\"]'\n",
      " '[\"Lake: Lanier\",\"Waterfront Footage: 140\",\"Public\"]'\n",
      " '[\"Lake: Allatoona\",\"Waterfront Footage: 171\",\"Public\"]'\n",
      " '[\"Lake: Lanier\",\"Waterfront Footage: 156\",\"Public\"]'\n",
      " '[\"Lake: Hartwell\",\"Waterfront Footage: 117\",\"Public\"]'\n",
      " '[\"Lake: Other\",\"Waterfront Footage: 200\",\"Public\"]'\n",
      " '[\"Lake: Other\",\"Waterfront Footage: 530\",\"Public\"]'\n",
      " '[\"Lake: Jackson\",\"Waterfront Footage: 322\",\"Public\"]'\n",
      " '[\"Lake: Sinclair\",\"Waterfront Footage: 50\",\"Public\"]'\n",
      " '[\"Waterfront Footage: 4,800\",\"Well\"]'\n",
      " '[\"Lake: Lanier\",\"Waterfront Footage: 80\",\"Public\"]'\n",
      " '[\"Lake: Lanier\",\"Waterfront Footage: 57\",\"Well\"]'\n",
      " '[\"Lake: Blue Ridge\",\"Waterfront Footage: 130\",\"Public\"]'\n",
      " '[\"Lake: Oconee\",\"Waterfront Footage: 325\"]'\n",
      " '[\"Lake: Oconee\",\"Waterfront Footage: 80\",\"Public\"]'\n",
      " '[\"Waterfront Footage: 1,200\",\"Well\"]'\n",
      " '[\"Lake: Lanier\",\"Waterfront Footage: 900\",\"Well\"]'\n",
      " '[\"Lake: Lanier\",\"Waterfront Footage: 304\",\"Public\"]'\n",
      " '[\"Lake: Lanier\",\"Waterfront Footage: 100\",\"Well\"]'\n",
      " '[\"Lake: Lanier\",\"Waterfront Footage: 100\",\"Public\"]'\n",
      " '[\"Waterfront Footage: 9\",\"Public\"]'\n",
      " '[\"Lake: Lanier\",\"Waterfront Footage: 150\",\"Public\"]'\n",
      " '[\"Lake: Lanier\",\"Waterfront Footage: 6\",\"Well\"]'\n",
      " '[\"Lake: Lanier\",\"Waterfront Footage: 450\",\"Public\"]'\n",
      " '[\"Lake: Oconee\",\"Well\"]'\n",
      " '[\"Lake: Other\",\"Waterfront Footage: 675\",\"Public\"]'\n",
      " '[\"Lake: Blackshear\",\"Public\"]'\n",
      " '[\"Lake: Hartwell\",\"Waterfront Footage: 150\",\"Public\"]'\n",
      " '[\"Waterfront Footage: 27\",\"Public\"]'\n",
      " '[\"Lake: Weiss\",\"Waterfront Footage: 100\",\"Well\"]'\n",
      " '[\"Waterfront Footage: 100\",\"Public\"]' '[\"Lake: Other\",\"Well\"]'\n",
      " '[\"Lake: Lanier\",\"Waterfront Footage: 137\",\"Public\"]'\n",
      " '[\"Lake: Hartwell\",\"Waterfront Footage: 100\",\"Public\"]'\n",
      " '[\"Lake: Arrowhead\",\"Waterfront Footage: 199\",\"Private\"]'\n",
      " '[\"Waterfront Footage: 71\",\"Public\"]'\n",
      " '[\"Lake: Lanier\",\"Waterfront Footage: 50\",\"Private\"]'\n",
      " '[\"Waterfront Footage: 99,999\",\"Public\"]'\n",
      " '[\"Lake: Hartwell\",\"Waterfront Footage: 50\"]' '[\"Lake: Swan\",\"Public\"]'\n",
      " '[\"Lake: Allatoona\",\"Waterfront Footage: 184\",\"Public\"]'\n",
      " '[\"Lake: Hartwell\",\"Waterfront Footage: 200\",\"Public\"]'\n",
      " '[\"Lake: Lanier\",\"Waterfront Footage: 163\",\"Public\"]'\n",
      " '[\"Lake: Other\",\"Waterfront Footage: 194\",\"Public\"]'\n",
      " '[\"Lake: Other\",\"Waterfront Footage: 100\",\"Public\"]'\n",
      " '[\"Lake: Lanier\",\"Waterfront Footage: 215\",\"Public\"]'\n",
      " '[\"Lake: Lanier\",\"Waterfront Footage: 2,740\",\"Public\"]'\n",
      " '[\"Waterfront Footage: 230\",\"Public\"]'\n",
      " '[\"Lake: Lanier\",\"Waterfront Footage: 66\",\"Public\"]'\n",
      " '[\"Waterfront Footage: 2\",\"Public\"]'\n",
      " '[\"Lake: Lanier\",\"Waterfront Footage: 90\",\"Public\"]'\n",
      " '[\"Lake: Jackson\",\"Waterfront Footage: 95\",\"Public\"]'\n",
      " '[\"Waterfront Footage: 119\",\"Public\"]'\n",
      " '[\"Lake: Hartwell\",\"Waterfront Footage: 150\",\"Well\"]'\n",
      " '[\"Lake: Other\",\"Waterfront Footage: 1\",\"Public\"]'\n",
      " '[\"Lake: Other\",\"Waterfront Footage: 135\",\"Private\"]'\n",
      " '[\"Lake: Lanier\",\"Waterfront Footage: 197\",\"Public\"]'\n",
      " '[\"Lake: Lanier\",\"Waterfront Footage: 165\",\"Well\"]'\n",
      " '[\"Waterfront Footage: 136\",\"Public\"]'\n",
      " '[\"Lake: Arrowhead\",\"Waterfront Footage: 175\",\"Public\"]'\n",
      " '[\"Waterfront Footage: 500\",\"Public\"]'\n",
      " '[\"Lake: Other\",\"Waterfront Footage: 900\",\"Public\"]'\n",
      " '[\"Lake: Lanier\",\"Waterfront Footage: 102\",\"Public\"]'\n",
      " '[\"Waterfront Footage: 400\",\"Private\"]' '[\"Lake: Jackson\",\"Public\"]'\n",
      " '[\"Waterfront Footage: 388\",\"Private\"]'\n",
      " '[\"Lake: Other\",\"Waterfront Footage: 180\",\"Public\"]'\n",
      " '[\"Lake: Lanier\",\"Waterfront Footage: 1\",\"Public\"]'\n",
      " '[\"Waterfront Footage: 253\",\"Private\"]']\n"
     ]
    }
   ],
   "source": [
    "print(df['features_water'].unique())\n",
    "df['water'] = df['features_water'].map(lambda x: x.strip('[\\\"]') if x is not np.nan else x)\n",
    "df['water'] = df['water'].replace(regex=r'^Lake:.*', value='Lake')\n",
    "df['water'] = df['water'].replace(regex=r'^Waterfront Footage:.*', value='Waterfront')\n",
    "\n",
    "df['sewer'] = df['features_sewer'].map(lambda x: x.strip('[\\\"]') if x is not np.nan else x)\n",
    "df['sewer'] = df['sewer'].replace({'Public Sewer\",\"Septic Tank': 'Septic & Public Sewer', 'Septic Tank\",\"Public Sewer': 'Septic & Public Sewer'})\n",
    "\n",
    "df['garage'] = df['features_garage'].map(lambda x: re.sub(\"[^0-9]\", '', x) if x is not np.nan else x\n",
    "                                        ).replace(r'^\\s*$', 0, regex=True).astype(float)\n",
    "\n",
    "df['pool'] = df['features_pool'].replace('[\"None\"]', '[]').replace('[]', np.nan)\n",
    "df['pool'] = df['pool'].map(lambda x: 0 if x is np.nan else 1)"
   ]
  },
  {
   "cell_type": "code",
   "execution_count": 13,
   "id": "2099c5d7-1194-4d2d-bb38-47202b96e860",
   "metadata": {},
   "outputs": [],
   "source": [
    "def price(input_str):\n",
    "    if input_str is np.nan: \n",
    "        return np.nan\n",
    "\n",
    "    match = re.search('(?:[\\$]{1}[,\\d]+\\.?\\d*)', input_str)\n",
    "    if match:\n",
    "        return match.group(0)[1:].replace(',', '')\n",
    "    else:\n",
    "        return ''\n",
    "\n",
    "df['install'] = df['features_fees'].map(price).replace(r'^\\s*$', 0, regex=True).astype(float)"
   ]
  },
  {
   "cell_type": "code",
   "execution_count": 14,
   "id": "4085f6d5-4f39-4bf1-9736-b0f7af1ee7db",
   "metadata": {},
   "outputs": [
    {
     "data": {
      "text/html": [
       "<div>\n",
       "<style scoped>\n",
       "    .dataframe tbody tr th:only-of-type {\n",
       "        vertical-align: middle;\n",
       "    }\n",
       "\n",
       "    .dataframe tbody tr th {\n",
       "        vertical-align: top;\n",
       "    }\n",
       "\n",
       "    .dataframe thead th {\n",
       "        text-align: right;\n",
       "    }\n",
       "</style>\n",
       "<table border=\"1\" class=\"dataframe\">\n",
       "  <thead>\n",
       "    <tr style=\"text-align: right;\">\n",
       "      <th></th>\n",
       "      <th>list_price</th>\n",
       "      <th>listing_date</th>\n",
       "      <th>beds</th>\n",
       "      <th>bath</th>\n",
       "      <th>year_built</th>\n",
       "      <th>sqft</th>\n",
       "      <th>lotsize_sqft</th>\n",
       "      <th>install</th>\n",
       "      <th>water</th>\n",
       "      <th>sewer</th>\n",
       "      <th>pool</th>\n",
       "      <th>garage</th>\n",
       "      <th>parking</th>\n",
       "      <th>laundry</th>\n",
       "      <th>school_district</th>\n",
       "      <th>property_type</th>\n",
       "    </tr>\n",
       "    <tr>\n",
       "      <th>id</th>\n",
       "      <th></th>\n",
       "      <th></th>\n",
       "      <th></th>\n",
       "      <th></th>\n",
       "      <th></th>\n",
       "      <th></th>\n",
       "      <th></th>\n",
       "      <th></th>\n",
       "      <th></th>\n",
       "      <th></th>\n",
       "      <th></th>\n",
       "      <th></th>\n",
       "      <th></th>\n",
       "      <th></th>\n",
       "      <th></th>\n",
       "      <th></th>\n",
       "    </tr>\n",
       "  </thead>\n",
       "  <tbody>\n",
       "    <tr>\n",
       "      <th>1</th>\n",
       "      <td>271000</td>\n",
       "      <td>2021-04-19 04:00:00+00</td>\n",
       "      <td>4</td>\n",
       "      <td>2.0</td>\n",
       "      <td>1973</td>\n",
       "      <td>1880</td>\n",
       "      <td>13717.0</td>\n",
       "      <td>NaN</td>\n",
       "      <td>NaN</td>\n",
       "      <td>NaN</td>\n",
       "      <td>0</td>\n",
       "      <td>2.0</td>\n",
       "      <td>1</td>\n",
       "      <td>0</td>\n",
       "      <td>NaN</td>\n",
       "      <td>Single Family Residence</td>\n",
       "    </tr>\n",
       "    <tr>\n",
       "      <th>2</th>\n",
       "      <td>320443</td>\n",
       "      <td>2021-02-15 00:00:00+00</td>\n",
       "      <td>3</td>\n",
       "      <td>2.5</td>\n",
       "      <td>2021</td>\n",
       "      <td>1874</td>\n",
       "      <td>NaN</td>\n",
       "      <td>NaN</td>\n",
       "      <td>Public</td>\n",
       "      <td>Public Sewer</td>\n",
       "      <td>0</td>\n",
       "      <td>NaN</td>\n",
       "      <td>1</td>\n",
       "      <td>1</td>\n",
       "      <td>1</td>\n",
       "      <td>Townhouse</td>\n",
       "    </tr>\n",
       "    <tr>\n",
       "      <th>3</th>\n",
       "      <td>296000</td>\n",
       "      <td>2021-04-19 00:00:00+00</td>\n",
       "      <td>3</td>\n",
       "      <td>2.0</td>\n",
       "      <td>1996</td>\n",
       "      <td>1664</td>\n",
       "      <td>30056.0</td>\n",
       "      <td>NaN</td>\n",
       "      <td>Public</td>\n",
       "      <td>Septic Tank</td>\n",
       "      <td>0</td>\n",
       "      <td>NaN</td>\n",
       "      <td>1</td>\n",
       "      <td>0</td>\n",
       "      <td>5</td>\n",
       "      <td>Single Family Residence</td>\n",
       "    </tr>\n",
       "    <tr>\n",
       "      <th>4</th>\n",
       "      <td>315000</td>\n",
       "      <td>2021-01-22 00:00:00+00</td>\n",
       "      <td>4</td>\n",
       "      <td>2.5</td>\n",
       "      <td>1994</td>\n",
       "      <td>2212</td>\n",
       "      <td>15241.0</td>\n",
       "      <td>NaN</td>\n",
       "      <td>Public</td>\n",
       "      <td>Public Sewer</td>\n",
       "      <td>0</td>\n",
       "      <td>NaN</td>\n",
       "      <td>1</td>\n",
       "      <td>0</td>\n",
       "      <td>1</td>\n",
       "      <td>Single Family Residence</td>\n",
       "    </tr>\n",
       "    <tr>\n",
       "      <th>5</th>\n",
       "      <td>188800</td>\n",
       "      <td>2021-01-02 00:00:00+00</td>\n",
       "      <td>1</td>\n",
       "      <td>1.0</td>\n",
       "      <td>1962</td>\n",
       "      <td>722</td>\n",
       "      <td>723.0</td>\n",
       "      <td>NaN</td>\n",
       "      <td>Public</td>\n",
       "      <td>Public Sewer</td>\n",
       "      <td>0</td>\n",
       "      <td>NaN</td>\n",
       "      <td>0</td>\n",
       "      <td>1</td>\n",
       "      <td>1</td>\n",
       "      <td>condo</td>\n",
       "    </tr>\n",
       "    <tr>\n",
       "      <th>...</th>\n",
       "      <td>...</td>\n",
       "      <td>...</td>\n",
       "      <td>...</td>\n",
       "      <td>...</td>\n",
       "      <td>...</td>\n",
       "      <td>...</td>\n",
       "      <td>...</td>\n",
       "      <td>...</td>\n",
       "      <td>...</td>\n",
       "      <td>...</td>\n",
       "      <td>...</td>\n",
       "      <td>...</td>\n",
       "      <td>...</td>\n",
       "      <td>...</td>\n",
       "      <td>...</td>\n",
       "      <td>...</td>\n",
       "    </tr>\n",
       "    <tr>\n",
       "      <th>8164</th>\n",
       "      <td>379900</td>\n",
       "      <td>2021-02-23 00:00:00+00</td>\n",
       "      <td>3</td>\n",
       "      <td>2.0</td>\n",
       "      <td>1973</td>\n",
       "      <td>3500</td>\n",
       "      <td>13068.0</td>\n",
       "      <td>0.0</td>\n",
       "      <td>Public</td>\n",
       "      <td>Public Sewer</td>\n",
       "      <td>0</td>\n",
       "      <td>NaN</td>\n",
       "      <td>1</td>\n",
       "      <td>1</td>\n",
       "      <td>NaN</td>\n",
       "      <td>Single Family Residence</td>\n",
       "    </tr>\n",
       "    <tr>\n",
       "      <th>8165</th>\n",
       "      <td>389900</td>\n",
       "      <td>2021-02-08 00:00:00+00</td>\n",
       "      <td>3</td>\n",
       "      <td>2.0</td>\n",
       "      <td>1958</td>\n",
       "      <td>1893</td>\n",
       "      <td>13068.0</td>\n",
       "      <td>0.0</td>\n",
       "      <td>Public</td>\n",
       "      <td>Public Sewer</td>\n",
       "      <td>0</td>\n",
       "      <td>NaN</td>\n",
       "      <td>1</td>\n",
       "      <td>1</td>\n",
       "      <td>NaN</td>\n",
       "      <td>Single Family Residence</td>\n",
       "    </tr>\n",
       "    <tr>\n",
       "      <th>8166</th>\n",
       "      <td>350000</td>\n",
       "      <td>2020-12-01 00:00:00+00</td>\n",
       "      <td>4</td>\n",
       "      <td>2.5</td>\n",
       "      <td>1993</td>\n",
       "      <td>2017</td>\n",
       "      <td>383328.0</td>\n",
       "      <td>0.0</td>\n",
       "      <td>Public</td>\n",
       "      <td>Public Sewer</td>\n",
       "      <td>0</td>\n",
       "      <td>NaN</td>\n",
       "      <td>0</td>\n",
       "      <td>1</td>\n",
       "      <td>14</td>\n",
       "      <td>Single Family Residence</td>\n",
       "    </tr>\n",
       "    <tr>\n",
       "      <th>8167</th>\n",
       "      <td>354999</td>\n",
       "      <td>2021-02-21 00:00:00+00</td>\n",
       "      <td>3</td>\n",
       "      <td>2.0</td>\n",
       "      <td>1961</td>\n",
       "      <td>1196</td>\n",
       "      <td>15245.0</td>\n",
       "      <td>NaN</td>\n",
       "      <td>Public</td>\n",
       "      <td>Public Sewer</td>\n",
       "      <td>0</td>\n",
       "      <td>NaN</td>\n",
       "      <td>1</td>\n",
       "      <td>1</td>\n",
       "      <td>NaN</td>\n",
       "      <td>Single Family Residence</td>\n",
       "    </tr>\n",
       "    <tr>\n",
       "      <th>8168</th>\n",
       "      <td>383900</td>\n",
       "      <td>2021-02-08 00:00:00+00</td>\n",
       "      <td>4</td>\n",
       "      <td>2.5</td>\n",
       "      <td>2021</td>\n",
       "      <td>2650</td>\n",
       "      <td>49658.0</td>\n",
       "      <td>550.0</td>\n",
       "      <td>Public</td>\n",
       "      <td>Septic Tank</td>\n",
       "      <td>0</td>\n",
       "      <td>NaN</td>\n",
       "      <td>1</td>\n",
       "      <td>1</td>\n",
       "      <td>NaN</td>\n",
       "      <td>Single Family Residence</td>\n",
       "    </tr>\n",
       "  </tbody>\n",
       "</table>\n",
       "<p>8168 rows × 16 columns</p>\n",
       "</div>"
      ],
      "text/plain": [
       "      list_price            listing_date  beds  bath  year_built  sqft  \\\n",
       "id                                                                       \n",
       "1         271000  2021-04-19 04:00:00+00     4   2.0        1973  1880   \n",
       "2         320443  2021-02-15 00:00:00+00     3   2.5        2021  1874   \n",
       "3         296000  2021-04-19 00:00:00+00     3   2.0        1996  1664   \n",
       "4         315000  2021-01-22 00:00:00+00     4   2.5        1994  2212   \n",
       "5         188800  2021-01-02 00:00:00+00     1   1.0        1962   722   \n",
       "...          ...                     ...   ...   ...         ...   ...   \n",
       "8164      379900  2021-02-23 00:00:00+00     3   2.0        1973  3500   \n",
       "8165      389900  2021-02-08 00:00:00+00     3   2.0        1958  1893   \n",
       "8166      350000  2020-12-01 00:00:00+00     4   2.5        1993  2017   \n",
       "8167      354999  2021-02-21 00:00:00+00     3   2.0        1961  1196   \n",
       "8168      383900  2021-02-08 00:00:00+00     4   2.5        2021  2650   \n",
       "\n",
       "      lotsize_sqft  install   water         sewer  pool  garage  parking  \\\n",
       "id                                                                         \n",
       "1          13717.0      NaN     NaN           NaN     0     2.0        1   \n",
       "2              NaN      NaN  Public  Public Sewer     0     NaN        1   \n",
       "3          30056.0      NaN  Public   Septic Tank     0     NaN        1   \n",
       "4          15241.0      NaN  Public  Public Sewer     0     NaN        1   \n",
       "5            723.0      NaN  Public  Public Sewer     0     NaN        0   \n",
       "...            ...      ...     ...           ...   ...     ...      ...   \n",
       "8164       13068.0      0.0  Public  Public Sewer     0     NaN        1   \n",
       "8165       13068.0      0.0  Public  Public Sewer     0     NaN        1   \n",
       "8166      383328.0      0.0  Public  Public Sewer     0     NaN        0   \n",
       "8167       15245.0      NaN  Public  Public Sewer     0     NaN        1   \n",
       "8168       49658.0    550.0  Public   Septic Tank     0     NaN        1   \n",
       "\n",
       "      laundry school_district            property_type  \n",
       "id                                                      \n",
       "1           0             NaN  Single Family Residence  \n",
       "2           1               1                Townhouse  \n",
       "3           0               5  Single Family Residence  \n",
       "4           0               1  Single Family Residence  \n",
       "5           1               1                    condo  \n",
       "...       ...             ...                      ...  \n",
       "8164        1             NaN  Single Family Residence  \n",
       "8165        1             NaN  Single Family Residence  \n",
       "8166        1              14  Single Family Residence  \n",
       "8167        1             NaN  Single Family Residence  \n",
       "8168        1             NaN  Single Family Residence  \n",
       "\n",
       "[8168 rows x 16 columns]"
      ]
     },
     "execution_count": 14,
     "metadata": {},
     "output_type": "execute_result"
    }
   ],
   "source": [
    "features = ['list_price', 'listing_date', 'beds', 'bath', 'year_built', 'sqft', 'lotsize_sqft', 'install', 'water', 'sewer', 'pool', 'garage', 'parking', 'laundry', 'school_district', 'property_type']\n",
    "df[features]"
   ]
  },
  {
   "cell_type": "code",
   "execution_count": 15,
   "id": "4abf66a1-5060-4fec-9c52-ec1d4870ed22",
   "metadata": {},
   "outputs": [
    {
     "data": {
      "image/png": "[encoded data removed]",
      "text/plain": [
       "<Figure size 432x288 with 1 Axes>"
      ]
     },
     "metadata": {
      "needs_background": "light"
     },
     "output_type": "display_data"
    }
   ],
   "source": [
    "na_df = df[features].isnull().sum()\n",
    "na_df = na_df[na_df > 0]\n",
    "na_df.sort_values(inplace=True)\n",
    "na_df.plot.bar()\n",
    "plt.title(\"Missing Variables\")\n",
    "plt.show()"
   ]
  },
  {
   "cell_type": "code",
   "execution_count": 16,
   "id": "5620d079-2a55-4069-a631-c55db185e119",
   "metadata": {},
   "outputs": [
    {
     "data": {
      "text/plain": [
       "<AxesSubplot:>"
      ]
     },
     "execution_count": 16,
     "metadata": {},
     "output_type": "execute_result"
    },
    {
     "data": {
      "image/png": "[encoded data removed]",
      "text/plain": [
       "<Figure size 864x648 with 2 Axes>"
      ]
     },
     "metadata": {
      "needs_background": "light"
     },
     "output_type": "display_data"
    }
   ],
   "source": [
    "f, ax = plt.subplots(figsize = (12, 9))\n",
    "sns.heatmap(df[features].corr(), vmax = 0.8, square = True)"
   ]
  },
  {
   "cell_type": "code",
   "execution_count": 17,
   "id": "e0626425-e5cb-476a-b8e3-a3e9a66a2186",
   "metadata": {},
   "outputs": [
    {
     "data": {
      "text/plain": [
       "<seaborn.axisgrid.PairGrid at 0x7fb2b0b693d0>"
      ]
     },
     "execution_count": 17,
     "metadata": {},
     "output_type": "execute_result"
    },
    {
     "data": {
      "image/png": "[encoded data removed]",
      "text/plain": [
       "<Figure size 1584x1584 with 132 Axes>"
      ]
     },
     "metadata": {
      "needs_background": "light"
     },
     "output_type": "display_data"
    }
   ],
   "source": [
    "sns.pairplot(df[features].corr(), size = 2)"
   ]
  },
  {
   "cell_type": "markdown",
   "id": "490caf33-c862-4756-9c2c-b714564ac296",
   "metadata": {},
   "source": [
    "### Visuals"
   ]
  },
  {
   "cell_type": "code",
   "execution_count": 18,
   "id": "f16a4187-7f85-41a5-8855-a0aeb6c958cd",
   "metadata": {},
   "outputs": [
    {
     "data": {
      "image/png": "[encoded data removed]",
      "text/plain": [
       "<Figure size 432x864 with 8 Axes>"
      ]
     },
     "metadata": {
      "needs_background": "light"
     },
     "output_type": "display_data"
    }
   ],
   "source": [
    "f = pd.melt(df, value_vars=['list_price', 'year_built', 'beds', 'bath', 'sqft', 'lotsize_sqft', 'install', 'garage'])\n",
    "g = sns.FacetGrid(f, col=\"variable\",  col_wrap=2, sharex=False, sharey=False)\n",
    "g = g.map(sns.distplot, \"value\")"
   ]
  },
  {
   "cell_type": "code",
   "execution_count": 19,
   "id": "6ad99b61-0867-439d-9090-41fff34ecbca",
   "metadata": {},
   "outputs": [
    {
     "data": {
      "image/png": "[encoded data removed]",
      "text/plain": [
       "<Figure size 720x1080 with 6 Axes>"
      ]
     },
     "metadata": {
      "needs_background": "light"
     },
     "output_type": "display_data"
    }
   ],
   "source": [
    "# check outliers \n",
    "def boxplot(x, y, **kwargs):\n",
    "    sns.boxplot(x=x, y=y)\n",
    "    x = plt.xticks(rotation=90)\n",
    "f = pd.melt(df, id_vars=['list_price'], value_vars=['beds', 'bath', 'water', 'sewer', 'pool', 'garage'])\n",
    "g = sns.FacetGrid(f, col=\"variable\",  col_wrap=2, sharex=False, sharey=False, size=5)\n",
    "g = g.map(boxplot, \"value\", \"list_price\")"
   ]
  },
  {
   "cell_type": "code",
   "execution_count": 37,
   "id": "92b08db5-3ab5-45cd-9aea-537daae46bf3",
   "metadata": {},
   "outputs": [
    {
     "data": {
      "image/png": "[encoded data removed]",
      "text/plain": [
       "<Figure size 720x576 with 1 Axes>"
      ]
     },
     "metadata": {},
     "output_type": "display_data"
    }
   ],
   "source": [
    "table_p = df[features].groupby('property_type').count().iloc[:,0]\n",
    "plt.figure(figsize=(10,8))\n",
    "plt.pie(table_p, explode=(0.1,0,0), colors=['yellowgreen', 'red', 'lightskyblue', 'gold','grey'], \n",
    "       labels=table_p.index, autopct='%.2f%%', pctdistance = 0.6, shadow=True, startangle=180, frame = False)\n",
    "plt.axis('equal')\n",
    "plt.legend(title=\"property_type\", loc = 'upper right')\n",
    "plt.show()"
   ]
  },
  {
   "cell_type": "code",
   "execution_count": 20,
   "id": "bd087df0-7fdf-41c2-848f-660e51b1331a",
   "metadata": {},
   "outputs": [
    {
     "data": {
      "text/html": [
       "<div>\n",
       "<style scoped>\n",
       "    .dataframe tbody tr th:only-of-type {\n",
       "        vertical-align: middle;\n",
       "    }\n",
       "\n",
       "    .dataframe tbody tr th {\n",
       "        vertical-align: top;\n",
       "    }\n",
       "\n",
       "    .dataframe thead tr th {\n",
       "        text-align: left;\n",
       "    }\n",
       "\n",
       "    .dataframe thead tr:last-of-type th {\n",
       "        text-align: right;\n",
       "    }\n",
       "</style>\n",
       "<table border=\"1\" class=\"dataframe\">\n",
       "  <thead>\n",
       "    <tr>\n",
       "      <th></th>\n",
       "      <th colspan=\"10\" halign=\"left\">bath</th>\n",
       "      <th>...</th>\n",
       "      <th colspan=\"10\" halign=\"left\">year_built</th>\n",
       "    </tr>\n",
       "    <tr>\n",
       "      <th>beds</th>\n",
       "      <th>0</th>\n",
       "      <th>1</th>\n",
       "      <th>2</th>\n",
       "      <th>3</th>\n",
       "      <th>4</th>\n",
       "      <th>5</th>\n",
       "      <th>6</th>\n",
       "      <th>7</th>\n",
       "      <th>8</th>\n",
       "      <th>9</th>\n",
       "      <th>...</th>\n",
       "      <th>3</th>\n",
       "      <th>4</th>\n",
       "      <th>5</th>\n",
       "      <th>6</th>\n",
       "      <th>7</th>\n",
       "      <th>8</th>\n",
       "      <th>9</th>\n",
       "      <th>10</th>\n",
       "      <th>12</th>\n",
       "      <th>21</th>\n",
       "    </tr>\n",
       "    <tr>\n",
       "      <th>property_type</th>\n",
       "      <th></th>\n",
       "      <th></th>\n",
       "      <th></th>\n",
       "      <th></th>\n",
       "      <th></th>\n",
       "      <th></th>\n",
       "      <th></th>\n",
       "      <th></th>\n",
       "      <th></th>\n",
       "      <th></th>\n",
       "      <th></th>\n",
       "      <th></th>\n",
       "      <th></th>\n",
       "      <th></th>\n",
       "      <th></th>\n",
       "      <th></th>\n",
       "      <th></th>\n",
       "      <th></th>\n",
       "      <th></th>\n",
       "      <th></th>\n",
       "      <th></th>\n",
       "    </tr>\n",
       "  </thead>\n",
       "  <tbody>\n",
       "    <tr>\n",
       "      <th>Single Family Residence</th>\n",
       "      <td>19.0</td>\n",
       "      <td>25</td>\n",
       "      <td>327</td>\n",
       "      <td>2127</td>\n",
       "      <td>2038</td>\n",
       "      <td>1123.0</td>\n",
       "      <td>401.0</td>\n",
       "      <td>108.0</td>\n",
       "      <td>27.0</td>\n",
       "      <td>9.0</td>\n",
       "      <td>...</td>\n",
       "      <td>2127</td>\n",
       "      <td>2038</td>\n",
       "      <td>1123.0</td>\n",
       "      <td>401.0</td>\n",
       "      <td>108.0</td>\n",
       "      <td>27.0</td>\n",
       "      <td>9.0</td>\n",
       "      <td>1.0</td>\n",
       "      <td>1.0</td>\n",
       "      <td>1.0</td>\n",
       "    </tr>\n",
       "    <tr>\n",
       "      <th>Townhouse</th>\n",
       "      <td>NaN</td>\n",
       "      <td>5</td>\n",
       "      <td>160</td>\n",
       "      <td>516</td>\n",
       "      <td>178</td>\n",
       "      <td>6.0</td>\n",
       "      <td>NaN</td>\n",
       "      <td>NaN</td>\n",
       "      <td>NaN</td>\n",
       "      <td>NaN</td>\n",
       "      <td>...</td>\n",
       "      <td>516</td>\n",
       "      <td>178</td>\n",
       "      <td>6.0</td>\n",
       "      <td>NaN</td>\n",
       "      <td>NaN</td>\n",
       "      <td>NaN</td>\n",
       "      <td>NaN</td>\n",
       "      <td>NaN</td>\n",
       "      <td>NaN</td>\n",
       "      <td>NaN</td>\n",
       "    </tr>\n",
       "    <tr>\n",
       "      <th>condo</th>\n",
       "      <td>6.0</td>\n",
       "      <td>369</td>\n",
       "      <td>538</td>\n",
       "      <td>161</td>\n",
       "      <td>21</td>\n",
       "      <td>NaN</td>\n",
       "      <td>NaN</td>\n",
       "      <td>NaN</td>\n",
       "      <td>1.0</td>\n",
       "      <td>NaN</td>\n",
       "      <td>...</td>\n",
       "      <td>161</td>\n",
       "      <td>21</td>\n",
       "      <td>NaN</td>\n",
       "      <td>NaN</td>\n",
       "      <td>NaN</td>\n",
       "      <td>1.0</td>\n",
       "      <td>NaN</td>\n",
       "      <td>NaN</td>\n",
       "      <td>NaN</td>\n",
       "      <td>NaN</td>\n",
       "    </tr>\n",
       "  </tbody>\n",
       "</table>\n",
       "<p>3 rows × 182 columns</p>\n",
       "</div>"
      ],
      "text/plain": [
       "                         bath                                              \\\n",
       "beds                       0    1    2     3     4       5      6      7    \n",
       "property_type                                                               \n",
       "Single Family Residence  19.0   25  327  2127  2038  1123.0  401.0  108.0   \n",
       "Townhouse                 NaN    5  160   516   178     6.0    NaN    NaN   \n",
       "condo                     6.0  369  538   161    21     NaN    NaN    NaN   \n",
       "\n",
       "                                    ... year_built                       \\\n",
       "beds                       8    9   ...         3     4       5      6    \n",
       "property_type                       ...                                   \n",
       "Single Family Residence  27.0  9.0  ...       2127  2038  1123.0  401.0   \n",
       "Townhouse                 NaN  NaN  ...        516   178     6.0    NaN   \n",
       "condo                     1.0  NaN  ...        161    21     NaN    NaN   \n",
       "\n",
       "                                                          \n",
       "beds                        7     8    9    10   12   21  \n",
       "property_type                                             \n",
       "Single Family Residence  108.0  27.0  9.0  1.0  1.0  1.0  \n",
       "Townhouse                  NaN   NaN  NaN  NaN  NaN  NaN  \n",
       "condo                      NaN   1.0  NaN  NaN  NaN  NaN  \n",
       "\n",
       "[3 rows x 182 columns]"
      ]
     },
     "execution_count": 20,
     "metadata": {},
     "output_type": "execute_result"
    }
   ],
   "source": [
    "pd.pivot_table(df[features], index='property_type', columns='beds', aggfunc='count', fill_value=np.nan)"
   ]
  },
  {
   "cell_type": "code",
   "execution_count": 21,
   "id": "903f6f71-c534-4b73-80c4-81c6f19d41da",
   "metadata": {},
   "outputs": [
    {
     "data": {
      "text/html": [
       "<div>\n",
       "<style scoped>\n",
       "    .dataframe tbody tr th:only-of-type {\n",
       "        vertical-align: middle;\n",
       "    }\n",
       "\n",
       "    .dataframe tbody tr th {\n",
       "        vertical-align: top;\n",
       "    }\n",
       "\n",
       "    .dataframe thead tr th {\n",
       "        text-align: left;\n",
       "    }\n",
       "\n",
       "    .dataframe thead tr:last-of-type th {\n",
       "        text-align: right;\n",
       "    }\n",
       "</style>\n",
       "<table border=\"1\" class=\"dataframe\">\n",
       "  <thead>\n",
       "    <tr>\n",
       "      <th></th>\n",
       "      <th colspan=\"10\" halign=\"left\">beds</th>\n",
       "      <th>...</th>\n",
       "      <th colspan=\"10\" halign=\"left\">year_built</th>\n",
       "    </tr>\n",
       "    <tr>\n",
       "      <th>bath</th>\n",
       "      <th>0.0</th>\n",
       "      <th>0.5</th>\n",
       "      <th>1.0</th>\n",
       "      <th>1.5</th>\n",
       "      <th>2.0</th>\n",
       "      <th>2.5</th>\n",
       "      <th>3.0</th>\n",
       "      <th>3.5</th>\n",
       "      <th>4.0</th>\n",
       "      <th>4.5</th>\n",
       "      <th>...</th>\n",
       "      <th>8.0</th>\n",
       "      <th>8.5</th>\n",
       "      <th>9.0</th>\n",
       "      <th>9.5</th>\n",
       "      <th>10.0</th>\n",
       "      <th>10.5</th>\n",
       "      <th>11.0</th>\n",
       "      <th>14.5</th>\n",
       "      <th>15.0</th>\n",
       "      <th>23.5</th>\n",
       "    </tr>\n",
       "    <tr>\n",
       "      <th>property_type</th>\n",
       "      <th></th>\n",
       "      <th></th>\n",
       "      <th></th>\n",
       "      <th></th>\n",
       "      <th></th>\n",
       "      <th></th>\n",
       "      <th></th>\n",
       "      <th></th>\n",
       "      <th></th>\n",
       "      <th></th>\n",
       "      <th></th>\n",
       "      <th></th>\n",
       "      <th></th>\n",
       "      <th></th>\n",
       "      <th></th>\n",
       "      <th></th>\n",
       "      <th></th>\n",
       "      <th></th>\n",
       "      <th></th>\n",
       "      <th></th>\n",
       "      <th></th>\n",
       "    </tr>\n",
       "  </thead>\n",
       "  <tbody>\n",
       "    <tr>\n",
       "      <th>Single Family Residence</th>\n",
       "      <td>21</td>\n",
       "      <td>2.0</td>\n",
       "      <td>327</td>\n",
       "      <td>84</td>\n",
       "      <td>1511</td>\n",
       "      <td>1121</td>\n",
       "      <td>961</td>\n",
       "      <td>745</td>\n",
       "      <td>366</td>\n",
       "      <td>380</td>\n",
       "      <td>...</td>\n",
       "      <td>30.0</td>\n",
       "      <td>11.0</td>\n",
       "      <td>15.0</td>\n",
       "      <td>7.0</td>\n",
       "      <td>8.0</td>\n",
       "      <td>4.0</td>\n",
       "      <td>2.0</td>\n",
       "      <td>1.0</td>\n",
       "      <td>1.0</td>\n",
       "      <td>1.0</td>\n",
       "    </tr>\n",
       "    <tr>\n",
       "      <th>Townhouse</th>\n",
       "      <td>1</td>\n",
       "      <td>NaN</td>\n",
       "      <td>7</td>\n",
       "      <td>20</td>\n",
       "      <td>61</td>\n",
       "      <td>304</td>\n",
       "      <td>48</td>\n",
       "      <td>354</td>\n",
       "      <td>29</td>\n",
       "      <td>39</td>\n",
       "      <td>...</td>\n",
       "      <td>NaN</td>\n",
       "      <td>NaN</td>\n",
       "      <td>NaN</td>\n",
       "      <td>NaN</td>\n",
       "      <td>NaN</td>\n",
       "      <td>NaN</td>\n",
       "      <td>NaN</td>\n",
       "      <td>NaN</td>\n",
       "      <td>NaN</td>\n",
       "      <td>NaN</td>\n",
       "    </tr>\n",
       "    <tr>\n",
       "      <th>condo</th>\n",
       "      <td>1</td>\n",
       "      <td>1.0</td>\n",
       "      <td>358</td>\n",
       "      <td>81</td>\n",
       "      <td>386</td>\n",
       "      <td>165</td>\n",
       "      <td>53</td>\n",
       "      <td>41</td>\n",
       "      <td>4</td>\n",
       "      <td>4</td>\n",
       "      <td>...</td>\n",
       "      <td>NaN</td>\n",
       "      <td>NaN</td>\n",
       "      <td>NaN</td>\n",
       "      <td>NaN</td>\n",
       "      <td>NaN</td>\n",
       "      <td>NaN</td>\n",
       "      <td>NaN</td>\n",
       "      <td>NaN</td>\n",
       "      <td>NaN</td>\n",
       "      <td>NaN</td>\n",
       "    </tr>\n",
       "  </tbody>\n",
       "</table>\n",
       "<p>3 rows × 364 columns</p>\n",
       "</div>"
      ],
      "text/plain": [
       "                        beds                                                 \\\n",
       "bath                    0.0  0.5  1.0  1.5   2.0   2.5  3.0  3.5  4.0  4.5    \n",
       "property_type                                                                 \n",
       "Single Family Residence   21  2.0  327   84  1511  1121  961  745  366  380   \n",
       "Townhouse                  1  NaN    7   20    61   304   48  354   29   39   \n",
       "condo                      1  1.0  358   81   386   165   53   41    4    4   \n",
       "\n",
       "                         ... year_built                                       \\\n",
       "bath                     ...       8.0   8.5   9.0  9.5  10.0 10.5 11.0 14.5   \n",
       "property_type            ...                                                   \n",
       "Single Family Residence  ...       30.0  11.0  15.0  7.0  8.0  4.0  2.0  1.0   \n",
       "Townhouse                ...        NaN   NaN   NaN  NaN  NaN  NaN  NaN  NaN   \n",
       "condo                    ...        NaN   NaN   NaN  NaN  NaN  NaN  NaN  NaN   \n",
       "\n",
       "                                   \n",
       "bath                    15.0 23.5  \n",
       "property_type                      \n",
       "Single Family Residence  1.0  1.0  \n",
       "Townhouse                NaN  NaN  \n",
       "condo                    NaN  NaN  \n",
       "\n",
       "[3 rows x 364 columns]"
      ]
     },
     "execution_count": 21,
     "metadata": {},
     "output_type": "execute_result"
    }
   ],
   "source": [
    "pd.pivot_table(df[features], index='property_type', columns='bath', aggfunc='count', fill_value=np.nan)"
   ]
  },
  {
   "cell_type": "code",
   "execution_count": 38,
   "id": "043cba7b-80e8-4f6c-9209-e56c0f775d87",
   "metadata": {
    "collapsed": true,
    "jupyter": {
     "outputs_hidden": true
    },
    "tags": []
   },
   "outputs": [
    {
     "data": {
      "application/vnd.plotly.v1+json": {
       "config": {
        "plotlyServerURL": "https://plot.ly"
       },
       "data": [
        {
         "colorscale": [
          [
           0,
           "#440154"
          ],
          [
           0.1111111111111111,
           "#482878"
          ],
          [
           0.2222222222222222,
           "#3e4989"
          ],
          [
           0.3333333333333333,
           "#31688e"
          ],
          [
           0.4444444444444444,
           "#26828e"
          ],
          [
           0.5555555555555556,
           "#1f9e89"
          ],
          [
           0.6666666666666666,
           "#35b779"
          ],
          [
           0.7777777777777778,
           "#6ece58"
          ],
          [
           0.8888888888888888,
           "#b5de2b"
          ],
          [
           1,
           "#fde725"
          ]
         ],
         "type": "heatmap",
         "x": [
          "Single Family Residence",
          "Townhouse",
          "condo"
         ],
         "y": [
          0,
          1,
          2,
          3
         ],
         "z": [
          [
           185,
           42,
           null
          ],
          [
           48,
           18,
           null
          ],
          [
           600,
           28,
           1
          ],
          [
           16,
           null,
           null
          ]
         ]
        }
       ],
       "layout": {
        "template": {
         "data": {
          "bar": [
           {
            "error_x": {
             "color": "#2a3f5f"
            },
            "error_y": {
             "color": "#2a3f5f"
            },
            "marker": {
             "line": {
              "color": "#E5ECF6",
              "width": 0.5
             }
            },
            "type": "bar"
           }
          ],
          "barpolar": [
           {
            "marker": {
             "line": {
              "color": "#E5ECF6",
              "width": 0.5
             }
            },
            "type": "barpolar"
           }
          ],
          "carpet": [
           {
            "aaxis": {
             "endlinecolor": "#2a3f5f",
             "gridcolor": "white",
             "linecolor": "white",
             "minorgridcolor": "white",
             "startlinecolor": "#2a3f5f"
            },
            "baxis": {
             "endlinecolor": "#2a3f5f",
             "gridcolor": "white",
             "linecolor": "white",
             "minorgridcolor": "white",
             "startlinecolor": "#2a3f5f"
            },
            "type": "carpet"
           }
          ],
          "choropleth": [
           {
            "colorbar": {
             "outlinewidth": 0,
             "ticks": ""
            },
            "type": "choropleth"
           }
          ],
          "contour": [
           {
            "colorbar": {
             "outlinewidth": 0,
             "ticks": ""
            },
            "colorscale": [
             [
              0,
              "#0d0887"
             ],
             [
              0.1111111111111111,
              "#46039f"
             ],
             [
              0.2222222222222222,
              "#7201a8"
             ],
             [
              0.3333333333333333,
              "#9c179e"
             ],
             [
              0.4444444444444444,
              "#bd3786"
             ],
             [
              0.5555555555555556,
              "#d8576b"
             ],
             [
              0.6666666666666666,
              "#ed7953"
             ],
             [
              0.7777777777777778,
              "#fb9f3a"
             ],
             [
              0.8888888888888888,
              "#fdca26"
             ],
             [
              1,
              "#f0f921"
             ]
            ],
            "type": "contour"
           }
          ],
          "contourcarpet": [
           {
            "colorbar": {
             "outlinewidth": 0,
             "ticks": ""
            },
            "type": "contourcarpet"
           }
          ],
          "heatmap": [
           {
            "colorbar": {
             "outlinewidth": 0,
             "ticks": ""
            },
            "colorscale": [
             [
              0,
              "#0d0887"
             ],
             [
              0.1111111111111111,
              "#46039f"
             ],
             [
              0.2222222222222222,
              "#7201a8"
             ],
             [
              0.3333333333333333,
              "#9c179e"
             ],
             [
              0.4444444444444444,
              "#bd3786"
             ],
             [
              0.5555555555555556,
              "#d8576b"
             ],
             [
              0.6666666666666666,
              "#ed7953"
             ],
             [
              0.7777777777777778,
              "#fb9f3a"
             ],
             [
              0.8888888888888888,
              "#fdca26"
             ],
             [
              1,
              "#f0f921"
             ]
            ],
            "type": "heatmap"
           }
          ],
          "heatmapgl": [
           {
            "colorbar": {
             "outlinewidth": 0,
             "ticks": ""
            },
            "colorscale": [
             [
              0,
              "#0d0887"
             ],
             [
              0.1111111111111111,
              "#46039f"
             ],
             [
              0.2222222222222222,
              "#7201a8"
             ],
             [
              0.3333333333333333,
              "#9c179e"
             ],
             [
              0.4444444444444444,
              "#bd3786"
             ],
             [
              0.5555555555555556,
              "#d8576b"
             ],
             [
              0.6666666666666666,
              "#ed7953"
             ],
             [
              0.7777777777777778,
              "#fb9f3a"
             ],
             [
              0.8888888888888888,
              "#fdca26"
             ],
             [
              1,
              "#f0f921"
             ]
            ],
            "type": "heatmapgl"
           }
          ],
          "histogram": [
           {
            "marker": {
             "colorbar": {
              "outlinewidth": 0,
              "ticks": ""
             }
            },
            "type": "histogram"
           }
          ],
          "histogram2d": [
           {
            "colorbar": {
             "outlinewidth": 0,
             "ticks": ""
            },
            "colorscale": [
             [
              0,
              "#0d0887"
             ],
             [
              0.1111111111111111,
              "#46039f"
             ],
             [
              0.2222222222222222,
              "#7201a8"
             ],
             [
              0.3333333333333333,
              "#9c179e"
             ],
             [
              0.4444444444444444,
              "#bd3786"
             ],
             [
              0.5555555555555556,
              "#d8576b"
             ],
             [
              0.6666666666666666,
              "#ed7953"
             ],
             [
              0.7777777777777778,
              "#fb9f3a"
             ],
             [
              0.8888888888888888,
              "#fdca26"
             ],
             [
              1,
              "#f0f921"
             ]
            ],
            "type": "histogram2d"
           }
          ],
          "histogram2dcontour": [
           {
            "colorbar": {
             "outlinewidth": 0,
             "ticks": ""
            },
            "colorscale": [
             [
              0,
              "#0d0887"
             ],
             [
              0.1111111111111111,
              "#46039f"
             ],
             [
              0.2222222222222222,
              "#7201a8"
             ],
             [
              0.3333333333333333,
              "#9c179e"
             ],
             [
              0.4444444444444444,
              "#bd3786"
             ],
             [
              0.5555555555555556,
              "#d8576b"
             ],
             [
              0.6666666666666666,
              "#ed7953"
             ],
             [
              0.7777777777777778,
              "#fb9f3a"
             ],
             [
              0.8888888888888888,
              "#fdca26"
             ],
             [
              1,
              "#f0f921"
             ]
            ],
            "type": "histogram2dcontour"
           }
          ],
          "mesh3d": [
           {
            "colorbar": {
             "outlinewidth": 0,
             "ticks": ""
            },
            "type": "mesh3d"
           }
          ],
          "parcoords": [
           {
            "line": {
             "colorbar": {
              "outlinewidth": 0,
              "ticks": ""
             }
            },
            "type": "parcoords"
           }
          ],
          "pie": [
           {
            "automargin": true,
            "type": "pie"
           }
          ],
          "scatter": [
           {
            "marker": {
             "colorbar": {
              "outlinewidth": 0,
              "ticks": ""
             }
            },
            "type": "scatter"
           }
          ],
          "scatter3d": [
           {
            "line": {
             "colorbar": {
              "outlinewidth": 0,
              "ticks": ""
             }
            },
            "marker": {
             "colorbar": {
              "outlinewidth": 0,
              "ticks": ""
             }
            },
            "type": "scatter3d"
           }
          ],
          "scattercarpet": [
           {
            "marker": {
             "colorbar": {
              "outlinewidth": 0,
              "ticks": ""
             }
            },
            "type": "scattercarpet"
           }
          ],
          "scattergeo": [
           {
            "marker": {
             "colorbar": {
              "outlinewidth": 0,
              "ticks": ""
             }
            },
            "type": "scattergeo"
           }
          ],
          "scattergl": [
           {
            "marker": {
             "colorbar": {
              "outlinewidth": 0,
              "ticks": ""
             }
            },
            "type": "scattergl"
           }
          ],
          "scattermapbox": [
           {
            "marker": {
             "colorbar": {
              "outlinewidth": 0,
              "ticks": ""
             }
            },
            "type": "scattermapbox"
           }
          ],
          "scatterpolar": [
           {
            "marker": {
             "colorbar": {
              "outlinewidth": 0,
              "ticks": ""
             }
            },
            "type": "scatterpolar"
           }
          ],
          "scatterpolargl": [
           {
            "marker": {
             "colorbar": {
              "outlinewidth": 0,
              "ticks": ""
             }
            },
            "type": "scatterpolargl"
           }
          ],
          "scatterternary": [
           {
            "marker": {
             "colorbar": {
              "outlinewidth": 0,
              "ticks": ""
             }
            },
            "type": "scatterternary"
           }
          ],
          "surface": [
           {
            "colorbar": {
             "outlinewidth": 0,
             "ticks": ""
            },
            "colorscale": [
             [
              0,
              "#0d0887"
             ],
             [
              0.1111111111111111,
              "#46039f"
             ],
             [
              0.2222222222222222,
              "#7201a8"
             ],
             [
              0.3333333333333333,
              "#9c179e"
             ],
             [
              0.4444444444444444,
              "#bd3786"
             ],
             [
              0.5555555555555556,
              "#d8576b"
             ],
             [
              0.6666666666666666,
              "#ed7953"
             ],
             [
              0.7777777777777778,
              "#fb9f3a"
             ],
             [
              0.8888888888888888,
              "#fdca26"
             ],
             [
              1,
              "#f0f921"
             ]
            ],
            "type": "surface"
           }
          ],
          "table": [
           {
            "cells": {
             "fill": {
              "color": "#EBF0F8"
             },
             "line": {
              "color": "white"
             }
            },
            "header": {
             "fill": {
              "color": "#C8D4E3"
             },
             "line": {
              "color": "white"
             }
            },
            "type": "table"
           }
          ]
         },
         "layout": {
          "annotationdefaults": {
           "arrowcolor": "#2a3f5f",
           "arrowhead": 0,
           "arrowwidth": 1
          },
          "autotypenumbers": "strict",
          "coloraxis": {
           "colorbar": {
            "outlinewidth": 0,
            "ticks": ""
           }
          },
          "colorscale": {
           "diverging": [
            [
             0,
             "#8e0152"
            ],
            [
             0.1,
             "#c51b7d"
            ],
            [
             0.2,
             "#de77ae"
            ],
            [
             0.3,
             "#f1b6da"
            ],
            [
             0.4,
             "#fde0ef"
            ],
            [
             0.5,
             "#f7f7f7"
            ],
            [
             0.6,
             "#e6f5d0"
            ],
            [
             0.7,
             "#b8e186"
            ],
            [
             0.8,
             "#7fbc41"
            ],
            [
             0.9,
             "#4d9221"
            ],
            [
             1,
             "#276419"
            ]
           ],
           "sequential": [
            [
             0,
             "#0d0887"
            ],
            [
             0.1111111111111111,
             "#46039f"
            ],
            [
             0.2222222222222222,
             "#7201a8"
            ],
            [
             0.3333333333333333,
             "#9c179e"
            ],
            [
             0.4444444444444444,
             "#bd3786"
            ],
            [
             0.5555555555555556,
             "#d8576b"
            ],
            [
             0.6666666666666666,
             "#ed7953"
            ],
            [
             0.7777777777777778,
             "#fb9f3a"
            ],
            [
             0.8888888888888888,
             "#fdca26"
            ],
            [
             1,
             "#f0f921"
            ]
           ],
           "sequentialminus": [
            [
             0,
             "#0d0887"
            ],
            [
             0.1111111111111111,
             "#46039f"
            ],
            [
             0.2222222222222222,
             "#7201a8"
            ],
            [
             0.3333333333333333,
             "#9c179e"
            ],
            [
             0.4444444444444444,
             "#bd3786"
            ],
            [
             0.5555555555555556,
             "#d8576b"
            ],
            [
             0.6666666666666666,
             "#ed7953"
            ],
            [
             0.7777777777777778,
             "#fb9f3a"
            ],
            [
             0.8888888888888888,
             "#fdca26"
            ],
            [
             1,
             "#f0f921"
            ]
           ]
          },
          "colorway": [
           "#636efa",
           "#EF553B",
           "#00cc96",
           "#ab63fa",
           "#FFA15A",
           "#19d3f3",
           "#FF6692",
           "#B6E880",
           "#FF97FF",
           "#FECB52"
          ],
          "font": {
           "color": "#2a3f5f"
          },
          "geo": {
           "bgcolor": "white",
           "lakecolor": "white",
           "landcolor": "#E5ECF6",
           "showlakes": true,
           "showland": true,
           "subunitcolor": "white"
          },
          "hoverlabel": {
           "align": "left"
          },
          "hovermode": "closest",
          "mapbox": {
           "style": "light"
          },
          "paper_bgcolor": "white",
          "plot_bgcolor": "#E5ECF6",
          "polar": {
           "angularaxis": {
            "gridcolor": "white",
            "linecolor": "white",
            "ticks": ""
           },
           "bgcolor": "#E5ECF6",
           "radialaxis": {
            "gridcolor": "white",
            "linecolor": "white",
            "ticks": ""
           }
          },
          "scene": {
           "xaxis": {
            "backgroundcolor": "#E5ECF6",
            "gridcolor": "white",
            "gridwidth": 2,
            "linecolor": "white",
            "showbackground": true,
            "ticks": "",
            "zerolinecolor": "white"
           },
           "yaxis": {
            "backgroundcolor": "#E5ECF6",
            "gridcolor": "white",
            "gridwidth": 2,
            "linecolor": "white",
            "showbackground": true,
            "ticks": "",
            "zerolinecolor": "white"
           },
           "zaxis": {
            "backgroundcolor": "#E5ECF6",
            "gridcolor": "white",
            "gridwidth": 2,
            "linecolor": "white",
            "showbackground": true,
            "ticks": "",
            "zerolinecolor": "white"
           }
          },
          "shapedefaults": {
           "line": {
            "color": "#2a3f5f"
           }
          },
          "ternary": {
           "aaxis": {
            "gridcolor": "white",
            "linecolor": "white",
            "ticks": ""
           },
           "baxis": {
            "gridcolor": "white",
            "linecolor": "white",
            "ticks": ""
           },
           "bgcolor": "#E5ECF6",
           "caxis": {
            "gridcolor": "white",
            "linecolor": "white",
            "ticks": ""
           }
          },
          "title": {
           "x": 0.05
          },
          "xaxis": {
           "automargin": true,
           "gridcolor": "white",
           "linecolor": "white",
           "ticks": "",
           "title": {
            "standoff": 15
           },
           "zerolinecolor": "white",
           "zerolinewidth": 2
          },
          "yaxis": {
           "automargin": true,
           "gridcolor": "white",
           "linecolor": "white",
           "ticks": "",
           "title": {
            "standoff": 15
           },
           "zerolinecolor": "white",
           "zerolinewidth": 2
          }
         }
        },
        "title": {
         "text": "garage"
        },
        "xaxis": {
         "nticks": 36
        }
       }
      },
      "text/html": [
       "<div>                            <div id=\"72103503-794a-4530-be64-e5190b5a280b\" class=\"plotly-graph-div\" style=\"height:525px; width:100%;\"></div>            <script type=\"text/javascript\">                require([\"plotly\"], function(Plotly) {                    window.PLOTLYENV=window.PLOTLYENV || {};                                    if (document.getElementById(\"72103503-794a-4530-be64-e5190b5a280b\")) {                    Plotly.newPlot(                        \"72103503-794a-4530-be64-e5190b5a280b\",                        [{\"colorscale\": [[0.0, \"#440154\"], [0.1111111111111111, \"#482878\"], [0.2222222222222222, \"#3e4989\"], [0.3333333333333333, \"#31688e\"], [0.4444444444444444, \"#26828e\"], [0.5555555555555556, \"#1f9e89\"], [0.6666666666666666, \"#35b779\"], [0.7777777777777778, \"#6ece58\"], [0.8888888888888888, \"#b5de2b\"], [1.0, \"#fde725\"]], \"type\": \"heatmap\", \"x\": [\"Single Family Residence\", \"Townhouse\", \"condo\"], \"y\": [0.0, 1.0, 2.0, 3.0], \"z\": [[185.0, 42.0, null], [48.0, 18.0, null], [600.0, 28.0, 1.0], [16.0, null, null]]}],                        {\"template\": {\"data\": {\"bar\": [{\"error_x\": {\"color\": \"#2a3f5f\"}, \"error_y\": {\"color\": \"#2a3f5f\"}, \"marker\": {\"line\": {\"color\": \"#E5ECF6\", \"width\": 0.5}}, \"type\": \"bar\"}], \"barpolar\": [{\"marker\": {\"line\": {\"color\": \"#E5ECF6\", \"width\": 0.5}}, \"type\": \"barpolar\"}], \"carpet\": [{\"aaxis\": {\"endlinecolor\": \"#2a3f5f\", \"gridcolor\": \"white\", \"linecolor\": \"white\", \"minorgridcolor\": \"white\", \"startlinecolor\": \"#2a3f5f\"}, \"baxis\": {\"endlinecolor\": \"#2a3f5f\", \"gridcolor\": \"white\", \"linecolor\": \"white\", \"minorgridcolor\": \"white\", \"startlinecolor\": \"#2a3f5f\"}, \"type\": \"carpet\"}], \"choropleth\": [{\"colorbar\": {\"outlinewidth\": 0, \"ticks\": \"\"}, \"type\": \"choropleth\"}], \"contour\": [{\"colorbar\": {\"outlinewidth\": 0, \"ticks\": \"\"}, \"colorscale\": [[0.0, \"#0d0887\"], [0.1111111111111111, \"#46039f\"], [0.2222222222222222, \"#7201a8\"], [0.3333333333333333, \"#9c179e\"], [0.4444444444444444, \"#bd3786\"], [0.5555555555555556, \"#d8576b\"], [0.6666666666666666, \"#ed7953\"], [0.7777777777777778, \"#fb9f3a\"], [0.8888888888888888, \"#fdca26\"], [1.0, \"#f0f921\"]], \"type\": \"contour\"}], \"contourcarpet\": [{\"colorbar\": {\"outlinewidth\": 0, \"ticks\": \"\"}, \"type\": \"contourcarpet\"}], \"heatmap\": [{\"colorbar\": {\"outlinewidth\": 0, \"ticks\": \"\"}, \"colorscale\": [[0.0, \"#0d0887\"], [0.1111111111111111, \"#46039f\"], [0.2222222222222222, \"#7201a8\"], [0.3333333333333333, \"#9c179e\"], [0.4444444444444444, \"#bd3786\"], [0.5555555555555556, \"#d8576b\"], [0.6666666666666666, \"#ed7953\"], [0.7777777777777778, \"#fb9f3a\"], [0.8888888888888888, \"#fdca26\"], [1.0, \"#f0f921\"]], \"type\": \"heatmap\"}], \"heatmapgl\": [{\"colorbar\": {\"outlinewidth\": 0, \"ticks\": \"\"}, \"colorscale\": [[0.0, \"#0d0887\"], [0.1111111111111111, \"#46039f\"], [0.2222222222222222, \"#7201a8\"], [0.3333333333333333, \"#9c179e\"], [0.4444444444444444, \"#bd3786\"], [0.5555555555555556, \"#d8576b\"], [0.6666666666666666, \"#ed7953\"], [0.7777777777777778, \"#fb9f3a\"], [0.8888888888888888, \"#fdca26\"], [1.0, \"#f0f921\"]], \"type\": \"heatmapgl\"}], \"histogram\": [{\"marker\": {\"colorbar\": {\"outlinewidth\": 0, \"ticks\": \"\"}}, \"type\": \"histogram\"}], \"histogram2d\": [{\"colorbar\": {\"outlinewidth\": 0, \"ticks\": \"\"}, \"colorscale\": [[0.0, \"#0d0887\"], [0.1111111111111111, \"#46039f\"], [0.2222222222222222, \"#7201a8\"], [0.3333333333333333, \"#9c179e\"], [0.4444444444444444, \"#bd3786\"], [0.5555555555555556, \"#d8576b\"], [0.6666666666666666, \"#ed7953\"], [0.7777777777777778, \"#fb9f3a\"], [0.8888888888888888, \"#fdca26\"], [1.0, \"#f0f921\"]], \"type\": \"histogram2d\"}], \"histogram2dcontour\": [{\"colorbar\": {\"outlinewidth\": 0, \"ticks\": \"\"}, \"colorscale\": [[0.0, \"#0d0887\"], [0.1111111111111111, \"#46039f\"], [0.2222222222222222, \"#7201a8\"], [0.3333333333333333, \"#9c179e\"], [0.4444444444444444, \"#bd3786\"], [0.5555555555555556, \"#d8576b\"], [0.6666666666666666, \"#ed7953\"], [0.7777777777777778, \"#fb9f3a\"], [0.8888888888888888, \"#fdca26\"], [1.0, \"#f0f921\"]], \"type\": \"histogram2dcontour\"}], \"mesh3d\": [{\"colorbar\": {\"outlinewidth\": 0, \"ticks\": \"\"}, \"type\": \"mesh3d\"}], \"parcoords\": [{\"line\": {\"colorbar\": {\"outlinewidth\": 0, \"ticks\": \"\"}}, \"type\": \"parcoords\"}], \"pie\": [{\"automargin\": true, \"type\": \"pie\"}], \"scatter\": [{\"marker\": {\"colorbar\": {\"outlinewidth\": 0, \"ticks\": \"\"}}, \"type\": \"scatter\"}], \"scatter3d\": [{\"line\": {\"colorbar\": {\"outlinewidth\": 0, \"ticks\": \"\"}}, \"marker\": {\"colorbar\": {\"outlinewidth\": 0, \"ticks\": \"\"}}, \"type\": \"scatter3d\"}], \"scattercarpet\": [{\"marker\": {\"colorbar\": {\"outlinewidth\": 0, \"ticks\": \"\"}}, \"type\": \"scattercarpet\"}], \"scattergeo\": [{\"marker\": {\"colorbar\": {\"outlinewidth\": 0, \"ticks\": \"\"}}, \"type\": \"scattergeo\"}], \"scattergl\": [{\"marker\": {\"colorbar\": {\"outlinewidth\": 0, \"ticks\": \"\"}}, \"type\": \"scattergl\"}], \"scattermapbox\": [{\"marker\": {\"colorbar\": {\"outlinewidth\": 0, \"ticks\": \"\"}}, \"type\": \"scattermapbox\"}], \"scatterpolar\": [{\"marker\": {\"colorbar\": {\"outlinewidth\": 0, \"ticks\": \"\"}}, \"type\": \"scatterpolar\"}], \"scatterpolargl\": [{\"marker\": {\"colorbar\": {\"outlinewidth\": 0, \"ticks\": \"\"}}, \"type\": \"scatterpolargl\"}], \"scatterternary\": [{\"marker\": {\"colorbar\": {\"outlinewidth\": 0, \"ticks\": \"\"}}, \"type\": \"scatterternary\"}], \"surface\": [{\"colorbar\": {\"outlinewidth\": 0, \"ticks\": \"\"}, \"colorscale\": [[0.0, \"#0d0887\"], [0.1111111111111111, \"#46039f\"], [0.2222222222222222, \"#7201a8\"], [0.3333333333333333, \"#9c179e\"], [0.4444444444444444, \"#bd3786\"], [0.5555555555555556, \"#d8576b\"], [0.6666666666666666, \"#ed7953\"], [0.7777777777777778, \"#fb9f3a\"], [0.8888888888888888, \"#fdca26\"], [1.0, \"#f0f921\"]], \"type\": \"surface\"}], \"table\": [{\"cells\": {\"fill\": {\"color\": \"#EBF0F8\"}, \"line\": {\"color\": \"white\"}}, \"header\": {\"fill\": {\"color\": \"#C8D4E3\"}, \"line\": {\"color\": \"white\"}}, \"type\": \"table\"}]}, \"layout\": {\"annotationdefaults\": {\"arrowcolor\": \"#2a3f5f\", \"arrowhead\": 0, \"arrowwidth\": 1}, \"autotypenumbers\": \"strict\", \"coloraxis\": {\"colorbar\": {\"outlinewidth\": 0, \"ticks\": \"\"}}, \"colorscale\": {\"diverging\": [[0, \"#8e0152\"], [0.1, \"#c51b7d\"], [0.2, \"#de77ae\"], [0.3, \"#f1b6da\"], [0.4, \"#fde0ef\"], [0.5, \"#f7f7f7\"], [0.6, \"#e6f5d0\"], [0.7, \"#b8e186\"], [0.8, \"#7fbc41\"], [0.9, \"#4d9221\"], [1, \"#276419\"]], \"sequential\": [[0.0, \"#0d0887\"], [0.1111111111111111, \"#46039f\"], [0.2222222222222222, \"#7201a8\"], [0.3333333333333333, \"#9c179e\"], [0.4444444444444444, \"#bd3786\"], [0.5555555555555556, \"#d8576b\"], [0.6666666666666666, \"#ed7953\"], [0.7777777777777778, \"#fb9f3a\"], [0.8888888888888888, \"#fdca26\"], [1.0, \"#f0f921\"]], \"sequentialminus\": [[0.0, \"#0d0887\"], [0.1111111111111111, \"#46039f\"], [0.2222222222222222, \"#7201a8\"], [0.3333333333333333, \"#9c179e\"], [0.4444444444444444, \"#bd3786\"], [0.5555555555555556, \"#d8576b\"], [0.6666666666666666, \"#ed7953\"], [0.7777777777777778, \"#fb9f3a\"], [0.8888888888888888, \"#fdca26\"], [1.0, \"#f0f921\"]]}, \"colorway\": [\"#636efa\", \"#EF553B\", \"#00cc96\", \"#ab63fa\", \"#FFA15A\", \"#19d3f3\", \"#FF6692\", \"#B6E880\", \"#FF97FF\", \"#FECB52\"], \"font\": {\"color\": \"#2a3f5f\"}, \"geo\": {\"bgcolor\": \"white\", \"lakecolor\": \"white\", \"landcolor\": \"#E5ECF6\", \"showlakes\": true, \"showland\": true, \"subunitcolor\": \"white\"}, \"hoverlabel\": {\"align\": \"left\"}, \"hovermode\": \"closest\", \"mapbox\": {\"style\": \"light\"}, \"paper_bgcolor\": \"white\", \"plot_bgcolor\": \"#E5ECF6\", \"polar\": {\"angularaxis\": {\"gridcolor\": \"white\", \"linecolor\": \"white\", \"ticks\": \"\"}, \"bgcolor\": \"#E5ECF6\", \"radialaxis\": {\"gridcolor\": \"white\", \"linecolor\": \"white\", \"ticks\": \"\"}}, \"scene\": {\"xaxis\": {\"backgroundcolor\": \"#E5ECF6\", \"gridcolor\": \"white\", \"gridwidth\": 2, \"linecolor\": \"white\", \"showbackground\": true, \"ticks\": \"\", \"zerolinecolor\": \"white\"}, \"yaxis\": {\"backgroundcolor\": \"#E5ECF6\", \"gridcolor\": \"white\", \"gridwidth\": 2, \"linecolor\": \"white\", \"showbackground\": true, \"ticks\": \"\", \"zerolinecolor\": \"white\"}, \"zaxis\": {\"backgroundcolor\": \"#E5ECF6\", \"gridcolor\": \"white\", \"gridwidth\": 2, \"linecolor\": \"white\", \"showbackground\": true, \"ticks\": \"\", \"zerolinecolor\": \"white\"}}, \"shapedefaults\": {\"line\": {\"color\": \"#2a3f5f\"}}, \"ternary\": {\"aaxis\": {\"gridcolor\": \"white\", \"linecolor\": \"white\", \"ticks\": \"\"}, \"baxis\": {\"gridcolor\": \"white\", \"linecolor\": \"white\", \"ticks\": \"\"}, \"bgcolor\": \"#E5ECF6\", \"caxis\": {\"gridcolor\": \"white\", \"linecolor\": \"white\", \"ticks\": \"\"}}, \"title\": {\"x\": 0.05}, \"xaxis\": {\"automargin\": true, \"gridcolor\": \"white\", \"linecolor\": \"white\", \"ticks\": \"\", \"title\": {\"standoff\": 15}, \"zerolinecolor\": \"white\", \"zerolinewidth\": 2}, \"yaxis\": {\"automargin\": true, \"gridcolor\": \"white\", \"linecolor\": \"white\", \"ticks\": \"\", \"title\": {\"standoff\": 15}, \"zerolinecolor\": \"white\", \"zerolinewidth\": 2}}}, \"title\": {\"text\": \"garage\"}, \"xaxis\": {\"nticks\": 36}},                        {\"responsive\": true}                    ).then(function(){\n",
       "                            \n",
       "var gd = document.getElementById('72103503-794a-4530-be64-e5190b5a280b');\n",
       "var x = new MutationObserver(function (mutations, observer) {{\n",
       "        var display = window.getComputedStyle(gd).display;\n",
       "        if (!display || display === 'none') {{\n",
       "            console.log([gd, 'removed!']);\n",
       "            Plotly.purge(gd);\n",
       "            observer.disconnect();\n",
       "        }}\n",
       "}});\n",
       "\n",
       "// Listen for the removal of the full notebook cells\n",
       "var notebookContainer = gd.closest('#notebook-container');\n",
       "if (notebookContainer) {{\n",
       "    x.observe(notebookContainer, {childList: true});\n",
       "}}\n",
       "\n",
       "// Listen for the clearing of the current output cell\n",
       "var outputEl = gd.closest('.output');\n",
       "if (outputEl) {{\n",
       "    x.observe(outputEl, {childList: true});\n",
       "}}\n",
       "\n",
       "                        })                };                });            </script>        </div>"
      ]
     },
     "metadata": {},
     "output_type": "display_data"
    },
    {
     "data": {
      "application/vnd.plotly.v1+json": {
       "config": {
        "linkText": "Export to plot.ly",
        "plotlyServerURL": "https://plot.ly",
        "showLink": false
       },
       "data": [
        {
         "colorscale": [
          [
           0,
           "#440154"
          ],
          [
           0.1111111111111111,
           "#482878"
          ],
          [
           0.2222222222222222,
           "#3e4989"
          ],
          [
           0.3333333333333333,
           "#31688e"
          ],
          [
           0.4444444444444444,
           "#26828e"
          ],
          [
           0.5555555555555556,
           "#1f9e89"
          ],
          [
           0.6666666666666666,
           "#35b779"
          ],
          [
           0.7777777777777778,
           "#6ece58"
          ],
          [
           0.8888888888888888,
           "#b5de2b"
          ],
          [
           1,
           "#fde725"
          ]
         ],
         "type": "heatmap",
         "x": [
          "Single Family Residence",
          "Townhouse",
          "condo"
         ],
         "y": [
          0,
          1,
          2,
          3
         ],
         "z": [
          [
           185,
           42,
           null
          ],
          [
           48,
           18,
           null
          ],
          [
           600,
           28,
           1
          ],
          [
           16,
           null,
           null
          ]
         ]
        }
       ],
       "layout": {
        "template": {
         "data": {
          "bar": [
           {
            "error_x": {
             "color": "#2a3f5f"
            },
            "error_y": {
             "color": "#2a3f5f"
            },
            "marker": {
             "line": {
              "color": "#E5ECF6",
              "width": 0.5
             }
            },
            "type": "bar"
           }
          ],
          "barpolar": [
           {
            "marker": {
             "line": {
              "color": "#E5ECF6",
              "width": 0.5
             }
            },
            "type": "barpolar"
           }
          ],
          "carpet": [
           {
            "aaxis": {
             "endlinecolor": "#2a3f5f",
             "gridcolor": "white",
             "linecolor": "white",
             "minorgridcolor": "white",
             "startlinecolor": "#2a3f5f"
            },
            "baxis": {
             "endlinecolor": "#2a3f5f",
             "gridcolor": "white",
             "linecolor": "white",
             "minorgridcolor": "white",
             "startlinecolor": "#2a3f5f"
            },
            "type": "carpet"
           }
          ],
          "choropleth": [
           {
            "colorbar": {
             "outlinewidth": 0,
             "ticks": ""
            },
            "type": "choropleth"
           }
          ],
          "contour": [
           {
            "colorbar": {
             "outlinewidth": 0,
             "ticks": ""
            },
            "colorscale": [
             [
              0,
              "#0d0887"
             ],
             [
              0.1111111111111111,
              "#46039f"
             ],
             [
              0.2222222222222222,
              "#7201a8"
             ],
             [
              0.3333333333333333,
              "#9c179e"
             ],
             [
              0.4444444444444444,
              "#bd3786"
             ],
             [
              0.5555555555555556,
              "#d8576b"
             ],
             [
              0.6666666666666666,
              "#ed7953"
             ],
             [
              0.7777777777777778,
              "#fb9f3a"
             ],
             [
              0.8888888888888888,
              "#fdca26"
             ],
             [
              1,
              "#f0f921"
             ]
            ],
            "type": "contour"
           }
          ],
          "contourcarpet": [
           {
            "colorbar": {
             "outlinewidth": 0,
             "ticks": ""
            },
            "type": "contourcarpet"
           }
          ],
          "heatmap": [
           {
            "colorbar": {
             "outlinewidth": 0,
             "ticks": ""
            },
            "colorscale": [
             [
              0,
              "#0d0887"
             ],
             [
              0.1111111111111111,
              "#46039f"
             ],
             [
              0.2222222222222222,
              "#7201a8"
             ],
             [
              0.3333333333333333,
              "#9c179e"
             ],
             [
              0.4444444444444444,
              "#bd3786"
             ],
             [
              0.5555555555555556,
              "#d8576b"
             ],
             [
              0.6666666666666666,
              "#ed7953"
             ],
             [
              0.7777777777777778,
              "#fb9f3a"
             ],
             [
              0.8888888888888888,
              "#fdca26"
             ],
             [
              1,
              "#f0f921"
             ]
            ],
            "type": "heatmap"
           }
          ],
          "heatmapgl": [
           {
            "colorbar": {
             "outlinewidth": 0,
             "ticks": ""
            },
            "colorscale": [
             [
              0,
              "#0d0887"
             ],
             [
              0.1111111111111111,
              "#46039f"
             ],
             [
              0.2222222222222222,
              "#7201a8"
             ],
             [
              0.3333333333333333,
              "#9c179e"
             ],
             [
              0.4444444444444444,
              "#bd3786"
             ],
             [
              0.5555555555555556,
              "#d8576b"
             ],
             [
              0.6666666666666666,
              "#ed7953"
             ],
             [
              0.7777777777777778,
              "#fb9f3a"
             ],
             [
              0.8888888888888888,
              "#fdca26"
             ],
             [
              1,
              "#f0f921"
             ]
            ],
            "type": "heatmapgl"
           }
          ],
          "histogram": [
           {
            "marker": {
             "colorbar": {
              "outlinewidth": 0,
              "ticks": ""
             }
            },
            "type": "histogram"
           }
          ],
          "histogram2d": [
           {
            "colorbar": {
             "outlinewidth": 0,
             "ticks": ""
            },
            "colorscale": [
             [
              0,
              "#0d0887"
             ],
             [
              0.1111111111111111,
              "#46039f"
             ],
             [
              0.2222222222222222,
              "#7201a8"
             ],
             [
              0.3333333333333333,
              "#9c179e"
             ],
             [
              0.4444444444444444,
              "#bd3786"
             ],
             [
              0.5555555555555556,
              "#d8576b"
             ],
             [
              0.6666666666666666,
              "#ed7953"
             ],
             [
              0.7777777777777778,
              "#fb9f3a"
             ],
             [
              0.8888888888888888,
              "#fdca26"
             ],
             [
              1,
              "#f0f921"
             ]
            ],
            "type": "histogram2d"
           }
          ],
          "histogram2dcontour": [
           {
            "colorbar": {
             "outlinewidth": 0,
             "ticks": ""
            },
            "colorscale": [
             [
              0,
              "#0d0887"
             ],
             [
              0.1111111111111111,
              "#46039f"
             ],
             [
              0.2222222222222222,
              "#7201a8"
             ],
             [
              0.3333333333333333,
              "#9c179e"
             ],
             [
              0.4444444444444444,
              "#bd3786"
             ],
             [
              0.5555555555555556,
              "#d8576b"
             ],
             [
              0.6666666666666666,
              "#ed7953"
             ],
             [
              0.7777777777777778,
              "#fb9f3a"
             ],
             [
              0.8888888888888888,
              "#fdca26"
             ],
             [
              1,
              "#f0f921"
             ]
            ],
            "type": "histogram2dcontour"
           }
          ],
          "mesh3d": [
           {
            "colorbar": {
             "outlinewidth": 0,
             "ticks": ""
            },
            "type": "mesh3d"
           }
          ],
          "parcoords": [
           {
            "line": {
             "colorbar": {
              "outlinewidth": 0,
              "ticks": ""
             }
            },
            "type": "parcoords"
           }
          ],
          "pie": [
           {
            "automargin": true,
            "type": "pie"
           }
          ],
          "scatter": [
           {
            "marker": {
             "colorbar": {
              "outlinewidth": 0,
              "ticks": ""
             }
            },
            "type": "scatter"
           }
          ],
          "scatter3d": [
           {
            "line": {
             "colorbar": {
              "outlinewidth": 0,
              "ticks": ""
             }
            },
            "marker": {
             "colorbar": {
              "outlinewidth": 0,
              "ticks": ""
             }
            },
            "type": "scatter3d"
           }
          ],
          "scattercarpet": [
           {
            "marker": {
             "colorbar": {
              "outlinewidth": 0,
              "ticks": ""
             }
            },
            "type": "scattercarpet"
           }
          ],
          "scattergeo": [
           {
            "marker": {
             "colorbar": {
              "outlinewidth": 0,
              "ticks": ""
             }
            },
            "type": "scattergeo"
           }
          ],
          "scattergl": [
           {
            "marker": {
             "colorbar": {
              "outlinewidth": 0,
              "ticks": ""
             }
            },
            "type": "scattergl"
           }
          ],
          "scattermapbox": [
           {
            "marker": {
             "colorbar": {
              "outlinewidth": 0,
              "ticks": ""
             }
            },
            "type": "scattermapbox"
           }
          ],
          "scatterpolar": [
           {
            "marker": {
             "colorbar": {
              "outlinewidth": 0,
              "ticks": ""
             }
            },
            "type": "scatterpolar"
           }
          ],
          "scatterpolargl": [
           {
            "marker": {
             "colorbar": {
              "outlinewidth": 0,
              "ticks": ""
             }
            },
            "type": "scatterpolargl"
           }
          ],
          "scatterternary": [
           {
            "marker": {
             "colorbar": {
              "outlinewidth": 0,
              "ticks": ""
             }
            },
            "type": "scatterternary"
           }
          ],
          "surface": [
           {
            "colorbar": {
             "outlinewidth": 0,
             "ticks": ""
            },
            "colorscale": [
             [
              0,
              "#0d0887"
             ],
             [
              0.1111111111111111,
              "#46039f"
             ],
             [
              0.2222222222222222,
              "#7201a8"
             ],
             [
              0.3333333333333333,
              "#9c179e"
             ],
             [
              0.4444444444444444,
              "#bd3786"
             ],
             [
              0.5555555555555556,
              "#d8576b"
             ],
             [
              0.6666666666666666,
              "#ed7953"
             ],
             [
              0.7777777777777778,
              "#fb9f3a"
             ],
             [
              0.8888888888888888,
              "#fdca26"
             ],
             [
              1,
              "#f0f921"
             ]
            ],
            "type": "surface"
           }
          ],
          "table": [
           {
            "cells": {
             "fill": {
              "color": "#EBF0F8"
             },
             "line": {
              "color": "white"
             }
            },
            "header": {
             "fill": {
              "color": "#C8D4E3"
             },
             "line": {
              "color": "white"
             }
            },
            "type": "table"
           }
          ]
         },
         "layout": {
          "annotationdefaults": {
           "arrowcolor": "#2a3f5f",
           "arrowhead": 0,
           "arrowwidth": 1
          },
          "autotypenumbers": "strict",
          "coloraxis": {
           "colorbar": {
            "outlinewidth": 0,
            "ticks": ""
           }
          },
          "colorscale": {
           "diverging": [
            [
             0,
             "#8e0152"
            ],
            [
             0.1,
             "#c51b7d"
            ],
            [
             0.2,
             "#de77ae"
            ],
            [
             0.3,
             "#f1b6da"
            ],
            [
             0.4,
             "#fde0ef"
            ],
            [
             0.5,
             "#f7f7f7"
            ],
            [
             0.6,
             "#e6f5d0"
            ],
            [
             0.7,
             "#b8e186"
            ],
            [
             0.8,
             "#7fbc41"
            ],
            [
             0.9,
             "#4d9221"
            ],
            [
             1,
             "#276419"
            ]
           ],
           "sequential": [
            [
             0,
             "#0d0887"
            ],
            [
             0.1111111111111111,
             "#46039f"
            ],
            [
             0.2222222222222222,
             "#7201a8"
            ],
            [
             0.3333333333333333,
             "#9c179e"
            ],
            [
             0.4444444444444444,
             "#bd3786"
            ],
            [
             0.5555555555555556,
             "#d8576b"
            ],
            [
             0.6666666666666666,
             "#ed7953"
            ],
            [
             0.7777777777777778,
             "#fb9f3a"
            ],
            [
             0.8888888888888888,
             "#fdca26"
            ],
            [
             1,
             "#f0f921"
            ]
           ],
           "sequentialminus": [
            [
             0,
             "#0d0887"
            ],
            [
             0.1111111111111111,
             "#46039f"
            ],
            [
             0.2222222222222222,
             "#7201a8"
            ],
            [
             0.3333333333333333,
             "#9c179e"
            ],
            [
             0.4444444444444444,
             "#bd3786"
            ],
            [
             0.5555555555555556,
             "#d8576b"
            ],
            [
             0.6666666666666666,
             "#ed7953"
            ],
            [
             0.7777777777777778,
             "#fb9f3a"
            ],
            [
             0.8888888888888888,
             "#fdca26"
            ],
            [
             1,
             "#f0f921"
            ]
           ]
          },
          "colorway": [
           "#636efa",
           "#EF553B",
           "#00cc96",
           "#ab63fa",
           "#FFA15A",
           "#19d3f3",
           "#FF6692",
           "#B6E880",
           "#FF97FF",
           "#FECB52"
          ],
          "font": {
           "color": "#2a3f5f"
          },
          "geo": {
           "bgcolor": "white",
           "lakecolor": "white",
           "landcolor": "#E5ECF6",
           "showlakes": true,
           "showland": true,
           "subunitcolor": "white"
          },
          "hoverlabel": {
           "align": "left"
          },
          "hovermode": "closest",
          "mapbox": {
           "style": "light"
          },
          "paper_bgcolor": "white",
          "plot_bgcolor": "#E5ECF6",
          "polar": {
           "angularaxis": {
            "gridcolor": "white",
            "linecolor": "white",
            "ticks": ""
           },
           "bgcolor": "#E5ECF6",
           "radialaxis": {
            "gridcolor": "white",
            "linecolor": "white",
            "ticks": ""
           }
          },
          "scene": {
           "xaxis": {
            "backgroundcolor": "#E5ECF6",
            "gridcolor": "white",
            "gridwidth": 2,
            "linecolor": "white",
            "showbackground": true,
            "ticks": "",
            "zerolinecolor": "white"
           },
           "yaxis": {
            "backgroundcolor": "#E5ECF6",
            "gridcolor": "white",
            "gridwidth": 2,
            "linecolor": "white",
            "showbackground": true,
            "ticks": "",
            "zerolinecolor": "white"
           },
           "zaxis": {
            "backgroundcolor": "#E5ECF6",
            "gridcolor": "white",
            "gridwidth": 2,
            "linecolor": "white",
            "showbackground": true,
            "ticks": "",
            "zerolinecolor": "white"
           }
          },
          "shapedefaults": {
           "line": {
            "color": "#2a3f5f"
           }
          },
          "ternary": {
           "aaxis": {
            "gridcolor": "white",
            "linecolor": "white",
            "ticks": ""
           },
           "baxis": {
            "gridcolor": "white",
            "linecolor": "white",
            "ticks": ""
           },
           "bgcolor": "#E5ECF6",
           "caxis": {
            "gridcolor": "white",
            "linecolor": "white",
            "ticks": ""
           }
          },
          "title": {
           "x": 0.05
          },
          "xaxis": {
           "automargin": true,
           "gridcolor": "white",
           "linecolor": "white",
           "ticks": "",
           "title": {
            "standoff": 15
           },
           "zerolinecolor": "white",
           "zerolinewidth": 2
          },
          "yaxis": {
           "automargin": true,
           "gridcolor": "white",
           "linecolor": "white",
           "ticks": "",
           "title": {
            "standoff": 15
           },
           "zerolinecolor": "white",
           "zerolinewidth": 2
          }
         }
        },
        "title": {
         "text": "garage"
        },
        "xaxis": {
         "nticks": 36
        }
       }
      },
      "text/html": [
       "<div>                            <div id=\"c2f15553-9af9-4b9e-9909-d5d188bc141a\" class=\"plotly-graph-div\" style=\"height:525px; width:100%;\"></div>            <script type=\"text/javascript\">                require([\"plotly\"], function(Plotly) {                    window.PLOTLYENV=window.PLOTLYENV || {};                                    if (document.getElementById(\"c2f15553-9af9-4b9e-9909-d5d188bc141a\")) {                    Plotly.newPlot(                        \"c2f15553-9af9-4b9e-9909-d5d188bc141a\",                        [{\"colorscale\": [[0.0, \"#440154\"], [0.1111111111111111, \"#482878\"], [0.2222222222222222, \"#3e4989\"], [0.3333333333333333, \"#31688e\"], [0.4444444444444444, \"#26828e\"], [0.5555555555555556, \"#1f9e89\"], [0.6666666666666666, \"#35b779\"], [0.7777777777777778, \"#6ece58\"], [0.8888888888888888, \"#b5de2b\"], [1.0, \"#fde725\"]], \"type\": \"heatmap\", \"x\": [\"Single Family Residence\", \"Townhouse\", \"condo\"], \"y\": [0.0, 1.0, 2.0, 3.0], \"z\": [[185.0, 42.0, null], [48.0, 18.0, null], [600.0, 28.0, 1.0], [16.0, null, null]]}],                        {\"template\": {\"data\": {\"bar\": [{\"error_x\": {\"color\": \"#2a3f5f\"}, \"error_y\": {\"color\": \"#2a3f5f\"}, \"marker\": {\"line\": {\"color\": \"#E5ECF6\", \"width\": 0.5}}, \"type\": \"bar\"}], \"barpolar\": [{\"marker\": {\"line\": {\"color\": \"#E5ECF6\", \"width\": 0.5}}, \"type\": \"barpolar\"}], \"carpet\": [{\"aaxis\": {\"endlinecolor\": \"#2a3f5f\", \"gridcolor\": \"white\", \"linecolor\": \"white\", \"minorgridcolor\": \"white\", \"startlinecolor\": \"#2a3f5f\"}, \"baxis\": {\"endlinecolor\": \"#2a3f5f\", \"gridcolor\": \"white\", \"linecolor\": \"white\", \"minorgridcolor\": \"white\", \"startlinecolor\": \"#2a3f5f\"}, \"type\": \"carpet\"}], \"choropleth\": [{\"colorbar\": {\"outlinewidth\": 0, \"ticks\": \"\"}, \"type\": \"choropleth\"}], \"contour\": [{\"colorbar\": {\"outlinewidth\": 0, \"ticks\": \"\"}, \"colorscale\": [[0.0, \"#0d0887\"], [0.1111111111111111, \"#46039f\"], [0.2222222222222222, \"#7201a8\"], [0.3333333333333333, \"#9c179e\"], [0.4444444444444444, \"#bd3786\"], [0.5555555555555556, \"#d8576b\"], [0.6666666666666666, \"#ed7953\"], [0.7777777777777778, \"#fb9f3a\"], [0.8888888888888888, \"#fdca26\"], [1.0, \"#f0f921\"]], \"type\": \"contour\"}], \"contourcarpet\": [{\"colorbar\": {\"outlinewidth\": 0, \"ticks\": \"\"}, \"type\": \"contourcarpet\"}], \"heatmap\": [{\"colorbar\": {\"outlinewidth\": 0, \"ticks\": \"\"}, \"colorscale\": [[0.0, \"#0d0887\"], [0.1111111111111111, \"#46039f\"], [0.2222222222222222, \"#7201a8\"], [0.3333333333333333, \"#9c179e\"], [0.4444444444444444, \"#bd3786\"], [0.5555555555555556, \"#d8576b\"], [0.6666666666666666, \"#ed7953\"], [0.7777777777777778, \"#fb9f3a\"], [0.8888888888888888, \"#fdca26\"], [1.0, \"#f0f921\"]], \"type\": \"heatmap\"}], \"heatmapgl\": [{\"colorbar\": {\"outlinewidth\": 0, \"ticks\": \"\"}, \"colorscale\": [[0.0, \"#0d0887\"], [0.1111111111111111, \"#46039f\"], [0.2222222222222222, \"#7201a8\"], [0.3333333333333333, \"#9c179e\"], [0.4444444444444444, \"#bd3786\"], [0.5555555555555556, \"#d8576b\"], [0.6666666666666666, \"#ed7953\"], [0.7777777777777778, \"#fb9f3a\"], [0.8888888888888888, \"#fdca26\"], [1.0, \"#f0f921\"]], \"type\": \"heatmapgl\"}], \"histogram\": [{\"marker\": {\"colorbar\": {\"outlinewidth\": 0, \"ticks\": \"\"}}, \"type\": \"histogram\"}], \"histogram2d\": [{\"colorbar\": {\"outlinewidth\": 0, \"ticks\": \"\"}, \"colorscale\": [[0.0, \"#0d0887\"], [0.1111111111111111, \"#46039f\"], [0.2222222222222222, \"#7201a8\"], [0.3333333333333333, \"#9c179e\"], [0.4444444444444444, \"#bd3786\"], [0.5555555555555556, \"#d8576b\"], [0.6666666666666666, \"#ed7953\"], [0.7777777777777778, \"#fb9f3a\"], [0.8888888888888888, \"#fdca26\"], [1.0, \"#f0f921\"]], \"type\": \"histogram2d\"}], \"histogram2dcontour\": [{\"colorbar\": {\"outlinewidth\": 0, \"ticks\": \"\"}, \"colorscale\": [[0.0, \"#0d0887\"], [0.1111111111111111, \"#46039f\"], [0.2222222222222222, \"#7201a8\"], [0.3333333333333333, \"#9c179e\"], [0.4444444444444444, \"#bd3786\"], [0.5555555555555556, \"#d8576b\"], [0.6666666666666666, \"#ed7953\"], [0.7777777777777778, \"#fb9f3a\"], [0.8888888888888888, \"#fdca26\"], [1.0, \"#f0f921\"]], \"type\": \"histogram2dcontour\"}], \"mesh3d\": [{\"colorbar\": {\"outlinewidth\": 0, \"ticks\": \"\"}, \"type\": \"mesh3d\"}], \"parcoords\": [{\"line\": {\"colorbar\": {\"outlinewidth\": 0, \"ticks\": \"\"}}, \"type\": \"parcoords\"}], \"pie\": [{\"automargin\": true, \"type\": \"pie\"}], \"scatter\": [{\"marker\": {\"colorbar\": {\"outlinewidth\": 0, \"ticks\": \"\"}}, \"type\": \"scatter\"}], \"scatter3d\": [{\"line\": {\"colorbar\": {\"outlinewidth\": 0, \"ticks\": \"\"}}, \"marker\": {\"colorbar\": {\"outlinewidth\": 0, \"ticks\": \"\"}}, \"type\": \"scatter3d\"}], \"scattercarpet\": [{\"marker\": {\"colorbar\": {\"outlinewidth\": 0, \"ticks\": \"\"}}, \"type\": \"scattercarpet\"}], \"scattergeo\": [{\"marker\": {\"colorbar\": {\"outlinewidth\": 0, \"ticks\": \"\"}}, \"type\": \"scattergeo\"}], \"scattergl\": [{\"marker\": {\"colorbar\": {\"outlinewidth\": 0, \"ticks\": \"\"}}, \"type\": \"scattergl\"}], \"scattermapbox\": [{\"marker\": {\"colorbar\": {\"outlinewidth\": 0, \"ticks\": \"\"}}, \"type\": \"scattermapbox\"}], \"scatterpolar\": [{\"marker\": {\"colorbar\": {\"outlinewidth\": 0, \"ticks\": \"\"}}, \"type\": \"scatterpolar\"}], \"scatterpolargl\": [{\"marker\": {\"colorbar\": {\"outlinewidth\": 0, \"ticks\": \"\"}}, \"type\": \"scatterpolargl\"}], \"scatterternary\": [{\"marker\": {\"colorbar\": {\"outlinewidth\": 0, \"ticks\": \"\"}}, \"type\": \"scatterternary\"}], \"surface\": [{\"colorbar\": {\"outlinewidth\": 0, \"ticks\": \"\"}, \"colorscale\": [[0.0, \"#0d0887\"], [0.1111111111111111, \"#46039f\"], [0.2222222222222222, \"#7201a8\"], [0.3333333333333333, \"#9c179e\"], [0.4444444444444444, \"#bd3786\"], [0.5555555555555556, \"#d8576b\"], [0.6666666666666666, \"#ed7953\"], [0.7777777777777778, \"#fb9f3a\"], [0.8888888888888888, \"#fdca26\"], [1.0, \"#f0f921\"]], \"type\": \"surface\"}], \"table\": [{\"cells\": {\"fill\": {\"color\": \"#EBF0F8\"}, \"line\": {\"color\": \"white\"}}, \"header\": {\"fill\": {\"color\": \"#C8D4E3\"}, \"line\": {\"color\": \"white\"}}, \"type\": \"table\"}]}, \"layout\": {\"annotationdefaults\": {\"arrowcolor\": \"#2a3f5f\", \"arrowhead\": 0, \"arrowwidth\": 1}, \"autotypenumbers\": \"strict\", \"coloraxis\": {\"colorbar\": {\"outlinewidth\": 0, \"ticks\": \"\"}}, \"colorscale\": {\"diverging\": [[0, \"#8e0152\"], [0.1, \"#c51b7d\"], [0.2, \"#de77ae\"], [0.3, \"#f1b6da\"], [0.4, \"#fde0ef\"], [0.5, \"#f7f7f7\"], [0.6, \"#e6f5d0\"], [0.7, \"#b8e186\"], [0.8, \"#7fbc41\"], [0.9, \"#4d9221\"], [1, \"#276419\"]], \"sequential\": [[0.0, \"#0d0887\"], [0.1111111111111111, \"#46039f\"], [0.2222222222222222, \"#7201a8\"], [0.3333333333333333, \"#9c179e\"], [0.4444444444444444, \"#bd3786\"], [0.5555555555555556, \"#d8576b\"], [0.6666666666666666, \"#ed7953\"], [0.7777777777777778, \"#fb9f3a\"], [0.8888888888888888, \"#fdca26\"], [1.0, \"#f0f921\"]], \"sequentialminus\": [[0.0, \"#0d0887\"], [0.1111111111111111, \"#46039f\"], [0.2222222222222222, \"#7201a8\"], [0.3333333333333333, \"#9c179e\"], [0.4444444444444444, \"#bd3786\"], [0.5555555555555556, \"#d8576b\"], [0.6666666666666666, \"#ed7953\"], [0.7777777777777778, \"#fb9f3a\"], [0.8888888888888888, \"#fdca26\"], [1.0, \"#f0f921\"]]}, \"colorway\": [\"#636efa\", \"#EF553B\", \"#00cc96\", \"#ab63fa\", \"#FFA15A\", \"#19d3f3\", \"#FF6692\", \"#B6E880\", \"#FF97FF\", \"#FECB52\"], \"font\": {\"color\": \"#2a3f5f\"}, \"geo\": {\"bgcolor\": \"white\", \"lakecolor\": \"white\", \"landcolor\": \"#E5ECF6\", \"showlakes\": true, \"showland\": true, \"subunitcolor\": \"white\"}, \"hoverlabel\": {\"align\": \"left\"}, \"hovermode\": \"closest\", \"mapbox\": {\"style\": \"light\"}, \"paper_bgcolor\": \"white\", \"plot_bgcolor\": \"#E5ECF6\", \"polar\": {\"angularaxis\": {\"gridcolor\": \"white\", \"linecolor\": \"white\", \"ticks\": \"\"}, \"bgcolor\": \"#E5ECF6\", \"radialaxis\": {\"gridcolor\": \"white\", \"linecolor\": \"white\", \"ticks\": \"\"}}, \"scene\": {\"xaxis\": {\"backgroundcolor\": \"#E5ECF6\", \"gridcolor\": \"white\", \"gridwidth\": 2, \"linecolor\": \"white\", \"showbackground\": true, \"ticks\": \"\", \"zerolinecolor\": \"white\"}, \"yaxis\": {\"backgroundcolor\": \"#E5ECF6\", \"gridcolor\": \"white\", \"gridwidth\": 2, \"linecolor\": \"white\", \"showbackground\": true, \"ticks\": \"\", \"zerolinecolor\": \"white\"}, \"zaxis\": {\"backgroundcolor\": \"#E5ECF6\", \"gridcolor\": \"white\", \"gridwidth\": 2, \"linecolor\": \"white\", \"showbackground\": true, \"ticks\": \"\", \"zerolinecolor\": \"white\"}}, \"shapedefaults\": {\"line\": {\"color\": \"#2a3f5f\"}}, \"ternary\": {\"aaxis\": {\"gridcolor\": \"white\", \"linecolor\": \"white\", \"ticks\": \"\"}, \"baxis\": {\"gridcolor\": \"white\", \"linecolor\": \"white\", \"ticks\": \"\"}, \"bgcolor\": \"#E5ECF6\", \"caxis\": {\"gridcolor\": \"white\", \"linecolor\": \"white\", \"ticks\": \"\"}}, \"title\": {\"x\": 0.05}, \"xaxis\": {\"automargin\": true, \"gridcolor\": \"white\", \"linecolor\": \"white\", \"ticks\": \"\", \"title\": {\"standoff\": 15}, \"zerolinecolor\": \"white\", \"zerolinewidth\": 2}, \"yaxis\": {\"automargin\": true, \"gridcolor\": \"white\", \"linecolor\": \"white\", \"ticks\": \"\", \"title\": {\"standoff\": 15}, \"zerolinecolor\": \"white\", \"zerolinewidth\": 2}}}, \"title\": {\"text\": \"garage\"}, \"xaxis\": {\"nticks\": 36}},                        {\"responsive\": true}                    ).then(function(){\n",
       "                            \n",
       "var gd = document.getElementById('c2f15553-9af9-4b9e-9909-d5d188bc141a');\n",
       "var x = new MutationObserver(function (mutations, observer) {{\n",
       "        var display = window.getComputedStyle(gd).display;\n",
       "        if (!display || display === 'none') {{\n",
       "            console.log([gd, 'removed!']);\n",
       "            Plotly.purge(gd);\n",
       "            observer.disconnect();\n",
       "        }}\n",
       "}});\n",
       "\n",
       "// Listen for the removal of the full notebook cells\n",
       "var notebookContainer = gd.closest('#notebook-container');\n",
       "if (notebookContainer) {{\n",
       "    x.observe(notebookContainer, {childList: true});\n",
       "}}\n",
       "\n",
       "// Listen for the clearing of the current output cell\n",
       "var outputEl = gd.closest('.output');\n",
       "if (outputEl) {{\n",
       "    x.observe(outputEl, {childList: true});\n",
       "}}\n",
       "\n",
       "                        })                };                });            </script>        </div>"
      ]
     },
     "metadata": {},
     "output_type": "display_data"
    }
   ],
   "source": [
    "import plotly\n",
    "import plotly.graph_objs as go\n",
    "\n",
    "table1 = pd.pivot_table(df[features], index='property_type', columns='garage', aggfunc='count', fill_value=np.nan)['beds']\n",
    "fig = go.Figure(data=go.Heatmap(\n",
    "        z=np.array(table1).T, \n",
    "        x=table1.index,\n",
    "        y=table1.columns,\n",
    "        colorscale='Viridis'))\n",
    "fig.update_layout(\n",
    "    title='garage',\n",
    "    xaxis_nticks=36)\n",
    "fig.show()\n",
    "\n",
    "date = table2.index\n",
    "data = go.Figure(data=[\n",
    "    go.Bar(name='Early', x=date, y=table2.iloc[:,0], marker_color = 'Green'),\n",
    "    go.Bar(name='On Time', x=date, y=table2.iloc[:,2], marker_color = 'Blue'), \n",
    "    go.Bar(name='Late', x=date, y=table2.iloc[:,1], marker_color = 'Red')\n",
    "])\n",
    "# Change the bar mode\n",
    "data.update_layout(barmode='stack', title = 'International Return')\n",
    "plotly.offline.iplot(data)"
   ]
  },
  {
   "cell_type": "code",
   "execution_count": null,
   "id": "0322bfbd-c2e5-4442-83d1-0c1fb082231c",
   "metadata": {},
   "outputs": [],
   "source": [
    "sns.relplot(x='beds', y='list_price', hue='school_district', data=df)\n",
    "plt.xlim(0, 10)\n",
    "plt.title('How school districts will impact on house prices with same bedroom nubmers?')\n",
    "plt.show()"
   ]
  },
  {
   "cell_type": "markdown",
   "id": "07583cc0-0754-40e3-b9ae-850141474c0b",
   "metadata": {},
   "source": [
    "### Modeling"
   ]
  },
  {
   "cell_type": "code",
   "execution_count": 70,
   "id": "d2583b7d-7913-4e9f-8812-1bda9a93e81e",
   "metadata": {},
   "outputs": [
    {
     "data": {
      "text/plain": [
       "0.5110790695204084"
      ]
     },
     "execution_count": 70,
     "metadata": {},
     "output_type": "execute_result"
    }
   ],
   "source": [
    "from sklearn.model_selection import train_test_split\n",
    "from sklearn.linear_model import LinearRegression\n",
    "from sklearn.metrics import mean_absolute_error\n",
    "\n",
    "df['property_type'] = df['property_type'].replace({'Single Family Residence': 1, 'Townhouse': 2, 'condo': 3})\n",
    "\n",
    "train = ['beds', 'bath', 'year_built', 'sqft', 'lotsize_sqft', 'install', 'water', 'sewer', 'pool', 'garage', 'parking', 'laundry', 'school_district', 'property_type']\n",
    "df_train = pd.get_dummies(df[train]).fillna(0)\n",
    "X_train, X_test, y_train, y_test = train_test_split(df_train, df['list_price'], test_size=0.30, random_state=42)\n",
    "\n",
    "reg = LinearRegression().fit(X_train, y_train)\n",
    "reg.score(X_train, y_train)"
   ]
  },
  {
   "cell_type": "code",
   "execution_count": 71,
   "id": "0bdb9dba-ab76-4982-b5e2-b4712ca9de8f",
   "metadata": {},
   "outputs": [
    {
     "data": {
      "text/plain": [
       "250024.07767563974"
      ]
     },
     "execution_count": 71,
     "metadata": {},
     "output_type": "execute_result"
    }
   ],
   "source": [
    "pred = reg.predict(X_test)\n",
    "mean_absolute_error(y_test, pred)"
   ]
  },
  {
   "cell_type": "code",
   "execution_count": 72,
   "id": "cd6b99a5-0881-4811-9b4d-a20b3e53c708",
   "metadata": {},
   "outputs": [
    {
     "data": {
      "text/plain": [
       "50.471620856308185"
      ]
     },
     "execution_count": 72,
     "metadata": {},
     "output_type": "execute_result"
    }
   ],
   "source": [
    "def AAD(exp, pred):\n",
    "    #100/N*sum(abs(exp-calc)) /exp\n",
    "    ls = []\n",
    "    for i, x in zip(pred, exp): \n",
    "        if x == 0: \n",
    "            ls.append(0)\n",
    "        else: \n",
    "            ls.append(np.abs(x - i)/i)\n",
    "    return 100/len(exp) * np.sum(ls)\n",
    "\n",
    "AAD(y_test, pred)"
   ]
  },
  {
   "cell_type": "markdown",
   "id": "2c29b4d2-64db-43d4-ba51-fb41f6f123ca",
   "metadata": {
    "tags": []
   },
   "source": [
    "from xgboost import XGBRegressor\n",
    "xg = XGBRegressor(objective ='reg:squarederror', n_estimators = 100, seed = 123).fit(X_train, y_train)\n",
    "pred = xg.predict(X_test)\n",
    "AAD(y_test, pred)"
   ]
  },
  {
   "cell_type": "code",
   "execution_count": null,
   "id": "9d972781-3967-49fd-9e73-5ad14c211feb",
   "metadata": {
    "tags": []
   },
   "outputs": [
    {
     "name": "stdout",
     "output_type": "stream",
     "text": [
      "Fitting 3 folds for each of 2700 candidates, totalling 8100 fits\n"
     ]
    }
   ],
   "source": [
    "from sklearn.model_selection import GridSearchCV\n",
    "\n",
    "# Create the parameter grid based on the results of random search \n",
    "param_grid = {\n",
    "    'max_depth': [80, 90, 100, 110, 120, None],\n",
    "    'max_features': [2, 3, 4],\n",
    "    'min_samples_leaf': [3, 4, 5, 6, 7],\n",
    "    'min_samples_split': [8, 10, 12],\n",
    "    'n_estimators': [20, 30, 40, 50, 70, 100, 125, 200, 300, 1000]\n",
    "}\n",
    "\n",
    "# Create a based model\n",
    "from xgboost import XGBRegressor\n",
    "xg = XGBRegressor(objective ='reg:squarederror', n_estimators = 100, seed = 123)\n",
    "\n",
    "# Instantiate the grid search model\n",
    "grid_search = GridSearchCV(estimator = xg, param_grid = param_grid, \n",
    "                           scoring = 'neg_mean_absolute_error', cv = 3, \n",
    "                           n_jobs = -1, verbose = 2)\n",
    "\n",
    "# Fit the grid search to the data\n",
    "grid_search.fit(X_train, y_train)\n",
    "grid_search.best_params_"
   ]
  },
  {
   "cell_type": "code",
   "execution_count": null,
   "id": "f7b633bb-c19a-4da7-aeb9-8b8a4b75fa88",
   "metadata": {},
   "outputs": [],
   "source": [
    "grid_search.best_estimator_"
   ]
  },
  {
   "cell_type": "code",
   "execution_count": null,
   "id": "b48102a5-cbdd-45f2-be0d-c766d93ac5dd",
   "metadata": {},
   "outputs": [],
   "source": [
    "grid_search.best_score_"
   ]
  },
  {
   "cell_type": "code",
   "execution_count": null,
   "id": "4c182ec4-bb6c-4023-be5d-72cd9626dd3d",
   "metadata": {},
   "outputs": [],
   "source": [
    "AAD(grid_search.predict(y_test, pred))"
   ]
  }
 ],
 "metadata": {
  "kernelspec": {
   "display_name": "Python [conda env:ml4t] *",
   "language": "python",
   "name": "conda-env-ml4t-py"
  },
  "language_info": {
   "codemirror_mode": {
    "name": "ipython",
    "version": 3
   },
   "file_extension": ".py",
   "mimetype": "text/x-python",
   "name": "python",
   "nbconvert_exporter": "python",
   "pygments_lexer": "ipython3",
   "version": "3.8.8"
  }
 },
 "nbformat": 4,
 "nbformat_minor": 5
}
