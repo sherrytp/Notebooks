{
 "cells": [
  {
   "cell_type": "code",
   "execution_count": 9,
   "metadata": {},
   "outputs": [],
   "source": [
    "import gmaps\n",
    "import pandas as pd\n",
    "import requests\n",
    "import json\n",
    "from config import (gkey, weather_api_key)"
   ]
  },
  {
   "cell_type": "code",
   "execution_count": 10,
   "metadata": {},
   "outputs": [
    {
     "data": {
      "text/html": [
       "<div>\n",
       "<style scoped>\n",
       "    .dataframe tbody tr th:only-of-type {\n",
       "        vertical-align: middle;\n",
       "    }\n",
       "\n",
       "    .dataframe tbody tr th {\n",
       "        vertical-align: top;\n",
       "    }\n",
       "\n",
       "    .dataframe thead th {\n",
       "        text-align: right;\n",
       "    }\n",
       "</style>\n",
       "<table border=\"1\" class=\"dataframe\">\n",
       "  <thead>\n",
       "    <tr style=\"text-align: right;\">\n",
       "      <th></th>\n",
       "      <th>City</th>\n",
       "      <th>Country</th>\n",
       "      <th>Lat</th>\n",
       "      <th>Lng</th>\n",
       "      <th>Temperature (F)</th>\n",
       "      <th>Humidity</th>\n",
       "      <th>Cloudiness</th>\n",
       "      <th>Wind Speed</th>\n",
       "      <th>Hemisphere</th>\n",
       "    </tr>\n",
       "  </thead>\n",
       "  <tbody>\n",
       "    <tr>\n",
       "      <th>0</th>\n",
       "      <td>Fedorovskoye</td>\n",
       "      <td>RU</td>\n",
       "      <td>58.82</td>\n",
       "      <td>42.54</td>\n",
       "      <td>47.32</td>\n",
       "      <td>93</td>\n",
       "      <td>100</td>\n",
       "      <td>3.87</td>\n",
       "      <td>Northern</td>\n",
       "    </tr>\n",
       "    <tr>\n",
       "      <th>1</th>\n",
       "      <td>Willofs</td>\n",
       "      <td>DE</td>\n",
       "      <td>47.88</td>\n",
       "      <td>10.43</td>\n",
       "      <td>73.65</td>\n",
       "      <td>43</td>\n",
       "      <td>32</td>\n",
       "      <td>6.93</td>\n",
       "      <td>Northern</td>\n",
       "    </tr>\n",
       "    <tr>\n",
       "      <th>2</th>\n",
       "      <td>Nola</td>\n",
       "      <td>IT</td>\n",
       "      <td>40.92</td>\n",
       "      <td>14.53</td>\n",
       "      <td>69.94</td>\n",
       "      <td>56</td>\n",
       "      <td>17</td>\n",
       "      <td>8.05</td>\n",
       "      <td>Northern</td>\n",
       "    </tr>\n",
       "    <tr>\n",
       "      <th>3</th>\n",
       "      <td>Świątniki Górne</td>\n",
       "      <td>PL</td>\n",
       "      <td>49.93</td>\n",
       "      <td>19.95</td>\n",
       "      <td>71.53</td>\n",
       "      <td>33</td>\n",
       "      <td>39</td>\n",
       "      <td>10.29</td>\n",
       "      <td>Northern</td>\n",
       "    </tr>\n",
       "    <tr>\n",
       "      <th>4</th>\n",
       "      <td>Corella</td>\n",
       "      <td>PH</td>\n",
       "      <td>9.69</td>\n",
       "      <td>123.92</td>\n",
       "      <td>84.20</td>\n",
       "      <td>70</td>\n",
       "      <td>20</td>\n",
       "      <td>4.70</td>\n",
       "      <td>Northern</td>\n",
       "    </tr>\n",
       "  </tbody>\n",
       "</table>\n",
       "</div>"
      ],
      "text/plain": [
       "              City Country    Lat     Lng  Temperature (F)  Humidity  \\\n",
       "0     Fedorovskoye      RU  58.82   42.54            47.32        93   \n",
       "1          Willofs      DE  47.88   10.43            73.65        43   \n",
       "2             Nola      IT  40.92   14.53            69.94        56   \n",
       "3  Świątniki Górne      PL  49.93   19.95            71.53        33   \n",
       "4          Corella      PH   9.69  123.92            84.20        70   \n",
       "\n",
       "   Cloudiness  Wind Speed Hemisphere  \n",
       "0         100        3.87   Northern  \n",
       "1          32        6.93   Northern  \n",
       "2          17        8.05   Northern  \n",
       "3          39       10.29   Northern  \n",
       "4          20        4.70   Northern  "
      ]
     },
     "execution_count": 10,
     "metadata": {},
     "output_type": "execute_result"
    }
   ],
   "source": [
    "weather_df = pd.read_csv(\"./weather_data.csv\")\n",
    "weather_df.head()"
   ]
  },
  {
   "cell_type": "markdown",
   "metadata": {},
   "source": [
    "## Google Maps"
   ]
  },
  {
   "cell_type": "code",
   "execution_count": 11,
   "metadata": {},
   "outputs": [
    {
     "data": {
      "application/vnd.jupyter.widget-view+json": {
       "model_id": "ac61b2183dad407a8744a7c6d2b3062a",
       "version_major": 2,
       "version_minor": 0
      },
      "text/plain": [
       "Figure(layout=FigureLayout(height='420px'))"
      ]
     },
     "metadata": {},
     "output_type": "display_data"
    }
   ],
   "source": [
    "# heatmap display the intensity of humidity from weather dataframe\n",
    "gmaps.configure(api_key=gkey)\n",
    "humidity = weather_df[\"Humidity\"]\n",
    "coord = [(row[2],row[3]) for index, row in weather_df.iterrows()]\n",
    "\n",
    "# create heatmaps\n",
    "fig = gmaps.figure(center = (34,110) ,zoom_level=2)\n",
    "hummid_layer = gmaps.heatmap_layer(coord, weights=humidity,dissipating= False, \n",
    "                                   max_intensity=max(humidity), point_radius=1)\n",
    "fig.add_layer(hummid_layer)\n",
    "fig\n",
    "\n",
    "\n"
   ]
  },
  {
   "cell_type": "code",
   "execution_count": 12,
   "metadata": {},
   "outputs": [
    {
     "data": {
      "text/html": [
       "<div>\n",
       "<style scoped>\n",
       "    .dataframe tbody tr th:only-of-type {\n",
       "        vertical-align: middle;\n",
       "    }\n",
       "\n",
       "    .dataframe tbody tr th {\n",
       "        vertical-align: top;\n",
       "    }\n",
       "\n",
       "    .dataframe thead th {\n",
       "        text-align: right;\n",
       "    }\n",
       "</style>\n",
       "<table border=\"1\" class=\"dataframe\">\n",
       "  <thead>\n",
       "    <tr style=\"text-align: right;\">\n",
       "      <th></th>\n",
       "      <th>City</th>\n",
       "      <th>Country</th>\n",
       "      <th>Lat</th>\n",
       "      <th>Lng</th>\n",
       "      <th>Temperature (F)</th>\n",
       "      <th>Humidity</th>\n",
       "      <th>Cloudiness</th>\n",
       "      <th>Wind Speed</th>\n",
       "      <th>Hemisphere</th>\n",
       "    </tr>\n",
       "  </thead>\n",
       "  <tbody>\n",
       "    <tr>\n",
       "      <th>13</th>\n",
       "      <td>Porangaba</td>\n",
       "      <td>BR</td>\n",
       "      <td>-23.16</td>\n",
       "      <td>-48.14</td>\n",
       "      <td>73.72</td>\n",
       "      <td>49</td>\n",
       "      <td>0</td>\n",
       "      <td>6.04</td>\n",
       "      <td>Southern</td>\n",
       "    </tr>\n",
       "    <tr>\n",
       "      <th>47</th>\n",
       "      <td>Căldăraru</td>\n",
       "      <td>RO</td>\n",
       "      <td>44.41</td>\n",
       "      <td>26.26</td>\n",
       "      <td>72.18</td>\n",
       "      <td>37</td>\n",
       "      <td>3</td>\n",
       "      <td>3.36</td>\n",
       "      <td>Northern</td>\n",
       "    </tr>\n",
       "    <tr>\n",
       "      <th>60</th>\n",
       "      <td>Wakīl Rustam Kêlay</td>\n",
       "      <td>AF</td>\n",
       "      <td>31.45</td>\n",
       "      <td>65.29</td>\n",
       "      <td>75.20</td>\n",
       "      <td>14</td>\n",
       "      <td>1</td>\n",
       "      <td>4.70</td>\n",
       "      <td>Northern</td>\n",
       "    </tr>\n",
       "    <tr>\n",
       "      <th>72</th>\n",
       "      <td>Yuquan</td>\n",
       "      <td>CN</td>\n",
       "      <td>26.61</td>\n",
       "      <td>101.60</td>\n",
       "      <td>71.10</td>\n",
       "      <td>35</td>\n",
       "      <td>0</td>\n",
       "      <td>1.21</td>\n",
       "      <td>Northern</td>\n",
       "    </tr>\n",
       "    <tr>\n",
       "      <th>84</th>\n",
       "      <td>Mendenhall Springs</td>\n",
       "      <td>US</td>\n",
       "      <td>37.59</td>\n",
       "      <td>-121.65</td>\n",
       "      <td>70.38</td>\n",
       "      <td>55</td>\n",
       "      <td>1</td>\n",
       "      <td>5.82</td>\n",
       "      <td>Northern</td>\n",
       "    </tr>\n",
       "  </tbody>\n",
       "</table>\n",
       "</div>"
      ],
      "text/plain": [
       "                  City Country    Lat     Lng  Temperature (F)  Humidity  \\\n",
       "13           Porangaba      BR -23.16  -48.14            73.72        49   \n",
       "47           Căldăraru      RO  44.41   26.26            72.18        37   \n",
       "60  Wakīl Rustam Kêlay      AF  31.45   65.29            75.20        14   \n",
       "72              Yuquan      CN  26.61  101.60            71.10        35   \n",
       "84  Mendenhall Springs      US  37.59 -121.65            70.38        55   \n",
       "\n",
       "    Cloudiness  Wind Speed Hemisphere  \n",
       "13           0        6.04   Southern  \n",
       "47           3        3.36   Northern  \n",
       "60           1        4.70   Northern  \n",
       "72           0        1.21   Northern  \n",
       "84           1        5.82   Northern  "
      ]
     },
     "execution_count": 12,
     "metadata": {},
     "output_type": "execute_result"
    }
   ],
   "source": [
    "# select ideal locations\n",
    "def select_location(temperature_low:float, temperature_high:float,wind_speed:float, cloud:float, dataset:pd.core.frame.DataFrame):\n",
    "    select_data = dataset.loc[(dataset[\"Temperature (F)\"]>temperature_low)&(dataset[\"Temperature (F)\"]<temperature_high)\n",
    "                & (dataset[\"Wind Speed\"]<wind_speed) &(dataset[\"Cloudiness\"]<cloud),]\n",
    "    return select_data\n",
    "\n",
    "vacation_data = select_location(70, 90,10, 5, weather_df)\n",
    "vacation_data.head()"
   ]
  },
  {
   "cell_type": "code",
   "execution_count": 14,
   "metadata": {},
   "outputs": [
    {
     "data": {
      "application/vnd.jupyter.widget-view+json": {
       "model_id": "ac61b2183dad407a8744a7c6d2b3062a",
       "version_major": 2,
       "version_minor": 0
      },
      "text/plain": [
       "Figure(layout=FigureLayout(height='420px'))"
      ]
     },
     "metadata": {},
     "output_type": "display_data"
    }
   ],
   "source": [
    "# add marker\n",
    "coord = [(row[2],row[3]) for index, row in vacation_data.iterrows()]\n",
    "info_text = [f\"City: {row[0]} <br> Country: {row[1]}\" for index, row in vacation_data.iterrows()]\n",
    "\n",
    "# add both marker and heatmaps\n",
    "gmaps.configure(api_key=gkey)\n",
    "marker = gmaps.marker_layer(coord, info_box_content=info_text)\n",
    "fig.add_layer(marker)\n",
    "fig.add_layer(hummid_layer)\n",
    "fig"
   ]
  }
 ],
 "metadata": {
  "kernelspec": {
   "display_name": "Python [conda env:gmaps]",
   "language": "python",
   "name": "conda-env-gmaps-py"
  },
  "language_info": {
   "codemirror_mode": {
    "name": "ipython",
    "version": 3
   },
   "file_extension": ".py",
   "mimetype": "text/x-python",
   "name": "python",
   "nbconvert_exporter": "python",
   "pygments_lexer": "ipython3",
   "version": "3.6.10"
  }
 },
 "nbformat": 4,
 "nbformat_minor": 4
}
