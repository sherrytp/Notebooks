{
 "cells": [
  {
   "cell_type": "markdown",
   "id": "b103f943-0fb2-4d83-88e9-d2c7e0cb9f15",
   "metadata": {},
   "source": [
    "# 统计学：检验心理学现象\n",
    "在下方单元格中回答问题并执行相关代码，你可以[参考项目指导](https://github.com/udacity/new-dand-advanced-china/blob/master/%E6%A3%80%E9%AA%8C%E5%BF%83%E7%90%86%E5%AD%A6%E7%8E%B0%E8%B1%A1/%E7%BB%9F%E8%AE%A1%E5%AD%A6%EF%BC%9A%E6%A3%80%E9%AA%8C%E5%BF%83%E7%90%86%E5%AD%A6%E7%8E%B0%E8%B1%A1.md)并在正式提交前查看[项目要求](https://review.udacity.com/#!/rubrics/305/view)。提交时请将 Jupyter notebook 导出成 HTML 或者 PDF 进行提交（File -> Download As）。\n",
    "\n",
    "## 背景信息\n",
    "\n",
    "在一个Stroop （斯特鲁普）任务中，参与者得到了一列文字，每个文字都用一种油墨颜色展示。参与者的任务是将文字的打印颜色大声说出来。这项任务有两个条件：一致文字条件，和不一致文字条件。在一致文字条件中，显示的文字是与它们的打印颜色匹配的颜色词，如“红色”、“蓝色”。在不一致文字条件中，显示的文字是与它们的打印颜色不匹配的颜色词，如“紫色”、“橙色”。在每个情况中，我们将计量说出同等大小的列表中的墨色名称的时间。每位参与者必须全部完成并记录每种条件下使用的时间。\n",
    "\n",
    "## 调查问题\n",
    "\n",
    "作为一般说明，请确保记录你在创建项目时使用或参考的任何资源。作为项目提交的一部分，你将需要报告信息来源。\n",
    "\n",
    "(1) 我们的自变量是什么？因变量是什么？\n",
    "\n",
    "**因变量**：一致文字条件，和不一致文字条件 **自变量**：说出同等大小的列表中的墨色名称的时间\n",
    "\n",
    "(2) 此任务的适当假设集是什么？你需要以文字和数学符号方式对假设集中的零假设和对立假设加以说明，并对数学符号进行定义。你想执行什么类型的统计检验？为你的选择提供正当理由（比如，为何该实验满足你所选统计检验的前置条件）。\n",
    "\n",
    "**假设集**： 零假设： Stroop效应不存在 对立假设：Stroop效应是存在的\n",
    "\n",
    "统计检验类型：T检验 理由：\n",
    "\n",
    "现在轮到你自行尝试 Stroop 任务了。前往此链接，其中包含一个基于 Java 的小程序，专门用于执行 Stroop 任务。记录你收到的任务时间（你无需将时间提交到网站）。现在下载此数据集，其中包含一些任务参与者的结果。数据集的每行包含一名参与者的表现，第一个数字代表他们的一致任务结果，第二个数字代表不一致任务结果。\n",
    "\n",
    "(3) 报告关于此数据集的一些描述性统计。包含至少一个集中趋势测量和至少一个变异测量。\n",
    "\n",
    "**参考资料**：\n",
    "\n",
    "#https://zhuanlan.zhihu.com/p/32684622\n",
    "#https://www.jianshu.com/p/b2f70f867a4a\n",
    "#https://segmentfault.com/a/1190000007626742\n",
    "#http://www.atyun.com/7476.html"
   ]
  },
  {
   "cell_type": "markdown",
   "id": "788b8a71-3534-4947-9184-6c6efed68ffd",
   "metadata": {},
   "source": [
    "# 项目：可视化电影数据\n",
    "### 第一步：清理数据和选择变量\n",
    "清理缺失的信息，选择在可视化中需要进一步研究的最重要的变量。\n",
    "列出你在可视化中会进一步研究的变量。你要研究的变量数量应该不超过8个。\n",
    "可以使用 Python 中的 Pandas 库来清洗数据。\n",
    "### 第二步：Tableau 可视化\n",
    "请确保你遵循了这些[提示](https://review.udacity.com/#!/rubrics/618/view)，并在你的项目中包含了 Tableau 的仪表板（Dashboard）、故事（Stories）模块，以及你的项目评审师会特别检查的可视化类型（小图、散点图、条形图等）。需要特别注意的是，针对每一个问题（Q1-Q4），你都需要创建一个仪表板。另外，你也需要为一个你所选择的问题创建故事模块。\n",
    "### 第三步：问题\n",
    "回答下列问题，引用你在线可视化结果去支持你的答案：\n",
    "* 问题1：电影类型是如何随着时代变化而变化的?\n",
    "* 问题2：环球影业和派拉蒙影业的电影之前数据指标有什么区别?\n",
    "* 问题3：和非小说改编的电影相比，基于小说改编的电影表现得怎么样?\n",
    "* 你提出的另外问题是什么？答案是什么？你是怎么想出这个问题的？"
   ]
  },
  {
   "cell_type": "code",
   "execution_count": 1,
   "id": "1b4df744-019b-46a0-b6f8-c602dc350c6b",
   "metadata": {},
   "outputs": [],
   "source": [
    "import pandas as pd\n",
    "import matplotlib as plt\n",
    "import numpy as np\n",
    "from scipy import stats"
   ]
  },
  {
   "cell_type": "code",
   "execution_count": 2,
   "id": "f4444915-aaf0-4745-9f12-9fbb8521945c",
   "metadata": {},
   "outputs": [
    {
     "data": {
      "text/html": [
       "<div>\n",
       "<style scoped>\n",
       "    .dataframe tbody tr th:only-of-type {\n",
       "        vertical-align: middle;\n",
       "    }\n",
       "\n",
       "    .dataframe tbody tr th {\n",
       "        vertical-align: top;\n",
       "    }\n",
       "\n",
       "    .dataframe thead th {\n",
       "        text-align: right;\n",
       "    }\n",
       "</style>\n",
       "<table border=\"1\" class=\"dataframe\">\n",
       "  <thead>\n",
       "    <tr style=\"text-align: right;\">\n",
       "      <th></th>\n",
       "      <th>Congruent</th>\n",
       "      <th>Incongruent</th>\n",
       "    </tr>\n",
       "  </thead>\n",
       "  <tbody>\n",
       "    <tr>\n",
       "      <th>0</th>\n",
       "      <td>12.079</td>\n",
       "      <td>19.278</td>\n",
       "    </tr>\n",
       "    <tr>\n",
       "      <th>1</th>\n",
       "      <td>16.791</td>\n",
       "      <td>18.741</td>\n",
       "    </tr>\n",
       "    <tr>\n",
       "      <th>2</th>\n",
       "      <td>9.564</td>\n",
       "      <td>21.214</td>\n",
       "    </tr>\n",
       "    <tr>\n",
       "      <th>3</th>\n",
       "      <td>8.630</td>\n",
       "      <td>15.687</td>\n",
       "    </tr>\n",
       "    <tr>\n",
       "      <th>4</th>\n",
       "      <td>14.669</td>\n",
       "      <td>22.803</td>\n",
       "    </tr>\n",
       "    <tr>\n",
       "      <th>5</th>\n",
       "      <td>12.238</td>\n",
       "      <td>20.878</td>\n",
       "    </tr>\n",
       "    <tr>\n",
       "      <th>6</th>\n",
       "      <td>14.692</td>\n",
       "      <td>24.572</td>\n",
       "    </tr>\n",
       "    <tr>\n",
       "      <th>7</th>\n",
       "      <td>8.987</td>\n",
       "      <td>17.394</td>\n",
       "    </tr>\n",
       "    <tr>\n",
       "      <th>8</th>\n",
       "      <td>9.401</td>\n",
       "      <td>20.762</td>\n",
       "    </tr>\n",
       "    <tr>\n",
       "      <th>9</th>\n",
       "      <td>14.480</td>\n",
       "      <td>26.282</td>\n",
       "    </tr>\n",
       "    <tr>\n",
       "      <th>10</th>\n",
       "      <td>22.328</td>\n",
       "      <td>24.524</td>\n",
       "    </tr>\n",
       "    <tr>\n",
       "      <th>11</th>\n",
       "      <td>15.298</td>\n",
       "      <td>18.644</td>\n",
       "    </tr>\n",
       "    <tr>\n",
       "      <th>12</th>\n",
       "      <td>15.073</td>\n",
       "      <td>17.510</td>\n",
       "    </tr>\n",
       "    <tr>\n",
       "      <th>13</th>\n",
       "      <td>16.929</td>\n",
       "      <td>20.330</td>\n",
       "    </tr>\n",
       "    <tr>\n",
       "      <th>14</th>\n",
       "      <td>18.200</td>\n",
       "      <td>35.255</td>\n",
       "    </tr>\n",
       "    <tr>\n",
       "      <th>15</th>\n",
       "      <td>12.130</td>\n",
       "      <td>22.158</td>\n",
       "    </tr>\n",
       "    <tr>\n",
       "      <th>16</th>\n",
       "      <td>18.495</td>\n",
       "      <td>25.139</td>\n",
       "    </tr>\n",
       "    <tr>\n",
       "      <th>17</th>\n",
       "      <td>10.639</td>\n",
       "      <td>20.429</td>\n",
       "    </tr>\n",
       "    <tr>\n",
       "      <th>18</th>\n",
       "      <td>11.344</td>\n",
       "      <td>17.425</td>\n",
       "    </tr>\n",
       "    <tr>\n",
       "      <th>19</th>\n",
       "      <td>12.369</td>\n",
       "      <td>34.288</td>\n",
       "    </tr>\n",
       "    <tr>\n",
       "      <th>20</th>\n",
       "      <td>12.944</td>\n",
       "      <td>23.894</td>\n",
       "    </tr>\n",
       "    <tr>\n",
       "      <th>21</th>\n",
       "      <td>14.233</td>\n",
       "      <td>17.960</td>\n",
       "    </tr>\n",
       "    <tr>\n",
       "      <th>22</th>\n",
       "      <td>19.710</td>\n",
       "      <td>22.058</td>\n",
       "    </tr>\n",
       "    <tr>\n",
       "      <th>23</th>\n",
       "      <td>16.004</td>\n",
       "      <td>21.157</td>\n",
       "    </tr>\n",
       "  </tbody>\n",
       "</table>\n",
       "</div>"
      ],
      "text/plain": [
       "    Congruent  Incongruent\n",
       "0      12.079       19.278\n",
       "1      16.791       18.741\n",
       "2       9.564       21.214\n",
       "3       8.630       15.687\n",
       "4      14.669       22.803\n",
       "5      12.238       20.878\n",
       "6      14.692       24.572\n",
       "7       8.987       17.394\n",
       "8       9.401       20.762\n",
       "9      14.480       26.282\n",
       "10     22.328       24.524\n",
       "11     15.298       18.644\n",
       "12     15.073       17.510\n",
       "13     16.929       20.330\n",
       "14     18.200       35.255\n",
       "15     12.130       22.158\n",
       "16     18.495       25.139\n",
       "17     10.639       20.429\n",
       "18     11.344       17.425\n",
       "19     12.369       34.288\n",
       "20     12.944       23.894\n",
       "21     14.233       17.960\n",
       "22     19.710       22.058\n",
       "23     16.004       21.157"
      ]
     },
     "execution_count": 2,
     "metadata": {},
     "output_type": "execute_result"
    }
   ],
   "source": [
    "# Analysis \n",
    "# Read csv as d \n",
    "data = pd.read_csv('datasets/stroopdata.csv')\n",
    "data"
   ]
  },
  {
   "cell_type": "code",
   "execution_count": 3,
   "id": "e7d7ba53-0f4e-4ae3-83c9-acad112fa5dc",
   "metadata": {},
   "outputs": [
    {
     "name": "stdout",
     "output_type": "stream",
     "text": [
      "<class 'pandas.core.frame.DataFrame'>\n",
      "RangeIndex: 24 entries, 0 to 23\n",
      "Data columns (total 2 columns):\n",
      " #   Column       Non-Null Count  Dtype  \n",
      "---  ------       --------------  -----  \n",
      " 0   Congruent    24 non-null     float64\n",
      " 1   Incongruent  24 non-null     float64\n",
      "dtypes: float64(2)\n",
      "memory usage: 512.0 bytes\n"
     ]
    }
   ],
   "source": [
    "data.info()"
   ]
  },
  {
   "cell_type": "code",
   "execution_count": 4,
   "id": "337b0ec0-6ef4-4099-866d-eac44df85142",
   "metadata": {},
   "outputs": [
    {
     "name": "stdout",
     "output_type": "stream",
     "text": [
      "C_mean = 14.051125 \n",
      "I_mean = 22.01591666666667\n"
     ]
    }
   ],
   "source": [
    "C = data['Congruent']\n",
    "I = data['Incongruent']\n",
    "C_mean = np.mean(C)\n",
    "I_mean = np.mean(I)\n",
    "print('C_mean =', C_mean, '\\nI_mean =', I_mean)"
   ]
  },
  {
   "cell_type": "code",
   "execution_count": 5,
   "id": "28e05dcc-e43e-4f06-b53e-3ac56e27654b",
   "metadata": {},
   "outputs": [
    {
     "name": "stdout",
     "output_type": "stream",
     "text": [
      "C_std = 3.484415712766633 \n",
      "I_std = 4.696055134513317\n"
     ]
    }
   ],
   "source": [
    "# 1. Indicate dependent variables and independent variables \n",
    "# Dependent variables: same literal conditions and different conditions \n",
    "# Independent variables: time of claiming ink color of same size in list \n",
    "\n",
    "# 2. Hypothesis tesing \n",
    "# H0: stroop thesis is no standing, I_mean = C_mean; \n",
    "# Ha: stroop thesis exists, I_mean ≠ C_mean. \n",
    "# Statistical testing types: T-test cuz testing sample is normally distributed, test sampel is 23 less than 30\n",
    "# T-test degree of freedom: 22, p-value: 0.05 \n",
    "\n",
    "# 3. Descriptive statisticals of datasets, including at least a measure of central tendency and one of extreme variation. \n",
    "# Central tendency: standard deviation of 2 datasets \n",
    "C_std = np.std(C)\n",
    "I_std = np.std(I)\n",
    "print('C_std =', C_std, '\\nI_std =', I_std)"
   ]
  },
  {
   "cell_type": "code",
   "execution_count": 6,
   "id": "fd7e79f1-2b71-43ba-bf17-999e0c3dfb4d",
   "metadata": {},
   "outputs": [
    {
     "name": "stdout",
     "output_type": "stream",
     "text": [
      "C_max = 22.328 \n",
      "I_max = 35.255\n"
     ]
    }
   ],
   "source": [
    "# Extreme variation: maximum of 2 datasets \n",
    "C_max = C.max()\n",
    "I_max = I.max()\n",
    "print('C_max =', C_max, '\\nI_max =', I_max)"
   ]
  },
  {
   "cell_type": "code",
   "execution_count": 7,
   "id": "7154e474-0e91-4845-80ca-966009758d1d",
   "metadata": {},
   "outputs": [
    {
     "data": {
      "text/plain": [
       "<AxesSubplot:>"
      ]
     },
     "execution_count": 7,
     "metadata": {},
     "output_type": "execute_result"
    },
    {
     "data": {
      "image/png": "[encoded data removed]",
      "text/plain": [
       "<Figure size 432x288 with 1 Axes>"
      ]
     },
     "metadata": {
      "needs_background": "light"
     },
     "output_type": "display_data"
    }
   ],
   "source": [
    "# 4. Box plotting \n",
    "data.boxplot()"
   ]
  },
  {
   "cell_type": "markdown",
   "id": "bb168c22-3e95-4d8d-aea1-9d6f1b0ba390",
   "metadata": {},
   "source": [
    "From the box plot of this dataset, it's obviously shown that `Congruent` has a lower median than the other `Incongruent`, meaning that C-group is positioning below and spending less time. While `Incongruent` group has a larger median and a bigger box, meaning there are more variances. "
   ]
  },
  {
   "cell_type": "code",
   "execution_count": 8,
   "id": "81781328-34d2-4aff-bbb1-797837598e26",
   "metadata": {},
   "outputs": [
    {
     "name": "stdout",
     "output_type": "stream",
     "text": [
      "Standard Error = 0.9791951847527618\n"
     ]
    }
   ],
   "source": [
    "# 5. Now run the statistical test and report your outcome. What is the confidence level and key statistics? Could the null hypothesis be rejected? And does the conclusion of this experiment meet your expectation? \n",
    "n = 23   # sample size \n",
    "df = 22    # df\n",
    "se = I_std / np.sqrt(n)\n",
    "print('Standard Error =', se)"
   ]
  },
  {
   "cell_type": "code",
   "execution_count": 9,
   "id": "00284f63-a080-4ece-964d-89d55b1ca9ef",
   "metadata": {},
   "outputs": [
    {
     "name": "stdout",
     "output_type": "stream",
     "text": [
      "t-stat = 8.134018417051049\n"
     ]
    }
   ],
   "source": [
    "t = (I_mean - C_mean) / se\n",
    "print('t-stat =', t)"
   ]
  },
  {
   "cell_type": "code",
   "execution_count": 10,
   "id": "b4cf211d-b055-40cc-acc5-b817a5787f74",
   "metadata": {},
   "outputs": [
    {
     "name": "stdout",
     "output_type": "stream",
     "text": [
      "p-value = 2.2377074193613566e-08\n"
     ]
    }
   ],
   "source": [
    "p = 1-stats.t.cdf(t, df=df)\n",
    "print('p-value =', p)"
   ]
  },
  {
   "cell_type": "markdown",
   "id": "c166af3b-9f45-4dab-a3fd-dfea51821bea",
   "metadata": {},
   "source": [
    "Because the calculated p-value is way less than 0.05, it means there is very little probablity that the two sample datasets share the equal mean, and the null hypothesis is rejected. The conclusion is that there exists the stroop theory. "
   ]
  }
 ],
 "metadata": {
  "kernelspec": {
   "display_name": "Python [conda env:ml4t] *",
   "language": "python",
   "name": "conda-env-ml4t-py"
  },
  "language_info": {
   "codemirror_mode": {
    "name": "ipython",
    "version": 3
   },
   "file_extension": ".py",
   "mimetype": "text/x-python",
   "name": "python",
   "nbconvert_exporter": "python",
   "pygments_lexer": "ipython3",
   "version": "3.8.8"
  }
 },
 "nbformat": 4,
 "nbformat_minor": 5
}
