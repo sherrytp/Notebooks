{
 "cells": [
  {
   "cell_type": "markdown",
   "id": "73314033-b4b3-4629-9477-1e515420bf64",
   "metadata": {},
   "source": [
    "## Generators \n",
    "Generators are used to create iterators, but with a different approach. Generators are simple functions which return an iterable set of items, one at a time, in a special way.\n",
    "\n",
    "When an iteration over a set of item starts using the for statement, the generator is run. Once the generator's function code reaches a \"yield\" statement, the generator yields its execution back to the for loop, returning a new value from the set. The generator function can generate as many values (possibly infinite) as it wants, yielding each one in its turn."
   ]
  },
  {
   "cell_type": "code",
   "execution_count": 1,
   "id": "9449065c-2768-4294-985b-e8a514e164e3",
   "metadata": {},
   "outputs": [
    {
     "name": "stdout",
     "output_type": "stream",
     "text": [
      "And the next number is... 23!\n",
      "And the next number is... 15!\n",
      "And the next number is... 10!\n",
      "And the next number is... 21!\n",
      "And the next number is... 24!\n",
      "And the next number is... 1!\n",
      "And the next number is... 8!\n"
     ]
    }
   ],
   "source": [
    "import random\n",
    "\n",
    "def lottery():\n",
    "    # returns 6 numbers between 1 and 40\n",
    "    for i in range(6):\n",
    "        yield random.randint(1, 40)\n",
    "\n",
    "    # returns a 7th number between 1 and 15\n",
    "    yield random.randint(1,15)\n",
    "\n",
    "for random_number in lottery():\n",
    "       print(\"And the next number is... %d!\" %(random_number))"
   ]
  },
  {
   "cell_type": "code",
   "execution_count": 2,
   "id": "9649ea2c-5488-45c6-879a-4d43eee65916",
   "metadata": {},
   "outputs": [
    {
     "name": "stdout",
     "output_type": "stream",
     "text": [
      "2 1\n"
     ]
    }
   ],
   "source": [
    "a = 1\n",
    "b = 2\n",
    "a, b = b, a\n",
    "print(a,b)"
   ]
  },
  {
   "cell_type": "code",
   "execution_count": 3,
   "id": "0e262815-cc92-46e5-b27a-5297ee7c7d8c",
   "metadata": {},
   "outputs": [],
   "source": [
    "# Fibonacci \n",
    "def fib():\n",
    "    a = b = 1\n",
    "    while 1: \n",
    "        yield a\n",
    "        a, b = b, a+b"
   ]
  },
  {
   "cell_type": "code",
   "execution_count": 4,
   "id": "752e0e11-7dc6-4d3c-bad6-32f6fc6d198f",
   "metadata": {},
   "outputs": [
    {
     "name": "stdout",
     "output_type": "stream",
     "text": [
      "Good, The fib function is a generator.\n",
      "1\n",
      "1\n",
      "2\n",
      "3\n",
      "5\n",
      "8\n",
      "13\n",
      "21\n",
      "34\n",
      "55\n"
     ]
    }
   ],
   "source": [
    "# testing code\n",
    "import types\n",
    "if type(fib()) == types.GeneratorType:\n",
    "    print(\"Good, The fib function is a generator.\")\n",
    "\n",
    "    counter = 0\n",
    "    for n in fib():\n",
    "        print(n)\n",
    "        counter += 1\n",
    "        if counter == 10:\n",
    "            break"
   ]
  },
  {
   "cell_type": "markdown",
   "id": "9b0fcdfd-fb17-47dc-868a-f78014d5e5e8",
   "metadata": {},
   "source": [
    "## List Comprehensions\n",
    "List Comprehensions is a very powerful tool, which creates a new list based on another list, in a single, readable line."
   ]
  },
  {
   "cell_type": "code",
   "execution_count": 5,
   "id": "7c219488-b237-4520-b222-afc99304f0d4",
   "metadata": {},
   "outputs": [
    {
     "name": "stdout",
     "output_type": "stream",
     "text": [
      "['the', 'quick', 'brown', 'fox', 'jumps', 'over', 'the', 'lazy', 'dog']\n",
      "[5, 5, 3, 5, 4, 4, 3]\n"
     ]
    }
   ],
   "source": [
    "sentence = \"the quick brown fox jumps over the lazy dog\"\n",
    "words = sentence.split()\n",
    "word_lengths = []\n",
    "for word in words:\n",
    "      if word != \"the\":\n",
    "            word_lengths.append(len(word))\n",
    "print(words)\n",
    "print(word_lengths)"
   ]
  },
  {
   "cell_type": "code",
   "execution_count": 6,
   "id": "1063ba99-78f6-4101-a70d-7908b9b603f9",
   "metadata": {},
   "outputs": [
    {
     "name": "stdout",
     "output_type": "stream",
     "text": [
      "['the', 'quick', 'brown', 'fox', 'jumps', 'over', 'the', 'lazy', 'dog']\n",
      "[5, 5, 3, 5, 4, 4, 3]\n"
     ]
    }
   ],
   "source": [
    "sentence = \"the quick brown fox jumps over the lazy dog\"\n",
    "words = sentence.split()\n",
    "word_lengths = [len(word) for word in words if word != \"the\"]\n",
    "print(words)\n",
    "print(word_lengths)"
   ]
  },
  {
   "cell_type": "code",
   "execution_count": 7,
   "id": "618f62ae-3356-4bcb-a269-cdba929eae3f",
   "metadata": {},
   "outputs": [
    {
     "name": "stdout",
     "output_type": "stream",
     "text": [
      "[34, 44, 68, 44, 12]\n"
     ]
    }
   ],
   "source": [
    "# only the positive numbers from the list\n",
    "\n",
    "numbers = [34.6, -203.4, 44.9, 68.3, -12.2, 44.6, 12.7]\n",
    "newlist = [int(i) for i in numbers if i > 0]\n",
    "print(newlist)"
   ]
  },
  {
   "cell_type": "markdown",
   "id": "d23844d7-6b2e-41f8-aee8-0102b2412e83",
   "metadata": {},
   "source": [
    "## Functions"
   ]
  },
  {
   "cell_type": "code",
   "execution_count": 8,
   "id": "38a81700-83c4-4681-a953-ea41b1b58f4c",
   "metadata": {},
   "outputs": [],
   "source": [
    "def my_function():\n",
    "    print(\"Hello From My Function!\")"
   ]
  },
  {
   "cell_type": "code",
   "execution_count": 9,
   "id": "9aea2e53-381a-409c-85be-222b99908e88",
   "metadata": {},
   "outputs": [],
   "source": [
    "def my_function_with_args(username, greeting):\n",
    "    print(\"Hello, %s , From My Function!, I wish you %s\"%(username, greeting))"
   ]
  },
  {
   "cell_type": "code",
   "execution_count": 10,
   "id": "bdb9c1e2-a1ed-4fa7-9cdb-e9df469bfd97",
   "metadata": {},
   "outputs": [],
   "source": [
    "def sum_two_numbers(a, b):\n",
    "    return a + b"
   ]
  },
  {
   "cell_type": "code",
   "execution_count": 11,
   "id": "098fcd3a-67e6-4f18-9458-e565cc702322",
   "metadata": {},
   "outputs": [
    {
     "name": "stdout",
     "output_type": "stream",
     "text": [
      "Hello From My Function!\n",
      "Hello, John Doe, From My Function!, I wish you a great year!\n"
     ]
    }
   ],
   "source": [
    "# Define our 3 functions\n",
    "def my_function():\n",
    "    print(\"Hello From My Function!\")\n",
    "\n",
    "def my_function_with_args(username, greeting):\n",
    "    print(\"Hello, %s, From My Function!, I wish you %s\"%(username, greeting))\n",
    "\n",
    "def sum_two_numbers(a, b):\n",
    "    return a + b\n",
    "\n",
    "# print(a simple greeting)\n",
    "my_function()\n",
    "\n",
    "#prints - \"Hello, John Doe, From My Function!, I wish you a great year!\"\n",
    "my_function_with_args(\"John Doe\", \"a great year!\")\n",
    "\n",
    "# after this line x will hold the value 3!\n",
    "x = sum_two_numbers(1,2)"
   ]
  },
  {
   "cell_type": "code",
   "execution_count": 12,
   "id": "a9a30c0e-7b14-4b02-8f76-4ed046fcffc9",
   "metadata": {},
   "outputs": [
    {
     "name": "stdout",
     "output_type": "stream",
     "text": [
      "More organized code is a benefit of functions!\n",
      "More readable code is a benefit of functions!\n",
      "Easier code reuse is a benefit of functions!\n",
      "Allowing programmers to share and connect code together is a benefit of functions!\n"
     ]
    }
   ],
   "source": [
    "# Modify this function to return a list of strings as defined above\n",
    "def list_benefits():\n",
    "    return \"More organized code\", \"More readable code\", \"Easier code reuse\", \"Allowing programmers to share and connect code together\"\n",
    "\n",
    "# Modify this function to concatenate to each benefit - \" is a benefit of functions!\"\n",
    "def build_sentence(benefit):\n",
    "    return \"%s is a benefit of functions!\" % benefit\n",
    "\n",
    "\n",
    "def name_the_benefits_of_functions():\n",
    "    list_of_benefits = list_benefits()\n",
    "    for benefit in list_of_benefits:\n",
    "        print(build_sentence(benefit))\n",
    "\n",
    "name_the_benefits_of_functions()"
   ]
  },
  {
   "cell_type": "markdown",
   "id": "914c1d27-6559-4f91-b80a-752280a5463b",
   "metadata": {},
   "source": [
    "## Classes and Objects"
   ]
  },
  {
   "cell_type": "code",
   "execution_count": 13,
   "id": "7a11526d-ece0-43d0-b583-a0bf79c1e6bf",
   "metadata": {},
   "outputs": [],
   "source": [
    "class MyClass:\n",
    "    variable = \"blah\"\n",
    "\n",
    "    def function(self):\n",
    "        print(\"This is a message inside the class.\")"
   ]
  },
  {
   "cell_type": "code",
   "execution_count": 14,
   "id": "23f8512a-926f-4b6c-bb96-3c092eba24f3",
   "metadata": {},
   "outputs": [],
   "source": [
    "class MyClass:\n",
    "    variable = \"blah\"\n",
    "\n",
    "    def function(self):\n",
    "        print(\"This is a message inside the class.\")\n",
    "\n",
    "myobjectx = MyClass()"
   ]
  },
  {
   "cell_type": "code",
   "execution_count": 15,
   "id": "4a4d19f6-d72d-4011-b8d2-bb9f6f62bb86",
   "metadata": {},
   "outputs": [
    {
     "data": {
      "text/plain": [
       "'blah'"
      ]
     },
     "execution_count": 15,
     "metadata": {},
     "output_type": "execute_result"
    }
   ],
   "source": [
    "class MyClass:\n",
    "    variable = \"blah\"\n",
    "\n",
    "    def function(self):\n",
    "        print(\"This is a message inside the class.\")\n",
    "\n",
    "myobjectx = MyClass()\n",
    "\n",
    "myobjectx.variable"
   ]
  },
  {
   "cell_type": "code",
   "execution_count": 16,
   "id": "70edf7ef-f0fa-4de3-aa4a-eef57aa963bd",
   "metadata": {},
   "outputs": [
    {
     "name": "stdout",
     "output_type": "stream",
     "text": [
      "blah\n",
      "yackity\n"
     ]
    }
   ],
   "source": [
    "class MyClass:\n",
    "    variable = \"blah\"\n",
    "\n",
    "    def function(self):\n",
    "        print(\"This is a message inside the class.\")\n",
    "\n",
    "myobjectx = MyClass()\n",
    "myobjecty = MyClass()\n",
    "\n",
    "myobjecty.variable = \"yackity\"\n",
    "\n",
    "# Then print out both values\n",
    "print(myobjectx.variable)\n",
    "print(myobjecty.variable)"
   ]
  },
  {
   "cell_type": "code",
   "execution_count": 17,
   "id": "e567e0bf-74e0-43cf-a61f-ddcd94483551",
   "metadata": {},
   "outputs": [
    {
     "name": "stdout",
     "output_type": "stream",
     "text": [
      "This is a message inside the class.\n"
     ]
    }
   ],
   "source": [
    "class MyClass:\n",
    "    variable = \"blah\"\n",
    "\n",
    "    def function(self):\n",
    "        print(\"This is a message inside the class.\")\n",
    "\n",
    "myobjectx = MyClass()\n",
    "\n",
    "myobjectx.function()"
   ]
  },
  {
   "cell_type": "code",
   "execution_count": 18,
   "id": "64a67a3e-94ea-4a0f-9768-87869284a9aa",
   "metadata": {},
   "outputs": [
    {
     "name": "stdout",
     "output_type": "stream",
     "text": [
      "Fer is a red convertible worth $60000.00.\n",
      "Jump is a blue van worth $10000.00.\n"
     ]
    }
   ],
   "source": [
    "# define the Vehicle class\n",
    "class Vehicle:\n",
    "    name = \"\"\n",
    "    kind = \"car\"\n",
    "    color = \"\"\n",
    "    value = 100.00\n",
    "    def description(self):\n",
    "        desc_str = \"%s is a %s %s worth $%.2f.\" % (self.name, self.color, self.kind, self.value)\n",
    "        return desc_str\n",
    "\n",
    "# your code goes here\n",
    "car1 = Vehicle()\n",
    "car1.name = \"Fer\"\n",
    "car1.color = \"red\"\n",
    "car1.kind = \"convertible\"\n",
    "car1.value = 60000.00\n",
    "\n",
    "car2 = Vehicle()\n",
    "car2.name = \"Jump\"\n",
    "car2.color = \"blue\"\n",
    "car2.kind = \"van\"\n",
    "car2.value = 10000.00\n",
    "\n",
    "# test code\n",
    "print(car1.description())\n",
    "print(car2.description())"
   ]
  },
  {
   "cell_type": "markdown",
   "id": "c2ffad82-76bc-4d10-87cf-67f284d5ebfb",
   "metadata": {},
   "source": [
    "## Modules\n",
    "\n",
    "```\n",
    "def draw_game():\n",
    "    pass #this is a null statement which does nothing when executed, useful as a placeholder.\n",
    "\n",
    "def clear_screen(screen):\n",
    "    pass #this is a null statement which does nothing when executed, useful as a placeholder.\n",
    "    \n",
    "# game.py\n",
    "# import the draw module\n",
    "from draw import draw_game\n",
    "\n",
    "def main():\n",
    "    result = play_game()\n",
    "    draw_game(result)\n",
    "\n",
    "\n",
    "# game.py\n",
    "# import the draw module\n",
    "from draw import *\n",
    "\n",
    "def main():\n",
    "    result = play_game()\n",
    "    draw_game(result)\n",
    "\n",
    "\n",
    "# game.py\n",
    "# import the draw module\n",
    "if visual_mode:\n",
    "    # in visual mode, we draw using graphics\n",
    "    import draw_visual as draw\n",
    "else:\n",
    "    # in textual mode, we print out text\n",
    "    import draw_textual as draw\n",
    "\n",
    "def main():\n",
    "    result = play_game()\n",
    "    # this can either be visual or textual depending on visual_mode\n",
    "    draw.draw_game(result)\n",
    "```"
   ]
  },
  {
   "cell_type": "code",
   "execution_count": 19,
   "id": "5bd8de74-994d-4802-bc1f-ad3fb82c7de3",
   "metadata": {},
   "outputs": [],
   "source": [
    "# draw.py\n",
    "\n",
    "def draw_game():\n",
    "    # when clearing the screen we can use the main screen object initialized in this module\n",
    "    clear_screen(main_screen)\n",
    "    ...\n",
    "\n",
    "def clear_screen(screen):\n",
    "    ...\n",
    "\n",
    "class Screen():\n",
    "    ...\n",
    "\n",
    "# initialize main_screen as a singleton\n",
    "main_screen = Screen()"
   ]
  },
  {
   "cell_type": "markdown",
   "id": "2415b612-f68f-461b-9413-4cb5f8635a6b",
   "metadata": {},
   "source": [
    "## Multiple Function Arguments"
   ]
  },
  {
   "cell_type": "code",
   "execution_count": 20,
   "id": "f1874363-f3fc-46e4-a2ae-7efd6f724e76",
   "metadata": {},
   "outputs": [],
   "source": [
    "def foo(first, second, third, *therest):\n",
    "    print(\"First: %s\" % first)\n",
    "    print(\"Second: %s\" % second)\n",
    "    print(\"Third: %s\" % third)\n",
    "    print(\"And all the rest... %s\" % list(therest))"
   ]
  },
  {
   "cell_type": "code",
   "execution_count": 21,
   "id": "237ecb48-6dc5-49a8-b65c-7c2a774bd2ee",
   "metadata": {},
   "outputs": [
    {
     "name": "stdout",
     "output_type": "stream",
     "text": [
      "First: 1\n",
      "Second: 2\n",
      "Third: 3\n",
      "And all the rest... [4, 5]\n"
     ]
    }
   ],
   "source": [
    "foo(1,2,3,4,5)"
   ]
  },
  {
   "cell_type": "code",
   "execution_count": 22,
   "id": "0c02dad0-e94a-4d79-a847-eed074da2462",
   "metadata": {},
   "outputs": [
    {
     "name": "stdout",
     "output_type": "stream",
     "text": [
      "The sum is: 6\n",
      "Result: 1\n"
     ]
    }
   ],
   "source": [
    "def bar(first, second, third, **options):\n",
    "    if options.get(\"action\") == \"sum\":\n",
    "        print(\"The sum is: %d\" %(first + second + third))\n",
    "\n",
    "    if options.get(\"number\") == \"first\":\n",
    "        return first\n",
    "\n",
    "result = bar(1, 2, 3, action = \"sum\", number = \"first\")\n",
    "print(\"Result: %d\" %(result))"
   ]
  },
  {
   "cell_type": "code",
   "execution_count": 23,
   "id": "b3ffea50-b01a-4a7d-af84-17d7a217aa5d",
   "metadata": {},
   "outputs": [
    {
     "name": "stdout",
     "output_type": "stream",
     "text": [
      "Good.\n",
      "Better.\n",
      "Great.\n",
      "Awesome!\n"
     ]
    }
   ],
   "source": [
    "# edit the functions prototype and implementation\n",
    "def foo(a, b, c, *args):\n",
    "    return len(args)\n",
    "\n",
    "def bar(a, b, c, **kwargs):\n",
    "    return kwargs[\"magicnumber\"] == 7\n",
    "\n",
    "\n",
    "# test code\n",
    "if foo(1,2,3,4) == 1:\n",
    "    print(\"Good.\")\n",
    "if foo(1,2,3,4,5) == 2:\n",
    "    print(\"Better.\")\n",
    "if bar(1,2,3,magicnumber = 6) == False:\n",
    "    print(\"Great.\")\n",
    "if bar(1,2,3,magicnumber = 7) == True:\n",
    "    print(\"Awesome!\")"
   ]
  },
  {
   "cell_type": "markdown",
   "id": "be299feb-d313-4e2f-91d8-64fda4426d59",
   "metadata": {},
   "source": [
    "## Regular Expression\n",
    "An example regex is `r\"^(From|To|Cc).*?python-list@python.org\"` Now for an explanation: the caret ^ matches text at the beginning of a line. The following group, the part with (From|To|Cc) means that the line has to start with one of the words that are separated by the pipe |. That is called the OR operator, and the regex will match if the line starts with any of the words in the group. The .*? means to un-greedily match any number of characters, except the newline \\n character. The un-greedy part means to match as few repetitions as possible. The . character means any non-newline character, the * means to repeat 0 or more times, and the ? character makes it un-greedy.\n",
    "\n",
    "So, the following lines would be matched by that regex: From: python-list@python.org To: !asp]<,. python-list@python.org\n",
    "\n",
    "A complete reference for the re syntax is available at the [python docs](https://docs.python.org/3/library/re.html#regular-expression-syntax%22RE%20syntax)."
   ]
  },
  {
   "cell_type": "code",
   "execution_count": 24,
   "id": "71317a47-e630-4ed5-9dac-1f10128410ac",
   "metadata": {},
   "outputs": [
    {
     "name": "stdout",
     "output_type": "stream",
     "text": [
      "Pass\n",
      "Pass\n",
      "Pass\n"
     ]
    }
   ],
   "source": [
    "# Exercise: make a regular expression that will match an email\n",
    "import re\n",
    "def test_email(your_pattern):\n",
    "    pattern = re.compile(your_pattern)\n",
    "    emails = [\"john@example.com\", \"python-list@python.org\", \"wha.t.`1an?ug{}ly@email.com\"]\n",
    "    for email in emails:\n",
    "        if not re.match(pattern, email):\n",
    "            print(\"You failed to match %s\" % (email))\n",
    "        elif not your_pattern:\n",
    "            print(\"Forgot to enter a pattern!\")\n",
    "        else:\n",
    "            print(\"Pass\")\n",
    "# Your pattern here!\n",
    "pattern = r\"\\\"?([-a-zA-Z0-9.`?{}]+@\\w+\\.\\w+)\\\"?\"\n",
    "test_email(pattern)"
   ]
  },
  {
   "cell_type": "markdown",
   "id": "c437f7b7-3088-4d0c-82b3-ed72feca86cb",
   "metadata": {},
   "source": [
    "## Exception Handling"
   ]
  },
  {
   "cell_type": "code",
   "execution_count": 25,
   "id": "404b087b-e671-4633-a7cc-27c218e0b0e3",
   "metadata": {},
   "outputs": [
    {
     "name": "stdout",
     "output_type": "stream",
     "text": [
      "1\n",
      "2\n",
      "3\n",
      "4\n",
      "5\n",
      "0\n",
      "0\n",
      "0\n",
      "0\n",
      "0\n",
      "0\n",
      "0\n",
      "0\n",
      "0\n",
      "0\n",
      "0\n",
      "0\n",
      "0\n",
      "0\n",
      "0\n"
     ]
    }
   ],
   "source": [
    "def do_stuff_with_number(n):\n",
    "    print(n)\n",
    "\n",
    "def catch_this():\n",
    "    the_list = (1, 2, 3, 4, 5)\n",
    "\n",
    "    for i in range(20):\n",
    "        try:\n",
    "            do_stuff_with_number(the_list[i])\n",
    "        except IndexError: # Raised when accessing a non-existing index of a list\n",
    "            do_stuff_with_number(0)\n",
    "\n",
    "catch_this()"
   ]
  },
  {
   "cell_type": "code",
   "execution_count": 26,
   "id": "7552c63e-89ed-4741-adf4-356c29511444",
   "metadata": {},
   "outputs": [
    {
     "name": "stdout",
     "output_type": "stream",
     "text": [
      "All exceptions caught! Good job!\n",
      "The actor's last name is Cleese\n"
     ]
    }
   ],
   "source": [
    "actor = {\"name\": \"John Cleese\", \"rank\": \"awesome\"}\n",
    "\n",
    "def get_last_name():\n",
    "    return actor[\"name\"].split()[1]\n",
    "\n",
    "get_last_name()\n",
    "print(\"All exceptions caught! Good job!\")\n",
    "print(\"The actor's last name is %s\" % get_last_name())"
   ]
  },
  {
   "cell_type": "markdown",
   "id": "eaba9533-e65e-43e6-a065-0f56014e87e7",
   "metadata": {},
   "source": [
    "## Serialization\n",
    "Python provides built-in JSON libraries to encode and decode JSON."
   ]
  },
  {
   "cell_type": "code",
   "execution_count": 27,
   "id": "420dce84-9382-43b0-9b7d-9539b47defd8",
   "metadata": {},
   "outputs": [
    {
     "name": "stdout",
     "output_type": "stream",
     "text": [
      "[1, 2, 3, \"a\", \"b\", \"c\"]\n"
     ]
    }
   ],
   "source": [
    "import json\n",
    "json_string = json.dumps([1, 2, 3, \"a\", \"b\", \"c\"])\n",
    "print(json_string)"
   ]
  },
  {
   "cell_type": "code",
   "execution_count": 28,
   "id": "2543090b-7d45-4fc6-a6f3-329143cc9f76",
   "metadata": {},
   "outputs": [
    {
     "name": "stdout",
     "output_type": "stream",
     "text": [
      "[1, 2, 3, 'a', 'b', 'c']\n"
     ]
    }
   ],
   "source": [
    "import pickle\n",
    "pickled_string = pickle.dumps([1, 2, 3, \"a\", \"b\", \"c\"])\n",
    "print(pickle.loads(pickled_string))"
   ]
  },
  {
   "cell_type": "code",
   "execution_count": 29,
   "id": "44655501-7379-491f-8db1-9bed9dd43762",
   "metadata": {},
   "outputs": [
    {
     "name": "stdout",
     "output_type": "stream",
     "text": [
      "300\n",
      "400\n",
      "800\n"
     ]
    }
   ],
   "source": [
    "import json\n",
    "\n",
    "# fix this function, so it adds the given name\n",
    "# and salary pair to salaries_json, and return it\n",
    "def add_employee(salaries_json, name, salary):\n",
    "    salaries = json.loads(salaries_json)\n",
    "    salaries[name] = salary\n",
    "\n",
    "    return json.dumps(salaries)\n",
    "\n",
    "# test code\n",
    "salaries = '{\"Alfred\" : 300, \"Jane\" : 400 }'\n",
    "new_salaries = add_employee(salaries, \"Me\", 800)\n",
    "decoded_salaries = json.loads(new_salaries)\n",
    "print(decoded_salaries[\"Alfred\"])\n",
    "print(decoded_salaries[\"Jane\"])\n",
    "print(decoded_salaries[\"Me\"])"
   ]
  },
  {
   "cell_type": "markdown",
   "id": "ae93ccb9-ed5e-449c-8237-5d5c052430df",
   "metadata": {},
   "source": [
    "## Partial functions\n",
    "Partial functions allow one to derive a function with x parameters to a function with fewer parameters and fixed values set for the more limited function.\n",
    "\n",
    "An important **note**: the default values will start replacing variables from the left. The 2 will replace x. y will equal 4 when dbl(4) is called. It does not make a difference in this example, but it does in the example below."
   ]
  },
  {
   "cell_type": "code",
   "execution_count": 30,
   "id": "25484dfa-cd62-4d9c-b950-4ad351b4ba33",
   "metadata": {},
   "outputs": [
    {
     "name": "stdout",
     "output_type": "stream",
     "text": [
      "8\n"
     ]
    }
   ],
   "source": [
    "from functools import partial\n",
    "\n",
    "def multiply(x,y):\n",
    "        return x * y\n",
    "\n",
    "# create a new function that multiplies by 2\n",
    "dbl = partial(multiply,2)\n",
    "print(dbl(4))"
   ]
  },
  {
   "cell_type": "code",
   "execution_count": 31,
   "id": "6bcb29b8-ddc2-4a9d-86e4-8c76b7204231",
   "metadata": {},
   "outputs": [
    {
     "name": "stdout",
     "output_type": "stream",
     "text": [
      "60\n"
     ]
    }
   ],
   "source": [
    "from functools import partial\n",
    "def func(u,v,w,x):\n",
    "    return u*4 + v*3 + w*2 + x\n",
    "\n",
    "p = partial(func,5,6,7)\n",
    "print(p(8))"
   ]
  },
  {
   "cell_type": "code",
   "execution_count": 32,
   "id": "015781b2-32ce-4d51-b113-6233be9409d6",
   "metadata": {},
   "outputs": [
    {
     "name": "stdout",
     "output_type": "stream",
     "text": [
      "Help on built-in function dir in module builtins:\n",
      "\n",
      "dir(...)\n",
      "    dir([object]) -> list of strings\n",
      "    \n",
      "    If called without an argument, return the names in the current scope.\n",
      "    Else, return an alphabetized list of names comprising (some of) the attributes\n",
      "    of the given object, and of attributes reachable from it.\n",
      "    If the object supplies a method named __dir__, it will be used; otherwise\n",
      "    the default dir() logic is used and returns:\n",
      "      for a module object: the module's attributes.\n",
      "      for a class object:  its attributes, and recursively the attributes\n",
      "        of its bases.\n",
      "      for any other object: its attributes, its class's attributes, and\n",
      "        recursively the attributes of its class's base classes.\n",
      "\n",
      "Help on built-in function hasattr in module builtins:\n",
      "\n",
      "hasattr(obj, name, /)\n",
      "    Return whether the object has an attribute with the given name.\n",
      "    \n",
      "    This is done by calling getattr(obj, name) and catching AttributeError.\n",
      "\n",
      "Help on built-in function id in module builtins:\n",
      "\n",
      "id(obj, /)\n",
      "    Return the identity of an object.\n",
      "    \n",
      "    This is guaranteed to be unique among simultaneously existing objects.\n",
      "    (CPython uses the object's memory address.)\n",
      "\n",
      "['__class__', '__delattr__', '__dict__', '__dir__', '__doc__', '__eq__', '__format__', '__ge__', '__getattribute__', '__gt__', '__hash__', '__init__', '__init_subclass__', '__le__', '__lt__', '__module__', '__ne__', '__new__', '__reduce__', '__reduce_ex__', '__repr__', '__setattr__', '__sizeof__', '__str__', '__subclasshook__', '__weakref__', 'color', 'description', 'kind', 'name', 'value']\n"
     ]
    }
   ],
   "source": [
    "# Use the help function to see what each function does.\n",
    "# Delete this when you are done.\n",
    "help(dir)\n",
    "help(hasattr)\n",
    "help(id)\n",
    "\n",
    "# Define the Vehicle class\n",
    "class Vehicle:\n",
    "    name = \"\"\n",
    "    kind = \"car\"\n",
    "    color = \"\"\n",
    "    value = 100.00\n",
    "    def description(self):\n",
    "        desc_str = \"%s is a %s %s worth $%.2f.\" % (self.name, self.color, self.kind, self.value)\n",
    "        return desc_str\n",
    "\n",
    "# Print a list of all attributes of the Vehicle class.\n",
    "print(dir(Vehicle))"
   ]
  },
  {
   "cell_type": "markdown",
   "id": "746ee351-6efe-456a-a7fc-da4bf8263c77",
   "metadata": {},
   "source": [
    "## Closures\n",
    "A Closure is a function object that remembers values in enclosing scopes even if they are not present in memory. Let us get to it step by step\n",
    "\n",
    "Firstly, a **Nested Function** is a function defined inside another function. It's very important to note that the nested functions can access the variables of the enclosing scope. However, at least in python, they are only readonly. However, one can use the \"nonlocal\" keyword explicitly with these variables in order to modify them.\n",
    "\n",
    "ADVANTAGE : Closures can avoid use of global variables and provides some form of data hiding.(Eg. When there are few methods in a class, use closures instead)."
   ]
  },
  {
   "cell_type": "code",
   "execution_count": 33,
   "id": "f71726f2-0f01-4bea-b4bb-853c23229114",
   "metadata": {},
   "outputs": [
    {
     "name": "stdout",
     "output_type": "stream",
     "text": [
      "Test message\n",
      "None\n"
     ]
    }
   ],
   "source": [
    "def transmit_to_space(message):\n",
    "    \"This is the enclosing function\"\n",
    "    def data_transmitter():\n",
    "        \"The nested function\"\n",
    "        print(message)\n",
    "\n",
    "    data_transmitter()\n",
    "\n",
    "print(transmit_to_space(\"Test message\"))"
   ]
  },
  {
   "cell_type": "code",
   "execution_count": 34,
   "id": "b6aa98e8-632e-419f-beab-9673d2b77438",
   "metadata": {},
   "outputs": [
    {
     "name": "stdout",
     "output_type": "stream",
     "text": [
      "3\n",
      "3\n"
     ]
    }
   ],
   "source": [
    "def print_msg(number):\n",
    "    def printer():\n",
    "        \"Here we are using the nonlocal keyword\"\n",
    "        nonlocal number\n",
    "        number=3\n",
    "        print(number)\n",
    "    printer()\n",
    "    print(number)\n",
    "\n",
    "print_msg(9)"
   ]
  },
  {
   "cell_type": "code",
   "execution_count": 35,
   "id": "8fa1e009-5eb4-48f8-8ea2-076edc913b16",
   "metadata": {},
   "outputs": [],
   "source": [
    "def transmit_to_space(message):\n",
    "    \"This is the enclosing function\"\n",
    "    def data_transmitter():\n",
    "        \"The nested function\"\n",
    "        print(message)\n",
    "    return data_transmitter"
   ]
  },
  {
   "cell_type": "code",
   "execution_count": 36,
   "id": "fda36cbc-1925-4972-b64b-1a9e5ab7a763",
   "metadata": {},
   "outputs": [
    {
     "name": "stdout",
     "output_type": "stream",
     "text": [
      "Burn the Sun!\n"
     ]
    }
   ],
   "source": [
    "def transmit_to_space(message):\n",
    "  \"This is the enclosing function\"\n",
    "  def data_transmitter():\n",
    "      \"The nested function\"\n",
    "      print(message)\n",
    "  return data_transmitter\n",
    "\n",
    "fun2 = transmit_to_space(\"Burn the Sun!\")\n",
    "fun2()"
   ]
  },
  {
   "cell_type": "code",
   "execution_count": 37,
   "id": "72b08ac7-29cc-4899-b8a7-48b8d0afba2b",
   "metadata": {},
   "outputs": [
    {
     "name": "stdout",
     "output_type": "stream",
     "text": [
      "45\n"
     ]
    }
   ],
   "source": [
    "def multiplier_of(n):\n",
    "    def multiplier(number):\n",
    "        return number*n\n",
    "    return multiplier\n",
    "\n",
    "multiplywith5 = multiplier_of(5)\n",
    "print(multiplywith5(9))"
   ]
  },
  {
   "cell_type": "markdown",
   "id": "2237774e-d743-4ace-b3fc-849ba2b74530",
   "metadata": {},
   "source": [
    "## Decorators\n",
    "Also, **Decorators** in Python make extensive use of closures.\n",
    "```\n",
    "def function(arg):\n",
    "    return \"value\"\n",
    "function = decorator(function) # this passes the function to the decorator, and reassigns it to the functions\n",
    "```"
   ]
  },
  {
   "cell_type": "code",
   "execution_count": 38,
   "id": "a954755e-e1c5-4045-acda-4cf228a869f1",
   "metadata": {},
   "outputs": [],
   "source": [
    "def repeater(old_function):\n",
    "    def new_function(*args, **kwds): # See learnpython.org/en/Multiple%20Function%20Arguments for how *args and **kwds works\n",
    "        old_function(*args, **kwds) # we run the old function\n",
    "        old_function(*args, **kwds) # we do it twice\n",
    "    return new_function # we have to return the new_function, or it wouldn't reassign it to the value"
   ]
  },
  {
   "cell_type": "code",
   "execution_count": 39,
   "id": "f0f94886-1c82-4e6c-8d78-d300d444d54a",
   "metadata": {},
   "outputs": [],
   "source": [
    "def double_out(old_function):\n",
    "    def new_function(*args, **kwds):\n",
    "        return 2 * old_function(*args, **kwds) # modify the return value\n",
    "    return new_function"
   ]
  },
  {
   "cell_type": "code",
   "execution_count": 40,
   "id": "ad64dc6b-b4a3-4aae-8e09-f0346d5fa9a1",
   "metadata": {},
   "outputs": [],
   "source": [
    "def double_Ii(old_function):\n",
    "    def new_function(arg): # only works if the old function has one argument\n",
    "        return old_function(arg * 2) # modify the argument passed\n",
    "    return new_function"
   ]
  },
  {
   "cell_type": "code",
   "execution_count": 41,
   "id": "3d384eff-6d3b-4850-81be-787a2c9ff44d",
   "metadata": {},
   "outputs": [],
   "source": [
    "def check(old_function):\n",
    "    def new_function(arg):\n",
    "        if arg < 0: raise (ValueError, \"Negative Argument\") # This causes an error, which is better than it doing the wrong thing\n",
    "        old_function(arg)\n",
    "    return new_function"
   ]
  },
  {
   "cell_type": "code",
   "execution_count": 42,
   "id": "f2f26d33-1214-444c-a3da-a4b471177892",
   "metadata": {},
   "outputs": [
    {
     "data": {
      "text/plain": [
       "15"
      ]
     },
     "execution_count": 42,
     "metadata": {},
     "output_type": "execute_result"
    }
   ],
   "source": [
    "def multiply(multiplier):\n",
    "    def multiply_generator(old_function):\n",
    "        def new_function(*args, **kwds):\n",
    "            return multiplier * old_function(*args, **kwds)\n",
    "        return new_function\n",
    "    return multiply_generator # it returns the new generator\n",
    "\n",
    "# Usage\n",
    "@multiply(3) # multiply is not a generator, but multiply(3) is\n",
    "def return_num(num):\n",
    "    return num\n",
    "\n",
    "# Now return_num is decorated and reassigned into itself\n",
    "return_num(5) # should return 15"
   ]
  },
  {
   "cell_type": "code",
   "execution_count": 43,
   "id": "39c91d65-9403-4d59-9f05-976bcd988792",
   "metadata": {},
   "outputs": [
    {
     "name": "stdout",
     "output_type": "stream",
     "text": [
      "4\n",
      "Bad Type\n",
      "H\n",
      "Bad Type\n"
     ]
    }
   ],
   "source": [
    "def type_check(correct_type):\n",
    "    def check(old_function):\n",
    "        def new_function(arg):\n",
    "            if (isinstance(arg, correct_type)):\n",
    "                return old_function(arg)\n",
    "            else:\n",
    "                print(\"Bad Type\")\n",
    "        return new_function\n",
    "    return check\n",
    "\n",
    "@type_check(int)\n",
    "def times2(num):\n",
    "    return num*2\n",
    "\n",
    "print(times2(2))\n",
    "times2('Not A Number')\n",
    "\n",
    "@type_check(str)\n",
    "def first_letter(word):\n",
    "    return word[0]\n",
    "\n",
    "print(first_letter('Hello World'))\n",
    "first_letter(['Not', 'A', 'String'])"
   ]
  },
  {
   "cell_type": "markdown",
   "id": "b13c4732-f5ef-4c12-8b0d-8154be83fe5b",
   "metadata": {},
   "source": [
    "## [Map, Filter, Reduce](https://www.learnpython.org/en/Map%2C_Filter%2C_Reduce)\n",
    "* The `map()` function in python has the following syntax: `map(func, *iterables)`\n",
    "\n",
    "To consolidate our knowledge of the map() function, we are going to use it to implement our own custom `zip()` function. The zip() function is a function that takes a number of iterables and then creates a tuple containing each of the elements in the iterables. Like map(), in Python 3, it returns a generator object, which can be easily converted to a list by calling the built-in list function on it. Use the below interpreter session to get a grip of zip() before we create ours with map(). \n",
    "\n",
    "* While `map()` passes each element in the iterable through a function and returns the result of all elements having passed through the function, `filter()`, first of all, requires the function to return boolean values (true or false) and then passes each element in the iterable through the function, \"filtering\" away those that are false. It has the following syntax: `filter(func, iterable)`\n",
    "\n",
    "The following points are to be noted regarding `filter()`:\n",
    "1. Unlike map(), only one iterable is required.\n",
    "2. The func argument is required to return a boolean type. If it doesn't, filter simply returns the iterable passed to it. Also, as only one iterable is required, it's implicit that func must only take one argument.\n",
    "3. filter passes each element in the iterable through func and returns only the ones that evaluate to true. I mean, it's right there in the name -- a \"filter\". \n",
    "\n",
    "\n",
    "* Reduce applies a function of two arguments cumulatively to the elements of an iterable, optionally starting with an initial argument. It has the following syntax: `reduce(func, iterable[, initial])` \n",
    "\n",
    "Where func is the function on which each element in the iterable gets cumulatively applied to, and initial is the optional value that gets placed before the elements of the iterable in the calculation, and serves as a default when the iterable is empty. The following should be noted about `reduce()`: \n",
    "1. func requires two arguments, the first of which is the first element in iterable (if initial is not supplied) and the second element in iterable. If initial is supplied, then it becomes the first argument to func and the first element in iterable becomes the second element. \n",
    "2. reduce \"reduces\" (I know, forgive me) iterable into a single value."
   ]
  },
  {
   "cell_type": "code",
   "execution_count": 44,
   "id": "3bf2fad9-0f4a-4f93-b848-86c006b08770",
   "metadata": {},
   "outputs": [
    {
     "name": "stdout",
     "output_type": "stream",
     "text": [
      "['ALFRED', 'TABITHA', 'WILLIAM', 'ARLA']\n"
     ]
    }
   ],
   "source": [
    "my_pets = ['alfred', 'tabitha', 'william', 'arla']\n",
    "uppered_pets = []\n",
    "\n",
    "for pet in my_pets:\n",
    "    pet_ = pet.upper()\n",
    "    uppered_pets.append(pet_)\n",
    "\n",
    "print(uppered_pets)"
   ]
  },
  {
   "cell_type": "code",
   "execution_count": 45,
   "id": "9a38e212-8b7d-4dea-92c9-4d71984c0cc2",
   "metadata": {},
   "outputs": [
    {
     "name": "stdout",
     "output_type": "stream",
     "text": [
      "['ALFRED', 'TABITHA', 'WILLIAM', 'ARLA']\n"
     ]
    }
   ],
   "source": [
    "# Python 3\n",
    "my_pets = ['alfred', 'tabitha', 'william', 'arla']\n",
    "\n",
    "uppered_pets = list(map(str.upper, my_pets))\n",
    "\n",
    "print(uppered_pets)"
   ]
  },
  {
   "cell_type": "code",
   "execution_count": 46,
   "id": "28ba288b-54c7-4179-8317-d8daeb3e4f28",
   "metadata": {},
   "outputs": [
    {
     "name": "stdout",
     "output_type": "stream",
     "text": [
      "[3.6, 5.58, 4.009, 56.2424, 9.01344, 32.00013]\n"
     ]
    }
   ],
   "source": [
    "# Python 3\n",
    "circle_areas = [3.56773, 5.57668, 4.00914, 56.24241, 9.01344, 32.00013]\n",
    "\n",
    "result = list(map(round, circle_areas, range(1,7)))\n",
    "\n",
    "print(result)"
   ]
  },
  {
   "cell_type": "code",
   "execution_count": 47,
   "id": "5c794bc9-214f-41fa-a89e-9fce4980e41b",
   "metadata": {},
   "outputs": [
    {
     "name": "stdout",
     "output_type": "stream",
     "text": [
      "[3.6, 5.58]\n"
     ]
    }
   ],
   "source": [
    "# Python 3\n",
    "circle_areas = [3.56773, 5.57668, 4.00914, 56.24241, 9.01344, 32.00013]\n",
    "\n",
    "result = list(map(round, circle_areas, range(1,3)))\n",
    "\n",
    "print(result)"
   ]
  },
  {
   "cell_type": "code",
   "execution_count": 48,
   "id": "5ee2af6b-4b8e-4d46-aa9e-2d312ee00f06",
   "metadata": {},
   "outputs": [
    {
     "name": "stdout",
     "output_type": "stream",
     "text": [
      "[('a', 1), ('b', 2), ('c', 3), ('d', 4), ('e', 5)]\n"
     ]
    }
   ],
   "source": [
    "# Python 3\n",
    "my_strings = ['a', 'b', 'c', 'd', 'e']\n",
    "my_numbers = [1,2,3,4,5]\n",
    "\n",
    "results = list(zip(my_strings, my_numbers))\n",
    "\n",
    "print(results)"
   ]
  },
  {
   "cell_type": "code",
   "execution_count": 49,
   "id": "34b42701-a866-4a84-b3ad-71b2e148a022",
   "metadata": {},
   "outputs": [
    {
     "name": "stdout",
     "output_type": "stream",
     "text": [
      "[('a', 1), ('b', 2), ('c', 3), ('d', 4), ('e', 5)]\n"
     ]
    }
   ],
   "source": [
    "# Python 3\n",
    "my_strings = ['a', 'b', 'c', 'd', 'e']\n",
    "my_numbers = [1,2,3,4,5]\n",
    "\n",
    "results = list(map(lambda x, y: (x, y), my_strings, my_numbers))\n",
    "\n",
    "print(results)"
   ]
  },
  {
   "cell_type": "code",
   "execution_count": 50,
   "id": "c5cd1dee-5c5a-4493-b1f8-c7c2b1f9f32d",
   "metadata": {},
   "outputs": [
    {
     "name": "stdout",
     "output_type": "stream",
     "text": [
      "[90, 76, 88, 81]\n"
     ]
    }
   ],
   "source": [
    "# Python 3\n",
    "scores = [66, 90, 68, 59, 76, 60, 88, 74, 81, 65]\n",
    "\n",
    "def is_A_student(score):\n",
    "    return score > 75\n",
    "\n",
    "over_75 = list(filter(is_A_student, scores))\n",
    "\n",
    "print(over_75)"
   ]
  },
  {
   "cell_type": "code",
   "execution_count": 51,
   "id": "bfa6fac3-be1d-41e9-9b9d-8cea0de3953d",
   "metadata": {},
   "outputs": [
    {
     "name": "stdout",
     "output_type": "stream",
     "text": [
      "['madam', 'anutforajaroftuna']\n"
     ]
    }
   ],
   "source": [
    "# Python 3\n",
    "dromes = (\"demigod\", \"rewire\", \"madam\", \"freer\", \"anutforajaroftuna\", \"kiosk\")\n",
    "\n",
    "palindromes = list(filter(lambda word: word == word[::-1], dromes))\n",
    "\n",
    "print(palindromes)"
   ]
  },
  {
   "cell_type": "code",
   "execution_count": 52,
   "id": "0eb7b85a-04f1-441d-9628-edb2249f1fba",
   "metadata": {},
   "outputs": [
    {
     "name": "stdout",
     "output_type": "stream",
     "text": [
      "78\n"
     ]
    }
   ],
   "source": [
    "# Python 3\n",
    "from functools import reduce\n",
    "\n",
    "numbers = [3, 4, 6, 9, 34, 12]\n",
    "\n",
    "def custom_sum(first, second):\n",
    "    return first + second\n",
    "\n",
    "result = reduce(custom_sum, numbers, 10)\n",
    "print(result)"
   ]
  },
  {
   "cell_type": "code",
   "execution_count": 53,
   "id": "c954393b-593b-4b55-8c9a-e1c21332dbb8",
   "metadata": {},
   "outputs": [
    {
     "name": "stdout",
     "output_type": "stream",
     "text": [
      "[18.922, 37.088, 10.562, 95.453, 4.666, 78.854, 21.068]\n",
      "['olumide', 'josiah', 'omoseun']\n",
      "24840\n"
     ]
    }
   ],
   "source": [
    "from functools import reduce \n",
    "\n",
    "# Use map to print the square of each numbers rounded\n",
    "# to three decimal places\n",
    "my_floats = [4.35, 6.09, 3.25, 9.77, 2.16, 8.88, 4.59]\n",
    "# Use filter to print only the names that are less than \n",
    "# or equal to seven letters\n",
    "my_names = [\"olumide\", \"akinremi\", \"josiah\", \"temidayo\", \"omoseun\"]\n",
    "# Use reduce to print the product of these numbers\n",
    "my_numbers = [4, 6, 9, 23, 5]\n",
    "\n",
    "# Fix all three respectively.\n",
    "map_result = list(map(lambda x: round(x ** 2, 3), my_floats))\n",
    "filter_result = list(filter(lambda name: len(name) <= 7, my_names))\n",
    "reduce_result = reduce(lambda num1, num2: num1 * num2, my_numbers)\n",
    "\n",
    "print(map_result)\n",
    "print(filter_result)\n",
    "print(reduce_result)"
   ]
  }
 ],
 "metadata": {
  "kernelspec": {
   "display_name": "Python [conda env:ml4t] *",
   "language": "python",
   "name": "conda-env-ml4t-py"
  },
  "language_info": {
   "codemirror_mode": {
    "name": "ipython",
    "version": 3
   },
   "file_extension": ".py",
   "mimetype": "text/x-python",
   "name": "python",
   "nbconvert_exporter": "python",
   "pygments_lexer": "ipython3",
   "version": "3.8.8"
  }
 },
 "nbformat": 4,
 "nbformat_minor": 5
}
