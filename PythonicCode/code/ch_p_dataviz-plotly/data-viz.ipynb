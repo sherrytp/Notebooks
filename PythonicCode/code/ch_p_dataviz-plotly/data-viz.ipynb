{
 "cells": [
  {
   "cell_type": "markdown",
   "metadata": {},
   "source": [
    "# Data Vizualization with Plotly\n",
    "## First day: getting the data\n",
    "\n",
    "Today we are going to parse PyBites' blog feed for data to make some nice plots. We will use `Plotly`, a nice and easy-to-use data visualization library for Python. \n",
    "\n",
    "To follow along make sure you installed it along with `feedparser` in your virtual env (see the setup video in the appendix). I use [this technique](https://help.pythonanywhere.com/pages/IPythonNotebookVirtualenvs/) to load my venv in Jupyter. \n",
    "\n",
    "Let's focus today on getting the data imported and parsed."
   ]
  },
  {
   "cell_type": "code",
   "execution_count": 1,
   "metadata": {},
   "outputs": [],
   "source": [
    "import re\n",
    "from collections import Counter\n",
    "from datetime import datetime, timedelta\n",
    "from pprint import pprint\n",
    "import feedparser\n",
    "import plotly\n",
    "import plotly.graph_objs as go"
   ]
  },
  {
   "cell_type": "markdown",
   "metadata": {},
   "source": [
    "> I use `feedparser`to load in our blog feed. It does a great job at parsing the xml into a data structure that is easy to work with."
   ]
  },
  {
   "cell_type": "code",
   "execution_count": 2,
   "metadata": {},
   "outputs": [
    {
     "name": "stdout",
     "output_type": "stream",
     "text": [
      "{'author': 'Bob',\n",
      " 'author_detail': {'name': 'Bob'},\n",
      " 'authors': [{'name': 'Bob'}],\n",
      " 'guidislink': False,\n",
      " 'id': 'tag:pybit.es,2021-05-07:/emojisearcher.html',\n",
      " 'link': 'https://pybit.es/emojisearcher.html',\n",
      " 'links': [{'href': 'https://pybit.es/emojisearcher.html',\n",
      "            'rel': 'alternate',\n",
      "            'type': 'text/html'}],\n",
      " 'published': 'Fri, 07 May 2021 18:45:00 +0200',\n",
      " 'published_parsed': time.struct_time(tm_year=2021, tm_mon=5, tm_mday=7, tm_hour=16, tm_min=45, tm_sec=0, tm_wday=4, tm_yday=127, tm_isdst=0),\n",
      " 'summary': '<p>Today I wanted to share a little app I built the other day to '\n",
      "            'search emojis from the command line.</p>',\n",
      " 'summary_detail': {'base': 'https://pybit.es/feeds/all.rss.xml',\n",
      "                    'language': None,\n",
      "                    'type': 'text/html',\n",
      "                    'value': '<p>Today I wanted to share a little app I built '\n",
      "                             'the other day to search emojis from the command '\n",
      "                             'line.</p>'},\n",
      " 'tags': [{'label': None, 'scheme': None, 'term': 'poetry'},\n",
      "          {'label': None, 'scheme': None, 'term': 'emoji'},\n",
      "          {'label': None, 'scheme': None, 'term': 'pyperclip'},\n",
      "          {'label': None, 'scheme': None, 'term': 'pytest'},\n",
      "          {'label': None, 'scheme': None, 'term': 'command line'},\n",
      "          {'label': None, 'scheme': None, 'term': 'opensource'},\n",
      "          {'label': None, 'scheme': None, 'term': 'mocking'},\n",
      "          {'label': None, 'scheme': None, 'term': 'PyPI'},\n",
      "          {'label': None, 'scheme': None, 'term': 'packaging'},\n",
      "          {'label': None, 'scheme': None, 'term': 'project'}],\n",
      " 'title': 'Fast Emoji Lookup from the Command Line',\n",
      " 'title_detail': {'base': 'https://pybit.es/feeds/all.rss.xml',\n",
      "                  'language': None,\n",
      "                  'type': 'text/plain',\n",
      "                  'value': 'Fast Emoji Lookup from the Command Line'}}\n"
     ]
    }
   ],
   "source": [
    "blog_live = feedparser.parse('http://pybit.es/feeds/all.rss.xml')['entries']\n",
    "pprint(blog_live[0])"
   ]
  },
  {
   "cell_type": "code",
   "execution_count": 3,
   "metadata": {
    "scrolled": true,
    "tags": []
   },
   "outputs": [
    {
     "data": {
      "text/plain": [
       "[{'title': 'Code Challenge 48 - Create a Python News Digest Tool',\n",
       "  'title_detail': {'type': 'text/plain',\n",
       "   'language': None,\n",
       "   'base': 'http://projects.bobbelderbos.com/pcc/dates/all.rss.xml',\n",
       "   'value': 'Code Challenge 48 - Create a Python News Digest Tool'},\n",
       "  'links': [{'rel': 'alternate',\n",
       "    'type': 'text/html',\n",
       "    'href': 'https://pybit.es/codechallenge48.html'}],\n",
       "  'link': 'https://pybit.es/codechallenge48.html',\n",
       "  'summary': '<p>Hi Pythonistas, welcome to a new year of challenges. Are you as amazed as we are by all the awesome Python stuff that comes out every week? But then you feel you always are behind because you lack the time to keep up? Welcome to daily reality. In this challenge we have you contribute to our community with tools to improve our weekly delivery of Python News. Be creative, have fun!</p>',\n",
       "  'summary_detail': {'type': 'text/html',\n",
       "   'language': None,\n",
       "   'base': 'http://projects.bobbelderbos.com/pcc/dates/all.rss.xml',\n",
       "   'value': '<p>Hi Pythonistas, welcome to a new year of challenges. Are you as amazed as we are by all the awesome Python stuff that comes out every week? But then you feel you always are behind because you lack the time to keep up? Welcome to daily reality. In this challenge we have you contribute to our community with tools to improve our weekly delivery of Python News. Be creative, have fun!</p>'},\n",
       "  'authors': [{'name': 'PyBites'}],\n",
       "  'author': 'PyBites',\n",
       "  'author_detail': {'name': 'PyBites'},\n",
       "  'published': 'Sun, 07 Jan 2018 12:00:00 +0100',\n",
       "  'published_parsed': time.struct_time(tm_year=2018, tm_mon=1, tm_mday=7, tm_hour=11, tm_min=0, tm_sec=0, tm_wday=6, tm_yday=7, tm_isdst=0),\n",
       "  'id': 'tag:pybit.es,2018-01-07:/codechallenge48.html',\n",
       "  'guidislink': False,\n",
       "  'tags': [{'term': 'chdata analysis', 'scheme': None, 'label': None},\n",
       "   {'term': 'news', 'scheme': None, 'label': None},\n",
       "   {'term': 'Twitter', 'scheme': None, 'label': None},\n",
       "   {'term': 'tools', 'scheme': None, 'label': None},\n",
       "   {'term': 'Planet Python', 'scheme': None, 'label': None},\n",
       "   {'term': 'digest', 'scheme': None, 'label': None},\n",
       "   {'term': 'information overload', 'scheme': None, 'label': None}]},\n",
       " {'title': 'Twitter Digest 2018 Week 02',\n",
       "  'title_detail': {'type': 'text/plain',\n",
       "   'language': None,\n",
       "   'base': 'http://projects.bobbelderbos.com/pcc/dates/all.rss.xml',\n",
       "   'value': 'Twitter Digest 2018 Week 02'},\n",
       "  'links': [{'rel': 'alternate',\n",
       "    'type': 'text/html',\n",
       "    'href': 'https://pybit.es/twitter_digest_201802.html'}],\n",
       "  'link': 'https://pybit.es/twitter_digest_201802.html',\n",
       "  'summary': '<p>Every weekend we share a curated list of 15 cool things (mostly Python) that we found / tweeted throughout the week.</p>',\n",
       "  'summary_detail': {'type': 'text/html',\n",
       "   'language': None,\n",
       "   'base': 'http://projects.bobbelderbos.com/pcc/dates/all.rss.xml',\n",
       "   'value': '<p>Every weekend we share a curated list of 15 cool things (mostly Python) that we found / tweeted throughout the week.</p>'},\n",
       "  'authors': [{'name': 'PyBites'}],\n",
       "  'author': 'PyBites',\n",
       "  'author_detail': {'name': 'PyBites'},\n",
       "  'published': 'Sun, 07 Jan 2018 11:00:00 +0100',\n",
       "  'published_parsed': time.struct_time(tm_year=2018, tm_mon=1, tm_mday=7, tm_hour=10, tm_min=0, tm_sec=0, tm_wday=6, tm_yday=7, tm_isdst=0),\n",
       "  'id': 'tag:pybit.es,2018-01-07:/twitter_digest_201802.html',\n",
       "  'guidislink': False,\n",
       "  'tags': [{'term': 'twitter', 'scheme': None, 'label': None},\n",
       "   {'term': 'news', 'scheme': None, 'label': None},\n",
       "   {'term': 'pybites', 'scheme': None, 'label': None},\n",
       "   {'term': 'PyCon', 'scheme': None, 'label': None},\n",
       "   {'term': 'BitesOfPy', 'scheme': None, 'label': None},\n",
       "   {'term': 'courses', 'scheme': None, 'label': None},\n",
       "   {'term': 'TensorFlow', 'scheme': None, 'label': None},\n",
       "   {'term': 'machine learning', 'scheme': None, 'label': None},\n",
       "   {'term': 'Swift', 'scheme': None, 'label': None},\n",
       "   {'term': 'deep learning', 'scheme': None, 'label': None},\n",
       "   {'term': 'NPM', 'scheme': None, 'label': None},\n",
       "   {'term': 'Abseil', 'scheme': None, 'label': None},\n",
       "   {'term': 'CSV', 'scheme': None, 'label': None},\n",
       "   {'term': 'exceptions', 'scheme': None, 'label': None},\n",
       "   {'term': 'Eel', 'scheme': None, 'label': None},\n",
       "   {'term': 'cryptocurrency', 'scheme': None, 'label': None},\n",
       "   {'term': 'data visualisation', 'scheme': None, 'label': None}]},\n",
       " {'title': 'Twitter Digest 2018 Week 01',\n",
       "  'title_detail': {'type': 'text/plain',\n",
       "   'language': None,\n",
       "   'base': 'http://projects.bobbelderbos.com/pcc/dates/all.rss.xml',\n",
       "   'value': 'Twitter Digest 2018 Week 01'},\n",
       "  'links': [{'rel': 'alternate',\n",
       "    'type': 'text/html',\n",
       "    'href': 'https://pybit.es/twitter_digest_201801.html'}],\n",
       "  'link': 'https://pybit.es/twitter_digest_201801.html',\n",
       "  'summary': '<p>Every weekend we share a curated list of 15 cool things (mostly Python) that we found / tweeted throughout the week.</p>',\n",
       "  'summary_detail': {'type': 'text/html',\n",
       "   'language': None,\n",
       "   'base': 'http://projects.bobbelderbos.com/pcc/dates/all.rss.xml',\n",
       "   'value': '<p>Every weekend we share a curated list of 15 cool things (mostly Python) that we found / tweeted throughout the week.</p>'},\n",
       "  'authors': [{'name': 'PyBites'}],\n",
       "  'author': 'PyBites',\n",
       "  'author_detail': {'name': 'PyBites'},\n",
       "  'published': 'Mon, 01 Jan 2018 19:50:00 +0100',\n",
       "  'published_parsed': time.struct_time(tm_year=2018, tm_mon=1, tm_mday=1, tm_hour=18, tm_min=50, tm_sec=0, tm_wday=0, tm_yday=1, tm_isdst=0),\n",
       "  'id': 'tag:pybit.es,2018-01-01:/twitter_digest_201801.html',\n",
       "  'guidislink': False,\n",
       "  'tags': [{'term': 'twitter', 'scheme': None, 'label': None},\n",
       "   {'term': 'news', 'scheme': None, 'label': None},\n",
       "   {'term': 'pybites', 'scheme': None, 'label': None},\n",
       "   {'term': 'PyCon', 'scheme': None, 'label': None},\n",
       "   {'term': '100DaysOfX', 'scheme': None, 'label': None},\n",
       "   {'term': 'TensorFlow', 'scheme': None, 'label': None},\n",
       "   {'term': 'Go', 'scheme': None, 'label': None},\n",
       "   {'term': 'Regex', 'scheme': None, 'label': None},\n",
       "   {'term': 'Matplotlib', 'scheme': None, 'label': None},\n",
       "   {'term': 'machine learning', 'scheme': None, 'label': None},\n",
       "   {'term': 'Excel', 'scheme': None, 'label': None},\n",
       "   {'term': 'Pandas', 'scheme': None, 'label': None},\n",
       "   {'term': 'python_tip', 'scheme': None, 'label': None},\n",
       "   {'term': 'path lib', 'scheme': None, 'label': None},\n",
       "   {'term': 'pydu', 'scheme': None, 'label': None}]},\n",
       " {'title': 'Twitter Digest 2017 Week 51',\n",
       "  'title_detail': {'type': 'text/plain',\n",
       "   'language': None,\n",
       "   'base': 'http://projects.bobbelderbos.com/pcc/dates/all.rss.xml',\n",
       "   'value': 'Twitter Digest 2017 Week 51'},\n",
       "  'links': [{'rel': 'alternate',\n",
       "    'type': 'text/html',\n",
       "    'href': 'https://pybit.es/twitter_digest_201751.html'}],\n",
       "  'link': 'https://pybit.es/twitter_digest_201751.html',\n",
       "  'summary': '<p>Every weekend we share a curated list of 15 cool things (mostly Python) that we found / tweeted throughout the week.</p>',\n",
       "  'summary_detail': {'type': 'text/html',\n",
       "   'language': None,\n",
       "   'base': 'http://projects.bobbelderbos.com/pcc/dates/all.rss.xml',\n",
       "   'value': '<p>Every weekend we share a curated list of 15 cool things (mostly Python) that we found / tweeted throughout the week.</p>'},\n",
       "  'authors': [{'name': 'PyBites'}],\n",
       "  'author': 'PyBites',\n",
       "  'author_detail': {'name': 'PyBites'},\n",
       "  'published': 'Sun, 24 Dec 2017 11:45:00 +0100',\n",
       "  'published_parsed': time.struct_time(tm_year=2017, tm_mon=12, tm_mday=24, tm_hour=10, tm_min=45, tm_sec=0, tm_wday=6, tm_yday=358, tm_isdst=0),\n",
       "  'id': 'tag:pybit.es,2017-12-24:/twitter_digest_201751.html',\n",
       "  'guidislink': False,\n",
       "  'tags': [{'term': 'twitter', 'scheme': None, 'label': None},\n",
       "   {'term': 'news', 'scheme': None, 'label': None},\n",
       "   {'term': 'pybites', 'scheme': None, 'label': None},\n",
       "   {'term': 'codechalleng.es', 'scheme': None, 'label': None},\n",
       "   {'term': 'testdrivenio', 'scheme': None, 'label': None},\n",
       "   {'term': 'excel', 'scheme': None, 'label': None},\n",
       "   {'term': 'keras', 'scheme': None, 'label': None},\n",
       "   {'term': 'Django', 'scheme': None, 'label': None},\n",
       "   {'term': 'Git', 'scheme': None, 'label': None},\n",
       "   {'term': 'Flask', 'scheme': None, 'label': None},\n",
       "   {'term': 'Pycon', 'scheme': None, 'label': None},\n",
       "   {'term': 'finance', 'scheme': None, 'label': None},\n",
       "   {'term': 'milestone', 'scheme': None, 'label': None},\n",
       "   {'term': '1year', 'scheme': None, 'label': None},\n",
       "   {'term': 'python_tip', 'scheme': None, 'label': None}]},\n",
       " {'title': 'Code Challenge 47 - PyBites First Year in Data (Special)',\n",
       "  'title_detail': {'type': 'text/plain',\n",
       "   'language': None,\n",
       "   'base': 'http://projects.bobbelderbos.com/pcc/dates/all.rss.xml',\n",
       "   'value': 'Code Challenge 47 - PyBites First Year in Data (Special)'},\n",
       "  'links': [{'rel': 'alternate',\n",
       "    'type': 'text/html',\n",
       "    'href': 'https://pybit.es/codechallenge47.html'}],\n",
       "  'link': 'https://pybit.es/codechallenge47.html',\n",
       "  'summary': '<p>Hi Pythonistas, can you believe <a href=\"https://pybit.es/special-birthday-new-platform.html\">it’s been a full year of PyBites</a> already?! To commemorate our 1st birthday we figured the next challenge should be around… us!</p>',\n",
       "  'summary_detail': {'type': 'text/html',\n",
       "   'language': None,\n",
       "   'base': 'http://projects.bobbelderbos.com/pcc/dates/all.rss.xml',\n",
       "   'value': '<p>Hi Pythonistas, can you believe <a href=\"https://pybit.es/special-birthday-new-platform.html\">it’s been a full year of PyBites</a> already?! To commemorate our 1st birthday we figured the next challenge should be around… us!</p>'},\n",
       "  'authors': [{'name': 'PyBites'}],\n",
       "  'author': 'PyBites',\n",
       "  'author_detail': {'name': 'PyBites'},\n",
       "  'published': 'Fri, 22 Dec 2017 22:00:00 +0100',\n",
       "  'published_parsed': time.struct_time(tm_year=2017, tm_mon=12, tm_mday=22, tm_hour=21, tm_min=0, tm_sec=0, tm_wday=4, tm_yday=356, tm_isdst=0),\n",
       "  'id': 'tag:pybit.es,2017-12-22:/codechallenge47.html',\n",
       "  'guidislink': False,\n",
       "  'tags': [{'term': 'data analysis', 'scheme': None, 'label': None},\n",
       "   {'term': 'data visualization', 'scheme': None, 'label': None},\n",
       "   {'term': 'anniversary', 'scheme': None, 'label': None},\n",
       "   {'term': 'special', 'scheme': None, 'label': None},\n",
       "   {'term': 'Twitter', 'scheme': None, 'label': None},\n",
       "   {'term': 'Github', 'scheme': None, 'label': None},\n",
       "   {'term': 'Pelican', 'scheme': None, 'label': None}]},\n",
       " {'title': 'PyBites 1 Year Special - Taking Python Code Challenges to the Next Level …',\n",
       "  'title_detail': {'type': 'text/plain',\n",
       "   'language': None,\n",
       "   'base': 'http://projects.bobbelderbos.com/pcc/dates/all.rss.xml',\n",
       "   'value': 'PyBites 1 Year Special - Taking Python Code Challenges to the Next Level …'},\n",
       "  'links': [{'rel': 'alternate',\n",
       "    'type': 'text/html',\n",
       "    'href': 'https://pybit.es/special-birthday-new-platform.html'}],\n",
       "  'link': 'https://pybit.es/special-birthday-new-platform.html',\n",
       "  'summary': '<p>A milestone: yesterday, 19th of December 2017, we celebrated our first PyBirthday! That is, PyBites is one year old! We are proud of what we have achieved so far and we are ignited to continue our course of learning and teaching Python with our growing community. A bit of reflection followed by a big announcement! Read on ...</p>',\n",
       "  'summary_detail': {'type': 'text/html',\n",
       "   'language': None,\n",
       "   'base': 'http://projects.bobbelderbos.com/pcc/dates/all.rss.xml',\n",
       "   'value': '<p>A milestone: yesterday, 19th of December 2017, we celebrated our first PyBirthday! That is, PyBites is one year old! We are proud of what we have achieved so far and we are ignited to continue our course of learning and teaching Python with our growing community. A bit of reflection followed by a big announcement! Read on ...</p>'},\n",
       "  'authors': [{'name': 'PyBites'}],\n",
       "  'author': 'PyBites',\n",
       "  'author_detail': {'name': 'PyBites'},\n",
       "  'published': 'Wed, 20 Dec 2017 11:14:00 +0100',\n",
       "  'published_parsed': time.struct_time(tm_year=2017, tm_mon=12, tm_mday=20, tm_hour=10, tm_min=14, tm_sec=0, tm_wday=2, tm_yday=354, tm_isdst=0),\n",
       "  'id': 'tag:pybit.es,2017-12-20:/special-birthday-new-platform.html',\n",
       "  'guidislink': False,\n",
       "  'tags': [{'term': 'milestone', 'scheme': None, 'label': None},\n",
       "   {'term': 'code challenges', 'scheme': None, 'label': None},\n",
       "   {'term': 'platform', 'scheme': None, 'label': None},\n",
       "   {'term': 'bites of py', 'scheme': None, 'label': None},\n",
       "   {'term': 'python', 'scheme': None, 'label': None},\n",
       "   {'term': 'community', 'scheme': None, 'label': None},\n",
       "   {'term': '1year', 'scheme': None, 'label': None},\n",
       "   {'term': 'learning', 'scheme': None, 'label': None}]},\n",
       " {'title': 'Twitter Digest 2017 Week 50',\n",
       "  'title_detail': {'type': 'text/plain',\n",
       "   'language': None,\n",
       "   'base': 'http://projects.bobbelderbos.com/pcc/dates/all.rss.xml',\n",
       "   'value': 'Twitter Digest 2017 Week 50'},\n",
       "  'links': [{'rel': 'alternate',\n",
       "    'type': 'text/html',\n",
       "    'href': 'https://pybit.es/twitter_digest_201750.html'}],\n",
       "  'link': 'https://pybit.es/twitter_digest_201750.html',\n",
       "  'summary': '<p>Every weekend we share a curated list of 15 cool things (mostly Python) that we found / tweeted throughout the week.</p>',\n",
       "  'summary_detail': {'type': 'text/html',\n",
       "   'language': None,\n",
       "   'base': 'http://projects.bobbelderbos.com/pcc/dates/all.rss.xml',\n",
       "   'value': '<p>Every weekend we share a curated list of 15 cool things (mostly Python) that we found / tweeted throughout the week.</p>'},\n",
       "  'authors': [{'name': 'PyBites'}],\n",
       "  'author': 'PyBites',\n",
       "  'author_detail': {'name': 'PyBites'},\n",
       "  'published': 'Sun, 17 Dec 2017 22:00:00 +0100',\n",
       "  'published_parsed': time.struct_time(tm_year=2017, tm_mon=12, tm_mday=17, tm_hour=21, tm_min=0, tm_sec=0, tm_wday=6, tm_yday=351, tm_isdst=0),\n",
       "  'id': 'tag:pybit.es,2017-12-17:/twitter_digest_201750.html',\n",
       "  'guidislink': False,\n",
       "  'tags': [{'term': 'twitter', 'scheme': None, 'label': None},\n",
       "   {'term': 'news', 'scheme': None, 'label': None},\n",
       "   {'term': 'tips', 'scheme': None, 'label': None},\n",
       "   {'term': 'python', 'scheme': None, 'label': None},\n",
       "   {'term': 'challenges', 'scheme': None, 'label': None},\n",
       "   {'term': 'PyCon', 'scheme': None, 'label': None},\n",
       "   {'term': 'motivation', 'scheme': None, 'label': None},\n",
       "   {'term': 'machine learning', 'scheme': None, 'label': None},\n",
       "   {'term': 'comments', 'scheme': None, 'label': None},\n",
       "   {'term': 'TensorFlow', 'scheme': None, 'label': None},\n",
       "   {'term': 'code', 'scheme': None, 'label': None},\n",
       "   {'term': 'dicts', 'scheme': None, 'label': None},\n",
       "   {'term': 'Flask', 'scheme': None, 'label': None},\n",
       "   {'term': 'Regex', 'scheme': None, 'label': None},\n",
       "   {'term': 'F-strings', 'scheme': None, 'label': None},\n",
       "   {'term': 'Bottle', 'scheme': None, 'label': None},\n",
       "   {'term': 'SQLAlchemy', 'scheme': None, 'label': None},\n",
       "   {'term': 'Twitter', 'scheme': None, 'label': None},\n",
       "   {'term': 'Scikit-learn', 'scheme': None, 'label': None},\n",
       "   {'term': 'PrettyPrinter', 'scheme': None, 'label': None}]},\n",
       " {'title': 'Code Challenge 46 - Add Continuous Integration (CI) to Your Project',\n",
       "  'title_detail': {'type': 'text/plain',\n",
       "   'language': None,\n",
       "   'base': 'http://projects.bobbelderbos.com/pcc/dates/all.rss.xml',\n",
       "   'value': 'Code Challenge 46 - Add Continuous Integration (CI) to Your Project'},\n",
       "  'links': [{'rel': 'alternate',\n",
       "    'type': 'text/html',\n",
       "    'href': 'https://pybit.es/codechallenge46.html'}],\n",
       "  'link': 'https://pybit.es/codechallenge46.html',\n",
       "  'summary': '<p>Hi Pythonistas, becoming a Python developer is partly about knowing your tools. Managing your environment, testing and continuous integration are unmissable skills when you start working on bigger projects with a team. So we decided to dedicate a code challenge to deployment. Take an existing projects or make a demo app from scratch, the goal is to build an automated pipeline. Will you be the next guy or girl at work receiving kudos for setting up a Jenkins server? Have fun!</p>',\n",
       "  'summary_detail': {'type': 'text/html',\n",
       "   'language': None,\n",
       "   'base': 'http://projects.bobbelderbos.com/pcc/dates/all.rss.xml',\n",
       "   'value': '<p>Hi Pythonistas, becoming a Python developer is partly about knowing your tools. Managing your environment, testing and continuous integration are unmissable skills when you start working on bigger projects with a team. So we decided to dedicate a code challenge to deployment. Take an existing projects or make a demo app from scratch, the goal is to build an automated pipeline. Will you be the next guy or girl at work receiving kudos for setting up a Jenkins server? Have fun!</p>'},\n",
       "  'authors': [{'name': 'PyBites'}],\n",
       "  'author': 'PyBites',\n",
       "  'author_detail': {'name': 'PyBites'},\n",
       "  'published': 'Mon, 11 Dec 2017 12:00:00 +0100',\n",
       "  'published_parsed': time.struct_time(tm_year=2017, tm_mon=12, tm_mday=11, tm_hour=11, tm_min=0, tm_sec=0, tm_wday=0, tm_yday=345, tm_isdst=0),\n",
       "  'id': 'tag:pybit.es,2017-12-11:/codechallenge46.html',\n",
       "  'guidislink': False,\n",
       "  'tags': [{'term': 'CI', 'scheme': None, 'label': None},\n",
       "   {'term': 'Jenkins', 'scheme': None, 'label': None},\n",
       "   {'term': 'Heroku', 'scheme': None, 'label': None},\n",
       "   {'term': 'Travis', 'scheme': None, 'label': None},\n",
       "   {'term': 'Semaphore', 'scheme': None, 'label': None},\n",
       "   {'term': 'automation', 'scheme': None, 'label': None},\n",
       "   {'term': 'deployment', 'scheme': None, 'label': None},\n",
       "   {'term': 'Docker', 'scheme': None, 'label': None},\n",
       "   {'term': 'Better Code Hub', 'scheme': None, 'label': None},\n",
       "   {'term': 'SIG', 'scheme': None, 'label': None}]},\n",
       " {'title': 'DisAtBot - How I Built a Chatbot With Telegram And Python',\n",
       "  'title_detail': {'type': 'text/plain',\n",
       "   'language': None,\n",
       "   'base': 'http://projects.bobbelderbos.com/pcc/dates/all.rss.xml',\n",
       "   'value': 'DisAtBot - How I Built a Chatbot With Telegram And Python'},\n",
       "  'links': [{'rel': 'alternate',\n",
       "    'type': 'text/html',\n",
       "    'href': 'https://pybit.es/guest-telegram-python-chatbot.html'}],\n",
       "  'link': 'https://pybit.es/guest-telegram-python-chatbot.html',\n",
       "  'summary': '<p>Rodolfo recently joined our <a href=\"https://pybit.es/pages/challenges.html\">Code Challenges</a> and built <em>Disaster Attention Bot (DisAtBot)</em>, a chatbot that helps people affected by natural disasters. In this article he shows how he built this bot with Telegram and (of course) Python. Show him some love because who knows, this could be a life saver (pun intended)! We are delighted to have him show this interesting project he submitted for <a href=\"https://pybit.es/codechallenge43.html\">Code Challenge 43</a> which earned him a book on chatbots. /Rod please share ...</p>',\n",
       "  'summary_detail': {'type': 'text/html',\n",
       "   'language': None,\n",
       "   'base': 'http://projects.bobbelderbos.com/pcc/dates/all.rss.xml',\n",
       "   'value': '<p>Rodolfo recently joined our <a href=\"https://pybit.es/pages/challenges.html\">Code Challenges</a> and built <em>Disaster Attention Bot (DisAtBot)</em>, a chatbot that helps people affected by natural disasters. In this article he shows how he built this bot with Telegram and (of course) Python. Show him some love because who knows, this could be a life saver (pun intended)! We are delighted to have him show this interesting project he submitted for <a href=\"https://pybit.es/codechallenge43.html\">Code Challenge 43</a> which earned him a book on chatbots. /Rod please share ...</p>'},\n",
       "  'authors': [{'name': 'Rodolfo Ferro'}],\n",
       "  'author': 'Rodolfo Ferro',\n",
       "  'author_detail': {'name': 'Rodolfo Ferro'},\n",
       "  'published': 'Sun, 10 Dec 2017 23:30:00 +0100',\n",
       "  'published_parsed': time.struct_time(tm_year=2017, tm_mon=12, tm_mday=10, tm_hour=22, tm_min=30, tm_sec=0, tm_wday=6, tm_yday=344, tm_isdst=0),\n",
       "  'id': 'tag:pybit.es,2017-12-10:/guest-telegram-python-chatbot.html',\n",
       "  'guidislink': False,\n",
       "  'tags': [{'term': 'bots', 'scheme': None, 'label': None},\n",
       "   {'term': 'code challenge', 'scheme': None, 'label': None},\n",
       "   {'term': 'guest', 'scheme': None, 'label': None},\n",
       "   {'term': 'DisAtBot', 'scheme': None, 'label': None},\n",
       "   {'term': 'chatbots', 'scheme': None, 'label': None},\n",
       "   {'term': 'opensource', 'scheme': None, 'label': None},\n",
       "   {'term': 'Telegram', 'scheme': None, 'label': None},\n",
       "   {'term': 'Mexico', 'scheme': None, 'label': None}]},\n",
       " {'title': 'Twitter Digest 2017 Week 49',\n",
       "  'title_detail': {'type': 'text/plain',\n",
       "   'language': None,\n",
       "   'base': 'http://projects.bobbelderbos.com/pcc/dates/all.rss.xml',\n",
       "   'value': 'Twitter Digest 2017 Week 49'},\n",
       "  'links': [{'rel': 'alternate',\n",
       "    'type': 'text/html',\n",
       "    'href': 'https://pybit.es/twitter_digest_201749.html'}],\n",
       "  'link': 'https://pybit.es/twitter_digest_201749.html',\n",
       "  'summary': '<p>Every weekend we share a curated list of 15 cool things (mostly Python) that we found / tweeted throughout the week.</p>',\n",
       "  'summary_detail': {'type': 'text/html',\n",
       "   'language': None,\n",
       "   'base': 'http://projects.bobbelderbos.com/pcc/dates/all.rss.xml',\n",
       "   'value': '<p>Every weekend we share a curated list of 15 cool things (mostly Python) that we found / tweeted throughout the week.</p>'},\n",
       "  'authors': [{'name': 'PyBites'}],\n",
       "  'author': 'PyBites',\n",
       "  'author_detail': {'name': 'PyBites'},\n",
       "  'published': 'Sun, 10 Dec 2017 22:47:00 +0100',\n",
       "  'published_parsed': time.struct_time(tm_year=2017, tm_mon=12, tm_mday=10, tm_hour=21, tm_min=47, tm_sec=0, tm_wday=6, tm_yday=344, tm_isdst=0),\n",
       "  'id': 'tag:pybit.es,2017-12-10:/twitter_digest_201749.html',\n",
       "  'guidislink': False,\n",
       "  'tags': [{'term': 'twitter', 'scheme': None, 'label': None},\n",
       "   {'term': 'news', 'scheme': None, 'label': None},\n",
       "   {'term': 'tips', 'scheme': None, 'label': None},\n",
       "   {'term': 'python', 'scheme': None, 'label': None},\n",
       "   {'term': 'data visualisation', 'scheme': None, 'label': None},\n",
       "   {'term': 'code', 'scheme': None, 'label': None},\n",
       "   {'term': 'Pandas', 'scheme': None, 'label': None},\n",
       "   {'term': 'classes', 'scheme': None, 'label': None},\n",
       "   {'term': 'PIL', 'scheme': None, 'label': None},\n",
       "   {'term': 'date time', 'scheme': None, 'label': None},\n",
       "   {'term': 'Bitcoin', 'scheme': None, 'label': None},\n",
       "   {'term': 'data analysis', 'scheme': None, 'label': None},\n",
       "   {'term': 'Jupyter', 'scheme': None, 'label': None},\n",
       "   {'term': 'gitpython', 'scheme': None, 'label': None},\n",
       "   {'term': 'Pytorch', 'scheme': None, 'label': None},\n",
       "   {'term': 'data structures', 'scheme': None, 'label': None},\n",
       "   {'term': 'strings', 'scheme': None, 'label': None},\n",
       "   {'term': 'Itertools', 'scheme': None, 'label': None}]},\n",
       " {'title': 'Code Challenge 41-44 Review - APIs, Regex, Chatbots and Marvel Data Analysis',\n",
       "  'title_detail': {'type': 'text/plain',\n",
       "   'language': None,\n",
       "   'base': 'http://projects.bobbelderbos.com/pcc/dates/all.rss.xml',\n",
       "   'value': 'Code Challenge 41-44 Review - APIs, Regex, Chatbots and Marvel Data Analysis'},\n",
       "  'links': [{'rel': 'alternate',\n",
       "    'type': 'text/html',\n",
       "    'href': 'https://pybit.es/codechallenge41-44_review.html'}],\n",
       "  'link': 'https://pybit.es/codechallenge41-44_review.html',\n",
       "  'summary': '<p>In this article we review last week\\'s <a href=\"http://pybit.es/codechallenge40.html\">Daily Python Tip Part 1 - Make a Web App</a> code challenge.</p>',\n",
       "  'summary_detail': {'type': 'text/html',\n",
       "   'language': None,\n",
       "   'base': 'http://projects.bobbelderbos.com/pcc/dates/all.rss.xml',\n",
       "   'value': '<p>In this article we review last week\\'s <a href=\"http://pybit.es/codechallenge40.html\">Daily Python Tip Part 1 - Make a Web App</a> code challenge.</p>'},\n",
       "  'authors': [{'name': 'PyBites'}],\n",
       "  'author': 'PyBites',\n",
       "  'author_detail': {'name': 'PyBites'},\n",
       "  'published': 'Sun, 10 Dec 2017 22:41:00 +0100',\n",
       "  'published_parsed': time.struct_time(tm_year=2017, tm_mon=12, tm_mday=10, tm_hour=21, tm_min=41, tm_sec=0, tm_wday=6, tm_yday=344, tm_isdst=0),\n",
       "  'id': 'tag:pybit.es,2017-12-10:/codechallenge41-44_review.html',\n",
       "  'guidislink': False,\n",
       "  'tags': [{'term': 'Daily Python Tip', 'scheme': None, 'label': None},\n",
       "   {'term': 'regex', 'scheme': None, 'label': None},\n",
       "   {'term': 'bot', 'scheme': None, 'label': None},\n",
       "   {'term': 'chatbot', 'scheme': None, 'label': None},\n",
       "   {'term': 'Marvel', 'scheme': None, 'label': None},\n",
       "   {'term': 'Pandas', 'scheme': None, 'label': None},\n",
       "   {'term': 'Seaborn', 'scheme': None, 'label': None},\n",
       "   {'term': 'data', 'scheme': None, 'label': None},\n",
       "   {'term': 'Python Alicante', 'scheme': None, 'label': None},\n",
       "   {'term': 'live coding', 'scheme': None, 'label': None},\n",
       "   {'term': 'Bokeh', 'scheme': None, 'label': None}]},\n",
       " {'title': 'Code Challenge 45 - TDD: Code FizzBuzz Writing Tests First!',\n",
       "  'title_detail': {'type': 'text/plain',\n",
       "   'language': None,\n",
       "   'base': 'http://projects.bobbelderbos.com/pcc/dates/all.rss.xml',\n",
       "   'value': 'Code Challenge 45 - TDD: Code FizzBuzz Writing Tests First!'},\n",
       "  'links': [{'rel': 'alternate',\n",
       "    'type': 'text/html',\n",
       "    'href': 'https://pybit.es/codechallenge45.html'}],\n",
       "  'link': 'https://pybit.es/codechallenge45.html',\n",
       "  'summary': '<p>Hi Pythonistas, it’s time to do things differently! Test-Driven Development has to be one of the hardest programming methodologies to adopt yet also one of the most satisfying. It forces a different mindset which is definitely not for everyone. Either way, put your thinking caps on and jump in!</p>',\n",
       "  'summary_detail': {'type': 'text/html',\n",
       "   'language': None,\n",
       "   'base': 'http://projects.bobbelderbos.com/pcc/dates/all.rss.xml',\n",
       "   'value': '<p>Hi Pythonistas, it’s time to do things differently! Test-Driven Development has to be one of the hardest programming methodologies to adopt yet also one of the most satisfying. It forces a different mindset which is definitely not for everyone. Either way, put your thinking caps on and jump in!</p>'},\n",
       "  'authors': [{'name': 'PyBites'}],\n",
       "  'author': 'PyBites',\n",
       "  'author_detail': {'name': 'PyBites'},\n",
       "  'published': 'Fri, 08 Dec 2017 02:00:00 +0100',\n",
       "  'published_parsed': time.struct_time(tm_year=2017, tm_mon=12, tm_mday=8, tm_hour=1, tm_min=0, tm_sec=0, tm_wday=4, tm_yday=342, tm_isdst=0),\n",
       "  'id': 'tag:pybit.es,2017-12-08:/codechallenge45.html',\n",
       "  'guidislink': False,\n",
       "  'tags': [{'term': 'tdd', 'scheme': None, 'label': None},\n",
       "   {'term': 'tests', 'scheme': None, 'label': None},\n",
       "   {'term': 'test-driven development', 'scheme': None, 'label': None}]},\n",
       " {'title': 'Using Pandas and Seaborn to solve PyBites Marvel Challenge',\n",
       "  'title_detail': {'type': 'text/plain',\n",
       "   'language': None,\n",
       "   'base': 'http://projects.bobbelderbos.com/pcc/dates/all.rss.xml',\n",
       "   'value': 'Using Pandas and Seaborn to solve PyBites Marvel Challenge'},\n",
       "  'links': [{'rel': 'alternate',\n",
       "    'type': 'text/html',\n",
       "    'href': 'https://pybit.es/guest-marvel-data-analysis.html'}],\n",
       "  'link': 'https://pybit.es/guest-marvel-data-analysis.html',\n",
       "  'summary': '<p>Today we have Martin Smith show us how he used Pandas and Seaborn to solve <a href=\"https://pybit.es/codechallenge44.html\">our Marvel Comics Challenge</a>. Take it away Martin!</p>',\n",
       "  'summary_detail': {'type': 'text/html',\n",
       "   'language': None,\n",
       "   'base': 'http://projects.bobbelderbos.com/pcc/dates/all.rss.xml',\n",
       "   'value': '<p>Today we have Martin Smith show us how he used Pandas and Seaborn to solve <a href=\"https://pybit.es/codechallenge44.html\">our Marvel Comics Challenge</a>. Take it away Martin!</p>'},\n",
       "  'authors': [{'name': 'Martin Smith'}],\n",
       "  'author': 'Martin Smith',\n",
       "  'author_detail': {'name': 'Martin Smith'},\n",
       "  'published': 'Thu, 07 Dec 2017 11:50:00 +0100',\n",
       "  'published_parsed': time.struct_time(tm_year=2017, tm_mon=12, tm_mday=7, tm_hour=10, tm_min=50, tm_sec=0, tm_wday=3, tm_yday=341, tm_isdst=0),\n",
       "  'id': 'tag:pybit.es,2017-12-07:/guest-marvel-data-analysis.html',\n",
       "  'guidislink': False,\n",
       "  'tags': [{'term': 'Pandas', 'scheme': None, 'label': None},\n",
       "   {'term': 'Seaborn', 'scheme': None, 'label': None},\n",
       "   {'term': 'data analysis', 'scheme': None, 'label': None},\n",
       "   {'term': 'Marvel', 'scheme': None, 'label': None},\n",
       "   {'term': 'Comicsm', 'scheme': None, 'label': None},\n",
       "   {'term': 'challenge', 'scheme': None, 'label': None},\n",
       "   {'term': 'guest', 'scheme': None, 'label': None}]},\n",
       " {'title': 'Twitter Digest 2017 Week 48',\n",
       "  'title_detail': {'type': 'text/plain',\n",
       "   'language': None,\n",
       "   'base': 'http://projects.bobbelderbos.com/pcc/dates/all.rss.xml',\n",
       "   'value': 'Twitter Digest 2017 Week 48'},\n",
       "  'links': [{'rel': 'alternate',\n",
       "    'type': 'text/html',\n",
       "    'href': 'https://pybit.es/twitter_digest_201748.html'}],\n",
       "  'link': 'https://pybit.es/twitter_digest_201748.html',\n",
       "  'summary': '<p>Every weekend we share a curated list of 15 cool things (mostly Python) that we found / tweeted throughout the week.</p>',\n",
       "  'summary_detail': {'type': 'text/html',\n",
       "   'language': None,\n",
       "   'base': 'http://projects.bobbelderbos.com/pcc/dates/all.rss.xml',\n",
       "   'value': '<p>Every weekend we share a curated list of 15 cool things (mostly Python) that we found / tweeted throughout the week.</p>'},\n",
       "  'authors': [{'name': 'PyBites'}],\n",
       "  'author': 'PyBites',\n",
       "  'author_detail': {'name': 'PyBites'},\n",
       "  'published': 'Sun, 03 Dec 2017 22:14:00 +0100',\n",
       "  'published_parsed': time.struct_time(tm_year=2017, tm_mon=12, tm_mday=3, tm_hour=21, tm_min=14, tm_sec=0, tm_wday=6, tm_yday=337, tm_isdst=0),\n",
       "  'id': 'tag:pybit.es,2017-12-03:/twitter_digest_201748.html',\n",
       "  'guidislink': False,\n",
       "  'tags': [{'term': 'twitter', 'scheme': None, 'label': None},\n",
       "   {'term': 'news', 'scheme': None, 'label': None},\n",
       "   {'term': 'tips', 'scheme': None, 'label': None},\n",
       "   {'term': 'python', 'scheme': None, 'label': None},\n",
       "   {'term': 'podcast', 'scheme': None, 'label': None},\n",
       "   {'term': 'dictionaries', 'scheme': None, 'label': None},\n",
       "   {'term': 'Django', 'scheme': None, 'label': None},\n",
       "   {'term': 'robot', 'scheme': None, 'label': None},\n",
       "   {'term': 'AI', 'scheme': None, 'label': None},\n",
       "   {'term': 'Docker', 'scheme': None, 'label': None},\n",
       "   {'term': 'training', 'scheme': None, 'label': None},\n",
       "   {'term': 'regex', 'scheme': None, 'label': None},\n",
       "   {'term': 'Binder', 'scheme': None, 'label': None},\n",
       "   {'term': 'Jupyter', 'scheme': None, 'label': None},\n",
       "   {'term': 'Data Science', 'scheme': None, 'label': None},\n",
       "   {'term': 'strings', 'scheme': None, 'label': None},\n",
       "   {'term': 'AWS', 'scheme': None, 'label': None},\n",
       "   {'term': 'NLTK', 'scheme': None, 'label': None},\n",
       "   {'term': 'Pipenv', 'scheme': None, 'label': None}]},\n",
       " {'title': 'Twitter Digest 2017 Week 47',\n",
       "  'title_detail': {'type': 'text/plain',\n",
       "   'language': None,\n",
       "   'base': 'http://projects.bobbelderbos.com/pcc/dates/all.rss.xml',\n",
       "   'value': 'Twitter Digest 2017 Week 47'},\n",
       "  'links': [{'rel': 'alternate',\n",
       "    'type': 'text/html',\n",
       "    'href': 'https://pybit.es/twitter_digest_201747.html'}],\n",
       "  'link': 'https://pybit.es/twitter_digest_201747.html',\n",
       "  'summary': '<p>Every weekend we share a curated list of 15 cool things (mostly Python) that we found / tweeted throughout the week.</p>',\n",
       "  'summary_detail': {'type': 'text/html',\n",
       "   'language': None,\n",
       "   'base': 'http://projects.bobbelderbos.com/pcc/dates/all.rss.xml',\n",
       "   'value': '<p>Every weekend we share a curated list of 15 cool things (mostly Python) that we found / tweeted throughout the week.</p>'},\n",
       "  'authors': [{'name': 'PyBites'}],\n",
       "  'author': 'PyBites',\n",
       "  'author_detail': {'name': 'PyBites'},\n",
       "  'published': 'Sun, 26 Nov 2017 21:55:00 +0100',\n",
       "  'published_parsed': time.struct_time(tm_year=2017, tm_mon=11, tm_mday=26, tm_hour=20, tm_min=55, tm_sec=0, tm_wday=6, tm_yday=330, tm_isdst=0),\n",
       "  'id': 'tag:pybit.es,2017-11-26:/twitter_digest_201747.html',\n",
       "  'guidislink': False,\n",
       "  'tags': [{'term': 'twitter', 'scheme': None, 'label': None},\n",
       "   {'term': 'news', 'scheme': None, 'label': None},\n",
       "   {'term': 'tips', 'scheme': None, 'label': None},\n",
       "   {'term': 'python', 'scheme': None, 'label': None},\n",
       "   {'term': 'classes', 'scheme': None, 'label': None},\n",
       "   {'term': 'PostgreSQL', 'scheme': None, 'label': None},\n",
       "   {'term': 'coding', 'scheme': None, 'label': None},\n",
       "   {'term': 'gifts', 'scheme': None, 'label': None},\n",
       "   {'term': 'Thanksgiving', 'scheme': None, 'label': None},\n",
       "   {'term': 'data science', 'scheme': None, 'label': None},\n",
       "   {'term': 'Bitcoin', 'scheme': None, 'label': None},\n",
       "   {'term': 'data visualisation', 'scheme': None, 'label': None},\n",
       "   {'term': 'memoization', 'scheme': None, 'label': None},\n",
       "   {'term': 'deep learning', 'scheme': None, 'label': None},\n",
       "   {'term': 'chatbot', 'scheme': None, 'label': None},\n",
       "   {'term': 'Tensorflow', 'scheme': None, 'label': None},\n",
       "   {'term': 'AWS Lambda', 'scheme': None, 'label': None},\n",
       "   {'term': 'Django', 'scheme': None, 'label': None},\n",
       "   {'term': 'Pytest', 'scheme': None, 'label': None},\n",
       "   {'term': 'OpenCV', 'scheme': None, 'label': None}]},\n",
       " {'title': 'Twitter Digest 2017 Week 46',\n",
       "  'title_detail': {'type': 'text/plain',\n",
       "   'language': None,\n",
       "   'base': 'http://projects.bobbelderbos.com/pcc/dates/all.rss.xml',\n",
       "   'value': 'Twitter Digest 2017 Week 46'},\n",
       "  'links': [{'rel': 'alternate',\n",
       "    'type': 'text/html',\n",
       "    'href': 'https://pybit.es/twitter_digest_201746.html'}],\n",
       "  'link': 'https://pybit.es/twitter_digest_201746.html',\n",
       "  'summary': '<p>Every weekend we share a curated list of 15 cool things (mostly Python) that we found / tweeted throughout the week.</p>',\n",
       "  'summary_detail': {'type': 'text/html',\n",
       "   'language': None,\n",
       "   'base': 'http://projects.bobbelderbos.com/pcc/dates/all.rss.xml',\n",
       "   'value': '<p>Every weekend we share a curated list of 15 cool things (mostly Python) that we found / tweeted throughout the week.</p>'},\n",
       "  'authors': [{'name': 'PyBites'}],\n",
       "  'author': 'PyBites',\n",
       "  'author_detail': {'name': 'PyBites'},\n",
       "  'published': 'Sun, 19 Nov 2017 20:17:00 +0100',\n",
       "  'published_parsed': time.struct_time(tm_year=2017, tm_mon=11, tm_mday=19, tm_hour=19, tm_min=17, tm_sec=0, tm_wday=6, tm_yday=323, tm_isdst=0),\n",
       "  'id': 'tag:pybit.es,2017-11-19:/twitter_digest_201746.html',\n",
       "  'guidislink': False,\n",
       "  'tags': [{'term': 'twitter', 'scheme': None, 'label': None},\n",
       "   {'term': 'news', 'scheme': None, 'label': None},\n",
       "   {'term': 'tips', 'scheme': None, 'label': None},\n",
       "   {'term': 'python', 'scheme': None, 'label': None},\n",
       "   {'term': 'Raspberry Pi', 'scheme': None, 'label': None},\n",
       "   {'term': 'OpenCV', 'scheme': None, 'label': None},\n",
       "   {'term': 'TensorFlow', 'scheme': None, 'label': None},\n",
       "   {'term': 'challenge', 'scheme': None, 'label': None},\n",
       "   {'term': 'Cython', 'scheme': None, 'label': None},\n",
       "   {'term': 'Docker', 'scheme': None, 'label': None},\n",
       "   {'term': 'Jupyter', 'scheme': None, 'label': None},\n",
       "   {'term': 'nglview', 'scheme': None, 'label': None},\n",
       "   {'term': 'data science', 'scheme': None, 'label': None},\n",
       "   {'term': 'regex', 'scheme': None, 'label': None},\n",
       "   {'term': 'Flask', 'scheme': None, 'label': None},\n",
       "   {'term': 'book', 'scheme': None, 'label': None},\n",
       "   {'term': 'Twilio', 'scheme': None, 'label': None},\n",
       "   {'term': 'Node', 'scheme': None, 'label': None},\n",
       "   {'term': 'Javascript', 'scheme': None, 'label': None},\n",
       "   {'term': 'data analysis', 'scheme': None, 'label': None},\n",
       "   {'term': 'NumPy', 'scheme': None, 'label': None},\n",
       "   {'term': 'cryptocurrency', 'scheme': None, 'label': None}]},\n",
       " {'title': 'Twitter Digest 2017 Week 45',\n",
       "  'title_detail': {'type': 'text/plain',\n",
       "   'language': None,\n",
       "   'base': 'http://projects.bobbelderbos.com/pcc/dates/all.rss.xml',\n",
       "   'value': 'Twitter Digest 2017 Week 45'},\n",
       "  'links': [{'rel': 'alternate',\n",
       "    'type': 'text/html',\n",
       "    'href': 'https://pybit.es/twitter_digest_201745.html'}],\n",
       "  'link': 'https://pybit.es/twitter_digest_201745.html',\n",
       "  'summary': '<p>Every weekend we share a curated list of 15 cool things (mostly Python) that we found / tweeted throughout the week.</p>',\n",
       "  'summary_detail': {'type': 'text/html',\n",
       "   'language': None,\n",
       "   'base': 'http://projects.bobbelderbos.com/pcc/dates/all.rss.xml',\n",
       "   'value': '<p>Every weekend we share a curated list of 15 cool things (mostly Python) that we found / tweeted throughout the week.</p>'},\n",
       "  'authors': [{'name': 'PyBites'}],\n",
       "  'author': 'PyBites',\n",
       "  'author_detail': {'name': 'PyBites'},\n",
       "  'published': 'Sun, 12 Nov 2017 12:52:00 +0100',\n",
       "  'published_parsed': time.struct_time(tm_year=2017, tm_mon=11, tm_mday=12, tm_hour=11, tm_min=52, tm_sec=0, tm_wday=6, tm_yday=316, tm_isdst=0),\n",
       "  'id': 'tag:pybit.es,2017-11-12:/twitter_digest_201745.html',\n",
       "  'guidislink': False,\n",
       "  'tags': [{'term': 'twitter', 'scheme': None, 'label': None},\n",
       "   {'term': 'news', 'scheme': None, 'label': None},\n",
       "   {'term': 'tips', 'scheme': None, 'label': None},\n",
       "   {'term': 'python', 'scheme': None, 'label': None},\n",
       "   {'term': 'Asyncio', 'scheme': None, 'label': None},\n",
       "   {'term': 'tutorials', 'scheme': None, 'label': None},\n",
       "   {'term': 'Machine Learning', 'scheme': None, 'label': None},\n",
       "   {'term': 'HTTP', 'scheme': None, 'label': None},\n",
       "   {'term': 'SQL', 'scheme': None, 'label': None},\n",
       "   {'term': 'Keras', 'scheme': None, 'label': None},\n",
       "   {'term': 'Deep Learning', 'scheme': None, 'label': None},\n",
       "   {'term': 'Tensorflow', 'scheme': None, 'label': None},\n",
       "   {'term': 'data mapping', 'scheme': None, 'label': None},\n",
       "   {'term': 'JSON', 'scheme': None, 'label': None},\n",
       "   {'term': 'Scitkit', 'scheme': None, 'label': None},\n",
       "   {'term': 'Pillow', 'scheme': None, 'label': None},\n",
       "   {'term': 'data visualisation', 'scheme': None, 'label': None},\n",
       "   {'term': 'SciPy', 'scheme': None, 'label': None}]},\n",
       " {'title': '5 Things we Learned Co-hosting a Live Code Challenge Workshop',\n",
       "  'title_detail': {'type': 'text/plain',\n",
       "   'language': None,\n",
       "   'base': 'http://projects.bobbelderbos.com/pcc/dates/all.rss.xml',\n",
       "   'value': '5 Things we Learned Co-hosting a Live Code Challenge Workshop'},\n",
       "  'links': [{'rel': 'alternate',\n",
       "    'type': 'text/html',\n",
       "    'href': 'https://pybit.es/alicante-pychallengeday.html'}],\n",
       "  'link': 'https://pybit.es/alicante-pychallengeday.html',\n",
       "  'summary': '<p>Yesterday we hosted <a href=\"https://pybit.es/codechallenge44.html\">PyChallengeDay</a> together with <a href=\"https://twitter.com/python_alc?lang=en\">Python Alicante</a>. I am sure the folks that joined us stretched their coding skills. And we learned a couple of things too which we will share in this article. Hopefullly it inspires you to host a workshop yourself to grow the awesome Python community.</p>',\n",
       "  'summary_detail': {'type': 'text/html',\n",
       "   'language': None,\n",
       "   'base': 'http://projects.bobbelderbos.com/pcc/dates/all.rss.xml',\n",
       "   'value': '<p>Yesterday we hosted <a href=\"https://pybit.es/codechallenge44.html\">PyChallengeDay</a> together with <a href=\"https://twitter.com/python_alc?lang=en\">Python Alicante</a>. I am sure the folks that joined us stretched their coding skills. And we learned a couple of things too which we will share in this article. Hopefullly it inspires you to host a workshop yourself to grow the awesome Python community.</p>'},\n",
       "  'authors': [{'name': 'Bob'}],\n",
       "  'author': 'Bob',\n",
       "  'author_detail': {'name': 'Bob'},\n",
       "  'published': 'Sat, 11 Nov 2017 18:00:00 +0100',\n",
       "  'published_parsed': time.struct_time(tm_year=2017, tm_mon=11, tm_mday=11, tm_hour=17, tm_min=0, tm_sec=0, tm_wday=5, tm_yday=315, tm_isdst=0),\n",
       "  'id': 'tag:pybit.es,2017-11-11:/alicante-pychallengeday.html',\n",
       "  'guidislink': False,\n",
       "  'tags': [{'term': 'code challenges', 'scheme': None, 'label': None},\n",
       "   {'term': 'community', 'scheme': None, 'label': None},\n",
       "   {'term': 'Python Alicante', 'scheme': None, 'label': None},\n",
       "   {'term': 'live coding', 'scheme': None, 'label': None},\n",
       "   {'term': 'learning', 'scheme': None, 'label': None},\n",
       "   {'term': 'retrospective', 'scheme': None, 'label': None},\n",
       "   {'term': 'talks', 'scheme': None, 'label': None},\n",
       "   {'term': 'Marvel', 'scheme': None, 'label': None},\n",
       "   {'term': 'fun', 'scheme': None, 'label': None}]},\n",
       " {'title': 'Code Challenge 44 - Marvel Data Analysis (Alicante PyChallengeDay)',\n",
       "  'title_detail': {'type': 'text/plain',\n",
       "   'language': None,\n",
       "   'base': 'http://projects.bobbelderbos.com/pcc/dates/all.rss.xml',\n",
       "   'value': 'Code Challenge 44 - Marvel Data Analysis (Alicante PyChallengeDay)'},\n",
       "  'links': [{'rel': 'alternate',\n",
       "    'type': 'text/html',\n",
       "    'href': 'https://pybit.es/codechallenge44.html'}],\n",
       "  'link': 'https://pybit.es/codechallenge44.html',\n",
       "  'summary': '<p>Hi Pythonistas, this is a very special edition! Today, the 10th of November, we launch our first Live Code Challenge. We partnered up with <a href=\"https://twitter.com/python_alc\">Python Alicante</a> and we will be hosting this code challenge with them at the University of Alicante. If you don\\'t happen to live in Alicante but do want to code today 10am-13pm CET you are more than welcome to join <a href=\"https://gitter.im/pybites/marvel\">this Gitter channel</a>.</p>',\n",
       "  'summary_detail': {'type': 'text/html',\n",
       "   'language': None,\n",
       "   'base': 'http://projects.bobbelderbos.com/pcc/dates/all.rss.xml',\n",
       "   'value': '<p>Hi Pythonistas, this is a very special edition! Today, the 10th of November, we launch our first Live Code Challenge. We partnered up with <a href=\"https://twitter.com/python_alc\">Python Alicante</a> and we will be hosting this code challenge with them at the University of Alicante. If you don\\'t happen to live in Alicante but do want to code today 10am-13pm CET you are more than welcome to join <a href=\"https://gitter.im/pybites/marvel\">this Gitter channel</a>.</p>'},\n",
       "  'authors': [{'name': 'PyBites'}],\n",
       "  'author': 'PyBites',\n",
       "  'author_detail': {'name': 'PyBites'},\n",
       "  'published': 'Fri, 10 Nov 2017 08:15:00 +0100',\n",
       "  'published_parsed': time.struct_time(tm_year=2017, tm_mon=11, tm_mday=10, tm_hour=7, tm_min=15, tm_sec=0, tm_wday=4, tm_yday=314, tm_isdst=0),\n",
       "  'id': 'tag:pybit.es,2017-11-10:/codechallenge44.html',\n",
       "  'guidislink': False,\n",
       "  'tags': [{'term': 'marvel', 'scheme': None, 'label': None},\n",
       "   {'term': 'data', 'scheme': None, 'label': None},\n",
       "   {'term': 'data analysis', 'scheme': None, 'label': None},\n",
       "   {'term': 'csv', 'scheme': None, 'label': None},\n",
       "   {'term': 'collections', 'scheme': None, 'label': None},\n",
       "   {'term': 'namedtuple', 'scheme': None, 'label': None},\n",
       "   {'term': 'Counter', 'scheme': None, 'label': None},\n",
       "   {'term': 'Live Challenge', 'scheme': None, 'label': None},\n",
       "   {'term': 'Python Alicante', 'scheme': None, 'label': None},\n",
       "   {'term': 'Bokeh', 'scheme': None, 'label': None},\n",
       "   {'term': 'coffee', 'scheme': None, 'label': None}]},\n",
       " {'title': 'Code Challenge 43 - Build a Chatbot Using Python',\n",
       "  'title_detail': {'type': 'text/plain',\n",
       "   'language': None,\n",
       "   'base': 'http://projects.bobbelderbos.com/pcc/dates/all.rss.xml',\n",
       "   'value': 'Code Challenge 43 - Build a Chatbot Using Python'},\n",
       "  'links': [{'rel': 'alternate',\n",
       "    'type': 'text/html',\n",
       "    'href': 'https://pybit.es/codechallenge43.html'}],\n",
       "  'link': 'https://pybit.es/codechallenge43.html',\n",
       "  'summary': \"<p>Hi Pythonistas, it's incredible to think how quickly bots have grown in popularity. They're everywhere these days and will play an important role how we work and communicate in the near future! It's about time we go our bot on as well!</p>\",\n",
       "  'summary_detail': {'type': 'text/html',\n",
       "   'language': None,\n",
       "   'base': 'http://projects.bobbelderbos.com/pcc/dates/all.rss.xml',\n",
       "   'value': \"<p>Hi Pythonistas, it's incredible to think how quickly bots have grown in popularity. They're everywhere these days and will play an important role how we work and communicate in the near future! It's about time we go our bot on as well!</p>\"},\n",
       "  'authors': [{'name': 'PyBites'}],\n",
       "  'author': 'PyBites',\n",
       "  'author_detail': {'name': 'PyBites'},\n",
       "  'published': 'Thu, 09 Nov 2017 09:35:00 +0100',\n",
       "  'published_parsed': time.struct_time(tm_year=2017, tm_mon=11, tm_mday=9, tm_hour=8, tm_min=35, tm_sec=0, tm_wday=3, tm_yday=313, tm_isdst=0),\n",
       "  'id': 'tag:pybit.es,2017-11-09:/codechallenge43.html',\n",
       "  'guidislink': False,\n",
       "  'tags': [{'term': 'chatbot', 'scheme': None, 'label': None},\n",
       "   {'term': 'bots', 'scheme': None, 'label': None},\n",
       "   {'term': 'Slack', 'scheme': None, 'label': None},\n",
       "   {'term': 'Facebook', 'scheme': None, 'label': None},\n",
       "   {'term': 'Twitter', 'scheme': None, 'label': None},\n",
       "   {'term': 'monitoring', 'scheme': None, 'label': None},\n",
       "   {'term': 'books', 'scheme': None, 'label': None},\n",
       "   {'term': 'contest', 'scheme': None, 'label': None},\n",
       "   {'term': 'ML', 'scheme': None, 'label': None},\n",
       "   {'term': 'NLP', 'scheme': None, 'label': None},\n",
       "   {'term': 'AI', 'scheme': None, 'label': None}]},\n",
       " {'title': 'Twitter Digest 2017 Week 44',\n",
       "  'title_detail': {'type': 'text/plain',\n",
       "   'language': None,\n",
       "   'base': 'http://projects.bobbelderbos.com/pcc/dates/all.rss.xml',\n",
       "   'value': 'Twitter Digest 2017 Week 44'},\n",
       "  'links': [{'rel': 'alternate',\n",
       "    'type': 'text/html',\n",
       "    'href': 'https://pybit.es/twitter_digest_201744.html'}],\n",
       "  'link': 'https://pybit.es/twitter_digest_201744.html',\n",
       "  'summary': '<p>Every weekend we share a curated list of 15 cool things (mostly Python) that we found / tweeted throughout the week.</p>',\n",
       "  'summary_detail': {'type': 'text/html',\n",
       "   'language': None,\n",
       "   'base': 'http://projects.bobbelderbos.com/pcc/dates/all.rss.xml',\n",
       "   'value': '<p>Every weekend we share a curated list of 15 cool things (mostly Python) that we found / tweeted throughout the week.</p>'},\n",
       "  'authors': [{'name': 'PyBites'}],\n",
       "  'author': 'PyBites',\n",
       "  'author_detail': {'name': 'PyBites'},\n",
       "  'published': 'Sun, 05 Nov 2017 12:54:00 +0100',\n",
       "  'published_parsed': time.struct_time(tm_year=2017, tm_mon=11, tm_mday=5, tm_hour=11, tm_min=54, tm_sec=0, tm_wday=6, tm_yday=309, tm_isdst=0),\n",
       "  'id': 'tag:pybit.es,2017-11-05:/twitter_digest_201744.html',\n",
       "  'guidislink': False,\n",
       "  'tags': [{'term': 'twitter', 'scheme': None, 'label': None},\n",
       "   {'term': 'news', 'scheme': None, 'label': None},\n",
       "   {'term': 'tips', 'scheme': None, 'label': None},\n",
       "   {'term': 'python', 'scheme': None, 'label': None},\n",
       "   {'term': 'Twilio', 'scheme': None, 'label': None},\n",
       "   {'term': 'regex', 'scheme': None, 'label': None},\n",
       "   {'term': 'learning', 'scheme': None, 'label': None},\n",
       "   {'term': 'web development', 'scheme': None, 'label': None},\n",
       "   {'term': 'tools', 'scheme': None, 'label': None},\n",
       "   {'term': 'Docker', 'scheme': None, 'label': None},\n",
       "   {'term': 'cheatsheet', 'scheme': None, 'label': None},\n",
       "   {'term': 'design', 'scheme': None, 'label': None},\n",
       "   {'term': 'vim', 'scheme': None, 'label': None},\n",
       "   {'term': 'Hacktoberfest', 'scheme': None, 'label': None},\n",
       "   {'term': 'sqlite', 'scheme': None, 'label': None},\n",
       "   {'term': 'data science', 'scheme': None, 'label': None},\n",
       "   {'term': 'PyPy', 'scheme': None, 'label': None},\n",
       "   {'term': 'ReportLab', 'scheme': None, 'label': None},\n",
       "   {'term': 'PDF', 'scheme': None, 'label': None},\n",
       "   {'term': 'OOP', 'scheme': None, 'label': None}]},\n",
       " {'title': 'Code Challenge 42 - Mastering Regular Expressions',\n",
       "  'title_detail': {'type': 'text/plain',\n",
       "   'language': None,\n",
       "   'base': 'http://projects.bobbelderbos.com/pcc/dates/all.rss.xml',\n",
       "   'value': 'Code Challenge 42 - Mastering Regular Expressions'},\n",
       "  'links': [{'rel': 'alternate',\n",
       "    'type': 'text/html',\n",
       "    'href': 'https://pybit.es/codechallenge42.html'}],\n",
       "  'link': 'https://pybit.es/codechallenge42.html',\n",
       "  'summary': \"<p>Hi Pythonistas, it's beginning of the month so we're busy selecting some cool code challenges for you to work on to hone your Python skills. Regular Expressions was a long time coming so let's get it out there. We hope we hit a decent intermediate level with this challenge. If you have questions ask us in the comments or join our Slack.</p>\",\n",
       "  'summary_detail': {'type': 'text/html',\n",
       "   'language': None,\n",
       "   'base': 'http://projects.bobbelderbos.com/pcc/dates/all.rss.xml',\n",
       "   'value': \"<p>Hi Pythonistas, it's beginning of the month so we're busy selecting some cool code challenges for you to work on to hone your Python skills. Regular Expressions was a long time coming so let's get it out there. We hope we hit a decent intermediate level with this challenge. If you have questions ask us in the comments or join our Slack.</p>\"},\n",
       "  'authors': [{'name': 'PyBites'}],\n",
       "  'author': 'PyBites',\n",
       "  'author_detail': {'name': 'PyBites'},\n",
       "  'published': 'Fri, 03 Nov 2017 09:30:00 +0100',\n",
       "  'published_parsed': time.struct_time(tm_year=2017, tm_mon=11, tm_mday=3, tm_hour=8, tm_min=30, tm_sec=0, tm_wday=4, tm_yday=307, tm_isdst=0),\n",
       "  'id': 'tag:pybit.es,2017-11-03:/codechallenge42.html',\n",
       "  'guidislink': False,\n",
       "  'tags': [{'term': 'regex', 'scheme': None, 'label': None},\n",
       "   {'term': 'regular expressions', 'scheme': None, 'label': None},\n",
       "   {'term': 'findall', 'scheme': None, 'label': None},\n",
       "   {'term': 'parsing', 'scheme': None, 'label': None},\n",
       "   {'term': 'pytest', 'scheme': None, 'label': None}]},\n",
       " {'title': 'Code Challenge 40 - Daily Python Tip Part 1 - Make a Web App - Review',\n",
       "  'title_detail': {'type': 'text/plain',\n",
       "   'language': None,\n",
       "   'base': 'http://projects.bobbelderbos.com/pcc/dates/all.rss.xml',\n",
       "   'value': 'Code Challenge 40 - Daily Python Tip Part 1 - Make a Web App - Review'},\n",
       "  'links': [{'rel': 'alternate',\n",
       "    'type': 'text/html',\n",
       "    'href': 'https://pybit.es/codechallenge40_review.html'}],\n",
       "  'link': 'https://pybit.es/codechallenge40_review.html',\n",
       "  'summary': '<p>In this article we review last week\\'s <a href=\"http://pybit.es/codechallenge40.html\">Daily Python Tip Part 1 - Make a Web App</a> code challenge.</p>',\n",
       "  'summary_detail': {'type': 'text/html',\n",
       "   'language': None,\n",
       "   'base': 'http://projects.bobbelderbos.com/pcc/dates/all.rss.xml',\n",
       "   'value': '<p>In this article we review last week\\'s <a href=\"http://pybit.es/codechallenge40.html\">Daily Python Tip Part 1 - Make a Web App</a> code challenge.</p>'},\n",
       "  'authors': [{'name': 'PyBites'}],\n",
       "  'author': 'PyBites',\n",
       "  'author_detail': {'name': 'PyBites'},\n",
       "  'published': 'Wed, 01 Nov 2017 23:20:00 +0100',\n",
       "  'published_parsed': time.struct_time(tm_year=2017, tm_mon=11, tm_mday=1, tm_hour=22, tm_min=20, tm_sec=0, tm_wday=2, tm_yday=305, tm_isdst=0),\n",
       "  'id': 'tag:pybit.es,2017-11-01:/codechallenge40_review.html',\n",
       "  'guidislink': False,\n",
       "  'tags': [{'term': 'Daily Python Tip', 'scheme': None, 'label': None},\n",
       "   {'term': 'Bottle', 'scheme': None, 'label': None},\n",
       "   {'term': 'Twitter API', 'scheme': None, 'label': None},\n",
       "   {'term': 'Tweepy', 'scheme': None, 'label': None},\n",
       "   {'term': 'pytest', 'scheme': None, 'label': None},\n",
       "   {'term': 'Heroku', 'scheme': None, 'label': None},\n",
       "   {'term': 'BetterCodeHub', 'scheme': None, 'label': None}]},\n",
       " {'title': 'Code Challenge 39 - Writing Tests With Pytest - Review',\n",
       "  'title_detail': {'type': 'text/plain',\n",
       "   'language': None,\n",
       "   'base': 'http://projects.bobbelderbos.com/pcc/dates/all.rss.xml',\n",
       "   'value': 'Code Challenge 39 - Writing Tests With Pytest - Review'},\n",
       "  'links': [{'rel': 'alternate',\n",
       "    'type': 'text/html',\n",
       "    'href': 'https://pybit.es/codechallenge39_review.html'}],\n",
       "  'link': 'https://pybit.es/codechallenge39_review.html',\n",
       "  'summary': '<p>In this article we review last week\\'s <a href=\"http://pybit.es/codechallenge39.html\">Writing Tests With Pytest</a> code challenge.</p>',\n",
       "  'summary_detail': {'type': 'text/html',\n",
       "   'language': None,\n",
       "   'base': 'http://projects.bobbelderbos.com/pcc/dates/all.rss.xml',\n",
       "   'value': '<p>In this article we review last week\\'s <a href=\"http://pybit.es/codechallenge39.html\">Writing Tests With Pytest</a> code challenge.</p>'},\n",
       "  'authors': [{'name': 'PyBites'}],\n",
       "  'author': 'PyBites',\n",
       "  'author_detail': {'name': 'PyBites'},\n",
       "  'published': 'Wed, 01 Nov 2017 23:10:00 +0100',\n",
       "  'published_parsed': time.struct_time(tm_year=2017, tm_mon=11, tm_mday=1, tm_hour=22, tm_min=10, tm_sec=0, tm_wday=2, tm_yday=305, tm_isdst=0),\n",
       "  'id': 'tag:pybit.es,2017-11-01:/codechallenge39_review.html',\n",
       "  'guidislink': False,\n",
       "  'tags': [{'term': 'pytest', 'scheme': None, 'label': None},\n",
       "   {'term': 'testing', 'scheme': None, 'label': None},\n",
       "   {'term': 'fixtures', 'scheme': None, 'label': None},\n",
       "   {'term': 'pytip', 'scheme': None, 'label': None}]},\n",
       " {'title': 'Code Challenge 38 - Build Your Own Hacktoberfest Checker With Bottle - Review',\n",
       "  'title_detail': {'type': 'text/plain',\n",
       "   'language': None,\n",
       "   'base': 'http://projects.bobbelderbos.com/pcc/dates/all.rss.xml',\n",
       "   'value': 'Code Challenge 38 - Build Your Own Hacktoberfest Checker With Bottle - Review'},\n",
       "  'links': [{'rel': 'alternate',\n",
       "    'type': 'text/html',\n",
       "    'href': 'https://pybit.es/codechallenge38_review.html'}],\n",
       "  'link': 'https://pybit.es/codechallenge38_review.html',\n",
       "  'summary': '<p>In this article we review last week\\'s <a href=\"http://pybit.es/codechallenge38.html\">Build Your Own Hacktoberfest Checker With Bottle</a> code challenge.</p>',\n",
       "  'summary_detail': {'type': 'text/html',\n",
       "   'language': None,\n",
       "   'base': 'http://projects.bobbelderbos.com/pcc/dates/all.rss.xml',\n",
       "   'value': '<p>In this article we review last week\\'s <a href=\"http://pybit.es/codechallenge38.html\">Build Your Own Hacktoberfest Checker With Bottle</a> code challenge.</p>'},\n",
       "  'authors': [{'name': 'PyBites'}],\n",
       "  'author': 'PyBites',\n",
       "  'author_detail': {'name': 'PyBites'},\n",
       "  'published': 'Wed, 01 Nov 2017 23:00:00 +0100',\n",
       "  'published_parsed': time.struct_time(tm_year=2017, tm_mon=11, tm_mday=1, tm_hour=22, tm_min=0, tm_sec=0, tm_wday=2, tm_yday=305, tm_isdst=0),\n",
       "  'id': 'tag:pybit.es,2017-11-01:/codechallenge38_review.html',\n",
       "  'guidislink': False,\n",
       "  'tags': [{'term': 'Hacktoberfest', 'scheme': None, 'label': None},\n",
       "   {'term': 'DigitalOcean', 'scheme': None, 'label': None},\n",
       "   {'term': 'Bottle', 'scheme': None, 'label': None},\n",
       "   {'term': 'GitHub', 'scheme': None, 'label': None},\n",
       "   {'term': 'API', 'scheme': None, 'label': None},\n",
       "   {'term': 'Web development', 'scheme': None, 'label': None}]},\n",
       " {'title': 'Code Challenge 41 - Daily Python Tip Part 2 - Build an API',\n",
       "  'title_detail': {'type': 'text/plain',\n",
       "   'language': None,\n",
       "   'base': 'http://projects.bobbelderbos.com/pcc/dates/all.rss.xml',\n",
       "   'value': 'Code Challenge 41 - Daily Python Tip Part 2 - Build an API'},\n",
       "  'links': [{'rel': 'alternate',\n",
       "    'type': 'text/html',\n",
       "    'href': 'https://pybit.es/codechallenge41.html'}],\n",
       "  'link': 'https://pybit.es/codechallenge41.html',\n",
       "  'summary': '<p>Hi Pythonistas, you heard of <a href=\"https://twitter.com/python_tip\">Daily Python Tip</a>? It\\'s a Twitter account that posts one python tip per day, run by <a href=\"https://twitter.com/karlafej\">@karlafej</a> and <a href=\"https://twitter.com/simecek\">@simecek</a>. We partnered up with them and use their awesome collection of tips to build a web app (part 1) and a simple API (part 2).</p>',\n",
       "  'summary_detail': {'type': 'text/html',\n",
       "   'language': None,\n",
       "   'base': 'http://projects.bobbelderbos.com/pcc/dates/all.rss.xml',\n",
       "   'value': '<p>Hi Pythonistas, you heard of <a href=\"https://twitter.com/python_tip\">Daily Python Tip</a>? It\\'s a Twitter account that posts one python tip per day, run by <a href=\"https://twitter.com/karlafej\">@karlafej</a> and <a href=\"https://twitter.com/simecek\">@simecek</a>. We partnered up with them and use their awesome collection of tips to build a web app (part 1) and a simple API (part 2).</p>'},\n",
       "  'authors': [{'name': 'PyBites'}],\n",
       "  'author': 'PyBites',\n",
       "  'author_detail': {'name': 'PyBites'},\n",
       "  'published': 'Wed, 01 Nov 2017 12:20:00 +0100',\n",
       "  'published_parsed': time.struct_time(tm_year=2017, tm_mon=11, tm_mday=1, tm_hour=11, tm_min=20, tm_sec=0, tm_wday=2, tm_yday=305, tm_isdst=0),\n",
       "  'id': 'tag:pybit.es,2017-11-01:/codechallenge41.html',\n",
       "  'guidislink': False,\n",
       "  'tags': [{'term': 'Daily Python Tip', 'scheme': None, 'label': None},\n",
       "   {'term': 'Django', 'scheme': None, 'label': None},\n",
       "   {'term': 'Flask', 'scheme': None, 'label': None},\n",
       "   {'term': 'Bottle', 'scheme': None, 'label': None},\n",
       "   {'term': 'API', 'scheme': None, 'label': None}]},\n",
       " {'title': 'Twitter Digest 2017 Week 43',\n",
       "  'title_detail': {'type': 'text/plain',\n",
       "   'language': None,\n",
       "   'base': 'http://projects.bobbelderbos.com/pcc/dates/all.rss.xml',\n",
       "   'value': 'Twitter Digest 2017 Week 43'},\n",
       "  'links': [{'rel': 'alternate',\n",
       "    'type': 'text/html',\n",
       "    'href': 'https://pybit.es/twitter_digest_201743.html'}],\n",
       "  'link': 'https://pybit.es/twitter_digest_201743.html',\n",
       "  'summary': '<p>Every weekend we share a curated list of 15 cool things (mostly Python) that we found / tweeted throughout the week.</p>',\n",
       "  'summary_detail': {'type': 'text/html',\n",
       "   'language': None,\n",
       "   'base': 'http://projects.bobbelderbos.com/pcc/dates/all.rss.xml',\n",
       "   'value': '<p>Every weekend we share a curated list of 15 cool things (mostly Python) that we found / tweeted throughout the week.</p>'},\n",
       "  'authors': [{'name': 'PyBites'}],\n",
       "  'author': 'PyBites',\n",
       "  'author_detail': {'name': 'PyBites'},\n",
       "  'published': 'Sun, 29 Oct 2017 19:57:00 +0100',\n",
       "  'published_parsed': time.struct_time(tm_year=2017, tm_mon=10, tm_mday=29, tm_hour=18, tm_min=57, tm_sec=0, tm_wday=6, tm_yday=302, tm_isdst=0),\n",
       "  'id': 'tag:pybit.es,2017-10-29:/twitter_digest_201743.html',\n",
       "  'guidislink': False,\n",
       "  'tags': [{'term': 'twitter', 'scheme': None, 'label': None},\n",
       "   {'term': 'news', 'scheme': None, 'label': None},\n",
       "   {'term': 'tips', 'scheme': None, 'label': None},\n",
       "   {'term': 'python', 'scheme': None, 'label': None},\n",
       "   {'term': 'OpenCV', 'scheme': None, 'label': None},\n",
       "   {'term': 'Raspberry Pi', 'scheme': None, 'label': None},\n",
       "   {'term': 'dictionaries', 'scheme': None, 'label': None},\n",
       "   {'term': 'machine learning', 'scheme': None, 'label': None},\n",
       "   {'term': 'NumPy', 'scheme': None, 'label': None},\n",
       "   {'term': 'tests', 'scheme': None, 'label': None},\n",
       "   {'term': 'Django', 'scheme': None, 'label': None},\n",
       "   {'term': 'Jupyter', 'scheme': None, 'label': None},\n",
       "   {'term': 'animation', 'scheme': None, 'label': None},\n",
       "   {'term': 'Blender', 'scheme': None, 'label': None},\n",
       "   {'term': 'Sublime', 'scheme': None, 'label': None},\n",
       "   {'term': 'debugging', 'scheme': None, 'label': None},\n",
       "   {'term': 'Pandas', 'scheme': None, 'label': None},\n",
       "   {'term': 'learning', 'scheme': None, 'label': None},\n",
       "   {'term': 'challenges', 'scheme': None, 'label': None},\n",
       "   {'term': 'Docker', 'scheme': None, 'label': None},\n",
       "   {'term': 'Deepo', 'scheme': None, 'label': None}]},\n",
       " {'title': 'Bootstrap Your Next Python Project With Cookiecutter',\n",
       "  'title_detail': {'type': 'text/plain',\n",
       "   'language': None,\n",
       "   'base': 'http://projects.bobbelderbos.com/pcc/dates/all.rss.xml',\n",
       "   'value': 'Bootstrap Your Next Python Project With Cookiecutter'},\n",
       "  'links': [{'rel': 'alternate',\n",
       "    'type': 'text/html',\n",
       "    'href': 'https://pybit.es/python-cookiecutter.html'}],\n",
       "  'link': 'https://pybit.es/python-cookiecutter.html',\n",
       "  'summary': '<p>I finally did it! I bootstrapped my first project with Cookiecutter. There is a lot to discover but wow this tool can save you a ton of time, making your project more professional.</p>',\n",
       "  'summary_detail': {'type': 'text/html',\n",
       "   'language': None,\n",
       "   'base': 'http://projects.bobbelderbos.com/pcc/dates/all.rss.xml',\n",
       "   'value': '<p>I finally did it! I bootstrapped my first project with Cookiecutter. There is a lot to discover but wow this tool can save you a ton of time, making your project more professional.</p>'},\n",
       "  'authors': [{'name': 'Bob'}],\n",
       "  'author': 'Bob',\n",
       "  'author_detail': {'name': 'Bob'},\n",
       "  'published': 'Wed, 25 Oct 2017 00:11:00 +0200',\n",
       "  'published_parsed': time.struct_time(tm_year=2017, tm_mon=10, tm_mday=24, tm_hour=22, tm_min=11, tm_sec=0, tm_wday=1, tm_yday=297, tm_isdst=0),\n",
       "  'id': 'tag:pybit.es,2017-10-25:/python-cookiecutter.html',\n",
       "  'guidislink': False,\n",
       "  'tags': [{'term': 'Cookiecutter', 'scheme': None, 'label': None},\n",
       "   {'term': 'setup', 'scheme': None, 'label': None},\n",
       "   {'term': 'testing', 'scheme': None, 'label': None},\n",
       "   {'term': 'packages', 'scheme': None, 'label': None},\n",
       "   {'term': 'modules', 'scheme': None, 'label': None},\n",
       "   {'term': 'Bottle', 'scheme': None, 'label': None}]},\n",
       " {'title': 'How to Use Pdb to Debug Your Code',\n",
       "  'title_detail': {'type': 'text/plain',\n",
       "   'language': None,\n",
       "   'base': 'http://projects.bobbelderbos.com/pcc/dates/all.rss.xml',\n",
       "   'value': 'How to Use Pdb to Debug Your Code'},\n",
       "  'links': [{'rel': 'alternate',\n",
       "    'type': 'text/html',\n",
       "    'href': 'https://pybit.es/pdb-debugger.html'}],\n",
       "  'link': 'https://pybit.es/pdb-debugger.html',\n",
       "  'summary': '<p>The larger part of our coding time is spent reading and debugging code already written. For this Python\\'s <a href=\"https://docs.python.org/3.7/library/pdb.html\">pdb</a> is an unmissable module in your Python toolbox. In this article I show you the most common options and some practical examples.</p>',\n",
       "  'summary_detail': {'type': 'text/html',\n",
       "   'language': None,\n",
       "   'base': 'http://projects.bobbelderbos.com/pcc/dates/all.rss.xml',\n",
       "   'value': '<p>The larger part of our coding time is spent reading and debugging code already written. For this Python\\'s <a href=\"https://docs.python.org/3.7/library/pdb.html\">pdb</a> is an unmissable module in your Python toolbox. In this article I show you the most common options and some practical examples.</p>'},\n",
       "  'authors': [{'name': 'Bob'}],\n",
       "  'author': 'Bob',\n",
       "  'author_detail': {'name': 'Bob'},\n",
       "  'published': 'Tue, 24 Oct 2017 13:00:00 +0200',\n",
       "  'published_parsed': time.struct_time(tm_year=2017, tm_mon=10, tm_mday=24, tm_hour=11, tm_min=0, tm_sec=0, tm_wday=1, tm_yday=297, tm_isdst=0),\n",
       "  'id': 'tag:pybit.es,2017-10-24:/pdb-debugger.html',\n",
       "  'guidislink': False,\n",
       "  'tags': [{'term': 'pdb', 'scheme': None, 'label': None},\n",
       "   {'term': 'debugging', 'scheme': None, 'label': None},\n",
       "   {'term': 'troubleshooting', 'scheme': None, 'label': None},\n",
       "   {'term': 'bugs', 'scheme': None, 'label': None},\n",
       "   {'term': 'modules', 'scheme': None, 'label': None}]},\n",
       " {'title': 'Code Challenge 40 - Daily Python Tip Part 1 - Make a Web App',\n",
       "  'title_detail': {'type': 'text/plain',\n",
       "   'language': None,\n",
       "   'base': 'http://projects.bobbelderbos.com/pcc/dates/all.rss.xml',\n",
       "   'value': 'Code Challenge 40 - Daily Python Tip Part 1 - Make a Web App'},\n",
       "  'links': [{'rel': 'alternate',\n",
       "    'type': 'text/html',\n",
       "    'href': 'https://pybit.es/codechallenge40.html'}],\n",
       "  'link': 'https://pybit.es/codechallenge40.html',\n",
       "  'summary': '<p>Hi Pythonistas, you heard of <a href=\"https://twitter.com/python_tip\">Daily Python Tip</a>? It\\'s a Twitter account that posts one python tip per day, run by <a href=\"https://twitter.com/karlafej\">@karlafej</a> and <a href=\"https://twitter.com/simecek\">@simecek</a>. We partnered up with them and use their awesome collection of tips to build a web app (part 1) and a simple API (part 2).</p>',\n",
       "  'summary_detail': {'type': 'text/html',\n",
       "   'language': None,\n",
       "   'base': 'http://projects.bobbelderbos.com/pcc/dates/all.rss.xml',\n",
       "   'value': '<p>Hi Pythonistas, you heard of <a href=\"https://twitter.com/python_tip\">Daily Python Tip</a>? It\\'s a Twitter account that posts one python tip per day, run by <a href=\"https://twitter.com/karlafej\">@karlafej</a> and <a href=\"https://twitter.com/simecek\">@simecek</a>. We partnered up with them and use their awesome collection of tips to build a web app (part 1) and a simple API (part 2).</p>'},\n",
       "  'authors': [{'name': 'PyBites'}],\n",
       "  'author': 'PyBites',\n",
       "  'author_detail': {'name': 'PyBites'},\n",
       "  'published': 'Tue, 24 Oct 2017 12:50:00 +0200',\n",
       "  'published_parsed': time.struct_time(tm_year=2017, tm_mon=10, tm_mday=24, tm_hour=10, tm_min=50, tm_sec=0, tm_wday=1, tm_yday=297, tm_isdst=0),\n",
       "  'id': 'tag:pybit.es,2017-10-24:/codechallenge40.html',\n",
       "  'guidislink': False,\n",
       "  'tags': [{'term': 'Daily Python Tip', 'scheme': None, 'label': None},\n",
       "   {'term': 'Django', 'scheme': None, 'label': None},\n",
       "   {'term': 'Flask', 'scheme': None, 'label': None},\n",
       "   {'term': 'Bottle', 'scheme': None, 'label': None},\n",
       "   {'term': 'Twitter API', 'scheme': None, 'label': None},\n",
       "   {'term': 'Tweepy', 'scheme': None, 'label': None}]},\n",
       " {'title': 'Twitter Digest 2017 Week 42',\n",
       "  'title_detail': {'type': 'text/plain',\n",
       "   'language': None,\n",
       "   'base': 'http://projects.bobbelderbos.com/pcc/dates/all.rss.xml',\n",
       "   'value': 'Twitter Digest 2017 Week 42'},\n",
       "  'links': [{'rel': 'alternate',\n",
       "    'type': 'text/html',\n",
       "    'href': 'https://pybit.es/twitter_digest_201742.html'}],\n",
       "  'link': 'https://pybit.es/twitter_digest_201742.html',\n",
       "  'summary': '<p>Every weekend we share a curated list of 15 cool things (mostly Python) that we found / tweeted throughout the week.</p>',\n",
       "  'summary_detail': {'type': 'text/html',\n",
       "   'language': None,\n",
       "   'base': 'http://projects.bobbelderbos.com/pcc/dates/all.rss.xml',\n",
       "   'value': '<p>Every weekend we share a curated list of 15 cool things (mostly Python) that we found / tweeted throughout the week.</p>'},\n",
       "  'authors': [{'name': 'PyBites'}],\n",
       "  'author': 'PyBites',\n",
       "  'author_detail': {'name': 'PyBites'},\n",
       "  'published': 'Sun, 22 Oct 2017 20:42:00 +0200',\n",
       "  'published_parsed': time.struct_time(tm_year=2017, tm_mon=10, tm_mday=22, tm_hour=18, tm_min=42, tm_sec=0, tm_wday=6, tm_yday=295, tm_isdst=0),\n",
       "  'id': 'tag:pybit.es,2017-10-22:/twitter_digest_201742.html',\n",
       "  'guidislink': False,\n",
       "  'tags': [{'term': 'twitter', 'scheme': None, 'label': None},\n",
       "   {'term': 'news', 'scheme': None, 'label': None},\n",
       "   {'term': 'tips', 'scheme': None, 'label': None},\n",
       "   {'term': 'python', 'scheme': None, 'label': None},\n",
       "   {'term': 'automation', 'scheme': None, 'label': None},\n",
       "   {'term': 'pandas', 'scheme': None, 'label': None},\n",
       "   {'term': 'GitHub', 'scheme': None, 'label': None},\n",
       "   {'term': 'data visualisation', 'scheme': None, 'label': None},\n",
       "   {'term': 'Flask', 'scheme': None, 'label': None},\n",
       "   {'term': 'Django', 'scheme': None, 'label': None},\n",
       "   {'term': 'tutorial', 'scheme': None, 'label': None},\n",
       "   {'term': 'AWS Lambda', 'scheme': None, 'label': None},\n",
       "   {'term': 'counter', 'scheme': None, 'label': None},\n",
       "   {'term': 'PyGotham', 'scheme': None, 'label': None},\n",
       "   {'term': 'videos', 'scheme': None, 'label': None},\n",
       "   {'term': 'Jupyter', 'scheme': None, 'label': None},\n",
       "   {'term': 'Computer Science', 'scheme': None, 'label': None},\n",
       "   {'term': 'Regex', 'scheme': None, 'label': None}]},\n",
       " {'title': 'Learning Python Decorators by Example',\n",
       "  'title_detail': {'type': 'text/plain',\n",
       "   'language': None,\n",
       "   'base': 'http://projects.bobbelderbos.com/pcc/dates/all.rss.xml',\n",
       "   'value': 'Learning Python Decorators by Example'},\n",
       "  'links': [{'rel': 'alternate',\n",
       "    'type': 'text/html',\n",
       "    'href': 'https://pybit.es/decorators-by-example.html'}],\n",
       "  'link': 'https://pybit.es/decorators-by-example.html',\n",
       "  'summary': '<p>Decorators are a sometimes overlooked feature and they might be hard to grasp for beginning Pythonistas. I agree with Aaron Maxwell that mastering them \"can massively magnify the positive impact of the code you write\", so make sure you add them to your toolkit if not done so already. In this article I explain what they do, why you want to use them and give some practical examples.</p>',\n",
       "  'summary_detail': {'type': 'text/html',\n",
       "   'language': None,\n",
       "   'base': 'http://projects.bobbelderbos.com/pcc/dates/all.rss.xml',\n",
       "   'value': '<p>Decorators are a sometimes overlooked feature and they might be hard to grasp for beginning Pythonistas. I agree with Aaron Maxwell that mastering them \"can massively magnify the positive impact of the code you write\", so make sure you add them to your toolkit if not done so already. In this article I explain what they do, why you want to use them and give some practical examples.</p>'},\n",
       "  'authors': [{'name': 'Bob'}],\n",
       "  'author': 'Bob',\n",
       "  'author_detail': {'name': 'Bob'},\n",
       "  'published': 'Fri, 20 Oct 2017 12:00:00 +0200',\n",
       "  'published_parsed': time.struct_time(tm_year=2017, tm_mon=10, tm_mday=20, tm_hour=10, tm_min=0, tm_sec=0, tm_wday=4, tm_yday=293, tm_isdst=0),\n",
       "  'id': 'tag:pybit.es,2017-10-20:/decorators-by-example.html',\n",
       "  'guidislink': False,\n",
       "  'tags': [{'term': 'decorators', 'scheme': None, 'label': None},\n",
       "   {'term': 'design patterns', 'scheme': None, 'label': None},\n",
       "   {'term': 'logging', 'scheme': None, 'label': None},\n",
       "   {'term': 'caching', 'scheme': None, 'label': None},\n",
       "   {'term': 'memoization', 'scheme': None, 'label': None},\n",
       "   {'term': 'Flask', 'scheme': None, 'label': None},\n",
       "   {'term': 'Django', 'scheme': None, 'label': None},\n",
       "   {'term': 'properties', 'scheme': None, 'label': None},\n",
       "   {'term': 'classmethod', 'scheme': None, 'label': None},\n",
       "   {'term': 'staticmethod', 'scheme': None, 'label': None},\n",
       "   {'term': 'lru_cache', 'scheme': None, 'label': None},\n",
       "   {'term': 'mock.patch', 'scheme': None, 'label': None},\n",
       "   {'term': 'contextmanager', 'scheme': None, 'label': None}]},\n",
       " {'title': 'Twitter Digest 2017 Week 41',\n",
       "  'title_detail': {'type': 'text/plain',\n",
       "   'language': None,\n",
       "   'base': 'http://projects.bobbelderbos.com/pcc/dates/all.rss.xml',\n",
       "   'value': 'Twitter Digest 2017 Week 41'},\n",
       "  'links': [{'rel': 'alternate',\n",
       "    'type': 'text/html',\n",
       "    'href': 'https://pybit.es/twitter_digest_201741.html'}],\n",
       "  'link': 'https://pybit.es/twitter_digest_201741.html',\n",
       "  'summary': '<p>Every weekend we share a curated list of 15 cool things (mostly Python) that we found / tweeted throughout the week.</p>',\n",
       "  'summary_detail': {'type': 'text/html',\n",
       "   'language': None,\n",
       "   'base': 'http://projects.bobbelderbos.com/pcc/dates/all.rss.xml',\n",
       "   'value': '<p>Every weekend we share a curated list of 15 cool things (mostly Python) that we found / tweeted throughout the week.</p>'},\n",
       "  'authors': [{'name': 'PyBites'}],\n",
       "  'author': 'PyBites',\n",
       "  'author_detail': {'name': 'PyBites'},\n",
       "  'published': 'Sun, 15 Oct 2017 15:51:00 +0200',\n",
       "  'published_parsed': time.struct_time(tm_year=2017, tm_mon=10, tm_mday=15, tm_hour=13, tm_min=51, tm_sec=0, tm_wday=6, tm_yday=288, tm_isdst=0),\n",
       "  'id': 'tag:pybit.es,2017-10-15:/twitter_digest_201741.html',\n",
       "  'guidislink': False,\n",
       "  'tags': [{'term': 'twitter', 'scheme': None, 'label': None},\n",
       "   {'term': 'news', 'scheme': None, 'label': None},\n",
       "   {'term': 'tips', 'scheme': None, 'label': None},\n",
       "   {'term': 'python', 'scheme': None, 'label': None},\n",
       "   {'term': 'Django', 'scheme': None, 'label': None},\n",
       "   {'term': 'books', 'scheme': None, 'label': None},\n",
       "   {'term': 'Microservices', 'scheme': None, 'label': None},\n",
       "   {'term': 'Docker', 'scheme': None, 'label': None},\n",
       "   {'term': 'Flask', 'scheme': None, 'label': None},\n",
       "   {'term': 'React', 'scheme': None, 'label': None},\n",
       "   {'term': 'Machine Learning', 'scheme': None, 'label': None},\n",
       "   {'term': 'Spotify', 'scheme': None, 'label': None},\n",
       "   {'term': 'Data Science', 'scheme': None, 'label': None},\n",
       "   {'term': 'SQLAlchemy', 'scheme': None, 'label': None},\n",
       "   {'term': 'Jupyter', 'scheme': None, 'label': None},\n",
       "   {'term': 'Data Visualisation', 'scheme': None, 'label': None},\n",
       "   {'term': 'Ramp', 'scheme': None, 'label': None},\n",
       "   {'term': 'Security', 'scheme': None, 'label': None},\n",
       "   {'term': 'K-Means Clustering', 'scheme': None, 'label': None},\n",
       "   {'term': 'decorators', 'scheme': None, 'label': None},\n",
       "   {'term': 'Kubernetes', 'scheme': None, 'label': None},\n",
       "   {'term': 'PyQt', 'scheme': None, 'label': None},\n",
       "   {'term': 'qutebrowser', 'scheme': None, 'label': None},\n",
       "   {'term': 'GUI', 'scheme': None, 'label': None}]},\n",
       " {'title': 'Twitter Digest 2017 Week 40',\n",
       "  'title_detail': {'type': 'text/plain',\n",
       "   'language': None,\n",
       "   'base': 'http://projects.bobbelderbos.com/pcc/dates/all.rss.xml',\n",
       "   'value': 'Twitter Digest 2017 Week 40'},\n",
       "  'links': [{'rel': 'alternate',\n",
       "    'type': 'text/html',\n",
       "    'href': 'https://pybit.es/twitter_digest_201740.html'}],\n",
       "  'link': 'https://pybit.es/twitter_digest_201740.html',\n",
       "  'summary': '<p>Every weekend we share a curated list of 15 cool things (mostly Python) that we found / tweeted throughout the week.</p>',\n",
       "  'summary_detail': {'type': 'text/html',\n",
       "   'language': None,\n",
       "   'base': 'http://projects.bobbelderbos.com/pcc/dates/all.rss.xml',\n",
       "   'value': '<p>Every weekend we share a curated list of 15 cool things (mostly Python) that we found / tweeted throughout the week.</p>'},\n",
       "  'authors': [{'name': 'PyBites'}],\n",
       "  'author': 'PyBites',\n",
       "  'author_detail': {'name': 'PyBites'},\n",
       "  'published': 'Sun, 08 Oct 2017 15:40:00 +0200',\n",
       "  'published_parsed': time.struct_time(tm_year=2017, tm_mon=10, tm_mday=8, tm_hour=13, tm_min=40, tm_sec=0, tm_wday=6, tm_yday=281, tm_isdst=0),\n",
       "  'id': 'tag:pybit.es,2017-10-08:/twitter_digest_201740.html',\n",
       "  'guidislink': False,\n",
       "  'tags': [{'term': 'twitter', 'scheme': None, 'label': None},\n",
       "   {'term': 'news', 'scheme': None, 'label': None},\n",
       "   {'term': 'tips', 'scheme': None, 'label': None},\n",
       "   {'term': 'python', 'scheme': None, 'label': None},\n",
       "   {'term': 'deep learning', 'scheme': None, 'label': None},\n",
       "   {'term': 'Raspberry Pi', 'scheme': None, 'label': None},\n",
       "   {'term': 'beginner', 'scheme': None, 'label': None},\n",
       "   {'term': 'tutorial', 'scheme': None, 'label': None},\n",
       "   {'term': 'code quality', 'scheme': None, 'label': None},\n",
       "   {'term': 'Django', 'scheme': None, 'label': None},\n",
       "   {'term': 'music', 'scheme': None, 'label': None},\n",
       "   {'term': 'Jupyter', 'scheme': None, 'label': None},\n",
       "   {'term': 'PyGame', 'scheme': None, 'label': None},\n",
       "   {'term': 'PyInstaller', 'scheme': None, 'label': None},\n",
       "   {'term': 'survey', 'scheme': None, 'label': None},\n",
       "   {'term': 'Disqus', 'scheme': None, 'label': None},\n",
       "   {'term': 'blockchain', 'scheme': None, 'label': None},\n",
       "   {'term': 'Flask', 'scheme': None, 'label': None},\n",
       "   {'term': 'Google Facets', 'scheme': None, 'label': None},\n",
       "   {'term': 'Data Visualisation', 'scheme': None, 'label': None},\n",
       "   {'term': 'MyPy', 'scheme': None, 'label': None}]},\n",
       " {'title': 'Code Challenge 39 - Writing Tests With Pytest',\n",
       "  'title_detail': {'type': 'text/plain',\n",
       "   'language': None,\n",
       "   'base': 'http://projects.bobbelderbos.com/pcc/dates/all.rss.xml',\n",
       "   'value': 'Code Challenge 39 - Writing Tests With Pytest'},\n",
       "  'links': [{'rel': 'alternate',\n",
       "    'type': 'text/html',\n",
       "    'href': 'https://pybit.es/codechallenge39.html'}],\n",
       "  'link': 'https://pybit.es/codechallenge39.html',\n",
       "  'summary': '<p>Hi Pythonistas, let\\'s add some more challenges for October. Following <a href=\"https://pybit.es/pytest-book.html\">our Python testing with pytest book review</a> we let you write some tests with this awesome framework.</p>',\n",
       "  'summary_detail': {'type': 'text/html',\n",
       "   'language': None,\n",
       "   'base': 'http://projects.bobbelderbos.com/pcc/dates/all.rss.xml',\n",
       "   'value': '<p>Hi Pythonistas, let\\'s add some more challenges for October. Following <a href=\"https://pybit.es/pytest-book.html\">our Python testing with pytest book review</a> we let you write some tests with this awesome framework.</p>'},\n",
       "  'authors': [{'name': 'PyBites'}],\n",
       "  'author': 'PyBites',\n",
       "  'author_detail': {'name': 'PyBites'},\n",
       "  'published': 'Thu, 05 Oct 2017 12:10:00 +0200',\n",
       "  'published_parsed': time.struct_time(tm_year=2017, tm_mon=10, tm_mday=5, tm_hour=10, tm_min=10, tm_sec=0, tm_wday=3, tm_yday=278, tm_isdst=0),\n",
       "  'id': 'tag:pybit.es,2017-10-05:/codechallenge39.html',\n",
       "  'guidislink': False,\n",
       "  'tags': [{'term': 'pytest', 'scheme': None, 'label': None},\n",
       "   {'term': 'testing', 'scheme': None, 'label': None},\n",
       "   {'term': 'unittest', 'scheme': None, 'label': None},\n",
       "   {'term': 'fixtures', 'scheme': None, 'label': None},\n",
       "   {'term': 'BetterCodeHub', 'scheme': None, 'label': None},\n",
       "   {'term': 'pytest-cov', 'scheme': None, 'label': None},\n",
       "   {'term': 'CI', 'scheme': None, 'label': None},\n",
       "   {'term': 'opensource', 'scheme': None, 'label': None},\n",
       "   {'term': 'Hacktoberfest', 'scheme': None, 'label': None},\n",
       "   {'term': 'TalkPython', 'scheme': None, 'label': None}]},\n",
       " {'title': 'Code Challenge 38 - Build Your Own Hacktoberfest Checker With Bottle',\n",
       "  'title_detail': {'type': 'text/plain',\n",
       "   'language': None,\n",
       "   'base': 'http://projects.bobbelderbos.com/pcc/dates/all.rss.xml',\n",
       "   'value': 'Code Challenge 38 - Build Your Own Hacktoberfest Checker With Bottle'},\n",
       "  'links': [{'rel': 'alternate',\n",
       "    'type': 'text/html',\n",
       "    'href': 'https://pybit.es/codechallenge38.html'}],\n",
       "  'link': 'https://pybit.es/codechallenge38.html',\n",
       "  'summary': '<p>Hi Pythonistas, Hacktoberfest started. Let\\'s make open source better and track our progress with a little app you will build using the <a href=\"https://bottlepy.org/docs/dev/\">Bottle web framework</a>.</p>',\n",
       "  'summary_detail': {'type': 'text/html',\n",
       "   'language': None,\n",
       "   'base': 'http://projects.bobbelderbos.com/pcc/dates/all.rss.xml',\n",
       "   'value': '<p>Hi Pythonistas, Hacktoberfest started. Let\\'s make open source better and track our progress with a little app you will build using the <a href=\"https://bottlepy.org/docs/dev/\">Bottle web framework</a>.</p>'},\n",
       "  'authors': [{'name': 'PyBites'}],\n",
       "  'author': 'PyBites',\n",
       "  'author_detail': {'name': 'PyBites'},\n",
       "  'published': 'Wed, 04 Oct 2017 11:20:00 +0200',\n",
       "  'published_parsed': time.struct_time(tm_year=2017, tm_mon=10, tm_mday=4, tm_hour=9, tm_min=20, tm_sec=0, tm_wday=2, tm_yday=277, tm_isdst=0),\n",
       "  'id': 'tag:pybit.es,2017-10-04:/codechallenge38.html',\n",
       "  'guidislink': False,\n",
       "  'tags': [{'term': 'Hacktoberfest', 'scheme': None, 'label': None},\n",
       "   {'term': 'DigitalOcean', 'scheme': None, 'label': None},\n",
       "   {'term': 'Bottle', 'scheme': None, 'label': None},\n",
       "   {'term': 'GitHub', 'scheme': None, 'label': None},\n",
       "   {'term': 'API', 'scheme': None, 'label': None},\n",
       "   {'term': 'Web development', 'scheme': None, 'label': None}]},\n",
       " {'title': 'Code Challenge 37 - Automate a Task With Twilio - Review',\n",
       "  'title_detail': {'type': 'text/plain',\n",
       "   'language': None,\n",
       "   'base': 'http://projects.bobbelderbos.com/pcc/dates/all.rss.xml',\n",
       "   'value': 'Code Challenge 37 - Automate a Task With Twilio - Review'},\n",
       "  'links': [{'rel': 'alternate',\n",
       "    'type': 'text/html',\n",
       "    'href': 'https://pybit.es/codechallenge37_review.html'}],\n",
       "  'link': 'https://pybit.es/codechallenge37_review.html',\n",
       "  'summary': '<p>In this article we review last week\\'s <a href=\"http://pybit.es/codechallenge37.html\">Automate a Task With Twilio</a> code challenge.</p>',\n",
       "  'summary_detail': {'type': 'text/html',\n",
       "   'language': None,\n",
       "   'base': 'http://projects.bobbelderbos.com/pcc/dates/all.rss.xml',\n",
       "   'value': '<p>In this article we review last week\\'s <a href=\"http://pybit.es/codechallenge37.html\">Automate a Task With Twilio</a> code challenge.</p>'},\n",
       "  'authors': [{'name': 'PyBites'}],\n",
       "  'author': 'PyBites',\n",
       "  'author_detail': {'name': 'PyBites'},\n",
       "  'published': 'Tue, 03 Oct 2017 11:10:00 +0200',\n",
       "  'published_parsed': time.struct_time(tm_year=2017, tm_mon=10, tm_mday=3, tm_hour=9, tm_min=10, tm_sec=0, tm_wday=1, tm_yday=276, tm_isdst=0),\n",
       "  'id': 'tag:pybit.es,2017-10-03:/codechallenge37_review.html',\n",
       "  'guidislink': False,\n",
       "  'tags': [{'term': 'Twilio', 'scheme': None, 'label': None},\n",
       "   {'term': 'API', 'scheme': None, 'label': None},\n",
       "   {'term': 'apis', 'scheme': None, 'label': None},\n",
       "   {'term': 'sms', 'scheme': None, 'label': None},\n",
       "   {'term': 'notifications', 'scheme': None, 'label': None},\n",
       "   {'term': 'birthdays', 'scheme': None, 'label': None},\n",
       "   {'term': 'automation', 'scheme': None, 'label': None}]},\n",
       " {'title': 'Code Challenge 36 - Create an AWS Lambda Function - Review',\n",
       "  'title_detail': {'type': 'text/plain',\n",
       "   'language': None,\n",
       "   'base': 'http://projects.bobbelderbos.com/pcc/dates/all.rss.xml',\n",
       "   'value': 'Code Challenge 36 - Create an AWS Lambda Function - Review'},\n",
       "  'links': [{'rel': 'alternate',\n",
       "    'type': 'text/html',\n",
       "    'href': 'https://pybit.es/codechallenge36_review.html'}],\n",
       "  'link': 'https://pybit.es/codechallenge36_review.html',\n",
       "  'summary': '<p>In this article we review last week\\'s <a href=\"http://pybit.es/codechallenge36.html\">Create an AWS Lambda Function</a> code challenge.</p>',\n",
       "  'summary_detail': {'type': 'text/html',\n",
       "   'language': None,\n",
       "   'base': 'http://projects.bobbelderbos.com/pcc/dates/all.rss.xml',\n",
       "   'value': '<p>In this article we review last week\\'s <a href=\"http://pybit.es/codechallenge36.html\">Create an AWS Lambda Function</a> code challenge.</p>'},\n",
       "  'authors': [{'name': 'PyBites'}],\n",
       "  'author': 'PyBites',\n",
       "  'author_detail': {'name': 'PyBites'},\n",
       "  'published': 'Tue, 03 Oct 2017 11:00:00 +0200',\n",
       "  'published_parsed': time.struct_time(tm_year=2017, tm_mon=10, tm_mday=3, tm_hour=9, tm_min=0, tm_sec=0, tm_wday=1, tm_yday=276, tm_isdst=0),\n",
       "  'id': 'tag:pybit.es,2017-10-03:/codechallenge36_review.html',\n",
       "  'guidislink': False,\n",
       "  'tags': [{'term': 'codechallenges', 'scheme': None, 'label': None},\n",
       "   {'term': 'AWS', 'scheme': None, 'label': None},\n",
       "   {'term': 'lambda', 'scheme': None, 'label': None},\n",
       "   {'term': 'lambda function', 'scheme': None, 'label': None},\n",
       "   {'term': 'guest', 'scheme': None, 'label': None},\n",
       "   {'term': 'automation', 'scheme': None, 'label': None},\n",
       "   {'term': 'microservices', 'scheme': None, 'label': None}]},\n",
       " {'title': 'Twitter Digest 2017 Week 39',\n",
       "  'title_detail': {'type': 'text/plain',\n",
       "   'language': None,\n",
       "   'base': 'http://projects.bobbelderbos.com/pcc/dates/all.rss.xml',\n",
       "   'value': 'Twitter Digest 2017 Week 39'},\n",
       "  'links': [{'rel': 'alternate',\n",
       "    'type': 'text/html',\n",
       "    'href': 'https://pybit.es/twitter_digest_201739.html'}],\n",
       "  'link': 'https://pybit.es/twitter_digest_201739.html',\n",
       "  'summary': '<p>Every weekend we share a curated list of 15 cool things (mostly Python) that we found / tweeted throughout the week.</p>',\n",
       "  'summary_detail': {'type': 'text/html',\n",
       "   'language': None,\n",
       "   'base': 'http://projects.bobbelderbos.com/pcc/dates/all.rss.xml',\n",
       "   'value': '<p>Every weekend we share a curated list of 15 cool things (mostly Python) that we found / tweeted throughout the week.</p>'},\n",
       "  'authors': [{'name': 'PyBites'}],\n",
       "  'author': 'PyBites',\n",
       "  'author_detail': {'name': 'PyBites'},\n",
       "  'published': 'Sun, 01 Oct 2017 16:56:00 +0200',\n",
       "  'published_parsed': time.struct_time(tm_year=2017, tm_mon=10, tm_mday=1, tm_hour=14, tm_min=56, tm_sec=0, tm_wday=6, tm_yday=274, tm_isdst=0),\n",
       "  'id': 'tag:pybit.es,2017-10-01:/twitter_digest_201739.html',\n",
       "  'guidislink': False,\n",
       "  'tags': [{'term': 'twitter', 'scheme': None, 'label': None},\n",
       "   {'term': 'news', 'scheme': None, 'label': None},\n",
       "   {'term': 'tips', 'scheme': None, 'label': None},\n",
       "   {'term': 'python', 'scheme': None, 'label': None},\n",
       "   {'term': 'data science', 'scheme': None, 'label': None},\n",
       "   {'term': 'PyCharm', 'scheme': None, 'label': None},\n",
       "   {'term': 'REST', 'scheme': None, 'label': None},\n",
       "   {'term': 'os', 'scheme': None, 'label': None},\n",
       "   {'term': 'Deep Learning', 'scheme': None, 'label': None},\n",
       "   {'term': 'AI', 'scheme': None, 'label': None},\n",
       "   {'term': 'Machine Learning', 'scheme': None, 'label': None},\n",
       "   {'term': 'TensorFlow', 'scheme': None, 'label': None},\n",
       "   {'term': 'ntlk', 'scheme': None, 'label': None},\n",
       "   {'term': 'vim', 'scheme': None, 'label': None},\n",
       "   {'term': 'SQLAlchemy', 'scheme': None, 'label': None},\n",
       "   {'term': 'packaging', 'scheme': None, 'label': None},\n",
       "   {'term': 'pipenv', 'scheme': None, 'label': None},\n",
       "   {'term': 'itertools', 'scheme': None, 'label': None},\n",
       "   {'term': 'Django', 'scheme': None, 'label': None},\n",
       "   {'term': 'tutorial', 'scheme': None, 'label': None},\n",
       "   {'term': 'GitHub', 'scheme': None, 'label': None},\n",
       "   {'term': 'Hacktoberfest', 'scheme': None, 'label': None}]},\n",
       " {'title': 'Python Testing With Pytest',\n",
       "  'title_detail': {'type': 'text/plain',\n",
       "   'language': None,\n",
       "   'base': 'http://projects.bobbelderbos.com/pcc/dates/all.rss.xml',\n",
       "   'value': 'Python Testing With Pytest'},\n",
       "  'links': [{'rel': 'alternate',\n",
       "    'type': 'text/html',\n",
       "    'href': 'https://pybit.es/pytest-book.html'}],\n",
       "  'link': 'https://pybit.es/pytest-book.html',\n",
       "  'summary': '<p>Review of <a href=\"https://twitter.com/brianokken\">Brian Okken</a>\\'s new <a href=\"http://www.amazon.com/dp/1680502409/?tag=pyb0f-20\">pytest book</a>.</p>',\n",
       "  'summary_detail': {'type': 'text/html',\n",
       "   'language': None,\n",
       "   'base': 'http://projects.bobbelderbos.com/pcc/dates/all.rss.xml',\n",
       "   'value': '<p>Review of <a href=\"https://twitter.com/brianokken\">Brian Okken</a>\\'s new <a href=\"http://www.amazon.com/dp/1680502409/?tag=pyb0f-20\">pytest book</a>.</p>'},\n",
       "  'authors': [{'name': 'Bob'}],\n",
       "  'author': 'Bob',\n",
       "  'author_detail': {'name': 'Bob'},\n",
       "  'published': 'Mon, 25 Sep 2017 14:53:00 +0200',\n",
       "  'published_parsed': time.struct_time(tm_year=2017, tm_mon=9, tm_mday=25, tm_hour=12, tm_min=53, tm_sec=0, tm_wday=0, tm_yday=268, tm_isdst=0),\n",
       "  'id': 'tag:pybit.es,2017-09-25:/pytest-book.html',\n",
       "  'guidislink': False,\n",
       "  'tags': [{'term': 'pytest', 'scheme': None, 'label': None},\n",
       "   {'term': 'testing', 'scheme': None, 'label': None},\n",
       "   {'term': 'books', 'scheme': None, 'label': None},\n",
       "   {'term': 'tox', 'scheme': None, 'label': None},\n",
       "   {'term': 'Jenkins', 'scheme': None, 'label': None},\n",
       "   {'term': 'fixtures', 'scheme': None, 'label': None},\n",
       "   {'term': 'unittest', 'scheme': None, 'label': None},\n",
       "   {'term': 'q&a', 'scheme': None, 'label': None}]},\n",
       " {'title': 'Code Challenge 37 - Automate a Task With Twilio',\n",
       "  'title_detail': {'type': 'text/plain',\n",
       "   'language': None,\n",
       "   'base': 'http://projects.bobbelderbos.com/pcc/dates/all.rss.xml',\n",
       "   'value': 'Code Challenge 37 - Automate a Task With Twilio'},\n",
       "  'links': [{'rel': 'alternate',\n",
       "    'type': 'text/html',\n",
       "    'href': 'https://pybit.es/codechallenge37.html'}],\n",
       "  'link': 'https://pybit.es/codechallenge37.html',\n",
       "  'summary': '<p>Hi Pythonistas, this week we got a really cool challenge for you. Our <a href=\"https://www.twilio.com/blog/2017/09/never-forget-friends-birthday-python-flask-twilio.html\">Never Forget A Friend’s Birthday with Python, Flask and Twilio article</a> got released on Twilio\\'s blog and we thought it would be awesome to have you code up the next Twilio app. Join our challenge and if you build something serious you could even pitch it to Twilio!</p>',\n",
       "  'summary_detail': {'type': 'text/html',\n",
       "   'language': None,\n",
       "   'base': 'http://projects.bobbelderbos.com/pcc/dates/all.rss.xml',\n",
       "   'value': '<p>Hi Pythonistas, this week we got a really cool challenge for you. Our <a href=\"https://www.twilio.com/blog/2017/09/never-forget-friends-birthday-python-flask-twilio.html\">Never Forget A Friend’s Birthday with Python, Flask and Twilio article</a> got released on Twilio\\'s blog and we thought it would be awesome to have you code up the next Twilio app. Join our challenge and if you build something serious you could even pitch it to Twilio!</p>'},\n",
       "  'authors': [{'name': 'PyBites'}],\n",
       "  'author': 'PyBites',\n",
       "  'author_detail': {'name': 'PyBites'},\n",
       "  'published': 'Mon, 25 Sep 2017 09:00:00 +0200',\n",
       "  'published_parsed': time.struct_time(tm_year=2017, tm_mon=9, tm_mday=25, tm_hour=7, tm_min=0, tm_sec=0, tm_wday=0, tm_yday=268, tm_isdst=0),\n",
       "  'id': 'tag:pybit.es,2017-09-25:/codechallenge37.html',\n",
       "  'guidislink': False,\n",
       "  'tags': [{'term': 'Twilio', 'scheme': None, 'label': None},\n",
       "   {'term': 'API', 'scheme': None, 'label': None},\n",
       "   {'term': 'apis', 'scheme': None, 'label': None},\n",
       "   {'term': 'sms', 'scheme': None, 'label': None},\n",
       "   {'term': 'notifications', 'scheme': None, 'label': None},\n",
       "   {'term': 'birthdays', 'scheme': None, 'label': None},\n",
       "   {'term': 'automation', 'scheme': None, 'label': None}]},\n",
       " {'title': 'Twitter Digest 2017 Week 38',\n",
       "  'title_detail': {'type': 'text/plain',\n",
       "   'language': None,\n",
       "   'base': 'http://projects.bobbelderbos.com/pcc/dates/all.rss.xml',\n",
       "   'value': 'Twitter Digest 2017 Week 38'},\n",
       "  'links': [{'rel': 'alternate',\n",
       "    'type': 'text/html',\n",
       "    'href': 'https://pybit.es/twitter_digest_201738.html'}],\n",
       "  'link': 'https://pybit.es/twitter_digest_201738.html',\n",
       "  'summary': '<p>Every weekend we share a curated list of 15 cool things (mostly Python) that we found / tweeted throughout the week.</p>',\n",
       "  'summary_detail': {'type': 'text/html',\n",
       "   'language': None,\n",
       "   'base': 'http://projects.bobbelderbos.com/pcc/dates/all.rss.xml',\n",
       "   'value': '<p>Every weekend we share a curated list of 15 cool things (mostly Python) that we found / tweeted throughout the week.</p>'},\n",
       "  'authors': [{'name': 'PyBites'}],\n",
       "  'author': 'PyBites',\n",
       "  'author_detail': {'name': 'PyBites'},\n",
       "  'published': 'Sun, 24 Sep 2017 12:34:00 +0200',\n",
       "  'published_parsed': time.struct_time(tm_year=2017, tm_mon=9, tm_mday=24, tm_hour=10, tm_min=34, tm_sec=0, tm_wday=6, tm_yday=267, tm_isdst=0),\n",
       "  'id': 'tag:pybit.es,2017-09-24:/twitter_digest_201738.html',\n",
       "  'guidislink': False,\n",
       "  'tags': [{'term': 'twitter', 'scheme': None, 'label': None},\n",
       "   {'term': 'news', 'scheme': None, 'label': None},\n",
       "   {'term': 'tips', 'scheme': None, 'label': None},\n",
       "   {'term': 'python', 'scheme': None, 'label': None},\n",
       "   {'term': 'Flask', 'scheme': None, 'label': None},\n",
       "   {'term': 'Twilio', 'scheme': None, 'label': None},\n",
       "   {'term': 'videos', 'scheme': None, 'label': None},\n",
       "   {'term': 'learning', 'scheme': None, 'label': None},\n",
       "   {'term': 'cheat sheets', 'scheme': None, 'label': None},\n",
       "   {'term': 'Data Science', 'scheme': None, 'label': None},\n",
       "   {'term': 'tutorials', 'scheme': None, 'label': None},\n",
       "   {'term': 'Git', 'scheme': None, 'label': None},\n",
       "   {'term': 'books', 'scheme': None, 'label': None},\n",
       "   {'term': 'podcast', 'scheme': None, 'label': None},\n",
       "   {'term': 'Machine Learning', 'scheme': None, 'label': None},\n",
       "   {'term': 'security', 'scheme': None, 'label': None},\n",
       "   {'term': 'AWS', 'scheme': None, 'label': None},\n",
       "   {'term': 'logging', 'scheme': None, 'label': None}]},\n",
       " {'title': 'Twitter Digest 2017 Week 37',\n",
       "  'title_detail': {'type': 'text/plain',\n",
       "   'language': None,\n",
       "   'base': 'http://projects.bobbelderbos.com/pcc/dates/all.rss.xml',\n",
       "   'value': 'Twitter Digest 2017 Week 37'},\n",
       "  'links': [{'rel': 'alternate',\n",
       "    'type': 'text/html',\n",
       "    'href': 'https://pybit.es/twitter_digest_201737.html'}],\n",
       "  'link': 'https://pybit.es/twitter_digest_201737.html',\n",
       "  'summary': '<p>Every weekend we share a curated list of 15 cool things (mostly Python) that we found / tweeted throughout the week.</p>',\n",
       "  'summary_detail': {'type': 'text/html',\n",
       "   'language': None,\n",
       "   'base': 'http://projects.bobbelderbos.com/pcc/dates/all.rss.xml',\n",
       "   'value': '<p>Every weekend we share a curated list of 15 cool things (mostly Python) that we found / tweeted throughout the week.</p>'},\n",
       "  'authors': [{'name': 'PyBites'}],\n",
       "  'author': 'PyBites',\n",
       "  'author_detail': {'name': 'PyBites'},\n",
       "  'published': 'Sun, 17 Sep 2017 19:24:00 +0200',\n",
       "  'published_parsed': time.struct_time(tm_year=2017, tm_mon=9, tm_mday=17, tm_hour=17, tm_min=24, tm_sec=0, tm_wday=6, tm_yday=260, tm_isdst=0),\n",
       "  'id': 'tag:pybit.es,2017-09-17:/twitter_digest_201737.html',\n",
       "  'guidislink': False,\n",
       "  'tags': [{'term': 'twitter', 'scheme': None, 'label': None},\n",
       "   {'term': 'news', 'scheme': None, 'label': None},\n",
       "   {'term': 'tips', 'scheme': None, 'label': None},\n",
       "   {'term': 'python', 'scheme': None, 'label': None},\n",
       "   {'term': 'learning', 'scheme': None, 'label': None},\n",
       "   {'term': 'Tensorflow', 'scheme': None, 'label': None},\n",
       "   {'term': 'fstrings', 'scheme': None, 'label': None},\n",
       "   {'term': 'Asynchronous Python', 'scheme': None, 'label': None},\n",
       "   {'term': 'Django', 'scheme': None, 'label': None},\n",
       "   {'term': 'tutorials', 'scheme': None, 'label': None},\n",
       "   {'term': 'Sublime Text', 'scheme': None, 'label': None},\n",
       "   {'term': 'web scraping', 'scheme': None, 'label': None},\n",
       "   {'term': 'regex', 'scheme': None, 'label': None},\n",
       "   {'term': 'Data Visualisation', 'scheme': None, 'label': None},\n",
       "   {'term': 'NetworkX', 'scheme': None, 'label': None}]},\n",
       " {'title': 'How to Learn Python',\n",
       "  'title_detail': {'type': 'text/plain',\n",
       "   'language': None,\n",
       "   'base': 'http://projects.bobbelderbos.com/pcc/dates/all.rss.xml',\n",
       "   'value': 'How to Learn Python'},\n",
       "  'links': [{'rel': 'alternate',\n",
       "    'type': 'text/html',\n",
       "    'href': 'https://pybit.es/special-learning-python.html'}],\n",
       "  'link': 'https://pybit.es/special-learning-python.html',\n",
       "  'summary': '<p>Python is a mature language, easy to learn and <a href=\"https://stackoverflow.blog/2017/09/06/incredible-growth-python/\">here to stay</a>. But where to start? We see a lot of new Pythonistas posting questions like: <em>How to learn Python?</em>, <em>Where do I start?</em>, <em>What approach to take?</em>. We were there once too. Now with 9 months of PyBites and 200 articles under our belt, we share how we learned Python.</p>',\n",
       "  'summary_detail': {'type': 'text/html',\n",
       "   'language': None,\n",
       "   'base': 'http://projects.bobbelderbos.com/pcc/dates/all.rss.xml',\n",
       "   'value': '<p>Python is a mature language, easy to learn and <a href=\"https://stackoverflow.blog/2017/09/06/incredible-growth-python/\">here to stay</a>. But where to start? We see a lot of new Pythonistas posting questions like: <em>How to learn Python?</em>, <em>Where do I start?</em>, <em>What approach to take?</em>. We were there once too. Now with 9 months of PyBites and 200 articles under our belt, we share how we learned Python.</p>'},\n",
       "  'authors': [{'name': 'PyBites'}],\n",
       "  'author': 'PyBites',\n",
       "  'author_detail': {'name': 'PyBites'},\n",
       "  'published': 'Sat, 16 Sep 2017 18:00:00 +0200',\n",
       "  'published_parsed': time.struct_time(tm_year=2017, tm_mon=9, tm_mday=16, tm_hour=16, tm_min=0, tm_sec=0, tm_wday=5, tm_yday=259, tm_isdst=0),\n",
       "  'id': 'tag:pybit.es,2017-09-16:/special-learning-python.html',\n",
       "  'guidislink': False,\n",
       "  'tags': [{'term': 'python', 'scheme': None, 'label': None},\n",
       "   {'term': 'learning', 'scheme': None, 'label': None},\n",
       "   {'term': 'story', 'scheme': None, 'label': None},\n",
       "   {'term': 'books', 'scheme': None, 'label': None},\n",
       "   {'term': 'resources', 'scheme': None, 'label': None},\n",
       "   {'term': 'special', 'scheme': None, 'label': None},\n",
       "   {'term': 'learn-by-doing', 'scheme': None, 'label': None},\n",
       "   {'term': 'inspiration', 'scheme': None, 'label': None},\n",
       "   {'term': 'pybites', 'scheme': None, 'label': None},\n",
       "   {'term': 'blogging', 'scheme': None, 'label': None},\n",
       "   {'term': 'GitHub', 'scheme': None, 'label': None},\n",
       "   {'term': 'Flask', 'scheme': None, 'label': None},\n",
       "   {'term': '100DaysOfCode', 'scheme': None, 'label': None},\n",
       "   {'term': 'automation', 'scheme': None, 'label': None},\n",
       "   {'term': 'career', 'scheme': None, 'label': None},\n",
       "   {'term': 'development', 'scheme': None, 'label': None},\n",
       "   {'term': 'pythonistas', 'scheme': None, 'label': None},\n",
       "   {'term': 'freeCodeCamp', 'scheme': None, 'label': None},\n",
       "   {'term': 'howto', 'scheme': None, 'label': None},\n",
       "   {'term': 'zen', 'scheme': None, 'label': None},\n",
       "   {'term': 'software', 'scheme': None, 'label': None},\n",
       "   {'term': 'code quality', 'scheme': None, 'label': None},\n",
       "   {'term': 'programming', 'scheme': None, 'label': None}]},\n",
       " {'title': 'Code Challenge 36 - Create an AWS Lambda Function',\n",
       "  'title_detail': {'type': 'text/plain',\n",
       "   'language': None,\n",
       "   'base': 'http://projects.bobbelderbos.com/pcc/dates/all.rss.xml',\n",
       "   'value': 'Code Challenge 36 - Create an AWS Lambda Function'},\n",
       "  'links': [{'rel': 'alternate',\n",
       "    'type': 'text/html',\n",
       "    'href': 'https://pybit.es/codechallenge36.html'}],\n",
       "  'link': 'https://pybit.es/codechallenge36.html',\n",
       "  'summary': '<p>Hi Pythonistas, a new week, a new \\'bite\\' of Python coding! We are delighted to have Michael Herman (<a href=\"https://realpython.com\">Real Python</a>) back to deliver this week\\'s challenge. Prepare to learn some useful new skills and above all have fun!</p>',\n",
       "  'summary_detail': {'type': 'text/html',\n",
       "   'language': None,\n",
       "   'base': 'http://projects.bobbelderbos.com/pcc/dates/all.rss.xml',\n",
       "   'value': '<p>Hi Pythonistas, a new week, a new \\'bite\\' of Python coding! We are delighted to have Michael Herman (<a href=\"https://realpython.com\">Real Python</a>) back to deliver this week\\'s challenge. Prepare to learn some useful new skills and above all have fun!</p>'},\n",
       "  'authors': [{'name': 'Michael Herman'}],\n",
       "  'author': 'Michael Herman',\n",
       "  'author_detail': {'name': 'Michael Herman'},\n",
       "  'published': 'Tue, 12 Sep 2017 11:30:00 +0200',\n",
       "  'published_parsed': time.struct_time(tm_year=2017, tm_mon=9, tm_mday=12, tm_hour=9, tm_min=30, tm_sec=0, tm_wday=1, tm_yday=255, tm_isdst=0),\n",
       "  'id': 'tag:pybit.es,2017-09-12:/codechallenge36.html',\n",
       "  'guidislink': False,\n",
       "  'tags': [{'term': 'codechallenges', 'scheme': None, 'label': None},\n",
       "   {'term': 'AWS', 'scheme': None, 'label': None},\n",
       "   {'term': 'lambda', 'scheme': None, 'label': None},\n",
       "   {'term': 'lambda function', 'scheme': None, 'label': None},\n",
       "   {'term': 'guest', 'scheme': None, 'label': None},\n",
       "   {'term': 'automation', 'scheme': None, 'label': None},\n",
       "   {'term': 'microservices', 'scheme': None, 'label': None}]},\n",
       " {'title': 'Module of the Week: Openpyxl - Automate Excel!',\n",
       "  'title_detail': {'type': 'text/plain',\n",
       "   'language': None,\n",
       "   'base': 'http://projects.bobbelderbos.com/pcc/dates/all.rss.xml',\n",
       "   'value': 'Module of the Week: Openpyxl - Automate Excel!'},\n",
       "  'links': [{'rel': 'alternate',\n",
       "    'type': 'text/html',\n",
       "    'href': 'https://pybit.es/python-openpyxl.html'}],\n",
       "  'link': 'https://pybit.es/python-openpyxl.html',\n",
       "  'summary': '<p>You probably remember your first script. I remember the joy of discovering how I could let the machine automate something for me. It still gets me excited everyday. I played a bit with openpyxl yesterday. I used it to hack an Excel game for which I first used a macro. Not particularly useful but a nice exploration of this module.</p>',\n",
       "  'summary_detail': {'type': 'text/html',\n",
       "   'language': None,\n",
       "   'base': 'http://projects.bobbelderbos.com/pcc/dates/all.rss.xml',\n",
       "   'value': '<p>You probably remember your first script. I remember the joy of discovering how I could let the machine automate something for me. It still gets me excited everyday. I played a bit with openpyxl yesterday. I used it to hack an Excel game for which I first used a macro. Not particularly useful but a nice exploration of this module.</p>'},\n",
       "  'authors': [{'name': 'Bob'}],\n",
       "  'author': 'Bob',\n",
       "  'author_detail': {'name': 'Bob'},\n",
       "  'published': 'Tue, 12 Sep 2017 10:50:00 +0200',\n",
       "  'published_parsed': time.struct_time(tm_year=2017, tm_mon=9, tm_mday=12, tm_hour=8, tm_min=50, tm_sec=0, tm_wday=1, tm_yday=255, tm_isdst=0),\n",
       "  'id': 'tag:pybit.es,2017-09-12:/python-openpyxl.html',\n",
       "  'guidislink': False,\n",
       "  'tags': [{'term': 'excel', 'scheme': None, 'label': None},\n",
       "   {'term': 'games', 'scheme': None, 'label': None},\n",
       "   {'term': 'first script', 'scheme': None, 'label': None},\n",
       "   {'term': 'vba', 'scheme': None, 'label': None},\n",
       "   {'term': 'automation', 'scheme': None, 'label': None},\n",
       "   {'term': 'openpyxl', 'scheme': None, 'label': None},\n",
       "   {'term': 'hacking', 'scheme': None, 'label': None},\n",
       "   {'term': 'unix', 'scheme': None, 'label': None}]},\n",
       " {'title': 'Code Challenge 35 - Improve Your Python Code With BetterCodeHub - Review',\n",
       "  'title_detail': {'type': 'text/plain',\n",
       "   'language': None,\n",
       "   'base': 'http://projects.bobbelderbos.com/pcc/dates/all.rss.xml',\n",
       "   'value': 'Code Challenge 35 - Improve Your Python Code With BetterCodeHub - Review'},\n",
       "  'links': [{'rel': 'alternate',\n",
       "    'type': 'text/html',\n",
       "    'href': 'https://pybit.es/codechallenge35_review.html'}],\n",
       "  'link': 'https://pybit.es/codechallenge35_review.html',\n",
       "  'summary': '<p>In this article we review last week\\'s <a href=\"http://pybit.es/codechallenge35.html\">Improve Your Python Code With BetterCodeHub</a> code challenge.</p>',\n",
       "  'summary_detail': {'type': 'text/html',\n",
       "   'language': None,\n",
       "   'base': 'http://projects.bobbelderbos.com/pcc/dates/all.rss.xml',\n",
       "   'value': '<p>In this article we review last week\\'s <a href=\"http://pybit.es/codechallenge35.html\">Improve Your Python Code With BetterCodeHub</a> code challenge.</p>'},\n",
       "  'authors': [{'name': 'PyBites'}],\n",
       "  'author': 'PyBites',\n",
       "  'author_detail': {'name': 'PyBites'},\n",
       "  'published': 'Mon, 11 Sep 2017 14:00:00 +0200',\n",
       "  'published_parsed': time.struct_time(tm_year=2017, tm_mon=9, tm_mday=11, tm_hour=12, tm_min=0, tm_sec=0, tm_wday=0, tm_yday=254, tm_isdst=0),\n",
       "  'id': 'tag:pybit.es,2017-09-11:/codechallenge35_review.html',\n",
       "  'guidislink': False,\n",
       "  'tags': [{'term': 'bettercodehub', 'scheme': None, 'label': None},\n",
       "   {'term': 'SIG', 'scheme': None, 'label': None},\n",
       "   {'term': 'refactoring', 'scheme': None, 'label': None},\n",
       "   {'term': 'code quality', 'scheme': None, 'label': None},\n",
       "   {'term': 'clean code', 'scheme': None, 'label': None},\n",
       "   {'term': 'software development', 'scheme': None, 'label': None},\n",
       "   {'term': 'tools', 'scheme': None, 'label': None},\n",
       "   {'term': 'platform', 'scheme': None, 'label': None}]},\n",
       " {'title': 'Twitter Digest 2017 Week 36',\n",
       "  'title_detail': {'type': 'text/plain',\n",
       "   'language': None,\n",
       "   'base': 'http://projects.bobbelderbos.com/pcc/dates/all.rss.xml',\n",
       "   'value': 'Twitter Digest 2017 Week 36'},\n",
       "  'links': [{'rel': 'alternate',\n",
       "    'type': 'text/html',\n",
       "    'href': 'https://pybit.es/twitter_digest_201736.html'}],\n",
       "  'link': 'https://pybit.es/twitter_digest_201736.html',\n",
       "  'summary': '<p>Every weekend we share a curated list of 15 cool things (mostly Python) that we found / tweeted throughout the week.</p>',\n",
       "  'summary_detail': {'type': 'text/html',\n",
       "   'language': None,\n",
       "   'base': 'http://projects.bobbelderbos.com/pcc/dates/all.rss.xml',\n",
       "   'value': '<p>Every weekend we share a curated list of 15 cool things (mostly Python) that we found / tweeted throughout the week.</p>'},\n",
       "  'authors': [{'name': 'PyBites'}],\n",
       "  'author': 'PyBites',\n",
       "  'author_detail': {'name': 'PyBites'},\n",
       "  'published': 'Sun, 10 Sep 2017 12:42:00 +0200',\n",
       "  'published_parsed': time.struct_time(tm_year=2017, tm_mon=9, tm_mday=10, tm_hour=10, tm_min=42, tm_sec=0, tm_wday=6, tm_yday=253, tm_isdst=0),\n",
       "  'id': 'tag:pybit.es,2017-09-10:/twitter_digest_201736.html',\n",
       "  'guidislink': False,\n",
       "  'tags': [{'term': 'twitter', 'scheme': None, 'label': None},\n",
       "   {'term': 'news', 'scheme': None, 'label': None},\n",
       "   {'term': 'tips', 'scheme': None, 'label': None},\n",
       "   {'term': 'python', 'scheme': None, 'label': None},\n",
       "   {'term': 'Machine Learning', 'scheme': None, 'label': None},\n",
       "   {'term': 'Data Visualisation', 'scheme': None, 'label': None},\n",
       "   {'term': 'Git', 'scheme': None, 'label': None},\n",
       "   {'term': 'Data Science', 'scheme': None, 'label': None},\n",
       "   {'term': 'Books', 'scheme': None, 'label': None},\n",
       "   {'term': 'Bots', 'scheme': None, 'label': None},\n",
       "   {'term': 'Jupyter', 'scheme': None, 'label': None},\n",
       "   {'term': 'Flask', 'scheme': None, 'label': None},\n",
       "   {'term': 'REST', 'scheme': None, 'label': None},\n",
       "   {'term': 'CLI', 'scheme': None, 'label': None},\n",
       "   {'term': 'Pandas', 'scheme': None, 'label': None},\n",
       "   {'term': 'Slack', 'scheme': None, 'label': None},\n",
       "   {'term': 'Django', 'scheme': None, 'label': None},\n",
       "   {'term': 'pinclone', 'scheme': None, 'label': None},\n",
       "   {'term': 'Pipenv', 'scheme': None, 'label': None}]},\n",
       " {'title': 'Code Challenge 34 - Build a Simple API With Django REST Framework - Review',\n",
       "  'title_detail': {'type': 'text/plain',\n",
       "   'language': None,\n",
       "   'base': 'http://projects.bobbelderbos.com/pcc/dates/all.rss.xml',\n",
       "   'value': 'Code Challenge 34 - Build a Simple API With Django REST Framework - Review'},\n",
       "  'links': [{'rel': 'alternate',\n",
       "    'type': 'text/html',\n",
       "    'href': 'https://pybit.es/codechallenge34_review.html'}],\n",
       "  'link': 'https://pybit.es/codechallenge34_review.html',\n",
       "  'summary': '<p>In this article we review last week\\'s <a href=\"http://pybit.es/codechallenge34.html\">Build a Simple API With Django REST Framework</a> code challenge.</p>',\n",
       "  'summary_detail': {'type': 'text/html',\n",
       "   'language': None,\n",
       "   'base': 'http://projects.bobbelderbos.com/pcc/dates/all.rss.xml',\n",
       "   'value': '<p>In this article we review last week\\'s <a href=\"http://pybit.es/codechallenge34.html\">Build a Simple API With Django REST Framework</a> code challenge.</p>'},\n",
       "  'authors': [{'name': 'PyBites'}],\n",
       "  'author': 'PyBites',\n",
       "  'author_detail': {'name': 'PyBites'},\n",
       "  'published': 'Fri, 08 Sep 2017 16:30:00 +0200',\n",
       "  'published_parsed': time.struct_time(tm_year=2017, tm_mon=9, tm_mday=8, tm_hour=14, tm_min=30, tm_sec=0, tm_wday=4, tm_yday=251, tm_isdst=0),\n",
       "  'id': 'tag:pybit.es,2017-09-08:/codechallenge34_review.html',\n",
       "  'guidislink': False,\n",
       "  'tags': [{'term': 'codechallenges', 'scheme': None, 'label': None},\n",
       "   {'term': 'Django', 'scheme': None, 'label': None},\n",
       "   {'term': '100DaysOfDjango', 'scheme': None, 'label': None},\n",
       "   {'term': 'APIs', 'scheme': None, 'label': None},\n",
       "   {'term': 'Django REST Framework', 'scheme': None, 'label': None},\n",
       "   {'term': 'DRF', 'scheme': None, 'label': None},\n",
       "   {'term': 'codetips', 'scheme': None, 'label': None},\n",
       "   {'term': 'pytip', 'scheme': None, 'label': None}]},\n",
       " {'title': 'Hiding BCC Recipients in Python MIME Emails',\n",
       "  'title_detail': {'type': 'text/plain',\n",
       "   'language': None,\n",
       "   'base': 'http://projects.bobbelderbos.com/pcc/dates/all.rss.xml',\n",
       "   'value': 'Hiding BCC Recipients in Python MIME Emails'},\n",
       "  'links': [{'rel': 'alternate',\n",
       "    'type': 'text/html',\n",
       "    'href': 'https://pybit.es/python-MIME-bcc.html'}],\n",
       "  'link': 'https://pybit.es/python-MIME-bcc.html',\n",
       "  'summary': '<p>How to actually hide the BCC recipients when sending an email with Python MIME.</p>',\n",
       "  'summary_detail': {'type': 'text/html',\n",
       "   'language': None,\n",
       "   'base': 'http://projects.bobbelderbos.com/pcc/dates/all.rss.xml',\n",
       "   'value': '<p>How to actually hide the BCC recipients when sending an email with Python MIME.</p>'},\n",
       "  'authors': [{'name': 'Julian'}],\n",
       "  'author': 'Julian',\n",
       "  'author_detail': {'name': 'Julian'},\n",
       "  'published': 'Wed, 06 Sep 2017 18:53:00 +0200',\n",
       "  'published_parsed': time.struct_time(tm_year=2017, tm_mon=9, tm_mday=6, tm_hour=16, tm_min=53, tm_sec=0, tm_wday=2, tm_yday=249, tm_isdst=0),\n",
       "  'id': 'tag:pybit.es,2017-09-06:/python-MIME-bcc.html',\n",
       "  'guidislink': False,\n",
       "  'tags': [{'term': 'python', 'scheme': None, 'label': None},\n",
       "   {'term': 'tips', 'scheme': None, 'label': None},\n",
       "   {'term': 'tricks', 'scheme': None, 'label': None},\n",
       "   {'term': 'code', 'scheme': None, 'label': None},\n",
       "   {'term': 'pybites', 'scheme': None, 'label': None},\n",
       "   {'term': 'email', 'scheme': None, 'label': None},\n",
       "   {'term': 'automation', 'scheme': None, 'label': None},\n",
       "   {'term': 'MIME', 'scheme': None, 'label': None},\n",
       "   {'term': 'bcc', 'scheme': None, 'label': None}]},\n",
       " {'title': 'Code Challenge 35 - Improve Your Python Code With BetterCodeHub',\n",
       "  'title_detail': {'type': 'text/plain',\n",
       "   'language': None,\n",
       "   'base': 'http://projects.bobbelderbos.com/pcc/dates/all.rss.xml',\n",
       "   'value': 'Code Challenge 35 - Improve Your Python Code With BetterCodeHub'},\n",
       "  'links': [{'rel': 'alternate',\n",
       "    'type': 'text/html',\n",
       "    'href': 'https://pybit.es/codechallenge35.html'}],\n",
       "  'link': 'https://pybit.es/codechallenge35.html',\n",
       "  'summary': '<p>Hi Pythonistas, a new week, a new \\'bite\\' of Python programming! Last week we wrote an article on <a href=\"https://pybit.es/bettercodehub.html\">improving the quality of your code with Better Code Hub</a>. This week we let you refactor a Python project.  You can even win awards thanks to <a href=\"https://www.sig.eu\">SIG</a> who is sponsoring this challenge!</p>',\n",
       "  'summary_detail': {'type': 'text/html',\n",
       "   'language': None,\n",
       "   'base': 'http://projects.bobbelderbos.com/pcc/dates/all.rss.xml',\n",
       "   'value': '<p>Hi Pythonistas, a new week, a new \\'bite\\' of Python programming! Last week we wrote an article on <a href=\"https://pybit.es/bettercodehub.html\">improving the quality of your code with Better Code Hub</a>. This week we let you refactor a Python project.  You can even win awards thanks to <a href=\"https://www.sig.eu\">SIG</a> who is sponsoring this challenge!</p>'},\n",
       "  'authors': [{'name': 'PyBites'}],\n",
       "  'author': 'PyBites',\n",
       "  'author_detail': {'name': 'PyBites'},\n",
       "  'published': 'Tue, 05 Sep 2017 09:15:00 +0200',\n",
       "  'published_parsed': time.struct_time(tm_year=2017, tm_mon=9, tm_mday=5, tm_hour=7, tm_min=15, tm_sec=0, tm_wday=1, tm_yday=248, tm_isdst=0),\n",
       "  'id': 'tag:pybit.es,2017-09-05:/codechallenge35.html',\n",
       "  'guidislink': False,\n",
       "  'tags': [{'term': 'bettercodehub', 'scheme': None, 'label': None},\n",
       "   {'term': 'SIG', 'scheme': None, 'label': None},\n",
       "   {'term': 'refactoring', 'scheme': None, 'label': None},\n",
       "   {'term': 'code quality', 'scheme': None, 'label': None},\n",
       "   {'term': 'clean code', 'scheme': None, 'label': None},\n",
       "   {'term': 'software development', 'scheme': None, 'label': None},\n",
       "   {'term': 'tools', 'scheme': None, 'label': None},\n",
       "   {'term': 'platform', 'scheme': None, 'label': None}]},\n",
       " {'title': 'Twitter digest 2017 week 35',\n",
       "  'title_detail': {'type': 'text/plain',\n",
       "   'language': None,\n",
       "   'base': 'http://projects.bobbelderbos.com/pcc/dates/all.rss.xml',\n",
       "   'value': 'Twitter digest 2017 week 35'},\n",
       "  'links': [{'rel': 'alternate',\n",
       "    'type': 'text/html',\n",
       "    'href': 'https://pybit.es/twitter_digest_201735.html'}],\n",
       "  'link': 'https://pybit.es/twitter_digest_201735.html',\n",
       "  'summary': '<p>Every weekend we share a curated list of 15 cool things (mostly Python) that we found / tweeted throughout the week.</p>',\n",
       "  'summary_detail': {'type': 'text/html',\n",
       "   'language': None,\n",
       "   'base': 'http://projects.bobbelderbos.com/pcc/dates/all.rss.xml',\n",
       "   'value': '<p>Every weekend we share a curated list of 15 cool things (mostly Python) that we found / tweeted throughout the week.</p>'},\n",
       "  'authors': [{'name': 'PyBites'}],\n",
       "  'author': 'PyBites',\n",
       "  'author_detail': {'name': 'PyBites'},\n",
       "  'published': 'Sun, 03 Sep 2017 19:36:00 +0200',\n",
       "  'published_parsed': time.struct_time(tm_year=2017, tm_mon=9, tm_mday=3, tm_hour=17, tm_min=36, tm_sec=0, tm_wday=6, tm_yday=246, tm_isdst=0),\n",
       "  'id': 'tag:pybit.es,2017-09-03:/twitter_digest_201735.html',\n",
       "  'guidislink': False,\n",
       "  'tags': [{'term': 'twitter', 'scheme': None, 'label': None},\n",
       "   {'term': 'news', 'scheme': None, 'label': None},\n",
       "   {'term': 'tips', 'scheme': None, 'label': None},\n",
       "   {'term': 'python', 'scheme': None, 'label': None},\n",
       "   {'term': 'Celery', 'scheme': None, 'label': None},\n",
       "   {'term': 'RabbitMQ', 'scheme': None, 'label': None},\n",
       "   {'term': 'tutorial', 'scheme': None, 'label': None},\n",
       "   {'term': 'Ubuntu', 'scheme': None, 'label': None},\n",
       "   {'term': 'snap', 'scheme': None, 'label': None},\n",
       "   {'term': 'GitHub', 'scheme': None, 'label': None},\n",
       "   {'term': 'API', 'scheme': None, 'label': None},\n",
       "   {'term': 'Django', 'scheme': None, 'label': None},\n",
       "   {'term': 'REST', 'scheme': None, 'label': None},\n",
       "   {'term': 'Pipenv', 'scheme': None, 'label': None},\n",
       "   {'term': 'Docker', 'scheme': None, 'label': None},\n",
       "   {'term': 'Swarm', 'scheme': None, 'label': None},\n",
       "   {'term': 'Kubernetes', 'scheme': None, 'label': None},\n",
       "   {'term': 'Nomad', 'scheme': None, 'label': None},\n",
       "   {'term': 'data science', 'scheme': None, 'label': None},\n",
       "   {'term': 'PyFiddle', 'scheme': None, 'label': None},\n",
       "   {'term': 'IDE', 'scheme': None, 'label': None},\n",
       "   {'term': 'courses', 'scheme': None, 'label': None},\n",
       "   {'term': 'concurrency', 'scheme': None, 'label': None},\n",
       "   {'term': 'wtfPython', 'scheme': None, 'label': None},\n",
       "   {'term': 'examples', 'scheme': None, 'label': None}]},\n",
       " {'title': 'Improve the Quality of Your Code with Better Code Hub',\n",
       "  'title_detail': {'type': 'text/plain',\n",
       "   'language': None,\n",
       "   'base': 'http://projects.bobbelderbos.com/pcc/dates/all.rss.xml',\n",
       "   'value': 'Improve the Quality of Your Code with Better Code Hub'},\n",
       "  'links': [{'rel': 'alternate',\n",
       "    'type': 'text/html',\n",
       "    'href': 'https://pybit.es/bettercodehub.html'}],\n",
       "  'link': 'https://pybit.es/bettercodehub.html',\n",
       "  'summary': '<p>So you pushed your code to GitHub and deployed v1, congrats! But how maintainable is your code really? Do you have tests? Is your code modular? Are your methods short and concise? What if you could hit a button and a tool conveniently checks this for you? Free and integrated with GitHub? Enter <a href=\"https://bettercodehub.com\">Better Code Hub</a> from <a href=\"https://www.sig.eu/\">Software Improvement Group</a> ...</p>',\n",
       "  'summary_detail': {'type': 'text/html',\n",
       "   'language': None,\n",
       "   'base': 'http://projects.bobbelderbos.com/pcc/dates/all.rss.xml',\n",
       "   'value': '<p>So you pushed your code to GitHub and deployed v1, congrats! But how maintainable is your code really? Do you have tests? Is your code modular? Are your methods short and concise? What if you could hit a button and a tool conveniently checks this for you? Free and integrated with GitHub? Enter <a href=\"https://bettercodehub.com\">Better Code Hub</a> from <a href=\"https://www.sig.eu/\">Software Improvement Group</a> ...</p>'},\n",
       "  'authors': [{'name': 'Bob'}],\n",
       "  'author': 'Bob',\n",
       "  'author_detail': {'name': 'Bob'},\n",
       "  'published': 'Wed, 30 Aug 2017 18:30:00 +0200',\n",
       "  'published_parsed': time.struct_time(tm_year=2017, tm_mon=8, tm_mday=30, tm_hour=16, tm_min=30, tm_sec=0, tm_wday=2, tm_yday=242, tm_isdst=0),\n",
       "  'id': 'tag:pybit.es,2017-08-30:/bettercodehub.html',\n",
       "  'guidislink': False,\n",
       "  'tags': [{'term': 'bettercodehub', 'scheme': None, 'label': None},\n",
       "   {'term': 'SIG', 'scheme': None, 'label': None},\n",
       "   {'term': 'refactoring', 'scheme': None, 'label': None},\n",
       "   {'term': 'code quality', 'scheme': None, 'label': None},\n",
       "   {'term': 'clean code', 'scheme': None, 'label': None},\n",
       "   {'term': 'software development', 'scheme': None, 'label': None},\n",
       "   {'term': 'tools', 'scheme': None, 'label': None},\n",
       "   {'term': 'platform', 'scheme': None, 'label': None}]},\n",
       " {'title': 'Code Challenge 34 - Build a Simple API With Django REST Framework',\n",
       "  'title_detail': {'type': 'text/plain',\n",
       "   'language': None,\n",
       "   'base': 'http://projects.bobbelderbos.com/pcc/dates/all.rss.xml',\n",
       "   'value': 'Code Challenge 34 - Build a Simple API With Django REST Framework'},\n",
       "  'links': [{'rel': 'alternate',\n",
       "    'type': 'text/html',\n",
       "    'href': 'https://pybit.es/codechallenge34.html'}],\n",
       "  'link': 'https://pybit.es/codechallenge34.html',\n",
       "  'summary': '<p>Hi Pythonistas, a new week, a new \\'bite\\' of Python programming! We love Django (#100DaysOfDjango) and Web APIs. <a href=\"http://www.django-rest-framework.org/\">Django REST framework</a> combines the two. \"Now is better than never.\" - let\\'s jump right in and let\\'s use this week\\'s code challenge to build a simple API. In this article some ideas what we can build and links to resources to get started. Have fun and don\\'t forget to share (PR) your work, we can learn a lot from each other. Enjoy!</p>',\n",
       "  'summary_detail': {'type': 'text/html',\n",
       "   'language': None,\n",
       "   'base': 'http://projects.bobbelderbos.com/pcc/dates/all.rss.xml',\n",
       "   'value': '<p>Hi Pythonistas, a new week, a new \\'bite\\' of Python programming! We love Django (#100DaysOfDjango) and Web APIs. <a href=\"http://www.django-rest-framework.org/\">Django REST framework</a> combines the two. \"Now is better than never.\" - let\\'s jump right in and let\\'s use this week\\'s code challenge to build a simple API. In this article some ideas what we can build and links to resources to get started. Have fun and don\\'t forget to share (PR) your work, we can learn a lot from each other. Enjoy!</p>'},\n",
       "  'authors': [{'name': 'PyBites'}],\n",
       "  'author': 'PyBites',\n",
       "  'author_detail': {'name': 'PyBites'},\n",
       "  'published': 'Tue, 29 Aug 2017 14:45:00 +0200',\n",
       "  'published_parsed': time.struct_time(tm_year=2017, tm_mon=8, tm_mday=29, tm_hour=12, tm_min=45, tm_sec=0, tm_wday=1, tm_yday=241, tm_isdst=0),\n",
       "  'id': 'tag:pybit.es,2017-08-29:/codechallenge34.html',\n",
       "  'guidislink': False,\n",
       "  'tags': [{'term': 'codechallenges', 'scheme': None, 'label': None},\n",
       "   {'term': 'Django', 'scheme': None, 'label': None},\n",
       "   {'term': '100DaysOfDjango', 'scheme': None, 'label': None},\n",
       "   {'term': 'APIs', 'scheme': None, 'label': None},\n",
       "   {'term': 'Django REST Framework', 'scheme': None, 'label': None},\n",
       "   {'term': 'DRF', 'scheme': None, 'label': None},\n",
       "   {'term': 'deepwork', 'scheme': None, 'label': None}]},\n",
       " {'title': 'Code Challenge 33 - Build a Django Tracker, Weather or Review App - Review',\n",
       "  'title_detail': {'type': 'text/plain',\n",
       "   'language': None,\n",
       "   'base': 'http://projects.bobbelderbos.com/pcc/dates/all.rss.xml',\n",
       "   'value': 'Code Challenge 33 - Build a Django Tracker, Weather or Review App - Review'},\n",
       "  'links': [{'rel': 'alternate',\n",
       "    'type': 'text/html',\n",
       "    'href': 'https://pybit.es/codechallenge33_review.html'}],\n",
       "  'link': 'https://pybit.es/codechallenge33_review.html',\n",
       "  'summary': '<p>In this article we review last week\\'s <a href=\"http://pybit.es/codechallenge33.html\">Build a Django Tracker, Weather or Review App</a> code challenge.</p>',\n",
       "  'summary_detail': {'type': 'text/html',\n",
       "   'language': None,\n",
       "   'base': 'http://projects.bobbelderbos.com/pcc/dates/all.rss.xml',\n",
       "   'value': '<p>In this article we review last week\\'s <a href=\"http://pybit.es/codechallenge33.html\">Build a Django Tracker, Weather or Review App</a> code challenge.</p>'},\n",
       "  'authors': [{'name': 'PyBites'}],\n",
       "  'author': 'PyBites',\n",
       "  'author_detail': {'name': 'PyBites'},\n",
       "  'published': 'Mon, 28 Aug 2017 10:23:00 +0200',\n",
       "  'published_parsed': time.struct_time(tm_year=2017, tm_mon=8, tm_mday=28, tm_hour=8, tm_min=23, tm_sec=0, tm_wday=0, tm_yday=240, tm_isdst=0),\n",
       "  'id': 'tag:pybit.es,2017-08-28:/codechallenge33_review.html',\n",
       "  'guidislink': False,\n",
       "  'tags': [{'term': 'codechallenges', 'scheme': None, 'label': None},\n",
       "   {'term': 'Django', 'scheme': None, 'label': None},\n",
       "   {'term': '100DaysOfDjango', 'scheme': None, 'label': None},\n",
       "   {'term': 'projects', 'scheme': None, 'label': None},\n",
       "   {'term': '100DaysOfCode', 'scheme': None, 'label': None},\n",
       "   {'term': 'Heroku', 'scheme': None, 'label': None},\n",
       "   {'term': 'books', 'scheme': None, 'label': None},\n",
       "   {'term': 'pbreadinglist', 'scheme': None, 'label': None},\n",
       "   {'term': 'bootstrap', 'scheme': None, 'label': None},\n",
       "   {'term': 'autocomplete', 'scheme': None, 'label': None}]},\n",
       " {'title': 'Twitter digest 2017 week 34',\n",
       "  'title_detail': {'type': 'text/plain',\n",
       "   'language': None,\n",
       "   'base': 'http://projects.bobbelderbos.com/pcc/dates/all.rss.xml',\n",
       "   'value': 'Twitter digest 2017 week 34'},\n",
       "  'links': [{'rel': 'alternate',\n",
       "    'type': 'text/html',\n",
       "    'href': 'https://pybit.es/twitter_digest_201734.html'}],\n",
       "  'link': 'https://pybit.es/twitter_digest_201734.html',\n",
       "  'summary': '<p>Every weekend we share a curated list of 15 cool things (mostly Python) that we found / tweeted throughout the week.</p>',\n",
       "  'summary_detail': {'type': 'text/html',\n",
       "   'language': None,\n",
       "   'base': 'http://projects.bobbelderbos.com/pcc/dates/all.rss.xml',\n",
       "   'value': '<p>Every weekend we share a curated list of 15 cool things (mostly Python) that we found / tweeted throughout the week.</p>'},\n",
       "  'authors': [{'name': 'PyBites'}],\n",
       "  'author': 'PyBites',\n",
       "  'author_detail': {'name': 'PyBites'},\n",
       "  'published': 'Sun, 27 Aug 2017 20:34:00 +0200',\n",
       "  'published_parsed': time.struct_time(tm_year=2017, tm_mon=8, tm_mday=27, tm_hour=18, tm_min=34, tm_sec=0, tm_wday=6, tm_yday=239, tm_isdst=0),\n",
       "  'id': 'tag:pybit.es,2017-08-27:/twitter_digest_201734.html',\n",
       "  'guidislink': False,\n",
       "  'tags': [{'term': 'twitter', 'scheme': None, 'label': None},\n",
       "   {'term': 'news', 'scheme': None, 'label': None},\n",
       "   {'term': 'tips', 'scheme': None, 'label': None},\n",
       "   {'term': 'python', 'scheme': None, 'label': None},\n",
       "   {'term': 'pybites', 'scheme': None, 'label': None},\n",
       "   {'term': 'APIs', 'scheme': None, 'label': None},\n",
       "   {'term': 'regex', 'scheme': None, 'label': None},\n",
       "   {'term': 'Jupyter', 'scheme': None, 'label': None},\n",
       "   {'term': 'OpenCV', 'scheme': None, 'label': None},\n",
       "   {'term': 'Pillow', 'scheme': None, 'label': None},\n",
       "   {'term': 'SunPy', 'scheme': None, 'label': None},\n",
       "   {'term': 'collections', 'scheme': None, 'label': None},\n",
       "   {'term': 'open source', 'scheme': None, 'label': None},\n",
       "   {'term': 'training', 'scheme': None, 'label': None},\n",
       "   {'term': 'learning', 'scheme': None, 'label': None},\n",
       "   {'term': 'CSV', 'scheme': None, 'label': None},\n",
       "   {'term': 'Data Analysis', 'scheme': None, 'label': None},\n",
       "   {'term': 'Python', 'scheme': None, 'label': None},\n",
       "   {'term': 'Podcast', 'scheme': None, 'label': None},\n",
       "   {'term': 'Spacing', 'scheme': None, 'label': None}]},\n",
       " {'title': 'Code Challenge 33 - Build a Django Tracker, Weather or Review App',\n",
       "  'title_detail': {'type': 'text/plain',\n",
       "   'language': None,\n",
       "   'base': 'http://projects.bobbelderbos.com/pcc/dates/all.rss.xml',\n",
       "   'value': 'Code Challenge 33 - Build a Django Tracker, Weather or Review App'},\n",
       "  'links': [{'rel': 'alternate',\n",
       "    'type': 'text/html',\n",
       "    'href': 'https://pybit.es/codechallenge33.html'}],\n",
       "  'link': 'https://pybit.es/codechallenge33.html',\n",
       "  'summary': '<p>Hi Pythonistas, a new week, a new \\'bite\\' of Python programming. To keep it <a href=\"https://pybit.es/tag/100daysofdjango.html\">#100DaysOfDjango</a>, this week we let you get some more practice with this awesome web framework. Last time we had an open Django challenge, for this one we have you choose between 3 specific apps.</p>',\n",
       "  'summary_detail': {'type': 'text/html',\n",
       "   'language': None,\n",
       "   'base': 'http://projects.bobbelderbos.com/pcc/dates/all.rss.xml',\n",
       "   'value': '<p>Hi Pythonistas, a new week, a new \\'bite\\' of Python programming. To keep it <a href=\"https://pybit.es/tag/100daysofdjango.html\">#100DaysOfDjango</a>, this week we let you get some more practice with this awesome web framework. Last time we had an open Django challenge, for this one we have you choose between 3 specific apps.</p>'},\n",
       "  'authors': [{'name': 'PyBites'}],\n",
       "  'author': 'PyBites',\n",
       "  'author_detail': {'name': 'PyBites'},\n",
       "  'published': 'Tue, 22 Aug 2017 13:00:00 +0200',\n",
       "  'published_parsed': time.struct_time(tm_year=2017, tm_mon=8, tm_mday=22, tm_hour=11, tm_min=0, tm_sec=0, tm_wday=1, tm_yday=234, tm_isdst=0),\n",
       "  'id': 'tag:pybit.es,2017-08-22:/codechallenge33.html',\n",
       "  'guidislink': False,\n",
       "  'tags': [{'term': 'codechallenges', 'scheme': None, 'label': None},\n",
       "   {'term': 'Django', 'scheme': None, 'label': None},\n",
       "   {'term': '100DaysOfDjango', 'scheme': None, 'label': None},\n",
       "   {'term': 'tracker', 'scheme': None, 'label': None},\n",
       "   {'term': 'review', 'scheme': None, 'label': None},\n",
       "   {'term': 'weather', 'scheme': None, 'label': None},\n",
       "   {'term': 'apps', 'scheme': None, 'label': None},\n",
       "   {'term': 'projects', 'scheme': None, 'label': None},\n",
       "   {'term': '100DaysOfCode', 'scheme': None, 'label': None},\n",
       "   {'term': 'Heroku', 'scheme': None, 'label': None}]},\n",
       " {'title': 'Code Challenge 32 - Test a Simple Django App With Selenium - Review',\n",
       "  'title_detail': {'type': 'text/plain',\n",
       "   'language': None,\n",
       "   'base': 'http://projects.bobbelderbos.com/pcc/dates/all.rss.xml',\n",
       "   'value': 'Code Challenge 32 - Test a Simple Django App With Selenium - Review'},\n",
       "  'links': [{'rel': 'alternate',\n",
       "    'type': 'text/html',\n",
       "    'href': 'https://pybit.es/codechallenge32_review.html'}],\n",
       "  'link': 'https://pybit.es/codechallenge32_review.html',\n",
       "  'summary': '<p>In this article we review last week\\'s <a href=\"http://pybit.es/codechallenge32.html\">Test a Simple Django App With Selenium</a> code challenge.</p>',\n",
       "  'summary_detail': {'type': 'text/html',\n",
       "   'language': None,\n",
       "   'base': 'http://projects.bobbelderbos.com/pcc/dates/all.rss.xml',\n",
       "   'value': '<p>In this article we review last week\\'s <a href=\"http://pybit.es/codechallenge32.html\">Test a Simple Django App With Selenium</a> code challenge.</p>'},\n",
       "  'authors': [{'name': 'PyBites'}],\n",
       "  'author': 'PyBites',\n",
       "  'author_detail': {'name': 'PyBites'},\n",
       "  'published': 'Mon, 21 Aug 2017 12:30:00 +0200',\n",
       "  'published_parsed': time.struct_time(tm_year=2017, tm_mon=8, tm_mday=21, tm_hour=10, tm_min=30, tm_sec=0, tm_wday=0, tm_yday=233, tm_isdst=0),\n",
       "  'id': 'tag:pybit.es,2017-08-21:/codechallenge32_review.html',\n",
       "  'guidislink': False,\n",
       "  'tags': [{'term': 'codechallenges', 'scheme': None, 'label': None},\n",
       "   {'term': 'Django', 'scheme': None, 'label': None},\n",
       "   {'term': '100DaysOfDjango', 'scheme': None, 'label': None},\n",
       "   {'term': 'Selenium', 'scheme': None, 'label': None},\n",
       "   {'term': 'Testing', 'scheme': None, 'label': None}]},\n",
       " {'title': 'Fully Automate Login and Banner Generation with Selenium, Requests and Click',\n",
       "  'title_detail': {'type': 'text/plain',\n",
       "   'language': None,\n",
       "   'base': 'http://projects.bobbelderbos.com/pcc/dates/all.rss.xml',\n",
       "   'value': 'Fully Automate Login and Banner Generation with Selenium, Requests and Click'},\n",
       "  'links': [{'rel': 'alternate',\n",
       "    'type': 'text/html',\n",
       "    'href': 'https://pybit.es/selenium-requests-automation.html'}],\n",
       "  'link': 'https://pybit.es/selenium-requests-automation.html',\n",
       "  'summary': '<p>In part 3 of the <em>PyBites Banner Generator</em> article series I show you how to automatically generate a banner with <a href=\"http://docs.python-requests.org/en/master/\">Requests</a> and <a href=\"http://selenium-python.readthedocs.io/index.html\">Selenium</a>.</p>',\n",
       "  'summary_detail': {'type': 'text/html',\n",
       "   'language': None,\n",
       "   'base': 'http://projects.bobbelderbos.com/pcc/dates/all.rss.xml',\n",
       "   'value': '<p>In part 3 of the <em>PyBites Banner Generator</em> article series I show you how to automatically generate a banner with <a href=\"http://docs.python-requests.org/en/master/\">Requests</a> and <a href=\"http://selenium-python.readthedocs.io/index.html\">Selenium</a>.</p>'},\n",
       "  'authors': [{'name': 'Bob'}],\n",
       "  'author': 'Bob',\n",
       "  'author_detail': {'name': 'Bob'},\n",
       "  'published': 'Sun, 20 Aug 2017 17:00:00 +0200',\n",
       "  'published_parsed': time.struct_time(tm_year=2017, tm_mon=8, tm_mday=20, tm_hour=15, tm_min=0, tm_sec=0, tm_wday=6, tm_yday=232, tm_isdst=0),\n",
       "  'id': 'tag:pybit.es,2017-08-20:/selenium-requests-automation.html',\n",
       "  'guidislink': False,\n",
       "  'tags': [{'term': 'Selenium', 'scheme': None, 'label': None},\n",
       "   {'term': 'Requests', 'scheme': None, 'label': None},\n",
       "   {'term': 'selenium-requests', 'scheme': None, 'label': None},\n",
       "   {'term': 'Click', 'scheme': None, 'label': None},\n",
       "   {'term': 'Pillow', 'scheme': None, 'label': None},\n",
       "   {'term': 'automation', 'scheme': None, 'label': None},\n",
       "   {'term': 'scraping', 'scheme': None, 'label': None},\n",
       "   {'term': 'tools', 'scheme': None, 'label': None},\n",
       "   {'term': 'PyBites Banner Generator', 'scheme': None, 'label': None},\n",
       "   {'term': 'images', 'scheme': None, 'label': None}]},\n",
       " {'title': 'Twitter digest 2017 week 33',\n",
       "  'title_detail': {'type': 'text/plain',\n",
       "   'language': None,\n",
       "   'base': 'http://projects.bobbelderbos.com/pcc/dates/all.rss.xml',\n",
       "   'value': 'Twitter digest 2017 week 33'},\n",
       "  'links': [{'rel': 'alternate',\n",
       "    'type': 'text/html',\n",
       "    'href': 'https://pybit.es/twitter_digest_201733.html'}],\n",
       "  'link': 'https://pybit.es/twitter_digest_201733.html',\n",
       "  'summary': '<p>Every weekend we share a curated list of 15 cool things (mostly Python) that we found / tweeted throughout the week.</p>',\n",
       "  'summary_detail': {'type': 'text/html',\n",
       "   'language': None,\n",
       "   'base': 'http://projects.bobbelderbos.com/pcc/dates/all.rss.xml',\n",
       "   'value': '<p>Every weekend we share a curated list of 15 cool things (mostly Python) that we found / tweeted throughout the week.</p>'},\n",
       "  'authors': [{'name': 'PyBites'}],\n",
       "  'author': 'PyBites',\n",
       "  'author_detail': {'name': 'PyBites'},\n",
       "  'published': 'Sun, 20 Aug 2017 15:55:00 +0200',\n",
       "  'published_parsed': time.struct_time(tm_year=2017, tm_mon=8, tm_mday=20, tm_hour=13, tm_min=55, tm_sec=0, tm_wday=6, tm_yday=232, tm_isdst=0),\n",
       "  'id': 'tag:pybit.es,2017-08-20:/twitter_digest_201733.html',\n",
       "  'guidislink': False,\n",
       "  'tags': [{'term': 'twitter', 'scheme': None, 'label': None},\n",
       "   {'term': 'news', 'scheme': None, 'label': None},\n",
       "   {'term': 'tips', 'scheme': None, 'label': None},\n",
       "   {'term': 'python', 'scheme': None, 'label': None},\n",
       "   {'term': 'Django', 'scheme': None, 'label': None},\n",
       "   {'term': 'Docker', 'scheme': None, 'label': None},\n",
       "   {'term': 'NNabla', 'scheme': None, 'label': None},\n",
       "   {'term': 'PyTorch', 'scheme': None, 'label': None},\n",
       "   {'term': 'TensorFlow', 'scheme': None, 'label': None},\n",
       "   {'term': 'PyBeeWare', 'scheme': None, 'label': None},\n",
       "   {'term': 'IPython', 'scheme': None, 'label': None},\n",
       "   {'term': 'CLI', 'scheme': None, 'label': None},\n",
       "   {'term': 'PyCharm', 'scheme': None, 'label': None},\n",
       "   {'term': 'Jupyter', 'scheme': None, 'label': None},\n",
       "   {'term': 'Data Visualisation', 'scheme': None, 'label': None},\n",
       "   {'term': 'chatbot', 'scheme': None, 'label': None},\n",
       "   {'term': 'Facebook', 'scheme': None, 'label': None},\n",
       "   {'term': 'API', 'scheme': None, 'label': None},\n",
       "   {'term': 'Pandas', 'scheme': None, 'label': None},\n",
       "   {'term': 'Markdown', 'scheme': None, 'label': None},\n",
       "   {'term': 'Mistletoe', 'scheme': None, 'label': None}]},\n",
       " {'title': 'Making a Banner Generator With Pillow and Flask',\n",
       "  'title_detail': {'type': 'text/plain',\n",
       "   'language': None,\n",
       "   'base': 'http://projects.bobbelderbos.com/pcc/dates/all.rss.xml',\n",
       "   'value': 'Making a Banner Generator With Pillow and Flask'},\n",
       "  'links': [{'rel': 'alternate',\n",
       "    'type': 'text/html',\n",
       "    'href': 'https://pybit.es/pillow-banner-flask.html'}],\n",
       "  'link': 'https://pybit.es/pillow-banner-flask.html',\n",
       "  'summary': '<p>In this article I will take <a href=\"https://pybit.es/pillow-banner-image.html\">last week\\'s banner.py Pillow script</a> and integrate it into a Flask app.</p>',\n",
       "  'summary_detail': {'type': 'text/html',\n",
       "   'language': None,\n",
       "   'base': 'http://projects.bobbelderbos.com/pcc/dates/all.rss.xml',\n",
       "   'value': '<p>In this article I will take <a href=\"https://pybit.es/pillow-banner-image.html\">last week\\'s banner.py Pillow script</a> and integrate it into a Flask app.</p>'},\n",
       "  'authors': [{'name': 'Bob'}],\n",
       "  'author': 'Bob',\n",
       "  'author_detail': {'name': 'Bob'},\n",
       "  'published': 'Sat, 19 Aug 2017 13:00:00 +0200',\n",
       "  'published_parsed': time.struct_time(tm_year=2017, tm_mon=8, tm_mday=19, tm_hour=11, tm_min=0, tm_sec=0, tm_wday=5, tm_yday=231, tm_isdst=0),\n",
       "  'id': 'tag:pybit.es,2017-08-19:/pillow-banner-flask.html',\n",
       "  'guidislink': False,\n",
       "  'tags': [{'term': 'Pillow', 'scheme': None, 'label': None},\n",
       "   {'term': 'Flask', 'scheme': None, 'label': None},\n",
       "   {'term': 'Heroku', 'scheme': None, 'label': None},\n",
       "   {'term': 'Flask-WTF', 'scheme': None, 'label': None},\n",
       "   {'term': 'Flask-SQLAlchemy', 'scheme': None, 'label': None},\n",
       "   {'term': 'challenges', 'scheme': None, 'label': None},\n",
       "   {'term': 'PyBites Banner Generator', 'scheme': None, 'label': None},\n",
       "   {'term': 'images', 'scheme': None, 'label': None}]},\n",
       " {'title': 'Learning Flask v Learning Django',\n",
       "  'title_detail': {'type': 'text/plain',\n",
       "   'language': None,\n",
       "   'base': 'http://projects.bobbelderbos.com/pcc/dates/all.rss.xml',\n",
       "   'value': 'Learning Flask v Learning Django'},\n",
       "  'links': [{'rel': 'alternate',\n",
       "    'type': 'text/html',\n",
       "    'href': 'https://pybit.es/learning-flask-django.html'}],\n",
       "  'link': 'https://pybit.es/learning-flask-django.html',\n",
       "  'summary': '<p>An article on my experience learning Flask and Django.</p>',\n",
       "  'summary_detail': {'type': 'text/html',\n",
       "   'language': None,\n",
       "   'base': 'http://projects.bobbelderbos.com/pcc/dates/all.rss.xml',\n",
       "   'value': '<p>An article on my experience learning Flask and Django.</p>'},\n",
       "  'authors': [{'name': 'Julian'}],\n",
       "  'author': 'Julian',\n",
       "  'author_detail': {'name': 'Julian'},\n",
       "  'published': 'Wed, 16 Aug 2017 13:00:00 +0200',\n",
       "  'published_parsed': time.struct_time(tm_year=2017, tm_mon=8, tm_mday=16, tm_hour=11, tm_min=0, tm_sec=0, tm_wday=2, tm_yday=228, tm_isdst=0),\n",
       "  'id': 'tag:pybit.es,2017-08-16:/learning-flask-django.html',\n",
       "  'guidislink': False,\n",
       "  'tags': [{'term': 'Django', 'scheme': None, 'label': None},\n",
       "   {'term': '100DaysOfDjango', 'scheme': None, 'label': None},\n",
       "   {'term': 'Flask', 'scheme': None, 'label': None},\n",
       "   {'term': 'python', 'scheme': None, 'label': None},\n",
       "   {'term': 'beginner', 'scheme': None, 'label': None},\n",
       "   {'term': 'learning', 'scheme': None, 'label': None}]},\n",
       " {'title': 'Code Challenge 32 - Test a Simple Django App With Selenium',\n",
       "  'title_detail': {'type': 'text/plain',\n",
       "   'language': None,\n",
       "   'base': 'http://projects.bobbelderbos.com/pcc/dates/all.rss.xml',\n",
       "   'value': 'Code Challenge 32 - Test a Simple Django App With Selenium'},\n",
       "  'links': [{'rel': 'alternate',\n",
       "    'type': 'text/html',\n",
       "    'href': 'https://pybit.es/codechallenge32.html'}],\n",
       "  'link': 'https://pybit.es/codechallenge32.html',\n",
       "  'summary': '<p>Hi Pythonistas, a new week, a new \\'bite\\' of Python goodness. As <a href=\"https://github.com/pybites/challenges/issues/91\">anticipated</a> this week we dedicate a challenge to Selenium testing. We think this is a cool skill to add to your web dev + testing repertoire.</p>',\n",
       "  'summary_detail': {'type': 'text/html',\n",
       "   'language': None,\n",
       "   'base': 'http://projects.bobbelderbos.com/pcc/dates/all.rss.xml',\n",
       "   'value': '<p>Hi Pythonistas, a new week, a new \\'bite\\' of Python goodness. As <a href=\"https://github.com/pybites/challenges/issues/91\">anticipated</a> this week we dedicate a challenge to Selenium testing. We think this is a cool skill to add to your web dev + testing repertoire.</p>'},\n",
       "  'authors': [{'name': 'PyBites'}],\n",
       "  'author': 'PyBites',\n",
       "  'author_detail': {'name': 'PyBites'},\n",
       "  'published': 'Tue, 15 Aug 2017 13:00:00 +0200',\n",
       "  'published_parsed': time.struct_time(tm_year=2017, tm_mon=8, tm_mday=15, tm_hour=11, tm_min=0, tm_sec=0, tm_wday=1, tm_yday=227, tm_isdst=0),\n",
       "  'id': 'tag:pybit.es,2017-08-15:/codechallenge32.html',\n",
       "  'guidislink': False,\n",
       "  'tags': [{'term': 'codechallenges', 'scheme': None, 'label': None},\n",
       "   {'term': 'Django', 'scheme': None, 'label': None},\n",
       "   {'term': '100DaysOfDjango', 'scheme': None, 'label': None},\n",
       "   {'term': 'Selenium', 'scheme': None, 'label': None},\n",
       "   {'term': 'Testing', 'scheme': None, 'label': None}]},\n",
       " {'title': 'Code Challenge 31 - Image Manipulation With Pillow - Review',\n",
       "  'title_detail': {'type': 'text/plain',\n",
       "   'language': None,\n",
       "   'base': 'http://projects.bobbelderbos.com/pcc/dates/all.rss.xml',\n",
       "   'value': 'Code Challenge 31 - Image Manipulation With Pillow - Review'},\n",
       "  'links': [{'rel': 'alternate',\n",
       "    'type': 'text/html',\n",
       "    'href': 'https://pybit.es/codechallenge31_review.html'}],\n",
       "  'link': 'https://pybit.es/codechallenge31_review.html',\n",
       "  'summary': '<p>In this article we review last week\\'s <a href=\"http://pybit.es/codechallenge31.html\">Image Manipulation With Pillow</a> code challenge. Some nice submissions to share ...</p>',\n",
       "  'summary_detail': {'type': 'text/html',\n",
       "   'language': None,\n",
       "   'base': 'http://projects.bobbelderbos.com/pcc/dates/all.rss.xml',\n",
       "   'value': '<p>In this article we review last week\\'s <a href=\"http://pybit.es/codechallenge31.html\">Image Manipulation With Pillow</a> code challenge. Some nice submissions to share ...</p>'},\n",
       "  'authors': [{'name': 'PyBites'}],\n",
       "  'author': 'PyBites',\n",
       "  'author_detail': {'name': 'PyBites'},\n",
       "  'published': 'Mon, 14 Aug 2017 11:00:00 +0200',\n",
       "  'published_parsed': time.struct_time(tm_year=2017, tm_mon=8, tm_mday=14, tm_hour=9, tm_min=0, tm_sec=0, tm_wday=0, tm_yday=226, tm_isdst=0),\n",
       "  'id': 'tag:pybit.es,2017-08-14:/codechallenge31_review.html',\n",
       "  'guidislink': False,\n",
       "  'tags': [{'term': 'codechallenges', 'scheme': None, 'label': None},\n",
       "   {'term': 'images', 'scheme': None, 'label': None},\n",
       "   {'term': 'Pillow', 'scheme': None, 'label': None},\n",
       "   {'term': 'Flask', 'scheme': None, 'label': None},\n",
       "   {'term': 'newquote', 'scheme': None, 'label': None},\n",
       "   {'term': 'utilities', 'scheme': None, 'label': None},\n",
       "   {'term': 'OpenCV', 'scheme': None, 'label': None},\n",
       "   {'term': 'Anaconda', 'scheme': None, 'label': None},\n",
       "   {'term': 'conda', 'scheme': None, 'label': None},\n",
       "   {'term': 'face recognition', 'scheme': None, 'label': None},\n",
       "   {'term': 'Thumbler', 'scheme': None, 'label': None},\n",
       "   {'term': 'thumbnails', 'scheme': None, 'label': None}]},\n",
       " {'title': 'Twitter digest 2017 week 32',\n",
       "  'title_detail': {'type': 'text/plain',\n",
       "   'language': None,\n",
       "   'base': 'http://projects.bobbelderbos.com/pcc/dates/all.rss.xml',\n",
       "   'value': 'Twitter digest 2017 week 32'},\n",
       "  'links': [{'rel': 'alternate',\n",
       "    'type': 'text/html',\n",
       "    'href': 'https://pybit.es/twitter_digest_201732.html'}],\n",
       "  'link': 'https://pybit.es/twitter_digest_201732.html',\n",
       "  'summary': '<p>Every weekend we share a curated list of 15 cool things (mostly Python) that we found / tweeted throughout the week.</p>',\n",
       "  'summary_detail': {'type': 'text/html',\n",
       "   'language': None,\n",
       "   'base': 'http://projects.bobbelderbos.com/pcc/dates/all.rss.xml',\n",
       "   'value': '<p>Every weekend we share a curated list of 15 cool things (mostly Python) that we found / tweeted throughout the week.</p>'},\n",
       "  'authors': [{'name': 'PyBites'}],\n",
       "  'author': 'PyBites',\n",
       "  'author_detail': {'name': 'PyBites'},\n",
       "  'published': 'Sun, 13 Aug 2017 19:20:00 +0200',\n",
       "  'published_parsed': time.struct_time(tm_year=2017, tm_mon=8, tm_mday=13, tm_hour=17, tm_min=20, tm_sec=0, tm_wday=6, tm_yday=225, tm_isdst=0),\n",
       "  'id': 'tag:pybit.es,2017-08-13:/twitter_digest_201732.html',\n",
       "  'guidislink': False,\n",
       "  'tags': [{'term': 'twitter', 'scheme': None, 'label': None},\n",
       "   {'term': 'news', 'scheme': None, 'label': None},\n",
       "   {'term': 'tips', 'scheme': None, 'label': None},\n",
       "   {'term': 'python', 'scheme': None, 'label': None},\n",
       "   {'term': 'Docker', 'scheme': None, 'label': None},\n",
       "   {'term': 'women', 'scheme': None, 'label': None},\n",
       "   {'term': 'history', 'scheme': None, 'label': None},\n",
       "   {'term': 'regex', 'scheme': None, 'label': None},\n",
       "   {'term': 'Flask', 'scheme': None, 'label': None},\n",
       "   {'term': 'IPython', 'scheme': None, 'label': None},\n",
       "   {'term': 'SQL', 'scheme': None, 'label': None},\n",
       "   {'term': 'webscraping', 'scheme': None, 'label': None},\n",
       "   {'term': 'GitHub', 'scheme': None, 'label': None},\n",
       "   {'term': 'Pandas', 'scheme': None, 'label': None},\n",
       "   {'term': 'PyConAU', 'scheme': None, 'label': None},\n",
       "   {'term': 'data science', 'scheme': None, 'label': None},\n",
       "   {'term': 'BeeWare', 'scheme': None, 'label': None},\n",
       "   {'term': 'hacking', 'scheme': None, 'label': None},\n",
       "   {'term': 'Bash', 'scheme': None, 'label': None},\n",
       "   {'term': 'scripting', 'scheme': None, 'label': None}]},\n",
       " {'title': 'Using Pillow to Create Nice Banners For Your Site',\n",
       "  'title_detail': {'type': 'text/plain',\n",
       "   'language': None,\n",
       "   'base': 'http://projects.bobbelderbos.com/pcc/dates/all.rss.xml',\n",
       "   'value': 'Using Pillow to Create Nice Banners For Your Site'},\n",
       "  'links': [{'rel': 'alternate',\n",
       "    'type': 'text/html',\n",
       "    'href': 'https://pybit.es/pillow-banner-image.html'}],\n",
       "  'link': 'https://pybit.es/pillow-banner-image.html',\n",
       "  'summary': '<p>Running your site or business good chance you A. use promo material like banners and B. you make them manually with Photoshop, Gimp or what not. And yes for anything beyond the basics you probably need those programs. But what if you like to keep it simple and want to semi-automate things? Just an image and text on canvas? Enter <a href=\"https://python-pillow.org/\">Pillow</a> - <em>The friendly PIL fork</em>, which makes this pretty easy. Come explore some of its capabilities with me in this article.</p>',\n",
       "  'summary_detail': {'type': 'text/html',\n",
       "   'language': None,\n",
       "   'base': 'http://projects.bobbelderbos.com/pcc/dates/all.rss.xml',\n",
       "   'value': '<p>Running your site or business good chance you A. use promo material like banners and B. you make them manually with Photoshop, Gimp or what not. And yes for anything beyond the basics you probably need those programs. But what if you like to keep it simple and want to semi-automate things? Just an image and text on canvas? Enter <a href=\"https://python-pillow.org/\">Pillow</a> - <em>The friendly PIL fork</em>, which makes this pretty easy. Come explore some of its capabilities with me in this article.</p>'},\n",
       "  'authors': [{'name': 'Bob'}],\n",
       "  'author': 'Bob',\n",
       "  'author_detail': {'name': 'Bob'},\n",
       "  'published': 'Fri, 11 Aug 2017 14:00:00 +0200',\n",
       "  'published_parsed': time.struct_time(tm_year=2017, tm_mon=8, tm_mday=11, tm_hour=12, tm_min=0, tm_sec=0, tm_wday=4, tm_yday=223, tm_isdst=0),\n",
       "  'id': 'tag:pybit.es,2017-08-11:/pillow-banner-image.html',\n",
       "  'guidislink': False,\n",
       "  'tags': [{'term': 'Pillow', 'scheme': None, 'label': None},\n",
       "   {'term': 'images', 'scheme': None, 'label': None},\n",
       "   {'term': 'utilities', 'scheme': None, 'label': None},\n",
       "   {'term': 'pybites', 'scheme': None, 'label': None},\n",
       "   {'term': 'curl', 'scheme': None, 'label': None},\n",
       "   {'term': 'refactoring', 'scheme': None, 'label': None},\n",
       "   {'term': 'challenges', 'scheme': None, 'label': None},\n",
       "   {'term': 'PyBites Banner Generator', 'scheme': None, 'label': None}]},\n",
       " {'title': 'Code Challenge 31 - Image Manipulation With Pillow',\n",
       "  'title_detail': {'type': 'text/plain',\n",
       "   'language': None,\n",
       "   'base': 'http://projects.bobbelderbos.com/pcc/dates/all.rss.xml',\n",
       "   'value': 'Code Challenge 31 - Image Manipulation With Pillow'},\n",
       "  'links': [{'rel': 'alternate',\n",
       "    'type': 'text/html',\n",
       "    'href': 'https://pybit.es/codechallenge31.html'}],\n",
       "  'link': 'https://pybit.es/codechallenge31.html',\n",
       "  'summary': '<p>Hi Pythonistas, a new week, a new \\'bite\\' of Python coding. Let\\'s shift gears a little bit: this week we have you choose an image manipulation task using <a href=\"https://python-pillow.org/\">Pillow</a>, \"the friendly PIL (Python Imaging Library) fork\". Have fun!</p>',\n",
       "  'summary_detail': {'type': 'text/html',\n",
       "   'language': None,\n",
       "   'base': 'http://projects.bobbelderbos.com/pcc/dates/all.rss.xml',\n",
       "   'value': '<p>Hi Pythonistas, a new week, a new \\'bite\\' of Python coding. Let\\'s shift gears a little bit: this week we have you choose an image manipulation task using <a href=\"https://python-pillow.org/\">Pillow</a>, \"the friendly PIL (Python Imaging Library) fork\". Have fun!</p>'},\n",
       "  'authors': [{'name': 'PyBites'}],\n",
       "  'author': 'PyBites',\n",
       "  'author_detail': {'name': 'PyBites'},\n",
       "  'published': 'Tue, 08 Aug 2017 13:28:00 +0200',\n",
       "  'published_parsed': time.struct_time(tm_year=2017, tm_mon=8, tm_mday=8, tm_hour=11, tm_min=28, tm_sec=0, tm_wday=1, tm_yday=220, tm_isdst=0),\n",
       "  'id': 'tag:pybit.es,2017-08-08:/codechallenge31.html',\n",
       "  'guidislink': False,\n",
       "  'tags': [{'term': 'codechallenges', 'scheme': None, 'label': None},\n",
       "   {'term': 'images', 'scheme': None, 'label': None},\n",
       "   {'term': 'Pillow', 'scheme': None, 'label': None},\n",
       "   {'term': 'Flask', 'scheme': None, 'label': None},\n",
       "   {'term': 'newquote', 'scheme': None, 'label': None},\n",
       "   {'term': 'utilities', 'scheme': None, 'label': None}]},\n",
       " {'title': 'Code Challenge 30 - The Art of Refactoring: Improve Your Code - Review',\n",
       "  'title_detail': {'type': 'text/plain',\n",
       "   'language': None,\n",
       "   'base': 'http://projects.bobbelderbos.com/pcc/dates/all.rss.xml',\n",
       "   'value': 'Code Challenge 30 - The Art of Refactoring: Improve Your Code - Review'},\n",
       "  'links': [{'rel': 'alternate',\n",
       "    'type': 'text/html',\n",
       "    'href': 'https://pybit.es/codechallenge30_review.html'}],\n",
       "  'link': 'https://pybit.es/codechallenge30_review.html',\n",
       "  'summary': '<p>In this article we review last week\\'s <a href=\"http://pybit.es/codechallenge30.html\">The Art of Refactoring: Improve Your Code</a> code challenge. We\\'re excited to have done 30 challenges so far and it feels like we only got started. Prepare for more to come!</p>',\n",
       "  'summary_detail': {'type': 'text/html',\n",
       "   'language': None,\n",
       "   'base': 'http://projects.bobbelderbos.com/pcc/dates/all.rss.xml',\n",
       "   'value': '<p>In this article we review last week\\'s <a href=\"http://pybit.es/codechallenge30.html\">The Art of Refactoring: Improve Your Code</a> code challenge. We\\'re excited to have done 30 challenges so far and it feels like we only got started. Prepare for more to come!</p>'},\n",
       "  'authors': [{'name': 'PyBites'}],\n",
       "  'author': 'PyBites',\n",
       "  'author_detail': {'name': 'PyBites'},\n",
       "  'published': 'Mon, 07 Aug 2017 11:00:00 +0200',\n",
       "  'published_parsed': time.struct_time(tm_year=2017, tm_mon=8, tm_mday=7, tm_hour=9, tm_min=0, tm_sec=0, tm_wday=0, tm_yday=219, tm_isdst=0),\n",
       "  'id': 'tag:pybit.es,2017-08-07:/codechallenge30_review.html',\n",
       "  'guidislink': False,\n",
       "  'tags': [{'term': 'codechallenges', 'scheme': None, 'label': None},\n",
       "   {'term': 'refactoring', 'scheme': None, 'label': None},\n",
       "   {'term': 'code review', 'scheme': None, 'label': None},\n",
       "   {'term': 'testing', 'scheme': None, 'label': None},\n",
       "   {'term': 'bestpractices', 'scheme': None, 'label': None},\n",
       "   {'term': 'cleancode', 'scheme': None, 'label': None},\n",
       "   {'term': 'bettercodehub', 'scheme': None, 'label': None},\n",
       "   {'term': 'Sig', 'scheme': None, 'label': None},\n",
       "   {'term': 'Flask', 'scheme': None, 'label': None},\n",
       "   {'term': 'authentication', 'scheme': None, 'label': None},\n",
       "   {'term': 'my first script', 'scheme': None, 'label': None}]},\n",
       " {'title': 'Twitter digest 2017 week 31',\n",
       "  'title_detail': {'type': 'text/plain',\n",
       "   'language': None,\n",
       "   'base': 'http://projects.bobbelderbos.com/pcc/dates/all.rss.xml',\n",
       "   'value': 'Twitter digest 2017 week 31'},\n",
       "  'links': [{'rel': 'alternate',\n",
       "    'type': 'text/html',\n",
       "    'href': 'https://pybit.es/twitter_digest_201731.html'}],\n",
       "  'link': 'https://pybit.es/twitter_digest_201731.html',\n",
       "  'summary': '<p>Every weekend we share a curated list of 15 cool things (mostly Python) that we found / tweeted throughout the week.</p>',\n",
       "  'summary_detail': {'type': 'text/html',\n",
       "   'language': None,\n",
       "   'base': 'http://projects.bobbelderbos.com/pcc/dates/all.rss.xml',\n",
       "   'value': '<p>Every weekend we share a curated list of 15 cool things (mostly Python) that we found / tweeted throughout the week.</p>'},\n",
       "  'authors': [{'name': 'PyBites'}],\n",
       "  'author': 'PyBites',\n",
       "  'author_detail': {'name': 'PyBites'},\n",
       "  'published': 'Sun, 06 Aug 2017 19:30:00 +0200',\n",
       "  'published_parsed': time.struct_time(tm_year=2017, tm_mon=8, tm_mday=6, tm_hour=17, tm_min=30, tm_sec=0, tm_wday=6, tm_yday=218, tm_isdst=0),\n",
       "  'id': 'tag:pybit.es,2017-08-06:/twitter_digest_201731.html',\n",
       "  'guidislink': False,\n",
       "  'tags': [{'term': 'twitter', 'scheme': None, 'label': None},\n",
       "   {'term': 'news', 'scheme': None, 'label': None},\n",
       "   {'term': 'tips', 'scheme': None, 'label': None},\n",
       "   {'term': 'python', 'scheme': None, 'label': None},\n",
       "   {'term': 'coding', 'scheme': None, 'label': None},\n",
       "   {'term': 'Docker', 'scheme': None, 'label': None},\n",
       "   {'term': 'Selenium', 'scheme': None, 'label': None},\n",
       "   {'term': 'Chrome', 'scheme': None, 'label': None},\n",
       "   {'term': 'regex', 'scheme': None, 'label': None},\n",
       "   {'term': 'NodeJS', 'scheme': None, 'label': None},\n",
       "   {'term': 'Twilio', 'scheme': None, 'label': None},\n",
       "   {'term': 'Sendgrid', 'scheme': None, 'label': None},\n",
       "   {'term': 'CLI', 'scheme': None, 'label': None},\n",
       "   {'term': 'PyConAU', 'scheme': None, 'label': None},\n",
       "   {'term': 'astronomy', 'scheme': None, 'label': None},\n",
       "   {'term': 'git', 'scheme': None, 'label': None},\n",
       "   {'term': 'pandas', 'scheme': None, 'label': None},\n",
       "   {'term': 'Jupyter', 'scheme': None, 'label': None},\n",
       "   {'term': 'comprehension', 'scheme': None, 'label': None},\n",
       "   {'term': 'nginx', 'scheme': None, 'label': None},\n",
       "   {'term': 'video', 'scheme': None, 'label': None},\n",
       "   {'term': 'Game of Thrones', 'scheme': None, 'label': None}]},\n",
       " {'title': 'A Step by Step Guide to Implementing and Deploying Two-Phase Registration in Django',\n",
       "  'title_detail': {'type': 'text/plain',\n",
       "   'language': None,\n",
       "   'base': 'http://projects.bobbelderbos.com/pcc/dates/all.rss.xml',\n",
       "   'value': 'A Step by Step Guide to Implementing and Deploying Two-Phase Registration in Django'},\n",
       "  'links': [{'rel': 'alternate',\n",
       "    'type': 'text/html',\n",
       "    'href': 'https://pybit.es/django-registration-app.html'}],\n",
       "  'link': 'https://pybit.es/django-registration-app.html',\n",
       "  'summary': '<p>Two-phase registration, consisting of initial signup followed by a confirmation/activation email is a common piece for any web app. In this article I will guide you through setting this up in Django using the <a href=\"https://django-registration.readthedocs.io/en/2.2/\">Django-registration plugin</a> and Gmail for messaging. Then I show you how to deploy the app to Heroku.</p>',\n",
       "  'summary_detail': {'type': 'text/html',\n",
       "   'language': None,\n",
       "   'base': 'http://projects.bobbelderbos.com/pcc/dates/all.rss.xml',\n",
       "   'value': '<p>Two-phase registration, consisting of initial signup followed by a confirmation/activation email is a common piece for any web app. In this article I will guide you through setting this up in Django using the <a href=\"https://django-registration.readthedocs.io/en/2.2/\">Django-registration plugin</a> and Gmail for messaging. Then I show you how to deploy the app to Heroku.</p>'},\n",
       "  'authors': [{'name': 'Bob'}],\n",
       "  'author': 'Bob',\n",
       "  'author_detail': {'name': 'Bob'},\n",
       "  'published': 'Sat, 05 Aug 2017 01:00:00 +0200',\n",
       "  'published_parsed': time.struct_time(tm_year=2017, tm_mon=8, tm_mday=4, tm_hour=23, tm_min=0, tm_sec=0, tm_wday=4, tm_yday=216, tm_isdst=0),\n",
       "  'id': 'tag:pybit.es,2017-08-05:/django-registration-app.html',\n",
       "  'guidislink': False,\n",
       "  'tags': [{'term': 'Django', 'scheme': None, 'label': None},\n",
       "   {'term': '100DaysOfDjango', 'scheme': None, 'label': None},\n",
       "   {'term': 'Django-registration', 'scheme': None, 'label': None},\n",
       "   {'term': 'Gmail', 'scheme': None, 'label': None},\n",
       "   {'term': 'Postgres', 'scheme': None, 'label': None},\n",
       "   {'term': 'SQLite', 'scheme': None, 'label': None},\n",
       "   {'term': 'registration', 'scheme': None, 'label': None},\n",
       "   {'term': 'tutorial', 'scheme': None, 'label': None},\n",
       "   {'term': 'guide', 'scheme': None, 'label': None},\n",
       "   {'term': 'virtualenv', 'scheme': None, 'label': None},\n",
       "   {'term': 'learning', 'scheme': None, 'label': None}]},\n",
       " {'title': 'Code Challenge 30 - The Art of Refactoring: Improve Your Code',\n",
       "  'title_detail': {'type': 'text/plain',\n",
       "   'language': None,\n",
       "   'base': 'http://projects.bobbelderbos.com/pcc/dates/all.rss.xml',\n",
       "   'value': 'Code Challenge 30 - The Art of Refactoring: Improve Your Code'},\n",
       "  'links': [{'rel': 'alternate',\n",
       "    'type': 'text/html',\n",
       "    'href': 'https://pybit.es/codechallenge30.html'}],\n",
       "  'link': 'https://pybit.es/codechallenge30.html',\n",
       "  'summary': \"<p>Hi Pythonistas, a new week, a new 'bite' of Python coding. Wow challenge 30 already! This week we let you hone your refactoring skills. Learn, code, PR submit (don't be shy) and above all have fun!</p>\",\n",
       "  'summary_detail': {'type': 'text/html',\n",
       "   'language': None,\n",
       "   'base': 'http://projects.bobbelderbos.com/pcc/dates/all.rss.xml',\n",
       "   'value': \"<p>Hi Pythonistas, a new week, a new 'bite' of Python coding. Wow challenge 30 already! This week we let you hone your refactoring skills. Learn, code, PR submit (don't be shy) and above all have fun!</p>\"},\n",
       "  'authors': [{'name': 'PyBites'}],\n",
       "  'author': 'PyBites',\n",
       "  'author_detail': {'name': 'PyBites'},\n",
       "  'published': 'Tue, 01 Aug 2017 09:00:00 +0200',\n",
       "  'published_parsed': time.struct_time(tm_year=2017, tm_mon=8, tm_mday=1, tm_hour=7, tm_min=0, tm_sec=0, tm_wday=1, tm_yday=213, tm_isdst=0),\n",
       "  'id': 'tag:pybit.es,2017-08-01:/codechallenge30.html',\n",
       "  'guidislink': False,\n",
       "  'tags': [{'term': 'codechallenges', 'scheme': None, 'label': None},\n",
       "   {'term': 'refactoring', 'scheme': None, 'label': None},\n",
       "   {'term': 'code review', 'scheme': None, 'label': None},\n",
       "   {'term': 'testing', 'scheme': None, 'label': None},\n",
       "   {'term': 'packaging', 'scheme': None, 'label': None},\n",
       "   {'term': 'bestpractices', 'scheme': None, 'label': None},\n",
       "   {'term': 'pythonic', 'scheme': None, 'label': None},\n",
       "   {'term': 'pep8', 'scheme': None, 'label': None},\n",
       "   {'term': 'cleancode', 'scheme': None, 'label': None}]},\n",
       " {'title': 'Code Challenge 29 - Create a Simple Django App - Review',\n",
       "  'title_detail': {'type': 'text/plain',\n",
       "   'language': None,\n",
       "   'base': 'http://projects.bobbelderbos.com/pcc/dates/all.rss.xml',\n",
       "   'value': 'Code Challenge 29 - Create a Simple Django App - Review'},\n",
       "  'links': [{'rel': 'alternate',\n",
       "    'type': 'text/html',\n",
       "    'href': 'https://pybit.es/codechallenge29_review.html'}],\n",
       "  'link': 'https://pybit.es/codechallenge29_review.html',\n",
       "  'summary': '<p>In this article we review last week\\'s <a href=\"http://pybit.es/codechallenge29.html\">Create a Simple Django App</a> code challenge. The Django fever continues ...</p>',\n",
       "  'summary_detail': {'type': 'text/html',\n",
       "   'language': None,\n",
       "   'base': 'http://projects.bobbelderbos.com/pcc/dates/all.rss.xml',\n",
       "   'value': '<p>In this article we review last week\\'s <a href=\"http://pybit.es/codechallenge29.html\">Create a Simple Django App</a> code challenge. The Django fever continues ...</p>'},\n",
       "  'authors': [{'name': 'PyBites'}],\n",
       "  'author': 'PyBites',\n",
       "  'author_detail': {'name': 'PyBites'},\n",
       "  'published': 'Mon, 31 Jul 2017 12:00:00 +0200',\n",
       "  'published_parsed': time.struct_time(tm_year=2017, tm_mon=7, tm_mday=31, tm_hour=10, tm_min=0, tm_sec=0, tm_wday=0, tm_yday=212, tm_isdst=0),\n",
       "  'id': 'tag:pybit.es,2017-07-31:/codechallenge29_review.html',\n",
       "  'guidislink': False,\n",
       "  'tags': [{'term': 'codechallenges', 'scheme': None, 'label': None},\n",
       "   {'term': 'Django', 'scheme': None, 'label': None},\n",
       "   {'term': '100DaysOfDjango', 'scheme': None, 'label': None},\n",
       "   {'term': 'Heroku', 'scheme': None, 'label': None},\n",
       "   {'term': 'registration', 'scheme': None, 'label': None},\n",
       "   {'term': 'postgres', 'scheme': None, 'label': None},\n",
       "   {'term': 'deployment', 'scheme': None, 'label': None},\n",
       "   {'term': 'purecss', 'scheme': None, 'label': None},\n",
       "   {'term': 'crispy forms', 'scheme': None, 'label': None},\n",
       "   {'term': 'notifications', 'scheme': None, 'label': None}]},\n",
       " {'title': 'Twitter digest 2017 week 30',\n",
       "  'title_detail': {'type': 'text/plain',\n",
       "   'language': None,\n",
       "   'base': 'http://projects.bobbelderbos.com/pcc/dates/all.rss.xml',\n",
       "   'value': 'Twitter digest 2017 week 30'},\n",
       "  'links': [{'rel': 'alternate',\n",
       "    'type': 'text/html',\n",
       "    'href': 'https://pybit.es/twitter_digest_201730.html'}],\n",
       "  'link': 'https://pybit.es/twitter_digest_201730.html',\n",
       "  'summary': '<p>Every weekend we share a curated list of 15 cool things (mostly Python) that we found / tweeted throughout the week.</p>',\n",
       "  'summary_detail': {'type': 'text/html',\n",
       "   'language': None,\n",
       "   'base': 'http://projects.bobbelderbos.com/pcc/dates/all.rss.xml',\n",
       "   'value': '<p>Every weekend we share a curated list of 15 cool things (mostly Python) that we found / tweeted throughout the week.</p>'},\n",
       "  'authors': [{'name': 'PyBites'}],\n",
       "  'author': 'PyBites',\n",
       "  'author_detail': {'name': 'PyBites'},\n",
       "  'published': 'Sun, 30 Jul 2017 15:02:00 +0200',\n",
       "  'published_parsed': time.struct_time(tm_year=2017, tm_mon=7, tm_mday=30, tm_hour=13, tm_min=2, tm_sec=0, tm_wday=6, tm_yday=211, tm_isdst=0),\n",
       "  'id': 'tag:pybit.es,2017-07-30:/twitter_digest_201730.html',\n",
       "  'guidislink': False,\n",
       "  'tags': [{'term': 'twitter', 'scheme': None, 'label': None},\n",
       "   {'term': 'news', 'scheme': None, 'label': None},\n",
       "   {'term': 'tips', 'scheme': None, 'label': None},\n",
       "   {'term': 'python', 'scheme': None, 'label': None},\n",
       "   {'term': 'coding', 'scheme': None, 'label': None},\n",
       "   {'term': 'QuTIP', 'scheme': None, 'label': None},\n",
       "   {'term': 'facial recognition', 'scheme': None, 'label': None},\n",
       "   {'term': 'vim', 'scheme': None, 'label': None},\n",
       "   {'term': 'IDE', 'scheme': None, 'label': None},\n",
       "   {'term': 'Thonny', 'scheme': None, 'label': None},\n",
       "   {'term': 'automation', 'scheme': None, 'label': None},\n",
       "   {'term': 'urllib', 'scheme': None, 'label': None},\n",
       "   {'term': 'packaging', 'scheme': None, 'label': None},\n",
       "   {'term': 'data science', 'scheme': None, 'label': None},\n",
       "   {'term': 'jobs', 'scheme': None, 'label': None},\n",
       "   {'term': 'webscraping', 'scheme': None, 'label': None},\n",
       "   {'term': 'Bokeh', 'scheme': None, 'label': None},\n",
       "   {'term': 'csv', 'scheme': None, 'label': None}]},\n",
       " {'title': 'Module of the Week - Pexpect',\n",
       "  'title_detail': {'type': 'text/plain',\n",
       "   'language': None,\n",
       "   'base': 'http://projects.bobbelderbos.com/pcc/dates/all.rss.xml',\n",
       "   'value': 'Module of the Week - Pexpect'},\n",
       "  'links': [{'rel': 'alternate',\n",
       "    'type': 'text/html',\n",
       "    'href': 'https://pybit.es/pexpect.html'}],\n",
       "  'link': 'https://pybit.es/pexpect.html',\n",
       "  'summary': '<p>A brief overview of the pexpect module</p>',\n",
       "  'summary_detail': {'type': 'text/html',\n",
       "   'language': None,\n",
       "   'base': 'http://projects.bobbelderbos.com/pcc/dates/all.rss.xml',\n",
       "   'value': '<p>A brief overview of the pexpect module</p>'},\n",
       "  'authors': [{'name': 'Julian'}],\n",
       "  'author': 'Julian',\n",
       "  'author_detail': {'name': 'Julian'},\n",
       "  'published': 'Thu, 27 Jul 2017 21:31:00 +0200',\n",
       "  'published_parsed': time.struct_time(tm_year=2017, tm_mon=7, tm_mday=27, tm_hour=19, tm_min=31, tm_sec=0, tm_wday=3, tm_yday=208, tm_isdst=0),\n",
       "  'id': 'tag:pybit.es,2017-07-27:/pexpect.html',\n",
       "  'guidislink': False,\n",
       "  'tags': [{'term': 'python', 'scheme': None, 'label': None},\n",
       "   {'term': 'tips', 'scheme': None, 'label': None},\n",
       "   {'term': 'code', 'scheme': None, 'label': None},\n",
       "   {'term': 'pybites', 'scheme': None, 'label': None},\n",
       "   {'term': 'pexpect', 'scheme': None, 'label': None},\n",
       "   {'term': 'automation', 'scheme': None, 'label': None}]},\n",
       " {'title': 'Code Challenge 29 - Create a Simple Django App',\n",
       "  'title_detail': {'type': 'text/plain',\n",
       "   'language': None,\n",
       "   'base': 'http://projects.bobbelderbos.com/pcc/dates/all.rss.xml',\n",
       "   'value': 'Code Challenge 29 - Create a Simple Django App'},\n",
       "  'links': [{'rel': 'alternate',\n",
       "    'type': 'text/html',\n",
       "    'href': 'https://pybit.es/codechallenge29.html'}],\n",
       "  'link': 'https://pybit.es/codechallenge29.html',\n",
       "  'summary': '<p>Hi Pythonistas, a new week, a new \\'bite\\' of Python coding! We are 2 weeks into learning Django (<a href=\"https://pybit.es/pages/projects.html\">our second 100 Days project</a>) so we thought it\\'s about time to dedicate a code challenge to it. So this week is all about coding (and deploying) a Django app. Have fun!</p>',\n",
       "  'summary_detail': {'type': 'text/html',\n",
       "   'language': None,\n",
       "   'base': 'http://projects.bobbelderbos.com/pcc/dates/all.rss.xml',\n",
       "   'value': '<p>Hi Pythonistas, a new week, a new \\'bite\\' of Python coding! We are 2 weeks into learning Django (<a href=\"https://pybit.es/pages/projects.html\">our second 100 Days project</a>) so we thought it\\'s about time to dedicate a code challenge to it. So this week is all about coding (and deploying) a Django app. Have fun!</p>'},\n",
       "  'authors': [{'name': 'PyBites'}],\n",
       "  'author': 'PyBites',\n",
       "  'author_detail': {'name': 'PyBites'},\n",
       "  'published': 'Tue, 25 Jul 2017 09:00:00 +0200',\n",
       "  'published_parsed': time.struct_time(tm_year=2017, tm_mon=7, tm_mday=25, tm_hour=7, tm_min=0, tm_sec=0, tm_wday=1, tm_yday=206, tm_isdst=0),\n",
       "  'id': 'tag:pybit.es,2017-07-25:/codechallenge29.html',\n",
       "  'guidislink': False,\n",
       "  'tags': [{'term': 'codechallenges', 'scheme': None, 'label': None},\n",
       "   {'term': 'Django', 'scheme': None, 'label': None},\n",
       "   {'term': '100DaysOfDjango', 'scheme': None, 'label': None}]},\n",
       " {'title': 'Code Challenge 28 - Integrate a Bokeh Chart Into Flask - Review',\n",
       "  'title_detail': {'type': 'text/plain',\n",
       "   'language': None,\n",
       "   'base': 'http://projects.bobbelderbos.com/pcc/dates/all.rss.xml',\n",
       "   'value': 'Code Challenge 28 - Integrate a Bokeh Chart Into Flask - Review'},\n",
       "  'links': [{'rel': 'alternate',\n",
       "    'type': 'text/html',\n",
       "    'href': 'https://pybit.es/codechallenge28_review.html'}],\n",
       "  'link': 'https://pybit.es/codechallenge28_review.html',\n",
       "  'summary': '<p>In this article we review last week\\'s <a href=\"http://pybit.es/codechallenge28.html\">Integrate a Bokeh Chart Into Flask</a> code challenge. We got some really nice submissions to share ...</p>',\n",
       "  'summary_detail': {'type': 'text/html',\n",
       "   'language': None,\n",
       "   'base': 'http://projects.bobbelderbos.com/pcc/dates/all.rss.xml',\n",
       "   'value': '<p>In this article we review last week\\'s <a href=\"http://pybit.es/codechallenge28.html\">Integrate a Bokeh Chart Into Flask</a> code challenge. We got some really nice submissions to share ...</p>'},\n",
       "  'authors': [{'name': 'PyBites'}],\n",
       "  'author': 'PyBites',\n",
       "  'author_detail': {'name': 'PyBites'},\n",
       "  'published': 'Mon, 24 Jul 2017 14:00:00 +0200',\n",
       "  'published_parsed': time.struct_time(tm_year=2017, tm_mon=7, tm_mday=24, tm_hour=12, tm_min=0, tm_sec=0, tm_wday=0, tm_yday=205, tm_isdst=0),\n",
       "  'id': 'tag:pybit.es,2017-07-24:/codechallenge28_review.html',\n",
       "  'guidislink': False,\n",
       "  'tags': [{'term': 'codechallenges', 'scheme': None, 'label': None},\n",
       "   {'term': 'Bokeh', 'scheme': None, 'label': None},\n",
       "   {'term': 'Flask', 'scheme': None, 'label': None},\n",
       "   {'term': 'RealPython', 'scheme': None, 'label': None},\n",
       "   {'term': 'guest', 'scheme': None, 'label': None},\n",
       "   {'term': 'data', 'scheme': None, 'label': None},\n",
       "   {'term': 'visualization', 'scheme': None, 'label': None},\n",
       "   {'term': 'Heroku', 'scheme': None, 'label': None}]},\n",
       " {'title': 'Deploying a Django App to PythonAnywhere',\n",
       "  'title_detail': {'type': 'text/plain',\n",
       "   'language': None,\n",
       "   'base': 'http://projects.bobbelderbos.com/pcc/dates/all.rss.xml',\n",
       "   'value': 'Deploying a Django App to PythonAnywhere'},\n",
       "  'links': [{'rel': 'alternate',\n",
       "    'type': 'text/html',\n",
       "    'href': 'https://pybit.es/django-python-anywhere.html'}],\n",
       "  'link': 'https://pybit.es/django-python-anywhere.html',\n",
       "  'summary': '<p>After Julian\\'s great article <a href=\"https://pybit.es/deploy-flask-heroku.html\">on deploying a Flask app to Heroku</a>, let\\'s look at how we can deploy a Django app to <a href=\"https://www.pythonanywhere.com\">PythonAnywhere</a> (PA).</p>',\n",
       "  'summary_detail': {'type': 'text/html',\n",
       "   'language': None,\n",
       "   'base': 'http://projects.bobbelderbos.com/pcc/dates/all.rss.xml',\n",
       "   'value': '<p>After Julian\\'s great article <a href=\"https://pybit.es/deploy-flask-heroku.html\">on deploying a Flask app to Heroku</a>, let\\'s look at how we can deploy a Django app to <a href=\"https://www.pythonanywhere.com\">PythonAnywhere</a> (PA).</p>'},\n",
       "  'authors': [{'name': 'Bob'}],\n",
       "  'author': 'Bob',\n",
       "  'author_detail': {'name': 'Bob'},\n",
       "  'published': 'Sun, 23 Jul 2017 23:59:00 +0200',\n",
       "  'published_parsed': time.struct_time(tm_year=2017, tm_mon=7, tm_mday=23, tm_hour=21, tm_min=59, tm_sec=0, tm_wday=6, tm_yday=204, tm_isdst=0),\n",
       "  'id': 'tag:pybit.es,2017-07-23:/django-python-anywhere.html',\n",
       "  'guidislink': False,\n",
       "  'tags': [{'term': 'Django', 'scheme': None, 'label': None},\n",
       "   {'term': '100DaysOfDjango', 'scheme': None, 'label': None},\n",
       "   {'term': 'PythonAnywhere', 'scheme': None, 'label': None},\n",
       "   {'term': 'Security', 'scheme': None, 'label': None},\n",
       "   {'term': 'cloud', 'scheme': None, 'label': None},\n",
       "   {'term': 'deployment', 'scheme': None, 'label': None}]},\n",
       " {'title': 'Twitter digest 2017 week 29',\n",
       "  'title_detail': {'type': 'text/plain',\n",
       "   'language': None,\n",
       "   'base': 'http://projects.bobbelderbos.com/pcc/dates/all.rss.xml',\n",
       "   'value': 'Twitter digest 2017 week 29'},\n",
       "  'links': [{'rel': 'alternate',\n",
       "    'type': 'text/html',\n",
       "    'href': 'https://pybit.es/twitter_digest_201729.html'}],\n",
       "  'link': 'https://pybit.es/twitter_digest_201729.html',\n",
       "  'summary': '<p>Every weekend we share a curated list of 15 cool things (mostly Python) that we found / tweeted throughout the week.</p>',\n",
       "  'summary_detail': {'type': 'text/html',\n",
       "   'language': None,\n",
       "   'base': 'http://projects.bobbelderbos.com/pcc/dates/all.rss.xml',\n",
       "   'value': '<p>Every weekend we share a curated list of 15 cool things (mostly Python) that we found / tweeted throughout the week.</p>'},\n",
       "  'authors': [{'name': 'PyBites'}],\n",
       "  'author': 'PyBites',\n",
       "  'author_detail': {'name': 'PyBites'},\n",
       "  'published': 'Sun, 23 Jul 2017 11:43:00 +0200',\n",
       "  'published_parsed': time.struct_time(tm_year=2017, tm_mon=7, tm_mday=23, tm_hour=9, tm_min=43, tm_sec=0, tm_wday=6, tm_yday=204, tm_isdst=0),\n",
       "  'id': 'tag:pybit.es,2017-07-23:/twitter_digest_201729.html',\n",
       "  'guidislink': False,\n",
       "  'tags': [{'term': 'twitter', 'scheme': None, 'label': None},\n",
       "   {'term': 'news', 'scheme': None, 'label': None},\n",
       "   {'term': 'tips', 'scheme': None, 'label': None},\n",
       "   {'term': 'python', 'scheme': None, 'label': None},\n",
       "   {'term': 'regex', 'scheme': None, 'label': None},\n",
       "   {'term': 'Django', 'scheme': None, 'label': None},\n",
       "   {'term': 'code', 'scheme': None, 'label': None},\n",
       "   {'term': 'NASA', 'scheme': None, 'label': None},\n",
       "   {'term': 'Machine Learning', 'scheme': None, 'label': None},\n",
       "   {'term': 'tools', 'scheme': None, 'label': None},\n",
       "   {'term': 'anyprint', 'scheme': None, 'label': None},\n",
       "   {'term': 'Flask', 'scheme': None, 'label': None},\n",
       "   {'term': 'Asyncio', 'scheme': None, 'label': None},\n",
       "   {'term': 'Quart', 'scheme': None, 'label': None},\n",
       "   {'term': 'IoT', 'scheme': None, 'label': None},\n",
       "   {'term': 'Pandas', 'scheme': None, 'label': None},\n",
       "   {'term': 'Jupyter', 'scheme': None, 'label': None}]},\n",
       " {'title': 'Step-by-Step Guide on Deploying a Simple Flask App to Heroku',\n",
       "  'title_detail': {'type': 'text/plain',\n",
       "   'language': None,\n",
       "   'base': 'http://projects.bobbelderbos.com/pcc/dates/all.rss.xml',\n",
       "   'value': 'Step-by-Step Guide on Deploying a Simple Flask App to Heroku'},\n",
       "  'links': [{'rel': 'alternate',\n",
       "    'type': 'text/html',\n",
       "    'href': 'https://pybit.es/deploy-flask-heroku.html'}],\n",
       "  'link': 'https://pybit.es/deploy-flask-heroku.html',\n",
       "  'summary': '<p>A step-by-step guide on deploying a simple flask app to Heroku.</p>',\n",
       "  'summary_detail': {'type': 'text/html',\n",
       "   'language': None,\n",
       "   'base': 'http://projects.bobbelderbos.com/pcc/dates/all.rss.xml',\n",
       "   'value': '<p>A step-by-step guide on deploying a simple flask app to Heroku.</p>'},\n",
       "  'authors': [{'name': 'Julian'}],\n",
       "  'author': 'Julian',\n",
       "  'author_detail': {'name': 'Julian'},\n",
       "  'published': 'Fri, 21 Jul 2017 21:57:00 +0200',\n",
       "  'published_parsed': time.struct_time(tm_year=2017, tm_mon=7, tm_mday=21, tm_hour=19, tm_min=57, tm_sec=0, tm_wday=4, tm_yday=202, tm_isdst=0),\n",
       "  'id': 'tag:pybit.es,2017-07-21:/deploy-flask-heroku.html',\n",
       "  'guidislink': False,\n",
       "  'tags': [{'term': 'Flask', 'scheme': None, 'label': None},\n",
       "   {'term': 'python', 'scheme': None, 'label': None},\n",
       "   {'term': 'beginner', 'scheme': None, 'label': None},\n",
       "   {'term': 'sessions', 'scheme': None, 'label': None},\n",
       "   {'term': 'learning', 'scheme': None, 'label': None},\n",
       "   {'term': 'code', 'scheme': None, 'label': None},\n",
       "   {'term': 'Heroku', 'scheme': None, 'label': None}]},\n",
       " {'title': 'Code Challenge 28 - Integrate a Bokeh Chart Into Flask',\n",
       "  'title_detail': {'type': 'text/plain',\n",
       "   'language': None,\n",
       "   'base': 'http://projects.bobbelderbos.com/pcc/dates/all.rss.xml',\n",
       "   'value': 'Code Challenge 28 - Integrate a Bokeh Chart Into Flask'},\n",
       "  'links': [{'rel': 'alternate',\n",
       "    'type': 'text/html',\n",
       "    'href': 'https://pybit.es/codechallenge28.html'}],\n",
       "  'link': 'https://pybit.es/codechallenge28.html',\n",
       "  'summary': '<p>Hi Pythonistas, a new week, a new \\'bite\\' of Python coding! We are delighted to have Michael Herman (<a href=\"https://realpython.com\">Real Python</a>) deliver this week\\'s challenge. Prepare to learn some useful new skills and above all have fun!</p>',\n",
       "  'summary_detail': {'type': 'text/html',\n",
       "   'language': None,\n",
       "   'base': 'http://projects.bobbelderbos.com/pcc/dates/all.rss.xml',\n",
       "   'value': '<p>Hi Pythonistas, a new week, a new \\'bite\\' of Python coding! We are delighted to have Michael Herman (<a href=\"https://realpython.com\">Real Python</a>) deliver this week\\'s challenge. Prepare to learn some useful new skills and above all have fun!</p>'},\n",
       "  'authors': [{'name': 'Michael Herman'}],\n",
       "  'author': 'Michael Herman',\n",
       "  'author_detail': {'name': 'Michael Herman'},\n",
       "  'published': 'Tue, 18 Jul 2017 09:37:00 +0200',\n",
       "  'published_parsed': time.struct_time(tm_year=2017, tm_mon=7, tm_mday=18, tm_hour=7, tm_min=37, tm_sec=0, tm_wday=1, tm_yday=199, tm_isdst=0),\n",
       "  'id': 'tag:pybit.es,2017-07-18:/codechallenge28.html',\n",
       "  'guidislink': False,\n",
       "  'tags': [{'term': 'codechallenges', 'scheme': None, 'label': None},\n",
       "   {'term': 'Bokeh', 'scheme': None, 'label': None},\n",
       "   {'term': 'Flask', 'scheme': None, 'label': None},\n",
       "   {'term': 'RealPython', 'scheme': None, 'label': None},\n",
       "   {'term': 'guest', 'scheme': None, 'label': None},\n",
       "   {'term': 'data', 'scheme': None, 'label': None},\n",
       "   {'term': 'visualization', 'scheme': None, 'label': None},\n",
       "   {'term': 'Heroku', 'scheme': None, 'label': None}]},\n",
       " {'title': 'Code Challenge 27 - PRAW: The Python Reddit API Wrapper - Review',\n",
       "  'title_detail': {'type': 'text/plain',\n",
       "   'language': None,\n",
       "   'base': 'http://projects.bobbelderbos.com/pcc/dates/all.rss.xml',\n",
       "   'value': 'Code Challenge 27 - PRAW: The Python Reddit API Wrapper - Review'},\n",
       "  'links': [{'rel': 'alternate',\n",
       "    'type': 'text/html',\n",
       "    'href': 'https://pybit.es/codechallenge27_review.html'}],\n",
       "  'link': 'https://pybit.es/codechallenge27_review.html',\n",
       "  'summary': '<p>In this article we review last week\\'s <a href=\"http://pybit.es/codechallenge27.html\">PRAW: The Python Reddit API Wrapper</a> code challenge.</p>',\n",
       "  'summary_detail': {'type': 'text/html',\n",
       "   'language': None,\n",
       "   'base': 'http://projects.bobbelderbos.com/pcc/dates/all.rss.xml',\n",
       "   'value': '<p>In this article we review last week\\'s <a href=\"http://pybit.es/codechallenge27.html\">PRAW: The Python Reddit API Wrapper</a> code challenge.</p>'},\n",
       "  'authors': [{'name': 'PyBites'}],\n",
       "  'author': 'PyBites',\n",
       "  'author_detail': {'name': 'PyBites'},\n",
       "  'published': 'Tue, 18 Jul 2017 09:36:00 +0200',\n",
       "  'published_parsed': time.struct_time(tm_year=2017, tm_mon=7, tm_mday=18, tm_hour=7, tm_min=36, tm_sec=0, tm_wday=1, tm_yday=199, tm_isdst=0),\n",
       "  'id': 'tag:pybit.es,2017-07-18:/codechallenge27_review.html',\n",
       "  'guidislink': False,\n",
       "  'tags': [{'term': 'codechallenges', 'scheme': None, 'label': None},\n",
       "   {'term': 'reddit', 'scheme': None, 'label': None},\n",
       "   {'term': 'API', 'scheme': None, 'label': None},\n",
       "   {'term': 'PRAW', 'scheme': None, 'label': None},\n",
       "   {'term': 'dailyprogrammer', 'scheme': None, 'label': None},\n",
       "   {'term': 'post', 'scheme': None, 'label': None},\n",
       "   {'term': 'submission', 'scheme': None, 'label': None},\n",
       "   {'term': 'learnpython', 'scheme': None, 'label': None}]},\n",
       " {'title': 'First Steps Learning Django: PyPlanet Article Sharer App',\n",
       "  'title_detail': {'type': 'text/plain',\n",
       "   'language': None,\n",
       "   'base': 'http://projects.bobbelderbos.com/pcc/dates/all.rss.xml',\n",
       "   'value': 'First Steps Learning Django: PyPlanet Article Sharer App'},\n",
       "  'links': [{'rel': 'alternate',\n",
       "    'type': 'text/html',\n",
       "    'href': 'https://pybit.es/learning-django.html'}],\n",
       "  'link': 'https://pybit.es/learning-django.html',\n",
       "  'summary': '<p>In this post I share my first steps exploring Django. I created <a href=\"https://github.com/pybites/pyplanet-django\">PyPlanet Article Sharer Django App</a> to make it easier for us to share new <a href=\"http://planetpython.org\">Planet Python feed</a> articles. It loads in new articles and generates tweet links. It lets us mark each entry as Shared or Skipped. I am sure this will facilitate our <a href=\"https://twitter.com/pybites\">Twitter activity</a> and <a href=\"https://pybit.es/pages/news.html\">News Digests</a>. This is our first project of our <a href=\"https://pybit.es/special-100days-of-code.html\">100 days of Django</a> and our very first Django app overall!</p>',\n",
       "  'summary_detail': {'type': 'text/html',\n",
       "   'language': None,\n",
       "   'base': 'http://projects.bobbelderbos.com/pcc/dates/all.rss.xml',\n",
       "   'value': '<p>In this post I share my first steps exploring Django. I created <a href=\"https://github.com/pybites/pyplanet-django\">PyPlanet Article Sharer Django App</a> to make it easier for us to share new <a href=\"http://planetpython.org\">Planet Python feed</a> articles. It loads in new articles and generates tweet links. It lets us mark each entry as Shared or Skipped. I am sure this will facilitate our <a href=\"https://twitter.com/pybites\">Twitter activity</a> and <a href=\"https://pybit.es/pages/news.html\">News Digests</a>. This is our first project of our <a href=\"https://pybit.es/special-100days-of-code.html\">100 days of Django</a> and our very first Django app overall!</p>'},\n",
       "  'authors': [{'name': 'Bob'}],\n",
       "  'author': 'Bob',\n",
       "  'author_detail': {'name': 'Bob'},\n",
       "  'published': 'Mon, 17 Jul 2017 13:00:00 +0200',\n",
       "  'published_parsed': time.struct_time(tm_year=2017, tm_mon=7, tm_mday=17, tm_hour=11, tm_min=0, tm_sec=0, tm_wday=0, tm_yday=198, tm_isdst=0),\n",
       "  'id': 'tag:pybit.es,2017-07-17:/learning-django.html',\n",
       "  'guidislink': False,\n",
       "  'tags': [{'term': 'Django', 'scheme': None, 'label': None},\n",
       "   {'term': '100DaysOfDjango', 'scheme': None, 'label': None},\n",
       "   {'term': 'Planet Python', 'scheme': None, 'label': None},\n",
       "   {'term': 'Twitter', 'scheme': None, 'label': None},\n",
       "   {'term': 'tutorials', 'scheme': None, 'label': None},\n",
       "   {'term': 'resources', 'scheme': None, 'label': None}]},\n",
       " {'title': 'Twitter digest 2017 week 28',\n",
       "  'title_detail': {'type': 'text/plain',\n",
       "   'language': None,\n",
       "   'base': 'http://projects.bobbelderbos.com/pcc/dates/all.rss.xml',\n",
       "   'value': 'Twitter digest 2017 week 28'},\n",
       "  'links': [{'rel': 'alternate',\n",
       "    'type': 'text/html',\n",
       "    'href': 'https://pybit.es/twitter_digest_201728.html'}],\n",
       "  'link': 'https://pybit.es/twitter_digest_201728.html',\n",
       "  'summary': '<p>Every weekend we share a curated list of 15 cool things (mostly Python) that we found / tweeted throughout the week.</p>',\n",
       "  'summary_detail': {'type': 'text/html',\n",
       "   'language': None,\n",
       "   'base': 'http://projects.bobbelderbos.com/pcc/dates/all.rss.xml',\n",
       "   'value': '<p>Every weekend we share a curated list of 15 cool things (mostly Python) that we found / tweeted throughout the week.</p>'},\n",
       "  'authors': [{'name': 'PyBites'}],\n",
       "  'author': 'PyBites',\n",
       "  'author_detail': {'name': 'PyBites'},\n",
       "  'published': 'Sun, 16 Jul 2017 16:23:00 +0200',\n",
       "  'published_parsed': time.struct_time(tm_year=2017, tm_mon=7, tm_mday=16, tm_hour=14, tm_min=23, tm_sec=0, tm_wday=6, tm_yday=197, tm_isdst=0),\n",
       "  'id': 'tag:pybit.es,2017-07-16:/twitter_digest_201728.html',\n",
       "  'guidislink': False,\n",
       "  'tags': [{'term': 'twitter', 'scheme': None, 'label': None},\n",
       "   {'term': 'news', 'scheme': None, 'label': None},\n",
       "   {'term': 'tips', 'scheme': None, 'label': None},\n",
       "   {'term': 'python', 'scheme': None, 'label': None},\n",
       "   {'term': 'pybites', 'scheme': None, 'label': None},\n",
       "   {'term': 'PostgreSQL', 'scheme': None, 'label': None},\n",
       "   {'term': 'books', 'scheme': None, 'label': None},\n",
       "   {'term': 'resources', 'scheme': None, 'label': None},\n",
       "   {'term': 'pathlib', 'scheme': None, 'label': None},\n",
       "   {'term': 'Pyramid', 'scheme': None, 'label': None},\n",
       "   {'term': 'FAT', 'scheme': None, 'label': None},\n",
       "   {'term': 'audio', 'scheme': None, 'label': None},\n",
       "   {'term': 'machine learning', 'scheme': None, 'label': None},\n",
       "   {'term': 'pandas', 'scheme': None, 'label': None},\n",
       "   {'term': 'numpy', 'scheme': None, 'label': None},\n",
       "   {'term': 'tricks', 'scheme': None, 'label': None},\n",
       "   {'term': 'interview', 'scheme': None, 'label': None},\n",
       "   {'term': 'Fedora', 'scheme': None, 'label': None},\n",
       "   {'term': 'packaging', 'scheme': None, 'label': None},\n",
       "   {'term': 'deep learning', 'scheme': None, 'label': None},\n",
       "   {'term': 'Keras', 'scheme': None, 'label': None},\n",
       "   {'term': 'Flask', 'scheme': None, 'label': None},\n",
       "   {'term': 'Openpyxl', 'scheme': None, 'label': None}]},\n",
       " {'title': 'The Importance of Refactoring Code',\n",
       "  'title_detail': {'type': 'text/plain',\n",
       "   'language': None,\n",
       "   'base': 'http://projects.bobbelderbos.com/pcc/dates/all.rss.xml',\n",
       "   'value': 'The Importance of Refactoring Code'},\n",
       "  'links': [{'rel': 'alternate',\n",
       "    'type': 'text/html',\n",
       "    'href': 'https://pybit.es/refactoring.html'}],\n",
       "  'link': 'https://pybit.es/refactoring.html',\n",
       "  'summary': '<p>In this quick post I discuss why refactoring code is one of the most important parts of the learning process.</p>',\n",
       "  'summary_detail': {'type': 'text/html',\n",
       "   'language': None,\n",
       "   'base': 'http://projects.bobbelderbos.com/pcc/dates/all.rss.xml',\n",
       "   'value': '<p>In this quick post I discuss why refactoring code is one of the most important parts of the learning process.</p>'},\n",
       "  'authors': [{'name': 'Julian'}],\n",
       "  'author': 'Julian',\n",
       "  'author_detail': {'name': 'Julian'},\n",
       "  'published': 'Thu, 13 Jul 2017 19:02:00 +0200',\n",
       "  'published_parsed': time.struct_time(tm_year=2017, tm_mon=7, tm_mday=13, tm_hour=17, tm_min=2, tm_sec=0, tm_wday=3, tm_yday=194, tm_isdst=0),\n",
       "  'id': 'tag:pybit.es,2017-07-13:/refactoring.html',\n",
       "  'guidislink': False,\n",
       "  'tags': [{'term': 'python', 'scheme': None, 'label': None},\n",
       "   {'term': 'beginner', 'scheme': None, 'label': None},\n",
       "   {'term': 'learning', 'scheme': None, 'label': None},\n",
       "   {'term': 'examples', 'scheme': None, 'label': None},\n",
       "   {'term': 'code', 'scheme': None, 'label': None},\n",
       "   {'term': 'refactoring', 'scheme': None, 'label': None}]},\n",
       " {'title': 'Code Challenge 27 - PRAW: The Python Reddit API Wrapper',\n",
       "  'title_detail': {'type': 'text/plain',\n",
       "   'language': None,\n",
       "   'base': 'http://projects.bobbelderbos.com/pcc/dates/all.rss.xml',\n",
       "   'value': 'Code Challenge 27 - PRAW: The Python Reddit API Wrapper'},\n",
       "  'links': [{'rel': 'alternate',\n",
       "    'type': 'text/html',\n",
       "    'href': 'https://pybit.es/codechallenge27.html'}],\n",
       "  'link': 'https://pybit.es/codechallenge27.html',\n",
       "  'summary': \"<p>Hi Pythonistas, a new week, a new 'bite' of Python coding! Love or hate Reddit, it has a lot of good data to work with. This week we have you write an app of your choice using the Reddit API. Have fun!</p>\",\n",
       "  'summary_detail': {'type': 'text/html',\n",
       "   'language': None,\n",
       "   'base': 'http://projects.bobbelderbos.com/pcc/dates/all.rss.xml',\n",
       "   'value': \"<p>Hi Pythonistas, a new week, a new 'bite' of Python coding! Love or hate Reddit, it has a lot of good data to work with. This week we have you write an app of your choice using the Reddit API. Have fun!</p>\"},\n",
       "  'authors': [{'name': 'PyBites'}],\n",
       "  'author': 'PyBites',\n",
       "  'author_detail': {'name': 'PyBites'},\n",
       "  'published': 'Tue, 11 Jul 2017 11:00:00 +0200',\n",
       "  'published_parsed': time.struct_time(tm_year=2017, tm_mon=7, tm_mday=11, tm_hour=9, tm_min=0, tm_sec=0, tm_wday=1, tm_yday=192, tm_isdst=0),\n",
       "  'id': 'tag:pybit.es,2017-07-11:/codechallenge27.html',\n",
       "  'guidislink': False,\n",
       "  'tags': [{'term': 'codechallenges', 'scheme': None, 'label': None},\n",
       "   {'term': 'reddit', 'scheme': None, 'label': None},\n",
       "   {'term': 'API', 'scheme': None, 'label': None},\n",
       "   {'term': 'PRAW', 'scheme': None, 'label': None},\n",
       "   {'term': 'news', 'scheme': None, 'label': None},\n",
       "   {'term': 'dailyprogrammer', 'scheme': None, 'label': None},\n",
       "   {'term': 'data', 'scheme': None, 'label': None},\n",
       "   {'term': 'data analysis', 'scheme': None, 'label': None},\n",
       "   {'term': 'textblob', 'scheme': None, 'label': None},\n",
       "   {'term': 'bot', 'scheme': None, 'label': None},\n",
       "   {'term': 'word clouds', 'scheme': None, 'label': None},\n",
       "   {'term': 'nltk', 'scheme': None, 'label': None}]},\n",
       " {'title': 'Code Challenge 26 - Create a Simple Python GUI - Review',\n",
       "  'title_detail': {'type': 'text/plain',\n",
       "   'language': None,\n",
       "   'base': 'http://projects.bobbelderbos.com/pcc/dates/all.rss.xml',\n",
       "   'value': 'Code Challenge 26 - Create a Simple Python GUI - Review'},\n",
       "  'links': [{'rel': 'alternate',\n",
       "    'type': 'text/html',\n",
       "    'href': 'https://pybit.es/codechallenge26_review.html'}],\n",
       "  'link': 'https://pybit.es/codechallenge26_review.html',\n",
       "  'summary': '<p>In this article we review last week\\'s <a href=\"http://pybit.es/codechallenge26.html\">Create a Simple Python GUI</a> code challenge.</p>',\n",
       "  'summary_detail': {'type': 'text/html',\n",
       "   'language': None,\n",
       "   'base': 'http://projects.bobbelderbos.com/pcc/dates/all.rss.xml',\n",
       "   'value': '<p>In this article we review last week\\'s <a href=\"http://pybit.es/codechallenge26.html\">Create a Simple Python GUI</a> code challenge.</p>'},\n",
       "  'authors': [{'name': 'PyBites'}],\n",
       "  'author': 'PyBites',\n",
       "  'author_detail': {'name': 'PyBites'},\n",
       "  'published': 'Mon, 10 Jul 2017 11:30:00 +0200',\n",
       "  'published_parsed': time.struct_time(tm_year=2017, tm_mon=7, tm_mday=10, tm_hour=9, tm_min=30, tm_sec=0, tm_wday=0, tm_yday=191, tm_isdst=0),\n",
       "  'id': 'tag:pybit.es,2017-07-10:/codechallenge26_review.html',\n",
       "  'guidislink': False,\n",
       "  'tags': [{'term': 'codechallenges', 'scheme': None, 'label': None},\n",
       "   {'term': 'GUI', 'scheme': None, 'label': None},\n",
       "   {'term': 'tkinter', 'scheme': None, 'label': None},\n",
       "   {'term': 'easygui', 'scheme': None, 'label': None},\n",
       "   {'term': 'matplotlib', 'scheme': None, 'label': None},\n",
       "   {'term': 'pyTrack', 'scheme': None, 'label': None},\n",
       "   {'term': 'pygame', 'scheme': None, 'label': None}]},\n",
       " {'title': 'Twitter digest 2017 week 27',\n",
       "  'title_detail': {'type': 'text/plain',\n",
       "   'language': None,\n",
       "   'base': 'http://projects.bobbelderbos.com/pcc/dates/all.rss.xml',\n",
       "   'value': 'Twitter digest 2017 week 27'},\n",
       "  'links': [{'rel': 'alternate',\n",
       "    'type': 'text/html',\n",
       "    'href': 'https://pybit.es/twitter_digest_201727.html'}],\n",
       "  'link': 'https://pybit.es/twitter_digest_201727.html',\n",
       "  'summary': '<p>Every weekend we share a curated list of 15 cool things (mostly Python) that we found / tweeted throughout the week.</p>',\n",
       "  'summary_detail': {'type': 'text/html',\n",
       "   'language': None,\n",
       "   'base': 'http://projects.bobbelderbos.com/pcc/dates/all.rss.xml',\n",
       "   'value': '<p>Every weekend we share a curated list of 15 cool things (mostly Python) that we found / tweeted throughout the week.</p>'},\n",
       "  'authors': [{'name': 'PyBites'}],\n",
       "  'author': 'PyBites',\n",
       "  'author_detail': {'name': 'PyBites'},\n",
       "  'published': 'Sun, 09 Jul 2017 17:52:00 +0200',\n",
       "  'published_parsed': time.struct_time(tm_year=2017, tm_mon=7, tm_mday=9, tm_hour=15, tm_min=52, tm_sec=0, tm_wday=6, tm_yday=190, tm_isdst=0),\n",
       "  'id': 'tag:pybit.es,2017-07-09:/twitter_digest_201727.html',\n",
       "  'guidislink': False,\n",
       "  'tags': [{'term': 'twitter', 'scheme': None, 'label': None},\n",
       "   {'term': 'news', 'scheme': None, 'label': None},\n",
       "   {'term': 'tips', 'scheme': None, 'label': None},\n",
       "   {'term': 'python', 'scheme': None, 'label': None},\n",
       "   {'term': 'pybites', 'scheme': None, 'label': None},\n",
       "   {'term': 'raspberry pi', 'scheme': None, 'label': None},\n",
       "   {'term': 'matplotlib', 'scheme': None, 'label': None},\n",
       "   {'term': 'scikit', 'scheme': None, 'label': None},\n",
       "   {'term': 'Django', 'scheme': None, 'label': None},\n",
       "   {'term': 'flask', 'scheme': None, 'label': None},\n",
       "   {'term': 'ubuntu', 'scheme': None, 'label': None},\n",
       "   {'term': 'Lisp', 'scheme': None, 'label': None},\n",
       "   {'term': 'algorithms', 'scheme': None, 'label': None},\n",
       "   {'term': 'math', 'scheme': None, 'label': None},\n",
       "   {'term': 'pytest', 'scheme': None, 'label': None},\n",
       "   {'term': 'AWS', 'scheme': None, 'label': None},\n",
       "   {'term': 'scrapy', 'scheme': None, 'label': None},\n",
       "   {'term': 'jupyter', 'scheme': None, 'label': None}]},\n",
       " {'title': '200 Days of PyBites, 100 Days of Code and our Next Project',\n",
       "  'title_detail': {'type': 'text/plain',\n",
       "   'language': None,\n",
       "   'base': 'http://projects.bobbelderbos.com/pcc/dates/all.rss.xml',\n",
       "   'value': '200 Days of PyBites, 100 Days of Code and our Next Project'},\n",
       "  'links': [{'rel': 'alternate',\n",
       "    'type': 'text/html',\n",
       "    'href': 'https://pybit.es/special-100days-of-code.html'}],\n",
       "  'link': 'https://pybit.es/special-100days-of-code.html',\n",
       "  'summary': '<p><a href=\"https://twitter.com/pybites/status/883219041912987648\">We did it!</a> #100DaysOfCode is done: 5K lines of code, 100 scripts. Just on the day PyBites turns 200 days. In this article we will share our learning on this major project and announce our next 100 days effort ...</p>',\n",
       "  'summary_detail': {'type': 'text/html',\n",
       "   'language': None,\n",
       "   'base': 'http://projects.bobbelderbos.com/pcc/dates/all.rss.xml',\n",
       "   'value': '<p><a href=\"https://twitter.com/pybites/status/883219041912987648\">We did it!</a> #100DaysOfCode is done: 5K lines of code, 100 scripts. Just on the day PyBites turns 200 days. In this article we will share our learning on this major project and announce our next 100 days effort ...</p>'},\n",
       "  'authors': [{'name': 'PyBites'}],\n",
       "  'author': 'PyBites',\n",
       "  'author_detail': {'name': 'PyBites'},\n",
       "  'published': 'Fri, 07 Jul 2017 13:23:00 +0200',\n",
       "  'published_parsed': time.struct_time(tm_year=2017, tm_mon=7, tm_mday=7, tm_hour=11, tm_min=23, tm_sec=0, tm_wday=4, tm_yday=188, tm_isdst=0),\n",
       "  'id': 'tag:pybit.es,2017-07-07:/special-100days-of-code.html',\n",
       "  'guidislink': False,\n",
       "  'tags': [{'term': 'pybites', 'scheme': None, 'label': None},\n",
       "   {'term': '100DaysOfCode', 'scheme': None, 'label': None},\n",
       "   {'term': 'learning', 'scheme': None, 'label': None},\n",
       "   {'term': 'modules', 'scheme': None, 'label': None},\n",
       "   {'term': 'special', 'scheme': None, 'label': None},\n",
       "   {'term': 'milestone', 'scheme': None, 'label': None},\n",
       "   {'term': 'lessons', 'scheme': None, 'label': None},\n",
       "   {'term': 'community', 'scheme': None, 'label': None},\n",
       "   {'term': 'automation', 'scheme': None, 'label': None},\n",
       "   {'term': 'utilities', 'scheme': None, 'label': None},\n",
       "   {'term': 'scripts', 'scheme': None, 'label': None},\n",
       "   {'term': '100DaysOfDjango', 'scheme': None, 'label': None}]},\n",
       " {'title': 'From Challenge to Project - How I Made PyTrack, Learning Modules and Packaging',\n",
       "  'title_detail': {'type': 'text/plain',\n",
       "   'language': None,\n",
       "   'base': 'http://projects.bobbelderbos.com/pcc/dates/all.rss.xml',\n",
       "   'value': 'From Challenge to Project - How I Made PyTrack, Learning Modules and Packaging'},\n",
       "  'links': [{'rel': 'alternate',\n",
       "    'type': 'text/html',\n",
       "    'href': 'https://pybit.es/guest-pytrack-app.html'}],\n",
       "  'link': 'https://pybit.es/guest-pytrack-app.html',\n",
       "  'summary': '<p>This is a guest post by Martin, a passionate Pythonista who turns our code challenges into cool projects. In this article he describes his process of building <a href=\"https://github.com/clamytoe/pyTrack/\">pyTrack</a>, a simple task time tracker. Not only did he learn various Python modules - PeeWee, Maya and Click - he also stunned us delivering a project with great documentation and properly packaged code.</p>',\n",
       "  'summary_detail': {'type': 'text/html',\n",
       "   'language': None,\n",
       "   'base': 'http://projects.bobbelderbos.com/pcc/dates/all.rss.xml',\n",
       "   'value': '<p>This is a guest post by Martin, a passionate Pythonista who turns our code challenges into cool projects. In this article he describes his process of building <a href=\"https://github.com/clamytoe/pyTrack/\">pyTrack</a>, a simple task time tracker. Not only did he learn various Python modules - PeeWee, Maya and Click - he also stunned us delivering a project with great documentation and properly packaged code.</p>'},\n",
       "  'authors': [{'name': 'Martin Uribe'}],\n",
       "  'author': 'Martin Uribe',\n",
       "  'author_detail': {'name': 'Martin Uribe'},\n",
       "  'published': 'Fri, 07 Jul 2017 08:45:00 +0200',\n",
       "  'published_parsed': time.struct_time(tm_year=2017, tm_mon=7, tm_mday=7, tm_hour=6, tm_min=45, tm_sec=0, tm_wday=4, tm_yday=188, tm_isdst=0),\n",
       "  'id': 'tag:pybit.es,2017-07-07:/guest-pytrack-app.html',\n",
       "  'guidislink': False,\n",
       "  'tags': [{'term': 'challenges', 'scheme': None, 'label': None},\n",
       "   {'term': 'guest', 'scheme': None, 'label': None},\n",
       "   {'term': 'PyTrack', 'scheme': None, 'label': None},\n",
       "   {'term': 'packaging', 'scheme': None, 'label': None},\n",
       "   {'term': 'peewee', 'scheme': None, 'label': None},\n",
       "   {'term': 'click', 'scheme': None, 'label': None},\n",
       "   {'term': 'maya', 'scheme': None, 'label': None},\n",
       "   {'term': 'learning', 'scheme': None, 'label': None}]},\n",
       " {'title': 'Code Challenge 26 - Create a Simple Python GUI',\n",
       "  'title_detail': {'type': 'text/plain',\n",
       "   'language': None,\n",
       "   'base': 'http://projects.bobbelderbos.com/pcc/dates/all.rss.xml',\n",
       "   'value': 'Code Challenge 26 - Create a Simple Python GUI'},\n",
       "  'links': [{'rel': 'alternate',\n",
       "    'type': 'text/html',\n",
       "    'href': 'https://pybit.es/codechallenge26.html'}],\n",
       "  'link': 'https://pybit.es/codechallenge26.html',\n",
       "  'summary': \"<p>Hi Pythonistas, a new week, a new 'bite' of Python coding! Web apps tend to get all the love so it’s about time we shared the spotlight with GUIs. This week let’s take our first dive as a PyBites Community into Python GUIs!</p>\",\n",
       "  'summary_detail': {'type': 'text/html',\n",
       "   'language': None,\n",
       "   'base': 'http://projects.bobbelderbos.com/pcc/dates/all.rss.xml',\n",
       "   'value': \"<p>Hi Pythonistas, a new week, a new 'bite' of Python coding! Web apps tend to get all the love so it’s about time we shared the spotlight with GUIs. This week let’s take our first dive as a PyBites Community into Python GUIs!</p>\"},\n",
       "  'authors': [{'name': 'PyBites'}],\n",
       "  'author': 'PyBites',\n",
       "  'author_detail': {'name': 'PyBites'},\n",
       "  'published': 'Tue, 04 Jul 2017 20:30:00 +0200',\n",
       "  'published_parsed': time.struct_time(tm_year=2017, tm_mon=7, tm_mday=4, tm_hour=18, tm_min=30, tm_sec=0, tm_wday=1, tm_yday=185, tm_isdst=0),\n",
       "  'id': 'tag:pybit.es,2017-07-04:/codechallenge26.html',\n",
       "  'guidislink': False,\n",
       "  'tags': [{'term': 'codechallenges', 'scheme': None, 'label': None},\n",
       "   {'term': 'beginners', 'scheme': None, 'label': None},\n",
       "   {'term': 'GUI', 'scheme': None, 'label': None},\n",
       "   {'term': 'frameworks', 'scheme': None, 'label': None},\n",
       "   {'term': 'toolkits', 'scheme': None, 'label': None},\n",
       "   {'term': 'tkinter', 'scheme': None, 'label': None},\n",
       "   {'term': 'pygame', 'scheme': None, 'label': None}]},\n",
       " {'title': 'Code Challenge 25 - Notification Service of Now Playing and Upcoming Movies - Review',\n",
       "  'title_detail': {'type': 'text/plain',\n",
       "   'language': None,\n",
       "   'base': 'http://projects.bobbelderbos.com/pcc/dates/all.rss.xml',\n",
       "   'value': 'Code Challenge 25 - Notification Service of Now Playing and Upcoming Movies - Review'},\n",
       "  'links': [{'rel': 'alternate',\n",
       "    'type': 'text/html',\n",
       "    'href': 'https://pybit.es/codechallenge25_review.html'}],\n",
       "  'link': 'https://pybit.es/codechallenge25_review.html',\n",
       "  'summary': '<p>In this article we review last week\\'s <a href=\"http://pybit.es/codechallenge25.html\">Notification Service of Now Playing and Upcoming Movies</a> code challenge.</p>',\n",
       "  'summary_detail': {'type': 'text/html',\n",
       "   'language': None,\n",
       "   'base': 'http://projects.bobbelderbos.com/pcc/dates/all.rss.xml',\n",
       "   'value': '<p>In this article we review last week\\'s <a href=\"http://pybit.es/codechallenge25.html\">Notification Service of Now Playing and Upcoming Movies</a> code challenge.</p>'},\n",
       "  'authors': [{'name': 'PyBites'}],\n",
       "  'author': 'PyBites',\n",
       "  'author_detail': {'name': 'PyBites'},\n",
       "  'published': 'Mon, 03 Jul 2017 11:20:00 +0200',\n",
       "  'published_parsed': time.struct_time(tm_year=2017, tm_mon=7, tm_mday=3, tm_hour=9, tm_min=20, tm_sec=0, tm_wday=0, tm_yday=184, tm_isdst=0),\n",
       "  'id': 'tag:pybit.es,2017-07-03:/codechallenge25_review.html',\n",
       "  'guidislink': False,\n",
       "  'tags': [{'term': 'codechallenges', 'scheme': None, 'label': None},\n",
       "   {'term': 'movies', 'scheme': None, 'label': None},\n",
       "   {'term': 'series', 'scheme': None, 'label': None},\n",
       "   {'term': 'digest', 'scheme': None, 'label': None},\n",
       "   {'term': 'email', 'scheme': None, 'label': None},\n",
       "   {'term': 'themoviedb', 'scheme': None, 'label': None},\n",
       "   {'term': 'apis', 'scheme': None, 'label': None},\n",
       "   {'term': 'argparse', 'scheme': None, 'label': None},\n",
       "   {'term': 'requests', 'scheme': None, 'label': None},\n",
       "   {'term': 'mailgun', 'scheme': None, 'label': None}]},\n",
       " {'title': 'Twitter digest 2017 week 26',\n",
       "  'title_detail': {'type': 'text/plain',\n",
       "   'language': None,\n",
       "   'base': 'http://projects.bobbelderbos.com/pcc/dates/all.rss.xml',\n",
       "   'value': 'Twitter digest 2017 week 26'},\n",
       "  'links': [{'rel': 'alternate',\n",
       "    'type': 'text/html',\n",
       "    'href': 'https://pybit.es/twitter_digest_201726.html'}],\n",
       "  'link': 'https://pybit.es/twitter_digest_201726.html',\n",
       "  'summary': '<p>Every weekend we share a curated list of 15 cool things (mostly Python) that we found / tweeted throughout the week.</p>',\n",
       "  'summary_detail': {'type': 'text/html',\n",
       "   'language': None,\n",
       "   'base': 'http://projects.bobbelderbos.com/pcc/dates/all.rss.xml',\n",
       "   'value': '<p>Every weekend we share a curated list of 15 cool things (mostly Python) that we found / tweeted throughout the week.</p>'},\n",
       "  'authors': [{'name': 'PyBites'}],\n",
       "  'author': 'PyBites',\n",
       "  'author_detail': {'name': 'PyBites'},\n",
       "  'published': 'Sun, 02 Jul 2017 17:52:00 +0200',\n",
       "  'published_parsed': time.struct_time(tm_year=2017, tm_mon=7, tm_mday=2, tm_hour=15, tm_min=52, tm_sec=0, tm_wday=6, tm_yday=183, tm_isdst=0),\n",
       "  'id': 'tag:pybit.es,2017-07-02:/twitter_digest_201726.html',\n",
       "  'guidislink': False,\n",
       "  'tags': [{'term': 'twitter', 'scheme': None, 'label': None},\n",
       "   {'term': 'news', 'scheme': None, 'label': None},\n",
       "   {'term': 'tips', 'scheme': None, 'label': None},\n",
       "   {'term': 'python', 'scheme': None, 'label': None},\n",
       "   {'term': 'code', 'scheme': None, 'label': None},\n",
       "   {'term': 'Siri', 'scheme': None, 'label': None},\n",
       "   {'term': 'voice', 'scheme': None, 'label': None},\n",
       "   {'term': 'PGCLI', 'scheme': None, 'label': None},\n",
       "   {'term': 'MYCLI', 'scheme': None, 'label': None},\n",
       "   {'term': 'matplotlib', 'scheme': None, 'label': None},\n",
       "   {'term': 'data science', 'scheme': None, 'label': None},\n",
       "   {'term': 'MacOS', 'scheme': None, 'label': None},\n",
       "   {'term': 'MongoDB', 'scheme': None, 'label': None},\n",
       "   {'term': 'pymongo', 'scheme': None, 'label': None},\n",
       "   {'term': 'training', 'scheme': None, 'label': None},\n",
       "   {'term': 'Flask', 'scheme': None, 'label': None},\n",
       "   {'term': 'pydata', 'scheme': None, 'label': None},\n",
       "   {'term': 'type checking', 'scheme': None, 'label': None},\n",
       "   {'term': 'Django', 'scheme': None, 'label': None},\n",
       "   {'term': 'vim', 'scheme': None, 'label': None},\n",
       "   {'term': 'constructors', 'scheme': None, 'label': None},\n",
       "   {'term': 'Kubernetes', 'scheme': None, 'label': None}]},\n",
       " {'title': 'Flask Web Server Port Mapping',\n",
       "  'title_detail': {'type': 'text/plain',\n",
       "   'language': None,\n",
       "   'base': 'http://projects.bobbelderbos.com/pcc/dates/all.rss.xml',\n",
       "   'value': 'Flask Web Server Port Mapping'},\n",
       "  'links': [{'rel': 'alternate',\n",
       "    'type': 'text/html',\n",
       "    'href': 'https://pybit.es/flask-ports.html'}],\n",
       "  'link': 'https://pybit.es/flask-ports.html',\n",
       "  'summary': '<p>A quick post on Flask App port mapping</p>',\n",
       "  'summary_detail': {'type': 'text/html',\n",
       "   'language': None,\n",
       "   'base': 'http://projects.bobbelderbos.com/pcc/dates/all.rss.xml',\n",
       "   'value': '<p>A quick post on Flask App port mapping</p>'},\n",
       "  'authors': [{'name': 'Julian'}],\n",
       "  'author': 'Julian',\n",
       "  'author_detail': {'name': 'Julian'},\n",
       "  'published': 'Sat, 01 Jul 2017 20:31:00 +0200',\n",
       "  'published_parsed': time.struct_time(tm_year=2017, tm_mon=7, tm_mday=1, tm_hour=18, tm_min=31, tm_sec=0, tm_wday=5, tm_yday=182, tm_isdst=0),\n",
       "  'id': 'tag:pybit.es,2017-07-01:/flask-ports.html',\n",
       "  'guidislink': False,\n",
       "  'tags': [{'term': 'Flask', 'scheme': None, 'label': None},\n",
       "   {'term': 'python', 'scheme': None, 'label': None},\n",
       "   {'term': 'beginner', 'scheme': None, 'label': None},\n",
       "   {'term': 'learning', 'scheme': None, 'label': None},\n",
       "   {'term': 'ports', 'scheme': None, 'label': None},\n",
       "   {'term': 'apps', 'scheme': None, 'label': None}]},\n",
       " {'title': 'From Script to Project - Packaging Your Code in Python',\n",
       "  'title_detail': {'type': 'text/plain',\n",
       "   'language': None,\n",
       "   'base': 'http://projects.bobbelderbos.com/pcc/dates/all.rss.xml',\n",
       "   'value': 'From Script to Project - Packaging Your Code in Python'},\n",
       "  'links': [{'rel': 'alternate',\n",
       "    'type': 'text/html',\n",
       "    'href': 'https://pybit.es/python-packaging.html'}],\n",
       "  'link': 'https://pybit.es/python-packaging.html',\n",
       "  'summary': \"<p>This week's article is about packaging your Python code. Sounds daunting? Actually it is pretty simple.</p>\",\n",
       "  'summary_detail': {'type': 'text/html',\n",
       "   'language': None,\n",
       "   'base': 'http://projects.bobbelderbos.com/pcc/dates/all.rss.xml',\n",
       "   'value': \"<p>This week's article is about packaging your Python code. Sounds daunting? Actually it is pretty simple.</p>\"},\n",
       "  'authors': [{'name': 'Bob'}],\n",
       "  'author': 'Bob',\n",
       "  'author_detail': {'name': 'Bob'},\n",
       "  'published': 'Sat, 01 Jul 2017 10:45:00 +0200',\n",
       "  'published_parsed': time.struct_time(tm_year=2017, tm_mon=7, tm_mday=1, tm_hour=8, tm_min=45, tm_sec=0, tm_wday=5, tm_yday=182, tm_isdst=0),\n",
       "  'id': 'tag:pybit.es,2017-07-01:/python-packaging.html',\n",
       "  'guidislink': False,\n",
       "  'tags': [{'term': 'packaging', 'scheme': None, 'label': None},\n",
       "   {'term': 'modules', 'scheme': None, 'label': None},\n",
       "   {'term': 'init', 'scheme': None, 'label': None},\n",
       "   {'term': 'imports', 'scheme': None, 'label': None},\n",
       "   {'term': 'refactoring', 'scheme': None, 'label': None},\n",
       "   {'term': 'karma', 'scheme': None, 'label': None},\n",
       "   {'term': 'Twitter', 'scheme': None, 'label': None}]},\n",
       " {'title': 'Code Challenge 25 - Notification Service of Now Playing and Upcoming Movies',\n",
       "  'title_detail': {'type': 'text/plain',\n",
       "   'language': None,\n",
       "   'base': 'http://projects.bobbelderbos.com/pcc/dates/all.rss.xml',\n",
       "   'value': 'Code Challenge 25 - Notification Service of Now Playing and Upcoming Movies'},\n",
       "  'links': [{'rel': 'alternate',\n",
       "    'type': 'text/html',\n",
       "    'href': 'https://pybit.es/codechallenge25.html'}],\n",
       "  'link': 'https://pybit.es/codechallenge25.html',\n",
       "  'summary': \"<p>Hi Pythonistas, a new week, a new 'bite' of Python coding! What movies are in theaters now or just came out on your favorite streaming service? What are upcoming movies, when will they be released? Can I keep track of all new humor movies? Or what about that specific actor or director? Having a notification service around movies seems an interesting, fun and useful code challenge to us.</p>\",\n",
       "  'summary_detail': {'type': 'text/html',\n",
       "   'language': None,\n",
       "   'base': 'http://projects.bobbelderbos.com/pcc/dates/all.rss.xml',\n",
       "   'value': \"<p>Hi Pythonistas, a new week, a new 'bite' of Python coding! What movies are in theaters now or just came out on your favorite streaming service? What are upcoming movies, when will they be released? Can I keep track of all new humor movies? Or what about that specific actor or director? Having a notification service around movies seems an interesting, fun and useful code challenge to us.</p>\"},\n",
       "  'authors': [{'name': 'PyBites'}],\n",
       "  'author': 'PyBites',\n",
       "  'author_detail': {'name': 'PyBites'},\n",
       "  'published': 'Mon, 26 Jun 2017 13:40:00 +0200',\n",
       "  'published_parsed': time.struct_time(tm_year=2017, tm_mon=6, tm_mday=26, tm_hour=11, tm_min=40, tm_sec=0, tm_wday=0, tm_yday=177, tm_isdst=0),\n",
       "  'id': 'tag:pybit.es,2017-06-26:/codechallenge25.html',\n",
       "  'guidislink': False,\n",
       "  'tags': [{'term': 'codechallenges', 'scheme': None, 'label': None},\n",
       "   {'term': 'movies', 'scheme': None, 'label': None},\n",
       "   {'term': 'series', 'scheme': None, 'label': None},\n",
       "   {'term': 'digest', 'scheme': None, 'label': None},\n",
       "   {'term': 'email', 'scheme': None, 'label': None},\n",
       "   {'term': 'themoviedb', 'scheme': None, 'label': None},\n",
       "   {'term': 'imdb', 'scheme': None, 'label': None},\n",
       "   {'term': 'omdb', 'scheme': None, 'label': None},\n",
       "   {'term': 'apis', 'scheme': None, 'label': None}]},\n",
       " {'title': 'Code Challenge 24 - Use Dunder / Special Methods to Enrich a Class - Review',\n",
       "  'title_detail': {'type': 'text/plain',\n",
       "   'language': None,\n",
       "   'base': 'http://projects.bobbelderbos.com/pcc/dates/all.rss.xml',\n",
       "   'value': 'Code Challenge 24 - Use Dunder / Special Methods to Enrich a Class - Review'},\n",
       "  'links': [{'rel': 'alternate',\n",
       "    'type': 'text/html',\n",
       "    'href': 'https://pybit.es/codechallenge24_review.html'}],\n",
       "  'link': 'https://pybit.es/codechallenge24_review.html',\n",
       "  'summary': '<p>In this article we review last week\\'s <a href=\"http://pybit.es/codechallenge24.html\">Use Dunder / Special Methods to Enrich a Class</a> code challenge.</p>',\n",
       "  'summary_detail': {'type': 'text/html',\n",
       "   'language': None,\n",
       "   'base': 'http://projects.bobbelderbos.com/pcc/dates/all.rss.xml',\n",
       "   'value': '<p>In this article we review last week\\'s <a href=\"http://pybit.es/codechallenge24.html\">Use Dunder / Special Methods to Enrich a Class</a> code challenge.</p>'},\n",
       "  'authors': [{'name': 'PyBites'}],\n",
       "  'author': 'PyBites',\n",
       "  'author_detail': {'name': 'PyBites'},\n",
       "  'published': 'Mon, 26 Jun 2017 10:00:00 +0200',\n",
       "  'published_parsed': time.struct_time(tm_year=2017, tm_mon=6, tm_mday=26, tm_hour=8, tm_min=0, tm_sec=0, tm_wday=0, tm_yday=177, tm_isdst=0),\n",
       "  'id': 'tag:pybit.es,2017-06-26:/codechallenge24_review.html',\n",
       "  'guidislink': False,\n",
       "  'tags': [{'term': 'codechallenges', 'scheme': None, 'label': None},\n",
       "   {'term': 'dunders', 'scheme': None, 'label': None},\n",
       "   {'term': 'special methods', 'scheme': None, 'label': None},\n",
       "   {'term': 'magic methods', 'scheme': None, 'label': None},\n",
       "   {'term': 'classes', 'scheme': None, 'label': None},\n",
       "   {'term': 'polymorphism', 'scheme': None, 'label': None},\n",
       "   {'term': 'operator overloading', 'scheme': None, 'label': None},\n",
       "   {'term': 'guest', 'scheme': None, 'label': None}]},\n",
       " {'title': 'Building a Karma Bot with Python and the Slack API',\n",
       "  'title_detail': {'type': 'text/plain',\n",
       "   'language': None,\n",
       "   'base': 'http://projects.bobbelderbos.com/pcc/dates/all.rss.xml',\n",
       "   'value': 'Building a Karma Bot with Python and the Slack API'},\n",
       "  'links': [{'rel': 'alternate',\n",
       "    'type': 'text/html',\n",
       "    'href': 'https://pybit.es/slack-karma-bot.html'}],\n",
       "  'link': 'https://pybit.es/slack-karma-bot.html',\n",
       "  'summary': '<p>We love Slack! But what if we can make it even cooler? Imagine: you are geeking out with your fellow developers on Slack and you want to give them credit. Or you can write \"stupidsubject--\" and it automagically shows \"stupidsubject\\'s karma decreased to -2\". Enter <em>Karma Bot</em>. This is <a href=\"https://blog.hipchat.com/2016/05/02/meet-karma-bot/\">nothing new</a> but building one myself was a great learning exercise and a fun tool we use on our Slack now.</p>',\n",
       "  'summary_detail': {'type': 'text/html',\n",
       "   'language': None,\n",
       "   'base': 'http://projects.bobbelderbos.com/pcc/dates/all.rss.xml',\n",
       "   'value': '<p>We love Slack! But what if we can make it even cooler? Imagine: you are geeking out with your fellow developers on Slack and you want to give them credit. Or you can write \"stupidsubject--\" and it automagically shows \"stupidsubject\\'s karma decreased to -2\". Enter <em>Karma Bot</em>. This is <a href=\"https://blog.hipchat.com/2016/05/02/meet-karma-bot/\">nothing new</a> but building one myself was a great learning exercise and a fun tool we use on our Slack now.</p>'},\n",
       "  'authors': [{'name': 'Bob'}],\n",
       "  'author': 'Bob',\n",
       "  'author_detail': {'name': 'Bob'},\n",
       "  'published': 'Sun, 25 Jun 2017 20:00:00 +0200',\n",
       "  'published_parsed': time.struct_time(tm_year=2017, tm_mon=6, tm_mday=25, tm_hour=18, tm_min=0, tm_sec=0, tm_wday=6, tm_yday=176, tm_isdst=0),\n",
       "  'id': 'tag:pybit.es,2017-06-25:/slack-karma-bot.html',\n",
       "  'guidislink': False,\n",
       "  'tags': [{'term': 'Slack', 'scheme': None, 'label': None},\n",
       "   {'term': 'karma', 'scheme': None, 'label': None},\n",
       "   {'term': 'bot', 'scheme': None, 'label': None},\n",
       "   {'term': 'API', 'scheme': None, 'label': None},\n",
       "   {'term': 'picle', 'scheme': None, 'label': None},\n",
       "   {'term': 'packaging', 'scheme': None, 'label': None},\n",
       "   {'term': 'logging', 'scheme': None, 'label': None},\n",
       "   {'term': 'Counter', 'scheme': None, 'label': None}]},\n",
       " {'title': 'Twitter digest 2017 week 25',\n",
       "  'title_detail': {'type': 'text/plain',\n",
       "   'language': None,\n",
       "   'base': 'http://projects.bobbelderbos.com/pcc/dates/all.rss.xml',\n",
       "   'value': 'Twitter digest 2017 week 25'},\n",
       "  'links': [{'rel': 'alternate',\n",
       "    'type': 'text/html',\n",
       "    'href': 'https://pybit.es/twitter_digest_201725.html'}],\n",
       "  'link': 'https://pybit.es/twitter_digest_201725.html',\n",
       "  'summary': '<p>Every weekend we share a curated list of 15 cool things (mostly Python) that we found / tweeted throughout the week.</p>',\n",
       "  'summary_detail': {'type': 'text/html',\n",
       "   'language': None,\n",
       "   'base': 'http://projects.bobbelderbos.com/pcc/dates/all.rss.xml',\n",
       "   'value': '<p>Every weekend we share a curated list of 15 cool things (mostly Python) that we found / tweeted throughout the week.</p>'},\n",
       "  'authors': [{'name': 'PyBites'}],\n",
       "  'author': 'PyBites',\n",
       "  'author_detail': {'name': 'PyBites'},\n",
       "  'published': 'Sun, 25 Jun 2017 16:53:00 +0200',\n",
       "  'published_parsed': time.struct_time(tm_year=2017, tm_mon=6, tm_mday=25, tm_hour=14, tm_min=53, tm_sec=0, tm_wday=6, tm_yday=176, tm_isdst=0),\n",
       "  'id': 'tag:pybit.es,2017-06-25:/twitter_digest_201725.html',\n",
       "  'guidislink': False,\n",
       "  'tags': [{'term': 'twitter', 'scheme': None, 'label': None},\n",
       "   {'term': 'news', 'scheme': None, 'label': None},\n",
       "   {'term': 'tips', 'scheme': None, 'label': None},\n",
       "   {'term': 'python', 'scheme': None, 'label': None},\n",
       "   {'term': 'code', 'scheme': None, 'label': None},\n",
       "   {'term': 'data analysis', 'scheme': None, 'label': None},\n",
       "   {'term': 'audio', 'scheme': None, 'label': None},\n",
       "   {'term': 'scikit', 'scheme': None, 'label': None},\n",
       "   {'term': 'socketserver', 'scheme': None, 'label': None},\n",
       "   {'term': 'Django', 'scheme': None, 'label': None},\n",
       "   {'term': 'flask', 'scheme': None, 'label': None},\n",
       "   {'term': 'Peewee', 'scheme': None, 'label': None},\n",
       "   {'term': 'ORM', 'scheme': None, 'label': None},\n",
       "   {'term': 'variables', 'scheme': None, 'label': None},\n",
       "   {'term': 'raspberry pi', 'scheme': None, 'label': None},\n",
       "   {'term': 'type checking', 'scheme': None, 'label': None},\n",
       "   {'term': 'plotly', 'scheme': None, 'label': None},\n",
       "   {'term': 'data science', 'scheme': None, 'label': None},\n",
       "   {'term': 'machine learning', 'scheme': None, 'label': None},\n",
       "   {'term': 'solid', 'scheme': None, 'label': None},\n",
       "   {'term': 'cheatsheet', 'scheme': None, 'label': None}]},\n",
       " {'title': 'Module of the Week - Pendulum',\n",
       "  'title_detail': {'type': 'text/plain',\n",
       "   'language': None,\n",
       "   'base': 'http://projects.bobbelderbos.com/pcc/dates/all.rss.xml',\n",
       "   'value': 'Module of the Week - Pendulum'},\n",
       "  'links': [{'rel': 'alternate',\n",
       "    'type': 'text/html',\n",
       "    'href': 'https://pybit.es/pendulum.html'}],\n",
       "  'link': 'https://pybit.es/pendulum.html',\n",
       "  'summary': '<p>A brief overview of the Pendulum datetime module.</p>',\n",
       "  'summary_detail': {'type': 'text/html',\n",
       "   'language': None,\n",
       "   'base': 'http://projects.bobbelderbos.com/pcc/dates/all.rss.xml',\n",
       "   'value': '<p>A brief overview of the Pendulum datetime module.</p>'},\n",
       "  'authors': [{'name': 'Julian'}],\n",
       "  'author': 'Julian',\n",
       "  'author_detail': {'name': 'Julian'},\n",
       "  'published': 'Sat, 24 Jun 2017 09:00:00 +0200',\n",
       "  'published_parsed': time.struct_time(tm_year=2017, tm_mon=6, tm_mday=24, tm_hour=7, tm_min=0, tm_sec=0, tm_wday=5, tm_yday=175, tm_isdst=0),\n",
       "  'id': 'tag:pybit.es,2017-06-24:/pendulum.html',\n",
       "  'guidislink': False,\n",
       "  'tags': [{'term': 'python', 'scheme': None, 'label': None},\n",
       "   {'term': 'tips', 'scheme': None, 'label': None},\n",
       "   {'term': 'code', 'scheme': None, 'label': None},\n",
       "   {'term': 'pybites', 'scheme': None, 'label': None},\n",
       "   {'term': 'pendulum', 'scheme': None, 'label': None},\n",
       "   {'term': 'datetime', 'scheme': None, 'label': None},\n",
       "   {'term': 'pytz', 'scheme': None, 'label': None},\n",
       "   {'term': 'timezones', 'scheme': None, 'label': None}]},\n",
       " {'title': 'Code Challenge 24 - Use Dunder / Special Methods to Enrich a Class',\n",
       "  'title_detail': {'type': 'text/plain',\n",
       "   'language': None,\n",
       "   'base': 'http://projects.bobbelderbos.com/pcc/dates/all.rss.xml',\n",
       "   'value': 'Code Challenge 24 - Use Dunder / Special Methods to Enrich a Class'},\n",
       "  'links': [{'rel': 'alternate',\n",
       "    'type': 'text/html',\n",
       "    'href': 'https://pybit.es/codechallenge24.html'}],\n",
       "  'link': 'https://pybit.es/codechallenge24.html',\n",
       "  'summary': '<p>Hi Pythonistas, a new week, a new \\'bite\\' of Python coding! We wrote an article for Dan Bader\\'s Python blog: <a href=\"https://dbader.org/blog/python-dunder-methods\">Enriching Your Python Classes With Dunder (Magic, Special) Methods</a>. We hope you like it. To put dunders into practice we dedicate this week\\'s code challenge to it.</p>',\n",
       "  'summary_detail': {'type': 'text/html',\n",
       "   'language': None,\n",
       "   'base': 'http://projects.bobbelderbos.com/pcc/dates/all.rss.xml',\n",
       "   'value': '<p>Hi Pythonistas, a new week, a new \\'bite\\' of Python coding! We wrote an article for Dan Bader\\'s Python blog: <a href=\"https://dbader.org/blog/python-dunder-methods\">Enriching Your Python Classes With Dunder (Magic, Special) Methods</a>. We hope you like it. To put dunders into practice we dedicate this week\\'s code challenge to it.</p>'},\n",
       "  'authors': [{'name': 'PyBites'}],\n",
       "  'author': 'PyBites',\n",
       "  'author_detail': {'name': 'PyBites'},\n",
       "  'published': 'Tue, 20 Jun 2017 09:50:00 +0200',\n",
       "  'published_parsed': time.struct_time(tm_year=2017, tm_mon=6, tm_mday=20, tm_hour=7, tm_min=50, tm_sec=0, tm_wday=1, tm_yday=171, tm_isdst=0),\n",
       "  'id': 'tag:pybit.es,2017-06-20:/codechallenge24.html',\n",
       "  'guidislink': False,\n",
       "  'tags': [{'term': 'codechallenges', 'scheme': None, 'label': None},\n",
       "   {'term': 'dunders', 'scheme': None, 'label': None},\n",
       "   {'term': 'special methods', 'scheme': None, 'label': None},\n",
       "   {'term': 'magic methods', 'scheme': None, 'label': None},\n",
       "   {'term': 'classes', 'scheme': None, 'label': None},\n",
       "   {'term': 'polymorphism', 'scheme': None, 'label': None},\n",
       "   {'term': 'operator overloading', 'scheme': None, 'label': None},\n",
       "   {'term': 'guest', 'scheme': None, 'label': None}]},\n",
       " {'title': 'Code Challenge 23 - Challenge Estimated Time API - Review',\n",
       "  'title_detail': {'type': 'text/plain',\n",
       "   'language': None,\n",
       "   'base': 'http://projects.bobbelderbos.com/pcc/dates/all.rss.xml',\n",
       "   'value': 'Code Challenge 23 - Challenge Estimated Time API - Review'},\n",
       "  'links': [{'rel': 'alternate',\n",
       "    'type': 'text/html',\n",
       "    'href': 'https://pybit.es/codechallenge23_review.html'}],\n",
       "  'link': 'https://pybit.es/codechallenge23_review.html',\n",
       "  'summary': '<p>In this article we review last week\\'s <a href=\"http://pybit.es/codechallenge23.html\">Challenge Estimated Time API</a>. This was a cool challenge and we implemented it using Github\\'s awesome platform and <a href=\"https://developer.github.com/v3/\">API</a>.</p>',\n",
       "  'summary_detail': {'type': 'text/html',\n",
       "   'language': None,\n",
       "   'base': 'http://projects.bobbelderbos.com/pcc/dates/all.rss.xml',\n",
       "   'value': '<p>In this article we review last week\\'s <a href=\"http://pybit.es/codechallenge23.html\">Challenge Estimated Time API</a>. This was a cool challenge and we implemented it using Github\\'s awesome platform and <a href=\"https://developer.github.com/v3/\">API</a>.</p>'},\n",
       "  'authors': [{'name': 'PyBites'}],\n",
       "  'author': 'PyBites',\n",
       "  'author_detail': {'name': 'PyBites'},\n",
       "  'published': 'Sun, 18 Jun 2017 21:32:00 +0200',\n",
       "  'published_parsed': time.struct_time(tm_year=2017, tm_mon=6, tm_mday=18, tm_hour=19, tm_min=32, tm_sec=0, tm_wday=6, tm_yday=169, tm_isdst=0),\n",
       "  'id': 'tag:pybit.es,2017-06-18:/codechallenge23_review.html',\n",
       "  'guidislink': False,\n",
       "  'tags': [{'term': 'codechallenges', 'scheme': None, 'label': None},\n",
       "   {'term': 'APIs', 'scheme': None, 'label': None},\n",
       "   {'term': 'Github', 'scheme': None, 'label': None},\n",
       "   {'term': 'PyGithub', 'scheme': None, 'label': None},\n",
       "   {'term': 'PR template', 'scheme': None, 'label': None},\n",
       "   {'term': 'tracking', 'scheme': None, 'label': None},\n",
       "   {'term': 'meta', 'scheme': None, 'label': None},\n",
       "   {'term': 'data', 'scheme': None, 'label': None},\n",
       "   {'term': 'platform', 'scheme': None, 'label': None},\n",
       "   {'term': 'packaging', 'scheme': None, 'label': None},\n",
       "   {'term': 'peewee', 'scheme': None, 'label': None},\n",
       "   {'term': 'click', 'scheme': None, 'label': None},\n",
       "   {'term': 'maya', 'scheme': None, 'label': None}]},\n",
       " {'title': 'Twitter digest 2017 week 24',\n",
       "  'title_detail': {'type': 'text/plain',\n",
       "   'language': None,\n",
       "   'base': 'http://projects.bobbelderbos.com/pcc/dates/all.rss.xml',\n",
       "   'value': 'Twitter digest 2017 week 24'},\n",
       "  'links': [{'rel': 'alternate',\n",
       "    'type': 'text/html',\n",
       "    'href': 'https://pybit.es/twitter_digest_201724.html'}],\n",
       "  'link': 'https://pybit.es/twitter_digest_201724.html',\n",
       "  'summary': '<p>Every weekend we share a curated list of 15 cool things (mostly Python) that we found / tweeted throughout the week.</p>',\n",
       "  'summary_detail': {'type': 'text/html',\n",
       "   'language': None,\n",
       "   'base': 'http://projects.bobbelderbos.com/pcc/dates/all.rss.xml',\n",
       "   'value': '<p>Every weekend we share a curated list of 15 cool things (mostly Python) that we found / tweeted throughout the week.</p>'},\n",
       "  'authors': [{'name': 'PyBites'}],\n",
       "  'author': 'PyBites',\n",
       "  'author_detail': {'name': 'PyBites'},\n",
       "  'published': 'Sun, 18 Jun 2017 19:00:00 +0200',\n",
       "  'published_parsed': time.struct_time(tm_year=2017, tm_mon=6, tm_mday=18, tm_hour=17, tm_min=0, tm_sec=0, tm_wday=6, tm_yday=169, tm_isdst=0),\n",
       "  'id': 'tag:pybit.es,2017-06-18:/twitter_digest_201724.html',\n",
       "  'guidislink': False,\n",
       "  'tags': [{'term': 'twitter', 'scheme': None, 'label': None},\n",
       "   {'term': 'news', 'scheme': None, 'label': None},\n",
       "   {'term': 'tips', 'scheme': None, 'label': None},\n",
       "   {'term': 'python', 'scheme': None, 'label': None},\n",
       "   {'term': 'Postgres', 'scheme': None, 'label': None},\n",
       "   {'term': 'JSON', 'scheme': None, 'label': None},\n",
       "   {'term': 'Rest', 'scheme': None, 'label': None},\n",
       "   {'term': 'API', 'scheme': None, 'label': None},\n",
       "   {'term': 'Strings', 'scheme': None, 'label': None},\n",
       "   {'term': 'Docker', 'scheme': None, 'label': None},\n",
       "   {'term': 'Flask', 'scheme': None, 'label': None},\n",
       "   {'term': 'React', 'scheme': None, 'label': None},\n",
       "   {'term': 'AWS', 'scheme': None, 'label': None},\n",
       "   {'term': 'learning', 'scheme': None, 'label': None},\n",
       "   {'term': 'Py', 'scheme': None, 'label': None},\n",
       "   {'term': 'Instagram', 'scheme': None, 'label': None},\n",
       "   {'term': 'data science', 'scheme': None, 'label': None},\n",
       "   {'term': 'charts', 'scheme': None, 'label': None},\n",
       "   {'term': 'NASA', 'scheme': None, 'label': None},\n",
       "   {'term': 'Faker', 'scheme': None, 'label': None},\n",
       "   {'term': 'GitHub', 'scheme': None, 'label': None},\n",
       "   {'term': 'Readme', 'scheme': None, 'label': None},\n",
       "   {'term': 'indentation', 'scheme': None, 'label': None},\n",
       "   {'term': 'data analysis', 'scheme': None, 'label': None},\n",
       "   {'term': 'twilio', 'scheme': None, 'label': None}]},\n",
       " {'title': 'Parsing Twitter Geo Data and Mocking API Calls by Example',\n",
       "  'title_detail': {'type': 'text/plain',\n",
       "   'language': None,\n",
       "   'base': 'http://projects.bobbelderbos.com/pcc/dates/all.rss.xml',\n",
       "   'value': 'Parsing Twitter Geo Data and Mocking API Calls by Example'},\n",
       "  'links': [{'rel': 'alternate',\n",
       "    'type': 'text/html',\n",
       "    'href': 'https://pybit.es/twitter-api-geodata-mocking.html'}],\n",
       "  'link': 'https://pybit.es/twitter-api-geodata-mocking.html',\n",
       "  'summary': '<p><a href=\"https://twitter.com/anthonypjshaw/status/875275923930480641\">\"Is this Bob or Julian?!\"</a> ... yeah tweeting from our shared <a href=\"https://twitter.com/pybites\">@pybites Twitter account</a> can be confusing! So I made a little script to parse the location of our tweets. Then I extended it to make it testable. I wrote a <a href=\"https://pybit.es/codechallenge14.html\">decorator</a> to cache a couple of API outputs to be used with the unittest.mock patch decorator I learned about. A simple script turned into a good learning exercise.</p>',\n",
       "  'summary_detail': {'type': 'text/html',\n",
       "   'language': None,\n",
       "   'base': 'http://projects.bobbelderbos.com/pcc/dates/all.rss.xml',\n",
       "   'value': '<p><a href=\"https://twitter.com/anthonypjshaw/status/875275923930480641\">\"Is this Bob or Julian?!\"</a> ... yeah tweeting from our shared <a href=\"https://twitter.com/pybites\">@pybites Twitter account</a> can be confusing! So I made a little script to parse the location of our tweets. Then I extended it to make it testable. I wrote a <a href=\"https://pybit.es/codechallenge14.html\">decorator</a> to cache a couple of API outputs to be used with the unittest.mock patch decorator I learned about. A simple script turned into a good learning exercise.</p>'},\n",
       "  'authors': [{'name': 'Bob'}],\n",
       "  'author': 'Bob',\n",
       "  'author_detail': {'name': 'Bob'},\n",
       "  'published': 'Sat, 17 Jun 2017 23:55:00 +0200',\n",
       "  'published_parsed': time.struct_time(tm_year=2017, tm_mon=6, tm_mday=17, tm_hour=21, tm_min=55, tm_sec=0, tm_wday=5, tm_yday=168, tm_isdst=0),\n",
       "  'id': 'tag:pybit.es,2017-06-17:/twitter-api-geodata-mocking.html',\n",
       "  'guidislink': False,\n",
       "  'tags': [{'term': 'twitter', 'scheme': None, 'label': None},\n",
       "   {'term': 'API', 'scheme': None, 'label': None},\n",
       "   {'term': 'mock', 'scheme': None, 'label': None},\n",
       "   {'term': 'geo', 'scheme': None, 'label': None},\n",
       "   {'term': 'data', 'scheme': None, 'label': None},\n",
       "   {'term': 'unittest', 'scheme': None, 'label': None},\n",
       "   {'term': 'pickle', 'scheme': None, 'label': None},\n",
       "   {'term': 'tweepy', 'scheme': None, 'label': None},\n",
       "   {'term': 'testing', 'scheme': None, 'label': None},\n",
       "   {'term': '100days', 'scheme': None, 'label': None}]},\n",
       " {'title': 'How to Write a Python Subclass',\n",
       "  'title_detail': {'type': 'text/plain',\n",
       "   'language': None,\n",
       "   'base': 'http://projects.bobbelderbos.com/pcc/dates/all.rss.xml',\n",
       "   'value': 'How to Write a Python Subclass'},\n",
       "  'links': [{'rel': 'alternate',\n",
       "    'type': 'text/html',\n",
       "    'href': 'https://pybit.es/python-subclasses.html'}],\n",
       "  'link': 'https://pybit.es/python-subclasses.html',\n",
       "  'summary': '<p>In this article I cover Python subclasses and inheritance using a relatable code example scenario.</p>',\n",
       "  'summary_detail': {'type': 'text/html',\n",
       "   'language': None,\n",
       "   'base': 'http://projects.bobbelderbos.com/pcc/dates/all.rss.xml',\n",
       "   'value': '<p>In this article I cover Python subclasses and inheritance using a relatable code example scenario.</p>'},\n",
       "  'authors': [{'name': 'Julian'}],\n",
       "  'author': 'Julian',\n",
       "  'author_detail': {'name': 'Julian'},\n",
       "  'published': 'Sat, 17 Jun 2017 19:37:00 +0200',\n",
       "  'published_parsed': time.struct_time(tm_year=2017, tm_mon=6, tm_mday=17, tm_hour=17, tm_min=37, tm_sec=0, tm_wday=5, tm_yday=168, tm_isdst=0),\n",
       "  'id': 'tag:pybit.es,2017-06-17:/python-subclasses.html',\n",
       "  'guidislink': False,\n",
       "  'tags': [{'term': 'learning', 'scheme': None, 'label': None},\n",
       "   {'term': 'code', 'scheme': None, 'label': None},\n",
       "   {'term': 'programming', 'scheme': None, 'label': None},\n",
       "   {'term': 'python', 'scheme': None, 'label': None},\n",
       "   {'term': 'classes', 'scheme': None, 'label': None},\n",
       "   {'term': 'beginners', 'scheme': None, 'label': None}]},\n",
       " {'title': 'Code Challenge 23 - Challenge Estimated Time API',\n",
       "  'title_detail': {'type': 'text/plain',\n",
       "   'language': None,\n",
       "   'base': 'http://projects.bobbelderbos.com/pcc/dates/all.rss.xml',\n",
       "   'value': 'Code Challenge 23 - Challenge Estimated Time API'},\n",
       "  'links': [{'rel': 'alternate',\n",
       "    'type': 'text/html',\n",
       "    'href': 'https://pybit.es/codechallenge23.html'}],\n",
       "  'link': 'https://pybit.es/codechallenge23.html',\n",
       "  'summary': \"<p>Hi Pythonistas, a new week, a new 'bite' of Python coding! This week we will give you the opportunity to enhance our challenge platform by creating a simple API to track how much time our challenges take (and possibly other metadata).</p>\",\n",
       "  'summary_detail': {'type': 'text/html',\n",
       "   'language': None,\n",
       "   'base': 'http://projects.bobbelderbos.com/pcc/dates/all.rss.xml',\n",
       "   'value': \"<p>Hi Pythonistas, a new week, a new 'bite' of Python coding! This week we will give you the opportunity to enhance our challenge platform by creating a simple API to track how much time our challenges take (and possibly other metadata).</p>\"},\n",
       "  'authors': [{'name': 'PyBites'}],\n",
       "  'author': 'PyBites',\n",
       "  'author_detail': {'name': 'PyBites'},\n",
       "  'published': 'Tue, 13 Jun 2017 11:20:00 +0200',\n",
       "  'published_parsed': time.struct_time(tm_year=2017, tm_mon=6, tm_mday=13, tm_hour=9, tm_min=20, tm_sec=0, tm_wday=1, tm_yday=164, tm_isdst=0),\n",
       "  'id': 'tag:pybit.es,2017-06-13:/codechallenge23.html',\n",
       "  'guidislink': False,\n",
       "  'tags': [{'term': 'codechallenges', 'scheme': None, 'label': None},\n",
       "   {'term': 'APIs', 'scheme': None, 'label': None},\n",
       "   {'term': 'Github', 'scheme': None, 'label': None},\n",
       "   {'term': 'Slack', 'scheme': None, 'label': None},\n",
       "   {'term': 'Flask', 'scheme': None, 'label': None},\n",
       "   {'term': 'tracking', 'scheme': None, 'label': None},\n",
       "   {'term': 'meta', 'scheme': None, 'label': None},\n",
       "   {'term': 'data', 'scheme': None, 'label': None},\n",
       "   {'term': 'platform', 'scheme': None, 'label': None}]},\n",
       " {'title': 'Code Challenge 22 - Packt Free Ebook Web Scraper - Review',\n",
       "  'title_detail': {'type': 'text/plain',\n",
       "   'language': None,\n",
       "   'base': 'http://projects.bobbelderbos.com/pcc/dates/all.rss.xml',\n",
       "   'value': 'Code Challenge 22 - Packt Free Ebook Web Scraper - Review'},\n",
       "  'links': [{'rel': 'alternate',\n",
       "    'type': 'text/html',\n",
       "    'href': 'https://pybit.es/codechallenge22_review.html'}],\n",
       "  'link': 'https://pybit.es/codechallenge22_review.html',\n",
       "  'summary': '<p>In this article we review last week\\'s <a href=\"http://pybit.es/codechallenge22.html\">Packt free ebook code challenge</a>. We really scratched our own itch building both a notification service and an ebook download manager.</p>',\n",
       "  'summary_detail': {'type': 'text/html',\n",
       "   'language': None,\n",
       "   'base': 'http://projects.bobbelderbos.com/pcc/dates/all.rss.xml',\n",
       "   'value': '<p>In this article we review last week\\'s <a href=\"http://pybit.es/codechallenge22.html\">Packt free ebook code challenge</a>. We really scratched our own itch building both a notification service and an ebook download manager.</p>'},\n",
       "  'authors': [{'name': 'PyBites'}],\n",
       "  'author': 'PyBites',\n",
       "  'author_detail': {'name': 'PyBites'},\n",
       "  'published': 'Mon, 12 Jun 2017 13:00:00 +0200',\n",
       "  'published_parsed': time.struct_time(tm_year=2017, tm_mon=6, tm_mday=12, tm_hour=11, tm_min=0, tm_sec=0, tm_wday=0, tm_yday=163, tm_isdst=0),\n",
       "  'id': 'tag:pybit.es,2017-06-12:/codechallenge22_review.html',\n",
       "  'guidislink': False,\n",
       "  'tags': [{'term': 'codechallenges', 'scheme': None, 'label': None},\n",
       "   {'term': 'webscraping', 'scheme': None, 'label': None},\n",
       "   {'term': 'BeautifulSoup', 'scheme': None, 'label': None},\n",
       "   {'term': 'Selenium', 'scheme': None, 'label': None},\n",
       "   {'term': 'Packt', 'scheme': None, 'label': None},\n",
       "   {'term': 'Pybonacci', 'scheme': None, 'label': None},\n",
       "   {'term': 'ebooks', 'scheme': None, 'label': None},\n",
       "   {'term': 'community', 'scheme': None, 'label': None},\n",
       "   {'term': 'automation', 'scheme': None, 'label': None},\n",
       "   {'term': 'sponsoring', 'scheme': None, 'label': None}]},\n",
       " {'title': 'Twitter digest 2017 week 23',\n",
       "  'title_detail': {'type': 'text/plain',\n",
       "   'language': None,\n",
       "   'base': 'http://projects.bobbelderbos.com/pcc/dates/all.rss.xml',\n",
       "   'value': 'Twitter digest 2017 week 23'},\n",
       "  'links': [{'rel': 'alternate',\n",
       "    'type': 'text/html',\n",
       "    'href': 'https://pybit.es/twitter_digest_201723.html'}],\n",
       "  'link': 'https://pybit.es/twitter_digest_201723.html',\n",
       "  'summary': '<p>Every weekend we share a curated list of 15 cool things (mostly Python) that we found / tweeted throughout the week.</p>',\n",
       "  'summary_detail': {'type': 'text/html',\n",
       "   'language': None,\n",
       "   'base': 'http://projects.bobbelderbos.com/pcc/dates/all.rss.xml',\n",
       "   'value': '<p>Every weekend we share a curated list of 15 cool things (mostly Python) that we found / tweeted throughout the week.</p>'},\n",
       "  'authors': [{'name': 'PyBites'}],\n",
       "  'author': 'PyBites',\n",
       "  'author_detail': {'name': 'PyBites'},\n",
       "  'published': 'Sun, 11 Jun 2017 19:48:00 +0200',\n",
       "  'published_parsed': time.struct_time(tm_year=2017, tm_mon=6, tm_mday=11, tm_hour=17, tm_min=48, tm_sec=0, tm_wday=6, tm_yday=162, tm_isdst=0),\n",
       "  'id': 'tag:pybit.es,2017-06-11:/twitter_digest_201723.html',\n",
       "  'guidislink': False,\n",
       "  'tags': [{'term': 'twitter', 'scheme': None, 'label': None},\n",
       "   {'term': 'news', 'scheme': None, 'label': None},\n",
       "   {'term': 'tips', 'scheme': None, 'label': None},\n",
       "   {'term': 'python', 'scheme': None, 'label': None},\n",
       "   {'term': 'Elizabeth', 'scheme': None, 'label': None},\n",
       "   {'term': 'books', 'scheme': None, 'label': None},\n",
       "   {'term': 'packtpub', 'scheme': None, 'label': None},\n",
       "   {'term': 'data analysis', 'scheme': None, 'label': None},\n",
       "   {'term': 'objects', 'scheme': None, 'label': None},\n",
       "   {'term': 'sentiment analysis', 'scheme': None, 'label': None},\n",
       "   {'term': 'VADER', 'scheme': None, 'label': None},\n",
       "   {'term': 'matplotlib', 'scheme': None, 'label': None},\n",
       "   {'term': 'pandas', 'scheme': None, 'label': None},\n",
       "   {'term': 'help', 'scheme': None, 'label': None},\n",
       "   {'term': 'R', 'scheme': None, 'label': None},\n",
       "   {'term': 'machine learning', 'scheme': None, 'label': None},\n",
       "   {'term': 'cli', 'scheme': None, 'label': None},\n",
       "   {'term': 'Django', 'scheme': None, 'label': None},\n",
       "   {'term': 'REST', 'scheme': None, 'label': None},\n",
       "   {'term': 'Pelican', 'scheme': None, 'label': None},\n",
       "   {'term': 'Jinja2', 'scheme': None, 'label': None},\n",
       "   {'term': 'asyncio', 'scheme': None, 'label': None},\n",
       "   {'term': 'learning', 'scheme': None, 'label': None},\n",
       "   {'term': 'coding', 'scheme': None, 'label': None}]},\n",
       " {'title': 'Using Python Requests on a Page Behind a Login',\n",
       "  'title_detail': {'type': 'text/plain',\n",
       "   'language': None,\n",
       "   'base': 'http://projects.bobbelderbos.com/pcc/dates/all.rss.xml',\n",
       "   'value': 'Using Python Requests on a Page Behind a Login'},\n",
       "  'links': [{'rel': 'alternate',\n",
       "    'type': 'text/html',\n",
       "    'href': 'https://pybit.es/requests-session.html'}],\n",
       "  'link': 'https://pybit.es/requests-session.html',\n",
       "  'summary': '<p>In this post I discuss using the requests module on web pages behind a login</p>',\n",
       "  'summary_detail': {'type': 'text/html',\n",
       "   'language': None,\n",
       "   'base': 'http://projects.bobbelderbos.com/pcc/dates/all.rss.xml',\n",
       "   'value': '<p>In this post I discuss using the requests module on web pages behind a login</p>'},\n",
       "  'authors': [{'name': 'Julian'}],\n",
       "  'author': 'Julian',\n",
       "  'author_detail': {'name': 'Julian'},\n",
       "  'published': 'Fri, 09 Jun 2017 21:48:00 +0200',\n",
       "  'published_parsed': time.struct_time(tm_year=2017, tm_mon=6, tm_mday=9, tm_hour=19, tm_min=48, tm_sec=0, tm_wday=4, tm_yday=160, tm_isdst=0),\n",
       "  'id': 'tag:pybit.es,2017-06-09:/requests-session.html',\n",
       "  'guidislink': False,\n",
       "  'tags': [{'term': 'requests', 'scheme': None, 'label': None},\n",
       "   {'term': 'code', 'scheme': None, 'label': None},\n",
       "   {'term': 'web scraping', 'scheme': None, 'label': None},\n",
       "   {'term': 'python', 'scheme': None, 'label': None}]},\n",
       " {'title': 'Next Time I Will Use Pandas to Parse Html Tables',\n",
       "  'title_detail': {'type': 'text/plain',\n",
       "   'language': None,\n",
       "   'base': 'http://projects.bobbelderbos.com/pcc/dates/all.rss.xml',\n",
       "   'value': 'Next Time I Will Use Pandas to Parse Html Tables'},\n",
       "  'links': [{'rel': 'alternate',\n",
       "    'type': 'text/html',\n",
       "    'href': 'https://pybit.es/pandas-parse-html-table.html'}],\n",
       "  'link': 'https://pybit.es/pandas-parse-html-table.html',\n",
       "  'summary': '<p>Last week I did some html table parsing with BeautifulSoup and regex. It turns out there is an easier way to do this: Pandas.</p>',\n",
       "  'summary_detail': {'type': 'text/html',\n",
       "   'language': None,\n",
       "   'base': 'http://projects.bobbelderbos.com/pcc/dates/all.rss.xml',\n",
       "   'value': '<p>Last week I did some html table parsing with BeautifulSoup and regex. It turns out there is an easier way to do this: Pandas.</p>'},\n",
       "  'authors': [{'name': 'Bob'}],\n",
       "  'author': 'Bob',\n",
       "  'author_detail': {'name': 'Bob'},\n",
       "  'published': 'Thu, 08 Jun 2017 12:46:00 +0200',\n",
       "  'published_parsed': time.struct_time(tm_year=2017, tm_mon=6, tm_mday=8, tm_hour=10, tm_min=46, tm_sec=0, tm_wday=3, tm_yday=159, tm_isdst=0),\n",
       "  'id': 'tag:pybit.es,2017-06-08:/pandas-parse-html-table.html',\n",
       "  'guidislink': False,\n",
       "  'tags': [{'term': 'BeautifulSoup', 'scheme': None, 'label': None},\n",
       "   {'term': 'regex', 'scheme': None, 'label': None},\n",
       "   {'term': 'Pandas', 'scheme': None, 'label': None},\n",
       "   {'term': 'parsing', 'scheme': None, 'label': None},\n",
       "   {'term': 'data', 'scheme': None, 'label': None},\n",
       "   {'term': 'data cleaning', 'scheme': None, 'label': None},\n",
       "   {'term': 'energy', 'scheme': None, 'label': None},\n",
       "   {'term': 'json', 'scheme': None, 'label': None},\n",
       "   {'term': 'csv', 'scheme': None, 'label': None},\n",
       "   {'term': 'html', 'scheme': None, 'label': None}]},\n",
       " {'title': 'Code Challenge 22 - Packt Free Ebook Web Scraper',\n",
       "  'title_detail': {'type': 'text/plain',\n",
       "   'language': None,\n",
       "   'base': 'http://projects.bobbelderbos.com/pcc/dates/all.rss.xml',\n",
       "   'value': 'Code Challenge 22 - Packt Free Ebook Web Scraper'},\n",
       "  'links': [{'rel': 'alternate',\n",
       "    'type': 'text/html',\n",
       "    'href': 'https://pybit.es/codechallenge22.html'}],\n",
       "  'link': 'https://pybit.es/codechallenge22.html',\n",
       "  'summary': \"<p>Hi Pythonistas, a new week, a new 'bite' of Python coding! This week we will do some web scraping of Packt's daily free ebook, sending out daily notifications. This week we even have a unique opportunity to sponsor the Python Community, read on ... and happy coding!</p>\",\n",
       "  'summary_detail': {'type': 'text/html',\n",
       "   'language': None,\n",
       "   'base': 'http://projects.bobbelderbos.com/pcc/dates/all.rss.xml',\n",
       "   'value': \"<p>Hi Pythonistas, a new week, a new 'bite' of Python coding! This week we will do some web scraping of Packt's daily free ebook, sending out daily notifications. This week we even have a unique opportunity to sponsor the Python Community, read on ... and happy coding!</p>\"},\n",
       "  'authors': [{'name': 'PyBites'}],\n",
       "  'author': 'PyBites',\n",
       "  'author_detail': {'name': 'PyBites'},\n",
       "  'published': 'Mon, 05 Jun 2017 11:20:00 +0200',\n",
       "  'published_parsed': time.struct_time(tm_year=2017, tm_mon=6, tm_mday=5, tm_hour=9, tm_min=20, tm_sec=0, tm_wday=0, tm_yday=156, tm_isdst=0),\n",
       "  'id': 'tag:pybit.es,2017-06-05:/codechallenge22.html',\n",
       "  'guidislink': False,\n",
       "  'tags': [{'term': 'codechallenges', 'scheme': None, 'label': None},\n",
       "   {'term': 'webscraping', 'scheme': None, 'label': None},\n",
       "   {'term': 'BeautifulSoup', 'scheme': None, 'label': None},\n",
       "   {'term': 'Selenium', 'scheme': None, 'label': None},\n",
       "   {'term': 'Packt', 'scheme': None, 'label': None},\n",
       "   {'term': 'Pybonacci', 'scheme': None, 'label': None},\n",
       "   {'term': 'ebooks', 'scheme': None, 'label': None},\n",
       "   {'term': 'community', 'scheme': None, 'label': None},\n",
       "   {'term': 'automation', 'scheme': None, 'label': None},\n",
       "   {'term': 'sponsoring', 'scheme': None, 'label': None}]},\n",
       " {'title': 'Code Challenge 21 - Electricity Cost Calculation App - Review',\n",
       "  'title_detail': {'type': 'text/plain',\n",
       "   'language': None,\n",
       "   'base': 'http://projects.bobbelderbos.com/pcc/dates/all.rss.xml',\n",
       "   'value': 'Code Challenge 21 - Electricity Cost Calculation App - Review'},\n",
       "  'links': [{'rel': 'alternate',\n",
       "    'type': 'text/html',\n",
       "    'href': 'https://pybit.es/codechallenge21_review.html'}],\n",
       "  'link': 'https://pybit.es/codechallenge21_review.html',\n",
       "  'summary': '<p>In this article we review this week\\'s <a href=\"http://pybit.es/codechallenge21.html\">code challenge #21</a> for which we got some nice PRs.</p>',\n",
       "  'summary_detail': {'type': 'text/html',\n",
       "   'language': None,\n",
       "   'base': 'http://projects.bobbelderbos.com/pcc/dates/all.rss.xml',\n",
       "   'value': '<p>In this article we review this week\\'s <a href=\"http://pybit.es/codechallenge21.html\">code challenge #21</a> for which we got some nice PRs.</p>'},\n",
       "  'authors': [{'name': 'PyBites'}],\n",
       "  'author': 'PyBites',\n",
       "  'author_detail': {'name': 'PyBites'},\n",
       "  'published': 'Mon, 05 Jun 2017 11:15:00 +0200',\n",
       "  'published_parsed': time.struct_time(tm_year=2017, tm_mon=6, tm_mday=5, tm_hour=9, tm_min=15, tm_sec=0, tm_wday=0, tm_yday=156, tm_isdst=0),\n",
       "  'id': 'tag:pybit.es,2017-06-05:/codechallenge21_review.html',\n",
       "  'guidislink': False,\n",
       "  'tags': [{'term': 'codechallenges', 'scheme': None, 'label': None},\n",
       "   {'term': 'calculation', 'scheme': None, 'label': None},\n",
       "   {'term': 'electricity', 'scheme': None, 'label': None},\n",
       "   {'term': 'Flask', 'scheme': None, 'label': None},\n",
       "   {'term': 'Django', 'scheme': None, 'label': None},\n",
       "   {'term': 'cli', 'scheme': None, 'label': None},\n",
       "   {'term': 'data', 'scheme': None, 'label': None},\n",
       "   {'term': 'BeautifulSoup', 'scheme': None, 'label': None},\n",
       "   {'term': 'Python Anywhere', 'scheme': None, 'label': None},\n",
       "   {'term': 'Pythonista 3', 'scheme': None, 'label': None}]},\n",
       " {'title': 'Twitter digest 2017 week 22',\n",
       "  'title_detail': {'type': 'text/plain',\n",
       "   'language': None,\n",
       "   'base': 'http://projects.bobbelderbos.com/pcc/dates/all.rss.xml',\n",
       "   'value': 'Twitter digest 2017 week 22'},\n",
       "  'links': [{'rel': 'alternate',\n",
       "    'type': 'text/html',\n",
       "    'href': 'https://pybit.es/twitter_digest_201722.html'}],\n",
       "  'link': 'https://pybit.es/twitter_digest_201722.html',\n",
       "  'summary': '<p>Every weekend we share a curated list of 15 cool things (mostly Python) that we found / tweeted throughout the week.</p>',\n",
       "  'summary_detail': {'type': 'text/html',\n",
       "   'language': None,\n",
       "   'base': 'http://projects.bobbelderbos.com/pcc/dates/all.rss.xml',\n",
       "   'value': '<p>Every weekend we share a curated list of 15 cool things (mostly Python) that we found / tweeted throughout the week.</p>'},\n",
       "  'authors': [{'name': 'PyBites'}],\n",
       "  'author': 'PyBites',\n",
       "  'author_detail': {'name': 'PyBites'},\n",
       "  'published': 'Sun, 04 Jun 2017 21:08:00 +0200',\n",
       "  'published_parsed': time.struct_time(tm_year=2017, tm_mon=6, tm_mday=4, tm_hour=19, tm_min=8, tm_sec=0, tm_wday=6, tm_yday=155, tm_isdst=0),\n",
       "  'id': 'tag:pybit.es,2017-06-04:/twitter_digest_201722.html',\n",
       "  'guidislink': False,\n",
       "  'tags': [{'term': 'twitter', 'scheme': None, 'label': None},\n",
       "   {'term': 'news', 'scheme': None, 'label': None},\n",
       "   {'term': 'tips', 'scheme': None, 'label': None},\n",
       "   {'term': 'python', 'scheme': None, 'label': None},\n",
       "   {'term': 'packages', 'scheme': None, 'label': None},\n",
       "   {'term': 'pandas', 'scheme': None, 'label': None},\n",
       "   {'term': 'video', 'scheme': None, 'label': None},\n",
       "   {'term': 'data science', 'scheme': None, 'label': None},\n",
       "   {'term': 'cloud', 'scheme': None, 'label': None},\n",
       "   {'term': 'json', 'scheme': None, 'label': None},\n",
       "   {'term': 'podcasts', 'scheme': None, 'label': None},\n",
       "   {'term': 'puzzles', 'scheme': None, 'label': None},\n",
       "   {'term': 'arrays', 'scheme': None, 'label': None},\n",
       "   {'term': 'finance', 'scheme': None, 'label': None},\n",
       "   {'term': 'classes', 'scheme': None, 'label': None},\n",
       "   {'term': 'jupyter', 'scheme': None, 'label': None},\n",
       "   {'term': 'pathlib', 'scheme': None, 'label': None},\n",
       "   {'term': 'signalconf', 'scheme': None, 'label': None}]},\n",
       " {'title': 'Flask Sessions',\n",
       "  'title_detail': {'type': 'text/plain',\n",
       "   'language': None,\n",
       "   'base': 'http://projects.bobbelderbos.com/pcc/dates/all.rss.xml',\n",
       "   'value': 'Flask Sessions'},\n",
       "  'links': [{'rel': 'alternate',\n",
       "    'type': 'text/html',\n",
       "    'href': 'https://pybit.es/flask-sessions.html'}],\n",
       "  'link': 'https://pybit.es/flask-sessions.html',\n",
       "  'summary': '<p>In this quick post I discuss Flask Sessions and provide a few use cases.</p>',\n",
       "  'summary_detail': {'type': 'text/html',\n",
       "   'language': None,\n",
       "   'base': 'http://projects.bobbelderbos.com/pcc/dates/all.rss.xml',\n",
       "   'value': '<p>In this quick post I discuss Flask Sessions and provide a few use cases.</p>'},\n",
       "  'authors': [{'name': 'Julian'}],\n",
       "  'author': 'Julian',\n",
       "  'author_detail': {'name': 'Julian'},\n",
       "  'published': 'Fri, 02 Jun 2017 21:57:00 +0200',\n",
       "  'published_parsed': time.struct_time(tm_year=2017, tm_mon=6, tm_mday=2, tm_hour=19, tm_min=57, tm_sec=0, tm_wday=4, tm_yday=153, tm_isdst=0),\n",
       "  'id': 'tag:pybit.es,2017-06-02:/flask-sessions.html',\n",
       "  'guidislink': False,\n",
       "  'tags': [{'term': 'Flask', 'scheme': None, 'label': None},\n",
       "   {'term': 'python', 'scheme': None, 'label': None},\n",
       "   {'term': 'beginner', 'scheme': None, 'label': None},\n",
       "   {'term': 'sessions', 'scheme': None, 'label': None},\n",
       "   {'term': 'learning', 'scheme': None, 'label': None},\n",
       "   {'term': 'examples', 'scheme': None, 'label': None},\n",
       "   {'term': 'code', 'scheme': None, 'label': None}]},\n",
       " {'title': 'OOP Beyond the Basics: Using Properties for Encapsulation, Computation and Refactoring',\n",
       "  'title_detail': {'type': 'text/plain',\n",
       "   'language': None,\n",
       "   'base': 'http://projects.bobbelderbos.com/pcc/dates/all.rss.xml',\n",
       "   'value': 'OOP Beyond the Basics: Using Properties for Encapsulation, Computation and Refactoring'},\n",
       "  'links': [{'rel': 'alternate',\n",
       "    'type': 'text/html',\n",
       "    'href': 'https://pybit.es/property-decorator.html'}],\n",
       "  'link': 'https://pybit.es/property-decorator.html',\n",
       "  'summary': \"<p>In this article I share my learning of the property decorator coding a simple Account class. I think it's an unmissable tool in your (Python) OOP toolkit.</p>\",\n",
       "  'summary_detail': {'type': 'text/html',\n",
       "   'language': None,\n",
       "   'base': 'http://projects.bobbelderbos.com/pcc/dates/all.rss.xml',\n",
       "   'value': \"<p>In this article I share my learning of the property decorator coding a simple Account class. I think it's an unmissable tool in your (Python) OOP toolkit.</p>\"},\n",
       "  'authors': [{'name': 'Bob'}],\n",
       "  'author': 'Bob',\n",
       "  'author_detail': {'name': 'Bob'},\n",
       "  'published': 'Wed, 31 May 2017 12:00:00 +0200',\n",
       "  'published_parsed': time.struct_time(tm_year=2017, tm_mon=5, tm_mday=31, tm_hour=10, tm_min=0, tm_sec=0, tm_wday=2, tm_yday=151, tm_isdst=0),\n",
       "  'id': 'tag:pybit.es,2017-05-31:/property-decorator.html',\n",
       "  'guidislink': False,\n",
       "  'tags': [{'term': 'oop', 'scheme': None, 'label': None},\n",
       "   {'term': 'property', 'scheme': None, 'label': None},\n",
       "   {'term': 'decorators', 'scheme': None, 'label': None},\n",
       "   {'term': 'encapsulation', 'scheme': None, 'label': None},\n",
       "   {'term': 'computation', 'scheme': None, 'label': None},\n",
       "   {'term': 'dunder', 'scheme': None, 'label': None},\n",
       "   {'term': 'refactoring', 'scheme': None, 'label': None},\n",
       "   {'term': 'pytest', 'scheme': None, 'label': None},\n",
       "   {'term': '2vs3', 'scheme': None, 'label': None},\n",
       "   {'term': 'getter', 'scheme': None, 'label': None},\n",
       "   {'term': 'setter', 'scheme': None, 'label': None}]},\n",
       " {'title': 'Code Challenge 21 - Electricity Cost Calculation App',\n",
       "  'title_detail': {'type': 'text/plain',\n",
       "   'language': None,\n",
       "   'base': 'http://projects.bobbelderbos.com/pcc/dates/all.rss.xml',\n",
       "   'value': 'Code Challenge 21 - Electricity Cost Calculation App'},\n",
       "  'links': [{'rel': 'alternate',\n",
       "    'type': 'text/html',\n",
       "    'href': 'https://pybit.es/codechallenge21.html'}],\n",
       "  'link': 'https://pybit.es/codechallenge21.html',\n",
       "  'summary': \"<p>Hi Pythonistas, a new week, a new 'bite' of Python coding! This week we will get you to create a simple app to calculate the monetary cost of using an electrical device. Enjoy!</p>\",\n",
       "  'summary_detail': {'type': 'text/html',\n",
       "   'language': None,\n",
       "   'base': 'http://projects.bobbelderbos.com/pcc/dates/all.rss.xml',\n",
       "   'value': \"<p>Hi Pythonistas, a new week, a new 'bite' of Python coding! This week we will get you to create a simple app to calculate the monetary cost of using an electrical device. Enjoy!</p>\"},\n",
       "  'authors': [{'name': 'PyBites'}],\n",
       "  'author': 'PyBites',\n",
       "  'author_detail': {'name': 'PyBites'},\n",
       "  'published': 'Mon, 29 May 2017 11:00:00 +0200',\n",
       "  'published_parsed': time.struct_time(tm_year=2017, tm_mon=5, tm_mday=29, tm_hour=9, tm_min=0, tm_sec=0, tm_wday=0, tm_yday=149, tm_isdst=0),\n",
       "  'id': 'tag:pybit.es,2017-05-29:/codechallenge21.html',\n",
       "  'guidislink': False,\n",
       "  'tags': [{'term': 'codechallenges', 'scheme': None, 'label': None},\n",
       "   {'term': 'calculation', 'scheme': None, 'label': None},\n",
       "   {'term': 'math', 'scheme': None, 'label': None},\n",
       "   {'term': 'electricity', 'scheme': None, 'label': None},\n",
       "   {'term': 'beginner', 'scheme': None, 'label': None},\n",
       "   {'term': 'GUI', 'scheme': None, 'label': None},\n",
       "   {'term': 'TkInter', 'scheme': None, 'label': None},\n",
       "   {'term': 'Flask', 'scheme': None, 'label': None},\n",
       "   {'term': 'newquote', 'scheme': None, 'label': None}]},\n",
       " {'title': 'Code Challenge 20 - Object Oriented Programming Fun - Review',\n",
       "  'title_detail': {'type': 'text/plain',\n",
       "   'language': None,\n",
       "   'base': 'http://projects.bobbelderbos.com/pcc/dates/all.rss.xml',\n",
       "   'value': 'Code Challenge 20 - Object Oriented Programming Fun - Review'},\n",
       "  'links': [{'rel': 'alternate',\n",
       "    'type': 'text/html',\n",
       "    'href': 'https://pybit.es/codechallenge20_review.html'}],\n",
       "  'link': 'https://pybit.es/codechallenge20_review.html',\n",
       "  'summary': '<p>It\\'s review time again. Wow: <a href=\"http://pybit.es/codechallenge20.html\">challenge #20</a> already! We can\\'t believe we have worked through so many already. We also keep receiving amazing PRs, awesome!</p>',\n",
       "  'summary_detail': {'type': 'text/html',\n",
       "   'language': None,\n",
       "   'base': 'http://projects.bobbelderbos.com/pcc/dates/all.rss.xml',\n",
       "   'value': '<p>It\\'s review time again. Wow: <a href=\"http://pybit.es/codechallenge20.html\">challenge #20</a> already! We can\\'t believe we have worked through so many already. We also keep receiving amazing PRs, awesome!</p>'},\n",
       "  'authors': [{'name': 'PyBites'}],\n",
       "  'author': 'PyBites',\n",
       "  'author_detail': {'name': 'PyBites'},\n",
       "  'published': 'Mon, 29 May 2017 09:00:00 +0200',\n",
       "  'published_parsed': time.struct_time(tm_year=2017, tm_mon=5, tm_mday=29, tm_hour=7, tm_min=0, tm_sec=0, tm_wday=0, tm_yday=149, tm_isdst=0),\n",
       "  'id': 'tag:pybit.es,2017-05-29:/codechallenge20_review.html',\n",
       "  'guidislink': False,\n",
       "  'tags': [{'term': 'codechallenges', 'scheme': None, 'label': None},\n",
       "   {'term': 'learning', 'scheme': None, 'label': None},\n",
       "   {'term': 'OOP', 'scheme': None, 'label': None},\n",
       "   {'term': 'object oriented', 'scheme': None, 'label': None},\n",
       "   {'term': 'inheritance', 'scheme': None, 'label': None},\n",
       "   {'term': 'dunder', 'scheme': None, 'label': None},\n",
       "   {'term': 'games', 'scheme': None, 'label': None},\n",
       "   {'term': 'adventure', 'scheme': None, 'label': None},\n",
       "   {'term': 'warcraft', 'scheme': None, 'label': None},\n",
       "   {'term': 'Twilio', 'scheme': None, 'label': None},\n",
       "   {'term': 'karma', 'scheme': None, 'label': None},\n",
       "   {'term': 'Rooms', 'scheme': None, 'label': None}]},\n",
       " {'title': 'Twitter digest 2017 week 21',\n",
       "  'title_detail': {'type': 'text/plain',\n",
       "   'language': None,\n",
       "   'base': 'http://projects.bobbelderbos.com/pcc/dates/all.rss.xml',\n",
       "   'value': 'Twitter digest 2017 week 21'},\n",
       "  'links': [{'rel': 'alternate',\n",
       "    'type': 'text/html',\n",
       "    'href': 'https://pybit.es/twitter_digest_201721.html'}],\n",
       "  'link': 'https://pybit.es/twitter_digest_201721.html',\n",
       "  'summary': '<p>Every weekend we share a curated list of 15 cool things (mostly Python) that we found / tweeted throughout the week.</p>',\n",
       "  'summary_detail': {'type': 'text/html',\n",
       "   'language': None,\n",
       "   'base': 'http://projects.bobbelderbos.com/pcc/dates/all.rss.xml',\n",
       "   'value': '<p>Every weekend we share a curated list of 15 cool things (mostly Python) that we found / tweeted throughout the week.</p>'},\n",
       "  'authors': [{'name': 'PyBites'}],\n",
       "  'author': 'PyBites',\n",
       "  'author_detail': {'name': 'PyBites'},\n",
       "  'published': 'Sun, 28 May 2017 20:01:00 +0200',\n",
       "  'published_parsed': time.struct_time(tm_year=2017, tm_mon=5, tm_mday=28, tm_hour=18, tm_min=1, tm_sec=0, tm_wday=6, tm_yday=148, tm_isdst=0),\n",
       "  'id': 'tag:pybit.es,2017-05-28:/twitter_digest_201721.html',\n",
       "  'guidislink': False,\n",
       "  'tags': [{'term': 'twitter', 'scheme': None, 'label': None},\n",
       "   {'term': 'news', 'scheme': None, 'label': None},\n",
       "   {'term': 'tips', 'scheme': None, 'label': None},\n",
       "   {'term': 'python', 'scheme': None, 'label': None},\n",
       "   {'term': 'books', 'scheme': None, 'label': None},\n",
       "   {'term': 'pycon2017', 'scheme': None, 'label': None},\n",
       "   {'term': 'pip', 'scheme': None, 'label': None},\n",
       "   {'term': 'PEP', 'scheme': None, 'label': None},\n",
       "   {'term': 'pyPI', 'scheme': None, 'label': None},\n",
       "   {'term': 'Elizabeth', 'scheme': None, 'label': None},\n",
       "   {'term': 'machine learning', 'scheme': None, 'label': None},\n",
       "   {'term': 'boilerplates', 'scheme': None, 'label': None},\n",
       "   {'term': 'open source', 'scheme': None, 'label': None},\n",
       "   {'term': 'pycharm', 'scheme': None, 'label': None},\n",
       "   {'term': 'copy', 'scheme': None, 'label': None},\n",
       "   {'term': 'pytest', 'scheme': None, 'label': None},\n",
       "   {'term': 'memory', 'scheme': None, 'label': None},\n",
       "   {'term': 'tkinter', 'scheme': None, 'label': None},\n",
       "   {'term': 'bokeh', 'scheme': None, 'label': None},\n",
       "   {'term': 'flask', 'scheme': None, 'label': None},\n",
       "   {'term': 'dicts', 'scheme': None, 'label': None},\n",
       "   {'term': 'gitsuggest', 'scheme': None, 'label': None}]},\n",
       " {'title': 'How to Write a Python Class',\n",
       "  'title_detail': {'type': 'text/plain',\n",
       "   'language': None,\n",
       "   'base': 'http://projects.bobbelderbos.com/pcc/dates/all.rss.xml',\n",
       "   'value': 'How to Write a Python Class'},\n",
       "  'links': [{'rel': 'alternate',\n",
       "    'type': 'text/html',\n",
       "    'href': 'https://pybit.es/python-classes.html'}],\n",
       "  'link': 'https://pybit.es/python-classes.html',\n",
       "  'summary': '<p>In this post I cover learning Python classes by walking through one of our 100 days of code submissions.</p>',\n",
       "  'summary_detail': {'type': 'text/html',\n",
       "   'language': None,\n",
       "   'base': 'http://projects.bobbelderbos.com/pcc/dates/all.rss.xml',\n",
       "   'value': '<p>In this post I cover learning Python classes by walking through one of our 100 days of code submissions.</p>'},\n",
       "  'authors': [{'name': 'Julian'}],\n",
       "  'author': 'Julian',\n",
       "  'author_detail': {'name': 'Julian'},\n",
       "  'published': 'Thu, 25 May 2017 20:37:00 +0200',\n",
       "  'published_parsed': time.struct_time(tm_year=2017, tm_mon=5, tm_mday=25, tm_hour=18, tm_min=37, tm_sec=0, tm_wday=3, tm_yday=145, tm_isdst=0),\n",
       "  'id': 'tag:pybit.es,2017-05-25:/python-classes.html',\n",
       "  'guidislink': False,\n",
       "  'tags': [{'term': 'learning', 'scheme': None, 'label': None},\n",
       "   {'term': 'code', 'scheme': None, 'label': None},\n",
       "   {'term': 'programming', 'scheme': None, 'label': None},\n",
       "   {'term': 'python', 'scheme': None, 'label': None},\n",
       "   {'term': 'classes', 'scheme': None, 'label': None},\n",
       "   {'term': 'beginners', 'scheme': None, 'label': None}]},\n",
       " {'title': 'PyCon 2017 - Digest, Impressions, Reflection',\n",
       "  'title_detail': {'type': 'text/plain',\n",
       "   'language': None,\n",
       "   'base': 'http://projects.bobbelderbos.com/pcc/dates/all.rss.xml',\n",
       "   'value': 'PyCon 2017 - Digest, Impressions, Reflection'},\n",
       "  'links': [{'rel': 'alternate',\n",
       "    'type': 'text/html',\n",
       "    'href': 'https://pybit.es/pycon-2017.html'}],\n",
       "  'link': 'https://pybit.es/pycon-2017.html',\n",
       "  'summary': '<p>PyCon 2017 was such a great conference, I made so many good connections, got to see many good things the community is working on. It was very inspiring. In this article a digest.</p>',\n",
       "  'summary_detail': {'type': 'text/html',\n",
       "   'language': None,\n",
       "   'base': 'http://projects.bobbelderbos.com/pcc/dates/all.rss.xml',\n",
       "   'value': '<p>PyCon 2017 was such a great conference, I made so many good connections, got to see many good things the community is working on. It was very inspiring. In this article a digest.</p>'},\n",
       "  'authors': [{'name': 'Bob'}],\n",
       "  'author': 'Bob',\n",
       "  'author_detail': {'name': 'Bob'},\n",
       "  'published': 'Wed, 24 May 2017 12:00:00 +0200',\n",
       "  'published_parsed': time.struct_time(tm_year=2017, tm_mon=5, tm_mday=24, tm_hour=10, tm_min=0, tm_sec=0, tm_wday=2, tm_yday=144, tm_isdst=0),\n",
       "  'id': 'tag:pybit.es,2017-05-24:/pycon-2017.html',\n",
       "  'guidislink': False,\n",
       "  'tags': [{'term': 'conference', 'scheme': None, 'label': None},\n",
       "   {'term': 'pycon', 'scheme': None, 'label': None},\n",
       "   {'term': 'learning', 'scheme': None, 'label': None},\n",
       "   {'term': 'community', 'scheme': None, 'label': None},\n",
       "   {'term': 'networking', 'scheme': None, 'label': None},\n",
       "   {'term': 'bokeh', 'scheme': None, 'label': None},\n",
       "   {'term': 'parallel', 'scheme': None, 'label': None},\n",
       "   {'term': 'mentoring', 'scheme': None, 'label': None},\n",
       "   {'term': 'photos', 'scheme': None, 'label': None}]},\n",
       " {'title': 'Code Challenge 20 - Object Oriented Programming Fun',\n",
       "  'title_detail': {'type': 'text/plain',\n",
       "   'language': None,\n",
       "   'base': 'http://projects.bobbelderbos.com/pcc/dates/all.rss.xml',\n",
       "   'value': 'Code Challenge 20 - Object Oriented Programming Fun'},\n",
       "  'links': [{'rel': 'alternate',\n",
       "    'type': 'text/html',\n",
       "    'href': 'https://pybit.es/codechallenge20.html'}],\n",
       "  'link': 'https://pybit.es/codechallenge20.html',\n",
       "  'summary': \"<p>Hi Pythonistas, a new week, a new 'bite' of Python coding! This week we will let you experiment with Object Oriented Programming, an important skill and fundamental building block of (everthing-is-an-object) Python. Enjoy!</p>\",\n",
       "  'summary_detail': {'type': 'text/html',\n",
       "   'language': None,\n",
       "   'base': 'http://projects.bobbelderbos.com/pcc/dates/all.rss.xml',\n",
       "   'value': \"<p>Hi Pythonistas, a new week, a new 'bite' of Python coding! This week we will let you experiment with Object Oriented Programming, an important skill and fundamental building block of (everthing-is-an-object) Python. Enjoy!</p>\"},\n",
       "  'authors': [{'name': 'PyBites'}],\n",
       "  'author': 'PyBites',\n",
       "  'author_detail': {'name': 'PyBites'},\n",
       "  'published': 'Mon, 22 May 2017 15:10:00 +0200',\n",
       "  'published_parsed': time.struct_time(tm_year=2017, tm_mon=5, tm_mday=22, tm_hour=13, tm_min=10, tm_sec=0, tm_wday=0, tm_yday=142, tm_isdst=0),\n",
       "  'id': 'tag:pybit.es,2017-05-22:/codechallenge20.html',\n",
       "  'guidislink': False,\n",
       "  'tags': [{'term': 'codechallenges', 'scheme': None, 'label': None},\n",
       "   {'term': 'OOP', 'scheme': None, 'label': None},\n",
       "   {'term': 'object oriented', 'scheme': None, 'label': None},\n",
       "   {'term': 'inheritance', 'scheme': None, 'label': None},\n",
       "   {'term': 'encapsulation', 'scheme': None, 'label': None},\n",
       "   {'term': 'polymorphism', 'scheme': None, 'label': None},\n",
       "   {'term': 'dunder', 'scheme': None, 'label': None},\n",
       "   {'term': 'games', 'scheme': None, 'label': None},\n",
       "   {'term': 'ABCs', 'scheme': None, 'label': None}]},\n",
       " {'title': 'Code Challenge 19 - Post to Your Favorite API - Review',\n",
       "  'title_detail': {'type': 'text/plain',\n",
       "   'language': None,\n",
       "   'base': 'http://projects.bobbelderbos.com/pcc/dates/all.rss.xml',\n",
       "   'value': 'Code Challenge 19 - Post to Your Favorite API - Review'},\n",
       "  'links': [{'rel': 'alternate',\n",
       "    'type': 'text/html',\n",
       "    'href': 'https://pybit.es/codechallenge19_review.html'}],\n",
       "  'link': 'https://pybit.es/codechallenge19_review.html',\n",
       "  'summary': '<p>This week was pretty busy due to PyCon, but what an amazing conference! A lot to absorb which we will digest in the upcoming articles. First our regular schedule though: review of <a href=\"http://pybit.es/codechallenge19.html\">last week\\'s challenge</a>: post to your favorite API.</p>',\n",
       "  'summary_detail': {'type': 'text/html',\n",
       "   'language': None,\n",
       "   'base': 'http://projects.bobbelderbos.com/pcc/dates/all.rss.xml',\n",
       "   'value': '<p>This week was pretty busy due to PyCon, but what an amazing conference! A lot to absorb which we will digest in the upcoming articles. First our regular schedule though: review of <a href=\"http://pybit.es/codechallenge19.html\">last week\\'s challenge</a>: post to your favorite API.</p>'},\n",
       "  'authors': [{'name': 'PyBites'}],\n",
       "  'author': 'PyBites',\n",
       "  'author_detail': {'name': 'PyBites'},\n",
       "  'published': 'Mon, 22 May 2017 15:00:00 +0200',\n",
       "  'published_parsed': time.struct_time(tm_year=2017, tm_mon=5, tm_mday=22, tm_hour=13, tm_min=0, tm_sec=0, tm_wday=0, tm_yday=142, tm_isdst=0),\n",
       "  'id': 'tag:pybit.es,2017-05-22:/codechallenge19_review.html',\n",
       "  'guidislink': False,\n",
       "  'tags': [{'term': 'codechallenges', 'scheme': None, 'label': None},\n",
       "   {'term': 'learning', 'scheme': None, 'label': None},\n",
       "   {'term': 'API', 'scheme': None, 'label': None},\n",
       "   {'term': 'POST', 'scheme': None, 'label': None},\n",
       "   {'term': 'Twitter', 'scheme': None, 'label': None},\n",
       "   {'term': 'Facebook', 'scheme': None, 'label': None}]},\n",
       " {'title': 'Twitter digest 2017 week 20',\n",
       "  'title_detail': {'type': 'text/plain',\n",
       "   'language': None,\n",
       "   'base': 'http://projects.bobbelderbos.com/pcc/dates/all.rss.xml',\n",
       "   'value': 'Twitter digest 2017 week 20'},\n",
       "  'links': [{'rel': 'alternate',\n",
       "    'type': 'text/html',\n",
       "    'href': 'https://pybit.es/twitter_digest_201720.html'}],\n",
       "  'link': 'https://pybit.es/twitter_digest_201720.html',\n",
       "  'summary': '<p>Every weekend we share a curated list of 15 cool things (mostly Python) that we found / tweeted throughout the week.</p>',\n",
       "  'summary_detail': {'type': 'text/html',\n",
       "   'language': None,\n",
       "   'base': 'http://projects.bobbelderbos.com/pcc/dates/all.rss.xml',\n",
       "   'value': '<p>Every weekend we share a curated list of 15 cool things (mostly Python) that we found / tweeted throughout the week.</p>'},\n",
       "  'authors': [{'name': 'PyBites'}],\n",
       "  'author': 'PyBites',\n",
       "  'author_detail': {'name': 'PyBites'},\n",
       "  'published': 'Sun, 21 May 2017 19:59:00 +0200',\n",
       "  'published_parsed': time.struct_time(tm_year=2017, tm_mon=5, tm_mday=21, tm_hour=17, tm_min=59, tm_sec=0, tm_wday=6, tm_yday=141, tm_isdst=0),\n",
       "  'id': 'tag:pybit.es,2017-05-21:/twitter_digest_201720.html',\n",
       "  'guidislink': False,\n",
       "  'tags': [{'term': 'twitter', 'scheme': None, 'label': None},\n",
       "   {'term': 'news', 'scheme': None, 'label': None},\n",
       "   {'term': 'tips', 'scheme': None, 'label': None},\n",
       "   {'term': 'python', 'scheme': None, 'label': None},\n",
       "   {'term': 'pycharm', 'scheme': None, 'label': None},\n",
       "   {'term': 'vim', 'scheme': None, 'label': None},\n",
       "   {'term': 'PyCon2017', 'scheme': None, 'label': None},\n",
       "   {'term': 'tutorials', 'scheme': None, 'label': None},\n",
       "   {'term': 'resources', 'scheme': None, 'label': None},\n",
       "   {'term': 'bpython', 'scheme': None, 'label': None},\n",
       "   {'term': 'dictionaries', 'scheme': None, 'label': None},\n",
       "   {'term': 'Postgres', 'scheme': None, 'label': None},\n",
       "   {'term': 'cli', 'scheme': None, 'label': None},\n",
       "   {'term': 'mentors', 'scheme': None, 'label': None},\n",
       "   {'term': 'tkinter', 'scheme': None, 'label': None},\n",
       "   {'term': 'speedml', 'scheme': None, 'label': None},\n",
       "   {'term': 'machine learning', 'scheme': None, 'label': None},\n",
       "   {'term': 'jupyter', 'scheme': None, 'label': None},\n",
       "   {'term': 'aws', 'scheme': None, 'label': None},\n",
       "   {'term': 'lambda', 'scheme': None, 'label': None},\n",
       "   {'term': 'pcap', 'scheme': None, 'label': None},\n",
       "   {'term': 'unity3d', 'scheme': None, 'label': None},\n",
       "   {'term': 'bot', 'scheme': None, 'label': None},\n",
       "   {'term': 'flask', 'scheme': None, 'label': None}]},\n",
       " {'title': 'How to Create Your Own Steam Game Release Notifier',\n",
       "  'title_detail': {'type': 'text/plain',\n",
       "   'language': None,\n",
       "   'base': 'http://projects.bobbelderbos.com/pcc/dates/all.rss.xml',\n",
       "   'value': 'How to Create Your Own Steam Game Release Notifier'},\n",
       "  'links': [{'rel': 'alternate',\n",
       "    'type': 'text/html',\n",
       "    'href': 'https://pybit.es/steam-notifier.html'}],\n",
       "  'link': 'https://pybit.es/steam-notifier.html',\n",
       "  'summary': '<p>In this post we demonstrate ways in which you can parse common data formats used in Python.</p>',\n",
       "  'summary_detail': {'type': 'text/html',\n",
       "   'language': None,\n",
       "   'base': 'http://projects.bobbelderbos.com/pcc/dates/all.rss.xml',\n",
       "   'value': '<p>In this post we demonstrate ways in which you can parse common data formats used in Python.</p>'},\n",
       "  'authors': [{'name': 'Julian'}],\n",
       "  'author': 'Julian',\n",
       "  'author_detail': {'name': 'Julian'},\n",
       "  'published': 'Fri, 19 May 2017 19:53:00 +0200',\n",
       "  'published_parsed': time.struct_time(tm_year=2017, tm_mon=5, tm_mday=19, tm_hour=17, tm_min=53, tm_sec=0, tm_wday=4, tm_yday=139, tm_isdst=0),\n",
       "  'id': 'tag:pybit.es,2017-05-19:/steam-notifier.html',\n",
       "  'guidislink': False,\n",
       "  'tags': [{'term': 'learning', 'scheme': None, 'label': None},\n",
       "   {'term': 'code', 'scheme': None, 'label': None},\n",
       "   {'term': 'programming', 'scheme': None, 'label': None},\n",
       "   {'term': 'python', 'scheme': None, 'label': None},\n",
       "   {'term': 'sqlite3', 'scheme': None, 'label': None},\n",
       "   {'term': 'xml', 'scheme': None, 'label': None},\n",
       "   {'term': 'email', 'scheme': None, 'label': None},\n",
       "   {'term': 'automation', 'scheme': None, 'label': None},\n",
       "   {'term': 'tools', 'scheme': None, 'label': None},\n",
       "   {'term': 'feedparser', 'scheme': None, 'label': None},\n",
       "   {'term': 'game', 'scheme': None, 'label': None}]},\n",
       " {'title': 'How to Parse Common Data Formats in Python',\n",
       "  'title_detail': {'type': 'text/plain',\n",
       "   'language': None,\n",
       "   'base': 'http://projects.bobbelderbos.com/pcc/dates/all.rss.xml',\n",
       "   'value': 'How to Parse Common Data Formats in Python'},\n",
       "  'links': [{'rel': 'alternate',\n",
       "    'type': 'text/html',\n",
       "    'href': 'https://pybit.es/parsing-data.html'}],\n",
       "  'link': 'https://pybit.es/parsing-data.html',\n",
       "  'summary': '<p>In this post we demonstrate ways in which you can parse common data formats used in Python.</p>',\n",
       "  'summary_detail': {'type': 'text/html',\n",
       "   'language': None,\n",
       "   'base': 'http://projects.bobbelderbos.com/pcc/dates/all.rss.xml',\n",
       "   'value': '<p>In this post we demonstrate ways in which you can parse common data formats used in Python.</p>'},\n",
       "  'authors': [{'name': 'PyBites'}],\n",
       "  'author': 'PyBites',\n",
       "  'author_detail': {'name': 'PyBites'},\n",
       "  'published': 'Tue, 16 May 2017 20:37:00 +0200',\n",
       "  'published_parsed': time.struct_time(tm_year=2017, tm_mon=5, tm_mday=16, tm_hour=18, tm_min=37, tm_sec=0, tm_wday=1, tm_yday=136, tm_isdst=0),\n",
       "  'id': 'tag:pybit.es,2017-05-16:/parsing-data.html',\n",
       "  'guidislink': False,\n",
       "  'tags': [{'term': 'learning', 'scheme': None, 'label': None},\n",
       "   {'term': 'code', 'scheme': None, 'label': None},\n",
       "   {'term': 'programming', 'scheme': None, 'label': None},\n",
       "   {'term': 'python', 'scheme': None, 'label': None},\n",
       "   {'term': 'resources', 'scheme': None, 'label': None},\n",
       "   {'term': 'csv', 'scheme': None, 'label': None},\n",
       "   {'term': 'sqlite3', 'scheme': None, 'label': None},\n",
       "   {'term': 'json', 'scheme': None, 'label': None},\n",
       "   {'term': 'xml', 'scheme': None, 'label': None}]},\n",
       " {'title': 'Code Challenge 19 - Post to Your Favorite API',\n",
       "  'title_detail': {'type': 'text/plain',\n",
       "   'language': None,\n",
       "   'base': 'http://projects.bobbelderbos.com/pcc/dates/all.rss.xml',\n",
       "   'value': 'Code Challenge 19 - Post to Your Favorite API'},\n",
       "  'links': [{'rel': 'alternate',\n",
       "    'type': 'text/html',\n",
       "    'href': 'https://pybit.es/codechallenge19.html'}],\n",
       "  'link': 'https://pybit.es/codechallenge19.html',\n",
       "  'summary': \"<p>Hi Pythonistas, a new week, a new 'bite' of Python coding! This week part 2 of APIs: post to your favorite API. Enjoy</p>\",\n",
       "  'summary_detail': {'type': 'text/html',\n",
       "   'language': None,\n",
       "   'base': 'http://projects.bobbelderbos.com/pcc/dates/all.rss.xml',\n",
       "   'value': \"<p>Hi Pythonistas, a new week, a new 'bite' of Python coding! This week part 2 of APIs: post to your favorite API. Enjoy</p>\"},\n",
       "  'authors': [{'name': 'PyBites'}],\n",
       "  'author': 'PyBites',\n",
       "  'author_detail': {'name': 'PyBites'},\n",
       "  'published': 'Mon, 15 May 2017 13:31:00 +0200',\n",
       "  'published_parsed': time.struct_time(tm_year=2017, tm_mon=5, tm_mday=15, tm_hour=11, tm_min=31, tm_sec=0, tm_wday=0, tm_yday=135, tm_isdst=0),\n",
       "  'id': 'tag:pybit.es,2017-05-15:/codechallenge19.html',\n",
       "  'guidislink': False,\n",
       "  'tags': [{'term': 'codechallenges', 'scheme': None, 'label': None},\n",
       "   {'term': 'learning', 'scheme': None, 'label': None},\n",
       "   {'term': 'API', 'scheme': None, 'label': None},\n",
       "   {'term': 'Twitter', 'scheme': None, 'label': None},\n",
       "   {'term': 'Facebook', 'scheme': None, 'label': None},\n",
       "   {'term': 'TheMovieDB', 'scheme': None, 'label': None},\n",
       "   {'term': 'Spotify', 'scheme': None, 'label': None},\n",
       "   {'term': 'Goodreads', 'scheme': None, 'label': None},\n",
       "   {'term': 'Reddit', 'scheme': None, 'label': None},\n",
       "   {'term': 'Google', 'scheme': None, 'label': None},\n",
       "   {'term': 'POST', 'scheme': None, 'label': None}]},\n",
       " {'title': 'Code Challenge 18 - Get Recommendations - Review',\n",
       "  'title_detail': {'type': 'text/plain',\n",
       "   'language': None,\n",
       "   'base': 'http://projects.bobbelderbos.com/pcc/dates/all.rss.xml',\n",
       "   'value': 'Code Challenge 18 - Get Recommendations - Review'},\n",
       "  'links': [{'rel': 'alternate',\n",
       "    'type': 'text/html',\n",
       "    'href': 'https://pybit.es/codechallenge18_review.html'}],\n",
       "  'link': 'https://pybit.es/codechallenge18_review.html',\n",
       "  'summary': '<p>Before moving onto the new challenge let\\'s review <a href=\"http://pybit.es/codechallenge18.html\">last week\\'s challenge</a>. It\\'s never late to sign up, just fork our <a href=\"https://github.com/pybites/challenges\">challenges repo</a> and start coding.</p>',\n",
       "  'summary_detail': {'type': 'text/html',\n",
       "   'language': None,\n",
       "   'base': 'http://projects.bobbelderbos.com/pcc/dates/all.rss.xml',\n",
       "   'value': '<p>Before moving onto the new challenge let\\'s review <a href=\"http://pybit.es/codechallenge18.html\">last week\\'s challenge</a>. It\\'s never late to sign up, just fork our <a href=\"https://github.com/pybites/challenges\">challenges repo</a> and start coding.</p>'},\n",
       "  'authors': [{'name': 'PyBites'}],\n",
       "  'author': 'PyBites',\n",
       "  'author_detail': {'name': 'PyBites'},\n",
       "  'published': 'Mon, 15 May 2017 11:37:00 +0200',\n",
       "  'published_parsed': time.struct_time(tm_year=2017, tm_mon=5, tm_mday=15, tm_hour=9, tm_min=37, tm_sec=0, tm_wday=0, tm_yday=135, tm_isdst=0),\n",
       "  'id': 'tag:pybit.es,2017-05-15:/codechallenge18_review.html',\n",
       "  'guidislink': False,\n",
       "  'tags': [{'term': 'codechallenges', 'scheme': None, 'label': None},\n",
       "   {'term': 'books', 'scheme': None, 'label': None},\n",
       "   {'term': 'Goodreads', 'scheme': None, 'label': None},\n",
       "   {'term': 'API', 'scheme': None, 'label': None},\n",
       "   {'term': 'oauth', 'scheme': None, 'label': None},\n",
       "   {'term': 'Manning', 'scheme': None, 'label': None},\n",
       "   {'term': 'Machine Learning', 'scheme': None, 'label': None},\n",
       "   {'term': 'Netflix', 'scheme': None, 'label': None},\n",
       "   {'term': 'recommendation engine', 'scheme': None, 'label': None},\n",
       "   {'term': 'Parrotread', 'scheme': None, 'label': None},\n",
       "   {'term': 'recommender system', 'scheme': None, 'label': None}]},\n",
       " {'title': 'Twitter digest 2017 week 19',\n",
       "  'title_detail': {'type': 'text/plain',\n",
       "   'language': None,\n",
       "   'base': 'http://projects.bobbelderbos.com/pcc/dates/all.rss.xml',\n",
       "   'value': 'Twitter digest 2017 week 19'},\n",
       "  'links': [{'rel': 'alternate',\n",
       "    'type': 'text/html',\n",
       "    'href': 'https://pybit.es/twitter_digest_201719.html'}],\n",
       "  'link': 'https://pybit.es/twitter_digest_201719.html',\n",
       "  'summary': '<p>Every weekend we share a curated list of 15 cool things (mostly Python) that we found / tweeted throughout the week.</p>',\n",
       "  'summary_detail': {'type': 'text/html',\n",
       "   'language': None,\n",
       "   'base': 'http://projects.bobbelderbos.com/pcc/dates/all.rss.xml',\n",
       "   'value': '<p>Every weekend we share a curated list of 15 cool things (mostly Python) that we found / tweeted throughout the week.</p>'},\n",
       "  'authors': [{'name': 'PyBites'}],\n",
       "  'author': 'PyBites',\n",
       "  'author_detail': {'name': 'PyBites'},\n",
       "  'published': 'Sun, 14 May 2017 17:29:00 +0200',\n",
       "  'published_parsed': time.struct_time(tm_year=2017, tm_mon=5, tm_mday=14, tm_hour=15, tm_min=29, tm_sec=0, tm_wday=6, tm_yday=134, tm_isdst=0),\n",
       "  'id': 'tag:pybit.es,2017-05-14:/twitter_digest_201719.html',\n",
       "  'guidislink': False,\n",
       "  'tags': [{'term': 'twitter', 'scheme': None, 'label': None},\n",
       "   {'term': 'news', 'scheme': None, 'label': None},\n",
       "   {'term': 'tips', 'scheme': None, 'label': None},\n",
       "   {'term': 'python', 'scheme': None, 'label': None},\n",
       "   {'term': 'twilio', 'scheme': None, 'label': None},\n",
       "   {'term': 'javascript', 'scheme': None, 'label': None},\n",
       "   {'term': 'beginners', 'scheme': None, 'label': None},\n",
       "   {'term': 'webscraping', 'scheme': None, 'label': None},\n",
       "   {'term': 'PyPI', 'scheme': None, 'label': None},\n",
       "   {'term': 'AI', 'scheme': None, 'label': None},\n",
       "   {'term': 'pandoc', 'scheme': None, 'label': None},\n",
       "   {'term': 'git', 'scheme': None, 'label': None},\n",
       "   {'term': 'Continuum', 'scheme': None, 'label': None},\n",
       "   {'term': 'cli', 'scheme': None, 'label': None},\n",
       "   {'term': 'Alexa', 'scheme': None, 'label': None},\n",
       "   {'term': 'flask', 'scheme': None, 'label': None},\n",
       "   {'term': 'matplotlib', 'scheme': None, 'label': None},\n",
       "   {'term': 'visual studio', 'scheme': None, 'label': None},\n",
       "   {'term': 'OpenCV', 'scheme': None, 'label': None}]},\n",
       " {'title': 'Building a Simple Birthday App with Flask-SQLAlchemy',\n",
       "  'title_detail': {'type': 'text/plain',\n",
       "   'language': None,\n",
       "   'base': 'http://projects.bobbelderbos.com/pcc/dates/all.rss.xml',\n",
       "   'value': 'Building a Simple Birthday App with Flask-SQLAlchemy'},\n",
       "  'links': [{'rel': 'alternate',\n",
       "    'type': 'text/html',\n",
       "    'href': 'https://pybit.es/flask-sqlalchemy-bday-app.html'}],\n",
       "  'link': 'https://pybit.es/flask-sqlalchemy-bday-app.html',\n",
       "  'summary': '<p>In this article I teach you how to get started with Flask-SQLAlchemy. I will set up a model, create the DB, retrieve birthdays from FB and import them into the DB. Lastly I will query the birthdays by date range.</p>',\n",
       "  'summary_detail': {'type': 'text/html',\n",
       "   'language': None,\n",
       "   'base': 'http://projects.bobbelderbos.com/pcc/dates/all.rss.xml',\n",
       "   'value': '<p>In this article I teach you how to get started with Flask-SQLAlchemy. I will set up a model, create the DB, retrieve birthdays from FB and import them into the DB. Lastly I will query the birthdays by date range.</p>'},\n",
       "  'authors': [{'name': 'Bob'}],\n",
       "  'author': 'Bob',\n",
       "  'author_detail': {'name': 'Bob'},\n",
       "  'published': 'Thu, 11 May 2017 11:00:00 +0200',\n",
       "  'published_parsed': time.struct_time(tm_year=2017, tm_mon=5, tm_mday=11, tm_hour=9, tm_min=0, tm_sec=0, tm_wday=3, tm_yday=131, tm_isdst=0),\n",
       "  'id': 'tag:pybit.es,2017-05-11:/flask-sqlalchemy-bday-app.html',\n",
       "  'guidislink': False,\n",
       "  'tags': [{'term': 'Flask-SQLAlchemy', 'scheme': None, 'label': None},\n",
       "   {'term': 'SQLAlchemy', 'scheme': None, 'label': None},\n",
       "   {'term': 'Flask', 'scheme': None, 'label': None},\n",
       "   {'term': 'Facebook', 'scheme': None, 'label': None},\n",
       "   {'term': 'birthday', 'scheme': None, 'label': None},\n",
       "   {'term': 'calendar', 'scheme': None, 'label': None},\n",
       "   {'term': 'icalendar', 'scheme': None, 'label': None},\n",
       "   {'term': 'datetime', 'scheme': None, 'label': None}]},\n",
       " {'title': 'Learning Python by Building a Wisdom Quotes App',\n",
       "  'title_detail': {'type': 'text/plain',\n",
       "   'language': None,\n",
       "   'base': 'http://projects.bobbelderbos.com/pcc/dates/all.rss.xml',\n",
       "   'value': 'Learning Python by Building a Wisdom Quotes App'},\n",
       "  'links': [{'rel': 'alternate',\n",
       "    'type': 'text/html',\n",
       "    'href': 'https://pybit.es/guest-learning-apis.html'}],\n",
       "  'link': 'https://pybit.es/guest-learning-apis.html',\n",
       "  'summary': '<p>In this guest post Dante tells us about his <a href=\"https://github.com/pybites/challenges/tree/community/16/dseptem\">Wisdom of the Ages</a> app he built for <a href=\"http://pybit.es/codechallenge16.html\">PyBites code challenge 16</a> (reviewed <a href=\"http://pybit.es/codechallenge16_review.html\">here</a>). The best way to learn Python is to build something and we are proud of our community achieving just that.</p>',\n",
       "  'summary_detail': {'type': 'text/html',\n",
       "   'language': None,\n",
       "   'base': 'http://projects.bobbelderbos.com/pcc/dates/all.rss.xml',\n",
       "   'value': '<p>In this guest post Dante tells us about his <a href=\"https://github.com/pybites/challenges/tree/community/16/dseptem\">Wisdom of the Ages</a> app he built for <a href=\"http://pybit.es/codechallenge16.html\">PyBites code challenge 16</a> (reviewed <a href=\"http://pybit.es/codechallenge16_review.html\">here</a>). The best way to learn Python is to build something and we are proud of our community achieving just that.</p>'},\n",
       "  'authors': [{'name': 'Dante Septem'}],\n",
       "  'author': 'Dante Septem',\n",
       "  'author_detail': {'name': 'Dante Septem'},\n",
       "  'published': 'Tue, 09 May 2017 14:10:00 +0200',\n",
       "  'published_parsed': time.struct_time(tm_year=2017, tm_mon=5, tm_mday=9, tm_hour=12, tm_min=10, tm_sec=0, tm_wday=1, tm_yday=129, tm_isdst=0),\n",
       "  'id': 'tag:pybit.es,2017-05-09:/guest-learning-apis.html',\n",
       "  'guidislink': False,\n",
       "  'tags': [{'term': 'challenges', 'scheme': None, 'label': None},\n",
       "   {'term': 'learning', 'scheme': None, 'label': None},\n",
       "   {'term': 'guest', 'scheme': None, 'label': None},\n",
       "   {'term': 'wikipedia', 'scheme': None, 'label': None},\n",
       "   {'term': 'API', 'scheme': None, 'label': None},\n",
       "   {'term': 'code review', 'scheme': None, 'label': None},\n",
       "   {'term': 'flask', 'scheme': None, 'label': None},\n",
       "   {'term': 'requests', 'scheme': None, 'label': None},\n",
       "   {'term': 'quotes', 'scheme': None, 'label': None},\n",
       "   {'term': 'forismatic', 'scheme': None, 'label': None}]},\n",
       " {'title': 'Code Challenge 18 - Get Recommendations',\n",
       "  'title_detail': {'type': 'text/plain',\n",
       "   'language': None,\n",
       "   'base': 'http://projects.bobbelderbos.com/pcc/dates/all.rss.xml',\n",
       "   'value': 'Code Challenge 18 - Get Recommendations'},\n",
       "  'links': [{'rel': 'alternate',\n",
       "    'type': 'text/html',\n",
       "    'href': 'https://pybit.es/codechallenge18.html'}],\n",
       "  'link': 'https://pybit.es/codechallenge18.html',\n",
       "  'summary': '<p>Hi Pythonistas, a new week, a new \\'bite\\' of Python coding! This week we\\'ll do another API exercise: you will parse your Twitter feed searching for book / movie / music / you-name-it recommendations. Can you create a simple <a href=\"https://parrotread.com\">ParrotRead</a>? Enjoy</p>',\n",
       "  'summary_detail': {'type': 'text/html',\n",
       "   'language': None,\n",
       "   'base': 'http://projects.bobbelderbos.com/pcc/dates/all.rss.xml',\n",
       "   'value': '<p>Hi Pythonistas, a new week, a new \\'bite\\' of Python coding! This week we\\'ll do another API exercise: you will parse your Twitter feed searching for book / movie / music / you-name-it recommendations. Can you create a simple <a href=\"https://parrotread.com\">ParrotRead</a>? Enjoy</p>'},\n",
       "  'authors': [{'name': 'PyBites'}],\n",
       "  'author': 'PyBites',\n",
       "  'author_detail': {'name': 'PyBites'},\n",
       "  'published': 'Mon, 08 May 2017 09:30:00 +0200',\n",
       "  'published_parsed': time.struct_time(tm_year=2017, tm_mon=5, tm_mday=8, tm_hour=7, tm_min=30, tm_sec=0, tm_wday=0, tm_yday=128, tm_isdst=0),\n",
       "  'id': 'tag:pybit.es,2017-05-08:/codechallenge18.html',\n",
       "  'guidislink': False,\n",
       "  'tags': [{'term': 'codechallenges', 'scheme': None, 'label': None},\n",
       "   {'term': 'learning', 'scheme': None, 'label': None},\n",
       "   {'term': 'Twitter', 'scheme': None, 'label': None},\n",
       "   {'term': 'books', 'scheme': None, 'label': None},\n",
       "   {'term': 'recommendations', 'scheme': None, 'label': None},\n",
       "   {'term': 'API', 'scheme': None, 'label': None},\n",
       "   {'term': 'TextBlob', 'scheme': None, 'label': None}]},\n",
       " {'title': 'Code Challenge 17 - Never Miss a Good Podcast - Review',\n",
       "  'title_detail': {'type': 'text/plain',\n",
       "   'language': None,\n",
       "   'base': 'http://projects.bobbelderbos.com/pcc/dates/all.rss.xml',\n",
       "   'value': 'Code Challenge 17 - Never Miss a Good Podcast - Review'},\n",
       "  'links': [{'rel': 'alternate',\n",
       "    'type': 'text/html',\n",
       "    'href': 'https://pybit.es/codechallenge17_review.html'}],\n",
       "  'link': 'https://pybit.es/codechallenge17_review.html',\n",
       "  'summary': '<p>It\\'s end of the week again so we review the <a href=\"http://pybit.es/codechallenge17.html\">code challenge of this week</a>. It\\'s never late to sign up, just fork our <a href=\"https://github.com/pybites/challenges\">challenges repo</a> and start coding.</p>',\n",
       "  'summary_detail': {'type': 'text/html',\n",
       "   'language': None,\n",
       "   'base': 'http://projects.bobbelderbos.com/pcc/dates/all.rss.xml',\n",
       "   'value': '<p>It\\'s end of the week again so we review the <a href=\"http://pybit.es/codechallenge17.html\">code challenge of this week</a>. It\\'s never late to sign up, just fork our <a href=\"https://github.com/pybites/challenges\">challenges repo</a> and start coding.</p>'},\n",
       "  'authors': [{'name': 'PyBites'}],\n",
       "  'author': 'PyBites',\n",
       "  'author_detail': {'name': 'PyBites'},\n",
       "  'published': 'Sun, 07 May 2017 23:59:00 +0200',\n",
       "  'published_parsed': time.struct_time(tm_year=2017, tm_mon=5, tm_mday=7, tm_hour=21, tm_min=59, tm_sec=0, tm_wday=6, tm_yday=127, tm_isdst=0),\n",
       "  'id': 'tag:pybit.es,2017-05-07:/codechallenge17_review.html',\n",
       "  'guidislink': False,\n",
       "  'tags': [{'term': 'codechallenges', 'scheme': None, 'label': None},\n",
       "   {'term': 'learning', 'scheme': None, 'label': None},\n",
       "   {'term': 'podcast', 'scheme': None, 'label': None},\n",
       "   {'term': 'feedparser', 'scheme': None, 'label': None},\n",
       "   {'term': 'SQLite', 'scheme': None, 'label': None},\n",
       "   {'term': 'sqlite3', 'scheme': None, 'label': None},\n",
       "   {'term': 'mail', 'scheme': None, 'label': None},\n",
       "   {'term': 'cron', 'scheme': None, 'label': None},\n",
       "   {'term': 'review', 'scheme': None, 'label': None}]},\n",
       " {'title': 'Twitter digest 2017 week 18',\n",
       "  'title_detail': {'type': 'text/plain',\n",
       "   'language': None,\n",
       "   'base': 'http://projects.bobbelderbos.com/pcc/dates/all.rss.xml',\n",
       "   'value': 'Twitter digest 2017 week 18'},\n",
       "  'links': [{'rel': 'alternate',\n",
       "    'type': 'text/html',\n",
       "    'href': 'https://pybit.es/twitter_digest_201718.html'}],\n",
       "  'link': 'https://pybit.es/twitter_digest_201718.html',\n",
       "  'summary': '<p>Every weekend we share a curated list of 15 cool things (mostly Python) that we found / tweeted throughout the week.</p>',\n",
       "  'summary_detail': {'type': 'text/html',\n",
       "   'language': None,\n",
       "   'base': 'http://projects.bobbelderbos.com/pcc/dates/all.rss.xml',\n",
       "   'value': '<p>Every weekend we share a curated list of 15 cool things (mostly Python) that we found / tweeted throughout the week.</p>'},\n",
       "  'authors': [{'name': 'PyBites'}],\n",
       "  'author': 'PyBites',\n",
       "  'author_detail': {'name': 'PyBites'},\n",
       "  'published': 'Sun, 07 May 2017 12:37:00 +0200',\n",
       "  'published_parsed': time.struct_time(tm_year=2017, tm_mon=5, tm_mday=7, tm_hour=10, tm_min=37, tm_sec=0, tm_wday=6, tm_yday=127, tm_isdst=0),\n",
       "  'id': 'tag:pybit.es,2017-05-07:/twitter_digest_201718.html',\n",
       "  'guidislink': False,\n",
       "  'tags': [{'term': 'twitter', 'scheme': None, 'label': None},\n",
       "   {'term': 'news', 'scheme': None, 'label': None},\n",
       "   {'term': 'tips', 'scheme': None, 'label': None},\n",
       "   {'term': 'python', 'scheme': None, 'label': None},\n",
       "   {'term': 'word cloud', 'scheme': None, 'label': None},\n",
       "   {'term': '100days', 'scheme': None, 'label': None},\n",
       "   {'term': 'algorithms', 'scheme': None, 'label': None},\n",
       "   {'term': 'beginner', 'scheme': None, 'label': None},\n",
       "   {'term': 'machine learning', 'scheme': None, 'label': None},\n",
       "   {'term': 'tutorial', 'scheme': None, 'label': None},\n",
       "   {'term': 'unittest', 'scheme': None, 'label': None},\n",
       "   {'term': 'jupyter', 'scheme': None, 'label': None},\n",
       "   {'term': 'twilio', 'scheme': None, 'label': None},\n",
       "   {'term': 'aws', 'scheme': None, 'label': None},\n",
       "   {'term': 'raspberry pi', 'scheme': None, 'label': None},\n",
       "   {'term': 'xml', 'scheme': None, 'label': None},\n",
       "   {'term': 'learning', 'scheme': None, 'label': None}]},\n",
       " {'title': 'How to Download an XML File with Python',\n",
       "  'title_detail': {'type': 'text/plain',\n",
       "   'language': None,\n",
       "   'base': 'http://projects.bobbelderbos.com/pcc/dates/all.rss.xml',\n",
       "   'value': 'How to Download an XML File with Python'},\n",
       "  'links': [{'rel': 'alternate',\n",
       "    'type': 'text/html',\n",
       "    'href': 'https://pybit.es/download-xml-file.html'}],\n",
       "  'link': 'https://pybit.es/download-xml-file.html',\n",
       "  'summary': '<p>In this post I detail how to download an xml file to your OS and why it’s not as simple as you’d think</p>',\n",
       "  'summary_detail': {'type': 'text/html',\n",
       "   'language': None,\n",
       "   'base': 'http://projects.bobbelderbos.com/pcc/dates/all.rss.xml',\n",
       "   'value': '<p>In this post I detail how to download an xml file to your OS and why it’s not as simple as you’d think</p>'},\n",
       "  'authors': [{'name': 'Julian'}],\n",
       "  'author': 'Julian',\n",
       "  'author_detail': {'name': 'Julian'},\n",
       "  'published': 'Thu, 04 May 2017 20:46:00 +0200',\n",
       "  'published_parsed': time.struct_time(tm_year=2017, tm_mon=5, tm_mday=4, tm_hour=18, tm_min=46, tm_sec=0, tm_wday=3, tm_yday=124, tm_isdst=0),\n",
       "  'id': 'tag:pybit.es,2017-05-04:/download-xml-file.html',\n",
       "  'guidislink': False,\n",
       "  'tags': [{'term': 'tutorial', 'scheme': None, 'label': None},\n",
       "   {'term': 'learning', 'scheme': None, 'label': None},\n",
       "   {'term': 'webscraping', 'scheme': None, 'label': None},\n",
       "   {'term': 'requests', 'scheme': None, 'label': None},\n",
       "   {'term': 'xml', 'scheme': None, 'label': None},\n",
       "   {'term': 'beginners', 'scheme': None, 'label': None},\n",
       "   {'term': 'python', 'scheme': None, 'label': None}]},\n",
       " {'title': 'The making of my Task Manager App for the PyBites Code Challenge',\n",
       "  'title_detail': {'type': 'text/plain',\n",
       "   'language': None,\n",
       "   'base': 'http://projects.bobbelderbos.com/pcc/dates/all.rss.xml',\n",
       "   'value': 'The making of my Task Manager App for the PyBites Code Challenge'},\n",
       "  'links': [{'rel': 'alternate',\n",
       "    'type': 'text/html',\n",
       "    'href': 'https://pybit.es/guest-making-of-task-manager.html'}],\n",
       "  'link': 'https://pybit.es/guest-making-of-task-manager.html',\n",
       "  'summary': \"<p>As a relatively newcomer to the Python scene I've come to realize that the best way to learn is to actually participate in coding challenges. This has helped to push me out of my comfort zone.</p>\",\n",
       "  'summary_detail': {'type': 'text/html',\n",
       "   'language': None,\n",
       "   'base': 'http://projects.bobbelderbos.com/pcc/dates/all.rss.xml',\n",
       "   'value': \"<p>As a relatively newcomer to the Python scene I've come to realize that the best way to learn is to actually participate in coding challenges. This has helped to push me out of my comfort zone.</p>\"},\n",
       "  'authors': [{'name': 'Martin Uribe'}],\n",
       "  'author': 'Martin Uribe',\n",
       "  'author_detail': {'name': 'Martin Uribe'},\n",
       "  'published': 'Tue, 02 May 2017 13:00:00 +0200',\n",
       "  'published_parsed': time.struct_time(tm_year=2017, tm_mon=5, tm_mday=2, tm_hour=11, tm_min=0, tm_sec=0, tm_wday=1, tm_yday=122, tm_isdst=0),\n",
       "  'id': 'tag:pybit.es,2017-05-02:/guest-making-of-task-manager.html',\n",
       "  'guidislink': False,\n",
       "  'tags': [{'term': 'blog', 'scheme': None, 'label': None},\n",
       "   {'term': 'challenges', 'scheme': None, 'label': None},\n",
       "   {'term': 'Flask', 'scheme': None, 'label': None},\n",
       "   {'term': 'Bootstrap', 'scheme': None, 'label': None},\n",
       "   {'term': 'HTML', 'scheme': None, 'label': None},\n",
       "   {'term': 'CSS', 'scheme': None, 'label': None},\n",
       "   {'term': 'Jinja2', 'scheme': None, 'label': None},\n",
       "   {'term': 'Flask-SQLAlchemy', 'scheme': None, 'label': None},\n",
       "   {'term': 'sql', 'scheme': None, 'label': None},\n",
       "   {'term': 'guest', 'scheme': None, 'label': None},\n",
       "   {'term': 'learning', 'scheme': None, 'label': None}]},\n",
       " {'title': 'Code Challenge 17 - Never Miss a Good Podcast',\n",
       "  'title_detail': {'type': 'text/plain',\n",
       "   'language': None,\n",
       "   'base': 'http://projects.bobbelderbos.com/pcc/dates/all.rss.xml',\n",
       "   'value': 'Code Challenge 17 - Never Miss a Good Podcast'},\n",
       "  'links': [{'rel': 'alternate',\n",
       "    'type': 'text/html',\n",
       "    'href': 'https://pybit.es/codechallenge17.html'}],\n",
       "  'link': 'https://pybit.es/codechallenge17.html',\n",
       "  'summary': '<p>Hi Pythonistas, a new week, a new \\'bite\\' of Python coding! This week we\\'ll let you import a Podcast feed, store it in SQLite, and email unplayed episodes at a regular interval. Inspiration <a href=\"https://twitter.com/clickdroid/status/857245545185722368\">here</a>. Enjoy!</p>',\n",
       "  'summary_detail': {'type': 'text/html',\n",
       "   'language': None,\n",
       "   'base': 'http://projects.bobbelderbos.com/pcc/dates/all.rss.xml',\n",
       "   'value': '<p>Hi Pythonistas, a new week, a new \\'bite\\' of Python coding! This week we\\'ll let you import a Podcast feed, store it in SQLite, and email unplayed episodes at a regular interval. Inspiration <a href=\"https://twitter.com/clickdroid/status/857245545185722368\">here</a>. Enjoy!</p>'},\n",
       "  'authors': [{'name': 'PyBites'}],\n",
       "  'author': 'PyBites',\n",
       "  'author_detail': {'name': 'PyBites'},\n",
       "  'published': 'Mon, 01 May 2017 11:00:00 +0200',\n",
       "  'published_parsed': time.struct_time(tm_year=2017, tm_mon=5, tm_mday=1, tm_hour=9, tm_min=0, tm_sec=0, tm_wday=0, tm_yday=121, tm_isdst=0),\n",
       "  'id': 'tag:pybit.es,2017-05-01:/codechallenge17.html',\n",
       "  'guidislink': False,\n",
       "  'tags': [{'term': 'codechallenges', 'scheme': None, 'label': None},\n",
       "   {'term': 'learning', 'scheme': None, 'label': None},\n",
       "   {'term': 'podcast', 'scheme': None, 'label': None},\n",
       "   {'term': 'feedparser', 'scheme': None, 'label': None},\n",
       "   {'term': 'SQLite', 'scheme': None, 'label': None},\n",
       "   {'term': 'sqlite3', 'scheme': None, 'label': None},\n",
       "   {'term': 'mail', 'scheme': None, 'label': None},\n",
       "   {'term': 'cron', 'scheme': None, 'label': None}]},\n",
       " {'title': 'Code Challenge 16 - Query Your Favorite API - Review',\n",
       "  'title_detail': {'type': 'text/plain',\n",
       "   'language': None,\n",
       "   'base': 'http://projects.bobbelderbos.com/pcc/dates/all.rss.xml',\n",
       "   'value': 'Code Challenge 16 - Query Your Favorite API - Review'},\n",
       "  'links': [{'rel': 'alternate',\n",
       "    'type': 'text/html',\n",
       "    'href': 'https://pybit.es/codechallenge16_review.html'}],\n",
       "  'link': 'https://pybit.es/codechallenge16_review.html',\n",
       "  'summary': '<p>It\\'s end of the week again so we review the <a href=\"http://pybit.es/codechallenge16.html\">code challenge of this week</a>. It\\'s never late to sign up, just fork our <a href=\"https://github.com/pybites/challenges\">challenges repo</a> and start coding.</p>',\n",
       "  'summary_detail': {'type': 'text/html',\n",
       "   'language': None,\n",
       "   'base': 'http://projects.bobbelderbos.com/pcc/dates/all.rss.xml',\n",
       "   'value': '<p>It\\'s end of the week again so we review the <a href=\"http://pybit.es/codechallenge16.html\">code challenge of this week</a>. It\\'s never late to sign up, just fork our <a href=\"https://github.com/pybites/challenges\">challenges repo</a> and start coding.</p>'},\n",
       "  'authors': [{'name': 'PyBites'}],\n",
       "  'author': 'PyBites',\n",
       "  'author_detail': {'name': 'PyBites'},\n",
       "  'published': 'Sun, 30 Apr 2017 23:59:00 +0200',\n",
       "  'published_parsed': time.struct_time(tm_year=2017, tm_mon=4, tm_mday=30, tm_hour=21, tm_min=59, tm_sec=0, tm_wday=6, tm_yday=120, tm_isdst=0),\n",
       "  'id': 'tag:pybit.es,2017-04-30:/codechallenge16_review.html',\n",
       "  'guidislink': False,\n",
       "  'tags': [{'term': 'codechallenges', 'scheme': None, 'label': None},\n",
       "   {'term': 'learning', 'scheme': None, 'label': None},\n",
       "   {'term': 'Flask', 'scheme': None, 'label': None},\n",
       "   {'term': 'APIs', 'scheme': None, 'label': None},\n",
       "   {'term': 'Github', 'scheme': None, 'label': None},\n",
       "   {'term': 'Google', 'scheme': None, 'label': None},\n",
       "   {'term': 'books', 'scheme': None, 'label': None},\n",
       "   {'term': 'Warcraft', 'scheme': None, 'label': None},\n",
       "   {'term': 'quotes', 'scheme': None, 'label': None},\n",
       "   {'term': 'Wikipedia', 'scheme': None, 'label': None},\n",
       "   {'term': 'Forismatic', 'scheme': None, 'label': None}]},\n",
       " {'title': 'Twitter digest 2017 week 17',\n",
       "  'title_detail': {'type': 'text/plain',\n",
       "   'language': None,\n",
       "   'base': 'http://projects.bobbelderbos.com/pcc/dates/all.rss.xml',\n",
       "   'value': 'Twitter digest 2017 week 17'},\n",
       "  'links': [{'rel': 'alternate',\n",
       "    'type': 'text/html',\n",
       "    'href': 'https://pybit.es/twitter_digest_201717.html'}],\n",
       "  'link': 'https://pybit.es/twitter_digest_201717.html',\n",
       "  'summary': '<p>Every weekend we share a curated list of 15 cool things (mostly Python) that we found / tweeted throughout the week.</p>',\n",
       "  'summary_detail': {'type': 'text/html',\n",
       "   'language': None,\n",
       "   'base': 'http://projects.bobbelderbos.com/pcc/dates/all.rss.xml',\n",
       "   'value': '<p>Every weekend we share a curated list of 15 cool things (mostly Python) that we found / tweeted throughout the week.</p>'},\n",
       "  'authors': [{'name': 'PyBites'}],\n",
       "  'author': 'PyBites',\n",
       "  'author_detail': {'name': 'PyBites'},\n",
       "  'published': 'Sun, 30 Apr 2017 20:04:00 +0200',\n",
       "  'published_parsed': time.struct_time(tm_year=2017, tm_mon=4, tm_mday=30, tm_hour=18, tm_min=4, tm_sec=0, tm_wday=6, tm_yday=120, tm_isdst=0),\n",
       "  'id': 'tag:pybit.es,2017-04-30:/twitter_digest_201717.html',\n",
       "  'guidislink': False,\n",
       "  'tags': [{'term': 'twitter', 'scheme': None, 'label': None},\n",
       "   {'term': 'news', 'scheme': None, 'label': None},\n",
       "   {'term': 'tips', 'scheme': None, 'label': None},\n",
       "   {'term': 'python', 'scheme': None, 'label': None},\n",
       "   {'term': 'terminal', 'scheme': None, 'label': None},\n",
       "   {'term': 'ascii', 'scheme': None, 'label': None},\n",
       "   {'term': 'pandas', 'scheme': None, 'label': None},\n",
       "   {'term': 'booleans', 'scheme': None, 'label': None},\n",
       "   {'term': 'strings', 'scheme': None, 'label': None},\n",
       "   {'term': 'deep learning', 'scheme': None, 'label': None},\n",
       "   {'term': 'scripts', 'scheme': None, 'label': None},\n",
       "   {'term': 'aws', 'scheme': None, 'label': None},\n",
       "   {'term': 'lambda', 'scheme': None, 'label': None},\n",
       "   {'term': 'numpy', 'scheme': None, 'label': None},\n",
       "   {'term': 'unix', 'scheme': None, 'label': None}]},\n",
       " {'title': 'Learn Python by Coding for Yourself',\n",
       "  'title_detail': {'type': 'text/plain',\n",
       "   'language': None,\n",
       "   'base': 'http://projects.bobbelderbos.com/pcc/dates/all.rss.xml',\n",
       "   'value': 'Learn Python by Coding for Yourself'},\n",
       "  'links': [{'rel': 'alternate',\n",
       "    'type': 'text/html',\n",
       "    'href': 'https://pybit.es/learn-by-doing.html'}],\n",
       "  'link': 'https://pybit.es/learn-by-doing.html',\n",
       "  'summary': '<p>In this post I discuss (with examples) why it’s important to learn Python by actually coding. It’s not enough to just read!</p>',\n",
       "  'summary_detail': {'type': 'text/html',\n",
       "   'language': None,\n",
       "   'base': 'http://projects.bobbelderbos.com/pcc/dates/all.rss.xml',\n",
       "   'value': '<p>In this post I discuss (with examples) why it’s important to learn Python by actually coding. It’s not enough to just read!</p>'},\n",
       "  'authors': [{'name': 'Julian'}],\n",
       "  'author': 'Julian',\n",
       "  'author_detail': {'name': 'Julian'},\n",
       "  'published': 'Thu, 27 Apr 2017 23:30:00 +0200',\n",
       "  'published_parsed': time.struct_time(tm_year=2017, tm_mon=4, tm_mday=27, tm_hour=21, tm_min=30, tm_sec=0, tm_wday=3, tm_yday=117, tm_isdst=0),\n",
       "  'id': 'tag:pybit.es,2017-04-27:/learn-by-doing.html',\n",
       "  'guidislink': False,\n",
       "  'tags': [{'term': 'learning', 'scheme': None, 'label': None},\n",
       "   {'term': 'code', 'scheme': None, 'label': None},\n",
       "   {'term': 'programming', 'scheme': None, 'label': None},\n",
       "   {'term': 'python', 'scheme': None, 'label': None},\n",
       "   {'term': 'resources', 'scheme': None, 'label': None},\n",
       "   {'term': 'Flask', 'scheme': None, 'label': None},\n",
       "   {'term': 'Warcraft', 'scheme': None, 'label': None},\n",
       "   {'term': 'requests', 'scheme': None, 'label': None},\n",
       "   {'term': 'gmail', 'scheme': None, 'label': None},\n",
       "   {'term': 'APIs', 'scheme': None, 'label': None},\n",
       "   {'term': 'sqlite3', 'scheme': None, 'label': None},\n",
       "   {'term': 'challenge', 'scheme': None, 'label': None},\n",
       "   {'term': 'motivation', 'scheme': None, 'label': None}]},\n",
       " {'title': 'How to Write a Simple Slack Bot to Monitor Your Brand on Twitter',\n",
       "  'title_detail': {'type': 'text/plain',\n",
       "   'language': None,\n",
       "   'base': 'http://projects.bobbelderbos.com/pcc/dates/all.rss.xml',\n",
       "   'value': 'How to Write a Simple Slack Bot to Monitor Your Brand on Twitter'},\n",
       "  'links': [{'rel': 'alternate',\n",
       "    'type': 'text/html',\n",
       "    'href': 'https://pybit.es/twitter-monitor-slack-notify.html'}],\n",
       "  'link': 'https://pybit.es/twitter-monitor-slack-notify.html',\n",
       "  'summary': '<p>In this article I show you how to monitor Twitter and post alerts to a Slack channel. We built a nice tool to monitor whenever our domain gets mentioned on Twitter. The slacker and twython modules made this pretty easy. We also use configparser and logging.</p>',\n",
       "  'summary_detail': {'type': 'text/html',\n",
       "   'language': None,\n",
       "   'base': 'http://projects.bobbelderbos.com/pcc/dates/all.rss.xml',\n",
       "   'value': '<p>In this article I show you how to monitor Twitter and post alerts to a Slack channel. We built a nice tool to monitor whenever our domain gets mentioned on Twitter. The slacker and twython modules made this pretty easy. We also use configparser and logging.</p>'},\n",
       "  'authors': [{'name': 'Bob'}],\n",
       "  'author': 'Bob',\n",
       "  'author_detail': {'name': 'Bob'},\n",
       "  'published': 'Tue, 25 Apr 2017 11:00:00 +0200',\n",
       "  'published_parsed': time.struct_time(tm_year=2017, tm_mon=4, tm_mday=25, tm_hour=9, tm_min=0, tm_sec=0, tm_wday=1, tm_yday=115, tm_isdst=0),\n",
       "  'id': 'tag:pybit.es,2017-04-25:/twitter-monitor-slack-notify.html',\n",
       "  'guidislink': False,\n",
       "  'tags': [{'term': 'Twitter', 'scheme': None, 'label': None},\n",
       "   {'term': 'Slack', 'scheme': None, 'label': None},\n",
       "   {'term': 'Automation', 'scheme': None, 'label': None},\n",
       "   {'term': 'monitoring', 'scheme': None, 'label': None},\n",
       "   {'term': 'twython', 'scheme': None, 'label': None},\n",
       "   {'term': 'TwythonStreamer', 'scheme': None, 'label': None},\n",
       "   {'term': 'slacker', 'scheme': None, 'label': None},\n",
       "   {'term': 'configparser', 'scheme': None, 'label': None},\n",
       "   {'term': 'logging', 'scheme': None, 'label': None},\n",
       "   {'term': 'brand', 'scheme': None, 'label': None},\n",
       "   {'term': 'triggers', 'scheme': None, 'label': None}]},\n",
       " {'title': 'Code Challenge 16 - Query Your Favorite API',\n",
       "  'title_detail': {'type': 'text/plain',\n",
       "   'language': None,\n",
       "   'base': 'http://projects.bobbelderbos.com/pcc/dates/all.rss.xml',\n",
       "   'value': 'Code Challenge 16 - Query Your Favorite API'},\n",
       "  'links': [{'rel': 'alternate',\n",
       "    'type': 'text/html',\n",
       "    'href': 'https://pybit.es/codechallenge16.html'}],\n",
       "  'link': 'https://pybit.es/codechallenge16.html',\n",
       "  'summary': \"<p>Hi Pythonistas, a new week, a new 'bite' of Python coding! This week we'll let you play with Web APIs. They are fun to fiddle with and great for learning and building cool things. Enjoy!</p>\",\n",
       "  'summary_detail': {'type': 'text/html',\n",
       "   'language': None,\n",
       "   'base': 'http://projects.bobbelderbos.com/pcc/dates/all.rss.xml',\n",
       "   'value': \"<p>Hi Pythonistas, a new week, a new 'bite' of Python coding! This week we'll let you play with Web APIs. They are fun to fiddle with and great for learning and building cool things. Enjoy!</p>\"},\n",
       "  'authors': [{'name': 'PyBites'}],\n",
       "  'author': 'PyBites',\n",
       "  'author_detail': {'name': 'PyBites'},\n",
       "  'published': 'Mon, 24 Apr 2017 00:01:00 +0200',\n",
       "  'published_parsed': time.struct_time(tm_year=2017, tm_mon=4, tm_mday=23, tm_hour=22, tm_min=1, tm_sec=0, tm_wday=6, tm_yday=113, tm_isdst=0),\n",
       "  'id': 'tag:pybit.es,2017-04-24:/codechallenge16.html',\n",
       "  'guidislink': False,\n",
       "  'tags': [{'term': 'codechallenges', 'scheme': None, 'label': None},\n",
       "   {'term': 'learning', 'scheme': None, 'label': None},\n",
       "   {'term': 'APIs', 'scheme': None, 'label': None},\n",
       "   {'term': 'movies', 'scheme': None, 'label': None},\n",
       "   {'term': 'music', 'scheme': None, 'label': None},\n",
       "   {'term': 'Slack', 'scheme': None, 'label': None},\n",
       "   {'term': 'Twitter', 'scheme': None, 'label': None},\n",
       "   {'term': 'weather', 'scheme': None, 'label': None}]},\n",
       " {'title': 'Twitter digest 2017 week 16',\n",
       "  'title_detail': {'type': 'text/plain',\n",
       "   'language': None,\n",
       "   'base': 'http://projects.bobbelderbos.com/pcc/dates/all.rss.xml',\n",
       "   'value': 'Twitter digest 2017 week 16'},\n",
       "  'links': [{'rel': 'alternate',\n",
       "    'type': 'text/html',\n",
       "    'href': 'https://pybit.es/twitter_digest_201716.html'}],\n",
       "  'link': 'https://pybit.es/twitter_digest_201716.html',\n",
       "  'summary': '<p>Every weekend we share a curated list of 15 cool things (mostly Python) that we found / tweeted throughout the week.</p>',\n",
       "  'summary_detail': {'type': 'text/html',\n",
       "   'language': None,\n",
       "   'base': 'http://projects.bobbelderbos.com/pcc/dates/all.rss.xml',\n",
       "   'value': '<p>Every weekend we share a curated list of 15 cool things (mostly Python) that we found / tweeted throughout the week.</p>'},\n",
       "  'authors': [{'name': 'PyBites'}],\n",
       "  'author': 'PyBites',\n",
       "  'author_detail': {'name': 'PyBites'},\n",
       "  'published': 'Sun, 23 Apr 2017 20:04:00 +0200',\n",
       "  'published_parsed': time.struct_time(tm_year=2017, tm_mon=4, tm_mday=23, tm_hour=18, tm_min=4, tm_sec=0, tm_wday=6, tm_yday=113, tm_isdst=0),\n",
       "  'id': 'tag:pybit.es,2017-04-23:/twitter_digest_201716.html',\n",
       "  'guidislink': False,\n",
       "  'tags': [{'term': 'twitter', 'scheme': None, 'label': None},\n",
       "   {'term': 'news', 'scheme': None, 'label': None},\n",
       "   {'term': 'tips', 'scheme': None, 'label': None},\n",
       "   {'term': 'python', 'scheme': None, 'label': None},\n",
       "   {'term': 'aws', 'scheme': None, 'label': None},\n",
       "   {'term': 'pillow', 'scheme': None, 'label': None},\n",
       "   {'term': 'passwords', 'scheme': None, 'label': None},\n",
       "   {'term': 'books', 'scheme': None, 'label': None},\n",
       "   {'term': 'folium', 'scheme': None, 'label': None},\n",
       "   {'term': 'sql', 'scheme': None, 'label': None},\n",
       "   {'term': 'automation', 'scheme': None, 'label': None},\n",
       "   {'term': 'machine learning', 'scheme': None, 'label': None},\n",
       "   {'term': 'tensorflow', 'scheme': None, 'label': None},\n",
       "   {'term': 'podcasts', 'scheme': None, 'label': None},\n",
       "   {'term': 'data science', 'scheme': None, 'label': None}]},\n",
       " {'title': 'Code Challenge 15 - Create a Simple Flask App - Review',\n",
       "  'title_detail': {'type': 'text/plain',\n",
       "   'language': None,\n",
       "   'base': 'http://projects.bobbelderbos.com/pcc/dates/all.rss.xml',\n",
       "   'value': 'Code Challenge 15 - Create a Simple Flask App - Review'},\n",
       "  'links': [{'rel': 'alternate',\n",
       "    'type': 'text/html',\n",
       "    'href': 'https://pybit.es/codechallenge15_review.html'}],\n",
       "  'link': 'https://pybit.es/codechallenge15_review.html',\n",
       "  'summary': '<p>It\\'s end of the week again so we review the <a href=\"http://pybit.es/codechallenge15.html\">code challenge of this week</a>. It\\'s never late to sign up, just fork our <a href=\"https://github.com/pybites/challenges\">challenges repo</a> and start coding.</p>',\n",
       "  'summary_detail': {'type': 'text/html',\n",
       "   'language': None,\n",
       "   'base': 'http://projects.bobbelderbos.com/pcc/dates/all.rss.xml',\n",
       "   'value': '<p>It\\'s end of the week again so we review the <a href=\"http://pybit.es/codechallenge15.html\">code challenge of this week</a>. It\\'s never late to sign up, just fork our <a href=\"https://github.com/pybites/challenges\">challenges repo</a> and start coding.</p>'},\n",
       "  'authors': [{'name': 'PyBites'}],\n",
       "  'author': 'PyBites',\n",
       "  'author_detail': {'name': 'PyBites'},\n",
       "  'published': 'Sat, 22 Apr 2017 17:20:00 +0200',\n",
       "  'published_parsed': time.struct_time(tm_year=2017, tm_mon=4, tm_mday=22, tm_hour=15, tm_min=20, tm_sec=0, tm_wday=5, tm_yday=112, tm_isdst=0),\n",
       "  'id': 'tag:pybit.es,2017-04-22:/codechallenge15_review.html',\n",
       "  'guidislink': False,\n",
       "  'tags': [{'term': 'codechallenges', 'scheme': None, 'label': None},\n",
       "   {'term': 'learning', 'scheme': None, 'label': None},\n",
       "   {'term': 'Flask', 'scheme': None, 'label': None},\n",
       "   {'term': 'task manager', 'scheme': None, 'label': None},\n",
       "   {'term': 'reading planner', 'scheme': None, 'label': None},\n",
       "   {'term': 'meal history', 'scheme': None, 'label': None}]},\n",
       " {'title': 'Simple Flask app to compare the weather of 2 cities',\n",
       "  'title_detail': {'type': 'text/plain',\n",
       "   'language': None,\n",
       "   'base': 'http://projects.bobbelderbos.com/pcc/dates/all.rss.xml',\n",
       "   'value': 'Simple Flask app to compare the weather of 2 cities'},\n",
       "  'links': [{'rel': 'alternate',\n",
       "    'type': 'text/html',\n",
       "    'href': 'https://pybit.es/flask-simple-weather-app.html'}],\n",
       "  'link': 'https://pybit.es/flask-simple-weather-app.html',\n",
       "  'summary': '<p>In this post I show you how to build a simple Flask app to compare the weather of 2 cities using the <a href=\"https://openweathermap.org\">OpenWeatherMap API</a>. Maybe this aids you in solving <a href=\"http://pybit.es/codechallenge15.html\">this week\\'s challenge</a>.</p>',\n",
       "  'summary_detail': {'type': 'text/html',\n",
       "   'language': None,\n",
       "   'base': 'http://projects.bobbelderbos.com/pcc/dates/all.rss.xml',\n",
       "   'value': '<p>In this post I show you how to build a simple Flask app to compare the weather of 2 cities using the <a href=\"https://openweathermap.org\">OpenWeatherMap API</a>. Maybe this aids you in solving <a href=\"http://pybit.es/codechallenge15.html\">this week\\'s challenge</a>.</p>'},\n",
       "  'authors': [{'name': 'Bob'}],\n",
       "  'author': 'Bob',\n",
       "  'author_detail': {'name': 'Bob'},\n",
       "  'published': 'Thu, 20 Apr 2017 09:40:00 +0200',\n",
       "  'published_parsed': time.struct_time(tm_year=2017, tm_mon=4, tm_mday=20, tm_hour=7, tm_min=40, tm_sec=0, tm_wday=3, tm_yday=110, tm_isdst=0),\n",
       "  'id': 'tag:pybit.es,2017-04-20:/flask-simple-weather-app.html',\n",
       "  'guidislink': False,\n",
       "  'tags': [{'term': 'Flask', 'scheme': None, 'label': None},\n",
       "   {'term': 'weather', 'scheme': None, 'label': None},\n",
       "   {'term': 'API', 'scheme': None, 'label': None},\n",
       "   {'term': 'OpenWeatherMap', 'scheme': None, 'label': None},\n",
       "   {'term': 'learning', 'scheme': None, 'label': None},\n",
       "   {'term': 'Heroku', 'scheme': None, 'label': None},\n",
       "   {'term': 'pytz', 'scheme': None, 'label': None},\n",
       "   {'term': 'deploy', 'scheme': None, 'label': None},\n",
       "   {'term': 'Jinja', 'scheme': None, 'label': None},\n",
       "   {'term': 'CSS', 'scheme': None, 'label': None}]},\n",
       " {'title': 'Behind the Scenes of PyBites - a Blog for Passionate Pythonistas (Post #100 Special)',\n",
       "  'title_detail': {'type': 'text/plain',\n",
       "   'language': None,\n",
       "   'base': 'http://projects.bobbelderbos.com/pcc/dates/all.rss.xml',\n",
       "   'value': 'Behind the Scenes of PyBites - a Blog for Passionate Pythonistas (Post #100 Special)'},\n",
       "  'links': [{'rel': 'alternate',\n",
       "    'type': 'text/html',\n",
       "    'href': 'https://pybit.es/special-building-pybites.html'}],\n",
       "  'link': 'https://pybit.es/special-building-pybites.html',\n",
       "  'summary': '<p>Python is hot according to <a href=\"http://insights.dice.com/2016/02/01/whats-hot-and-not-in-tech-skills/\">Dice</a>. It’s an easy language to learn, has an elegant design and is widely used. In this article we proudly present our now 4 months journey into building PyBites. It’s a reflection of what we achieved and lessons learned. We hope to inspire fellow developers to start their own venture. It is very rewarding!</p>',\n",
       "  'summary_detail': {'type': 'text/html',\n",
       "   'language': None,\n",
       "   'base': 'http://projects.bobbelderbos.com/pcc/dates/all.rss.xml',\n",
       "   'value': '<p>Python is hot according to <a href=\"http://insights.dice.com/2016/02/01/whats-hot-and-not-in-tech-skills/\">Dice</a>. It’s an easy language to learn, has an elegant design and is widely used. In this article we proudly present our now 4 months journey into building PyBites. It’s a reflection of what we achieved and lessons learned. We hope to inspire fellow developers to start their own venture. It is very rewarding!</p>'},\n",
       "  'authors': [{'name': 'PyBites'}],\n",
       "  'author': 'PyBites',\n",
       "  'author_detail': {'name': 'PyBites'},\n",
       "  'published': 'Tue, 18 Apr 2017 08:24:00 +0200',\n",
       "  'published_parsed': time.struct_time(tm_year=2017, tm_mon=4, tm_mday=18, tm_hour=6, tm_min=24, tm_sec=0, tm_wday=1, tm_yday=108, tm_isdst=0),\n",
       "  'id': 'tag:pybit.es,2017-04-18:/special-building-pybites.html',\n",
       "  'guidislink': False,\n",
       "  'tags': [{'term': 'special', 'scheme': None, 'label': None},\n",
       "   {'term': 'milestone', 'scheme': None, 'label': None},\n",
       "   {'term': 'softskills', 'scheme': None, 'label': None},\n",
       "   {'term': 'learning', 'scheme': None, 'label': None},\n",
       "   {'term': 'lessons', 'scheme': None, 'label': None},\n",
       "   {'term': 'community', 'scheme': None, 'label': None},\n",
       "   {'term': 'pelican', 'scheme': None, 'label': None},\n",
       "   {'term': 'challenge', 'scheme': None, 'label': None},\n",
       "   {'term': 'python', 'scheme': None, 'label': None},\n",
       "   {'term': 'pybites', 'scheme': None, 'label': None},\n",
       "   {'term': 'automation', 'scheme': None, 'label': None}]},\n",
       " {'title': 'Code Challenge 15 - Create a Simple Flask App',\n",
       "  'title_detail': {'type': 'text/plain',\n",
       "   'language': None,\n",
       "   'base': 'http://projects.bobbelderbos.com/pcc/dates/all.rss.xml',\n",
       "   'value': 'Code Challenge 15 - Create a Simple Flask App'},\n",
       "  'links': [{'rel': 'alternate',\n",
       "    'type': 'text/html',\n",
       "    'href': 'https://pybit.es/codechallenge15.html'}],\n",
       "  'link': 'https://pybit.es/codechallenge15.html',\n",
       "  'summary': \"<p>Hi Pythonistas, a new week, a new 'bite' of Python coding! This week we’re going to get down and dirty with Python Flask. Flask is becoming a hot skill to have up your sleeve. We’re all in with learning it so figure it’s about time we had a challenge on it! Enjoy!</p>\",\n",
       "  'summary_detail': {'type': 'text/html',\n",
       "   'language': None,\n",
       "   'base': 'http://projects.bobbelderbos.com/pcc/dates/all.rss.xml',\n",
       "   'value': \"<p>Hi Pythonistas, a new week, a new 'bite' of Python coding! This week we’re going to get down and dirty with Python Flask. Flask is becoming a hot skill to have up your sleeve. We’re all in with learning it so figure it’s about time we had a challenge on it! Enjoy!</p>\"},\n",
       "  'authors': [{'name': 'PyBites'}],\n",
       "  'author': 'PyBites',\n",
       "  'author_detail': {'name': 'PyBites'},\n",
       "  'published': 'Mon, 17 Apr 2017 08:40:00 +0200',\n",
       "  'published_parsed': time.struct_time(tm_year=2017, tm_mon=4, tm_mday=17, tm_hour=6, tm_min=40, tm_sec=0, tm_wday=0, tm_yday=107, tm_isdst=0),\n",
       "  'id': 'tag:pybit.es,2017-04-17:/codechallenge15.html',\n",
       "  'guidislink': False,\n",
       "  'tags': [{'term': 'codechallenges', 'scheme': None, 'label': None},\n",
       "   {'term': 'learning', 'scheme': None, 'label': None},\n",
       "   {'term': 'flask', 'scheme': None, 'label': None},\n",
       "   {'term': 'todo', 'scheme': None, 'label': None}]},\n",
       " {'title': 'Twitter digest 2017 week 15',\n",
       "  'title_detail': {'type': 'text/plain',\n",
       "   'language': None,\n",
       "   'base': 'http://projects.bobbelderbos.com/pcc/dates/all.rss.xml',\n",
       "   'value': 'Twitter digest 2017 week 15'},\n",
       "  'links': [{'rel': 'alternate',\n",
       "    'type': 'text/html',\n",
       "    'href': 'https://pybit.es/twitter_digest_201715.html'}],\n",
       "  'link': 'https://pybit.es/twitter_digest_201715.html',\n",
       "  'summary': '<p>Every weekend we share a curated list of 15 cool things (mostly Python) that we found / tweeted throughout the week.</p>',\n",
       "  'summary_detail': {'type': 'text/html',\n",
       "   'language': None,\n",
       "   'base': 'http://projects.bobbelderbos.com/pcc/dates/all.rss.xml',\n",
       "   'value': '<p>Every weekend we share a curated list of 15 cool things (mostly Python) that we found / tweeted throughout the week.</p>'},\n",
       "  'authors': [{'name': 'PyBites'}],\n",
       "  'author': 'PyBites',\n",
       "  'author_detail': {'name': 'PyBites'},\n",
       "  'published': 'Sun, 16 Apr 2017 12:57:00 +0200',\n",
       "  'published_parsed': time.struct_time(tm_year=2017, tm_mon=4, tm_mday=16, tm_hour=10, tm_min=57, tm_sec=0, tm_wday=6, tm_yday=106, tm_isdst=0),\n",
       "  'id': 'tag:pybit.es,2017-04-16:/twitter_digest_201715.html',\n",
       "  'guidislink': False,\n",
       "  'tags': [{'term': 'twitter', 'scheme': None, 'label': None},\n",
       "   {'term': 'news', 'scheme': None, 'label': None},\n",
       "   {'term': 'tips', 'scheme': None, 'label': None},\n",
       "   {'term': 'python', 'scheme': None, 'label': None},\n",
       "   {'term': 'frameworks', 'scheme': None, 'label': None},\n",
       "   {'term': 'chrome', 'scheme': None, 'label': None},\n",
       "   {'term': 'iterm2', 'scheme': None, 'label': None},\n",
       "   {'term': 'twilio', 'scheme': None, 'label': None},\n",
       "   {'term': 'books', 'scheme': None, 'label': None},\n",
       "   {'term': 'learning', 'scheme': None, 'label': None},\n",
       "   {'term': 'beginners', 'scheme': None, 'label': None},\n",
       "   {'term': 'dictionaries', 'scheme': None, 'label': None},\n",
       "   {'term': 'web scraping', 'scheme': None, 'label': None},\n",
       "   {'term': 'cheat sheet', 'scheme': None, 'label': None},\n",
       "   {'term': 'bokeh', 'scheme': None, 'label': None},\n",
       "   {'term': 'data science', 'scheme': None, 'label': None},\n",
       "   {'term': 'decorators', 'scheme': None, 'label': None},\n",
       "   {'term': 'APIs', 'scheme': None, 'label': None},\n",
       "   {'term': 'pygamels', 'scheme': None, 'label': None}]},\n",
       " {'title': 'Code Challenge 14 - Write DRY Code With Decorators - Review',\n",
       "  'title_detail': {'type': 'text/plain',\n",
       "   'language': None,\n",
       "   'base': 'http://projects.bobbelderbos.com/pcc/dates/all.rss.xml',\n",
       "   'value': 'Code Challenge 14 - Write DRY Code With Decorators - Review'},\n",
       "  'links': [{'rel': 'alternate',\n",
       "    'type': 'text/html',\n",
       "    'href': 'https://pybit.es/codechallenge14_review.html'}],\n",
       "  'link': 'https://pybit.es/codechallenge14_review.html',\n",
       "  'summary': '<p>It\\'s end of the week again so we review the <a href=\"http://pybit.es/codechallenge14.html\">code challenge of this week</a>. It\\'s never late to sign up, just fork our <a href=\"https://github.com/pybites/challenges\">challenges repo</a> and start coding.</p>',\n",
       "  'summary_detail': {'type': 'text/html',\n",
       "   'language': None,\n",
       "   'base': 'http://projects.bobbelderbos.com/pcc/dates/all.rss.xml',\n",
       "   'value': '<p>It\\'s end of the week again so we review the <a href=\"http://pybit.es/codechallenge14.html\">code challenge of this week</a>. It\\'s never late to sign up, just fork our <a href=\"https://github.com/pybites/challenges\">challenges repo</a> and start coding.</p>'},\n",
       "  'authors': [{'name': 'PyBites'}],\n",
       "  'author': 'PyBites',\n",
       "  'author_detail': {'name': 'PyBites'},\n",
       "  'published': 'Sat, 15 Apr 2017 01:00:00 +0200',\n",
       "  'published_parsed': time.struct_time(tm_year=2017, tm_mon=4, tm_mday=14, tm_hour=23, tm_min=0, tm_sec=0, tm_wday=4, tm_yday=104, tm_isdst=0),\n",
       "  'id': 'tag:pybit.es,2017-04-15:/codechallenge14_review.html',\n",
       "  'guidislink': False,\n",
       "  'tags': [{'term': 'codechallenges', 'scheme': None, 'label': None},\n",
       "   {'term': 'learning', 'scheme': None, 'label': None},\n",
       "   {'term': 'decorators', 'scheme': None, 'label': None},\n",
       "   {'term': 'design patterns', 'scheme': None, 'label': None},\n",
       "   {'term': 'DRY', 'scheme': None, 'label': None}]},\n",
       " {'title': 'Beginning Flask',\n",
       "  'title_detail': {'type': 'text/plain',\n",
       "   'language': None,\n",
       "   'base': 'http://projects.bobbelderbos.com/pcc/dates/all.rss.xml',\n",
       "   'value': 'Beginning Flask'},\n",
       "  'links': [{'rel': 'alternate',\n",
       "    'type': 'text/html',\n",
       "    'href': 'https://pybit.es/beginning-flask.html'}],\n",
       "  'link': 'https://pybit.es/beginning-flask.html',\n",
       "  'summary': '<p>In this post I cover the basics of Flask in language that anyone can understand.</p>',\n",
       "  'summary_detail': {'type': 'text/html',\n",
       "   'language': None,\n",
       "   'base': 'http://projects.bobbelderbos.com/pcc/dates/all.rss.xml',\n",
       "   'value': '<p>In this post I cover the basics of Flask in language that anyone can understand.</p>'},\n",
       "  'authors': [{'name': 'Julian'}],\n",
       "  'author': 'Julian',\n",
       "  'author_detail': {'name': 'Julian'},\n",
       "  'published': 'Thu, 13 Apr 2017 15:00:00 +0200',\n",
       "  'published_parsed': time.struct_time(tm_year=2017, tm_mon=4, tm_mday=13, tm_hour=13, tm_min=0, tm_sec=0, tm_wday=3, tm_yday=103, tm_isdst=0),\n",
       "  'id': 'tag:pybit.es,2017-04-13:/beginning-flask.html',\n",
       "  'guidislink': False,\n",
       "  'tags': [{'term': 'Flask', 'scheme': None, 'label': None},\n",
       "   {'term': 'python', 'scheme': None, 'label': None},\n",
       "   {'term': 'decorators', 'scheme': None, 'label': None},\n",
       "   {'term': 'tutorial', 'scheme': None, 'label': None},\n",
       "   {'term': 'learning', 'scheme': None, 'label': None}]},\n",
       " {'title': 'How to Write a Decorator with an Optional Argument?',\n",
       "  'title_detail': {'type': 'text/plain',\n",
       "   'language': None,\n",
       "   'base': 'http://projects.bobbelderbos.com/pcc/dates/all.rss.xml',\n",
       "   'value': 'How to Write a Decorator with an Optional Argument?'},\n",
       "  'links': [{'rel': 'alternate',\n",
       "    'type': 'text/html',\n",
       "    'href': 'https://pybit.es/decorator-optional-argument.html'}],\n",
       "  'link': 'https://pybit.es/decorator-optional-argument.html',\n",
       "  'summary': '<p>When playing with decorators (<a href=\"http://pybit.es/codechallenge14.html\">this week\\'s challenge</a>) I got stuck: how do you write a decorator that takes an optional argument? <a href=\"http://www.amazon.com/dp/1449340377/?tag=pyb0f-20\">Python cookbook 3rd ed</a> edition to the rescue. In this post how I failed my way to the right solution.</p>',\n",
       "  'summary_detail': {'type': 'text/html',\n",
       "   'language': None,\n",
       "   'base': 'http://projects.bobbelderbos.com/pcc/dates/all.rss.xml',\n",
       "   'value': '<p>When playing with decorators (<a href=\"http://pybit.es/codechallenge14.html\">this week\\'s challenge</a>) I got stuck: how do you write a decorator that takes an optional argument? <a href=\"http://www.amazon.com/dp/1449340377/?tag=pyb0f-20\">Python cookbook 3rd ed</a> edition to the rescue. In this post how I failed my way to the right solution.</p>'},\n",
       "  'authors': [{'name': 'Bob'}],\n",
       "  'author': 'Bob',\n",
       "  'author_detail': {'name': 'Bob'},\n",
       "  'published': 'Tue, 11 Apr 2017 09:00:00 +0200',\n",
       "  'published_parsed': time.struct_time(tm_year=2017, tm_mon=4, tm_mday=11, tm_hour=7, tm_min=0, tm_sec=0, tm_wday=1, tm_yday=101, tm_isdst=0),\n",
       "  'id': 'tag:pybit.es,2017-04-11:/decorator-optional-argument.html',\n",
       "  'guidislink': False,\n",
       "  'tags': [{'term': 'decorators', 'scheme': None, 'label': None},\n",
       "   {'term': 'arguments', 'scheme': None, 'label': None},\n",
       "   {'term': 'tricks', 'scheme': None, 'label': None},\n",
       "   {'term': 'tips', 'scheme': None, 'label': None},\n",
       "   {'term': 'cookbook', 'scheme': None, 'label': None}]},\n",
       " {'title': 'Code Challenge 14 - Write DRY Code With Decorators',\n",
       "  'title_detail': {'type': 'text/plain',\n",
       "   'language': None,\n",
       "   'base': 'http://projects.bobbelderbos.com/pcc/dates/all.rss.xml',\n",
       "   'value': 'Code Challenge 14 - Write DRY Code With Decorators'},\n",
       "  'links': [{'rel': 'alternate',\n",
       "    'type': 'text/html',\n",
       "    'href': 'https://pybit.es/codechallenge14.html'}],\n",
       "  'link': 'https://pybit.es/codechallenge14.html',\n",
       "  'summary': \"<p>Hi Pythonistas, a new week, a new 'bite' of Python coding! This week we let you practice with decorators, a nice way to abstract away common functionality. It allows you to alter the behavior of a callable without modifying the callable itself. We agree with Dan Bader that 'understanding decorators is a milestone for any serious Python programmer.' Enjoy!</p>\",\n",
       "  'summary_detail': {'type': 'text/html',\n",
       "   'language': None,\n",
       "   'base': 'http://projects.bobbelderbos.com/pcc/dates/all.rss.xml',\n",
       "   'value': \"<p>Hi Pythonistas, a new week, a new 'bite' of Python coding! This week we let you practice with decorators, a nice way to abstract away common functionality. It allows you to alter the behavior of a callable without modifying the callable itself. We agree with Dan Bader that 'understanding decorators is a milestone for any serious Python programmer.' Enjoy!</p>\"},\n",
       "  'authors': [{'name': 'PyBites'}],\n",
       "  'author': 'PyBites',\n",
       "  'author_detail': {'name': 'PyBites'},\n",
       "  'published': 'Mon, 10 Apr 2017 09:00:00 +0200',\n",
       "  'published_parsed': time.struct_time(tm_year=2017, tm_mon=4, tm_mday=10, tm_hour=7, tm_min=0, tm_sec=0, tm_wday=0, tm_yday=100, tm_isdst=0),\n",
       "  'id': 'tag:pybit.es,2017-04-10:/codechallenge14.html',\n",
       "  'guidislink': False,\n",
       "  'tags': [{'term': 'codechallenges', 'scheme': None, 'label': None},\n",
       "   {'term': 'learning', 'scheme': None, 'label': None},\n",
       "   {'term': 'decorators', 'scheme': None, 'label': None},\n",
       "   {'term': 'design patterns', 'scheme': None, 'label': None},\n",
       "   {'term': 'DRY', 'scheme': None, 'label': None}]},\n",
       " {'title': 'Twitter digest 2017 week 14',\n",
       "  'title_detail': {'type': 'text/plain',\n",
       "   'language': None,\n",
       "   'base': 'http://projects.bobbelderbos.com/pcc/dates/all.rss.xml',\n",
       "   'value': 'Twitter digest 2017 week 14'},\n",
       "  'links': [{'rel': 'alternate',\n",
       "    'type': 'text/html',\n",
       "    'href': 'https://pybit.es/twitter_digest_201714.html'}],\n",
       "  'link': 'https://pybit.es/twitter_digest_201714.html',\n",
       "  'summary': '<p>Every weekend we share a curated list of 15 cool things (mostly Python) that we found / tweeted throughout the week.</p>',\n",
       "  'summary_detail': {'type': 'text/html',\n",
       "   'language': None,\n",
       "   'base': 'http://projects.bobbelderbos.com/pcc/dates/all.rss.xml',\n",
       "   'value': '<p>Every weekend we share a curated list of 15 cool things (mostly Python) that we found / tweeted throughout the week.</p>'},\n",
       "  'authors': [{'name': 'PyBites'}],\n",
       "  'author': 'PyBites',\n",
       "  'author_detail': {'name': 'PyBites'},\n",
       "  'published': 'Sun, 09 Apr 2017 09:55:00 +0200',\n",
       "  'published_parsed': time.struct_time(tm_year=2017, tm_mon=4, tm_mday=9, tm_hour=7, tm_min=55, tm_sec=0, tm_wday=6, tm_yday=99, tm_isdst=0),\n",
       "  'id': 'tag:pybit.es,2017-04-09:/twitter_digest_201714.html',\n",
       "  'guidislink': False,\n",
       "  'tags': [{'term': 'twitter', 'scheme': None, 'label': None},\n",
       "   {'term': 'news', 'scheme': None, 'label': None},\n",
       "   {'term': 'tips', 'scheme': None, 'label': None},\n",
       "   {'term': 'python', 'scheme': None, 'label': None},\n",
       "   {'term': 'safari books', 'scheme': None, 'label': None},\n",
       "   {'term': 'cheatsheet', 'scheme': None, 'label': None},\n",
       "   {'term': 'ruby', 'scheme': None, 'label': None},\n",
       "   {'term': 'heroku', 'scheme': None, 'label': None},\n",
       "   {'term': 'aws', 'scheme': None, 'label': None},\n",
       "   {'term': 'Django', 'scheme': None, 'label': None},\n",
       "   {'term': 'slack', 'scheme': None, 'label': None},\n",
       "   {'term': 'alexa', 'scheme': None, 'label': None},\n",
       "   {'term': 'data science', 'scheme': None, 'label': None},\n",
       "   {'term': 'ebook', 'scheme': None, 'label': None},\n",
       "   {'term': 'cron', 'scheme': None, 'label': None},\n",
       "   {'term': 'machine learning', 'scheme': None, 'label': None},\n",
       "   {'term': 'git', 'scheme': None, 'label': None}]},\n",
       " {'title': 'Code Challenge 13 - Highest Rated Movie Directors - Review',\n",
       "  'title_detail': {'type': 'text/plain',\n",
       "   'language': None,\n",
       "   'base': 'http://projects.bobbelderbos.com/pcc/dates/all.rss.xml',\n",
       "   'value': 'Code Challenge 13 - Highest Rated Movie Directors - Review'},\n",
       "  'links': [{'rel': 'alternate',\n",
       "    'type': 'text/html',\n",
       "    'href': 'https://pybit.es/codechallenge13_review.html'}],\n",
       "  'link': 'https://pybit.es/codechallenge13_review.html',\n",
       "  'summary': '<p>It\\'s end of the week again so we review the <a href=\"http://pybit.es/codechallenge13.html\">code challenge of this week</a>. It\\'s never late to sign up, just fork our <a href=\"https://github.com/pybites/challenges\">challenges repo</a> and start coding.</p>',\n",
       "  'summary_detail': {'type': 'text/html',\n",
       "   'language': None,\n",
       "   'base': 'http://projects.bobbelderbos.com/pcc/dates/all.rss.xml',\n",
       "   'value': '<p>It\\'s end of the week again so we review the <a href=\"http://pybit.es/codechallenge13.html\">code challenge of this week</a>. It\\'s never late to sign up, just fork our <a href=\"https://github.com/pybites/challenges\">challenges repo</a> and start coding.</p>'},\n",
       "  'authors': [{'name': 'PyBites'}],\n",
       "  'author': 'PyBites',\n",
       "  'author_detail': {'name': 'PyBites'},\n",
       "  'published': 'Sat, 08 Apr 2017 23:59:00 +0200',\n",
       "  'published_parsed': time.struct_time(tm_year=2017, tm_mon=4, tm_mday=8, tm_hour=21, tm_min=59, tm_sec=0, tm_wday=5, tm_yday=98, tm_isdst=0),\n",
       "  'id': 'tag:pybit.es,2017-04-08:/codechallenge13_review.html',\n",
       "  'guidislink': False,\n",
       "  'tags': [{'term': 'codechallenges', 'scheme': None, 'label': None},\n",
       "   {'term': 'learning', 'scheme': None, 'label': None},\n",
       "   {'term': 'data analysis', 'scheme': None, 'label': None},\n",
       "   {'term': 'movies', 'scheme': None, 'label': None},\n",
       "   {'term': 'imdb', 'scheme': None, 'label': None},\n",
       "   {'term': 'sort', 'scheme': None, 'label': None},\n",
       "   {'term': 'namedtuples', 'scheme': None, 'label': None},\n",
       "   {'term': 'defaultdict', 'scheme': None, 'label': None}]},\n",
       " {'title': 'Flask for Loops - Printing Dict Data',\n",
       "  'title_detail': {'type': 'text/plain',\n",
       "   'language': None,\n",
       "   'base': 'http://projects.bobbelderbos.com/pcc/dates/all.rss.xml',\n",
       "   'value': 'Flask for Loops - Printing Dict Data'},\n",
       "  'links': [{'rel': 'alternate',\n",
       "    'type': 'text/html',\n",
       "    'href': 'https://pybit.es/flask-for-loop.html'}],\n",
       "  'link': 'https://pybit.es/flask-for-loop.html',\n",
       "  'summary': '<p>In this post I demo how to create an extremely simple Flask app that prints the contents of a Dict to a web page.</p>',\n",
       "  'summary_detail': {'type': 'text/html',\n",
       "   'language': None,\n",
       "   'base': 'http://projects.bobbelderbos.com/pcc/dates/all.rss.xml',\n",
       "   'value': '<p>In this post I demo how to create an extremely simple Flask app that prints the contents of a Dict to a web page.</p>'},\n",
       "  'authors': [{'name': 'Julian'}],\n",
       "  'author': 'Julian',\n",
       "  'author_detail': {'name': 'Julian'},\n",
       "  'published': 'Thu, 06 Apr 2017 20:38:00 +0200',\n",
       "  'published_parsed': time.struct_time(tm_year=2017, tm_mon=4, tm_mday=6, tm_hour=18, tm_min=38, tm_sec=0, tm_wday=3, tm_yday=96, tm_isdst=0),\n",
       "  'id': 'tag:pybit.es,2017-04-06:/flask-for-loop.html',\n",
       "  'guidislink': False,\n",
       "  'tags': [{'term': 'Flask', 'scheme': None, 'label': None},\n",
       "   {'term': 'loops', 'scheme': None, 'label': None},\n",
       "   {'term': 'python', 'scheme': None, 'label': None},\n",
       "   {'term': 'decorators', 'scheme': None, 'label': None},\n",
       "   {'term': 'tutorial', 'scheme': None, 'label': None},\n",
       "   {'term': 'learning', 'scheme': None, 'label': None}]},\n",
       " {'title': 'How we Automated our 100DaysOfCode Daily Tweet',\n",
       "  'title_detail': {'type': 'text/plain',\n",
       "   'language': None,\n",
       "   'base': 'http://projects.bobbelderbos.com/pcc/dates/all.rss.xml',\n",
       "   'value': 'How we Automated our 100DaysOfCode Daily Tweet'},\n",
       "  'links': [{'rel': 'alternate',\n",
       "    'type': 'text/html',\n",
       "    'href': 'https://pybit.es/100days-autotweet.html'}],\n",
       "  'link': 'https://pybit.es/100days-autotweet.html',\n",
       "  'summary': \"<p>In this article I show you a way to automatically tweet your #100DaysOfCode Challenge progress. This saves you some extra time to focus on the coding. Isn't that all what matters?</p>\",\n",
       "  'summary_detail': {'type': 'text/html',\n",
       "   'language': None,\n",
       "   'base': 'http://projects.bobbelderbos.com/pcc/dates/all.rss.xml',\n",
       "   'value': \"<p>In this article I show you a way to automatically tweet your #100DaysOfCode Challenge progress. This saves you some extra time to focus on the coding. Isn't that all what matters?</p>\"},\n",
       "  'authors': [{'name': 'Bob'}],\n",
       "  'author': 'Bob',\n",
       "  'author_detail': {'name': 'Bob'},\n",
       "  'published': 'Wed, 05 Apr 2017 23:00:00 +0200',\n",
       "  'published_parsed': time.struct_time(tm_year=2017, tm_mon=4, tm_mday=5, tm_hour=21, tm_min=0, tm_sec=0, tm_wday=2, tm_yday=95, tm_isdst=0),\n",
       "  'id': 'tag:pybit.es,2017-04-05:/100days-autotweet.html',\n",
       "  'guidislink': False,\n",
       "  'tags': [{'term': 'twitter', 'scheme': None, 'label': None},\n",
       "   {'term': 'automation', 'scheme': None, 'label': None},\n",
       "   {'term': 'tools', 'scheme': None, 'label': None},\n",
       "   {'term': '100days', 'scheme': None, 'label': None},\n",
       "   {'term': 'logging', 'scheme': None, 'label': None},\n",
       "   {'term': 'tweepy', 'scheme': None, 'label': None},\n",
       "   {'term': 'pytz', 'scheme': None, 'label': None}]},\n",
       " {'title': 'How to Build a Simple Slack Bot',\n",
       "  'title_detail': {'type': 'text/plain',\n",
       "   'language': None,\n",
       "   'base': 'http://projects.bobbelderbos.com/pcc/dates/all.rss.xml',\n",
       "   'value': 'How to Build a Simple Slack Bot'},\n",
       "  'links': [{'rel': 'alternate',\n",
       "    'type': 'text/html',\n",
       "    'href': 'https://pybit.es/simple-chatbot.html'}],\n",
       "  'link': 'https://pybit.es/simple-chatbot.html',\n",
       "  'summary': \"<p>I was playing with Slack's Real Time Messaging API the other day. Building a bot is pretty easy. In this article a simple example.</p>\",\n",
       "  'summary_detail': {'type': 'text/html',\n",
       "   'language': None,\n",
       "   'base': 'http://projects.bobbelderbos.com/pcc/dates/all.rss.xml',\n",
       "   'value': \"<p>I was playing with Slack's Real Time Messaging API the other day. Building a bot is pretty easy. In this article a simple example.</p>\"},\n",
       "  'authors': [{'name': 'Bob'}],\n",
       "  'author': 'Bob',\n",
       "  'author_detail': {'name': 'Bob'},\n",
       "  'published': 'Tue, 04 Apr 2017 23:30:00 +0200',\n",
       "  'published_parsed': time.struct_time(tm_year=2017, tm_mon=4, tm_mday=4, tm_hour=21, tm_min=30, tm_sec=0, tm_wday=1, tm_yday=94, tm_isdst=0),\n",
       "  'id': 'tag:pybit.es,2017-04-04:/simple-chatbot.html',\n",
       "  'guidislink': False,\n",
       "  'tags': [{'term': 'slack', 'scheme': None, 'label': None},\n",
       "   {'term': 'API', 'scheme': None, 'label': None},\n",
       "   {'term': 'bot', 'scheme': None, 'label': None},\n",
       "   {'term': 'chatbot', 'scheme': None, 'label': None},\n",
       "   {'term': 'deployment', 'scheme': None, 'label': None},\n",
       "   {'term': 'shell', 'scheme': None, 'label': None},\n",
       "   {'term': 'nohup', 'scheme': None, 'label': None},\n",
       "   {'term': 'automation', 'scheme': None, 'label': None}]},\n",
       " {'title': 'Code Challenge 13 - Highest Rated Movie Directors',\n",
       "  'title_detail': {'type': 'text/plain',\n",
       "   'language': None,\n",
       "   'base': 'http://projects.bobbelderbos.com/pcc/dates/all.rss.xml',\n",
       "   'value': 'Code Challenge 13 - Highest Rated Movie Directors'},\n",
       "  'links': [{'rel': 'alternate',\n",
       "    'type': 'text/html',\n",
       "    'href': 'https://pybit.es/codechallenge13.html'}],\n",
       "  'link': 'https://pybit.es/codechallenge13.html',\n",
       "  'summary': '<p>Hi Pythonistas, a new week, a new \\'bite\\' of Python coding! After last week\\'s (<a href=\"http://pybit.es/codechallenge12.html\">tictactoe game</a>), we\\'d like to sharpen your data analysis skills this week by parsing a movie data set in search for highest rated directors. Enjoy and we review solutions end of this week.</p>',\n",
       "  'summary_detail': {'type': 'text/html',\n",
       "   'language': None,\n",
       "   'base': 'http://projects.bobbelderbos.com/pcc/dates/all.rss.xml',\n",
       "   'value': '<p>Hi Pythonistas, a new week, a new \\'bite\\' of Python coding! After last week\\'s (<a href=\"http://pybit.es/codechallenge12.html\">tictactoe game</a>), we\\'d like to sharpen your data analysis skills this week by parsing a movie data set in search for highest rated directors. Enjoy and we review solutions end of this week.</p>'},\n",
       "  'authors': [{'name': 'PyBites'}],\n",
       "  'author': 'PyBites',\n",
       "  'author_detail': {'name': 'PyBites'},\n",
       "  'published': 'Mon, 03 Apr 2017 00:25:00 +0200',\n",
       "  'published_parsed': time.struct_time(tm_year=2017, tm_mon=4, tm_mday=2, tm_hour=22, tm_min=25, tm_sec=0, tm_wday=6, tm_yday=92, tm_isdst=0),\n",
       "  'id': 'tag:pybit.es,2017-04-03:/codechallenge13.html',\n",
       "  'guidislink': False,\n",
       "  'tags': [{'term': 'codechallenges', 'scheme': None, 'label': None},\n",
       "   {'term': 'learning', 'scheme': None, 'label': None},\n",
       "   {'term': 'data analysis', 'scheme': None, 'label': None},\n",
       "   {'term': 'movies', 'scheme': None, 'label': None},\n",
       "   {'term': 'rating', 'scheme': None, 'label': None}]},\n",
       " {'title': 'Twitter digest 2017 week 13',\n",
       "  'title_detail': {'type': 'text/plain',\n",
       "   'language': None,\n",
       "   'base': 'http://projects.bobbelderbos.com/pcc/dates/all.rss.xml',\n",
       "   'value': 'Twitter digest 2017 week 13'},\n",
       "  'links': [{'rel': 'alternate',\n",
       "    'type': 'text/html',\n",
       "    'href': 'https://pybit.es/twitter_digest_201713.html'}],\n",
       "  'link': 'https://pybit.es/twitter_digest_201713.html',\n",
       "  'summary': '<p>Every weekend we share a curated list of 15 cool things (mostly Python) that we found / tweeted throughout the week.</p>',\n",
       "  'summary_detail': {'type': 'text/html',\n",
       "   'language': None,\n",
       "   'base': 'http://projects.bobbelderbos.com/pcc/dates/all.rss.xml',\n",
       "   'value': '<p>Every weekend we share a curated list of 15 cool things (mostly Python) that we found / tweeted throughout the week.</p>'},\n",
       "  'authors': [{'name': 'PyBites'}],\n",
       "  'author': 'PyBites',\n",
       "  'author_detail': {'name': 'PyBites'},\n",
       "  'published': 'Sun, 02 Apr 2017 12:29:00 +0200',\n",
       "  'published_parsed': time.struct_time(tm_year=2017, tm_mon=4, tm_mday=2, tm_hour=10, tm_min=29, tm_sec=0, tm_wday=6, tm_yday=92, tm_isdst=0),\n",
       "  'id': 'tag:pybit.es,2017-04-02:/twitter_digest_201713.html',\n",
       "  'guidislink': False,\n",
       "  'tags': [{'term': 'twitter', 'scheme': None, 'label': None},\n",
       "   {'term': 'news', 'scheme': None, 'label': None},\n",
       "   {'term': 'tips', 'scheme': None, 'label': None},\n",
       "   {'term': 'beginners', 'scheme': None, 'label': None},\n",
       "   {'term': 'Django', 'scheme': None, 'label': None},\n",
       "   {'term': 'machine learning', 'scheme': None, 'label': None},\n",
       "   {'term': 'mechanize', 'scheme': None, 'label': None},\n",
       "   {'term': 'classes', 'scheme': None, 'label': None},\n",
       "   {'term': 'Jupiter', 'scheme': None, 'label': None},\n",
       "   {'term': 'cheat sheet', 'scheme': None, 'label': None},\n",
       "   {'term': 'scrapy', 'scheme': None, 'label': None},\n",
       "   {'term': 'data science', 'scheme': None, 'label': None},\n",
       "   {'term': 'flask', 'scheme': None, 'label': None},\n",
       "   {'term': 'tutorials', 'scheme': None, 'label': None},\n",
       "   {'term': 'python', 'scheme': None, 'label': None}]},\n",
       " {'title': 'Code Challenge 12 - Build a Tic-tac-toe Game - Review',\n",
       "  'title_detail': {'type': 'text/plain',\n",
       "   'language': None,\n",
       "   'base': 'http://projects.bobbelderbos.com/pcc/dates/all.rss.xml',\n",
       "   'value': 'Code Challenge 12 - Build a Tic-tac-toe Game - Review'},\n",
       "  'links': [{'rel': 'alternate',\n",
       "    'type': 'text/html',\n",
       "    'href': 'https://pybit.es/codechallenge12_review.html'}],\n",
       "  'link': 'https://pybit.es/codechallenge12_review.html',\n",
       "  'summary': '<p>It\\'s end of the week again so we review the <a href=\"http://pybit.es/codechallenge12.html\">code challenge of this week</a>. It\\'s never late to sign up, just fork our <a href=\"https://github.com/pybites/challenges\">challenges repo</a> and start coding.</p>',\n",
       "  'summary_detail': {'type': 'text/html',\n",
       "   'language': None,\n",
       "   'base': 'http://projects.bobbelderbos.com/pcc/dates/all.rss.xml',\n",
       "   'value': '<p>It\\'s end of the week again so we review the <a href=\"http://pybit.es/codechallenge12.html\">code challenge of this week</a>. It\\'s never late to sign up, just fork our <a href=\"https://github.com/pybites/challenges\">challenges repo</a> and start coding.</p>'},\n",
       "  'authors': [{'name': 'PyBites'}],\n",
       "  'author': 'PyBites',\n",
       "  'author_detail': {'name': 'PyBites'},\n",
       "  'published': 'Sat, 01 Apr 2017 17:00:00 +0200',\n",
       "  'published_parsed': time.struct_time(tm_year=2017, tm_mon=4, tm_mday=1, tm_hour=15, tm_min=0, tm_sec=0, tm_wday=5, tm_yday=91, tm_isdst=0),\n",
       "  'id': 'tag:pybit.es,2017-04-01:/codechallenge12_review.html',\n",
       "  'guidislink': False,\n",
       "  'tags': [{'term': 'codechallenges', 'scheme': None, 'label': None},\n",
       "   {'term': 'learning', 'scheme': None, 'label': None},\n",
       "   {'term': 'game', 'scheme': None, 'label': None},\n",
       "   {'term': 'tictactoe', 'scheme': None, 'label': None},\n",
       "   {'term': 'AI', 'scheme': None, 'label': None}]},\n",
       " {'title': '100 Days of PyBites, 100 Days of Code',\n",
       "  'title_detail': {'type': 'text/plain',\n",
       "   'language': None,\n",
       "   'base': 'http://projects.bobbelderbos.com/pcc/dates/all.rss.xml',\n",
       "   'value': '100 Days of PyBites, 100 Days of Code'},\n",
       "  'links': [{'rel': 'alternate',\n",
       "    'type': 'text/html',\n",
       "    'href': 'https://pybit.es/special-100days.html'}],\n",
       "  'link': 'https://pybit.es/special-100days.html',\n",
       "  'summary': '<p>In celebration of PyBites being around for 100 days we’re taking on the 100 Days of Code Challenge!</p>',\n",
       "  'summary_detail': {'type': 'text/html',\n",
       "   'language': None,\n",
       "   'base': 'http://projects.bobbelderbos.com/pcc/dates/all.rss.xml',\n",
       "   'value': '<p>In celebration of PyBites being around for 100 days we’re taking on the 100 Days of Code Challenge!</p>'},\n",
       "  'authors': [{'name': 'PyBites'}],\n",
       "  'author': 'PyBites',\n",
       "  'author_detail': {'name': 'PyBites'},\n",
       "  'published': 'Wed, 29 Mar 2017 20:04:00 +0200',\n",
       "  'published_parsed': time.struct_time(tm_year=2017, tm_mon=3, tm_mday=29, tm_hour=18, tm_min=4, tm_sec=0, tm_wday=2, tm_yday=88, tm_isdst=0),\n",
       "  'id': 'tag:pybit.es,2017-03-29:/special-100days.html',\n",
       "  'guidislink': False,\n",
       "  'tags': [{'term': 'news', 'scheme': None, 'label': None},\n",
       "   {'term': 'special', 'scheme': None, 'label': None},\n",
       "   {'term': 'challenge', 'scheme': None, 'label': None}]},\n",
       " {'title': '5 Vim Tricks to Speed up Your Python Development',\n",
       "  'title_detail': {'type': 'text/plain',\n",
       "   'language': None,\n",
       "   'base': 'http://projects.bobbelderbos.com/pcc/dates/all.rss.xml',\n",
       "   'value': '5 Vim Tricks to Speed up Your Python Development'},\n",
       "  'links': [{'rel': 'alternate',\n",
       "    'type': 'text/html',\n",
       "    'href': 'https://pybit.es/vim-tricks.html'}],\n",
       "  'link': 'https://pybit.es/vim-tricks.html',\n",
       "  'summary': '<p>In this article 5 Vim shortcuts to speed up your Python development.</p>',\n",
       "  'summary_detail': {'type': 'text/html',\n",
       "   'language': None,\n",
       "   'base': 'http://projects.bobbelderbos.com/pcc/dates/all.rss.xml',\n",
       "   'value': '<p>In this article 5 Vim shortcuts to speed up your Python development.</p>'},\n",
       "  'authors': [{'name': 'Bob'}],\n",
       "  'author': 'Bob',\n",
       "  'author_detail': {'name': 'Bob'},\n",
       "  'published': 'Tue, 28 Mar 2017 09:00:00 +0200',\n",
       "  'published_parsed': time.struct_time(tm_year=2017, tm_mon=3, tm_mday=28, tm_hour=7, tm_min=0, tm_sec=0, tm_wday=1, tm_yday=87, tm_isdst=0),\n",
       "  'id': 'tag:pybit.es,2017-03-28:/vim-tricks.html',\n",
       "  'guidislink': False,\n",
       "  'tags': [{'term': 'vim', 'scheme': None, 'label': None},\n",
       "   {'term': 'tools', 'scheme': None, 'label': None},\n",
       "   {'term': 'shortcuts', 'scheme': None, 'label': None},\n",
       "   {'term': 'tricks', 'scheme': None, 'label': None},\n",
       "   {'term': 'flake8', 'scheme': None, 'label': None},\n",
       "   {'term': 'howdoi', 'scheme': None, 'label': None},\n",
       "   {'term': 'conque', 'scheme': None, 'label': None},\n",
       "   {'term': 'shell', 'scheme': None, 'label': None},\n",
       "   {'term': 'virtualenv', 'scheme': None, 'label': None},\n",
       "   {'term': 'nerdtree', 'scheme': None, 'label': None},\n",
       "   {'term': 'pyperclip', 'scheme': None, 'label': None}]},\n",
       " {'title': 'Code Challenge 12 - Build a Tic-tac-toe Game',\n",
       "  'title_detail': {'type': 'text/plain',\n",
       "   'language': None,\n",
       "   'base': 'http://projects.bobbelderbos.com/pcc/dates/all.rss.xml',\n",
       "   'value': 'Code Challenge 12 - Build a Tic-tac-toe Game'},\n",
       "  'links': [{'rel': 'alternate',\n",
       "    'type': 'text/html',\n",
       "    'href': 'https://pybit.es/codechallenge12.html'}],\n",
       "  'link': 'https://pybit.es/codechallenge12.html',\n",
       "  'summary': '<p>Hi Pythonistas, a new week, a new \\'bite\\' of Python coding! After last week\\'s conceptual challenge (<a href=\"http://pybit.es/codechallenge11.html\">generators</a>), we\\'d like to challenge you this week to build <a href=\"https://en.wikipedia.org/wiki/Tic-tac-toe\">Tic-tac-toe</a>. Every time we do games (previously <a href=\"http://pybit.es/codechallenge02.html\">Word Values</a> and <a href=\"http://pybit.es/codechallenge10.html\">Hangman</a>) we learn a lot. Enjoy and we review solutions end of this week.</p>',\n",
       "  'summary_detail': {'type': 'text/html',\n",
       "   'language': None,\n",
       "   'base': 'http://projects.bobbelderbos.com/pcc/dates/all.rss.xml',\n",
       "   'value': '<p>Hi Pythonistas, a new week, a new \\'bite\\' of Python coding! After last week\\'s conceptual challenge (<a href=\"http://pybit.es/codechallenge11.html\">generators</a>), we\\'d like to challenge you this week to build <a href=\"https://en.wikipedia.org/wiki/Tic-tac-toe\">Tic-tac-toe</a>. Every time we do games (previously <a href=\"http://pybit.es/codechallenge02.html\">Word Values</a> and <a href=\"http://pybit.es/codechallenge10.html\">Hangman</a>) we learn a lot. Enjoy and we review solutions end of this week.</p>'},\n",
       "  'authors': [{'name': 'PyBites'}],\n",
       "  'author': 'PyBites',\n",
       "  'author_detail': {'name': 'PyBites'},\n",
       "  'published': 'Mon, 27 Mar 2017 00:01:00 +0200',\n",
       "  'published_parsed': time.struct_time(tm_year=2017, tm_mon=3, tm_mday=26, tm_hour=22, tm_min=1, tm_sec=0, tm_wday=6, tm_yday=85, tm_isdst=0),\n",
       "  'id': 'tag:pybit.es,2017-03-27:/codechallenge12.html',\n",
       "  'guidislink': False,\n",
       "  'tags': [{'term': 'codechallenges', 'scheme': None, 'label': None},\n",
       "   {'term': 'learning', 'scheme': None, 'label': None},\n",
       "   {'term': 'game', 'scheme': None, 'label': None},\n",
       "   {'term': 'tictactoe', 'scheme': None, 'label': None},\n",
       "   {'term': 'AI', 'scheme': None, 'label': None}]},\n",
       " {'title': 'Twitter digest 2017 week 12',\n",
       "  'title_detail': {'type': 'text/plain',\n",
       "   'language': None,\n",
       "   'base': 'http://projects.bobbelderbos.com/pcc/dates/all.rss.xml',\n",
       "   'value': 'Twitter digest 2017 week 12'},\n",
       "  'links': [{'rel': 'alternate',\n",
       "    'type': 'text/html',\n",
       "    'href': 'https://pybit.es/twitter_digest_201712.html'}],\n",
       "  'link': 'https://pybit.es/twitter_digest_201712.html',\n",
       "  'summary': '<p>Every weekend we share a curated list of 15 cool things (mostly Python) that we found / tweeted throughout the week.</p>',\n",
       "  'summary_detail': {'type': 'text/html',\n",
       "   'language': None,\n",
       "   'base': 'http://projects.bobbelderbos.com/pcc/dates/all.rss.xml',\n",
       "   'value': '<p>Every weekend we share a curated list of 15 cool things (mostly Python) that we found / tweeted throughout the week.</p>'},\n",
       "  'authors': [{'name': 'PyBites'}],\n",
       "  'author': 'PyBites',\n",
       "  'author_detail': {'name': 'PyBites'},\n",
       "  'published': 'Sun, 26 Mar 2017 12:29:00 +0200',\n",
       "  'published_parsed': time.struct_time(tm_year=2017, tm_mon=3, tm_mday=26, tm_hour=10, tm_min=29, tm_sec=0, tm_wday=6, tm_yday=85, tm_isdst=0),\n",
       "  'id': 'tag:pybit.es,2017-03-26:/twitter_digest_201712.html',\n",
       "  'guidislink': False,\n",
       "  'tags': [{'term': 'twitter', 'scheme': None, 'label': None},\n",
       "   {'term': 'news', 'scheme': None, 'label': None},\n",
       "   {'term': 'pycon', 'scheme': None, 'label': None},\n",
       "   {'term': 'tips', 'scheme': None, 'label': None},\n",
       "   {'term': 'debugging', 'scheme': None, 'label': None},\n",
       "   {'term': 'itertools', 'scheme': None, 'label': None},\n",
       "   {'term': 'pycharm', 'scheme': None, 'label': None},\n",
       "   {'term': 'beginners', 'scheme': None, 'label': None},\n",
       "   {'term': 'Django', 'scheme': None, 'label': None},\n",
       "   {'term': 'rest', 'scheme': None, 'label': None},\n",
       "   {'term': 'data science', 'scheme': None, 'label': None},\n",
       "   {'term': 'flask', 'scheme': None, 'label': None},\n",
       "   {'term': 'tutorials', 'scheme': None, 'label': None},\n",
       "   {'term': 'python', 'scheme': None, 'label': None}]},\n",
       " {'title': 'Code Challenge 11 - Generators for Fun and Profit - Review',\n",
       "  'title_detail': {'type': 'text/plain',\n",
       "   'language': None,\n",
       "   'base': 'http://projects.bobbelderbos.com/pcc/dates/all.rss.xml',\n",
       "   'value': 'Code Challenge 11 - Generators for Fun and Profit - Review'},\n",
       "  'links': [{'rel': 'alternate',\n",
       "    'type': 'text/html',\n",
       "    'href': 'https://pybit.es/codechallenge11_review.html'}],\n",
       "  'link': 'https://pybit.es/codechallenge11_review.html',\n",
       "  'summary': '<p>It\\'s end of the week again so we review the <a href=\"http://pybit.es/codechallenge11.html\">code challenge of this week</a>. It\\'s never late to sign up, just fork our <a href=\"https://github.com/pybites/challenges\">challenges repo</a> and start coding.</p>',\n",
       "  'summary_detail': {'type': 'text/html',\n",
       "   'language': None,\n",
       "   'base': 'http://projects.bobbelderbos.com/pcc/dates/all.rss.xml',\n",
       "   'value': '<p>It\\'s end of the week again so we review the <a href=\"http://pybit.es/codechallenge11.html\">code challenge of this week</a>. It\\'s never late to sign up, just fork our <a href=\"https://github.com/pybites/challenges\">challenges repo</a> and start coding.</p>'},\n",
       "  'authors': [{'name': 'PyBites'}],\n",
       "  'author': 'PyBites',\n",
       "  'author_detail': {'name': 'PyBites'},\n",
       "  'published': 'Sat, 25 Mar 2017 09:10:00 +0100',\n",
       "  'published_parsed': time.struct_time(tm_year=2017, tm_mon=3, tm_mday=25, tm_hour=8, tm_min=10, tm_sec=0, tm_wday=5, tm_yday=84, tm_isdst=0),\n",
       "  'id': 'tag:pybit.es,2017-03-25:/codechallenge11_review.html',\n",
       "  'guidislink': False,\n",
       "  'tags': [{'term': 'codechallenges', 'scheme': None, 'label': None},\n",
       "   {'term': 'code review', 'scheme': None, 'label': None},\n",
       "   {'term': 'learning', 'scheme': None, 'label': None},\n",
       "   {'term': 'yield', 'scheme': None, 'label': None},\n",
       "   {'term': 'Counter', 'scheme': None, 'label': None},\n",
       "   {'term': 'glob', 'scheme': None, 'label': None},\n",
       "   {'term': 'regex', 'scheme': None, 'label': None}]},\n",
       " {'title': 'Module of the Week - ipaddress',\n",
       "  'title_detail': {'type': 'text/plain',\n",
       "   'language': None,\n",
       "   'base': 'http://projects.bobbelderbos.com/pcc/dates/all.rss.xml',\n",
       "   'value': 'Module of the Week - ipaddress'},\n",
       "  'links': [{'rel': 'alternate',\n",
       "    'type': 'text/html',\n",
       "    'href': 'https://pybit.es/ipaddress.html'}],\n",
       "  'link': 'https://pybit.es/ipaddress.html',\n",
       "  'summary': '<p>While playing around with code for our <a href=\"http://pybit.es/generators.html\">post on generators</a> we discovered the <a href=\"https://docs.python.org/3/library/ipaddress.html\">ipaddress module</a>, part of the Standard Library. Such a handy little module!</p>',\n",
       "  'summary_detail': {'type': 'text/html',\n",
       "   'language': None,\n",
       "   'base': 'http://projects.bobbelderbos.com/pcc/dates/all.rss.xml',\n",
       "   'value': '<p>While playing around with code for our <a href=\"http://pybit.es/generators.html\">post on generators</a> we discovered the <a href=\"https://docs.python.org/3/library/ipaddress.html\">ipaddress module</a>, part of the Standard Library. Such a handy little module!</p>'},\n",
       "  'authors': [{'name': 'Julian'}],\n",
       "  'author': 'Julian',\n",
       "  'author_detail': {'name': 'Julian'},\n",
       "  'published': 'Thu, 23 Mar 2017 11:30:00 +0100',\n",
       "  'published_parsed': time.struct_time(tm_year=2017, tm_mon=3, tm_mday=23, tm_hour=10, tm_min=30, tm_sec=0, tm_wday=3, tm_yday=82, tm_isdst=0),\n",
       "  'id': 'tag:pybit.es,2017-03-23:/ipaddress.html',\n",
       "  'guidislink': False,\n",
       "  'tags': [{'term': 'python', 'scheme': None, 'label': None},\n",
       "   {'term': 'tips', 'scheme': None, 'label': None},\n",
       "   {'term': 'code', 'scheme': None, 'label': None},\n",
       "   {'term': 'pybites', 'scheme': None, 'label': None},\n",
       "   {'term': 'ipaddress', 'scheme': None, 'label': None},\n",
       "   {'term': 'sysadmin', 'scheme': None, 'label': None},\n",
       "   {'term': 'stdlib', 'scheme': None, 'label': None}]},\n",
       " {'title': 'Best Practices for Compatible Python 2 and 3 Code',\n",
       "  'title_detail': {'type': 'text/plain',\n",
       "   'language': None,\n",
       "   'base': 'http://projects.bobbelderbos.com/pcc/dates/all.rss.xml',\n",
       "   'value': 'Best Practices for Compatible Python 2 and 3 Code'},\n",
       "  'links': [{'rel': 'alternate',\n",
       "    'type': 'text/html',\n",
       "    'href': 'https://pybit.es/python-porting.html'}],\n",
       "  'link': 'https://pybit.es/python-porting.html',\n",
       "  'summary': '<p><a href=\"http://py3readiness.org/\">95% of most popular Python packages support Python 3</a>. Maybe you are lucky and get to start fresh using Python 3. However as of last year <a href=\"http://www.randalolson.com/2016/09/03/python-2-7-still-reigns-supreme-in-pip-installs/\">Python 2.7 still reigns supreme in pip installs</a> and at a lot of places 2.x is the only version you get to work in. I think writing Python 2 and 3 compatible code is an important skill, so lets check what it entails.</p>',\n",
       "  'summary_detail': {'type': 'text/html',\n",
       "   'language': None,\n",
       "   'base': 'http://projects.bobbelderbos.com/pcc/dates/all.rss.xml',\n",
       "   'value': '<p><a href=\"http://py3readiness.org/\">95% of most popular Python packages support Python 3</a>. Maybe you are lucky and get to start fresh using Python 3. However as of last year <a href=\"http://www.randalolson.com/2016/09/03/python-2-7-still-reigns-supreme-in-pip-installs/\">Python 2.7 still reigns supreme in pip installs</a> and at a lot of places 2.x is the only version you get to work in. I think writing Python 2 and 3 compatible code is an important skill, so lets check what it entails.</p>'},\n",
       "  'authors': [{'name': 'Bob'}],\n",
       "  'author': 'Bob',\n",
       "  'author_detail': {'name': 'Bob'},\n",
       "  'published': 'Wed, 22 Mar 2017 12:42:00 +0100',\n",
       "  'published_parsed': time.struct_time(tm_year=2017, tm_mon=3, tm_mday=22, tm_hour=11, tm_min=42, tm_sec=0, tm_wday=2, tm_yday=81, tm_isdst=0),\n",
       "  'id': 'tag:pybit.es,2017-03-22:/python-porting.html',\n",
       "  'guidislink': False,\n",
       "  'tags': [{'term': '2vs3', 'scheme': None, 'label': None},\n",
       "   {'term': 'tox', 'scheme': None, 'label': None},\n",
       "   {'term': 'six', 'scheme': None, 'label': None},\n",
       "   {'term': 'python-modernize', 'scheme': None, 'label': None},\n",
       "   {'term': 'porting', 'scheme': None, 'label': None},\n",
       "   {'term': 'future', 'scheme': None, 'label': None},\n",
       "   {'term': '2to3', 'scheme': None, 'label': None},\n",
       "   {'term': 'coverage', 'scheme': None, 'label': None},\n",
       "   {'term': 'futurize', 'scheme': None, 'label': None},\n",
       "   {'term': 'caniusepython3', 'scheme': None, 'label': None},\n",
       "   {'term': 'pip', 'scheme': None, 'label': None},\n",
       "   {'term': 'Requests', 'scheme': None, 'label': None},\n",
       "   {'term': 'Werkzeug', 'scheme': None, 'label': None}]},\n",
       " {'title': 'Code Challenge 11 - Generators for Fun and Profit',\n",
       "  'title_detail': {'type': 'text/plain',\n",
       "   'language': None,\n",
       "   'base': 'http://projects.bobbelderbos.com/pcc/dates/all.rss.xml',\n",
       "   'value': 'Code Challenge 11 - Generators for Fun and Profit'},\n",
       "  'links': [{'rel': 'alternate',\n",
       "    'type': 'text/html',\n",
       "    'href': 'https://pybit.es/codechallenge11.html'}],\n",
       "  'link': 'https://pybit.es/codechallenge11.html',\n",
       "  'summary': '<p>A new week, a new \\'bite\\' of Python coding! After <a href=\"http://pybit.es/generators.html\">last week\\'s article on generators</a> we will get you to practice a bit more with them in our new challenge. Good luck and have fun.</p>',\n",
       "  'summary_detail': {'type': 'text/html',\n",
       "   'language': None,\n",
       "   'base': 'http://projects.bobbelderbos.com/pcc/dates/all.rss.xml',\n",
       "   'value': '<p>A new week, a new \\'bite\\' of Python coding! After <a href=\"http://pybit.es/generators.html\">last week\\'s article on generators</a> we will get you to practice a bit more with them in our new challenge. Good luck and have fun.</p>'},\n",
       "  'authors': [{'name': 'PyBites'}],\n",
       "  'author': 'PyBites',\n",
       "  'author_detail': {'name': 'PyBites'},\n",
       "  'published': 'Mon, 20 Mar 2017 09:00:00 +0100',\n",
       "  'published_parsed': time.struct_time(tm_year=2017, tm_mon=3, tm_mday=20, tm_hour=8, tm_min=0, tm_sec=0, tm_wday=0, tm_yday=79, tm_isdst=0),\n",
       "  'id': 'tag:pybit.es,2017-03-20:/codechallenge11.html',\n",
       "  'guidislink': False,\n",
       "  'tags': [{'term': 'codechallenges', 'scheme': None, 'label': None},\n",
       "   {'term': 'learning', 'scheme': None, 'label': None},\n",
       "   {'term': 'generators', 'scheme': None, 'label': None},\n",
       "   {'term': 'unix', 'scheme': None, 'label': None},\n",
       "   {'term': 'newquote', 'scheme': None, 'label': None}]},\n",
       " {'title': 'Twitter digest 2017 week 11',\n",
       "  'title_detail': {'type': 'text/plain',\n",
       "   'language': None,\n",
       "   'base': 'http://projects.bobbelderbos.com/pcc/dates/all.rss.xml',\n",
       "   'value': 'Twitter digest 2017 week 11'},\n",
       "  'links': [{'rel': 'alternate',\n",
       "    'type': 'text/html',\n",
       "    'href': 'https://pybit.es/twitter_digest_201711.html'}],\n",
       "  'link': 'https://pybit.es/twitter_digest_201711.html',\n",
       "  'summary': '<p>Every weekend we share a curated list of 15 cool things (mostly Python) that we found / tweeted throughout the week.</p>',\n",
       "  'summary_detail': {'type': 'text/html',\n",
       "   'language': None,\n",
       "   'base': 'http://projects.bobbelderbos.com/pcc/dates/all.rss.xml',\n",
       "   'value': '<p>Every weekend we share a curated list of 15 cool things (mostly Python) that we found / tweeted throughout the week.</p>'},\n",
       "  'authors': [{'name': 'PyBites'}],\n",
       "  'author': 'PyBites',\n",
       "  'author_detail': {'name': 'PyBites'},\n",
       "  'published': 'Sun, 19 Mar 2017 15:42:00 +0100',\n",
       "  'published_parsed': time.struct_time(tm_year=2017, tm_mon=3, tm_mday=19, tm_hour=14, tm_min=42, tm_sec=0, tm_wday=6, tm_yday=78, tm_isdst=0),\n",
       "  'id': 'tag:pybit.es,2017-03-19:/twitter_digest_201711.html',\n",
       "  'guidislink': False,\n",
       "  'tags': [{'term': 'twitter', 'scheme': None, 'label': None},\n",
       "   {'term': 'news', 'scheme': None, 'label': None},\n",
       "   {'term': 'pypi', 'scheme': None, 'label': None},\n",
       "   {'term': 'Django', 'scheme': None, 'label': None},\n",
       "   {'term': 'Flask', 'scheme': None, 'label': None},\n",
       "   {'term': 'Pandas', 'scheme': None, 'label': None},\n",
       "   {'term': 'cheat sheet', 'scheme': None, 'label': None},\n",
       "   {'term': 'stdlib', 'scheme': None, 'label': None},\n",
       "   {'term': 'APIs', 'scheme': None, 'label': None},\n",
       "   {'term': 'tips', 'scheme': None, 'label': None},\n",
       "   {'term': 'raspberry pi', 'scheme': None, 'label': None},\n",
       "   {'term': 'json', 'scheme': None, 'label': None},\n",
       "   {'term': 'pygame', 'scheme': None, 'label': None},\n",
       "   {'term': 'tutorials', 'scheme': None, 'label': None}]},\n",
       " {'title': 'Code Challenge 10 - Build a Hangman Game - Review',\n",
       "  'title_detail': {'type': 'text/plain',\n",
       "   'language': None,\n",
       "   'base': 'http://projects.bobbelderbos.com/pcc/dates/all.rss.xml',\n",
       "   'value': 'Code Challenge 10 - Build a Hangman Game - Review'},\n",
       "  'links': [{'rel': 'alternate',\n",
       "    'type': 'text/html',\n",
       "    'href': 'https://pybit.es/codechallenge10_review.html'}],\n",
       "  'link': 'https://pybit.es/codechallenge10_review.html',\n",
       "  'summary': '<p>It\\'s end of the week again so we review the <a href=\"http://pybit.es/codechallenge10.html\">code challenge of this week</a>. It\\'s never late to sign up, just fork our <a href=\"https://github.com/pybites/challenges\">challenges repo</a> and start coding.</p>',\n",
       "  'summary_detail': {'type': 'text/html',\n",
       "   'language': None,\n",
       "   'base': 'http://projects.bobbelderbos.com/pcc/dates/all.rss.xml',\n",
       "   'value': '<p>It\\'s end of the week again so we review the <a href=\"http://pybit.es/codechallenge10.html\">code challenge of this week</a>. It\\'s never late to sign up, just fork our <a href=\"https://github.com/pybites/challenges\">challenges repo</a> and start coding.</p>'},\n",
       "  'authors': [{'name': 'PyBites'}],\n",
       "  'author': 'PyBites',\n",
       "  'author_detail': {'name': 'PyBites'},\n",
       "  'published': 'Sat, 18 Mar 2017 18:00:00 +0100',\n",
       "  'published_parsed': time.struct_time(tm_year=2017, tm_mon=3, tm_mday=18, tm_hour=17, tm_min=0, tm_sec=0, tm_wday=5, tm_yday=77, tm_isdst=0),\n",
       "  'id': 'tag:pybit.es,2017-03-18:/codechallenge10_review.html',\n",
       "  'guidislink': False,\n",
       "  'tags': [{'term': 'codechallenges', 'scheme': None, 'label': None},\n",
       "   {'term': 'code review', 'scheme': None, 'label': None},\n",
       "   {'term': 'learning', 'scheme': None, 'label': None},\n",
       "   {'term': 'game', 'scheme': None, 'label': None},\n",
       "   {'term': 'hangman', 'scheme': None, 'label': None},\n",
       "   {'term': 'forks', 'scheme': None, 'label': None},\n",
       "   {'term': 'dunder', 'scheme': None, 'label': None}]},\n",
       " {'title': 'Generators are Awesome, Learning by Example',\n",
       "  'title_detail': {'type': 'text/plain',\n",
       "   'language': None,\n",
       "   'base': 'http://projects.bobbelderbos.com/pcc/dates/all.rss.xml',\n",
       "   'value': 'Generators are Awesome, Learning by Example'},\n",
       "  'links': [{'rel': 'alternate',\n",
       "    'type': 'text/html',\n",
       "    'href': 'https://pybit.es/generators.html'}],\n",
       "  'link': 'https://pybit.es/generators.html',\n",
       "  'summary': '<p>Learn what a Generator is and check out some different examples.</p>',\n",
       "  'summary_detail': {'type': 'text/html',\n",
       "   'language': None,\n",
       "   'base': 'http://projects.bobbelderbos.com/pcc/dates/all.rss.xml',\n",
       "   'value': '<p>Learn what a Generator is and check out some different examples.</p>'},\n",
       "  'authors': [{'name': 'Julian'}],\n",
       "  'author': 'Julian',\n",
       "  'author_detail': {'name': 'Julian'},\n",
       "  'published': 'Fri, 17 Mar 2017 09:00:00 +0100',\n",
       "  'published_parsed': time.struct_time(tm_year=2017, tm_mon=3, tm_mday=17, tm_hour=8, tm_min=0, tm_sec=0, tm_wday=4, tm_yday=76, tm_isdst=0),\n",
       "  'id': 'tag:pybit.es,2017-03-17:/generators.html',\n",
       "  'guidislink': False,\n",
       "  'tags': [{'term': 'python', 'scheme': None, 'label': None},\n",
       "   {'term': 'tips', 'scheme': None, 'label': None},\n",
       "   {'term': 'code', 'scheme': None, 'label': None},\n",
       "   {'term': 'pybites', 'scheme': None, 'label': None},\n",
       "   {'term': 'generators', 'scheme': None, 'label': None},\n",
       "   {'term': 'iteration', 'scheme': None, 'label': None},\n",
       "   {'term': 'yield', 'scheme': None, 'label': None}]},\n",
       " {'title': '10 Tips to Get More out of Your Regexes',\n",
       "  'title_detail': {'type': 'text/plain',\n",
       "   'language': None,\n",
       "   'base': 'http://projects.bobbelderbos.com/pcc/dates/all.rss.xml',\n",
       "   'value': '10 Tips to Get More out of Your Regexes'},\n",
       "  'links': [{'rel': 'alternate',\n",
       "    'type': 'text/html',\n",
       "    'href': 'https://pybit.es/mastering-regex.html'}],\n",
       "  'link': 'https://pybit.es/mastering-regex.html',\n",
       "  'summary': \"<p>Regular expressions can be arcane, yet when used with care they can also be very powerful. In this post a couple of tips to get more out of your regexes when using Python's re module.</p>\",\n",
       "  'summary_detail': {'type': 'text/html',\n",
       "   'language': None,\n",
       "   'base': 'http://projects.bobbelderbos.com/pcc/dates/all.rss.xml',\n",
       "   'value': \"<p>Regular expressions can be arcane, yet when used with care they can also be very powerful. In this post a couple of tips to get more out of your regexes when using Python's re module.</p>\"},\n",
       "  'authors': [{'name': 'Bob'}],\n",
       "  'author': 'Bob',\n",
       "  'author_detail': {'name': 'Bob'},\n",
       "  'published': 'Wed, 15 Mar 2017 07:45:00 +0100',\n",
       "  'published_parsed': time.struct_time(tm_year=2017, tm_mon=3, tm_mday=15, tm_hour=6, tm_min=45, tm_sec=0, tm_wday=2, tm_yday=74, tm_isdst=0),\n",
       "  'id': 'tag:pybit.es,2017-03-15:/mastering-regex.html',\n",
       "  'guidislink': False,\n",
       "  'tags': [{'term': 'regex', 'scheme': None, 'label': None},\n",
       "   {'term': 'tips', 'scheme': None, 'label': None},\n",
       "   {'term': 'parsing', 'scheme': None, 'label': None},\n",
       "   {'term': 'regular expressions', 'scheme': None, 'label': None},\n",
       "   {'term': 'findall', 'scheme': None, 'label': None}]},\n",
       " {'title': 'Module of the Week - Requests-cache for Repeated API Calls',\n",
       "  'title_detail': {'type': 'text/plain',\n",
       "   'language': None,\n",
       "   'base': 'http://projects.bobbelderbos.com/pcc/dates/all.rss.xml',\n",
       "   'value': 'Module of the Week - Requests-cache for Repeated API Calls'},\n",
       "  'links': [{'rel': 'alternate',\n",
       "    'type': 'text/html',\n",
       "    'href': 'https://pybit.es/requests-cache.html'}],\n",
       "  'link': 'https://pybit.es/requests-cache.html',\n",
       "  'summary': '<p>Today a quick article on a nice caching module when working with APIs: <a href=\"https://pypi.python.org/pypi/requests-cache\">Requests-cache</a>.</p>',\n",
       "  'summary_detail': {'type': 'text/html',\n",
       "   'language': None,\n",
       "   'base': 'http://projects.bobbelderbos.com/pcc/dates/all.rss.xml',\n",
       "   'value': '<p>Today a quick article on a nice caching module when working with APIs: <a href=\"https://pypi.python.org/pypi/requests-cache\">Requests-cache</a>.</p>'},\n",
       "  'authors': [{'name': 'Bob'}],\n",
       "  'author': 'Bob',\n",
       "  'author_detail': {'name': 'Bob'},\n",
       "  'published': 'Tue, 14 Mar 2017 08:00:00 +0100',\n",
       "  'published_parsed': time.struct_time(tm_year=2017, tm_mon=3, tm_mday=14, tm_hour=7, tm_min=0, tm_sec=0, tm_wday=1, tm_yday=73, tm_isdst=0),\n",
       "  'id': 'tag:pybit.es,2017-03-14:/requests-cache.html',\n",
       "  'guidislink': False,\n",
       "  'tags': [{'term': 'requests', 'scheme': None, 'label': None},\n",
       "   {'term': 'cache', 'scheme': None, 'label': None},\n",
       "   {'term': 'APIs', 'scheme': None, 'label': None},\n",
       "   {'term': 'package', 'scheme': None, 'label': None}]},\n",
       " {'title': 'Code Challenge 10 - Build a Hangman Game',\n",
       "  'title_detail': {'type': 'text/plain',\n",
       "   'language': None,\n",
       "   'base': 'http://projects.bobbelderbos.com/pcc/dates/all.rss.xml',\n",
       "   'value': 'Code Challenge 10 - Build a Hangman Game'},\n",
       "  'links': [{'rel': 'alternate',\n",
       "    'type': 'text/html',\n",
       "    'href': 'https://pybit.es/codechallenge10.html'}],\n",
       "  'link': 'https://pybit.es/codechallenge10.html',\n",
       "  'summary': \"<p>A new week, a new 'bite' of Python coding! This week we will build a Hangman game. Good luck and have fun.</p>\",\n",
       "  'summary_detail': {'type': 'text/html',\n",
       "   'language': None,\n",
       "   'base': 'http://projects.bobbelderbos.com/pcc/dates/all.rss.xml',\n",
       "   'value': \"<p>A new week, a new 'bite' of Python coding! This week we will build a Hangman game. Good luck and have fun.</p>\"},\n",
       "  'authors': [{'name': 'PyBites'}],\n",
       "  'author': 'PyBites',\n",
       "  'author_detail': {'name': 'PyBites'},\n",
       "  'published': 'Mon, 13 Mar 2017 00:32:00 +0100',\n",
       "  'published_parsed': time.struct_time(tm_year=2017, tm_mon=3, tm_mday=12, tm_hour=23, tm_min=32, tm_sec=0, tm_wday=6, tm_yday=71, tm_isdst=0),\n",
       "  'id': 'tag:pybit.es,2017-03-13:/codechallenge10.html',\n",
       "  'guidislink': False,\n",
       "  'tags': [{'term': 'codechallenges', 'scheme': None, 'label': None},\n",
       "   {'term': 'learning', 'scheme': None, 'label': None},\n",
       "   {'term': 'game', 'scheme': None, 'label': None},\n",
       "   {'term': 'hangman', 'scheme': None, 'label': None},\n",
       "   {'term': 'movies', 'scheme': None, 'label': None},\n",
       "   {'term': 'github', 'scheme': None, 'label': None}]},\n",
       " {'title': 'Twitter digest 2017 week 10',\n",
       "  'title_detail': {'type': 'text/plain',\n",
       "   'language': None,\n",
       "   'base': 'http://projects.bobbelderbos.com/pcc/dates/all.rss.xml',\n",
       "   'value': 'Twitter digest 2017 week 10'},\n",
       "  'links': [{'rel': 'alternate',\n",
       "    'type': 'text/html',\n",
       "    'href': 'https://pybit.es/twitter_digest_201710.html'}],\n",
       "  'link': 'https://pybit.es/twitter_digest_201710.html',\n",
       "  'summary': '<p>During the weekend we will share a curated list of 15 cool things (mostly Python) we found / tweeted during the week.</p>',\n",
       "  'summary_detail': {'type': 'text/html',\n",
       "   'language': None,\n",
       "   'base': 'http://projects.bobbelderbos.com/pcc/dates/all.rss.xml',\n",
       "   'value': '<p>During the weekend we will share a curated list of 15 cool things (mostly Python) we found / tweeted during the week.</p>'},\n",
       "  'authors': [{'name': 'PyBites'}],\n",
       "  'author': 'PyBites',\n",
       "  'author_detail': {'name': 'PyBites'},\n",
       "  'published': 'Sun, 12 Mar 2017 00:01:00 +0100',\n",
       "  'published_parsed': time.struct_time(tm_year=2017, tm_mon=3, tm_mday=11, tm_hour=23, tm_min=1, tm_sec=0, tm_wday=5, tm_yday=70, tm_isdst=0),\n",
       "  'id': 'tag:pybit.es,2017-03-12:/twitter_digest_201710.html',\n",
       "  'guidislink': False,\n",
       "  'tags': [{'term': 'twitter', 'scheme': None, 'label': None},\n",
       "   {'term': 'news', 'scheme': None, 'label': None},\n",
       "   {'term': 'podcasts', 'scheme': None, 'label': None},\n",
       "   {'term': 'pypi', 'scheme': None, 'label': None},\n",
       "   {'term': 'productivity', 'scheme': None, 'label': None},\n",
       "   {'term': 'Django', 'scheme': None, 'label': None},\n",
       "   {'term': 'Fire', 'scheme': None, 'label': None},\n",
       "   {'term': 'Anaconda', 'scheme': None, 'label': None},\n",
       "   {'term': 'cheat sheet', 'scheme': None, 'label': None},\n",
       "   {'term': 'stdlib', 'scheme': None, 'label': None},\n",
       "   {'term': 'CPython', 'scheme': None, 'label': None},\n",
       "   {'term': 'microservices', 'scheme': None, 'label': None},\n",
       "   {'term': 'APIs', 'scheme': None, 'label': None},\n",
       "   {'term': 'tips', 'scheme': None, 'label': None}]},\n",
       " {'title': 'Code Challenge 09 - The With Statement and Context Managers - Review',\n",
       "  'title_detail': {'type': 'text/plain',\n",
       "   'language': None,\n",
       "   'base': 'http://projects.bobbelderbos.com/pcc/dates/all.rss.xml',\n",
       "   'value': 'Code Challenge 09 - The With Statement and Context Managers - Review'},\n",
       "  'links': [{'rel': 'alternate',\n",
       "    'type': 'text/html',\n",
       "    'href': 'https://pybit.es/codechallenge09_review.html'}],\n",
       "  'link': 'https://pybit.es/codechallenge09_review.html',\n",
       "  'summary': '<p>It\\'s end of the week again so we review the <a href=\"http://pybit.es/codechallenge09.html\">code challenge of this week</a>. It\\'s never late to sign up, just fork our <a href=\"https://github.com/pybites/challenges\">challenges repo</a> and start coding.</p>',\n",
       "  'summary_detail': {'type': 'text/html',\n",
       "   'language': None,\n",
       "   'base': 'http://projects.bobbelderbos.com/pcc/dates/all.rss.xml',\n",
       "   'value': '<p>It\\'s end of the week again so we review the <a href=\"http://pybit.es/codechallenge09.html\">code challenge of this week</a>. It\\'s never late to sign up, just fork our <a href=\"https://github.com/pybites/challenges\">challenges repo</a> and start coding.</p>'},\n",
       "  'authors': [{'name': 'PyBites'}],\n",
       "  'author': 'PyBites',\n",
       "  'author_detail': {'name': 'PyBites'},\n",
       "  'published': 'Sat, 11 Mar 2017 09:00:00 +0100',\n",
       "  'published_parsed': time.struct_time(tm_year=2017, tm_mon=3, tm_mday=11, tm_hour=8, tm_min=0, tm_sec=0, tm_wday=5, tm_yday=70, tm_isdst=0),\n",
       "  'id': 'tag:pybit.es,2017-03-11:/codechallenge09_review.html',\n",
       "  'guidislink': False,\n",
       "  'tags': [{'term': 'codechallenges', 'scheme': None, 'label': None},\n",
       "   {'term': 'code review', 'scheme': None, 'label': None},\n",
       "   {'term': 'learning', 'scheme': None, 'label': None},\n",
       "   {'term': 'with', 'scheme': None, 'label': None},\n",
       "   {'term': 'contextmanagers', 'scheme': None, 'label': None},\n",
       "   {'term': 'Paramiko', 'scheme': None, 'label': None},\n",
       "   {'term': 'pytest', 'scheme': None, 'label': None}]},\n",
       " {'title': 'Simple API Part 2 - Building a Deep Work Logger with Flask, Slack and Google Docs',\n",
       "  'title_detail': {'type': 'text/plain',\n",
       "   'language': None,\n",
       "   'base': 'http://projects.bobbelderbos.com/pcc/dates/all.rss.xml',\n",
       "   'value': 'Simple API Part 2 - Building a Deep Work Logger with Flask, Slack and Google Docs'},\n",
       "  'links': [{'rel': 'alternate',\n",
       "    'type': 'text/html',\n",
       "    'href': 'https://pybit.es/flask-api-part2.html'}],\n",
       "  'link': 'https://pybit.es/flask-api-part2.html',\n",
       "  'summary': '<p>After <a href=\"http://pybit.es/simple-flask-api.html\">Simple API - part 1</a> a more practical app in this part 2 tutorial: a Deep Work logger integrating Google docs and Slack, including deployment of the app to Heroku.</p>',\n",
       "  'summary_detail': {'type': 'text/html',\n",
       "   'language': None,\n",
       "   'base': 'http://projects.bobbelderbos.com/pcc/dates/all.rss.xml',\n",
       "   'value': '<p>After <a href=\"http://pybit.es/simple-flask-api.html\">Simple API - part 1</a> a more practical app in this part 2 tutorial: a Deep Work logger integrating Google docs and Slack, including deployment of the app to Heroku.</p>'},\n",
       "  'authors': [{'name': 'Bob'}],\n",
       "  'author': 'Bob',\n",
       "  'author_detail': {'name': 'Bob'},\n",
       "  'published': 'Fri, 10 Mar 2017 18:00:00 +0100',\n",
       "  'published_parsed': time.struct_time(tm_year=2017, tm_mon=3, tm_mday=10, tm_hour=17, tm_min=0, tm_sec=0, tm_wday=4, tm_yday=69, tm_isdst=0),\n",
       "  'id': 'tag:pybit.es,2017-03-10:/flask-api-part2.html',\n",
       "  'guidislink': False,\n",
       "  'tags': [{'term': 'Flask', 'scheme': None, 'label': None},\n",
       "   {'term': 'Slack', 'scheme': None, 'label': None},\n",
       "   {'term': 'Google docs', 'scheme': None, 'label': None},\n",
       "   {'term': 'Heroku', 'scheme': None, 'label': None},\n",
       "   {'term': 'APIs', 'scheme': None, 'label': None},\n",
       "   {'term': 'pygsheets', 'scheme': None, 'label': None},\n",
       "   {'term': 'git', 'scheme': None, 'label': None},\n",
       "   {'term': 'commands', 'scheme': None, 'label': None},\n",
       "   {'term': 'productivity', 'scheme': None, 'label': None},\n",
       "   {'term': 'learning', 'scheme': None, 'label': None}]},\n",
       " {'title': 'Comparing Lists with Difflib',\n",
       "  'title_detail': {'type': 'text/plain',\n",
       "   'language': None,\n",
       "   'base': 'http://projects.bobbelderbos.com/pcc/dates/all.rss.xml',\n",
       "   'value': 'Comparing Lists with Difflib'},\n",
       "  'links': [{'rel': 'alternate',\n",
       "    'type': 'text/html',\n",
       "    'href': 'https://pybit.es/comparing_lists.html'}],\n",
       "  'link': 'https://pybit.es/comparing_lists.html',\n",
       "  'summary': '<p>Learn to compare blocks of text with the difflib module.</p>',\n",
       "  'summary_detail': {'type': 'text/html',\n",
       "   'language': None,\n",
       "   'base': 'http://projects.bobbelderbos.com/pcc/dates/all.rss.xml',\n",
       "   'value': '<p>Learn to compare blocks of text with the difflib module.</p>'},\n",
       "  'authors': [{'name': 'Julian'}],\n",
       "  'author': 'Julian',\n",
       "  'author_detail': {'name': 'Julian'},\n",
       "  'published': 'Wed, 08 Mar 2017 10:00:00 +0100',\n",
       "  'published_parsed': time.struct_time(tm_year=2017, tm_mon=3, tm_mday=8, tm_hour=9, tm_min=0, tm_sec=0, tm_wday=2, tm_yday=67, tm_isdst=0),\n",
       "  'id': 'tag:pybit.es,2017-03-08:/comparing_lists.html',\n",
       "  'guidislink': False,\n",
       "  'tags': [{'term': 'python', 'scheme': None, 'label': None},\n",
       "   {'term': 'learning', 'scheme': None, 'label': None},\n",
       "   {'term': 'beginners', 'scheme': None, 'label': None},\n",
       "   {'term': 'stdlib', 'scheme': None, 'label': None},\n",
       "   {'term': 'tips', 'scheme': None, 'label': None},\n",
       "   {'term': 'cleancode', 'scheme': None, 'label': None},\n",
       "   {'term': 'bestpractices', 'scheme': None, 'label': None},\n",
       "   {'term': 'pythonic', 'scheme': None, 'label': None}]},\n",
       " {'title': \"Don't let mutability of compound objects fool you!\",\n",
       "  'title_detail': {'type': 'text/plain',\n",
       "   'language': None,\n",
       "   'base': 'http://projects.bobbelderbos.com/pcc/dates/all.rss.xml',\n",
       "   'value': \"Don't let mutability of compound objects fool you!\"},\n",
       "  'links': [{'rel': 'alternate',\n",
       "    'type': 'text/html',\n",
       "    'href': 'https://pybit.es/mutability.html'}],\n",
       "  'link': 'https://pybit.es/mutability.html',\n",
       "  'summary': \"<p>In this article I explain the difference between shallow versus deep copy with a working example. It's an important concept when working with compound objects.</p>\",\n",
       "  'summary_detail': {'type': 'text/html',\n",
       "   'language': None,\n",
       "   'base': 'http://projects.bobbelderbos.com/pcc/dates/all.rss.xml',\n",
       "   'value': \"<p>In this article I explain the difference between shallow versus deep copy with a working example. It's an important concept when working with compound objects.</p>\"},\n",
       "  'authors': [{'name': 'Bob'}],\n",
       "  'author': 'Bob',\n",
       "  'author_detail': {'name': 'Bob'},\n",
       "  'published': 'Tue, 07 Mar 2017 11:00:00 +0100',\n",
       "  'published_parsed': time.struct_time(tm_year=2017, tm_mon=3, tm_mday=7, tm_hour=10, tm_min=0, tm_sec=0, tm_wday=1, tm_yday=66, tm_isdst=0),\n",
       "  'id': 'tag:pybit.es,2017-03-07:/mutability.html',\n",
       "  'guidislink': False,\n",
       "  'tags': [{'term': 'list', 'scheme': None, 'label': None},\n",
       "   {'term': 'mutable', 'scheme': None, 'label': None},\n",
       "   {'term': 'copy', 'scheme': None, 'label': None},\n",
       "   {'term': 'deepcopy', 'scheme': None, 'label': None}]},\n",
       " {'title': 'Code Challenge 09 - The With Statement and Context Managers',\n",
       "  'title_detail': {'type': 'text/plain',\n",
       "   'language': None,\n",
       "   'base': 'http://projects.bobbelderbos.com/pcc/dates/all.rss.xml',\n",
       "   'value': 'Code Challenge 09 - The With Statement and Context Managers'},\n",
       "  'links': [{'rel': 'alternate',\n",
       "    'type': 'text/html',\n",
       "    'href': 'https://pybit.es/codechallenge09.html'}],\n",
       "  'link': 'https://pybit.es/codechallenge09.html',\n",
       "  'summary': '<p>A new week, more coding! This week we have a free form exercise. This week you will implement your own Context Manager (= support with on your object).</p>',\n",
       "  'summary_detail': {'type': 'text/html',\n",
       "   'language': None,\n",
       "   'base': 'http://projects.bobbelderbos.com/pcc/dates/all.rss.xml',\n",
       "   'value': '<p>A new week, more coding! This week we have a free form exercise. This week you will implement your own Context Manager (= support with on your object).</p>'},\n",
       "  'authors': [{'name': 'PyBites'}],\n",
       "  'author': 'PyBites',\n",
       "  'author_detail': {'name': 'PyBites'},\n",
       "  'published': 'Mon, 06 Mar 2017 09:50:00 +0100',\n",
       "  'published_parsed': time.struct_time(tm_year=2017, tm_mon=3, tm_mday=6, tm_hour=8, tm_min=50, tm_sec=0, tm_wday=0, tm_yday=65, tm_isdst=0),\n",
       "  'id': 'tag:pybit.es,2017-03-06:/codechallenge09.html',\n",
       "  'guidislink': False,\n",
       "  'tags': [{'term': 'codechallenges', 'scheme': None, 'label': None},\n",
       "   {'term': 'learning', 'scheme': None, 'label': None},\n",
       "   {'term': 'with', 'scheme': None, 'label': None},\n",
       "   {'term': 'contextlib', 'scheme': None, 'label': None},\n",
       "   {'term': 'contextmanagers', 'scheme': None, 'label': None},\n",
       "   {'term': 'decorators', 'scheme': None, 'label': None},\n",
       "   {'term': 'generators', 'scheme': None, 'label': None}]},\n",
       " {'title': 'Code Challenge 08 - House Inventory Tracker - Review',\n",
       "  'title_detail': {'type': 'text/plain',\n",
       "   'language': None,\n",
       "   'base': 'http://projects.bobbelderbos.com/pcc/dates/all.rss.xml',\n",
       "   'value': 'Code Challenge 08 - House Inventory Tracker - Review'},\n",
       "  'links': [{'rel': 'alternate',\n",
       "    'type': 'text/html',\n",
       "    'href': 'https://pybit.es/codechallenge08_review.html'}],\n",
       "  'link': 'https://pybit.es/codechallenge08_review.html',\n",
       "  'summary': '<p>It\\'s end of the week again so we review the <a href=\"http://pybit.es/codechallenge08.html\">code challenge of this week</a>. It\\'s never late to sign up, just fork our <a href=\"https://github.com/pybites/challenges\">challenges repo</a> and start coding.</p>',\n",
       "  'summary_detail': {'type': 'text/html',\n",
       "   'language': None,\n",
       "   'base': 'http://projects.bobbelderbos.com/pcc/dates/all.rss.xml',\n",
       "   'value': '<p>It\\'s end of the week again so we review the <a href=\"http://pybit.es/codechallenge08.html\">code challenge of this week</a>. It\\'s never late to sign up, just fork our <a href=\"https://github.com/pybites/challenges\">challenges repo</a> and start coding.</p>'},\n",
       "  'authors': [{'name': 'PyBites'}],\n",
       "  'author': 'PyBites',\n",
       "  'author_detail': {'name': 'PyBites'},\n",
       "  'published': 'Sun, 05 Mar 2017 09:00:00 +0100',\n",
       "  'published_parsed': time.struct_time(tm_year=2017, tm_mon=3, tm_mday=5, tm_hour=8, tm_min=0, tm_sec=0, tm_wday=6, tm_yday=64, tm_isdst=0),\n",
       "  'id': 'tag:pybit.es,2017-03-05:/codechallenge08_review.html',\n",
       "  'guidislink': False,\n",
       "  'tags': [{'term': 'codechallenges', 'scheme': None, 'label': None},\n",
       "   {'term': 'code review', 'scheme': None, 'label': None},\n",
       "   {'term': 'learning', 'scheme': None, 'label': None},\n",
       "   {'term': 'inventory', 'scheme': None, 'label': None},\n",
       "   {'term': 'Flask', 'scheme': None, 'label': None},\n",
       "   {'term': 'APIs', 'scheme': None, 'label': None},\n",
       "   {'term': 'data structures', 'scheme': None, 'label': None}]},\n",
       " {'title': 'Twitter digest 2017 week 09',\n",
       "  'title_detail': {'type': 'text/plain',\n",
       "   'language': None,\n",
       "   'base': 'http://projects.bobbelderbos.com/pcc/dates/all.rss.xml',\n",
       "   'value': 'Twitter digest 2017 week 09'},\n",
       "  'links': [{'rel': 'alternate',\n",
       "    'type': 'text/html',\n",
       "    'href': 'https://pybit.es/twitter_digest_201709.html'}],\n",
       "  'link': 'https://pybit.es/twitter_digest_201709.html',\n",
       "  'summary': '<p>On Saturdays we will share a curated list of 15 cool things (mostly Python) we found / tweeted during the week.</p>',\n",
       "  'summary_detail': {'type': 'text/html',\n",
       "   'language': None,\n",
       "   'base': 'http://projects.bobbelderbos.com/pcc/dates/all.rss.xml',\n",
       "   'value': '<p>On Saturdays we will share a curated list of 15 cool things (mostly Python) we found / tweeted during the week.</p>'},\n",
       "  'authors': [{'name': 'PyBites'}],\n",
       "  'author': 'PyBites',\n",
       "  'author_detail': {'name': 'PyBites'},\n",
       "  'published': 'Sat, 04 Mar 2017 08:30:00 +0100',\n",
       "  'published_parsed': time.struct_time(tm_year=2017, tm_mon=3, tm_mday=4, tm_hour=7, tm_min=30, tm_sec=0, tm_wday=5, tm_yday=63, tm_isdst=0),\n",
       "  'id': 'tag:pybit.es,2017-03-04:/twitter_digest_201709.html',\n",
       "  'guidislink': False,\n",
       "  'tags': [{'term': 'twitter', 'scheme': None, 'label': None},\n",
       "   {'term': 'news', 'scheme': None, 'label': None},\n",
       "   {'term': 'podcasts', 'scheme': None, 'label': None},\n",
       "   {'term': 'contextmanagers', 'scheme': None, 'label': None},\n",
       "   {'term': '3.6', 'scheme': None, 'label': None},\n",
       "   {'term': 'pypi', 'scheme': None, 'label': None},\n",
       "   {'term': 'training', 'scheme': None, 'label': None},\n",
       "   {'term': 'tuples', 'scheme': None, 'label': None},\n",
       "   {'term': 'pydata', 'scheme': None, 'label': None},\n",
       "   {'term': 'testing', 'scheme': None, 'label': None},\n",
       "   {'term': 'zen', 'scheme': None, 'label': None},\n",
       "   {'term': 'pyfun', 'scheme': None, 'label': None}]},\n",
       " {'title': 'How To Build a Simple API with Flask and Unit Test it',\n",
       "  'title_detail': {'type': 'text/plain',\n",
       "   'language': None,\n",
       "   'base': 'http://projects.bobbelderbos.com/pcc/dates/all.rss.xml',\n",
       "   'value': 'How To Build a Simple API with Flask and Unit Test it'},\n",
       "  'links': [{'rel': 'alternate',\n",
       "    'type': 'text/html',\n",
       "    'href': 'https://pybit.es/simple-flask-api.html'}],\n",
       "  'link': 'https://pybit.es/simple-flask-api.html',\n",
       "  'summary': '<p>In this post I will create a simple API with Flask and test it with curl and unit testing its HTTP methods.</p>',\n",
       "  'summary_detail': {'type': 'text/html',\n",
       "   'language': None,\n",
       "   'base': 'http://projects.bobbelderbos.com/pcc/dates/all.rss.xml',\n",
       "   'value': '<p>In this post I will create a simple API with Flask and test it with curl and unit testing its HTTP methods.</p>'},\n",
       "  'authors': [{'name': 'Bob'}],\n",
       "  'author': 'Bob',\n",
       "  'author_detail': {'name': 'Bob'},\n",
       "  'published': 'Fri, 03 Mar 2017 21:00:00 +0100',\n",
       "  'published_parsed': time.struct_time(tm_year=2017, tm_mon=3, tm_mday=3, tm_hour=20, tm_min=0, tm_sec=0, tm_wday=4, tm_yday=62, tm_isdst=0),\n",
       "  'id': 'tag:pybit.es,2017-03-03:/simple-flask-api.html',\n",
       "  'guidislink': False,\n",
       "  'tags': [{'term': 'APIs', 'scheme': None, 'label': None},\n",
       "   {'term': 'Flask', 'scheme': None, 'label': None},\n",
       "   {'term': 'REST', 'scheme': None, 'label': None},\n",
       "   {'term': 'curl', 'scheme': None, 'label': None},\n",
       "   {'term': 'testing', 'scheme': None, 'label': None},\n",
       "   {'term': 'unittest', 'scheme': None, 'label': None},\n",
       "   {'term': 'inventory', 'scheme': None, 'label': None}]},\n",
       " {'title': 'Pythonic String Formatting',\n",
       "  'title_detail': {'type': 'text/plain',\n",
       "   'language': None,\n",
       "   'base': 'http://projects.bobbelderbos.com/pcc/dates/all.rss.xml',\n",
       "   'value': 'Pythonic String Formatting'},\n",
       "  'links': [{'rel': 'alternate',\n",
       "    'type': 'text/html',\n",
       "    'href': 'https://pybit.es/string-formatting.html'}],\n",
       "  'link': 'https://pybit.es/string-formatting.html',\n",
       "  'summary': \"<p>The formatting of strings has been a hot topic in Python and something that I struggled with at the beginning. It's quite interesting to see how it's evolved over time to be what it is today!</p>\",\n",
       "  'summary_detail': {'type': 'text/html',\n",
       "   'language': None,\n",
       "   'base': 'http://projects.bobbelderbos.com/pcc/dates/all.rss.xml',\n",
       "   'value': \"<p>The formatting of strings has been a hot topic in Python and something that I struggled with at the beginning. It's quite interesting to see how it's evolved over time to be what it is today!</p>\"},\n",
       "  'authors': [{'name': 'Julian'}],\n",
       "  'author': 'Julian',\n",
       "  'author_detail': {'name': 'Julian'},\n",
       "  'published': 'Thu, 02 Mar 2017 08:00:00 +0100',\n",
       "  'published_parsed': time.struct_time(tm_year=2017, tm_mon=3, tm_mday=2, tm_hour=7, tm_min=0, tm_sec=0, tm_wday=3, tm_yday=61, tm_isdst=0),\n",
       "  'id': 'tag:pybit.es,2017-03-02:/string-formatting.html',\n",
       "  'guidislink': False,\n",
       "  'tags': [{'term': 'python', 'scheme': None, 'label': None},\n",
       "   {'term': 'learning', 'scheme': None, 'label': None},\n",
       "   {'term': 'beginners', 'scheme': None, 'label': None},\n",
       "   {'term': 'tips', 'scheme': None, 'label': None},\n",
       "   {'term': 'cleancode', 'scheme': None, 'label': None},\n",
       "   {'term': 'bestpractices', 'scheme': None, 'label': None},\n",
       "   {'term': 'pythonic', 'scheme': None, 'label': None}]},\n",
       " {'title': 'I have been coding in Python for years and I still ...',\n",
       "  'title_detail': {'type': 'text/plain',\n",
       "   'language': None,\n",
       "   'base': 'http://projects.bobbelderbos.com/pcc/dates/all.rss.xml',\n",
       "   'value': 'I have been coding in Python for years and I still ...'},\n",
       "  'links': [{'rel': 'alternate',\n",
       "    'type': 'text/html',\n",
       "    'href': 'https://pybit.es/python-lookup.html'}],\n",
       "  'link': 'https://pybit.es/python-lookup.html',\n",
       "  'summary': '<p>A quick post on a fun trend we saw on Twitter this morning: people posting how long they coded for and what they still had to lookup. Some of this is tongue in cheek of course, but the point is that programming is not easy. Secondly there is no shame in looking things up, we all do it! What do fellow Pythonistas say?</p>',\n",
       "  'summary_detail': {'type': 'text/html',\n",
       "   'language': None,\n",
       "   'base': 'http://projects.bobbelderbos.com/pcc/dates/all.rss.xml',\n",
       "   'value': '<p>A quick post on a fun trend we saw on Twitter this morning: people posting how long they coded for and what they still had to lookup. Some of this is tongue in cheek of course, but the point is that programming is not easy. Secondly there is no shame in looking things up, we all do it! What do fellow Pythonistas say?</p>'},\n",
       "  'authors': [{'name': 'PyBites'}],\n",
       "  'author': 'PyBites',\n",
       "  'author_detail': {'name': 'PyBites'},\n",
       "  'published': 'Wed, 01 Mar 2017 09:00:00 +0100',\n",
       "  'published_parsed': time.struct_time(tm_year=2017, tm_mon=3, tm_mday=1, tm_hour=8, tm_min=0, tm_sec=0, tm_wday=2, tm_yday=60, tm_isdst=0),\n",
       "  'id': 'tag:pybit.es,2017-03-01:/python-lookup.html',\n",
       "  'guidislink': False,\n",
       "  'tags': [{'term': 'learning', 'scheme': None, 'label': None},\n",
       "   {'term': 'twitter', 'scheme': None, 'label': None},\n",
       "   {'term': 'pyfun', 'scheme': None, 'label': None},\n",
       "   {'term': 'stackoverflow', 'scheme': None, 'label': None}]},\n",
       " {'title': 'Code Challenge 08 - House Inventory Tracker',\n",
       "  'title_detail': {'type': 'text/plain',\n",
       "   'language': None,\n",
       "   'base': 'http://projects.bobbelderbos.com/pcc/dates/all.rss.xml',\n",
       "   'value': 'Code Challenge 08 - House Inventory Tracker'},\n",
       "  'links': [{'rel': 'alternate',\n",
       "    'type': 'text/html',\n",
       "    'href': 'https://pybit.es/codechallenge08.html'}],\n",
       "  'link': 'https://pybit.es/codechallenge08.html',\n",
       "  'summary': '<p>A new week, more coding! In this challenge you will create an app to keep track of a house inventory.</p>',\n",
       "  'summary_detail': {'type': 'text/html',\n",
       "   'language': None,\n",
       "   'base': 'http://projects.bobbelderbos.com/pcc/dates/all.rss.xml',\n",
       "   'value': '<p>A new week, more coding! In this challenge you will create an app to keep track of a house inventory.</p>'},\n",
       "  'authors': [{'name': 'PyBites'}],\n",
       "  'author': 'PyBites',\n",
       "  'author_detail': {'name': 'PyBites'},\n",
       "  'published': 'Mon, 27 Feb 2017 00:01:00 +0100',\n",
       "  'published_parsed': time.struct_time(tm_year=2017, tm_mon=2, tm_mday=26, tm_hour=23, tm_min=1, tm_sec=0, tm_wday=6, tm_yday=57, tm_isdst=0),\n",
       "  'id': 'tag:pybit.es,2017-02-27:/codechallenge08.html',\n",
       "  'guidislink': False,\n",
       "  'tags': [{'term': 'codechallenges', 'scheme': None, 'label': None},\n",
       "   {'term': 'learning', 'scheme': None, 'label': None},\n",
       "   {'term': 'app', 'scheme': None, 'label': None},\n",
       "   {'term': 'inventory', 'scheme': None, 'label': None},\n",
       "   {'term': 'APIs', 'scheme': None, 'label': None},\n",
       "   {'term': 'Flask', 'scheme': None, 'label': None}]},\n",
       " {'title': 'Code Challenge 07 - Twitter Sentiment Analysis - Review',\n",
       "  'title_detail': {'type': 'text/plain',\n",
       "   'language': None,\n",
       "   'base': 'http://projects.bobbelderbos.com/pcc/dates/all.rss.xml',\n",
       "   'value': 'Code Challenge 07 - Twitter Sentiment Analysis - Review'},\n",
       "  'links': [{'rel': 'alternate',\n",
       "    'type': 'text/html',\n",
       "    'href': 'https://pybit.es/codechallenge07_review.html'}],\n",
       "  'link': 'https://pybit.es/codechallenge07_review.html',\n",
       "  'summary': '<p>It\\'s end of the week again so we review the <a href=\"http://pybit.es/codechallenge07.html\">code challenge of this week</a>. It\\'s never late to sign up, just fork our <a href=\"https://github.com/pybites/challenges\">challenges repo</a> and start coding.</p>',\n",
       "  'summary_detail': {'type': 'text/html',\n",
       "   'language': None,\n",
       "   'base': 'http://projects.bobbelderbos.com/pcc/dates/all.rss.xml',\n",
       "   'value': '<p>It\\'s end of the week again so we review the <a href=\"http://pybit.es/codechallenge07.html\">code challenge of this week</a>. It\\'s never late to sign up, just fork our <a href=\"https://github.com/pybites/challenges\">challenges repo</a> and start coding.</p>'},\n",
       "  'authors': [{'name': 'PyBites'}],\n",
       "  'author': 'PyBites',\n",
       "  'author_detail': {'name': 'PyBites'},\n",
       "  'published': 'Sun, 26 Feb 2017 00:50:00 +0100',\n",
       "  'published_parsed': time.struct_time(tm_year=2017, tm_mon=2, tm_mday=25, tm_hour=23, tm_min=50, tm_sec=0, tm_wday=5, tm_yday=56, tm_isdst=0),\n",
       "  'id': 'tag:pybit.es,2017-02-26:/codechallenge07_review.html',\n",
       "  'guidislink': False,\n",
       "  'tags': [{'term': 'codechallenges', 'scheme': None, 'label': None},\n",
       "   {'term': 'code review', 'scheme': None, 'label': None},\n",
       "   {'term': 'learning', 'scheme': None, 'label': None},\n",
       "   {'term': 'Twitter', 'scheme': None, 'label': None},\n",
       "   {'term': 'sentiment', 'scheme': None, 'label': None},\n",
       "   {'term': 'TextBlob', 'scheme': None, 'label': None}]},\n",
       " {'title': 'Twitter digest 2017 week 08',\n",
       "  'title_detail': {'type': 'text/plain',\n",
       "   'language': None,\n",
       "   'base': 'http://projects.bobbelderbos.com/pcc/dates/all.rss.xml',\n",
       "   'value': 'Twitter digest 2017 week 08'},\n",
       "  'links': [{'rel': 'alternate',\n",
       "    'type': 'text/html',\n",
       "    'href': 'https://pybit.es/twitter_digest_201708.html'}],\n",
       "  'link': 'https://pybit.es/twitter_digest_201708.html',\n",
       "  'summary': '<p>On Saturdays we will share a curated list of 15 cool things (mostly Python) we found / tweeted during the week.</p>',\n",
       "  'summary_detail': {'type': 'text/html',\n",
       "   'language': None,\n",
       "   'base': 'http://projects.bobbelderbos.com/pcc/dates/all.rss.xml',\n",
       "   'value': '<p>On Saturdays we will share a curated list of 15 cool things (mostly Python) we found / tweeted during the week.</p>'},\n",
       "  'authors': [{'name': 'PyBites'}],\n",
       "  'author': 'PyBites',\n",
       "  'author_detail': {'name': 'PyBites'},\n",
       "  'published': 'Sat, 25 Feb 2017 01:20:00 +0100',\n",
       "  'published_parsed': time.struct_time(tm_year=2017, tm_mon=2, tm_mday=25, tm_hour=0, tm_min=20, tm_sec=0, tm_wday=5, tm_yday=56, tm_isdst=0),\n",
       "  'id': 'tag:pybit.es,2017-02-25:/twitter_digest_201708.html',\n",
       "  'guidislink': False,\n",
       "  'tags': [{'term': 'twitter', 'scheme': None, 'label': None},\n",
       "   {'term': 'news', 'scheme': None, 'label': None},\n",
       "   {'term': 'podcasts', 'scheme': None, 'label': None},\n",
       "   {'term': 'Guido', 'scheme': None, 'label': None},\n",
       "   {'term': 'namedtuples', 'scheme': None, 'label': None},\n",
       "   {'term': 'tips', 'scheme': None, 'label': None},\n",
       "   {'term': 'books', 'scheme': None, 'label': None},\n",
       "   {'term': 'stdlib', 'scheme': None, 'label': None},\n",
       "   {'term': 'data', 'scheme': None, 'label': None}]},\n",
       " {'title': 'Write Pythonic Code Like a Seasoned Developer Review',\n",
       "  'title_detail': {'type': 'text/plain',\n",
       "   'language': None,\n",
       "   'base': 'http://projects.bobbelderbos.com/pcc/dates/all.rss.xml',\n",
       "   'value': 'Write Pythonic Code Like a Seasoned Developer Review'},\n",
       "  'links': [{'rel': 'alternate',\n",
       "    'type': 'text/html',\n",
       "    'href': 'https://pybit.es/pythonic-code-course-rewiew.html'}],\n",
       "  'link': 'https://pybit.es/pythonic-code-course-rewiew.html',\n",
       "  'summary': \"<p>Review of Michael Kennedy's Brilliant Pythonic Code Course</p>\",\n",
       "  'summary_detail': {'type': 'text/html',\n",
       "   'language': None,\n",
       "   'base': 'http://projects.bobbelderbos.com/pcc/dates/all.rss.xml',\n",
       "   'value': \"<p>Review of Michael Kennedy's Brilliant Pythonic Code Course</p>\"},\n",
       "  'authors': [{'name': 'Julian'}],\n",
       "  'author': 'Julian',\n",
       "  'author_detail': {'name': 'Julian'},\n",
       "  'published': 'Thu, 23 Feb 2017 20:30:00 +0100',\n",
       "  'published_parsed': time.struct_time(tm_year=2017, tm_mon=2, tm_mday=23, tm_hour=19, tm_min=30, tm_sec=0, tm_wday=3, tm_yday=54, tm_isdst=0),\n",
       "  'id': 'tag:pybit.es,2017-02-23:/pythonic-code-course-rewiew.html',\n",
       "  'guidislink': False,\n",
       "  'tags': [{'term': 'python', 'scheme': None, 'label': None},\n",
       "   {'term': 'training', 'scheme': None, 'label': None},\n",
       "   {'term': 'courses', 'scheme': None, 'label': None},\n",
       "   {'term': 'review', 'scheme': None, 'label': None},\n",
       "   {'term': 'learning', 'scheme': None, 'label': None}]},\n",
       " {'title': '5 tips to speed up your Python code',\n",
       "  'title_detail': {'type': 'text/plain',\n",
       "   'language': None,\n",
       "   'base': 'http://projects.bobbelderbos.com/pcc/dates/all.rss.xml',\n",
       "   'value': '5 tips to speed up your Python code'},\n",
       "  'links': [{'rel': 'alternate',\n",
       "    'type': 'text/html',\n",
       "    'href': 'https://pybit.es/faster-python.html'}],\n",
       "  'link': 'https://pybit.es/faster-python.html',\n",
       "  'summary': '<p>In this post I will give you 5 tips to speed up your code.</p>',\n",
       "  'summary_detail': {'type': 'text/html',\n",
       "   'language': None,\n",
       "   'base': 'http://projects.bobbelderbos.com/pcc/dates/all.rss.xml',\n",
       "   'value': '<p>In this post I will give you 5 tips to speed up your code.</p>'},\n",
       "  'authors': [{'name': 'Bob'}],\n",
       "  'author': 'Bob',\n",
       "  'author_detail': {'name': 'Bob'},\n",
       "  'published': 'Tue, 21 Feb 2017 09:00:00 +0100',\n",
       "  'published_parsed': time.struct_time(tm_year=2017, tm_mon=2, tm_mday=21, tm_hour=8, tm_min=0, tm_sec=0, tm_wday=1, tm_yday=52, tm_isdst=0),\n",
       "  'id': 'tag:pybit.es,2017-02-21:/faster-python.html',\n",
       "  'guidislink': False,\n",
       "  'tags': [{'term': 'performance', 'scheme': None, 'label': None},\n",
       "   {'term': 'data structures', 'scheme': None, 'label': None},\n",
       "   {'term': 'pythonic', 'scheme': None, 'label': None},\n",
       "   {'term': 'generators', 'scheme': None, 'label': None},\n",
       "   {'term': 'map', 'scheme': None, 'label': None},\n",
       "   {'term': 'builtin', 'scheme': None, 'label': None},\n",
       "   {'term': 'algorithms', 'scheme': None, 'label': None},\n",
       "   {'term': 'regex', 'scheme': None, 'label': None},\n",
       "   {'term': 'patterns', 'scheme': None, 'label': None}]},\n",
       " {'title': 'Code Challenge 07 - Twitter Sentiment Analysis',\n",
       "  'title_detail': {'type': 'text/plain',\n",
       "   'language': None,\n",
       "   'base': 'http://projects.bobbelderbos.com/pcc/dates/all.rss.xml',\n",
       "   'value': 'Code Challenge 07 - Twitter Sentiment Analysis'},\n",
       "  'links': [{'rel': 'alternate',\n",
       "    'type': 'text/html',\n",
       "    'href': 'https://pybit.es/codechallenge07.html'}],\n",
       "  'link': 'https://pybit.es/codechallenge07.html',\n",
       "  'summary': '<p>A new week, more coding! In this challenge you will do a sentiment analysis of a recently released movie, is it well received or not?</p>',\n",
       "  'summary_detail': {'type': 'text/html',\n",
       "   'language': None,\n",
       "   'base': 'http://projects.bobbelderbos.com/pcc/dates/all.rss.xml',\n",
       "   'value': '<p>A new week, more coding! In this challenge you will do a sentiment analysis of a recently released movie, is it well received or not?</p>'},\n",
       "  'authors': [{'name': 'PyBites'}],\n",
       "  'author': 'PyBites',\n",
       "  'author_detail': {'name': 'PyBites'},\n",
       "  'published': 'Mon, 20 Feb 2017 00:01:00 +0100',\n",
       "  'published_parsed': time.struct_time(tm_year=2017, tm_mon=2, tm_mday=19, tm_hour=23, tm_min=1, tm_sec=0, tm_wday=6, tm_yday=50, tm_isdst=0),\n",
       "  'id': 'tag:pybit.es,2017-02-20:/codechallenge07.html',\n",
       "  'guidislink': False,\n",
       "  'tags': [{'term': 'codechallenges', 'scheme': None, 'label': None},\n",
       "   {'term': 'learning', 'scheme': None, 'label': None},\n",
       "   {'term': 'pypi', 'scheme': None, 'label': None},\n",
       "   {'term': 'prediction', 'scheme': None, 'label': None}]},\n",
       " {'title': 'Twitter digest 2017 week 07',\n",
       "  'title_detail': {'type': 'text/plain',\n",
       "   'language': None,\n",
       "   'base': 'http://projects.bobbelderbos.com/pcc/dates/all.rss.xml',\n",
       "   'value': 'Twitter digest 2017 week 07'},\n",
       "  'links': [{'rel': 'alternate',\n",
       "    'type': 'text/html',\n",
       "    'href': 'https://pybit.es/twitter_digest_201707.html'}],\n",
       "  'link': 'https://pybit.es/twitter_digest_201707.html',\n",
       "  'summary': '<p>On Saturdays we will share a curated list of 15 cool things (mostly Python) we found / tweeted during the week.</p>',\n",
       "  'summary_detail': {'type': 'text/html',\n",
       "   'language': None,\n",
       "   'base': 'http://projects.bobbelderbos.com/pcc/dates/all.rss.xml',\n",
       "   'value': '<p>On Saturdays we will share a curated list of 15 cool things (mostly Python) we found / tweeted during the week.</p>'},\n",
       "  'authors': [{'name': 'PyBites'}],\n",
       "  'author': 'PyBites',\n",
       "  'author_detail': {'name': 'PyBites'},\n",
       "  'published': 'Sat, 18 Feb 2017 09:17:00 +0100',\n",
       "  'published_parsed': time.struct_time(tm_year=2017, tm_mon=2, tm_mday=18, tm_hour=8, tm_min=17, tm_sec=0, tm_wday=5, tm_yday=49, tm_isdst=0),\n",
       "  'id': 'tag:pybit.es,2017-02-18:/twitter_digest_201707.html',\n",
       "  'guidislink': False,\n",
       "  'tags': [{'term': 'twitter', 'scheme': None, 'label': None},\n",
       "   {'term': 'news', 'scheme': None, 'label': None},\n",
       "   {'term': 'podcasts', 'scheme': None, 'label': None},\n",
       "   {'term': '3.6', 'scheme': None, 'label': None},\n",
       "   {'term': 'functional programming', 'scheme': None, 'label': None},\n",
       "   {'term': '2vs3', 'scheme': None, 'label': None},\n",
       "   {'term': 'git', 'scheme': None, 'label': None},\n",
       "   {'term': 'github', 'scheme': None, 'label': None},\n",
       "   {'term': 'guido', 'scheme': None, 'label': None},\n",
       "   {'term': 'oop', 'scheme': None, 'label': None},\n",
       "   {'term': 'namedtuples', 'scheme': None, 'label': None},\n",
       "   {'term': 'algorithms', 'scheme': None, 'label': None},\n",
       "   {'term': 'refactoring', 'scheme': None, 'label': None}]},\n",
       " {'title': 'Code Challenge 06 - PyPI 100K Packages Prediction - Review',\n",
       "  'title_detail': {'type': 'text/plain',\n",
       "   'language': None,\n",
       "   'base': 'http://projects.bobbelderbos.com/pcc/dates/all.rss.xml',\n",
       "   'value': 'Code Challenge 06 - PyPI 100K Packages Prediction - Review'},\n",
       "  'links': [{'rel': 'alternate',\n",
       "    'type': 'text/html',\n",
       "    'href': 'https://pybit.es/codechallenge06_review.html'}],\n",
       "  'link': 'https://pybit.es/codechallenge06_review.html',\n",
       "  'summary': '<p>It\\'s end of the week again so we review the <a href=\"http://pybit.es/codechallenge06.html\">code challenge of this week</a>. It\\'s never late to sign up, just fork our <a href=\"https://github.com/pybites/challenges\">challenges repo</a> and start coding.</p>',\n",
       "  'summary_detail': {'type': 'text/html',\n",
       "   'language': None,\n",
       "   'base': 'http://projects.bobbelderbos.com/pcc/dates/all.rss.xml',\n",
       "   'value': '<p>It\\'s end of the week again so we review the <a href=\"http://pybit.es/codechallenge06.html\">code challenge of this week</a>. It\\'s never late to sign up, just fork our <a href=\"https://github.com/pybites/challenges\">challenges repo</a> and start coding.</p>'},\n",
       "  'authors': [{'name': 'PyBites'}],\n",
       "  'author': 'PyBites',\n",
       "  'author_detail': {'name': 'PyBites'},\n",
       "  'published': 'Fri, 17 Feb 2017 16:00:00 +0100',\n",
       "  'published_parsed': time.struct_time(tm_year=2017, tm_mon=2, tm_mday=17, tm_hour=15, tm_min=0, tm_sec=0, tm_wday=4, tm_yday=48, tm_isdst=0),\n",
       "  'id': 'tag:pybit.es,2017-02-17:/codechallenge06_review.html',\n",
       "  'guidislink': False,\n",
       "  'tags': [{'term': 'codechallenges', 'scheme': None, 'label': None},\n",
       "   {'term': 'code review', 'scheme': None, 'label': None},\n",
       "   {'term': 'learning', 'scheme': None, 'label': None},\n",
       "   {'term': 'pypi', 'scheme': None, 'label': None},\n",
       "   {'term': 'prediction', 'scheme': None, 'label': None},\n",
       "   {'term': 'scipy', 'scheme': None, 'label': None},\n",
       "   {'term': 'numpy', 'scheme': None, 'label': None},\n",
       "   {'term': 'matplotlib', 'scheme': None, 'label': None}]},\n",
       " {'title': 'How to Order Dict Output in Python',\n",
       "  'title_detail': {'type': 'text/plain',\n",
       "   'language': None,\n",
       "   'base': 'http://projects.bobbelderbos.com/pcc/dates/all.rss.xml',\n",
       "   'value': 'How to Order Dict Output in Python'},\n",
       "  'links': [{'rel': 'alternate',\n",
       "    'type': 'text/html',\n",
       "    'href': 'https://pybit.es/dict-ordering.html'}],\n",
       "  'link': 'https://pybit.es/dict-ordering.html',\n",
       "  'summary': '<p>Learn how to order the output of a Python Dict</p>',\n",
       "  'summary_detail': {'type': 'text/html',\n",
       "   'language': None,\n",
       "   'base': 'http://projects.bobbelderbos.com/pcc/dates/all.rss.xml',\n",
       "   'value': '<p>Learn how to order the output of a Python Dict</p>'},\n",
       "  'authors': [{'name': 'Julian'}],\n",
       "  'author': 'Julian',\n",
       "  'author_detail': {'name': 'Julian'},\n",
       "  'published': 'Thu, 16 Feb 2017 23:00:00 +0100',\n",
       "  'published_parsed': time.struct_time(tm_year=2017, tm_mon=2, tm_mday=16, tm_hour=22, tm_min=0, tm_sec=0, tm_wday=3, tm_yday=47, tm_isdst=0),\n",
       "  'id': 'tag:pybit.es,2017-02-16:/dict-ordering.html',\n",
       "  'guidislink': False,\n",
       "  'tags': [{'term': 'python', 'scheme': None, 'label': None},\n",
       "   {'term': 'tips', 'scheme': None, 'label': None},\n",
       "   {'term': 'tricks', 'scheme': None, 'label': None},\n",
       "   {'term': 'code', 'scheme': None, 'label': None},\n",
       "   {'term': 'pybites', 'scheme': None, 'label': None},\n",
       "   {'term': 'dicts', 'scheme': None, 'label': None},\n",
       "   {'term': 'data structures', 'scheme': None, 'label': None}]},\n",
       " {'title': 'Shelve It!',\n",
       "  'title_detail': {'type': 'text/plain',\n",
       "   'language': None,\n",
       "   'base': 'http://projects.bobbelderbos.com/pcc/dates/all.rss.xml',\n",
       "   'value': 'Shelve It!'},\n",
       "  'links': [{'rel': 'alternate',\n",
       "    'type': 'text/html',\n",
       "    'href': 'https://pybit.es/shelve-it.html'}],\n",
       "  'link': 'https://pybit.es/shelve-it.html',\n",
       "  'summary': '<p>Shelve basics and a question on how best to manage importing the DB.</p>',\n",
       "  'summary_detail': {'type': 'text/html',\n",
       "   'language': None,\n",
       "   'base': 'http://projects.bobbelderbos.com/pcc/dates/all.rss.xml',\n",
       "   'value': '<p>Shelve basics and a question on how best to manage importing the DB.</p>'},\n",
       "  'authors': [{'name': 'Julian'}],\n",
       "  'author': 'Julian',\n",
       "  'author_detail': {'name': 'Julian'},\n",
       "  'published': 'Tue, 14 Feb 2017 00:48:00 +0100',\n",
       "  'published_parsed': time.struct_time(tm_year=2017, tm_mon=2, tm_mday=13, tm_hour=23, tm_min=48, tm_sec=0, tm_wday=0, tm_yday=44, tm_isdst=0),\n",
       "  'id': 'tag:pybit.es,2017-02-14:/shelve-it.html',\n",
       "  'guidislink': False,\n",
       "  'tags': [{'term': 'shelve', 'scheme': None, 'label': None},\n",
       "   {'term': 'python', 'scheme': None, 'label': None},\n",
       "   {'term': 'tips', 'scheme': None, 'label': None},\n",
       "   {'term': 'tricks', 'scheme': None, 'label': None},\n",
       "   {'term': 'code', 'scheme': None, 'label': None},\n",
       "   {'term': 'pybites', 'scheme': None, 'label': None},\n",
       "   {'term': 'database', 'scheme': None, 'label': None}]},\n",
       " {'title': 'Code Challenge 06 - PyPI 100K Packages Prediction',\n",
       "  'title_detail': {'type': 'text/plain',\n",
       "   'language': None,\n",
       "   'base': 'http://projects.bobbelderbos.com/pcc/dates/all.rss.xml',\n",
       "   'value': 'Code Challenge 06 - PyPI 100K Packages Prediction'},\n",
       "  'links': [{'rel': 'alternate',\n",
       "    'type': 'text/html',\n",
       "    'href': 'https://pybit.es/codechallenge06.html'}],\n",
       "  'link': 'https://pybit.es/codechallenge06.html',\n",
       "  'summary': '<p>A new week, more coding! In this challenge you will make a prediction when PyPI will reach the 100.000 packages milestone.</p>',\n",
       "  'summary_detail': {'type': 'text/html',\n",
       "   'language': None,\n",
       "   'base': 'http://projects.bobbelderbos.com/pcc/dates/all.rss.xml',\n",
       "   'value': '<p>A new week, more coding! In this challenge you will make a prediction when PyPI will reach the 100.000 packages milestone.</p>'},\n",
       "  'authors': [{'name': 'PyBites'}],\n",
       "  'author': 'PyBites',\n",
       "  'author_detail': {'name': 'PyBites'},\n",
       "  'published': 'Mon, 13 Feb 2017 08:40:00 +0100',\n",
       "  'published_parsed': time.struct_time(tm_year=2017, tm_mon=2, tm_mday=13, tm_hour=7, tm_min=40, tm_sec=0, tm_wday=0, tm_yday=44, tm_isdst=0),\n",
       "  'id': 'tag:pybit.es,2017-02-13:/codechallenge06.html',\n",
       "  'guidislink': False,\n",
       "  'tags': [{'term': 'codechallenges', 'scheme': None, 'label': None},\n",
       "   {'term': 'learning', 'scheme': None, 'label': None},\n",
       "   {'term': 'pypi', 'scheme': None, 'label': None},\n",
       "   {'term': 'prediction', 'scheme': None, 'label': None}]},\n",
       " {'title': 'Twitter digest 2017 week 06',\n",
       "  'title_detail': {'type': 'text/plain',\n",
       "   'language': None,\n",
       "   'base': 'http://projects.bobbelderbos.com/pcc/dates/all.rss.xml',\n",
       "   'value': 'Twitter digest 2017 week 06'},\n",
       "  'links': [{'rel': 'alternate',\n",
       "    'type': 'text/html',\n",
       "    'href': 'https://pybit.es/twitter_digest_201706.html'}],\n",
       "  'link': 'https://pybit.es/twitter_digest_201706.html',\n",
       "  'summary': '<p>On Saturdays we will share a curated list of 15 cool things (mostly Python) we found / tweeted during the week.</p>',\n",
       "  'summary_detail': {'type': 'text/html',\n",
       "   'language': None,\n",
       "   'base': 'http://projects.bobbelderbos.com/pcc/dates/all.rss.xml',\n",
       "   'value': '<p>On Saturdays we will share a curated list of 15 cool things (mostly Python) we found / tweeted during the week.</p>'},\n",
       "  'authors': [{'name': 'PyBites'}],\n",
       "  'author': 'PyBites',\n",
       "  'author_detail': {'name': 'PyBites'},\n",
       "  'published': 'Sat, 11 Feb 2017 09:27:00 +0100',\n",
       "  'published_parsed': time.struct_time(tm_year=2017, tm_mon=2, tm_mday=11, tm_hour=8, tm_min=27, tm_sec=0, tm_wday=5, tm_yday=42, tm_isdst=0),\n",
       "  'id': 'tag:pybit.es,2017-02-11:/twitter_digest_201706.html',\n",
       "  'guidislink': False,\n",
       "  'tags': [{'term': 'twitter', 'scheme': None, 'label': None},\n",
       "   {'term': 'news', 'scheme': None, 'label': None},\n",
       "   {'term': 'podcasts', 'scheme': None, 'label': None},\n",
       "   {'term': 'Excel', 'scheme': None, 'label': None},\n",
       "   {'term': 'Django', 'scheme': None, 'label': None},\n",
       "   {'term': 'k-means', 'scheme': None, 'label': None},\n",
       "   {'term': 'iterators', 'scheme': None, 'label': None},\n",
       "   {'term': 'magicmethods', 'scheme': None, 'label': None},\n",
       "   {'term': 'lambda', 'scheme': None, 'label': None}]},\n",
       " {'title': 'Code Challenge 05 - Twitter data analysis Part 2: Similar Tweeters - Review',\n",
       "  'title_detail': {'type': 'text/plain',\n",
       "   'language': None,\n",
       "   'base': 'http://projects.bobbelderbos.com/pcc/dates/all.rss.xml',\n",
       "   'value': 'Code Challenge 05 - Twitter data analysis Part 2: Similar Tweeters - Review'},\n",
       "  'links': [{'rel': 'alternate',\n",
       "    'type': 'text/html',\n",
       "    'href': 'https://pybit.es/codechallenge05_review.html'}],\n",
       "  'link': 'https://pybit.es/codechallenge05_review.html',\n",
       "  'summary': '<p>It\\'s end of the week again so we review the <a href=\"http://pybit.es/codechallenge05.html\">code challenge of this week</a>. It\\'s never late to sign up, just fork our <a href=\"https://github.com/pybites/challenges\">challenges repo</a> and start coding.</p>',\n",
       "  'summary_detail': {'type': 'text/html',\n",
       "   'language': None,\n",
       "   'base': 'http://projects.bobbelderbos.com/pcc/dates/all.rss.xml',\n",
       "   'value': '<p>It\\'s end of the week again so we review the <a href=\"http://pybit.es/codechallenge05.html\">code challenge of this week</a>. It\\'s never late to sign up, just fork our <a href=\"https://github.com/pybites/challenges\">challenges repo</a> and start coding.</p>'},\n",
       "  'authors': [{'name': 'PyBites'}],\n",
       "  'author': 'PyBites',\n",
       "  'author_detail': {'name': 'PyBites'},\n",
       "  'published': 'Fri, 10 Feb 2017 23:00:00 +0100',\n",
       "  'published_parsed': time.struct_time(tm_year=2017, tm_mon=2, tm_mday=10, tm_hour=22, tm_min=0, tm_sec=0, tm_wday=4, tm_yday=41, tm_isdst=0),\n",
       "  'id': 'tag:pybit.es,2017-02-10:/codechallenge05_review.html',\n",
       "  'guidislink': False,\n",
       "  'tags': [{'term': 'codechallenges', 'scheme': None, 'label': None},\n",
       "   {'term': 'code review', 'scheme': None, 'label': None},\n",
       "   {'term': 'learning', 'scheme': None, 'label': None},\n",
       "   {'term': 'nlp', 'scheme': None, 'label': None},\n",
       "   {'term': 'Twitter', 'scheme': None, 'label': None},\n",
       "   {'term': 'twitterapi', 'scheme': None, 'label': None},\n",
       "   {'term': 'gensim', 'scheme': None, 'label': None},\n",
       "   {'term': 'nltk', 'scheme': None, 'label': None}]},\n",
       " {'title': 'Visualizing website and social media metrics with matplotlib [notebook]',\n",
       "  'title_detail': {'type': 'text/plain',\n",
       "   'language': None,\n",
       "   'base': 'http://projects.bobbelderbos.com/pcc/dates/all.rss.xml',\n",
       "   'value': 'Visualizing website and social media metrics with matplotlib [notebook]'},\n",
       "  'links': [{'rel': 'alternate',\n",
       "    'type': 'text/html',\n",
       "    'href': 'https://pybit.es/matplotlib-starter.html'}],\n",
       "  'link': 'https://pybit.es/matplotlib-starter.html',\n",
       "  'summary': '<p>in <a href=\"https://github.com/pybites/pybites.github.io-src/blob/master/content/matplotlib-starter.ipynb\">this notebook</a> i use matplotlib.pyplot to create simple yet powerful visualizations of pybites twitter activity, our blog\\'s tag usage and our website traffic. Lastly I use Google trends to see popularity of various social media.</p>',\n",
       "  'summary_detail': {'type': 'text/html',\n",
       "   'language': None,\n",
       "   'base': 'http://projects.bobbelderbos.com/pcc/dates/all.rss.xml',\n",
       "   'value': '<p>in <a href=\"https://github.com/pybites/pybites.github.io-src/blob/master/content/matplotlib-starter.ipynb\">this notebook</a> i use matplotlib.pyplot to create simple yet powerful visualizations of pybites twitter activity, our blog\\'s tag usage and our website traffic. Lastly I use Google trends to see popularity of various social media.</p>'},\n",
       "  'authors': [{'name': 'Bob'}],\n",
       "  'author': 'Bob',\n",
       "  'author_detail': {'name': 'Bob'},\n",
       "  'published': 'Wed, 08 Feb 2017 09:00:00 +0100',\n",
       "  'published_parsed': time.struct_time(tm_year=2017, tm_mon=2, tm_mday=8, tm_hour=8, tm_min=0, tm_sec=0, tm_wday=2, tm_yday=39, tm_isdst=0),\n",
       "  'id': 'tag:pybit.es,2017-02-08:/matplotlib-starter.html',\n",
       "  'guidislink': False,\n",
       "  'tags': [{'term': 'matplotlib', 'scheme': None, 'label': None},\n",
       "   {'term': 'visualization', 'scheme': None, 'label': None},\n",
       "   {'term': 'histogram', 'scheme': None, 'label': None},\n",
       "   {'term': 'jupyter', 'scheme': None, 'label': None},\n",
       "   {'term': 'data analysis', 'scheme': None, 'label': None},\n",
       "   {'term': 'data science', 'scheme': None, 'label': None},\n",
       "   {'term': 'socialmedia', 'scheme': None, 'label': None},\n",
       "   {'term': 'googletrends', 'scheme': None, 'label': None}]},\n",
       " {'title': 'From beginner to pro: Python books, videos and resources',\n",
       "  'title_detail': {'type': 'text/plain',\n",
       "   'language': None,\n",
       "   'base': 'http://projects.bobbelderbos.com/pcc/dates/all.rss.xml',\n",
       "   'value': 'From beginner to pro: Python books, videos and resources'},\n",
       "  'links': [{'rel': 'alternate',\n",
       "    'type': 'text/html',\n",
       "    'href': 'https://pybit.es/python-resources.html'}],\n",
       "  'link': 'https://pybit.es/python-resources.html',\n",
       "  'summary': '<p>A list of useful Python resources to boost up your skills.</p>',\n",
       "  'summary_detail': {'type': 'text/html',\n",
       "   'language': None,\n",
       "   'base': 'http://projects.bobbelderbos.com/pcc/dates/all.rss.xml',\n",
       "   'value': '<p>A list of useful Python resources to boost up your skills.</p>'},\n",
       "  'authors': [{'name': 'PyBites'}],\n",
       "  'author': 'PyBites',\n",
       "  'author_detail': {'name': 'PyBites'},\n",
       "  'published': 'Tue, 07 Feb 2017 06:00:00 +0100',\n",
       "  'published_parsed': time.struct_time(tm_year=2017, tm_mon=2, tm_mday=7, tm_hour=5, tm_min=0, tm_sec=0, tm_wday=1, tm_yday=38, tm_isdst=0),\n",
       "  'id': 'tag:pybit.es,2017-02-07:/python-resources.html',\n",
       "  'guidislink': False,\n",
       "  'tags': [{'term': 'python', 'scheme': None, 'label': None},\n",
       "   {'term': 'resources', 'scheme': None, 'label': None},\n",
       "   {'term': 'books', 'scheme': None, 'label': None},\n",
       "   {'term': 'videos', 'scheme': None, 'label': None},\n",
       "   {'term': 'reference', 'scheme': None, 'label': None},\n",
       "   {'term': 'tricks', 'scheme': None, 'label': None},\n",
       "   {'term': 'tools', 'scheme': None, 'label': None}]},\n",
       " {'title': 'Code Challenge 05 - Twitter data analysis Part 2: Similar Tweeters',\n",
       "  'title_detail': {'type': 'text/plain',\n",
       "   'language': None,\n",
       "   'base': 'http://projects.bobbelderbos.com/pcc/dates/all.rss.xml',\n",
       "   'value': 'Code Challenge 05 - Twitter data analysis Part 2: Similar Tweeters'},\n",
       "  'links': [{'rel': 'alternate',\n",
       "    'type': 'text/html',\n",
       "    'href': 'https://pybit.es/codechallenge05.html'}],\n",
       "  'link': 'https://pybit.es/codechallenge05.html',\n",
       "  'summary': '<p>A new week, more coding! In Part 2 of our Twitter data analysis we challenge you to find out how similar two tweeters are ...</p>',\n",
       "  'summary_detail': {'type': 'text/html',\n",
       "   'language': None,\n",
       "   'base': 'http://projects.bobbelderbos.com/pcc/dates/all.rss.xml',\n",
       "   'value': '<p>A new week, more coding! In Part 2 of our Twitter data analysis we challenge you to find out how similar two tweeters are ...</p>'},\n",
       "  'authors': [{'name': 'PyBites'}],\n",
       "  'author': 'PyBites',\n",
       "  'author_detail': {'name': 'PyBites'},\n",
       "  'published': 'Mon, 06 Feb 2017 00:01:00 +0100',\n",
       "  'published_parsed': time.struct_time(tm_year=2017, tm_mon=2, tm_mday=5, tm_hour=23, tm_min=1, tm_sec=0, tm_wday=6, tm_yday=36, tm_isdst=0),\n",
       "  'id': 'tag:pybit.es,2017-02-06:/codechallenge05.html',\n",
       "  'guidislink': False,\n",
       "  'tags': [{'term': 'codechallenges', 'scheme': None, 'label': None},\n",
       "   {'term': 'learning', 'scheme': None, 'label': None},\n",
       "   {'term': 'twitterapi', 'scheme': None, 'label': None},\n",
       "   {'term': 'Twitter', 'scheme': None, 'label': None},\n",
       "   {'term': 'NLP', 'scheme': None, 'label': None},\n",
       "   {'term': 'similarity', 'scheme': None, 'label': None},\n",
       "   {'term': 'Gensim', 'scheme': None, 'label': None}]},\n",
       " {'title': 'Twitter digest 2017 week 05',\n",
       "  'title_detail': {'type': 'text/plain',\n",
       "   'language': None,\n",
       "   'base': 'http://projects.bobbelderbos.com/pcc/dates/all.rss.xml',\n",
       "   'value': 'Twitter digest 2017 week 05'},\n",
       "  'links': [{'rel': 'alternate',\n",
       "    'type': 'text/html',\n",
       "    'href': 'https://pybit.es/twitter_digest_201705.html'}],\n",
       "  'link': 'https://pybit.es/twitter_digest_201705.html',\n",
       "  'summary': '<p>On Saturdays we will share a curated list of 15 cool things (mostly Python) we found / tweeted during the week.</p>',\n",
       "  'summary_detail': {'type': 'text/html',\n",
       "   'language': None,\n",
       "   'base': 'http://projects.bobbelderbos.com/pcc/dates/all.rss.xml',\n",
       "   'value': '<p>On Saturdays we will share a curated list of 15 cool things (mostly Python) we found / tweeted during the week.</p>'},\n",
       "  'authors': [{'name': 'PyBites'}],\n",
       "  'author': 'PyBites',\n",
       "  'author_detail': {'name': 'PyBites'},\n",
       "  'published': 'Sat, 04 Feb 2017 09:27:00 +0100',\n",
       "  'published_parsed': time.struct_time(tm_year=2017, tm_mon=2, tm_mday=4, tm_hour=8, tm_min=27, tm_sec=0, tm_wday=5, tm_yday=35, tm_isdst=0),\n",
       "  'id': 'tag:pybit.es,2017-02-04:/twitter_digest_201705.html',\n",
       "  'guidislink': False,\n",
       "  'tags': [{'term': 'twitter', 'scheme': None, 'label': None},\n",
       "   {'term': 'news', 'scheme': None, 'label': None},\n",
       "   {'term': 'Jupyter', 'scheme': None, 'label': None},\n",
       "   {'term': 'Flask', 'scheme': None, 'label': None},\n",
       "   {'term': 'Django', 'scheme': None, 'label': None},\n",
       "   {'term': 'vim', 'scheme': None, 'label': None},\n",
       "   {'term': 'PyCon', 'scheme': None, 'label': None},\n",
       "   {'term': 'HackersGuide', 'scheme': None, 'label': None},\n",
       "   {'term': 'f-string', 'scheme': None, 'label': None},\n",
       "   {'term': 'Github', 'scheme': None, 'label': None},\n",
       "   {'term': 'learnpython', 'scheme': None, 'label': None},\n",
       "   {'term': 'tricks', 'scheme': None, 'label': None}]},\n",
       " {'title': 'Code Challenge 04 - Twitter data analysis Part 1: Getting Data - Review',\n",
       "  'title_detail': {'type': 'text/plain',\n",
       "   'language': None,\n",
       "   'base': 'http://projects.bobbelderbos.com/pcc/dates/all.rss.xml',\n",
       "   'value': 'Code Challenge 04 - Twitter data analysis Part 1: Getting Data - Review'},\n",
       "  'links': [{'rel': 'alternate',\n",
       "    'type': 'text/html',\n",
       "    'href': 'https://pybit.es/codechallenge04_review.html'}],\n",
       "  'link': 'https://pybit.es/codechallenge04_review.html',\n",
       "  'summary': '<p>It\\'s Friday again so we review the <a href=\"http://pybit.es/codechallenge04.html\">code challenge of this week</a>. It\\'s never late to sign up, just fork our <a href=\"https://github.com/pybites/challenges\">challenges repo</a> and start coding.</p>',\n",
       "  'summary_detail': {'type': 'text/html',\n",
       "   'language': None,\n",
       "   'base': 'http://projects.bobbelderbos.com/pcc/dates/all.rss.xml',\n",
       "   'value': '<p>It\\'s Friday again so we review the <a href=\"http://pybit.es/codechallenge04.html\">code challenge of this week</a>. It\\'s never late to sign up, just fork our <a href=\"https://github.com/pybites/challenges\">challenges repo</a> and start coding.</p>'},\n",
       "  'authors': [{'name': 'PyBites'}],\n",
       "  'author': 'PyBites',\n",
       "  'author_detail': {'name': 'PyBites'},\n",
       "  'published': 'Fri, 03 Feb 2017 17:00:00 +0100',\n",
       "  'published_parsed': time.struct_time(tm_year=2017, tm_mon=2, tm_mday=3, tm_hour=16, tm_min=0, tm_sec=0, tm_wday=4, tm_yday=34, tm_isdst=0),\n",
       "  'id': 'tag:pybit.es,2017-02-03:/codechallenge04_review.html',\n",
       "  'guidislink': False,\n",
       "  'tags': [{'term': 'codechallenges', 'scheme': None, 'label': None},\n",
       "   {'term': 'code review', 'scheme': None, 'label': None},\n",
       "   {'term': 'github', 'scheme': None, 'label': None},\n",
       "   {'term': 'learning', 'scheme': None, 'label': None},\n",
       "   {'term': 'tweets', 'scheme': None, 'label': None},\n",
       "   {'term': 'Twitter', 'scheme': None, 'label': None},\n",
       "   {'term': 'twitterapi', 'scheme': None, 'label': None},\n",
       "   {'term': 'oop', 'scheme': None, 'label': None},\n",
       "   {'term': 'datamodel', 'scheme': None, 'label': None},\n",
       "   {'term': 'csv', 'scheme': None, 'label': None},\n",
       "   {'term': 'namedtuples', 'scheme': None, 'label': None}]},\n",
       " {'title': 'Discover Python Help Options',\n",
       "  'title_detail': {'type': 'text/plain',\n",
       "   'language': None,\n",
       "   'base': 'http://projects.bobbelderbos.com/pcc/dates/all.rss.xml',\n",
       "   'value': 'Discover Python Help Options'},\n",
       "  'links': [{'rel': 'alternate',\n",
       "    'type': 'text/html',\n",
       "    'href': 'https://pybit.es/python-help.html'}],\n",
       "  'link': 'https://pybit.es/python-help.html',\n",
       "  'summary': '<p>Discover some of the numerous Python Help functions.</p>',\n",
       "  'summary_detail': {'type': 'text/html',\n",
       "   'language': None,\n",
       "   'base': 'http://projects.bobbelderbos.com/pcc/dates/all.rss.xml',\n",
       "   'value': '<p>Discover some of the numerous Python Help functions.</p>'},\n",
       "  'authors': [{'name': 'Julian'}],\n",
       "  'author': 'Julian',\n",
       "  'author_detail': {'name': 'Julian'},\n",
       "  'published': 'Thu, 02 Feb 2017 21:45:00 +0100',\n",
       "  'published_parsed': time.struct_time(tm_year=2017, tm_mon=2, tm_mday=2, tm_hour=20, tm_min=45, tm_sec=0, tm_wday=3, tm_yday=33, tm_isdst=0),\n",
       "  'id': 'tag:pybit.es,2017-02-02:/python-help.html',\n",
       "  'guidislink': False,\n",
       "  'tags': [{'term': 'python', 'scheme': None, 'label': None},\n",
       "   {'term': 'tips', 'scheme': None, 'label': None},\n",
       "   {'term': 'tricks', 'scheme': None, 'label': None},\n",
       "   {'term': 'code', 'scheme': None, 'label': None},\n",
       "   {'term': 'pybites', 'scheme': None, 'label': None},\n",
       "   {'term': 'help', 'scheme': None, 'label': None}]},\n",
       " {'title': 'Send Advanced Emails with Python MIME Submodules',\n",
       "  'title_detail': {'type': 'text/plain',\n",
       "   'language': None,\n",
       "   'base': 'http://projects.bobbelderbos.com/pcc/dates/all.rss.xml',\n",
       "   'value': 'Send Advanced Emails with Python MIME Submodules'},\n",
       "  'links': [{'rel': 'alternate',\n",
       "    'type': 'text/html',\n",
       "    'href': 'https://pybit.es/python-MIME.html'}],\n",
       "  'link': 'https://pybit.es/python-MIME.html',\n",
       "  'summary': '<p>Learn how to send richer emails with Python and the MIME Submodules</p>',\n",
       "  'summary_detail': {'type': 'text/html',\n",
       "   'language': None,\n",
       "   'base': 'http://projects.bobbelderbos.com/pcc/dates/all.rss.xml',\n",
       "   'value': '<p>Learn how to send richer emails with Python and the MIME Submodules</p>'},\n",
       "  'authors': [{'name': 'Julian'}],\n",
       "  'author': 'Julian',\n",
       "  'author_detail': {'name': 'Julian'},\n",
       "  'published': 'Wed, 01 Feb 2017 11:30:00 +0100',\n",
       "  'published_parsed': time.struct_time(tm_year=2017, tm_mon=2, tm_mday=1, tm_hour=10, tm_min=30, tm_sec=0, tm_wday=2, tm_yday=32, tm_isdst=0),\n",
       "  'id': 'tag:pybit.es,2017-02-01:/python-MIME.html',\n",
       "  'guidislink': False,\n",
       "  'tags': [{'term': 'python', 'scheme': None, 'label': None},\n",
       "   {'term': 'tips', 'scheme': None, 'label': None},\n",
       "   {'term': 'tricks', 'scheme': None, 'label': None},\n",
       "   {'term': 'code', 'scheme': None, 'label': None},\n",
       "   {'term': 'pybites', 'scheme': None, 'label': None},\n",
       "   {'term': 'email', 'scheme': None, 'label': None},\n",
       "   {'term': 'automation', 'scheme': None, 'label': None},\n",
       "   {'term': 'MIME', 'scheme': None, 'label': None}]},\n",
       " {'title': 'Python Tricks book review',\n",
       "  'title_detail': {'type': 'text/plain',\n",
       "   'language': None,\n",
       "   'base': 'http://projects.bobbelderbos.com/pcc/dates/all.rss.xml',\n",
       "   'value': 'Python Tricks book review'},\n",
       "  'links': [{'rel': 'alternate',\n",
       "    'type': 'text/html',\n",
       "    'href': 'https://pybit.es/pytricks-review.html'}],\n",
       "  'link': 'https://pybit.es/pytricks-review.html',\n",
       "  'summary': '<p>A review of Dan Bader\\'s <a href=\"https://dbader.org/products/python-tricks-book/\">Python tricks book</a>.</p>',\n",
       "  'summary_detail': {'type': 'text/html',\n",
       "   'language': None,\n",
       "   'base': 'http://projects.bobbelderbos.com/pcc/dates/all.rss.xml',\n",
       "   'value': '<p>A review of Dan Bader\\'s <a href=\"https://dbader.org/products/python-tricks-book/\">Python tricks book</a>.</p>'},\n",
       "  'authors': [{'name': 'Bob'}],\n",
       "  'author': 'Bob',\n",
       "  'author_detail': {'name': 'Bob'},\n",
       "  'published': 'Tue, 31 Jan 2017 09:00:00 +0100',\n",
       "  'published_parsed': time.struct_time(tm_year=2017, tm_mon=1, tm_mday=31, tm_hour=8, tm_min=0, tm_sec=0, tm_wday=1, tm_yday=31, tm_isdst=0),\n",
       "  'id': 'tag:pybit.es,2017-01-31:/pytricks-review.html',\n",
       "  'guidislink': False,\n",
       "  'tags': [{'term': 'review', 'scheme': None, 'label': None},\n",
       "   {'term': 'tricks', 'scheme': None, 'label': None},\n",
       "   {'term': 'tips', 'scheme': None, 'label': None},\n",
       "   {'term': 'pythonic', 'scheme': None, 'label': None},\n",
       "   {'term': 'oop', 'scheme': None, 'label': None},\n",
       "   {'term': 'ABC', 'scheme': None, 'label': None},\n",
       "   {'term': 'dicts', 'scheme': None, 'label': None},\n",
       "   {'term': 'cleancode', 'scheme': None, 'label': None}]},\n",
       " {'title': 'Code Challenge 04 - Twitter data analysis Part 1: Getting Data',\n",
       "  'title_detail': {'type': 'text/plain',\n",
       "   'language': None,\n",
       "   'base': 'http://projects.bobbelderbos.com/pcc/dates/all.rss.xml',\n",
       "   'value': 'Code Challenge 04 - Twitter data analysis Part 1: Getting Data'},\n",
       "  'links': [{'rel': 'alternate',\n",
       "    'type': 'text/html',\n",
       "    'href': 'https://pybit.es/codechallenge04.html'}],\n",
       "  'link': 'https://pybit.es/codechallenge04.html',\n",
       "  'summary': '<p>A new week, a new code challenge! In this 3 part challenge you will analyze Twitter Data. This week we will automate the retrieval of data. In Part 2 we will task you with finding similar tweeters, and for Part 3 you will do a full sentiment analysis.</p>',\n",
       "  'summary_detail': {'type': 'text/html',\n",
       "   'language': None,\n",
       "   'base': 'http://projects.bobbelderbos.com/pcc/dates/all.rss.xml',\n",
       "   'value': '<p>A new week, a new code challenge! In this 3 part challenge you will analyze Twitter Data. This week we will automate the retrieval of data. In Part 2 we will task you with finding similar tweeters, and for Part 3 you will do a full sentiment analysis.</p>'},\n",
       "  'authors': [{'name': 'PyBites'}],\n",
       "  'author': 'PyBites',\n",
       "  'author_detail': {'name': 'PyBites'},\n",
       "  'published': 'Mon, 30 Jan 2017 00:01:00 +0100',\n",
       "  'published_parsed': time.struct_time(tm_year=2017, tm_mon=1, tm_mday=29, tm_hour=23, tm_min=1, tm_sec=0, tm_wday=6, tm_yday=29, tm_isdst=0),\n",
       "  'id': 'tag:pybit.es,2017-01-30:/codechallenge04.html',\n",
       "  'guidislink': False,\n",
       "  'tags': [{'term': 'codechallenges', 'scheme': None, 'label': None},\n",
       "   {'term': 'github', 'scheme': None, 'label': None},\n",
       "   {'term': 'learning', 'scheme': None, 'label': None},\n",
       "   {'term': 'blog', 'scheme': None, 'label': None},\n",
       "   {'term': 'twitterapi', 'scheme': None, 'label': None},\n",
       "   {'term': 'tweets', 'scheme': None, 'label': None},\n",
       "   {'term': 'Twitter', 'scheme': None, 'label': None},\n",
       "   {'term': 'oop', 'scheme': None, 'label': None},\n",
       "   {'term': 'datamodel', 'scheme': None, 'label': None},\n",
       "   {'term': 'magicmethods', 'scheme': None, 'label': None}]},\n",
       " {'title': 'Twitter digest 2017 week 04',\n",
       "  'title_detail': {'type': 'text/plain',\n",
       "   'language': None,\n",
       "   'base': 'http://projects.bobbelderbos.com/pcc/dates/all.rss.xml',\n",
       "   'value': 'Twitter digest 2017 week 04'},\n",
       "  'links': [{'rel': 'alternate',\n",
       "    'type': 'text/html',\n",
       "    'href': 'https://pybit.es/twitter_digest_201704.html'}],\n",
       "  'link': 'https://pybit.es/twitter_digest_201704.html',\n",
       "  'summary': '<p>On Saturdays we will share a curated list of 15 cool things (mostly Python) we found / tweeted during the week.</p>',\n",
       "  'summary_detail': {'type': 'text/html',\n",
       "   'language': None,\n",
       "   'base': 'http://projects.bobbelderbos.com/pcc/dates/all.rss.xml',\n",
       "   'value': '<p>On Saturdays we will share a curated list of 15 cool things (mostly Python) we found / tweeted during the week.</p>'},\n",
       "  'authors': [{'name': 'PyBites'}],\n",
       "  'author': 'PyBites',\n",
       "  'author_detail': {'name': 'PyBites'},\n",
       "  'published': 'Sat, 28 Jan 2017 09:10:00 +0100',\n",
       "  'published_parsed': time.struct_time(tm_year=2017, tm_mon=1, tm_mday=28, tm_hour=8, tm_min=10, tm_sec=0, tm_wday=5, tm_yday=28, tm_isdst=0),\n",
       "  'id': 'tag:pybit.es,2017-01-28:/twitter_digest_201704.html',\n",
       "  'guidislink': False,\n",
       "  'tags': [{'term': 'twitter', 'scheme': None, 'label': None},\n",
       "   {'term': 'news', 'scheme': None, 'label': None},\n",
       "   {'term': 'python', 'scheme': None, 'label': None},\n",
       "   {'term': 'podcasts', 'scheme': None, 'label': None},\n",
       "   {'term': 'asyncio', 'scheme': None, 'label': None},\n",
       "   {'term': 'pipenv', 'scheme': None, 'label': None},\n",
       "   {'term': 'pelican', 'scheme': None, 'label': None},\n",
       "   {'term': 'jupyter', 'scheme': None, 'label': None},\n",
       "   {'term': 'oop', 'scheme': None, 'label': None},\n",
       "   {'term': 'vim', 'scheme': None, 'label': None},\n",
       "   {'term': 'algorithms', 'scheme': None, 'label': None}]},\n",
       " {'title': 'Code Challenge 03 - PyBites Blog Tag Analysis - Review',\n",
       "  'title_detail': {'type': 'text/plain',\n",
       "   'language': None,\n",
       "   'base': 'http://projects.bobbelderbos.com/pcc/dates/all.rss.xml',\n",
       "   'value': 'Code Challenge 03 - PyBites Blog Tag Analysis - Review'},\n",
       "  'links': [{'rel': 'alternate',\n",
       "    'type': 'text/html',\n",
       "    'href': 'https://pybit.es/codechallenge03_review.html'}],\n",
       "  'link': 'https://pybit.es/codechallenge03_review.html',\n",
       "  'summary': '<p>It\\'s Friday again so we review the <a href=\"http://pybit.es/codechallenge03.html\">code challenge of this week</a>. It\\'s never late to sign up, just fork our <a href=\"https://github.com/pybites/challenges\">challenges repo</a> and start coding.</p>',\n",
       "  'summary_detail': {'type': 'text/html',\n",
       "   'language': None,\n",
       "   'base': 'http://projects.bobbelderbos.com/pcc/dates/all.rss.xml',\n",
       "   'value': '<p>It\\'s Friday again so we review the <a href=\"http://pybit.es/codechallenge03.html\">code challenge of this week</a>. It\\'s never late to sign up, just fork our <a href=\"https://github.com/pybites/challenges\">challenges repo</a> and start coding.</p>'},\n",
       "  'authors': [{'name': 'PyBites'}],\n",
       "  'author': 'PyBites',\n",
       "  'author_detail': {'name': 'PyBites'},\n",
       "  'published': 'Fri, 27 Jan 2017 09:00:00 +0100',\n",
       "  'published_parsed': time.struct_time(tm_year=2017, tm_mon=1, tm_mday=27, tm_hour=8, tm_min=0, tm_sec=0, tm_wday=4, tm_yday=27, tm_isdst=0),\n",
       "  'id': 'tag:pybit.es,2017-01-27:/codechallenge03_review.html',\n",
       "  'guidislink': False,\n",
       "  'tags': [{'term': 'codechallenges', 'scheme': None, 'label': None},\n",
       "   {'term': 'code review', 'scheme': None, 'label': None},\n",
       "   {'term': 'github', 'scheme': None, 'label': None},\n",
       "   {'term': 'learning', 'scheme': None, 'label': None},\n",
       "   {'term': 'tags', 'scheme': None, 'label': None},\n",
       "   {'term': 'similarity', 'scheme': None, 'label': None},\n",
       "   {'term': 'blog', 'scheme': None, 'label': None}]},\n",
       " {'title': 'Send Emails with Python smtplib',\n",
       "  'title_detail': {'type': 'text/plain',\n",
       "   'language': None,\n",
       "   'base': 'http://projects.bobbelderbos.com/pcc/dates/all.rss.xml',\n",
       "   'value': 'Send Emails with Python smtplib'},\n",
       "  'links': [{'rel': 'alternate',\n",
       "    'type': 'text/html',\n",
       "    'href': 'https://pybit.es/python-smtplib.html'}],\n",
       "  'link': 'https://pybit.es/python-smtplib.html',\n",
       "  'summary': '<p>Learn how to send emails using Python</p>',\n",
       "  'summary_detail': {'type': 'text/html',\n",
       "   'language': None,\n",
       "   'base': 'http://projects.bobbelderbos.com/pcc/dates/all.rss.xml',\n",
       "   'value': '<p>Learn how to send emails using Python</p>'},\n",
       "  'authors': [{'name': 'Julian'}],\n",
       "  'author': 'Julian',\n",
       "  'author_detail': {'name': 'Julian'},\n",
       "  'published': 'Thu, 26 Jan 2017 19:25:00 +0100',\n",
       "  'published_parsed': time.struct_time(tm_year=2017, tm_mon=1, tm_mday=26, tm_hour=18, tm_min=25, tm_sec=0, tm_wday=3, tm_yday=26, tm_isdst=0),\n",
       "  'id': 'tag:pybit.es,2017-01-26:/python-smtplib.html',\n",
       "  'guidislink': False,\n",
       "  'tags': [{'term': 'python', 'scheme': None, 'label': None},\n",
       "   {'term': 'tips', 'scheme': None, 'label': None},\n",
       "   {'term': 'tricks', 'scheme': None, 'label': None},\n",
       "   {'term': 'code', 'scheme': None, 'label': None},\n",
       "   {'term': 'pybites', 'scheme': None, 'label': None},\n",
       "   {'term': 'email', 'scheme': None, 'label': None},\n",
       "   {'term': 'automation', 'scheme': None, 'label': None}]},\n",
       " {'title': \"Python's data model by example\",\n",
       "  'title_detail': {'type': 'text/plain',\n",
       "   'language': None,\n",
       "   'base': 'http://projects.bobbelderbos.com/pcc/dates/all.rss.xml',\n",
       "   'value': \"Python's data model by example\"},\n",
       "  'links': [{'rel': 'alternate',\n",
       "    'type': 'text/html',\n",
       "    'href': 'https://pybit.es/python-data-model.html'}],\n",
       "  'link': 'https://pybit.es/python-data-model.html',\n",
       "  'summary': '<p>After <a href=\"http://pybit.es/oop-primer.html\">last post on OOP</a> a logical follow-up is Python\\'s data model. We use the great <a href=\"http://amzn.to/2lxsmBg\">Fluent Python book</a> to code up an example of our own, showing the powerful way you can leverage this data model. You can download the notebook <a href=\"https://github.com/pybites/pybites.github.io-src/blob/master/content/data_model.ipynb\">here</a>.</p>',\n",
       "  'summary_detail': {'type': 'text/html',\n",
       "   'language': None,\n",
       "   'base': 'http://projects.bobbelderbos.com/pcc/dates/all.rss.xml',\n",
       "   'value': '<p>After <a href=\"http://pybit.es/oop-primer.html\">last post on OOP</a> a logical follow-up is Python\\'s data model. We use the great <a href=\"http://amzn.to/2lxsmBg\">Fluent Python book</a> to code up an example of our own, showing the powerful way you can leverage this data model. You can download the notebook <a href=\"https://github.com/pybites/pybites.github.io-src/blob/master/content/data_model.ipynb\">here</a>.</p>'},\n",
       "  'authors': [{'name': 'Bob'}],\n",
       "  'author': 'Bob',\n",
       "  'author_detail': {'name': 'Bob'},\n",
       "  'published': 'Wed, 25 Jan 2017 12:00:00 +0100',\n",
       "  'published_parsed': time.struct_time(tm_year=2017, tm_mon=1, tm_mday=25, tm_hour=11, tm_min=0, tm_sec=0, tm_wday=2, tm_yday=25, tm_isdst=0),\n",
       "  'id': 'tag:pybit.es,2017-01-25:/python-data-model.html',\n",
       "  'guidislink': False,\n",
       "  'tags': [{'term': 'datamodel', 'scheme': None, 'label': None},\n",
       "   {'term': 'oop', 'scheme': None, 'label': None},\n",
       "   {'term': 'magicmethods', 'scheme': None, 'label': None},\n",
       "   {'term': 'builtin', 'scheme': None, 'label': None},\n",
       "   {'term': 'pythonic', 'scheme': None, 'label': None},\n",
       "   {'term': 'iterators', 'scheme': None, 'label': None},\n",
       "   {'term': 'slicing', 'scheme': None, 'label': None}]},\n",
       " {'title': 'Everything is an Object, Python OOP primer',\n",
       "  'title_detail': {'type': 'text/plain',\n",
       "   'language': None,\n",
       "   'base': 'http://projects.bobbelderbos.com/pcc/dates/all.rss.xml',\n",
       "   'value': 'Everything is an Object, Python OOP primer'},\n",
       "  'links': [{'rel': 'alternate',\n",
       "    'type': 'text/html',\n",
       "    'href': 'https://pybit.es/oop-primer.html'}],\n",
       "  'link': 'https://pybit.es/oop-primer.html',\n",
       "  'summary': '<p>I created <a href=\"https://github.com/pybites/pybites.github.io-src/blob/master/content/oop_fun.ipynb\">a notebook</a> on OOP (object oriented programming) in Python.</p>',\n",
       "  'summary_detail': {'type': 'text/html',\n",
       "   'language': None,\n",
       "   'base': 'http://projects.bobbelderbos.com/pcc/dates/all.rss.xml',\n",
       "   'value': '<p>I created <a href=\"https://github.com/pybites/pybites.github.io-src/blob/master/content/oop_fun.ipynb\">a notebook</a> on OOP (object oriented programming) in Python.</p>'},\n",
       "  'authors': [{'name': 'Bob'}],\n",
       "  'author': 'Bob',\n",
       "  'author_detail': {'name': 'Bob'},\n",
       "  'published': 'Tue, 24 Jan 2017 23:59:00 +0100',\n",
       "  'published_parsed': time.struct_time(tm_year=2017, tm_mon=1, tm_mday=24, tm_hour=22, tm_min=59, tm_sec=0, tm_wday=1, tm_yday=24, tm_isdst=0),\n",
       "  'id': 'tag:pybit.es,2017-01-24:/oop-primer.html',\n",
       "  'guidislink': False,\n",
       "  'tags': [{'term': 'tutorial', 'scheme': None, 'label': None},\n",
       "   {'term': 'oop', 'scheme': None, 'label': None},\n",
       "   {'term': 'objectoriented', 'scheme': None, 'label': None},\n",
       "   {'term': 'programming', 'scheme': None, 'label': None},\n",
       "   {'term': 'inheritance', 'scheme': None, 'label': None},\n",
       "   {'term': 'polymorphism', 'scheme': None, 'label': None},\n",
       "   {'term': 'ABC', 'scheme': None, 'label': None},\n",
       "   {'term': 'encapsulation', 'scheme': None, 'label': None},\n",
       "   {'term': 'property', 'scheme': None, 'label': None}]},\n",
       " {'title': 'Code Challenge 03 - PyBites Blog Tag Analysis',\n",
       "  'title_detail': {'type': 'text/plain',\n",
       "   'language': None,\n",
       "   'base': 'http://projects.bobbelderbos.com/pcc/dates/all.rss.xml',\n",
       "   'value': 'Code Challenge 03 - PyBites Blog Tag Analysis'},\n",
       "  'links': [{'rel': 'alternate',\n",
       "    'type': 'text/html',\n",
       "    'href': 'https://pybit.es/codechallenge03.html'}],\n",
       "  'link': 'https://pybit.es/codechallenge03.html',\n",
       "  'summary': '<p>Our new code challenge is up: PyBites blog tag analysis. This week you will parse our RSS feed looking for the most common tags and the ones we possibly should merge based on similarity ratio. Enjoy!</p>',\n",
       "  'summary_detail': {'type': 'text/html',\n",
       "   'language': None,\n",
       "   'base': 'http://projects.bobbelderbos.com/pcc/dates/all.rss.xml',\n",
       "   'value': '<p>Our new code challenge is up: PyBites blog tag analysis. This week you will parse our RSS feed looking for the most common tags and the ones we possibly should merge based on similarity ratio. Enjoy!</p>'},\n",
       "  'authors': [{'name': 'PyBites'}],\n",
       "  'author': 'PyBites',\n",
       "  'author_detail': {'name': 'PyBites'},\n",
       "  'published': 'Mon, 23 Jan 2017 00:01:00 +0100',\n",
       "  'published_parsed': time.struct_time(tm_year=2017, tm_mon=1, tm_mday=22, tm_hour=23, tm_min=1, tm_sec=0, tm_wday=6, tm_yday=22, tm_isdst=0),\n",
       "  'id': 'tag:pybit.es,2017-01-23:/codechallenge03.html',\n",
       "  'guidislink': False,\n",
       "  'tags': [{'term': 'codechallenges', 'scheme': None, 'label': None},\n",
       "   {'term': 'github', 'scheme': None, 'label': None},\n",
       "   {'term': 'learning', 'scheme': None, 'label': None},\n",
       "   {'term': 'blog', 'scheme': None, 'label': None},\n",
       "   {'term': 'tags', 'scheme': None, 'label': None},\n",
       "   {'term': 'Counter', 'scheme': None, 'label': None},\n",
       "   {'term': 'similarity', 'scheme': None, 'label': None},\n",
       "   {'term': 'regex', 'scheme': None, 'label': None}]},\n",
       " {'title': 'Twitter digest 2017 week 03',\n",
       "  'title_detail': {'type': 'text/plain',\n",
       "   'language': None,\n",
       "   'base': 'http://projects.bobbelderbos.com/pcc/dates/all.rss.xml',\n",
       "   'value': 'Twitter digest 2017 week 03'},\n",
       "  'links': [{'rel': 'alternate',\n",
       "    'type': 'text/html',\n",
       "    'href': 'https://pybit.es/twitter_digest_201703.html'}],\n",
       "  'link': 'https://pybit.es/twitter_digest_201703.html',\n",
       "  'summary': '<p>On Saturdays we will share a curated list of 15 cool things (mostly Python) we found / tweeted during the week.</p>',\n",
       "  'summary_detail': {'type': 'text/html',\n",
       "   'language': None,\n",
       "   'base': 'http://projects.bobbelderbos.com/pcc/dates/all.rss.xml',\n",
       "   'value': '<p>On Saturdays we will share a curated list of 15 cool things (mostly Python) we found / tweeted during the week.</p>'},\n",
       "  'authors': [{'name': 'PyBites'}],\n",
       "  'author': 'PyBites',\n",
       "  'author_detail': {'name': 'PyBites'},\n",
       "  'published': 'Sat, 21 Jan 2017 15:26:00 +0100',\n",
       "  'published_parsed': time.struct_time(tm_year=2017, tm_mon=1, tm_mday=21, tm_hour=14, tm_min=26, tm_sec=0, tm_wday=5, tm_yday=21, tm_isdst=0),\n",
       "  'id': 'tag:pybit.es,2017-01-21:/twitter_digest_201703.html',\n",
       "  'guidislink': False,\n",
       "  'tags': [{'term': 'twitter', 'scheme': None, 'label': None},\n",
       "   {'term': 'news', 'scheme': None, 'label': None},\n",
       "   {'term': 'python', 'scheme': None, 'label': None},\n",
       "   {'term': 'podcasts', 'scheme': None, 'label': None},\n",
       "   {'term': 'pydata', 'scheme': None, 'label': None},\n",
       "   {'term': 'tips', 'scheme': None, 'label': None},\n",
       "   {'term': 'grumpy', 'scheme': None, 'label': None},\n",
       "   {'term': 'assert', 'scheme': None, 'label': None},\n",
       "   {'term': 'async', 'scheme': None, 'label': None},\n",
       "   {'term': 'requests', 'scheme': None, 'label': None},\n",
       "   {'term': 'delegator', 'scheme': None, 'label': None},\n",
       "   {'term': 'pyprojects', 'scheme': None, 'label': None},\n",
       "   {'term': 'cookiecutter', 'scheme': None, 'label': None},\n",
       "   {'term': 'resources', 'scheme': None, 'label': None}]},\n",
       " {'title': 'Code Challenge 02 - Word Values Part II - A Simple Game - Review',\n",
       "  'title_detail': {'type': 'text/plain',\n",
       "   'language': None,\n",
       "   'base': 'http://projects.bobbelderbos.com/pcc/dates/all.rss.xml',\n",
       "   'value': 'Code Challenge 02 - Word Values Part II - A Simple Game - Review'},\n",
       "  'links': [{'rel': 'alternate',\n",
       "    'type': 'text/html',\n",
       "    'href': 'https://pybit.es/codechallenge02_review.html'}],\n",
       "  'link': 'https://pybit.es/codechallenge02_review.html',\n",
       "  'summary': '<p>It\\'s Friday again so we review the <a href=\"http://pybit.es/codechallenge02.html\">code challenge of this week</a>. It\\'s never late to sign up, just fork our <a href=\"https://github.com/pybites/challenges\">challenges repo</a> and start coding.</p>',\n",
       "  'summary_detail': {'type': 'text/html',\n",
       "   'language': None,\n",
       "   'base': 'http://projects.bobbelderbos.com/pcc/dates/all.rss.xml',\n",
       "   'value': '<p>It\\'s Friday again so we review the <a href=\"http://pybit.es/codechallenge02.html\">code challenge of this week</a>. It\\'s never late to sign up, just fork our <a href=\"https://github.com/pybites/challenges\">challenges repo</a> and start coding.</p>'},\n",
       "  'authors': [{'name': 'PyBites'}],\n",
       "  'author': 'PyBites',\n",
       "  'author_detail': {'name': 'PyBites'},\n",
       "  'published': 'Fri, 20 Jan 2017 09:00:00 +0100',\n",
       "  'published_parsed': time.struct_time(tm_year=2017, tm_mon=1, tm_mday=20, tm_hour=8, tm_min=0, tm_sec=0, tm_wday=4, tm_yday=20, tm_isdst=0),\n",
       "  'id': 'tag:pybit.es,2017-01-20:/codechallenge02_review.html',\n",
       "  'guidislink': False,\n",
       "  'tags': [{'term': 'codechallenges', 'scheme': None, 'label': None},\n",
       "   {'term': 'code review', 'scheme': None, 'label': None},\n",
       "   {'term': 'github', 'scheme': None, 'label': None},\n",
       "   {'term': 'learning', 'scheme': None, 'label': None},\n",
       "   {'term': 'game', 'scheme': None, 'label': None},\n",
       "   {'term': 'scrabble', 'scheme': None, 'label': None},\n",
       "   {'term': 'itertools', 'scheme': None, 'label': None}]},\n",
       " {'title': 'Python Iteration',\n",
       "  'title_detail': {'type': 'text/plain',\n",
       "   'language': None,\n",
       "   'base': 'http://projects.bobbelderbos.com/pcc/dates/all.rss.xml',\n",
       "   'value': 'Python Iteration'},\n",
       "  'links': [{'rel': 'alternate',\n",
       "    'type': 'text/html',\n",
       "    'href': 'https://pybit.es/python_iteration.html'}],\n",
       "  'link': 'https://pybit.es/python_iteration.html',\n",
       "  'summary': \"<p>Iteration in Python is incredibly simple compared to C and other languages. It's easy... maybe a little TOO easy...</p>\",\n",
       "  'summary_detail': {'type': 'text/html',\n",
       "   'language': None,\n",
       "   'base': 'http://projects.bobbelderbos.com/pcc/dates/all.rss.xml',\n",
       "   'value': \"<p>Iteration in Python is incredibly simple compared to C and other languages. It's easy... maybe a little TOO easy...</p>\"},\n",
       "  'authors': [{'name': 'Julian'}],\n",
       "  'author': 'Julian',\n",
       "  'author_detail': {'name': 'Julian'},\n",
       "  'published': 'Thu, 19 Jan 2017 19:00:00 +0100',\n",
       "  'published_parsed': time.struct_time(tm_year=2017, tm_mon=1, tm_mday=19, tm_hour=18, tm_min=0, tm_sec=0, tm_wday=3, tm_yday=19, tm_isdst=0),\n",
       "  'id': 'tag:pybit.es,2017-01-19:/python_iteration.html',\n",
       "  'guidislink': False,\n",
       "  'tags': [{'term': 'python', 'scheme': None, 'label': None},\n",
       "   {'term': 'tips', 'scheme': None, 'label': None},\n",
       "   {'term': 'tricks', 'scheme': None, 'label': None},\n",
       "   {'term': 'iteration', 'scheme': None, 'label': None},\n",
       "   {'term': 'resources', 'scheme': None, 'label': None}]},\n",
       " {'title': 'Errors should never pass silently',\n",
       "  'title_detail': {'type': 'text/plain',\n",
       "   'language': None,\n",
       "   'base': 'http://projects.bobbelderbos.com/pcc/dates/all.rss.xml',\n",
       "   'value': 'Errors should never pass silently'},\n",
       "  'links': [{'rel': 'alternate',\n",
       "    'type': 'text/html',\n",
       "    'href': 'https://pybit.es/error_handling.html'}],\n",
       "  'link': 'https://pybit.es/error_handling.html',\n",
       "  'summary': '<p>In this article some important anti-patterns regarding error handling and how to solve them making your code more Pythonic and easier to maintain.</p>',\n",
       "  'summary_detail': {'type': 'text/html',\n",
       "   'language': None,\n",
       "   'base': 'http://projects.bobbelderbos.com/pcc/dates/all.rss.xml',\n",
       "   'value': '<p>In this article some important anti-patterns regarding error handling and how to solve them making your code more Pythonic and easier to maintain.</p>'},\n",
       "  'authors': [{'name': 'Bob'}],\n",
       "  'author': 'Bob',\n",
       "  'author_detail': {'name': 'Bob'},\n",
       "  'published': 'Wed, 18 Jan 2017 23:59:00 +0100',\n",
       "  'published_parsed': time.struct_time(tm_year=2017, tm_mon=1, tm_mday=18, tm_hour=22, tm_min=59, tm_sec=0, tm_wday=2, tm_yday=18, tm_isdst=0),\n",
       "  'id': 'tag:pybit.es,2017-01-18:/error_handling.html',\n",
       "  'guidislink': False,\n",
       "  'tags': [{'term': 'exceptions', 'scheme': None, 'label': None},\n",
       "   {'term': 'Zen of Python', 'scheme': None, 'label': None},\n",
       "   {'term': 'error handling', 'scheme': None, 'label': None},\n",
       "   {'term': 'cleancode', 'scheme': None, 'label': None},\n",
       "   {'term': 'anti-patterns', 'scheme': None, 'label': None}]},\n",
       " {'title': 'List of Awesome Python Resources',\n",
       "  'title_detail': {'type': 'text/plain',\n",
       "   'language': None,\n",
       "   'base': 'http://projects.bobbelderbos.com/pcc/dates/all.rss.xml',\n",
       "   'value': 'List of Awesome Python Resources'},\n",
       "  'links': [{'rel': 'alternate',\n",
       "    'type': 'text/html',\n",
       "    'href': 'https://pybit.es/awesome_python_resources.html'}],\n",
       "  'link': 'https://pybit.es/awesome_python_resources.html',\n",
       "  'summary': '<p>A great list of Python Resources that should  keep you busy for a while!</p>',\n",
       "  'summary_detail': {'type': 'text/html',\n",
       "   'language': None,\n",
       "   'base': 'http://projects.bobbelderbos.com/pcc/dates/all.rss.xml',\n",
       "   'value': '<p>A great list of Python Resources that should  keep you busy for a while!</p>'},\n",
       "  'authors': [{'name': 'Julian'}],\n",
       "  'author': 'Julian',\n",
       "  'author_detail': {'name': 'Julian'},\n",
       "  'published': 'Tue, 17 Jan 2017 00:01:00 +0100',\n",
       "  'published_parsed': time.struct_time(tm_year=2017, tm_mon=1, tm_mday=16, tm_hour=23, tm_min=1, tm_sec=0, tm_wday=0, tm_yday=16, tm_isdst=0),\n",
       "  'id': 'tag:pybit.es,2017-01-17:/awesome_python_resources.html',\n",
       "  'guidislink': False,\n",
       "  'tags': [{'term': 'python', 'scheme': None, 'label': None},\n",
       "   {'term': 'tips', 'scheme': None, 'label': None},\n",
       "   {'term': 'tricks', 'scheme': None, 'label': None},\n",
       "   {'term': 'resources', 'scheme': None, 'label': None},\n",
       "   {'term': 'flask', 'scheme': None, 'label': None},\n",
       "   {'term': 'cron', 'scheme': None, 'label': None},\n",
       "   {'term': 'tools', 'scheme': None, 'label': None}]},\n",
       " {'title': 'Code Challenge 02 - Word Values Part II - A Simple Game',\n",
       "  'title_detail': {'type': 'text/plain',\n",
       "   'language': None,\n",
       "   'base': 'http://projects.bobbelderbos.com/pcc/dates/all.rss.xml',\n",
       "   'value': 'Code Challenge 02 - Word Values Part II - A Simple Game'},\n",
       "  'links': [{'rel': 'alternate',\n",
       "    'type': 'text/html',\n",
       "    'href': 'https://pybit.es/codechallenge02.html'}],\n",
       "  'link': 'https://pybit.es/codechallenge02.html',\n",
       "  'summary': \"<p>Using what we've learned the last challenge this week we build a simple Scrabble-like game: given a random set of 7 letters build the most valuable word. Good luck!</p>\",\n",
       "  'summary_detail': {'type': 'text/html',\n",
       "   'language': None,\n",
       "   'base': 'http://projects.bobbelderbos.com/pcc/dates/all.rss.xml',\n",
       "   'value': \"<p>Using what we've learned the last challenge this week we build a simple Scrabble-like game: given a random set of 7 letters build the most valuable word. Good luck!</p>\"},\n",
       "  'authors': [{'name': 'PyBites'}],\n",
       "  'author': 'PyBites',\n",
       "  'author_detail': {'name': 'PyBites'},\n",
       "  'published': 'Mon, 16 Jan 2017 00:01:00 +0100',\n",
       "  'published_parsed': time.struct_time(tm_year=2017, tm_mon=1, tm_mday=15, tm_hour=23, tm_min=1, tm_sec=0, tm_wday=6, tm_yday=15, tm_isdst=0),\n",
       "  'id': 'tag:pybit.es,2017-01-16:/codechallenge02.html',\n",
       "  'guidislink': False,\n",
       "  'tags': [{'term': 'scrabble', 'scheme': None, 'label': None},\n",
       "   {'term': 'codechallenges', 'scheme': None, 'label': None},\n",
       "   {'term': 'github', 'scheme': None, 'label': None},\n",
       "   {'term': 'fork', 'scheme': None, 'label': None},\n",
       "   {'term': 'learning', 'scheme': None, 'label': None},\n",
       "   {'term': 'game', 'scheme': None, 'label': None},\n",
       "   {'term': 'itertools', 'scheme': None, 'label': None},\n",
       "   {'term': 'random', 'scheme': None, 'label': None},\n",
       "   {'term': 'sets', 'scheme': None, 'label': None}]},\n",
       " {'title': 'Twitter digest 2017 week 02',\n",
       "  'title_detail': {'type': 'text/plain',\n",
       "   'language': None,\n",
       "   'base': 'http://projects.bobbelderbos.com/pcc/dates/all.rss.xml',\n",
       "   'value': 'Twitter digest 2017 week 02'},\n",
       "  'links': [{'rel': 'alternate',\n",
       "    'type': 'text/html',\n",
       "    'href': 'https://pybit.es/twitter_digest_201702.html'}],\n",
       "  'link': 'https://pybit.es/twitter_digest_201702.html',\n",
       "  'summary': '<p>On Saturdays we will share a curated list of 15 cool things (mostly Python) we found / tweeted during the week.</p>',\n",
       "  'summary_detail': {'type': 'text/html',\n",
       "   'language': None,\n",
       "   'base': 'http://projects.bobbelderbos.com/pcc/dates/all.rss.xml',\n",
       "   'value': '<p>On Saturdays we will share a curated list of 15 cool things (mostly Python) we found / tweeted during the week.</p>'},\n",
       "  'authors': [{'name': 'PyBites'}],\n",
       "  'author': 'PyBites',\n",
       "  'author_detail': {'name': 'PyBites'},\n",
       "  'published': 'Sat, 14 Jan 2017 00:05:00 +0100',\n",
       "  'published_parsed': time.struct_time(tm_year=2017, tm_mon=1, tm_mday=13, tm_hour=23, tm_min=5, tm_sec=0, tm_wday=4, tm_yday=13, tm_isdst=0),\n",
       "  'id': 'tag:pybit.es,2017-01-14:/twitter_digest_201702.html',\n",
       "  'guidislink': False,\n",
       "  'tags': [{'term': 'twitter', 'scheme': None, 'label': None},\n",
       "   {'term': 'news', 'scheme': None, 'label': None},\n",
       "   {'term': 'python', 'scheme': None, 'label': None},\n",
       "   {'term': 'podcasts', 'scheme': None, 'label': None},\n",
       "   {'term': 'data science', 'scheme': None, 'label': None},\n",
       "   {'term': 'challenges', 'scheme': None, 'label': None},\n",
       "   {'term': 'APIs', 'scheme': None, 'label': None},\n",
       "   {'term': 'conda', 'scheme': None, 'label': None},\n",
       "   {'term': '3.6', 'scheme': None, 'label': None}]},\n",
       " {'title': 'Code Challenge 01 - Word Values Part I - Review',\n",
       "  'title_detail': {'type': 'text/plain',\n",
       "   'language': None,\n",
       "   'base': 'http://projects.bobbelderbos.com/pcc/dates/all.rss.xml',\n",
       "   'value': 'Code Challenge 01 - Word Values Part I - Review'},\n",
       "  'links': [{'rel': 'alternate',\n",
       "    'type': 'text/html',\n",
       "    'href': 'https://pybit.es/codechallenge01_review.html'}],\n",
       "  'link': 'https://pybit.es/codechallenge01_review.html',\n",
       "  'summary': '<p>Wow! We have been amazed by the great response on <a href=\"https://github.com/pybites/challenges\">github</a> and <a href=\"https://news.ycombinator.com/item?id=13352447\">HN</a>. It\\'s Friday so we review the code challenge of this week. We describe our learning and a possible solution. We will also digest comments left on the <a href=\"http://pybit.es/codechallenge01.html\">Monday post</a>.</p>',\n",
       "  'summary_detail': {'type': 'text/html',\n",
       "   'language': None,\n",
       "   'base': 'http://projects.bobbelderbos.com/pcc/dates/all.rss.xml',\n",
       "   'value': '<p>Wow! We have been amazed by the great response on <a href=\"https://github.com/pybites/challenges\">github</a> and <a href=\"https://news.ycombinator.com/item?id=13352447\">HN</a>. It\\'s Friday so we review the code challenge of this week. We describe our learning and a possible solution. We will also digest comments left on the <a href=\"http://pybit.es/codechallenge01.html\">Monday post</a>.</p>'},\n",
       "  'authors': [{'name': 'PyBites'}],\n",
       "  'author': 'PyBites',\n",
       "  'author_detail': {'name': 'PyBites'},\n",
       "  'published': 'Fri, 13 Jan 2017 12:40:00 +0100',\n",
       "  'published_parsed': time.struct_time(tm_year=2017, tm_mon=1, tm_mday=13, tm_hour=11, tm_min=40, tm_sec=0, tm_wday=4, tm_yday=13, tm_isdst=0),\n",
       "  'id': 'tag:pybit.es,2017-01-13:/codechallenge01_review.html',\n",
       "  'guidislink': False,\n",
       "  'tags': [{'term': 'codechallenges', 'scheme': None, 'label': None},\n",
       "   {'term': 'code review', 'scheme': None, 'label': None},\n",
       "   {'term': 'HN', 'scheme': None, 'label': None},\n",
       "   {'term': 'github', 'scheme': None, 'label': None},\n",
       "   {'term': 'learning', 'scheme': None, 'label': None},\n",
       "   {'term': 'max', 'scheme': None, 'label': None},\n",
       "   {'term': 'generators', 'scheme': None, 'label': None},\n",
       "   {'term': 'scrabble', 'scheme': None, 'label': None},\n",
       "   {'term': 'refactoring', 'scheme': None, 'label': None}]},\n",
       " {'title': '5 cool things you can do with itertools',\n",
       "  'title_detail': {'type': 'text/plain',\n",
       "   'language': None,\n",
       "   'base': 'http://projects.bobbelderbos.com/pcc/dates/all.rss.xml',\n",
       "   'value': '5 cool things you can do with itertools'},\n",
       "  'links': [{'rel': 'alternate',\n",
       "    'type': 'text/html',\n",
       "    'href': 'https://pybit.es/itertools-examples.html'}],\n",
       "  'link': 'https://pybit.es/itertools-examples.html',\n",
       "  'summary': \"<p>Itertools is a very useful module. In this short post I show some 5 examples how you can use it. Some of this stuff might be useful in next week's challenge ...</p>\",\n",
       "  'summary_detail': {'type': 'text/html',\n",
       "   'language': None,\n",
       "   'base': 'http://projects.bobbelderbos.com/pcc/dates/all.rss.xml',\n",
       "   'value': \"<p>Itertools is a very useful module. In this short post I show some 5 examples how you can use it. Some of this stuff might be useful in next week's challenge ...</p>\"},\n",
       "  'authors': [{'name': 'Bob'}],\n",
       "  'author': 'Bob',\n",
       "  'author_detail': {'name': 'Bob'},\n",
       "  'published': 'Thu, 12 Jan 2017 23:55:00 +0100',\n",
       "  'published_parsed': time.struct_time(tm_year=2017, tm_mon=1, tm_mday=12, tm_hour=22, tm_min=55, tm_sec=0, tm_wday=3, tm_yday=12, tm_isdst=0),\n",
       "  'id': 'tag:pybit.es,2017-01-12:/itertools-examples.html',\n",
       "  'guidislink': False,\n",
       "  'tags': [{'term': 'iterators', 'scheme': None, 'label': None},\n",
       "   {'term': 'itertools', 'scheme': None, 'label': None},\n",
       "   {'term': 'tricks', 'scheme': None, 'label': None},\n",
       "   {'term': 'generators', 'scheme': None, 'label': None},\n",
       "   {'term': 'game', 'scheme': None, 'label': None},\n",
       "   {'term': 'notebooks', 'scheme': None, 'label': None},\n",
       "   {'term': 'permutations', 'scheme': None, 'label': None}]},\n",
       " {'title': 'Create a Simple Web Scraper with BeautifulSoup4',\n",
       "  'title_detail': {'type': 'text/plain',\n",
       "   'language': None,\n",
       "   'base': 'http://projects.bobbelderbos.com/pcc/dates/all.rss.xml',\n",
       "   'value': 'Create a Simple Web Scraper with BeautifulSoup4'},\n",
       "  'links': [{'rel': 'alternate',\n",
       "    'type': 'text/html',\n",
       "    'href': 'https://pybit.es/simplewebscraper.html'}],\n",
       "  'link': 'https://pybit.es/simplewebscraper.html',\n",
       "  'summary': '<p>Learn to create a simple web scraper in Python using BeautifulSoup4</p>',\n",
       "  'summary_detail': {'type': 'text/html',\n",
       "   'language': None,\n",
       "   'base': 'http://projects.bobbelderbos.com/pcc/dates/all.rss.xml',\n",
       "   'value': '<p>Learn to create a simple web scraper in Python using BeautifulSoup4</p>'},\n",
       "  'authors': [{'name': 'Julian'}],\n",
       "  'author': 'Julian',\n",
       "  'author_detail': {'name': 'Julian'},\n",
       "  'published': 'Wed, 11 Jan 2017 13:00:00 +0100',\n",
       "  'published_parsed': time.struct_time(tm_year=2017, tm_mon=1, tm_mday=11, tm_hour=12, tm_min=0, tm_sec=0, tm_wday=2, tm_yday=11, tm_isdst=0),\n",
       "  'id': 'tag:pybit.es,2017-01-11:/simplewebscraper.html',\n",
       "  'guidislink': False,\n",
       "  'tags': [{'term': 'python', 'scheme': None, 'label': None},\n",
       "   {'term': 'tips', 'scheme': None, 'label': None},\n",
       "   {'term': 'tricks', 'scheme': None, 'label': None},\n",
       "   {'term': 'code', 'scheme': None, 'label': None},\n",
       "   {'term': 'pybites', 'scheme': None, 'label': None},\n",
       "   {'term': 'beautifulsoup', 'scheme': None, 'label': None},\n",
       "   {'term': 'bs4', 'scheme': None, 'label': None},\n",
       "   {'term': 'webscraping', 'scheme': None, 'label': None},\n",
       "   {'term': 'namedtuples', 'scheme': None, 'label': None}]},\n",
       " {'title': 'Beautiful, idiomatic Python',\n",
       "  'title_detail': {'type': 'text/plain',\n",
       "   'language': None,\n",
       "   'base': 'http://projects.bobbelderbos.com/pcc/dates/all.rss.xml',\n",
       "   'value': 'Beautiful, idiomatic Python'},\n",
       "  'links': [{'rel': 'alternate',\n",
       "    'type': 'text/html',\n",
       "    'href': 'https://pybit.es/beautiful-python.html'}],\n",
       "  'link': 'https://pybit.es/beautiful-python.html',\n",
       "  'summary': '<p><a href=\"https://www.youtube.com/watch?v=OSGv2VnC0go\">Transforming Code into Beautiful, Idiomatic Python</a> is a must-watch to write more Pythonic code. In this post some highlights.</p>',\n",
       "  'summary_detail': {'type': 'text/html',\n",
       "   'language': None,\n",
       "   'base': 'http://projects.bobbelderbos.com/pcc/dates/all.rss.xml',\n",
       "   'value': '<p><a href=\"https://www.youtube.com/watch?v=OSGv2VnC0go\">Transforming Code into Beautiful, Idiomatic Python</a> is a must-watch to write more Pythonic code. In this post some highlights.</p>'},\n",
       "  'authors': [{'name': 'Bob'}],\n",
       "  'author': 'Bob',\n",
       "  'author_detail': {'name': 'Bob'},\n",
       "  'published': 'Tue, 10 Jan 2017 09:00:00 +0100',\n",
       "  'published_parsed': time.struct_time(tm_year=2017, tm_mon=1, tm_mday=10, tm_hour=8, tm_min=0, tm_sec=0, tm_wday=1, tm_yday=10, tm_isdst=0),\n",
       "  'id': 'tag:pybit.es,2017-01-10:/beautiful-python.html',\n",
       "  'guidislink': False,\n",
       "  'tags': [{'term': 'pythonic', 'scheme': None, 'label': None},\n",
       "   {'term': 'cleancode', 'scheme': None, 'label': None},\n",
       "   {'term': 'collections', 'scheme': None, 'label': None},\n",
       "   {'term': '2vs3', 'scheme': None, 'label': None},\n",
       "   {'term': 'namedtuples', 'scheme': None, 'label': None},\n",
       "   {'term': 'decorators', 'scheme': None, 'label': None},\n",
       "   {'term': 'contextmanagers', 'scheme': None, 'label': None}]},\n",
       " {'title': 'Code Challenge 01 - Word Values Part I',\n",
       "  'title_detail': {'type': 'text/plain',\n",
       "   'language': None,\n",
       "   'base': 'http://projects.bobbelderbos.com/pcc/dates/all.rss.xml',\n",
       "   'value': 'Code Challenge 01 - Word Values Part I'},\n",
       "  'links': [{'rel': 'alternate',\n",
       "    'type': 'text/html',\n",
       "    'href': 'https://pybit.es/codechallenge01.html'}],\n",
       "  'link': 'https://pybit.es/codechallenge01.html',\n",
       "  'summary': '<p>Our first weekly code challenge is to calculate the (language) dictionary word that would have the most value in Scrabble. Enjoy and let us know if you like this format.</p>',\n",
       "  'summary_detail': {'type': 'text/html',\n",
       "   'language': None,\n",
       "   'base': 'http://projects.bobbelderbos.com/pcc/dates/all.rss.xml',\n",
       "   'value': '<p>Our first weekly code challenge is to calculate the (language) dictionary word that would have the most value in Scrabble. Enjoy and let us know if you like this format.</p>'},\n",
       "  'authors': [{'name': 'PyBites'}],\n",
       "  'author': 'PyBites',\n",
       "  'author_detail': {'name': 'PyBites'},\n",
       "  'published': 'Mon, 09 Jan 2017 09:00:00 +0100',\n",
       "  'published_parsed': time.struct_time(tm_year=2017, tm_mon=1, tm_mday=9, tm_hour=8, tm_min=0, tm_sec=0, tm_wday=0, tm_yday=9, tm_isdst=0),\n",
       "  'id': 'tag:pybit.es,2017-01-09:/codechallenge01.html',\n",
       "  'guidislink': False,\n",
       "  'tags': [{'term': 'scrabble', 'scheme': None, 'label': None},\n",
       "   {'term': 'tdd', 'scheme': None, 'label': None},\n",
       "   {'term': 'codechallenges', 'scheme': None, 'label': None},\n",
       "   {'term': 'github', 'scheme': None, 'label': None},\n",
       "   {'term': 'learning', 'scheme': None, 'label': None}]},\n",
       " {'title': 'Twitter digest 2017 week 01',\n",
       "  'title_detail': {'type': 'text/plain',\n",
       "   'language': None,\n",
       "   'base': 'http://projects.bobbelderbos.com/pcc/dates/all.rss.xml',\n",
       "   'value': 'Twitter digest 2017 week 01'},\n",
       "  'links': [{'rel': 'alternate',\n",
       "    'type': 'text/html',\n",
       "    'href': 'https://pybit.es/twitter_digest_201701.html'}],\n",
       "  'link': 'https://pybit.es/twitter_digest_201701.html',\n",
       "  'summary': '<p>On Saturdays we will share a curated list of 15 cool things (mostly Python) we found / tweeted during the week.</p>',\n",
       "  'summary_detail': {'type': 'text/html',\n",
       "   'language': None,\n",
       "   'base': 'http://projects.bobbelderbos.com/pcc/dates/all.rss.xml',\n",
       "   'value': '<p>On Saturdays we will share a curated list of 15 cool things (mostly Python) we found / tweeted during the week.</p>'},\n",
       "  'authors': [{'name': 'PyBites'}],\n",
       "  'author': 'PyBites',\n",
       "  'author_detail': {'name': 'PyBites'},\n",
       "  'published': 'Sat, 07 Jan 2017 09:00:00 +0100',\n",
       "  'published_parsed': time.struct_time(tm_year=2017, tm_mon=1, tm_mday=7, tm_hour=8, tm_min=0, tm_sec=0, tm_wday=5, tm_yday=7, tm_isdst=0),\n",
       "  'id': 'tag:pybit.es,2017-01-07:/twitter_digest_201701.html',\n",
       "  'guidislink': False,\n",
       "  'tags': [{'term': 'twitter', 'scheme': None, 'label': None},\n",
       "   {'term': 'news', 'scheme': None, 'label': None},\n",
       "   {'term': 'python', 'scheme': None, 'label': None},\n",
       "   {'term': 'podcasts', 'scheme': None, 'label': None},\n",
       "   {'term': 'data', 'scheme': None, 'label': None},\n",
       "   {'term': 'iterators', 'scheme': None, 'label': None},\n",
       "   {'term': 'pythontips', 'scheme': None, 'label': None}]},\n",
       " {'title': 'Copy and Paste with Pyperclip',\n",
       "  'title_detail': {'type': 'text/plain',\n",
       "   'language': None,\n",
       "   'base': 'http://projects.bobbelderbos.com/pcc/dates/all.rss.xml',\n",
       "   'value': 'Copy and Paste with Pyperclip'},\n",
       "  'links': [{'rel': 'alternate',\n",
       "    'type': 'text/html',\n",
       "    'href': 'https://pybit.es/pyperclip.html'}],\n",
       "  'link': 'https://pybit.es/pyperclip.html',\n",
       "  'summary': '<p>Use the Pyperclip module to copy and paste with the clipboard!</p>',\n",
       "  'summary_detail': {'type': 'text/html',\n",
       "   'language': None,\n",
       "   'base': 'http://projects.bobbelderbos.com/pcc/dates/all.rss.xml',\n",
       "   'value': '<p>Use the Pyperclip module to copy and paste with the clipboard!</p>'},\n",
       "  'authors': [{'name': 'Julian'}],\n",
       "  'author': 'Julian',\n",
       "  'author_detail': {'name': 'Julian'},\n",
       "  'published': 'Fri, 06 Jan 2017 12:00:00 +0100',\n",
       "  'published_parsed': time.struct_time(tm_year=2017, tm_mon=1, tm_mday=6, tm_hour=11, tm_min=0, tm_sec=0, tm_wday=4, tm_yday=6, tm_isdst=0),\n",
       "  'id': 'tag:pybit.es,2017-01-06:/pyperclip.html',\n",
       "  'guidislink': False,\n",
       "  'tags': [{'term': 'python', 'scheme': None, 'label': None},\n",
       "   {'term': 'tips', 'scheme': None, 'label': None},\n",
       "   {'term': 'tricks', 'scheme': None, 'label': None},\n",
       "   {'term': 'code', 'scheme': None, 'label': None},\n",
       "   {'term': 'pybites', 'scheme': None, 'label': None}]},\n",
       " {'title': 'Code Challenge Pilot - code review',\n",
       "  'title_detail': {'type': 'text/plain',\n",
       "   'language': None,\n",
       "   'base': 'http://projects.bobbelderbos.com/pcc/dates/all.rss.xml',\n",
       "   'value': 'Code Challenge Pilot - code review'},\n",
       "  'links': [{'rel': 'alternate',\n",
       "    'type': 'text/html',\n",
       "    'href': 'https://pybit.es/challenge_pilot_codereview.html'}],\n",
       "  'link': 'https://pybit.es/challenge_pilot_codereview.html',\n",
       "  'summary': '<p>In this post I review the code of challenge # 1 and refactor it to make it more Pythonic.</p>',\n",
       "  'summary_detail': {'type': 'text/html',\n",
       "   'language': None,\n",
       "   'base': 'http://projects.bobbelderbos.com/pcc/dates/all.rss.xml',\n",
       "   'value': '<p>In this post I review the code of challenge # 1 and refactor it to make it more Pythonic.</p>'},\n",
       "  'authors': [{'name': 'Bob'}],\n",
       "  'author': 'Bob',\n",
       "  'author_detail': {'name': 'Bob'},\n",
       "  'published': 'Thu, 05 Jan 2017 09:00:00 +0100',\n",
       "  'published_parsed': time.struct_time(tm_year=2017, tm_mon=1, tm_mday=5, tm_hour=8, tm_min=0, tm_sec=0, tm_wday=3, tm_yday=5, tm_isdst=0),\n",
       "  'id': 'tag:pybit.es,2017-01-05:/challenge_pilot_codereview.html',\n",
       "  'guidislink': False,\n",
       "  'tags': [{'term': 'codechallenges', 'scheme': None, 'label': None},\n",
       "   {'term': 'refactoring', 'scheme': None, 'label': None},\n",
       "   {'term': 'code review', 'scheme': None, 'label': None},\n",
       "   {'term': 'bestpractices', 'scheme': None, 'label': None},\n",
       "   {'term': 'pythonic', 'scheme': None, 'label': None},\n",
       "   {'term': 'git', 'scheme': None, 'label': None},\n",
       "   {'term': 'Github', 'scheme': None, 'label': None},\n",
       "   {'term': 'git flow', 'scheme': None, 'label': None},\n",
       "   {'term': 'vim', 'scheme': None, 'label': None},\n",
       "   {'term': 'assert', 'scheme': None, 'label': None}]},\n",
       " {'title': 'Code Challenge Pilot - calculate total time JS course',\n",
       "  'title_detail': {'type': 'text/plain',\n",
       "   'language': None,\n",
       "   'base': 'http://projects.bobbelderbos.com/pcc/dates/all.rss.xml',\n",
       "   'value': 'Code Challenge Pilot - calculate total time JS course'},\n",
       "  'links': [{'rel': 'alternate',\n",
       "    'type': 'text/html',\n",
       "    'href': 'https://pybit.es/js_time_scraper_ch.html'}],\n",
       "  'link': 'https://pybit.es/js_time_scraper_ch.html',\n",
       "  'summary': '<p>Coding Challenge to create a web scraper that calculates the total time of a Javascript Course.</p>',\n",
       "  'summary_detail': {'type': 'text/html',\n",
       "   'language': None,\n",
       "   'base': 'http://projects.bobbelderbos.com/pcc/dates/all.rss.xml',\n",
       "   'value': '<p>Coding Challenge to create a web scraper that calculates the total time of a Javascript Course.</p>'},\n",
       "  'authors': [{'name': 'Julian'}],\n",
       "  'author': 'Julian',\n",
       "  'author_detail': {'name': 'Julian'},\n",
       "  'published': 'Wed, 04 Jan 2017 20:01:00 +0100',\n",
       "  'published_parsed': time.struct_time(tm_year=2017, tm_mon=1, tm_mday=4, tm_hour=19, tm_min=1, tm_sec=0, tm_wday=2, tm_yday=4, tm_isdst=0),\n",
       "  'id': 'tag:pybit.es,2017-01-04:/js_time_scraper_ch.html',\n",
       "  'guidislink': False,\n",
       "  'tags': [{'term': 'codechallenges', 'scheme': None, 'label': None},\n",
       "   {'term': 'learning', 'scheme': None, 'label': None},\n",
       "   {'term': 'python', 'scheme': None, 'label': None},\n",
       "   {'term': 'beginners', 'scheme': None, 'label': None},\n",
       "   {'term': 'code', 'scheme': None, 'label': None}]},\n",
       " {'title': 'A great book that makes algorithms accessible',\n",
       "  'title_detail': {'type': 'text/plain',\n",
       "   'language': None,\n",
       "   'base': 'http://projects.bobbelderbos.com/pcc/dates/all.rss.xml',\n",
       "   'value': 'A great book that makes algorithms accessible'},\n",
       "  'links': [{'rel': 'alternate',\n",
       "    'type': 'text/html',\n",
       "    'href': 'https://pybit.es/grokking_algorithms.html'}],\n",
       "  'link': 'https://pybit.es/grokking_algorithms.html',\n",
       "  'summary': \"<p>I finished reading Grokking Algorithms, it's a very accessible resource for learning algorithms / data structures, highly recommended.</p>\",\n",
       "  'summary_detail': {'type': 'text/html',\n",
       "   'language': None,\n",
       "   'base': 'http://projects.bobbelderbos.com/pcc/dates/all.rss.xml',\n",
       "   'value': \"<p>I finished reading Grokking Algorithms, it's a very accessible resource for learning algorithms / data structures, highly recommended.</p>\"},\n",
       "  'authors': [{'name': 'Bob'}],\n",
       "  'author': 'Bob',\n",
       "  'author_detail': {'name': 'Bob'},\n",
       "  'published': 'Tue, 03 Jan 2017 09:00:00 +0100',\n",
       "  'published_parsed': time.struct_time(tm_year=2017, tm_mon=1, tm_mday=3, tm_hour=8, tm_min=0, tm_sec=0, tm_wday=1, tm_yday=3, tm_isdst=0),\n",
       "  'id': 'tag:pybit.es,2017-01-03:/grokking_algorithms.html',\n",
       "  'guidislink': False,\n",
       "  'tags': [{'term': 'algorithms', 'scheme': None, 'label': None},\n",
       "   {'term': 'data structures', 'scheme': None, 'label': None},\n",
       "   {'term': 'performance', 'scheme': None, 'label': None},\n",
       "   {'term': 'collections', 'scheme': None, 'label': None}]},\n",
       " {'title': '5 min guide to PEP8',\n",
       "  'title_detail': {'type': 'text/plain',\n",
       "   'language': None,\n",
       "   'base': 'http://projects.bobbelderbos.com/pcc/dates/all.rss.xml',\n",
       "   'value': '5 min guide to PEP8'},\n",
       "  'links': [{'rel': 'alternate',\n",
       "    'type': 'text/html',\n",
       "    'href': 'https://pybit.es/pep8.html'}],\n",
       "  'link': 'https://pybit.es/pep8.html',\n",
       "  'summary': '<p>Today a post on PEP8, the Style Guide for Python Code</p>',\n",
       "  'summary_detail': {'type': 'text/html',\n",
       "   'language': None,\n",
       "   'base': 'http://projects.bobbelderbos.com/pcc/dates/all.rss.xml',\n",
       "   'value': '<p>Today a post on PEP8, the Style Guide for Python Code</p>'},\n",
       "  'authors': [{'name': 'Bob'}],\n",
       "  'author': 'Bob',\n",
       "  'author_detail': {'name': 'Bob'},\n",
       "  'published': 'Mon, 02 Jan 2017 09:00:00 +0100',\n",
       "  'published_parsed': time.struct_time(tm_year=2017, tm_mon=1, tm_mday=2, tm_hour=8, tm_min=0, tm_sec=0, tm_wday=0, tm_yday=2, tm_isdst=0),\n",
       "  'id': 'tag:pybit.es,2017-01-02:/pep8.html',\n",
       "  'guidislink': False,\n",
       "  'tags': [{'term': 'pep8', 'scheme': None, 'label': None},\n",
       "   {'term': 'cleancode', 'scheme': None, 'label': None},\n",
       "   {'term': 'guidelines', 'scheme': None, 'label': None},\n",
       "   {'term': 'coding style', 'scheme': None, 'label': None},\n",
       "   {'term': 'bestpractices', 'scheme': None, 'label': None},\n",
       "   {'term': 'pythonic', 'scheme': None, 'label': None},\n",
       "   {'term': 'vim', 'scheme': None, 'label': None}]},\n",
       " {'title': 'Python Naming Conventions',\n",
       "  'title_detail': {'type': 'text/plain',\n",
       "   'language': None,\n",
       "   'base': 'http://projects.bobbelderbos.com/pcc/dates/all.rss.xml',\n",
       "   'value': 'Python Naming Conventions'},\n",
       "  'links': [{'rel': 'alternate',\n",
       "    'type': 'text/html',\n",
       "    'href': 'https://pybit.es/naming_conventions.html'}],\n",
       "  'link': 'https://pybit.es/naming_conventions.html',\n",
       "  'summary': \"<p>Naming conventions can be tricky in Py. It's good to make sure we're all on the same page.</p>\",\n",
       "  'summary_detail': {'type': 'text/html',\n",
       "   'language': None,\n",
       "   'base': 'http://projects.bobbelderbos.com/pcc/dates/all.rss.xml',\n",
       "   'value': \"<p>Naming conventions can be tricky in Py. It's good to make sure we're all on the same page.</p>\"},\n",
       "  'authors': [{'name': 'Julian'}],\n",
       "  'author': 'Julian',\n",
       "  'author_detail': {'name': 'Julian'},\n",
       "  'published': 'Sun, 01 Jan 2017 11:14:00 +0100',\n",
       "  'published_parsed': time.struct_time(tm_year=2017, tm_mon=1, tm_mday=1, tm_hour=10, tm_min=14, tm_sec=0, tm_wday=6, tm_yday=1, tm_isdst=0),\n",
       "  'id': 'tag:pybit.es,2017-01-01:/naming_conventions.html',\n",
       "  'guidislink': False,\n",
       "  'tags': [{'term': 'learning', 'scheme': None, 'label': None},\n",
       "   {'term': 'python', 'scheme': None, 'label': None},\n",
       "   {'term': 'beginners', 'scheme': None, 'label': None},\n",
       "   {'term': 'tips', 'scheme': None, 'label': None},\n",
       "   {'term': 'cleancode', 'scheme': None, 'label': None},\n",
       "   {'term': 'bestpractices', 'scheme': None, 'label': None}]},\n",
       " {'title': '3.6 new features',\n",
       "  'title_detail': {'type': 'text/plain',\n",
       "   'language': None,\n",
       "   'base': 'http://projects.bobbelderbos.com/pcc/dates/all.rss.xml',\n",
       "   'value': '3.6 new features'},\n",
       "  'links': [{'rel': 'alternate',\n",
       "    'type': 'text/html',\n",
       "    'href': 'https://pybit.es/3.6_new.html'}],\n",
       "  'link': 'https://pybit.es/3.6_new.html',\n",
       "  'summary': \"<p>Finally got a chance to look into Python 3.6's new features. In this post some highlights and pointers.</p>\",\n",
       "  'summary_detail': {'type': 'text/html',\n",
       "   'language': None,\n",
       "   'base': 'http://projects.bobbelderbos.com/pcc/dates/all.rss.xml',\n",
       "   'value': \"<p>Finally got a chance to look into Python 3.6's new features. In this post some highlights and pointers.</p>\"},\n",
       "  'authors': [{'name': 'Bob'}],\n",
       "  'author': 'Bob',\n",
       "  'author_detail': {'name': 'Bob'},\n",
       "  'published': 'Sat, 31 Dec 2016 11:39:00 +0100',\n",
       "  'published_parsed': time.struct_time(tm_year=2016, tm_mon=12, tm_mday=31, tm_hour=10, tm_min=39, tm_sec=0, tm_wday=5, tm_yday=366, tm_isdst=0),\n",
       "  'id': 'tag:pybit.es,2016-12-31:/3.6_new.html',\n",
       "  'guidislink': False,\n",
       "  'tags': [{'term': '3.6', 'scheme': None, 'label': None},\n",
       "   {'term': 'features', 'scheme': None, 'label': None},\n",
       "   {'term': 'release', 'scheme': None, 'label': None},\n",
       "   {'term': 'asyncio', 'scheme': None, 'label': None},\n",
       "   {'term': 'formatting', 'scheme': None, 'label': None},\n",
       "   {'term': 'typing', 'scheme': None, 'label': None},\n",
       "   {'term': 'dicts', 'scheme': None, 'label': None},\n",
       "   {'term': 'secrets', 'scheme': None, 'label': None},\n",
       "   {'term': 'generators', 'scheme': None, 'label': None},\n",
       "   {'term': 'readability', 'scheme': None, 'label': None}]},\n",
       " {'title': \"Don't Let Indentation Catch You Out\",\n",
       "  'title_detail': {'type': 'text/plain',\n",
       "   'language': None,\n",
       "   'base': 'http://projects.bobbelderbos.com/pcc/dates/all.rss.xml',\n",
       "   'value': \"Don't Let Indentation Catch You Out\"},\n",
       "  'links': [{'rel': 'alternate',\n",
       "    'type': 'text/html',\n",
       "    'href': 'https://pybit.es/indentation_tips.html'}],\n",
       "  'link': 'https://pybit.es/indentation_tips.html',\n",
       "  'summary': \"<p>Python indentation can be a cruel mistress. Let's get it right!</p>\",\n",
       "  'summary_detail': {'type': 'text/html',\n",
       "   'language': None,\n",
       "   'base': 'http://projects.bobbelderbos.com/pcc/dates/all.rss.xml',\n",
       "   'value': \"<p>Python indentation can be a cruel mistress. Let's get it right!</p>\"},\n",
       "  'authors': [{'name': 'Julian'}],\n",
       "  'author': 'Julian',\n",
       "  'author_detail': {'name': 'Julian'},\n",
       "  'published': 'Fri, 30 Dec 2016 19:51:00 +0100',\n",
       "  'published_parsed': time.struct_time(tm_year=2016, tm_mon=12, tm_mday=30, tm_hour=18, tm_min=51, tm_sec=0, tm_wday=4, tm_yday=365, tm_isdst=0),\n",
       "  'id': 'tag:pybit.es,2016-12-30:/indentation_tips.html',\n",
       "  'guidislink': False,\n",
       "  'tags': [{'term': 'python', 'scheme': None, 'label': None},\n",
       "   {'term': 'learning', 'scheme': None, 'label': None},\n",
       "   {'term': 'beginners', 'scheme': None, 'label': None},\n",
       "   {'term': 'tips', 'scheme': None, 'label': None},\n",
       "   {'term': 'cleancode', 'scheme': None, 'label': None},\n",
       "   {'term': 'bestpractices', 'scheme': None, 'label': None}]},\n",
       " {'title': 'Automate Tweeting: how to build a Twitterbot',\n",
       "  'title_detail': {'type': 'text/plain',\n",
       "   'language': None,\n",
       "   'base': 'http://projects.bobbelderbos.com/pcc/dates/all.rss.xml',\n",
       "   'value': 'Automate Tweeting: how to build a Twitterbot'},\n",
       "  'links': [{'rel': 'alternate',\n",
       "    'type': 'text/html',\n",
       "    'href': 'https://pybit.es/automate-twitter.html'}],\n",
       "  'link': 'https://pybit.es/automate-twitter.html',\n",
       "  'summary': '<p>In this post I will show you how we automate part of our Twitter posting using feedparser and tweepy.</p>',\n",
       "  'summary_detail': {'type': 'text/html',\n",
       "   'language': None,\n",
       "   'base': 'http://projects.bobbelderbos.com/pcc/dates/all.rss.xml',\n",
       "   'value': '<p>In this post I will show you how we automate part of our Twitter posting using feedparser and tweepy.</p>'},\n",
       "  'authors': [{'name': 'Bob'}],\n",
       "  'author': 'Bob',\n",
       "  'author_detail': {'name': 'Bob'},\n",
       "  'published': 'Thu, 29 Dec 2016 01:28:00 +0100',\n",
       "  'published_parsed': time.struct_time(tm_year=2016, tm_mon=12, tm_mday=29, tm_hour=0, tm_min=28, tm_sec=0, tm_wday=3, tm_yday=364, tm_isdst=0),\n",
       "  'id': 'tag:pybit.es,2016-12-29:/automate-twitter.html',\n",
       "  'guidislink': False,\n",
       "  'tags': [{'term': 'twitterapi', 'scheme': None, 'label': None},\n",
       "   {'term': 'tweepy', 'scheme': None, 'label': None},\n",
       "   {'term': 'feedparser', 'scheme': None, 'label': None},\n",
       "   {'term': 'rss', 'scheme': None, 'label': None},\n",
       "   {'term': 'logging', 'scheme': None, 'label': None},\n",
       "   {'term': 'podcasts', 'scheme': None, 'label': None},\n",
       "   {'term': 'virtualenv', 'scheme': None, 'label': None},\n",
       "   {'term': 'pyvenv', 'scheme': None, 'label': None},\n",
       "   {'term': 'venv', 'scheme': None, 'label': None},\n",
       "   {'term': 'news', 'scheme': None, 'label': None},\n",
       "   {'term': '3.6', 'scheme': None, 'label': None}]},\n",
       " {'title': 'Learning from Python mistakes',\n",
       "  'title_detail': {'type': 'text/plain',\n",
       "   'language': None,\n",
       "   'base': 'http://projects.bobbelderbos.com/pcc/dates/all.rss.xml',\n",
       "   'value': 'Learning from Python mistakes'},\n",
       "  'links': [{'rel': 'alternate',\n",
       "    'type': 'text/html',\n",
       "    'href': 'https://pybit.es/py-mistakes.html'}],\n",
       "  'link': 'https://pybit.es/py-mistakes.html',\n",
       "  'summary': \"<p>In this post I summarize some great lessons Mike Pirnat shared in his free ebook 'How to make mistakes in Python'</p>\",\n",
       "  'summary_detail': {'type': 'text/html',\n",
       "   'language': None,\n",
       "   'base': 'http://projects.bobbelderbos.com/pcc/dates/all.rss.xml',\n",
       "   'value': \"<p>In this post I summarize some great lessons Mike Pirnat shared in his free ebook 'How to make mistakes in Python'</p>\"},\n",
       "  'authors': [{'name': 'Bob'}],\n",
       "  'author': 'Bob',\n",
       "  'author_detail': {'name': 'Bob'},\n",
       "  'published': 'Wed, 28 Dec 2016 09:00:00 +0100',\n",
       "  'published_parsed': time.struct_time(tm_year=2016, tm_mon=12, tm_mday=28, tm_hour=8, tm_min=0, tm_sec=0, tm_wday=2, tm_yday=363, tm_isdst=0),\n",
       "  'id': 'tag:pybit.es,2016-12-28:/py-mistakes.html',\n",
       "  'guidislink': False,\n",
       "  'tags': [{'term': 'bestpractices', 'scheme': None, 'label': None},\n",
       "   {'term': 'pep8', 'scheme': None, 'label': None},\n",
       "   {'term': 'virtualenv', 'scheme': None, 'label': None},\n",
       "   {'term': 'cleancode', 'scheme': None, 'label': None},\n",
       "   {'term': 'logging', 'scheme': None, 'label': None},\n",
       "   {'term': 'pytest', 'scheme': None, 'label': None},\n",
       "   {'term': 'ebook', 'scheme': None, 'label': None},\n",
       "   {'term': 'refactoring', 'scheme': None, 'label': None},\n",
       "   {'term': 'gotchas', 'scheme': None, 'label': None}]},\n",
       " {'title': 'How to create a nice-looking HTML page of your Kindle book highlights (notes)',\n",
       "  'title_detail': {'type': 'text/plain',\n",
       "   'language': None,\n",
       "   'base': 'http://projects.bobbelderbos.com/pcc/dates/all.rss.xml',\n",
       "   'value': 'How to create a nice-looking HTML page of your Kindle book highlights (notes)'},\n",
       "  'links': [{'rel': 'alternate',\n",
       "    'type': 'text/html',\n",
       "    'href': 'https://pybit.es/kindle-json-to-html.html'}],\n",
       "  'link': 'https://pybit.es/kindle-json-to-html.html',\n",
       "  'summary': '<p>In this post I share a simple script to convert Bookcision JSON into a HTML page for your blog.</p>',\n",
       "  'summary_detail': {'type': 'text/html',\n",
       "   'language': None,\n",
       "   'base': 'http://projects.bobbelderbos.com/pcc/dates/all.rss.xml',\n",
       "   'value': '<p>In this post I share a simple script to convert Bookcision JSON into a HTML page for your blog.</p>'},\n",
       "  'authors': [{'name': 'Bob'}],\n",
       "  'author': 'Bob',\n",
       "  'author_detail': {'name': 'Bob'},\n",
       "  'published': 'Tue, 27 Dec 2016 00:10:00 +0100',\n",
       "  'published_parsed': time.struct_time(tm_year=2016, tm_mon=12, tm_mday=26, tm_hour=23, tm_min=10, tm_sec=0, tm_wday=0, tm_yday=361, tm_isdst=0),\n",
       "  'id': 'tag:pybit.es,2016-12-27:/kindle-json-to-html.html',\n",
       "  'guidislink': False,\n",
       "  'tags': [{'term': 'kindle', 'scheme': None, 'label': None},\n",
       "   {'term': 'Template strings', 'scheme': None, 'label': None},\n",
       "   {'term': 'json', 'scheme': None, 'label': None},\n",
       "   {'term': 'html', 'scheme': None, 'label': None},\n",
       "   {'term': 'books', 'scheme': None, 'label': None},\n",
       "   {'term': 'bookcision', 'scheme': None, 'label': None},\n",
       "   {'term': 'generators', 'scheme': None, 'label': None}]},\n",
       " {'title': 'A Quick Automate the Boring Stuff Review',\n",
       "  'title_detail': {'type': 'text/plain',\n",
       "   'language': None,\n",
       "   'base': 'http://projects.bobbelderbos.com/pcc/dates/all.rss.xml',\n",
       "   'value': 'A Quick Automate the Boring Stuff Review'},\n",
       "  'links': [{'rel': 'alternate',\n",
       "    'type': 'text/html',\n",
       "    'href': 'https://pybit.es/automate_the_boring_stuff_review.html'}],\n",
       "  'link': 'https://pybit.es/automate_the_boring_stuff_review.html',\n",
       "  'summary': '<p>A quick review of the legendary free book, Automate the Boring Stuff.</p>',\n",
       "  'summary_detail': {'type': 'text/html',\n",
       "   'language': None,\n",
       "   'base': 'http://projects.bobbelderbos.com/pcc/dates/all.rss.xml',\n",
       "   'value': '<p>A quick review of the legendary free book, Automate the Boring Stuff.</p>'},\n",
       "  'authors': [{'name': 'Julian'}],\n",
       "  'author': 'Julian',\n",
       "  'author_detail': {'name': 'Julian'},\n",
       "  'published': 'Mon, 26 Dec 2016 23:00:00 +0100',\n",
       "  'published_parsed': time.struct_time(tm_year=2016, tm_mon=12, tm_mday=26, tm_hour=22, tm_min=0, tm_sec=0, tm_wday=0, tm_yday=361, tm_isdst=0),\n",
       "  'id': 'tag:pybit.es,2016-12-26:/automate_the_boring_stuff_review.html',\n",
       "  'guidislink': False,\n",
       "  'tags': [{'term': 'python', 'scheme': None, 'label': None},\n",
       "   {'term': 'review', 'scheme': None, 'label': None},\n",
       "   {'term': 'books', 'scheme': None, 'label': None},\n",
       "   {'term': 'learning', 'scheme': None, 'label': None},\n",
       "   {'term': 'beginners', 'scheme': None, 'label': None},\n",
       "   {'term': 'automation', 'scheme': None, 'label': None}]},\n",
       " {'title': 'Zip and ship, make an executable zipfile of your py project',\n",
       "  'title_detail': {'type': 'text/plain',\n",
       "   'language': None,\n",
       "   'base': 'http://projects.bobbelderbos.com/pcc/dates/all.rss.xml',\n",
       "   'value': 'Zip and ship, make an executable zipfile of your py project'},\n",
       "  'links': [{'rel': 'alternate',\n",
       "    'type': 'text/html',\n",
       "    'href': 'https://pybit.es/zip-and-ship.html'}],\n",
       "  'link': 'https://pybit.es/zip-and-ship.html',\n",
       "  'summary': \"<p>In this post I show an example how you can distribute your code as an executable zipfile, a neat trick I discovered in Chapter 6 of The Hitchhiker's Guide to Python</p>\",\n",
       "  'summary_detail': {'type': 'text/html',\n",
       "   'language': None,\n",
       "   'base': 'http://projects.bobbelderbos.com/pcc/dates/all.rss.xml',\n",
       "   'value': \"<p>In this post I show an example how you can distribute your code as an executable zipfile, a neat trick I discovered in Chapter 6 of The Hitchhiker's Guide to Python</p>\"},\n",
       "  'authors': [{'name': 'Bob'}],\n",
       "  'author': 'Bob',\n",
       "  'author_detail': {'name': 'Bob'},\n",
       "  'published': 'Sun, 25 Dec 2016 09:06:00 +0100',\n",
       "  'published_parsed': time.struct_time(tm_year=2016, tm_mon=12, tm_mday=25, tm_hour=8, tm_min=6, tm_sec=0, tm_wday=6, tm_yday=360, tm_isdst=0),\n",
       "  'id': 'tag:pybit.es,2016-12-25:/zip-and-ship.html',\n",
       "  'guidislink': False,\n",
       "  'tags': [{'term': 'zip', 'scheme': None, 'label': None},\n",
       "   {'term': 'packaging', 'scheme': None, 'label': None},\n",
       "   {'term': 'distribute', 'scheme': None, 'label': None},\n",
       "   {'term': 'pip', 'scheme': None, 'label': None}]},\n",
       " {'title': 'Get a weekly digest from a Pelican blog',\n",
       "  'title_detail': {'type': 'text/plain',\n",
       "   'language': None,\n",
       "   'base': 'http://projects.bobbelderbos.com/pcc/dates/all.rss.xml',\n",
       "   'value': 'Get a weekly digest from a Pelican blog'},\n",
       "  'links': [{'rel': 'alternate',\n",
       "    'type': 'text/html',\n",
       "    'href': 'https://pybit.es/blog-digest.html'}],\n",
       "  'link': 'https://pybit.es/blog-digest.html',\n",
       "  'summary': '<p>In this post a script we use to get a weekly digest of our posts.</p>',\n",
       "  'summary_detail': {'type': 'text/html',\n",
       "   'language': None,\n",
       "   'base': 'http://projects.bobbelderbos.com/pcc/dates/all.rss.xml',\n",
       "   'value': '<p>In this post a script we use to get a weekly digest of our posts.</p>'},\n",
       "  'authors': [{'name': 'Bob'}],\n",
       "  'author': 'Bob',\n",
       "  'author_detail': {'name': 'Bob'},\n",
       "  'published': 'Sat, 24 Dec 2016 15:40:00 +0100',\n",
       "  'published_parsed': time.struct_time(tm_year=2016, tm_mon=12, tm_mday=24, tm_hour=14, tm_min=40, tm_sec=0, tm_wday=5, tm_yday=359, tm_isdst=0),\n",
       "  'id': 'tag:pybit.es,2016-12-24:/blog-digest.html',\n",
       "  'guidislink': False,\n",
       "  'tags': [{'term': 'pelican', 'scheme': None, 'label': None},\n",
       "   {'term': 'feedparser', 'scheme': None, 'label': None},\n",
       "   {'term': 'rss', 'scheme': None, 'label': None}]},\n",
       " {'title': '2016 py articles and useful books',\n",
       "  'title_detail': {'type': 'text/plain',\n",
       "   'language': None,\n",
       "   'base': 'http://projects.bobbelderbos.com/pcc/dates/all.rss.xml',\n",
       "   'value': '2016 py articles and useful books'},\n",
       "  'links': [{'rel': 'alternate',\n",
       "    'type': 'text/html',\n",
       "    'href': 'https://pybit.es/py-articles-books2016.html'}],\n",
       "  'link': 'https://pybit.es/py-articles-books2016.html',\n",
       "  'summary': '<p>Some of my Python articles I posted on my blog this year and useful books</p>',\n",
       "  'summary_detail': {'type': 'text/html',\n",
       "   'language': None,\n",
       "   'base': 'http://projects.bobbelderbos.com/pcc/dates/all.rss.xml',\n",
       "   'value': '<p>Some of my Python articles I posted on my blog this year and useful books</p>'},\n",
       "  'authors': [{'name': 'Bob'}],\n",
       "  'author': 'Bob',\n",
       "  'author_detail': {'name': 'Bob'},\n",
       "  'published': 'Fri, 23 Dec 2016 00:31:00 +0100',\n",
       "  'published_parsed': time.struct_time(tm_year=2016, tm_mon=12, tm_mday=22, tm_hour=23, tm_min=31, tm_sec=0, tm_wday=3, tm_yday=357, tm_isdst=0),\n",
       "  'id': 'tag:pybit.es,2016-12-23:/py-articles-books2016.html',\n",
       "  'guidislink': False,\n",
       "  'tags': [{'term': 'pythonic', 'scheme': None, 'label': None},\n",
       "   {'term': 'books', 'scheme': None, 'label': None},\n",
       "   {'term': 'collections', 'scheme': None, 'label': None},\n",
       "   {'term': 'tricks', 'scheme': None, 'label': None},\n",
       "   {'term': 'tips', 'scheme': None, 'label': None},\n",
       "   {'term': 'data science', 'scheme': None, 'label': None},\n",
       "   {'term': 'matplotlib', 'scheme': None, 'label': None},\n",
       "   {'term': 'pandas', 'scheme': None, 'label': None}]},\n",
       " {'title': 'The Beauty of Python Virtualenvs',\n",
       "  'title_detail': {'type': 'text/plain',\n",
       "   'language': None,\n",
       "   'base': 'http://projects.bobbelderbos.com/pcc/dates/all.rss.xml',\n",
       "   'value': 'The Beauty of Python Virtualenvs'},\n",
       "  'links': [{'rel': 'alternate',\n",
       "    'type': 'text/html',\n",
       "    'href': 'https://pybit.es/the-beauty-of-virtualenv.html'}],\n",
       "  'link': 'https://pybit.es/the-beauty-of-virtualenv.html',\n",
       "  'summary': '<p>Python Virtualenvs are incredible yet sadly under utilised!</p>',\n",
       "  'summary_detail': {'type': 'text/html',\n",
       "   'language': None,\n",
       "   'base': 'http://projects.bobbelderbos.com/pcc/dates/all.rss.xml',\n",
       "   'value': '<p>Python Virtualenvs are incredible yet sadly under utilised!</p>'},\n",
       "  'authors': [{'name': 'Julian'}],\n",
       "  'author': 'Julian',\n",
       "  'author_detail': {'name': 'Julian'},\n",
       "  'published': 'Thu, 22 Dec 2016 22:11:00 +0100',\n",
       "  'published_parsed': time.struct_time(tm_year=2016, tm_mon=12, tm_mday=22, tm_hour=21, tm_min=11, tm_sec=0, tm_wday=3, tm_yday=357, tm_isdst=0),\n",
       "  'id': 'tag:pybit.es,2016-12-22:/the-beauty-of-virtualenv.html',\n",
       "  'guidislink': False,\n",
       "  'tags': [{'term': 'python', 'scheme': None, 'label': None},\n",
       "   {'term': 'pip', 'scheme': None, 'label': None},\n",
       "   {'term': 'virtualenv', 'scheme': None, 'label': None},\n",
       "   {'term': 'venv', 'scheme': None, 'label': None}]},\n",
       " {'title': 'Read the stdlib: deque',\n",
       "  'title_detail': {'type': 'text/plain',\n",
       "   'language': None,\n",
       "   'base': 'http://projects.bobbelderbos.com/pcc/dates/all.rss.xml',\n",
       "   'value': 'Read the stdlib: deque'},\n",
       "  'links': [{'rel': 'alternate',\n",
       "    'type': 'text/html',\n",
       "    'href': 'https://pybit.es/collections-deque.html'}],\n",
       "  'link': 'https://pybit.es/collections-deque.html',\n",
       "  'summary': '<p>Use collections.deque to rotate letters in string (or elements in list). It has a native method which performs faster too.</p>',\n",
       "  'summary_detail': {'type': 'text/html',\n",
       "   'language': None,\n",
       "   'base': 'http://projects.bobbelderbos.com/pcc/dates/all.rss.xml',\n",
       "   'value': '<p>Use collections.deque to rotate letters in string (or elements in list). It has a native method which performs faster too.</p>'},\n",
       "  'authors': [{'name': 'Bob'}],\n",
       "  'author': 'Bob',\n",
       "  'author_detail': {'name': 'Bob'},\n",
       "  'published': 'Wed, 21 Dec 2016 00:05:00 +0100',\n",
       "  'published_parsed': time.struct_time(tm_year=2016, tm_mon=12, tm_mday=20, tm_hour=23, tm_min=5, tm_sec=0, tm_wday=1, tm_yday=355, tm_isdst=0),\n",
       "  'id': 'tag:pybit.es,2016-12-21:/collections-deque.html',\n",
       "  'guidislink': False,\n",
       "  'tags': [{'term': 'collections', 'scheme': None, 'label': None},\n",
       "   {'term': 'data structures', 'scheme': None, 'label': None},\n",
       "   {'term': 'performance', 'scheme': None, 'label': None},\n",
       "   {'term': 'stdlib', 'scheme': None, 'label': None},\n",
       "   {'term': 'deque', 'scheme': None, 'label': None}]},\n",
       " {'title': 'How to get PyBites up and running on your machine',\n",
       "  'title_detail': {'type': 'text/plain',\n",
       "   'language': None,\n",
       "   'base': 'http://projects.bobbelderbos.com/pcc/dates/all.rss.xml',\n",
       "   'value': 'How to get PyBites up and running on your machine'},\n",
       "  'links': [{'rel': 'alternate',\n",
       "    'type': 'text/html',\n",
       "    'href': 'https://pybit.es/install-me.html'}],\n",
       "  'link': 'https://pybit.es/install-me.html',\n",
       "  'summary': '<p>This is a short post for Julian to get this Pelican blog up and running on his system.</p>',\n",
       "  'summary_detail': {'type': 'text/html',\n",
       "   'language': None,\n",
       "   'base': 'http://projects.bobbelderbos.com/pcc/dates/all.rss.xml',\n",
       "   'value': '<p>This is a short post for Julian to get this Pelican blog up and running on his system.</p>'},\n",
       "  'authors': [{'name': 'Pybites'}],\n",
       "  'author': 'Pybites',\n",
       "  'author_detail': {'name': 'Pybites'},\n",
       "  'published': 'Tue, 20 Dec 2016 10:40:00 +0100',\n",
       "  'published_parsed': time.struct_time(tm_year=2016, tm_mon=12, tm_mday=20, tm_hour=9, tm_min=40, tm_sec=0, tm_wday=1, tm_yday=355, tm_isdst=0),\n",
       "  'id': 'tag:pybit.es,2016-12-20:/install-me.html',\n",
       "  'guidislink': False,\n",
       "  'tags': [{'term': 'pelican', 'scheme': None, 'label': None},\n",
       "   {'term': 'publishing', 'scheme': None, 'label': None},\n",
       "   {'term': 'github', 'scheme': None, 'label': None},\n",
       "   {'term': 'pip', 'scheme': None, 'label': None},\n",
       "   {'term': 'virtualenv', 'scheme': None, 'label': None},\n",
       "   {'term': 'git', 'scheme': None, 'label': None}]},\n",
       " {'title': '__init__',\n",
       "  'title_detail': {'type': 'text/plain',\n",
       "   'language': None,\n",
       "   'base': 'http://projects.bobbelderbos.com/pcc/dates/all.rss.xml',\n",
       "   'value': '__init__'},\n",
       "  'links': [{'rel': 'alternate',\n",
       "    'type': 'text/html',\n",
       "    'href': 'https://pybit.es/hello-world.html'}],\n",
       "  'link': 'https://pybit.es/hello-world.html',\n",
       "  'summary': '<p>Welcome to our new PyBites blog where our goal is to further develop our Python skills and share what we learn.</p>',\n",
       "  'summary_detail': {'type': 'text/html',\n",
       "   'language': None,\n",
       "   'base': 'http://projects.bobbelderbos.com/pcc/dates/all.rss.xml',\n",
       "   'value': '<p>Welcome to our new PyBites blog where our goal is to further develop our Python skills and share what we learn.</p>'},\n",
       "  'authors': [{'name': 'Pybites'}],\n",
       "  'author': 'Pybites',\n",
       "  'author_detail': {'name': 'Pybites'},\n",
       "  'published': 'Mon, 19 Dec 2016 10:26:00 +0100',\n",
       "  'published_parsed': time.struct_time(tm_year=2016, tm_mon=12, tm_mday=19, tm_hour=9, tm_min=26, tm_sec=0, tm_wday=0, tm_yday=354, tm_isdst=0),\n",
       "  'id': 'tag:pybit.es,2016-12-19:/hello-world.html',\n",
       "  'guidislink': False,\n",
       "  'tags': [{'term': 'pelican', 'scheme': None, 'label': None},\n",
       "   {'term': 'publishing', 'scheme': None, 'label': None},\n",
       "   {'term': 'blog', 'scheme': None, 'label': None},\n",
       "   {'term': 'pybites', 'scheme': None, 'label': None}]}]"
      ]
     },
     "execution_count": 3,
     "metadata": {},
     "output_type": "execute_result"
    }
   ],
   "source": [
    "blog_feed = feedparser.parse('http://projects.bobbelderbos.com/pcc/dates/all.rss.xml')\n",
    "entries = blog_feed['entries']\n",
    "entries\n",
    "# from pprint import pprint as pp\n",
    "# pp(entries[0])"
   ]
  },
  {
   "cell_type": "code",
   "execution_count": 4,
   "metadata": {},
   "outputs": [
    {
     "name": "stdout",
     "output_type": "stream",
     "text": [
      "{'author': 'PyBites',\n",
      " 'author_detail': {'name': 'PyBites'},\n",
      " 'authors': [{'name': 'PyBites'}],\n",
      " 'guidislink': False,\n",
      " 'id': 'tag:pybit.es,2018-01-07:/codechallenge48.html',\n",
      " 'link': 'https://pybit.es/codechallenge48.html',\n",
      " 'links': [{'href': 'https://pybit.es/codechallenge48.html',\n",
      "            'rel': 'alternate',\n",
      "            'type': 'text/html'}],\n",
      " 'published': 'Sun, 07 Jan 2018 12:00:00 +0100',\n",
      " 'published_parsed': time.struct_time(tm_year=2018, tm_mon=1, tm_mday=7, tm_hour=11, tm_min=0, tm_sec=0, tm_wday=6, tm_yday=7, tm_isdst=0),\n",
      " 'summary': '<p>Hi Pythonistas, welcome to a new year of challenges. Are you '\n",
      "            'as amazed as we are by all the awesome Python stuff that comes '\n",
      "            'out every week? But then you feel you always are behind because '\n",
      "            'you lack the time to keep up? Welcome to daily reality. In this '\n",
      "            'challenge we have you contribute to our community with tools to '\n",
      "            'improve our weekly delivery of Python News. Be creative, have '\n",
      "            'fun!</p>',\n",
      " 'summary_detail': {'base': 'http://projects.bobbelderbos.com/pcc/dates/all.rss.xml',\n",
      "                    'language': None,\n",
      "                    'type': 'text/html',\n",
      "                    'value': '<p>Hi Pythonistas, welcome to a new year of '\n",
      "                             'challenges. Are you as amazed as we are by all '\n",
      "                             'the awesome Python stuff that comes out every '\n",
      "                             'week? But then you feel you always are behind '\n",
      "                             'because you lack the time to keep up? Welcome to '\n",
      "                             'daily reality. In this challenge we have you '\n",
      "                             'contribute to our community with tools to '\n",
      "                             'improve our weekly delivery of Python News. Be '\n",
      "                             'creative, have fun!</p>'},\n",
      " 'tags': [{'label': None, 'scheme': None, 'term': 'chdata analysis'},\n",
      "          {'label': None, 'scheme': None, 'term': 'news'},\n",
      "          {'label': None, 'scheme': None, 'term': 'Twitter'},\n",
      "          {'label': None, 'scheme': None, 'term': 'tools'},\n",
      "          {'label': None, 'scheme': None, 'term': 'Planet Python'},\n",
      "          {'label': None, 'scheme': None, 'term': 'digest'},\n",
      "          {'label': None, 'scheme': None, 'term': 'information overload'}],\n",
      " 'title': 'Code Challenge 48 - Create a Python News Digest Tool',\n",
      " 'title_detail': {'base': 'http://projects.bobbelderbos.com/pcc/dates/all.rss.xml',\n",
      "                  'language': None,\n",
      "                  'type': 'text/plain',\n",
      "                  'value': 'Code Challenge 48 - Create a Python News Digest '\n",
      "                           'Tool'}}\n"
     ]
    }
   ],
   "source": [
    "from pprint import pprint as pp \n",
    "pp(entries[0])"
   ]
  },
  {
   "cell_type": "markdown",
   "metadata": {},
   "source": [
    "> Next I am defining two helper functions we will need for the parsing:"
   ]
  },
  {
   "cell_type": "code",
   "execution_count": 5,
   "metadata": {},
   "outputs": [
    {
     "data": {
      "text/plain": [
       "datetime.datetime(2018, 1, 7, 12, 0)"
      ]
     },
     "execution_count": 5,
     "metadata": {},
     "output_type": "execute_result"
    }
   ],
   "source": [
    "def convert_to_datetime(date_str): \n",
    "    #  'published': 'Sun, 07 Jan 2018 12:00:00 +0100'\n",
    "    date_str = date_str.split('+')[0].strip()\n",
    "    dt = datetime.strptime(date_str, '%a, %d %b %Y %H:%M:%S')\n",
    "    return dt \n",
    "convert_to_datetime('Sun, 07 Jan 2018 12:00:00 +0100')"
   ]
  },
  {
   "cell_type": "code",
   "execution_count": 6,
   "metadata": {},
   "outputs": [
    {
     "data": {
      "text/plain": [
       "'2018-1'"
      ]
     },
     "execution_count": 6,
     "metadata": {},
     "output_type": "execute_result"
    }
   ],
   "source": [
    "def get_year_month(date_str):\n",
    "    #  'published': 'Sun, 07 Jan 2018 12:00:00 +0100',\n",
    "    date_str = date_str.split('+')[0].strip()\n",
    "    dt = datetime.strptime(date_str, '%a, %d %b %Y %H:%M:%S')\n",
    "    return f'{dt.year}-{dt.month}'  # only return year and month \n",
    "    \n",
    "yymm = get_year_month('Sun, 07 Jan 2018 12:00:00 +0100')\n",
    "yymm"
   ]
  },
  {
   "cell_type": "code",
   "execution_count": 7,
   "metadata": {},
   "outputs": [],
   "source": [
    "def get_category(link):\n",
    "    known = dict(codechallenge='challenge',\n",
    "                 twitter='news',\n",
    "                 special='special',\n",
    "                 guest='guest')\n",
    "    default = 'article'\n",
    "    category = re.sub(r'.*\\.es/([a-z]+).*', r'\\1', link)\n",
    "    return known.get(category) or default"
   ]
  },
  {
   "cell_type": "markdown",
   "metadata": {},
   "source": [
    "## We will be plotting the following:\n",
    "1. a bar chart of our published posting activity per month, \n",
    "2. a pie chart with break down of our post categories,\n",
    "3. another pie chart of common tags we use\n",
    "\n",
    "Let's keep this simple so we get you coding as soon as possible. \n",
    "\n",
    "Let's now get the corresponding data structures:"
   ]
  },
  {
   "cell_type": "code",
   "execution_count": 8,
   "metadata": {},
   "outputs": [
    {
     "data": {
      "text/plain": [
       "Counter({'2018-1': 3,\n",
       "         '2017-12': 11,\n",
       "         '2017-11': 12,\n",
       "         '2017-10': 13,\n",
       "         '2017-9': 13,\n",
       "         '2017-8': 19,\n",
       "         '2017-7': 23,\n",
       "         '2017-6': 19,\n",
       "         '2017-5': 22,\n",
       "         '2017-4': 23,\n",
       "         '2017-3': 25,\n",
       "         '2017-2': 20,\n",
       "         '2017-1': 27,\n",
       "         '2016-12': 13})"
      ]
     },
     "execution_count": 8,
     "metadata": {},
     "output_type": "execute_result"
    }
   ],
   "source": [
    "pub_dates = [get_year_month(entry.published) for entry in entries]\n",
    "posts_by_month = Counter(pub_dates)\n",
    "posts_by_month"
   ]
  },
  {
   "cell_type": "code",
   "execution_count": 9,
   "metadata": {},
   "outputs": [
    {
     "data": {
      "text/plain": [
       "[('challenge', 89),\n",
       " ('article', 89),\n",
       " ('news', 55),\n",
       " ('special', 5),\n",
       " ('guest', 5)]"
      ]
     },
     "execution_count": 9,
     "metadata": {},
     "output_type": "execute_result"
    }
   ],
   "source": [
    "categories = [get_category(entry.link) for entry in entries]\n",
    "cnt = Counter(categories)\n",
    "categories = cnt.most_common()\n",
    "categories"
   ]
  },
  {
   "cell_type": "code",
   "execution_count": 10,
   "metadata": {},
   "outputs": [
    {
     "data": {
      "text/plain": [
       "[('python', 84),\n",
       " ('learning', 80),\n",
       " ('twitter', 72),\n",
       " ('codechallenges', 72),\n",
       " ('tips', 65)]"
      ]
     },
     "execution_count": 10,
     "metadata": {},
     "output_type": "execute_result"
    }
   ],
   "source": [
    "tags = [tag.term.lower() for entry in entries for tag in entry.tags]\n",
    "cnt = Counter(tags)\n",
    "top_tags = cnt.most_common(20)\n",
    "top_tags[:5]"
   ]
  },
  {
   "cell_type": "code",
   "execution_count": 11,
   "metadata": {
    "scrolled": true
   },
   "outputs": [],
   "source": [
    "dates = [get_year_month(entry.published) for entry in blog_live]\n",
    "posts_per_month = Counter(dates)\n",
    "ctgr = [get_category(entry.published) for entry in blog_live]\n",
    "category_per = Counter(ctgr)\n",
    "top_category = category_per.most_common()\n",
    "\n",
    "tag = [tag.term.lower() for entry in blog_live for tag in entry.tags]\n",
    "tag_per = Counter(tag)\n",
    "top_tags = tag_per.most_common(20)"
   ]
  },
  {
   "cell_type": "markdown",
   "metadata": {},
   "source": [
    "## Plotting the data"
   ]
  },
  {
   "cell_type": "markdown",
   "metadata": {},
   "source": [
    "Great: we managed to get all the required data in data structures that should be easy to work with. Next up let's work on some nice visuals. \n",
    "\n",
    "There are many data visualization libraries available in Python: `matplotlib`, `Bokeh`, `Seaborn`, but here we will use the nice and easy-to-use `Plotly` which I recently discovered."
   ]
  },
  {
   "cell_type": "markdown",
   "metadata": {},
   "source": [
    "Let's add one more helper function. Note that above data structures are dicts or lists of tuples. For our plots we typically need to 2 lists: X + Y axis or labels + values. So we need an easy way to transpose our data structures. Luckily Raymond Hettinger tends to post powerful and Pythonic tips, [this one](https://twitter.com/raymondh/status/951548193363275776) is exactly what we need."
   ]
  },
  {
   "cell_type": "code",
   "execution_count": 12,
   "metadata": {},
   "outputs": [
    {
     "data": {
      "text/plain": [
       "[('2018-1',\n",
       "  '2017-12',\n",
       "  '2017-11',\n",
       "  '2017-10',\n",
       "  '2017-9',\n",
       "  '2017-8',\n",
       "  '2017-7',\n",
       "  '2017-6',\n",
       "  '2017-5',\n",
       "  '2017-4',\n",
       "  '2017-3',\n",
       "  '2017-2',\n",
       "  '2017-1',\n",
       "  '2016-12'),\n",
       " (3, 11, 12, 13, 13, 19, 23, 19, 22, 23, 25, 20, 27, 13)]"
      ]
     },
     "execution_count": 12,
     "metadata": {},
     "output_type": "execute_result"
    }
   ],
   "source": [
    "def transpose_list_of_tuples(data):\n",
    "    if isinstance(data, dict):\n",
    "        data = data.items()\n",
    "    transposed = list(zip(*data))\n",
    "    return transposed\n",
    "transpose_list_of_tuples(posts_by_month)"
   ]
  },
  {
   "cell_type": "markdown",
   "metadata": {},
   "source": [
    "`Plotly` can be used online and offline. We will use latter option. Also to embed the graphs here we need the following line. \n",
    "\n",
    "You might want to check out [Plotly's beginner doc](https://plot.ly/python/getting-started/) for further details."
   ]
  },
  {
   "cell_type": "code",
   "execution_count": 13,
   "metadata": {},
   "outputs": [
    {
     "data": {
      "text/html": [
       "        <script type=\"text/javascript\">\n",
       "        window.PlotlyConfig = {MathJaxConfig: 'local'};\n",
       "        if (window.MathJax) {MathJax.Hub.Config({SVG: {font: \"STIX-Web\"}});}\n",
       "        if (typeof require !== 'undefined') {\n",
       "        require.undef(\"plotly\");\n",
       "        requirejs.config({\n",
       "            paths: {\n",
       "                'plotly': ['https://cdn.plot.ly/plotly-latest.min']\n",
       "            }\n",
       "        });\n",
       "        require(['plotly'], function(Plotly) {\n",
       "            window._Plotly = Plotly;\n",
       "        });\n",
       "        }\n",
       "        </script>\n",
       "        "
      ]
     },
     "metadata": {},
     "output_type": "display_data"
    }
   ],
   "source": [
    "plotly.offline.init_notebook_mode(connected=True)"
   ]
  },
  {
   "cell_type": "code",
   "execution_count": 14,
   "metadata": {},
   "outputs": [
    {
     "data": {
      "application/vnd.plotly.v1+json": {
       "config": {
        "linkText": "Export to plot.ly",
        "plotlyServerURL": "https://plot.ly",
        "showLink": false
       },
       "data": [
        {
         "type": "bar",
         "x": [
          "2018-1",
          "2017-12",
          "2017-11",
          "2017-10",
          "2017-9",
          "2017-8",
          "2017-7",
          "2017-6",
          "2017-5",
          "2017-4",
          "2017-3",
          "2017-2",
          "2017-1",
          "2016-12"
         ],
         "y": [
          3,
          11,
          12,
          13,
          13,
          19,
          23,
          19,
          22,
          23,
          25,
          20,
          27,
          13
         ]
        }
       ],
       "layout": {
        "template": {
         "data": {
          "bar": [
           {
            "error_x": {
             "color": "#2a3f5f"
            },
            "error_y": {
             "color": "#2a3f5f"
            },
            "marker": {
             "line": {
              "color": "#E5ECF6",
              "width": 0.5
             }
            },
            "type": "bar"
           }
          ],
          "barpolar": [
           {
            "marker": {
             "line": {
              "color": "#E5ECF6",
              "width": 0.5
             }
            },
            "type": "barpolar"
           }
          ],
          "carpet": [
           {
            "aaxis": {
             "endlinecolor": "#2a3f5f",
             "gridcolor": "white",
             "linecolor": "white",
             "minorgridcolor": "white",
             "startlinecolor": "#2a3f5f"
            },
            "baxis": {
             "endlinecolor": "#2a3f5f",
             "gridcolor": "white",
             "linecolor": "white",
             "minorgridcolor": "white",
             "startlinecolor": "#2a3f5f"
            },
            "type": "carpet"
           }
          ],
          "choropleth": [
           {
            "colorbar": {
             "outlinewidth": 0,
             "ticks": ""
            },
            "type": "choropleth"
           }
          ],
          "contour": [
           {
            "colorbar": {
             "outlinewidth": 0,
             "ticks": ""
            },
            "colorscale": [
             [
              0,
              "#0d0887"
             ],
             [
              0.1111111111111111,
              "#46039f"
             ],
             [
              0.2222222222222222,
              "#7201a8"
             ],
             [
              0.3333333333333333,
              "#9c179e"
             ],
             [
              0.4444444444444444,
              "#bd3786"
             ],
             [
              0.5555555555555556,
              "#d8576b"
             ],
             [
              0.6666666666666666,
              "#ed7953"
             ],
             [
              0.7777777777777778,
              "#fb9f3a"
             ],
             [
              0.8888888888888888,
              "#fdca26"
             ],
             [
              1,
              "#f0f921"
             ]
            ],
            "type": "contour"
           }
          ],
          "contourcarpet": [
           {
            "colorbar": {
             "outlinewidth": 0,
             "ticks": ""
            },
            "type": "contourcarpet"
           }
          ],
          "heatmap": [
           {
            "colorbar": {
             "outlinewidth": 0,
             "ticks": ""
            },
            "colorscale": [
             [
              0,
              "#0d0887"
             ],
             [
              0.1111111111111111,
              "#46039f"
             ],
             [
              0.2222222222222222,
              "#7201a8"
             ],
             [
              0.3333333333333333,
              "#9c179e"
             ],
             [
              0.4444444444444444,
              "#bd3786"
             ],
             [
              0.5555555555555556,
              "#d8576b"
             ],
             [
              0.6666666666666666,
              "#ed7953"
             ],
             [
              0.7777777777777778,
              "#fb9f3a"
             ],
             [
              0.8888888888888888,
              "#fdca26"
             ],
             [
              1,
              "#f0f921"
             ]
            ],
            "type": "heatmap"
           }
          ],
          "heatmapgl": [
           {
            "colorbar": {
             "outlinewidth": 0,
             "ticks": ""
            },
            "colorscale": [
             [
              0,
              "#0d0887"
             ],
             [
              0.1111111111111111,
              "#46039f"
             ],
             [
              0.2222222222222222,
              "#7201a8"
             ],
             [
              0.3333333333333333,
              "#9c179e"
             ],
             [
              0.4444444444444444,
              "#bd3786"
             ],
             [
              0.5555555555555556,
              "#d8576b"
             ],
             [
              0.6666666666666666,
              "#ed7953"
             ],
             [
              0.7777777777777778,
              "#fb9f3a"
             ],
             [
              0.8888888888888888,
              "#fdca26"
             ],
             [
              1,
              "#f0f921"
             ]
            ],
            "type": "heatmapgl"
           }
          ],
          "histogram": [
           {
            "marker": {
             "colorbar": {
              "outlinewidth": 0,
              "ticks": ""
             }
            },
            "type": "histogram"
           }
          ],
          "histogram2d": [
           {
            "colorbar": {
             "outlinewidth": 0,
             "ticks": ""
            },
            "colorscale": [
             [
              0,
              "#0d0887"
             ],
             [
              0.1111111111111111,
              "#46039f"
             ],
             [
              0.2222222222222222,
              "#7201a8"
             ],
             [
              0.3333333333333333,
              "#9c179e"
             ],
             [
              0.4444444444444444,
              "#bd3786"
             ],
             [
              0.5555555555555556,
              "#d8576b"
             ],
             [
              0.6666666666666666,
              "#ed7953"
             ],
             [
              0.7777777777777778,
              "#fb9f3a"
             ],
             [
              0.8888888888888888,
              "#fdca26"
             ],
             [
              1,
              "#f0f921"
             ]
            ],
            "type": "histogram2d"
           }
          ],
          "histogram2dcontour": [
           {
            "colorbar": {
             "outlinewidth": 0,
             "ticks": ""
            },
            "colorscale": [
             [
              0,
              "#0d0887"
             ],
             [
              0.1111111111111111,
              "#46039f"
             ],
             [
              0.2222222222222222,
              "#7201a8"
             ],
             [
              0.3333333333333333,
              "#9c179e"
             ],
             [
              0.4444444444444444,
              "#bd3786"
             ],
             [
              0.5555555555555556,
              "#d8576b"
             ],
             [
              0.6666666666666666,
              "#ed7953"
             ],
             [
              0.7777777777777778,
              "#fb9f3a"
             ],
             [
              0.8888888888888888,
              "#fdca26"
             ],
             [
              1,
              "#f0f921"
             ]
            ],
            "type": "histogram2dcontour"
           }
          ],
          "mesh3d": [
           {
            "colorbar": {
             "outlinewidth": 0,
             "ticks": ""
            },
            "type": "mesh3d"
           }
          ],
          "parcoords": [
           {
            "line": {
             "colorbar": {
              "outlinewidth": 0,
              "ticks": ""
             }
            },
            "type": "parcoords"
           }
          ],
          "pie": [
           {
            "automargin": true,
            "type": "pie"
           }
          ],
          "scatter": [
           {
            "marker": {
             "colorbar": {
              "outlinewidth": 0,
              "ticks": ""
             }
            },
            "type": "scatter"
           }
          ],
          "scatter3d": [
           {
            "line": {
             "colorbar": {
              "outlinewidth": 0,
              "ticks": ""
             }
            },
            "marker": {
             "colorbar": {
              "outlinewidth": 0,
              "ticks": ""
             }
            },
            "type": "scatter3d"
           }
          ],
          "scattercarpet": [
           {
            "marker": {
             "colorbar": {
              "outlinewidth": 0,
              "ticks": ""
             }
            },
            "type": "scattercarpet"
           }
          ],
          "scattergeo": [
           {
            "marker": {
             "colorbar": {
              "outlinewidth": 0,
              "ticks": ""
             }
            },
            "type": "scattergeo"
           }
          ],
          "scattergl": [
           {
            "marker": {
             "colorbar": {
              "outlinewidth": 0,
              "ticks": ""
             }
            },
            "type": "scattergl"
           }
          ],
          "scattermapbox": [
           {
            "marker": {
             "colorbar": {
              "outlinewidth": 0,
              "ticks": ""
             }
            },
            "type": "scattermapbox"
           }
          ],
          "scatterpolar": [
           {
            "marker": {
             "colorbar": {
              "outlinewidth": 0,
              "ticks": ""
             }
            },
            "type": "scatterpolar"
           }
          ],
          "scatterpolargl": [
           {
            "marker": {
             "colorbar": {
              "outlinewidth": 0,
              "ticks": ""
             }
            },
            "type": "scatterpolargl"
           }
          ],
          "scatterternary": [
           {
            "marker": {
             "colorbar": {
              "outlinewidth": 0,
              "ticks": ""
             }
            },
            "type": "scatterternary"
           }
          ],
          "surface": [
           {
            "colorbar": {
             "outlinewidth": 0,
             "ticks": ""
            },
            "colorscale": [
             [
              0,
              "#0d0887"
             ],
             [
              0.1111111111111111,
              "#46039f"
             ],
             [
              0.2222222222222222,
              "#7201a8"
             ],
             [
              0.3333333333333333,
              "#9c179e"
             ],
             [
              0.4444444444444444,
              "#bd3786"
             ],
             [
              0.5555555555555556,
              "#d8576b"
             ],
             [
              0.6666666666666666,
              "#ed7953"
             ],
             [
              0.7777777777777778,
              "#fb9f3a"
             ],
             [
              0.8888888888888888,
              "#fdca26"
             ],
             [
              1,
              "#f0f921"
             ]
            ],
            "type": "surface"
           }
          ],
          "table": [
           {
            "cells": {
             "fill": {
              "color": "#EBF0F8"
             },
             "line": {
              "color": "white"
             }
            },
            "header": {
             "fill": {
              "color": "#C8D4E3"
             },
             "line": {
              "color": "white"
             }
            },
            "type": "table"
           }
          ]
         },
         "layout": {
          "annotationdefaults": {
           "arrowcolor": "#2a3f5f",
           "arrowhead": 0,
           "arrowwidth": 1
          },
          "autotypenumbers": "strict",
          "coloraxis": {
           "colorbar": {
            "outlinewidth": 0,
            "ticks": ""
           }
          },
          "colorscale": {
           "diverging": [
            [
             0,
             "#8e0152"
            ],
            [
             0.1,
             "#c51b7d"
            ],
            [
             0.2,
             "#de77ae"
            ],
            [
             0.3,
             "#f1b6da"
            ],
            [
             0.4,
             "#fde0ef"
            ],
            [
             0.5,
             "#f7f7f7"
            ],
            [
             0.6,
             "#e6f5d0"
            ],
            [
             0.7,
             "#b8e186"
            ],
            [
             0.8,
             "#7fbc41"
            ],
            [
             0.9,
             "#4d9221"
            ],
            [
             1,
             "#276419"
            ]
           ],
           "sequential": [
            [
             0,
             "#0d0887"
            ],
            [
             0.1111111111111111,
             "#46039f"
            ],
            [
             0.2222222222222222,
             "#7201a8"
            ],
            [
             0.3333333333333333,
             "#9c179e"
            ],
            [
             0.4444444444444444,
             "#bd3786"
            ],
            [
             0.5555555555555556,
             "#d8576b"
            ],
            [
             0.6666666666666666,
             "#ed7953"
            ],
            [
             0.7777777777777778,
             "#fb9f3a"
            ],
            [
             0.8888888888888888,
             "#fdca26"
            ],
            [
             1,
             "#f0f921"
            ]
           ],
           "sequentialminus": [
            [
             0,
             "#0d0887"
            ],
            [
             0.1111111111111111,
             "#46039f"
            ],
            [
             0.2222222222222222,
             "#7201a8"
            ],
            [
             0.3333333333333333,
             "#9c179e"
            ],
            [
             0.4444444444444444,
             "#bd3786"
            ],
            [
             0.5555555555555556,
             "#d8576b"
            ],
            [
             0.6666666666666666,
             "#ed7953"
            ],
            [
             0.7777777777777778,
             "#fb9f3a"
            ],
            [
             0.8888888888888888,
             "#fdca26"
            ],
            [
             1,
             "#f0f921"
            ]
           ]
          },
          "colorway": [
           "#636efa",
           "#EF553B",
           "#00cc96",
           "#ab63fa",
           "#FFA15A",
           "#19d3f3",
           "#FF6692",
           "#B6E880",
           "#FF97FF",
           "#FECB52"
          ],
          "font": {
           "color": "#2a3f5f"
          },
          "geo": {
           "bgcolor": "white",
           "lakecolor": "white",
           "landcolor": "#E5ECF6",
           "showlakes": true,
           "showland": true,
           "subunitcolor": "white"
          },
          "hoverlabel": {
           "align": "left"
          },
          "hovermode": "closest",
          "mapbox": {
           "style": "light"
          },
          "paper_bgcolor": "white",
          "plot_bgcolor": "#E5ECF6",
          "polar": {
           "angularaxis": {
            "gridcolor": "white",
            "linecolor": "white",
            "ticks": ""
           },
           "bgcolor": "#E5ECF6",
           "radialaxis": {
            "gridcolor": "white",
            "linecolor": "white",
            "ticks": ""
           }
          },
          "scene": {
           "xaxis": {
            "backgroundcolor": "#E5ECF6",
            "gridcolor": "white",
            "gridwidth": 2,
            "linecolor": "white",
            "showbackground": true,
            "ticks": "",
            "zerolinecolor": "white"
           },
           "yaxis": {
            "backgroundcolor": "#E5ECF6",
            "gridcolor": "white",
            "gridwidth": 2,
            "linecolor": "white",
            "showbackground": true,
            "ticks": "",
            "zerolinecolor": "white"
           },
           "zaxis": {
            "backgroundcolor": "#E5ECF6",
            "gridcolor": "white",
            "gridwidth": 2,
            "linecolor": "white",
            "showbackground": true,
            "ticks": "",
            "zerolinecolor": "white"
           }
          },
          "shapedefaults": {
           "line": {
            "color": "#2a3f5f"
           }
          },
          "ternary": {
           "aaxis": {
            "gridcolor": "white",
            "linecolor": "white",
            "ticks": ""
           },
           "baxis": {
            "gridcolor": "white",
            "linecolor": "white",
            "ticks": ""
           },
           "bgcolor": "#E5ECF6",
           "caxis": {
            "gridcolor": "white",
            "linecolor": "white",
            "ticks": ""
           }
          },
          "title": {
           "x": 0.05
          },
          "xaxis": {
           "automargin": true,
           "gridcolor": "white",
           "linecolor": "white",
           "ticks": "",
           "title": {
            "standoff": 15
           },
           "zerolinecolor": "white",
           "zerolinewidth": 2
          },
          "yaxis": {
           "automargin": true,
           "gridcolor": "white",
           "linecolor": "white",
           "ticks": "",
           "title": {
            "standoff": 15
           },
           "zerolinecolor": "white",
           "zerolinewidth": 2
          }
         }
        }
       }
      },
      "text/html": [
       "<div>                            <div id=\"a107c16d-97ae-4b8f-87ce-60b0fc26d025\" class=\"plotly-graph-div\" style=\"height:525px; width:100%;\"></div>            <script type=\"text/javascript\">                require([\"plotly\"], function(Plotly) {                    window.PLOTLYENV=window.PLOTLYENV || {};                                    if (document.getElementById(\"a107c16d-97ae-4b8f-87ce-60b0fc26d025\")) {                    Plotly.newPlot(                        \"a107c16d-97ae-4b8f-87ce-60b0fc26d025\",                        [{\"type\": \"bar\", \"x\": [\"2018-1\", \"2017-12\", \"2017-11\", \"2017-10\", \"2017-9\", \"2017-8\", \"2017-7\", \"2017-6\", \"2017-5\", \"2017-4\", \"2017-3\", \"2017-2\", \"2017-1\", \"2016-12\"], \"y\": [3, 11, 12, 13, 13, 19, 23, 19, 22, 23, 25, 20, 27, 13]}],                        {\"template\": {\"data\": {\"bar\": [{\"error_x\": {\"color\": \"#2a3f5f\"}, \"error_y\": {\"color\": \"#2a3f5f\"}, \"marker\": {\"line\": {\"color\": \"#E5ECF6\", \"width\": 0.5}}, \"type\": \"bar\"}], \"barpolar\": [{\"marker\": {\"line\": {\"color\": \"#E5ECF6\", \"width\": 0.5}}, \"type\": \"barpolar\"}], \"carpet\": [{\"aaxis\": {\"endlinecolor\": \"#2a3f5f\", \"gridcolor\": \"white\", \"linecolor\": \"white\", \"minorgridcolor\": \"white\", \"startlinecolor\": \"#2a3f5f\"}, \"baxis\": {\"endlinecolor\": \"#2a3f5f\", \"gridcolor\": \"white\", \"linecolor\": \"white\", \"minorgridcolor\": \"white\", \"startlinecolor\": \"#2a3f5f\"}, \"type\": \"carpet\"}], \"choropleth\": [{\"colorbar\": {\"outlinewidth\": 0, \"ticks\": \"\"}, \"type\": \"choropleth\"}], \"contour\": [{\"colorbar\": {\"outlinewidth\": 0, \"ticks\": \"\"}, \"colorscale\": [[0.0, \"#0d0887\"], [0.1111111111111111, \"#46039f\"], [0.2222222222222222, \"#7201a8\"], [0.3333333333333333, \"#9c179e\"], [0.4444444444444444, \"#bd3786\"], [0.5555555555555556, \"#d8576b\"], [0.6666666666666666, \"#ed7953\"], [0.7777777777777778, \"#fb9f3a\"], [0.8888888888888888, \"#fdca26\"], [1.0, \"#f0f921\"]], \"type\": \"contour\"}], \"contourcarpet\": [{\"colorbar\": {\"outlinewidth\": 0, \"ticks\": \"\"}, \"type\": \"contourcarpet\"}], \"heatmap\": [{\"colorbar\": {\"outlinewidth\": 0, \"ticks\": \"\"}, \"colorscale\": [[0.0, \"#0d0887\"], [0.1111111111111111, \"#46039f\"], [0.2222222222222222, \"#7201a8\"], [0.3333333333333333, \"#9c179e\"], [0.4444444444444444, \"#bd3786\"], [0.5555555555555556, \"#d8576b\"], [0.6666666666666666, \"#ed7953\"], [0.7777777777777778, \"#fb9f3a\"], [0.8888888888888888, \"#fdca26\"], [1.0, \"#f0f921\"]], \"type\": \"heatmap\"}], \"heatmapgl\": [{\"colorbar\": {\"outlinewidth\": 0, \"ticks\": \"\"}, \"colorscale\": [[0.0, \"#0d0887\"], [0.1111111111111111, \"#46039f\"], [0.2222222222222222, \"#7201a8\"], [0.3333333333333333, \"#9c179e\"], [0.4444444444444444, \"#bd3786\"], [0.5555555555555556, \"#d8576b\"], [0.6666666666666666, \"#ed7953\"], [0.7777777777777778, \"#fb9f3a\"], [0.8888888888888888, \"#fdca26\"], [1.0, \"#f0f921\"]], \"type\": \"heatmapgl\"}], \"histogram\": [{\"marker\": {\"colorbar\": {\"outlinewidth\": 0, \"ticks\": \"\"}}, \"type\": \"histogram\"}], \"histogram2d\": [{\"colorbar\": {\"outlinewidth\": 0, \"ticks\": \"\"}, \"colorscale\": [[0.0, \"#0d0887\"], [0.1111111111111111, \"#46039f\"], [0.2222222222222222, \"#7201a8\"], [0.3333333333333333, \"#9c179e\"], [0.4444444444444444, \"#bd3786\"], [0.5555555555555556, \"#d8576b\"], [0.6666666666666666, \"#ed7953\"], [0.7777777777777778, \"#fb9f3a\"], [0.8888888888888888, \"#fdca26\"], [1.0, \"#f0f921\"]], \"type\": \"histogram2d\"}], \"histogram2dcontour\": [{\"colorbar\": {\"outlinewidth\": 0, \"ticks\": \"\"}, \"colorscale\": [[0.0, \"#0d0887\"], [0.1111111111111111, \"#46039f\"], [0.2222222222222222, \"#7201a8\"], [0.3333333333333333, \"#9c179e\"], [0.4444444444444444, \"#bd3786\"], [0.5555555555555556, \"#d8576b\"], [0.6666666666666666, \"#ed7953\"], [0.7777777777777778, \"#fb9f3a\"], [0.8888888888888888, \"#fdca26\"], [1.0, \"#f0f921\"]], \"type\": \"histogram2dcontour\"}], \"mesh3d\": [{\"colorbar\": {\"outlinewidth\": 0, \"ticks\": \"\"}, \"type\": \"mesh3d\"}], \"parcoords\": [{\"line\": {\"colorbar\": {\"outlinewidth\": 0, \"ticks\": \"\"}}, \"type\": \"parcoords\"}], \"pie\": [{\"automargin\": true, \"type\": \"pie\"}], \"scatter\": [{\"marker\": {\"colorbar\": {\"outlinewidth\": 0, \"ticks\": \"\"}}, \"type\": \"scatter\"}], \"scatter3d\": [{\"line\": {\"colorbar\": {\"outlinewidth\": 0, \"ticks\": \"\"}}, \"marker\": {\"colorbar\": {\"outlinewidth\": 0, \"ticks\": \"\"}}, \"type\": \"scatter3d\"}], \"scattercarpet\": [{\"marker\": {\"colorbar\": {\"outlinewidth\": 0, \"ticks\": \"\"}}, \"type\": \"scattercarpet\"}], \"scattergeo\": [{\"marker\": {\"colorbar\": {\"outlinewidth\": 0, \"ticks\": \"\"}}, \"type\": \"scattergeo\"}], \"scattergl\": [{\"marker\": {\"colorbar\": {\"outlinewidth\": 0, \"ticks\": \"\"}}, \"type\": \"scattergl\"}], \"scattermapbox\": [{\"marker\": {\"colorbar\": {\"outlinewidth\": 0, \"ticks\": \"\"}}, \"type\": \"scattermapbox\"}], \"scatterpolar\": [{\"marker\": {\"colorbar\": {\"outlinewidth\": 0, \"ticks\": \"\"}}, \"type\": \"scatterpolar\"}], \"scatterpolargl\": [{\"marker\": {\"colorbar\": {\"outlinewidth\": 0, \"ticks\": \"\"}}, \"type\": \"scatterpolargl\"}], \"scatterternary\": [{\"marker\": {\"colorbar\": {\"outlinewidth\": 0, \"ticks\": \"\"}}, \"type\": \"scatterternary\"}], \"surface\": [{\"colorbar\": {\"outlinewidth\": 0, \"ticks\": \"\"}, \"colorscale\": [[0.0, \"#0d0887\"], [0.1111111111111111, \"#46039f\"], [0.2222222222222222, \"#7201a8\"], [0.3333333333333333, \"#9c179e\"], [0.4444444444444444, \"#bd3786\"], [0.5555555555555556, \"#d8576b\"], [0.6666666666666666, \"#ed7953\"], [0.7777777777777778, \"#fb9f3a\"], [0.8888888888888888, \"#fdca26\"], [1.0, \"#f0f921\"]], \"type\": \"surface\"}], \"table\": [{\"cells\": {\"fill\": {\"color\": \"#EBF0F8\"}, \"line\": {\"color\": \"white\"}}, \"header\": {\"fill\": {\"color\": \"#C8D4E3\"}, \"line\": {\"color\": \"white\"}}, \"type\": \"table\"}]}, \"layout\": {\"annotationdefaults\": {\"arrowcolor\": \"#2a3f5f\", \"arrowhead\": 0, \"arrowwidth\": 1}, \"autotypenumbers\": \"strict\", \"coloraxis\": {\"colorbar\": {\"outlinewidth\": 0, \"ticks\": \"\"}}, \"colorscale\": {\"diverging\": [[0, \"#8e0152\"], [0.1, \"#c51b7d\"], [0.2, \"#de77ae\"], [0.3, \"#f1b6da\"], [0.4, \"#fde0ef\"], [0.5, \"#f7f7f7\"], [0.6, \"#e6f5d0\"], [0.7, \"#b8e186\"], [0.8, \"#7fbc41\"], [0.9, \"#4d9221\"], [1, \"#276419\"]], \"sequential\": [[0.0, \"#0d0887\"], [0.1111111111111111, \"#46039f\"], [0.2222222222222222, \"#7201a8\"], [0.3333333333333333, \"#9c179e\"], [0.4444444444444444, \"#bd3786\"], [0.5555555555555556, \"#d8576b\"], [0.6666666666666666, \"#ed7953\"], [0.7777777777777778, \"#fb9f3a\"], [0.8888888888888888, \"#fdca26\"], [1.0, \"#f0f921\"]], \"sequentialminus\": [[0.0, \"#0d0887\"], [0.1111111111111111, \"#46039f\"], [0.2222222222222222, \"#7201a8\"], [0.3333333333333333, \"#9c179e\"], [0.4444444444444444, \"#bd3786\"], [0.5555555555555556, \"#d8576b\"], [0.6666666666666666, \"#ed7953\"], [0.7777777777777778, \"#fb9f3a\"], [0.8888888888888888, \"#fdca26\"], [1.0, \"#f0f921\"]]}, \"colorway\": [\"#636efa\", \"#EF553B\", \"#00cc96\", \"#ab63fa\", \"#FFA15A\", \"#19d3f3\", \"#FF6692\", \"#B6E880\", \"#FF97FF\", \"#FECB52\"], \"font\": {\"color\": \"#2a3f5f\"}, \"geo\": {\"bgcolor\": \"white\", \"lakecolor\": \"white\", \"landcolor\": \"#E5ECF6\", \"showlakes\": true, \"showland\": true, \"subunitcolor\": \"white\"}, \"hoverlabel\": {\"align\": \"left\"}, \"hovermode\": \"closest\", \"mapbox\": {\"style\": \"light\"}, \"paper_bgcolor\": \"white\", \"plot_bgcolor\": \"#E5ECF6\", \"polar\": {\"angularaxis\": {\"gridcolor\": \"white\", \"linecolor\": \"white\", \"ticks\": \"\"}, \"bgcolor\": \"#E5ECF6\", \"radialaxis\": {\"gridcolor\": \"white\", \"linecolor\": \"white\", \"ticks\": \"\"}}, \"scene\": {\"xaxis\": {\"backgroundcolor\": \"#E5ECF6\", \"gridcolor\": \"white\", \"gridwidth\": 2, \"linecolor\": \"white\", \"showbackground\": true, \"ticks\": \"\", \"zerolinecolor\": \"white\"}, \"yaxis\": {\"backgroundcolor\": \"#E5ECF6\", \"gridcolor\": \"white\", \"gridwidth\": 2, \"linecolor\": \"white\", \"showbackground\": true, \"ticks\": \"\", \"zerolinecolor\": \"white\"}, \"zaxis\": {\"backgroundcolor\": \"#E5ECF6\", \"gridcolor\": \"white\", \"gridwidth\": 2, \"linecolor\": \"white\", \"showbackground\": true, \"ticks\": \"\", \"zerolinecolor\": \"white\"}}, \"shapedefaults\": {\"line\": {\"color\": \"#2a3f5f\"}}, \"ternary\": {\"aaxis\": {\"gridcolor\": \"white\", \"linecolor\": \"white\", \"ticks\": \"\"}, \"baxis\": {\"gridcolor\": \"white\", \"linecolor\": \"white\", \"ticks\": \"\"}, \"bgcolor\": \"#E5ECF6\", \"caxis\": {\"gridcolor\": \"white\", \"linecolor\": \"white\", \"ticks\": \"\"}}, \"title\": {\"x\": 0.05}, \"xaxis\": {\"automargin\": true, \"gridcolor\": \"white\", \"linecolor\": \"white\", \"ticks\": \"\", \"title\": {\"standoff\": 15}, \"zerolinecolor\": \"white\", \"zerolinewidth\": 2}, \"yaxis\": {\"automargin\": true, \"gridcolor\": \"white\", \"linecolor\": \"white\", \"ticks\": \"\", \"title\": {\"standoff\": 15}, \"zerolinecolor\": \"white\", \"zerolinewidth\": 2}}}},                        {\"responsive\": true}                    ).then(function(){\n",
       "                            \n",
       "var gd = document.getElementById('a107c16d-97ae-4b8f-87ce-60b0fc26d025');\n",
       "var x = new MutationObserver(function (mutations, observer) {{\n",
       "        var display = window.getComputedStyle(gd).display;\n",
       "        if (!display || display === 'none') {{\n",
       "            console.log([gd, 'removed!']);\n",
       "            Plotly.purge(gd);\n",
       "            observer.disconnect();\n",
       "        }}\n",
       "}});\n",
       "\n",
       "// Listen for the removal of the full notebook cells\n",
       "var notebookContainer = gd.closest('#notebook-container');\n",
       "if (notebookContainer) {{\n",
       "    x.observe(notebookContainer, {childList: true});\n",
       "}}\n",
       "\n",
       "// Listen for the clearing of the current output cell\n",
       "var outputEl = gd.closest('.output');\n",
       "if (outputEl) {{\n",
       "    x.observe(outputEl, {childList: true});\n",
       "}}\n",
       "\n",
       "                        })                };                });            </script>        </div>"
      ]
     },
     "metadata": {},
     "output_type": "display_data"
    }
   ],
   "source": [
    "x, y = transpose_list_of_tuples(posts_by_month)\n",
    "data = [go.Bar(x=x, y=y)]\n",
    "plotly.offline.iplot(data, filename = 'frequency of published posts')"
   ]
  },
  {
   "cell_type": "code",
   "execution_count": 15,
   "metadata": {},
   "outputs": [
    {
     "data": {
      "application/vnd.plotly.v1+json": {
       "config": {
        "linkText": "Export to plot.ly",
        "plotlyServerURL": "https://plot.ly",
        "showLink": false
       },
       "data": [
        {
         "type": "bar",
         "x": [
          "2018-1",
          "2017-12",
          "2017-11",
          "2017-10",
          "2017-9",
          "2017-8",
          "2017-7",
          "2017-6",
          "2017-5",
          "2017-4",
          "2017-3",
          "2017-2",
          "2017-1",
          "2016-12"
         ],
         "y": [
          3,
          11,
          12,
          13,
          13,
          19,
          23,
          19,
          22,
          23,
          25,
          20,
          27,
          13
         ]
        }
       ],
       "layout": {
        "template": {
         "data": {
          "bar": [
           {
            "error_x": {
             "color": "#2a3f5f"
            },
            "error_y": {
             "color": "#2a3f5f"
            },
            "marker": {
             "line": {
              "color": "#E5ECF6",
              "width": 0.5
             }
            },
            "type": "bar"
           }
          ],
          "barpolar": [
           {
            "marker": {
             "line": {
              "color": "#E5ECF6",
              "width": 0.5
             }
            },
            "type": "barpolar"
           }
          ],
          "carpet": [
           {
            "aaxis": {
             "endlinecolor": "#2a3f5f",
             "gridcolor": "white",
             "linecolor": "white",
             "minorgridcolor": "white",
             "startlinecolor": "#2a3f5f"
            },
            "baxis": {
             "endlinecolor": "#2a3f5f",
             "gridcolor": "white",
             "linecolor": "white",
             "minorgridcolor": "white",
             "startlinecolor": "#2a3f5f"
            },
            "type": "carpet"
           }
          ],
          "choropleth": [
           {
            "colorbar": {
             "outlinewidth": 0,
             "ticks": ""
            },
            "type": "choropleth"
           }
          ],
          "contour": [
           {
            "colorbar": {
             "outlinewidth": 0,
             "ticks": ""
            },
            "colorscale": [
             [
              0,
              "#0d0887"
             ],
             [
              0.1111111111111111,
              "#46039f"
             ],
             [
              0.2222222222222222,
              "#7201a8"
             ],
             [
              0.3333333333333333,
              "#9c179e"
             ],
             [
              0.4444444444444444,
              "#bd3786"
             ],
             [
              0.5555555555555556,
              "#d8576b"
             ],
             [
              0.6666666666666666,
              "#ed7953"
             ],
             [
              0.7777777777777778,
              "#fb9f3a"
             ],
             [
              0.8888888888888888,
              "#fdca26"
             ],
             [
              1,
              "#f0f921"
             ]
            ],
            "type": "contour"
           }
          ],
          "contourcarpet": [
           {
            "colorbar": {
             "outlinewidth": 0,
             "ticks": ""
            },
            "type": "contourcarpet"
           }
          ],
          "heatmap": [
           {
            "colorbar": {
             "outlinewidth": 0,
             "ticks": ""
            },
            "colorscale": [
             [
              0,
              "#0d0887"
             ],
             [
              0.1111111111111111,
              "#46039f"
             ],
             [
              0.2222222222222222,
              "#7201a8"
             ],
             [
              0.3333333333333333,
              "#9c179e"
             ],
             [
              0.4444444444444444,
              "#bd3786"
             ],
             [
              0.5555555555555556,
              "#d8576b"
             ],
             [
              0.6666666666666666,
              "#ed7953"
             ],
             [
              0.7777777777777778,
              "#fb9f3a"
             ],
             [
              0.8888888888888888,
              "#fdca26"
             ],
             [
              1,
              "#f0f921"
             ]
            ],
            "type": "heatmap"
           }
          ],
          "heatmapgl": [
           {
            "colorbar": {
             "outlinewidth": 0,
             "ticks": ""
            },
            "colorscale": [
             [
              0,
              "#0d0887"
             ],
             [
              0.1111111111111111,
              "#46039f"
             ],
             [
              0.2222222222222222,
              "#7201a8"
             ],
             [
              0.3333333333333333,
              "#9c179e"
             ],
             [
              0.4444444444444444,
              "#bd3786"
             ],
             [
              0.5555555555555556,
              "#d8576b"
             ],
             [
              0.6666666666666666,
              "#ed7953"
             ],
             [
              0.7777777777777778,
              "#fb9f3a"
             ],
             [
              0.8888888888888888,
              "#fdca26"
             ],
             [
              1,
              "#f0f921"
             ]
            ],
            "type": "heatmapgl"
           }
          ],
          "histogram": [
           {
            "marker": {
             "colorbar": {
              "outlinewidth": 0,
              "ticks": ""
             }
            },
            "type": "histogram"
           }
          ],
          "histogram2d": [
           {
            "colorbar": {
             "outlinewidth": 0,
             "ticks": ""
            },
            "colorscale": [
             [
              0,
              "#0d0887"
             ],
             [
              0.1111111111111111,
              "#46039f"
             ],
             [
              0.2222222222222222,
              "#7201a8"
             ],
             [
              0.3333333333333333,
              "#9c179e"
             ],
             [
              0.4444444444444444,
              "#bd3786"
             ],
             [
              0.5555555555555556,
              "#d8576b"
             ],
             [
              0.6666666666666666,
              "#ed7953"
             ],
             [
              0.7777777777777778,
              "#fb9f3a"
             ],
             [
              0.8888888888888888,
              "#fdca26"
             ],
             [
              1,
              "#f0f921"
             ]
            ],
            "type": "histogram2d"
           }
          ],
          "histogram2dcontour": [
           {
            "colorbar": {
             "outlinewidth": 0,
             "ticks": ""
            },
            "colorscale": [
             [
              0,
              "#0d0887"
             ],
             [
              0.1111111111111111,
              "#46039f"
             ],
             [
              0.2222222222222222,
              "#7201a8"
             ],
             [
              0.3333333333333333,
              "#9c179e"
             ],
             [
              0.4444444444444444,
              "#bd3786"
             ],
             [
              0.5555555555555556,
              "#d8576b"
             ],
             [
              0.6666666666666666,
              "#ed7953"
             ],
             [
              0.7777777777777778,
              "#fb9f3a"
             ],
             [
              0.8888888888888888,
              "#fdca26"
             ],
             [
              1,
              "#f0f921"
             ]
            ],
            "type": "histogram2dcontour"
           }
          ],
          "mesh3d": [
           {
            "colorbar": {
             "outlinewidth": 0,
             "ticks": ""
            },
            "type": "mesh3d"
           }
          ],
          "parcoords": [
           {
            "line": {
             "colorbar": {
              "outlinewidth": 0,
              "ticks": ""
             }
            },
            "type": "parcoords"
           }
          ],
          "pie": [
           {
            "automargin": true,
            "type": "pie"
           }
          ],
          "scatter": [
           {
            "marker": {
             "colorbar": {
              "outlinewidth": 0,
              "ticks": ""
             }
            },
            "type": "scatter"
           }
          ],
          "scatter3d": [
           {
            "line": {
             "colorbar": {
              "outlinewidth": 0,
              "ticks": ""
             }
            },
            "marker": {
             "colorbar": {
              "outlinewidth": 0,
              "ticks": ""
             }
            },
            "type": "scatter3d"
           }
          ],
          "scattercarpet": [
           {
            "marker": {
             "colorbar": {
              "outlinewidth": 0,
              "ticks": ""
             }
            },
            "type": "scattercarpet"
           }
          ],
          "scattergeo": [
           {
            "marker": {
             "colorbar": {
              "outlinewidth": 0,
              "ticks": ""
             }
            },
            "type": "scattergeo"
           }
          ],
          "scattergl": [
           {
            "marker": {
             "colorbar": {
              "outlinewidth": 0,
              "ticks": ""
             }
            },
            "type": "scattergl"
           }
          ],
          "scattermapbox": [
           {
            "marker": {
             "colorbar": {
              "outlinewidth": 0,
              "ticks": ""
             }
            },
            "type": "scattermapbox"
           }
          ],
          "scatterpolar": [
           {
            "marker": {
             "colorbar": {
              "outlinewidth": 0,
              "ticks": ""
             }
            },
            "type": "scatterpolar"
           }
          ],
          "scatterpolargl": [
           {
            "marker": {
             "colorbar": {
              "outlinewidth": 0,
              "ticks": ""
             }
            },
            "type": "scatterpolargl"
           }
          ],
          "scatterternary": [
           {
            "marker": {
             "colorbar": {
              "outlinewidth": 0,
              "ticks": ""
             }
            },
            "type": "scatterternary"
           }
          ],
          "surface": [
           {
            "colorbar": {
             "outlinewidth": 0,
             "ticks": ""
            },
            "colorscale": [
             [
              0,
              "#0d0887"
             ],
             [
              0.1111111111111111,
              "#46039f"
             ],
             [
              0.2222222222222222,
              "#7201a8"
             ],
             [
              0.3333333333333333,
              "#9c179e"
             ],
             [
              0.4444444444444444,
              "#bd3786"
             ],
             [
              0.5555555555555556,
              "#d8576b"
             ],
             [
              0.6666666666666666,
              "#ed7953"
             ],
             [
              0.7777777777777778,
              "#fb9f3a"
             ],
             [
              0.8888888888888888,
              "#fdca26"
             ],
             [
              1,
              "#f0f921"
             ]
            ],
            "type": "surface"
           }
          ],
          "table": [
           {
            "cells": {
             "fill": {
              "color": "#EBF0F8"
             },
             "line": {
              "color": "white"
             }
            },
            "header": {
             "fill": {
              "color": "#C8D4E3"
             },
             "line": {
              "color": "white"
             }
            },
            "type": "table"
           }
          ]
         },
         "layout": {
          "annotationdefaults": {
           "arrowcolor": "#2a3f5f",
           "arrowhead": 0,
           "arrowwidth": 1
          },
          "autotypenumbers": "strict",
          "coloraxis": {
           "colorbar": {
            "outlinewidth": 0,
            "ticks": ""
           }
          },
          "colorscale": {
           "diverging": [
            [
             0,
             "#8e0152"
            ],
            [
             0.1,
             "#c51b7d"
            ],
            [
             0.2,
             "#de77ae"
            ],
            [
             0.3,
             "#f1b6da"
            ],
            [
             0.4,
             "#fde0ef"
            ],
            [
             0.5,
             "#f7f7f7"
            ],
            [
             0.6,
             "#e6f5d0"
            ],
            [
             0.7,
             "#b8e186"
            ],
            [
             0.8,
             "#7fbc41"
            ],
            [
             0.9,
             "#4d9221"
            ],
            [
             1,
             "#276419"
            ]
           ],
           "sequential": [
            [
             0,
             "#0d0887"
            ],
            [
             0.1111111111111111,
             "#46039f"
            ],
            [
             0.2222222222222222,
             "#7201a8"
            ],
            [
             0.3333333333333333,
             "#9c179e"
            ],
            [
             0.4444444444444444,
             "#bd3786"
            ],
            [
             0.5555555555555556,
             "#d8576b"
            ],
            [
             0.6666666666666666,
             "#ed7953"
            ],
            [
             0.7777777777777778,
             "#fb9f3a"
            ],
            [
             0.8888888888888888,
             "#fdca26"
            ],
            [
             1,
             "#f0f921"
            ]
           ],
           "sequentialminus": [
            [
             0,
             "#0d0887"
            ],
            [
             0.1111111111111111,
             "#46039f"
            ],
            [
             0.2222222222222222,
             "#7201a8"
            ],
            [
             0.3333333333333333,
             "#9c179e"
            ],
            [
             0.4444444444444444,
             "#bd3786"
            ],
            [
             0.5555555555555556,
             "#d8576b"
            ],
            [
             0.6666666666666666,
             "#ed7953"
            ],
            [
             0.7777777777777778,
             "#fb9f3a"
            ],
            [
             0.8888888888888888,
             "#fdca26"
            ],
            [
             1,
             "#f0f921"
            ]
           ]
          },
          "colorway": [
           "#636efa",
           "#EF553B",
           "#00cc96",
           "#ab63fa",
           "#FFA15A",
           "#19d3f3",
           "#FF6692",
           "#B6E880",
           "#FF97FF",
           "#FECB52"
          ],
          "font": {
           "color": "#2a3f5f"
          },
          "geo": {
           "bgcolor": "white",
           "lakecolor": "white",
           "landcolor": "#E5ECF6",
           "showlakes": true,
           "showland": true,
           "subunitcolor": "white"
          },
          "hoverlabel": {
           "align": "left"
          },
          "hovermode": "closest",
          "mapbox": {
           "style": "light"
          },
          "paper_bgcolor": "white",
          "plot_bgcolor": "#E5ECF6",
          "polar": {
           "angularaxis": {
            "gridcolor": "white",
            "linecolor": "white",
            "ticks": ""
           },
           "bgcolor": "#E5ECF6",
           "radialaxis": {
            "gridcolor": "white",
            "linecolor": "white",
            "ticks": ""
           }
          },
          "scene": {
           "xaxis": {
            "backgroundcolor": "#E5ECF6",
            "gridcolor": "white",
            "gridwidth": 2,
            "linecolor": "white",
            "showbackground": true,
            "ticks": "",
            "zerolinecolor": "white"
           },
           "yaxis": {
            "backgroundcolor": "#E5ECF6",
            "gridcolor": "white",
            "gridwidth": 2,
            "linecolor": "white",
            "showbackground": true,
            "ticks": "",
            "zerolinecolor": "white"
           },
           "zaxis": {
            "backgroundcolor": "#E5ECF6",
            "gridcolor": "white",
            "gridwidth": 2,
            "linecolor": "white",
            "showbackground": true,
            "ticks": "",
            "zerolinecolor": "white"
           }
          },
          "shapedefaults": {
           "line": {
            "color": "#2a3f5f"
           }
          },
          "ternary": {
           "aaxis": {
            "gridcolor": "white",
            "linecolor": "white",
            "ticks": ""
           },
           "baxis": {
            "gridcolor": "white",
            "linecolor": "white",
            "ticks": ""
           },
           "bgcolor": "#E5ECF6",
           "caxis": {
            "gridcolor": "white",
            "linecolor": "white",
            "ticks": ""
           }
          },
          "title": {
           "x": 0.05
          },
          "xaxis": {
           "automargin": true,
           "gridcolor": "white",
           "linecolor": "white",
           "ticks": "",
           "title": {
            "standoff": 15
           },
           "zerolinecolor": "white",
           "zerolinewidth": 2
          },
          "yaxis": {
           "automargin": true,
           "gridcolor": "white",
           "linecolor": "white",
           "ticks": "",
           "title": {
            "standoff": 15
           },
           "zerolinecolor": "white",
           "zerolinewidth": 2
          }
         }
        }
       }
      },
      "text/html": [
       "<div>                            <div id=\"bc302f04-ecf2-4414-a12f-5a566289ef6a\" class=\"plotly-graph-div\" style=\"height:525px; width:100%;\"></div>            <script type=\"text/javascript\">                require([\"plotly\"], function(Plotly) {                    window.PLOTLYENV=window.PLOTLYENV || {};                                    if (document.getElementById(\"bc302f04-ecf2-4414-a12f-5a566289ef6a\")) {                    Plotly.newPlot(                        \"bc302f04-ecf2-4414-a12f-5a566289ef6a\",                        [{\"type\": \"bar\", \"x\": [\"2018-1\", \"2017-12\", \"2017-11\", \"2017-10\", \"2017-9\", \"2017-8\", \"2017-7\", \"2017-6\", \"2017-5\", \"2017-4\", \"2017-3\", \"2017-2\", \"2017-1\", \"2016-12\"], \"y\": [3, 11, 12, 13, 13, 19, 23, 19, 22, 23, 25, 20, 27, 13]}],                        {\"template\": {\"data\": {\"bar\": [{\"error_x\": {\"color\": \"#2a3f5f\"}, \"error_y\": {\"color\": \"#2a3f5f\"}, \"marker\": {\"line\": {\"color\": \"#E5ECF6\", \"width\": 0.5}}, \"type\": \"bar\"}], \"barpolar\": [{\"marker\": {\"line\": {\"color\": \"#E5ECF6\", \"width\": 0.5}}, \"type\": \"barpolar\"}], \"carpet\": [{\"aaxis\": {\"endlinecolor\": \"#2a3f5f\", \"gridcolor\": \"white\", \"linecolor\": \"white\", \"minorgridcolor\": \"white\", \"startlinecolor\": \"#2a3f5f\"}, \"baxis\": {\"endlinecolor\": \"#2a3f5f\", \"gridcolor\": \"white\", \"linecolor\": \"white\", \"minorgridcolor\": \"white\", \"startlinecolor\": \"#2a3f5f\"}, \"type\": \"carpet\"}], \"choropleth\": [{\"colorbar\": {\"outlinewidth\": 0, \"ticks\": \"\"}, \"type\": \"choropleth\"}], \"contour\": [{\"colorbar\": {\"outlinewidth\": 0, \"ticks\": \"\"}, \"colorscale\": [[0.0, \"#0d0887\"], [0.1111111111111111, \"#46039f\"], [0.2222222222222222, \"#7201a8\"], [0.3333333333333333, \"#9c179e\"], [0.4444444444444444, \"#bd3786\"], [0.5555555555555556, \"#d8576b\"], [0.6666666666666666, \"#ed7953\"], [0.7777777777777778, \"#fb9f3a\"], [0.8888888888888888, \"#fdca26\"], [1.0, \"#f0f921\"]], \"type\": \"contour\"}], \"contourcarpet\": [{\"colorbar\": {\"outlinewidth\": 0, \"ticks\": \"\"}, \"type\": \"contourcarpet\"}], \"heatmap\": [{\"colorbar\": {\"outlinewidth\": 0, \"ticks\": \"\"}, \"colorscale\": [[0.0, \"#0d0887\"], [0.1111111111111111, \"#46039f\"], [0.2222222222222222, \"#7201a8\"], [0.3333333333333333, \"#9c179e\"], [0.4444444444444444, \"#bd3786\"], [0.5555555555555556, \"#d8576b\"], [0.6666666666666666, \"#ed7953\"], [0.7777777777777778, \"#fb9f3a\"], [0.8888888888888888, \"#fdca26\"], [1.0, \"#f0f921\"]], \"type\": \"heatmap\"}], \"heatmapgl\": [{\"colorbar\": {\"outlinewidth\": 0, \"ticks\": \"\"}, \"colorscale\": [[0.0, \"#0d0887\"], [0.1111111111111111, \"#46039f\"], [0.2222222222222222, \"#7201a8\"], [0.3333333333333333, \"#9c179e\"], [0.4444444444444444, \"#bd3786\"], [0.5555555555555556, \"#d8576b\"], [0.6666666666666666, \"#ed7953\"], [0.7777777777777778, \"#fb9f3a\"], [0.8888888888888888, \"#fdca26\"], [1.0, \"#f0f921\"]], \"type\": \"heatmapgl\"}], \"histogram\": [{\"marker\": {\"colorbar\": {\"outlinewidth\": 0, \"ticks\": \"\"}}, \"type\": \"histogram\"}], \"histogram2d\": [{\"colorbar\": {\"outlinewidth\": 0, \"ticks\": \"\"}, \"colorscale\": [[0.0, \"#0d0887\"], [0.1111111111111111, \"#46039f\"], [0.2222222222222222, \"#7201a8\"], [0.3333333333333333, \"#9c179e\"], [0.4444444444444444, \"#bd3786\"], [0.5555555555555556, \"#d8576b\"], [0.6666666666666666, \"#ed7953\"], [0.7777777777777778, \"#fb9f3a\"], [0.8888888888888888, \"#fdca26\"], [1.0, \"#f0f921\"]], \"type\": \"histogram2d\"}], \"histogram2dcontour\": [{\"colorbar\": {\"outlinewidth\": 0, \"ticks\": \"\"}, \"colorscale\": [[0.0, \"#0d0887\"], [0.1111111111111111, \"#46039f\"], [0.2222222222222222, \"#7201a8\"], [0.3333333333333333, \"#9c179e\"], [0.4444444444444444, \"#bd3786\"], [0.5555555555555556, \"#d8576b\"], [0.6666666666666666, \"#ed7953\"], [0.7777777777777778, \"#fb9f3a\"], [0.8888888888888888, \"#fdca26\"], [1.0, \"#f0f921\"]], \"type\": \"histogram2dcontour\"}], \"mesh3d\": [{\"colorbar\": {\"outlinewidth\": 0, \"ticks\": \"\"}, \"type\": \"mesh3d\"}], \"parcoords\": [{\"line\": {\"colorbar\": {\"outlinewidth\": 0, \"ticks\": \"\"}}, \"type\": \"parcoords\"}], \"pie\": [{\"automargin\": true, \"type\": \"pie\"}], \"scatter\": [{\"marker\": {\"colorbar\": {\"outlinewidth\": 0, \"ticks\": \"\"}}, \"type\": \"scatter\"}], \"scatter3d\": [{\"line\": {\"colorbar\": {\"outlinewidth\": 0, \"ticks\": \"\"}}, \"marker\": {\"colorbar\": {\"outlinewidth\": 0, \"ticks\": \"\"}}, \"type\": \"scatter3d\"}], \"scattercarpet\": [{\"marker\": {\"colorbar\": {\"outlinewidth\": 0, \"ticks\": \"\"}}, \"type\": \"scattercarpet\"}], \"scattergeo\": [{\"marker\": {\"colorbar\": {\"outlinewidth\": 0, \"ticks\": \"\"}}, \"type\": \"scattergeo\"}], \"scattergl\": [{\"marker\": {\"colorbar\": {\"outlinewidth\": 0, \"ticks\": \"\"}}, \"type\": \"scattergl\"}], \"scattermapbox\": [{\"marker\": {\"colorbar\": {\"outlinewidth\": 0, \"ticks\": \"\"}}, \"type\": \"scattermapbox\"}], \"scatterpolar\": [{\"marker\": {\"colorbar\": {\"outlinewidth\": 0, \"ticks\": \"\"}}, \"type\": \"scatterpolar\"}], \"scatterpolargl\": [{\"marker\": {\"colorbar\": {\"outlinewidth\": 0, \"ticks\": \"\"}}, \"type\": \"scatterpolargl\"}], \"scatterternary\": [{\"marker\": {\"colorbar\": {\"outlinewidth\": 0, \"ticks\": \"\"}}, \"type\": \"scatterternary\"}], \"surface\": [{\"colorbar\": {\"outlinewidth\": 0, \"ticks\": \"\"}, \"colorscale\": [[0.0, \"#0d0887\"], [0.1111111111111111, \"#46039f\"], [0.2222222222222222, \"#7201a8\"], [0.3333333333333333, \"#9c179e\"], [0.4444444444444444, \"#bd3786\"], [0.5555555555555556, \"#d8576b\"], [0.6666666666666666, \"#ed7953\"], [0.7777777777777778, \"#fb9f3a\"], [0.8888888888888888, \"#fdca26\"], [1.0, \"#f0f921\"]], \"type\": \"surface\"}], \"table\": [{\"cells\": {\"fill\": {\"color\": \"#EBF0F8\"}, \"line\": {\"color\": \"white\"}}, \"header\": {\"fill\": {\"color\": \"#C8D4E3\"}, \"line\": {\"color\": \"white\"}}, \"type\": \"table\"}]}, \"layout\": {\"annotationdefaults\": {\"arrowcolor\": \"#2a3f5f\", \"arrowhead\": 0, \"arrowwidth\": 1}, \"autotypenumbers\": \"strict\", \"coloraxis\": {\"colorbar\": {\"outlinewidth\": 0, \"ticks\": \"\"}}, \"colorscale\": {\"diverging\": [[0, \"#8e0152\"], [0.1, \"#c51b7d\"], [0.2, \"#de77ae\"], [0.3, \"#f1b6da\"], [0.4, \"#fde0ef\"], [0.5, \"#f7f7f7\"], [0.6, \"#e6f5d0\"], [0.7, \"#b8e186\"], [0.8, \"#7fbc41\"], [0.9, \"#4d9221\"], [1, \"#276419\"]], \"sequential\": [[0.0, \"#0d0887\"], [0.1111111111111111, \"#46039f\"], [0.2222222222222222, \"#7201a8\"], [0.3333333333333333, \"#9c179e\"], [0.4444444444444444, \"#bd3786\"], [0.5555555555555556, \"#d8576b\"], [0.6666666666666666, \"#ed7953\"], [0.7777777777777778, \"#fb9f3a\"], [0.8888888888888888, \"#fdca26\"], [1.0, \"#f0f921\"]], \"sequentialminus\": [[0.0, \"#0d0887\"], [0.1111111111111111, \"#46039f\"], [0.2222222222222222, \"#7201a8\"], [0.3333333333333333, \"#9c179e\"], [0.4444444444444444, \"#bd3786\"], [0.5555555555555556, \"#d8576b\"], [0.6666666666666666, \"#ed7953\"], [0.7777777777777778, \"#fb9f3a\"], [0.8888888888888888, \"#fdca26\"], [1.0, \"#f0f921\"]]}, \"colorway\": [\"#636efa\", \"#EF553B\", \"#00cc96\", \"#ab63fa\", \"#FFA15A\", \"#19d3f3\", \"#FF6692\", \"#B6E880\", \"#FF97FF\", \"#FECB52\"], \"font\": {\"color\": \"#2a3f5f\"}, \"geo\": {\"bgcolor\": \"white\", \"lakecolor\": \"white\", \"landcolor\": \"#E5ECF6\", \"showlakes\": true, \"showland\": true, \"subunitcolor\": \"white\"}, \"hoverlabel\": {\"align\": \"left\"}, \"hovermode\": \"closest\", \"mapbox\": {\"style\": \"light\"}, \"paper_bgcolor\": \"white\", \"plot_bgcolor\": \"#E5ECF6\", \"polar\": {\"angularaxis\": {\"gridcolor\": \"white\", \"linecolor\": \"white\", \"ticks\": \"\"}, \"bgcolor\": \"#E5ECF6\", \"radialaxis\": {\"gridcolor\": \"white\", \"linecolor\": \"white\", \"ticks\": \"\"}}, \"scene\": {\"xaxis\": {\"backgroundcolor\": \"#E5ECF6\", \"gridcolor\": \"white\", \"gridwidth\": 2, \"linecolor\": \"white\", \"showbackground\": true, \"ticks\": \"\", \"zerolinecolor\": \"white\"}, \"yaxis\": {\"backgroundcolor\": \"#E5ECF6\", \"gridcolor\": \"white\", \"gridwidth\": 2, \"linecolor\": \"white\", \"showbackground\": true, \"ticks\": \"\", \"zerolinecolor\": \"white\"}, \"zaxis\": {\"backgroundcolor\": \"#E5ECF6\", \"gridcolor\": \"white\", \"gridwidth\": 2, \"linecolor\": \"white\", \"showbackground\": true, \"ticks\": \"\", \"zerolinecolor\": \"white\"}}, \"shapedefaults\": {\"line\": {\"color\": \"#2a3f5f\"}}, \"ternary\": {\"aaxis\": {\"gridcolor\": \"white\", \"linecolor\": \"white\", \"ticks\": \"\"}, \"baxis\": {\"gridcolor\": \"white\", \"linecolor\": \"white\", \"ticks\": \"\"}, \"bgcolor\": \"#E5ECF6\", \"caxis\": {\"gridcolor\": \"white\", \"linecolor\": \"white\", \"ticks\": \"\"}}, \"title\": {\"x\": 0.05}, \"xaxis\": {\"automargin\": true, \"gridcolor\": \"white\", \"linecolor\": \"white\", \"ticks\": \"\", \"title\": {\"standoff\": 15}, \"zerolinecolor\": \"white\", \"zerolinewidth\": 2}, \"yaxis\": {\"automargin\": true, \"gridcolor\": \"white\", \"linecolor\": \"white\", \"ticks\": \"\", \"title\": {\"standoff\": 15}, \"zerolinecolor\": \"white\", \"zerolinewidth\": 2}}}},                        {\"responsive\": true}                    ).then(function(){\n",
       "                            \n",
       "var gd = document.getElementById('bc302f04-ecf2-4414-a12f-5a566289ef6a');\n",
       "var x = new MutationObserver(function (mutations, observer) {{\n",
       "        var display = window.getComputedStyle(gd).display;\n",
       "        if (!display || display === 'none') {{\n",
       "            console.log([gd, 'removed!']);\n",
       "            Plotly.purge(gd);\n",
       "            observer.disconnect();\n",
       "        }}\n",
       "}});\n",
       "\n",
       "// Listen for the removal of the full notebook cells\n",
       "var notebookContainer = gd.closest('#notebook-container');\n",
       "if (notebookContainer) {{\n",
       "    x.observe(notebookContainer, {childList: true});\n",
       "}}\n",
       "\n",
       "// Listen for the clearing of the current output cell\n",
       "var outputEl = gd.closest('.output');\n",
       "if (outputEl) {{\n",
       "    x.observe(outputEl, {childList: true});\n",
       "}}\n",
       "\n",
       "                        })                };                });            </script>        </div>"
      ]
     },
     "metadata": {},
     "output_type": "display_data"
    }
   ],
   "source": [
    "x, y = transpose_list_of_tuples(posts_by_month)\n",
    "data = [go.Bar(x=x, y=y)]\n",
    "plotly.offline.iplot(data, filename='post-frequency')"
   ]
  },
  {
   "cell_type": "markdown",
   "metadata": {},
   "source": [
    "https://plot.ly/create/?fid=bbelderbos:5"
   ]
  },
  {
   "cell_type": "markdown",
   "metadata": {},
   "source": [
    "<img src=\"images/plot1.png\">"
   ]
  },
  {
   "cell_type": "markdown",
   "metadata": {},
   "source": [
    "> In __Jan 2017__ we were most active (well ... that is in # posts, __Jan 2018__ is no less packed!) "
   ]
  },
  {
   "cell_type": "code",
   "execution_count": 16,
   "metadata": {},
   "outputs": [
    {
     "data": {
      "application/vnd.plotly.v1+json": {
       "config": {
        "linkText": "Export to plot.ly",
        "plotlyServerURL": "https://plot.ly",
        "showLink": false
       },
       "data": [
        {
         "labels": [
          "article"
         ],
         "type": "pie",
         "values": [
          393
         ]
        }
       ],
       "layout": {
        "template": {
         "data": {
          "bar": [
           {
            "error_x": {
             "color": "#2a3f5f"
            },
            "error_y": {
             "color": "#2a3f5f"
            },
            "marker": {
             "line": {
              "color": "#E5ECF6",
              "width": 0.5
             }
            },
            "type": "bar"
           }
          ],
          "barpolar": [
           {
            "marker": {
             "line": {
              "color": "#E5ECF6",
              "width": 0.5
             }
            },
            "type": "barpolar"
           }
          ],
          "carpet": [
           {
            "aaxis": {
             "endlinecolor": "#2a3f5f",
             "gridcolor": "white",
             "linecolor": "white",
             "minorgridcolor": "white",
             "startlinecolor": "#2a3f5f"
            },
            "baxis": {
             "endlinecolor": "#2a3f5f",
             "gridcolor": "white",
             "linecolor": "white",
             "minorgridcolor": "white",
             "startlinecolor": "#2a3f5f"
            },
            "type": "carpet"
           }
          ],
          "choropleth": [
           {
            "colorbar": {
             "outlinewidth": 0,
             "ticks": ""
            },
            "type": "choropleth"
           }
          ],
          "contour": [
           {
            "colorbar": {
             "outlinewidth": 0,
             "ticks": ""
            },
            "colorscale": [
             [
              0,
              "#0d0887"
             ],
             [
              0.1111111111111111,
              "#46039f"
             ],
             [
              0.2222222222222222,
              "#7201a8"
             ],
             [
              0.3333333333333333,
              "#9c179e"
             ],
             [
              0.4444444444444444,
              "#bd3786"
             ],
             [
              0.5555555555555556,
              "#d8576b"
             ],
             [
              0.6666666666666666,
              "#ed7953"
             ],
             [
              0.7777777777777778,
              "#fb9f3a"
             ],
             [
              0.8888888888888888,
              "#fdca26"
             ],
             [
              1,
              "#f0f921"
             ]
            ],
            "type": "contour"
           }
          ],
          "contourcarpet": [
           {
            "colorbar": {
             "outlinewidth": 0,
             "ticks": ""
            },
            "type": "contourcarpet"
           }
          ],
          "heatmap": [
           {
            "colorbar": {
             "outlinewidth": 0,
             "ticks": ""
            },
            "colorscale": [
             [
              0,
              "#0d0887"
             ],
             [
              0.1111111111111111,
              "#46039f"
             ],
             [
              0.2222222222222222,
              "#7201a8"
             ],
             [
              0.3333333333333333,
              "#9c179e"
             ],
             [
              0.4444444444444444,
              "#bd3786"
             ],
             [
              0.5555555555555556,
              "#d8576b"
             ],
             [
              0.6666666666666666,
              "#ed7953"
             ],
             [
              0.7777777777777778,
              "#fb9f3a"
             ],
             [
              0.8888888888888888,
              "#fdca26"
             ],
             [
              1,
              "#f0f921"
             ]
            ],
            "type": "heatmap"
           }
          ],
          "heatmapgl": [
           {
            "colorbar": {
             "outlinewidth": 0,
             "ticks": ""
            },
            "colorscale": [
             [
              0,
              "#0d0887"
             ],
             [
              0.1111111111111111,
              "#46039f"
             ],
             [
              0.2222222222222222,
              "#7201a8"
             ],
             [
              0.3333333333333333,
              "#9c179e"
             ],
             [
              0.4444444444444444,
              "#bd3786"
             ],
             [
              0.5555555555555556,
              "#d8576b"
             ],
             [
              0.6666666666666666,
              "#ed7953"
             ],
             [
              0.7777777777777778,
              "#fb9f3a"
             ],
             [
              0.8888888888888888,
              "#fdca26"
             ],
             [
              1,
              "#f0f921"
             ]
            ],
            "type": "heatmapgl"
           }
          ],
          "histogram": [
           {
            "marker": {
             "colorbar": {
              "outlinewidth": 0,
              "ticks": ""
             }
            },
            "type": "histogram"
           }
          ],
          "histogram2d": [
           {
            "colorbar": {
             "outlinewidth": 0,
             "ticks": ""
            },
            "colorscale": [
             [
              0,
              "#0d0887"
             ],
             [
              0.1111111111111111,
              "#46039f"
             ],
             [
              0.2222222222222222,
              "#7201a8"
             ],
             [
              0.3333333333333333,
              "#9c179e"
             ],
             [
              0.4444444444444444,
              "#bd3786"
             ],
             [
              0.5555555555555556,
              "#d8576b"
             ],
             [
              0.6666666666666666,
              "#ed7953"
             ],
             [
              0.7777777777777778,
              "#fb9f3a"
             ],
             [
              0.8888888888888888,
              "#fdca26"
             ],
             [
              1,
              "#f0f921"
             ]
            ],
            "type": "histogram2d"
           }
          ],
          "histogram2dcontour": [
           {
            "colorbar": {
             "outlinewidth": 0,
             "ticks": ""
            },
            "colorscale": [
             [
              0,
              "#0d0887"
             ],
             [
              0.1111111111111111,
              "#46039f"
             ],
             [
              0.2222222222222222,
              "#7201a8"
             ],
             [
              0.3333333333333333,
              "#9c179e"
             ],
             [
              0.4444444444444444,
              "#bd3786"
             ],
             [
              0.5555555555555556,
              "#d8576b"
             ],
             [
              0.6666666666666666,
              "#ed7953"
             ],
             [
              0.7777777777777778,
              "#fb9f3a"
             ],
             [
              0.8888888888888888,
              "#fdca26"
             ],
             [
              1,
              "#f0f921"
             ]
            ],
            "type": "histogram2dcontour"
           }
          ],
          "mesh3d": [
           {
            "colorbar": {
             "outlinewidth": 0,
             "ticks": ""
            },
            "type": "mesh3d"
           }
          ],
          "parcoords": [
           {
            "line": {
             "colorbar": {
              "outlinewidth": 0,
              "ticks": ""
             }
            },
            "type": "parcoords"
           }
          ],
          "pie": [
           {
            "automargin": true,
            "type": "pie"
           }
          ],
          "scatter": [
           {
            "marker": {
             "colorbar": {
              "outlinewidth": 0,
              "ticks": ""
             }
            },
            "type": "scatter"
           }
          ],
          "scatter3d": [
           {
            "line": {
             "colorbar": {
              "outlinewidth": 0,
              "ticks": ""
             }
            },
            "marker": {
             "colorbar": {
              "outlinewidth": 0,
              "ticks": ""
             }
            },
            "type": "scatter3d"
           }
          ],
          "scattercarpet": [
           {
            "marker": {
             "colorbar": {
              "outlinewidth": 0,
              "ticks": ""
             }
            },
            "type": "scattercarpet"
           }
          ],
          "scattergeo": [
           {
            "marker": {
             "colorbar": {
              "outlinewidth": 0,
              "ticks": ""
             }
            },
            "type": "scattergeo"
           }
          ],
          "scattergl": [
           {
            "marker": {
             "colorbar": {
              "outlinewidth": 0,
              "ticks": ""
             }
            },
            "type": "scattergl"
           }
          ],
          "scattermapbox": [
           {
            "marker": {
             "colorbar": {
              "outlinewidth": 0,
              "ticks": ""
             }
            },
            "type": "scattermapbox"
           }
          ],
          "scatterpolar": [
           {
            "marker": {
             "colorbar": {
              "outlinewidth": 0,
              "ticks": ""
             }
            },
            "type": "scatterpolar"
           }
          ],
          "scatterpolargl": [
           {
            "marker": {
             "colorbar": {
              "outlinewidth": 0,
              "ticks": ""
             }
            },
            "type": "scatterpolargl"
           }
          ],
          "scatterternary": [
           {
            "marker": {
             "colorbar": {
              "outlinewidth": 0,
              "ticks": ""
             }
            },
            "type": "scatterternary"
           }
          ],
          "surface": [
           {
            "colorbar": {
             "outlinewidth": 0,
             "ticks": ""
            },
            "colorscale": [
             [
              0,
              "#0d0887"
             ],
             [
              0.1111111111111111,
              "#46039f"
             ],
             [
              0.2222222222222222,
              "#7201a8"
             ],
             [
              0.3333333333333333,
              "#9c179e"
             ],
             [
              0.4444444444444444,
              "#bd3786"
             ],
             [
              0.5555555555555556,
              "#d8576b"
             ],
             [
              0.6666666666666666,
              "#ed7953"
             ],
             [
              0.7777777777777778,
              "#fb9f3a"
             ],
             [
              0.8888888888888888,
              "#fdca26"
             ],
             [
              1,
              "#f0f921"
             ]
            ],
            "type": "surface"
           }
          ],
          "table": [
           {
            "cells": {
             "fill": {
              "color": "#EBF0F8"
             },
             "line": {
              "color": "white"
             }
            },
            "header": {
             "fill": {
              "color": "#C8D4E3"
             },
             "line": {
              "color": "white"
             }
            },
            "type": "table"
           }
          ]
         },
         "layout": {
          "annotationdefaults": {
           "arrowcolor": "#2a3f5f",
           "arrowhead": 0,
           "arrowwidth": 1
          },
          "autotypenumbers": "strict",
          "coloraxis": {
           "colorbar": {
            "outlinewidth": 0,
            "ticks": ""
           }
          },
          "colorscale": {
           "diverging": [
            [
             0,
             "#8e0152"
            ],
            [
             0.1,
             "#c51b7d"
            ],
            [
             0.2,
             "#de77ae"
            ],
            [
             0.3,
             "#f1b6da"
            ],
            [
             0.4,
             "#fde0ef"
            ],
            [
             0.5,
             "#f7f7f7"
            ],
            [
             0.6,
             "#e6f5d0"
            ],
            [
             0.7,
             "#b8e186"
            ],
            [
             0.8,
             "#7fbc41"
            ],
            [
             0.9,
             "#4d9221"
            ],
            [
             1,
             "#276419"
            ]
           ],
           "sequential": [
            [
             0,
             "#0d0887"
            ],
            [
             0.1111111111111111,
             "#46039f"
            ],
            [
             0.2222222222222222,
             "#7201a8"
            ],
            [
             0.3333333333333333,
             "#9c179e"
            ],
            [
             0.4444444444444444,
             "#bd3786"
            ],
            [
             0.5555555555555556,
             "#d8576b"
            ],
            [
             0.6666666666666666,
             "#ed7953"
            ],
            [
             0.7777777777777778,
             "#fb9f3a"
            ],
            [
             0.8888888888888888,
             "#fdca26"
            ],
            [
             1,
             "#f0f921"
            ]
           ],
           "sequentialminus": [
            [
             0,
             "#0d0887"
            ],
            [
             0.1111111111111111,
             "#46039f"
            ],
            [
             0.2222222222222222,
             "#7201a8"
            ],
            [
             0.3333333333333333,
             "#9c179e"
            ],
            [
             0.4444444444444444,
             "#bd3786"
            ],
            [
             0.5555555555555556,
             "#d8576b"
            ],
            [
             0.6666666666666666,
             "#ed7953"
            ],
            [
             0.7777777777777778,
             "#fb9f3a"
            ],
            [
             0.8888888888888888,
             "#fdca26"
            ],
            [
             1,
             "#f0f921"
            ]
           ]
          },
          "colorway": [
           "#636efa",
           "#EF553B",
           "#00cc96",
           "#ab63fa",
           "#FFA15A",
           "#19d3f3",
           "#FF6692",
           "#B6E880",
           "#FF97FF",
           "#FECB52"
          ],
          "font": {
           "color": "#2a3f5f"
          },
          "geo": {
           "bgcolor": "white",
           "lakecolor": "white",
           "landcolor": "#E5ECF6",
           "showlakes": true,
           "showland": true,
           "subunitcolor": "white"
          },
          "hoverlabel": {
           "align": "left"
          },
          "hovermode": "closest",
          "mapbox": {
           "style": "light"
          },
          "paper_bgcolor": "white",
          "plot_bgcolor": "#E5ECF6",
          "polar": {
           "angularaxis": {
            "gridcolor": "white",
            "linecolor": "white",
            "ticks": ""
           },
           "bgcolor": "#E5ECF6",
           "radialaxis": {
            "gridcolor": "white",
            "linecolor": "white",
            "ticks": ""
           }
          },
          "scene": {
           "xaxis": {
            "backgroundcolor": "#E5ECF6",
            "gridcolor": "white",
            "gridwidth": 2,
            "linecolor": "white",
            "showbackground": true,
            "ticks": "",
            "zerolinecolor": "white"
           },
           "yaxis": {
            "backgroundcolor": "#E5ECF6",
            "gridcolor": "white",
            "gridwidth": 2,
            "linecolor": "white",
            "showbackground": true,
            "ticks": "",
            "zerolinecolor": "white"
           },
           "zaxis": {
            "backgroundcolor": "#E5ECF6",
            "gridcolor": "white",
            "gridwidth": 2,
            "linecolor": "white",
            "showbackground": true,
            "ticks": "",
            "zerolinecolor": "white"
           }
          },
          "shapedefaults": {
           "line": {
            "color": "#2a3f5f"
           }
          },
          "ternary": {
           "aaxis": {
            "gridcolor": "white",
            "linecolor": "white",
            "ticks": ""
           },
           "baxis": {
            "gridcolor": "white",
            "linecolor": "white",
            "ticks": ""
           },
           "bgcolor": "#E5ECF6",
           "caxis": {
            "gridcolor": "white",
            "linecolor": "white",
            "ticks": ""
           }
          },
          "title": {
           "x": 0.05
          },
          "xaxis": {
           "automargin": true,
           "gridcolor": "white",
           "linecolor": "white",
           "ticks": "",
           "title": {
            "standoff": 15
           },
           "zerolinecolor": "white",
           "zerolinewidth": 2
          },
          "yaxis": {
           "automargin": true,
           "gridcolor": "white",
           "linecolor": "white",
           "ticks": "",
           "title": {
            "standoff": 15
           },
           "zerolinecolor": "white",
           "zerolinewidth": 2
          }
         }
        }
       }
      },
      "text/html": [
       "<div>                            <div id=\"5ae69e29-9935-49a8-9f65-091f26e0177a\" class=\"plotly-graph-div\" style=\"height:525px; width:100%;\"></div>            <script type=\"text/javascript\">                require([\"plotly\"], function(Plotly) {                    window.PLOTLYENV=window.PLOTLYENV || {};                                    if (document.getElementById(\"5ae69e29-9935-49a8-9f65-091f26e0177a\")) {                    Plotly.newPlot(                        \"5ae69e29-9935-49a8-9f65-091f26e0177a\",                        [{\"labels\": [\"article\"], \"type\": \"pie\", \"values\": [393]}],                        {\"template\": {\"data\": {\"bar\": [{\"error_x\": {\"color\": \"#2a3f5f\"}, \"error_y\": {\"color\": \"#2a3f5f\"}, \"marker\": {\"line\": {\"color\": \"#E5ECF6\", \"width\": 0.5}}, \"type\": \"bar\"}], \"barpolar\": [{\"marker\": {\"line\": {\"color\": \"#E5ECF6\", \"width\": 0.5}}, \"type\": \"barpolar\"}], \"carpet\": [{\"aaxis\": {\"endlinecolor\": \"#2a3f5f\", \"gridcolor\": \"white\", \"linecolor\": \"white\", \"minorgridcolor\": \"white\", \"startlinecolor\": \"#2a3f5f\"}, \"baxis\": {\"endlinecolor\": \"#2a3f5f\", \"gridcolor\": \"white\", \"linecolor\": \"white\", \"minorgridcolor\": \"white\", \"startlinecolor\": \"#2a3f5f\"}, \"type\": \"carpet\"}], \"choropleth\": [{\"colorbar\": {\"outlinewidth\": 0, \"ticks\": \"\"}, \"type\": \"choropleth\"}], \"contour\": [{\"colorbar\": {\"outlinewidth\": 0, \"ticks\": \"\"}, \"colorscale\": [[0.0, \"#0d0887\"], [0.1111111111111111, \"#46039f\"], [0.2222222222222222, \"#7201a8\"], [0.3333333333333333, \"#9c179e\"], [0.4444444444444444, \"#bd3786\"], [0.5555555555555556, \"#d8576b\"], [0.6666666666666666, \"#ed7953\"], [0.7777777777777778, \"#fb9f3a\"], [0.8888888888888888, \"#fdca26\"], [1.0, \"#f0f921\"]], \"type\": \"contour\"}], \"contourcarpet\": [{\"colorbar\": {\"outlinewidth\": 0, \"ticks\": \"\"}, \"type\": \"contourcarpet\"}], \"heatmap\": [{\"colorbar\": {\"outlinewidth\": 0, \"ticks\": \"\"}, \"colorscale\": [[0.0, \"#0d0887\"], [0.1111111111111111, \"#46039f\"], [0.2222222222222222, \"#7201a8\"], [0.3333333333333333, \"#9c179e\"], [0.4444444444444444, \"#bd3786\"], [0.5555555555555556, \"#d8576b\"], [0.6666666666666666, \"#ed7953\"], [0.7777777777777778, \"#fb9f3a\"], [0.8888888888888888, \"#fdca26\"], [1.0, \"#f0f921\"]], \"type\": \"heatmap\"}], \"heatmapgl\": [{\"colorbar\": {\"outlinewidth\": 0, \"ticks\": \"\"}, \"colorscale\": [[0.0, \"#0d0887\"], [0.1111111111111111, \"#46039f\"], [0.2222222222222222, \"#7201a8\"], [0.3333333333333333, \"#9c179e\"], [0.4444444444444444, \"#bd3786\"], [0.5555555555555556, \"#d8576b\"], [0.6666666666666666, \"#ed7953\"], [0.7777777777777778, \"#fb9f3a\"], [0.8888888888888888, \"#fdca26\"], [1.0, \"#f0f921\"]], \"type\": \"heatmapgl\"}], \"histogram\": [{\"marker\": {\"colorbar\": {\"outlinewidth\": 0, \"ticks\": \"\"}}, \"type\": \"histogram\"}], \"histogram2d\": [{\"colorbar\": {\"outlinewidth\": 0, \"ticks\": \"\"}, \"colorscale\": [[0.0, \"#0d0887\"], [0.1111111111111111, \"#46039f\"], [0.2222222222222222, \"#7201a8\"], [0.3333333333333333, \"#9c179e\"], [0.4444444444444444, \"#bd3786\"], [0.5555555555555556, \"#d8576b\"], [0.6666666666666666, \"#ed7953\"], [0.7777777777777778, \"#fb9f3a\"], [0.8888888888888888, \"#fdca26\"], [1.0, \"#f0f921\"]], \"type\": \"histogram2d\"}], \"histogram2dcontour\": [{\"colorbar\": {\"outlinewidth\": 0, \"ticks\": \"\"}, \"colorscale\": [[0.0, \"#0d0887\"], [0.1111111111111111, \"#46039f\"], [0.2222222222222222, \"#7201a8\"], [0.3333333333333333, \"#9c179e\"], [0.4444444444444444, \"#bd3786\"], [0.5555555555555556, \"#d8576b\"], [0.6666666666666666, \"#ed7953\"], [0.7777777777777778, \"#fb9f3a\"], [0.8888888888888888, \"#fdca26\"], [1.0, \"#f0f921\"]], \"type\": \"histogram2dcontour\"}], \"mesh3d\": [{\"colorbar\": {\"outlinewidth\": 0, \"ticks\": \"\"}, \"type\": \"mesh3d\"}], \"parcoords\": [{\"line\": {\"colorbar\": {\"outlinewidth\": 0, \"ticks\": \"\"}}, \"type\": \"parcoords\"}], \"pie\": [{\"automargin\": true, \"type\": \"pie\"}], \"scatter\": [{\"marker\": {\"colorbar\": {\"outlinewidth\": 0, \"ticks\": \"\"}}, \"type\": \"scatter\"}], \"scatter3d\": [{\"line\": {\"colorbar\": {\"outlinewidth\": 0, \"ticks\": \"\"}}, \"marker\": {\"colorbar\": {\"outlinewidth\": 0, \"ticks\": \"\"}}, \"type\": \"scatter3d\"}], \"scattercarpet\": [{\"marker\": {\"colorbar\": {\"outlinewidth\": 0, \"ticks\": \"\"}}, \"type\": \"scattercarpet\"}], \"scattergeo\": [{\"marker\": {\"colorbar\": {\"outlinewidth\": 0, \"ticks\": \"\"}}, \"type\": \"scattergeo\"}], \"scattergl\": [{\"marker\": {\"colorbar\": {\"outlinewidth\": 0, \"ticks\": \"\"}}, \"type\": \"scattergl\"}], \"scattermapbox\": [{\"marker\": {\"colorbar\": {\"outlinewidth\": 0, \"ticks\": \"\"}}, \"type\": \"scattermapbox\"}], \"scatterpolar\": [{\"marker\": {\"colorbar\": {\"outlinewidth\": 0, \"ticks\": \"\"}}, \"type\": \"scatterpolar\"}], \"scatterpolargl\": [{\"marker\": {\"colorbar\": {\"outlinewidth\": 0, \"ticks\": \"\"}}, \"type\": \"scatterpolargl\"}], \"scatterternary\": [{\"marker\": {\"colorbar\": {\"outlinewidth\": 0, \"ticks\": \"\"}}, \"type\": \"scatterternary\"}], \"surface\": [{\"colorbar\": {\"outlinewidth\": 0, \"ticks\": \"\"}, \"colorscale\": [[0.0, \"#0d0887\"], [0.1111111111111111, \"#46039f\"], [0.2222222222222222, \"#7201a8\"], [0.3333333333333333, \"#9c179e\"], [0.4444444444444444, \"#bd3786\"], [0.5555555555555556, \"#d8576b\"], [0.6666666666666666, \"#ed7953\"], [0.7777777777777778, \"#fb9f3a\"], [0.8888888888888888, \"#fdca26\"], [1.0, \"#f0f921\"]], \"type\": \"surface\"}], \"table\": [{\"cells\": {\"fill\": {\"color\": \"#EBF0F8\"}, \"line\": {\"color\": \"white\"}}, \"header\": {\"fill\": {\"color\": \"#C8D4E3\"}, \"line\": {\"color\": \"white\"}}, \"type\": \"table\"}]}, \"layout\": {\"annotationdefaults\": {\"arrowcolor\": \"#2a3f5f\", \"arrowhead\": 0, \"arrowwidth\": 1}, \"autotypenumbers\": \"strict\", \"coloraxis\": {\"colorbar\": {\"outlinewidth\": 0, \"ticks\": \"\"}}, \"colorscale\": {\"diverging\": [[0, \"#8e0152\"], [0.1, \"#c51b7d\"], [0.2, \"#de77ae\"], [0.3, \"#f1b6da\"], [0.4, \"#fde0ef\"], [0.5, \"#f7f7f7\"], [0.6, \"#e6f5d0\"], [0.7, \"#b8e186\"], [0.8, \"#7fbc41\"], [0.9, \"#4d9221\"], [1, \"#276419\"]], \"sequential\": [[0.0, \"#0d0887\"], [0.1111111111111111, \"#46039f\"], [0.2222222222222222, \"#7201a8\"], [0.3333333333333333, \"#9c179e\"], [0.4444444444444444, \"#bd3786\"], [0.5555555555555556, \"#d8576b\"], [0.6666666666666666, \"#ed7953\"], [0.7777777777777778, \"#fb9f3a\"], [0.8888888888888888, \"#fdca26\"], [1.0, \"#f0f921\"]], \"sequentialminus\": [[0.0, \"#0d0887\"], [0.1111111111111111, \"#46039f\"], [0.2222222222222222, \"#7201a8\"], [0.3333333333333333, \"#9c179e\"], [0.4444444444444444, \"#bd3786\"], [0.5555555555555556, \"#d8576b\"], [0.6666666666666666, \"#ed7953\"], [0.7777777777777778, \"#fb9f3a\"], [0.8888888888888888, \"#fdca26\"], [1.0, \"#f0f921\"]]}, \"colorway\": [\"#636efa\", \"#EF553B\", \"#00cc96\", \"#ab63fa\", \"#FFA15A\", \"#19d3f3\", \"#FF6692\", \"#B6E880\", \"#FF97FF\", \"#FECB52\"], \"font\": {\"color\": \"#2a3f5f\"}, \"geo\": {\"bgcolor\": \"white\", \"lakecolor\": \"white\", \"landcolor\": \"#E5ECF6\", \"showlakes\": true, \"showland\": true, \"subunitcolor\": \"white\"}, \"hoverlabel\": {\"align\": \"left\"}, \"hovermode\": \"closest\", \"mapbox\": {\"style\": \"light\"}, \"paper_bgcolor\": \"white\", \"plot_bgcolor\": \"#E5ECF6\", \"polar\": {\"angularaxis\": {\"gridcolor\": \"white\", \"linecolor\": \"white\", \"ticks\": \"\"}, \"bgcolor\": \"#E5ECF6\", \"radialaxis\": {\"gridcolor\": \"white\", \"linecolor\": \"white\", \"ticks\": \"\"}}, \"scene\": {\"xaxis\": {\"backgroundcolor\": \"#E5ECF6\", \"gridcolor\": \"white\", \"gridwidth\": 2, \"linecolor\": \"white\", \"showbackground\": true, \"ticks\": \"\", \"zerolinecolor\": \"white\"}, \"yaxis\": {\"backgroundcolor\": \"#E5ECF6\", \"gridcolor\": \"white\", \"gridwidth\": 2, \"linecolor\": \"white\", \"showbackground\": true, \"ticks\": \"\", \"zerolinecolor\": \"white\"}, \"zaxis\": {\"backgroundcolor\": \"#E5ECF6\", \"gridcolor\": \"white\", \"gridwidth\": 2, \"linecolor\": \"white\", \"showbackground\": true, \"ticks\": \"\", \"zerolinecolor\": \"white\"}}, \"shapedefaults\": {\"line\": {\"color\": \"#2a3f5f\"}}, \"ternary\": {\"aaxis\": {\"gridcolor\": \"white\", \"linecolor\": \"white\", \"ticks\": \"\"}, \"baxis\": {\"gridcolor\": \"white\", \"linecolor\": \"white\", \"ticks\": \"\"}, \"bgcolor\": \"#E5ECF6\", \"caxis\": {\"gridcolor\": \"white\", \"linecolor\": \"white\", \"ticks\": \"\"}}, \"title\": {\"x\": 0.05}, \"xaxis\": {\"automargin\": true, \"gridcolor\": \"white\", \"linecolor\": \"white\", \"ticks\": \"\", \"title\": {\"standoff\": 15}, \"zerolinecolor\": \"white\", \"zerolinewidth\": 2}, \"yaxis\": {\"automargin\": true, \"gridcolor\": \"white\", \"linecolor\": \"white\", \"ticks\": \"\", \"title\": {\"standoff\": 15}, \"zerolinecolor\": \"white\", \"zerolinewidth\": 2}}}},                        {\"responsive\": true}                    ).then(function(){\n",
       "                            \n",
       "var gd = document.getElementById('5ae69e29-9935-49a8-9f65-091f26e0177a');\n",
       "var x = new MutationObserver(function (mutations, observer) {{\n",
       "        var display = window.getComputedStyle(gd).display;\n",
       "        if (!display || display === 'none') {{\n",
       "            console.log([gd, 'removed!']);\n",
       "            Plotly.purge(gd);\n",
       "            observer.disconnect();\n",
       "        }}\n",
       "}});\n",
       "\n",
       "// Listen for the removal of the full notebook cells\n",
       "var notebookContainer = gd.closest('#notebook-container');\n",
       "if (notebookContainer) {{\n",
       "    x.observe(notebookContainer, {childList: true});\n",
       "}}\n",
       "\n",
       "// Listen for the clearing of the current output cell\n",
       "var outputEl = gd.closest('.output');\n",
       "if (outputEl) {{\n",
       "    x.observe(outputEl, {childList: true});\n",
       "}}\n",
       "\n",
       "                        })                };                });            </script>        </div>"
      ]
     },
     "metadata": {},
     "output_type": "display_data"
    }
   ],
   "source": [
    "x, y = transpose_list_of_tuples(top_category)\n",
    "pie = [go.Pie(labels = x, values = y)]\n",
    "plotly.offline.iplot(pie, filename = 'categories per tag')"
   ]
  },
  {
   "cell_type": "code",
   "execution_count": 17,
   "metadata": {},
   "outputs": [
    {
     "data": {
      "application/vnd.plotly.v1+json": {
       "config": {
        "linkText": "Export to plot.ly",
        "plotlyServerURL": "https://plot.ly",
        "showLink": false
       },
       "data": [
        {
         "labels": [
          "challenge",
          "article",
          "news",
          "special",
          "guest"
         ],
         "type": "pie",
         "values": [
          89,
          89,
          55,
          5,
          5
         ]
        }
       ],
       "layout": {
        "template": {
         "data": {
          "bar": [
           {
            "error_x": {
             "color": "#2a3f5f"
            },
            "error_y": {
             "color": "#2a3f5f"
            },
            "marker": {
             "line": {
              "color": "#E5ECF6",
              "width": 0.5
             }
            },
            "type": "bar"
           }
          ],
          "barpolar": [
           {
            "marker": {
             "line": {
              "color": "#E5ECF6",
              "width": 0.5
             }
            },
            "type": "barpolar"
           }
          ],
          "carpet": [
           {
            "aaxis": {
             "endlinecolor": "#2a3f5f",
             "gridcolor": "white",
             "linecolor": "white",
             "minorgridcolor": "white",
             "startlinecolor": "#2a3f5f"
            },
            "baxis": {
             "endlinecolor": "#2a3f5f",
             "gridcolor": "white",
             "linecolor": "white",
             "minorgridcolor": "white",
             "startlinecolor": "#2a3f5f"
            },
            "type": "carpet"
           }
          ],
          "choropleth": [
           {
            "colorbar": {
             "outlinewidth": 0,
             "ticks": ""
            },
            "type": "choropleth"
           }
          ],
          "contour": [
           {
            "colorbar": {
             "outlinewidth": 0,
             "ticks": ""
            },
            "colorscale": [
             [
              0,
              "#0d0887"
             ],
             [
              0.1111111111111111,
              "#46039f"
             ],
             [
              0.2222222222222222,
              "#7201a8"
             ],
             [
              0.3333333333333333,
              "#9c179e"
             ],
             [
              0.4444444444444444,
              "#bd3786"
             ],
             [
              0.5555555555555556,
              "#d8576b"
             ],
             [
              0.6666666666666666,
              "#ed7953"
             ],
             [
              0.7777777777777778,
              "#fb9f3a"
             ],
             [
              0.8888888888888888,
              "#fdca26"
             ],
             [
              1,
              "#f0f921"
             ]
            ],
            "type": "contour"
           }
          ],
          "contourcarpet": [
           {
            "colorbar": {
             "outlinewidth": 0,
             "ticks": ""
            },
            "type": "contourcarpet"
           }
          ],
          "heatmap": [
           {
            "colorbar": {
             "outlinewidth": 0,
             "ticks": ""
            },
            "colorscale": [
             [
              0,
              "#0d0887"
             ],
             [
              0.1111111111111111,
              "#46039f"
             ],
             [
              0.2222222222222222,
              "#7201a8"
             ],
             [
              0.3333333333333333,
              "#9c179e"
             ],
             [
              0.4444444444444444,
              "#bd3786"
             ],
             [
              0.5555555555555556,
              "#d8576b"
             ],
             [
              0.6666666666666666,
              "#ed7953"
             ],
             [
              0.7777777777777778,
              "#fb9f3a"
             ],
             [
              0.8888888888888888,
              "#fdca26"
             ],
             [
              1,
              "#f0f921"
             ]
            ],
            "type": "heatmap"
           }
          ],
          "heatmapgl": [
           {
            "colorbar": {
             "outlinewidth": 0,
             "ticks": ""
            },
            "colorscale": [
             [
              0,
              "#0d0887"
             ],
             [
              0.1111111111111111,
              "#46039f"
             ],
             [
              0.2222222222222222,
              "#7201a8"
             ],
             [
              0.3333333333333333,
              "#9c179e"
             ],
             [
              0.4444444444444444,
              "#bd3786"
             ],
             [
              0.5555555555555556,
              "#d8576b"
             ],
             [
              0.6666666666666666,
              "#ed7953"
             ],
             [
              0.7777777777777778,
              "#fb9f3a"
             ],
             [
              0.8888888888888888,
              "#fdca26"
             ],
             [
              1,
              "#f0f921"
             ]
            ],
            "type": "heatmapgl"
           }
          ],
          "histogram": [
           {
            "marker": {
             "colorbar": {
              "outlinewidth": 0,
              "ticks": ""
             }
            },
            "type": "histogram"
           }
          ],
          "histogram2d": [
           {
            "colorbar": {
             "outlinewidth": 0,
             "ticks": ""
            },
            "colorscale": [
             [
              0,
              "#0d0887"
             ],
             [
              0.1111111111111111,
              "#46039f"
             ],
             [
              0.2222222222222222,
              "#7201a8"
             ],
             [
              0.3333333333333333,
              "#9c179e"
             ],
             [
              0.4444444444444444,
              "#bd3786"
             ],
             [
              0.5555555555555556,
              "#d8576b"
             ],
             [
              0.6666666666666666,
              "#ed7953"
             ],
             [
              0.7777777777777778,
              "#fb9f3a"
             ],
             [
              0.8888888888888888,
              "#fdca26"
             ],
             [
              1,
              "#f0f921"
             ]
            ],
            "type": "histogram2d"
           }
          ],
          "histogram2dcontour": [
           {
            "colorbar": {
             "outlinewidth": 0,
             "ticks": ""
            },
            "colorscale": [
             [
              0,
              "#0d0887"
             ],
             [
              0.1111111111111111,
              "#46039f"
             ],
             [
              0.2222222222222222,
              "#7201a8"
             ],
             [
              0.3333333333333333,
              "#9c179e"
             ],
             [
              0.4444444444444444,
              "#bd3786"
             ],
             [
              0.5555555555555556,
              "#d8576b"
             ],
             [
              0.6666666666666666,
              "#ed7953"
             ],
             [
              0.7777777777777778,
              "#fb9f3a"
             ],
             [
              0.8888888888888888,
              "#fdca26"
             ],
             [
              1,
              "#f0f921"
             ]
            ],
            "type": "histogram2dcontour"
           }
          ],
          "mesh3d": [
           {
            "colorbar": {
             "outlinewidth": 0,
             "ticks": ""
            },
            "type": "mesh3d"
           }
          ],
          "parcoords": [
           {
            "line": {
             "colorbar": {
              "outlinewidth": 0,
              "ticks": ""
             }
            },
            "type": "parcoords"
           }
          ],
          "pie": [
           {
            "automargin": true,
            "type": "pie"
           }
          ],
          "scatter": [
           {
            "marker": {
             "colorbar": {
              "outlinewidth": 0,
              "ticks": ""
             }
            },
            "type": "scatter"
           }
          ],
          "scatter3d": [
           {
            "line": {
             "colorbar": {
              "outlinewidth": 0,
              "ticks": ""
             }
            },
            "marker": {
             "colorbar": {
              "outlinewidth": 0,
              "ticks": ""
             }
            },
            "type": "scatter3d"
           }
          ],
          "scattercarpet": [
           {
            "marker": {
             "colorbar": {
              "outlinewidth": 0,
              "ticks": ""
             }
            },
            "type": "scattercarpet"
           }
          ],
          "scattergeo": [
           {
            "marker": {
             "colorbar": {
              "outlinewidth": 0,
              "ticks": ""
             }
            },
            "type": "scattergeo"
           }
          ],
          "scattergl": [
           {
            "marker": {
             "colorbar": {
              "outlinewidth": 0,
              "ticks": ""
             }
            },
            "type": "scattergl"
           }
          ],
          "scattermapbox": [
           {
            "marker": {
             "colorbar": {
              "outlinewidth": 0,
              "ticks": ""
             }
            },
            "type": "scattermapbox"
           }
          ],
          "scatterpolar": [
           {
            "marker": {
             "colorbar": {
              "outlinewidth": 0,
              "ticks": ""
             }
            },
            "type": "scatterpolar"
           }
          ],
          "scatterpolargl": [
           {
            "marker": {
             "colorbar": {
              "outlinewidth": 0,
              "ticks": ""
             }
            },
            "type": "scatterpolargl"
           }
          ],
          "scatterternary": [
           {
            "marker": {
             "colorbar": {
              "outlinewidth": 0,
              "ticks": ""
             }
            },
            "type": "scatterternary"
           }
          ],
          "surface": [
           {
            "colorbar": {
             "outlinewidth": 0,
             "ticks": ""
            },
            "colorscale": [
             [
              0,
              "#0d0887"
             ],
             [
              0.1111111111111111,
              "#46039f"
             ],
             [
              0.2222222222222222,
              "#7201a8"
             ],
             [
              0.3333333333333333,
              "#9c179e"
             ],
             [
              0.4444444444444444,
              "#bd3786"
             ],
             [
              0.5555555555555556,
              "#d8576b"
             ],
             [
              0.6666666666666666,
              "#ed7953"
             ],
             [
              0.7777777777777778,
              "#fb9f3a"
             ],
             [
              0.8888888888888888,
              "#fdca26"
             ],
             [
              1,
              "#f0f921"
             ]
            ],
            "type": "surface"
           }
          ],
          "table": [
           {
            "cells": {
             "fill": {
              "color": "#EBF0F8"
             },
             "line": {
              "color": "white"
             }
            },
            "header": {
             "fill": {
              "color": "#C8D4E3"
             },
             "line": {
              "color": "white"
             }
            },
            "type": "table"
           }
          ]
         },
         "layout": {
          "annotationdefaults": {
           "arrowcolor": "#2a3f5f",
           "arrowhead": 0,
           "arrowwidth": 1
          },
          "autotypenumbers": "strict",
          "coloraxis": {
           "colorbar": {
            "outlinewidth": 0,
            "ticks": ""
           }
          },
          "colorscale": {
           "diverging": [
            [
             0,
             "#8e0152"
            ],
            [
             0.1,
             "#c51b7d"
            ],
            [
             0.2,
             "#de77ae"
            ],
            [
             0.3,
             "#f1b6da"
            ],
            [
             0.4,
             "#fde0ef"
            ],
            [
             0.5,
             "#f7f7f7"
            ],
            [
             0.6,
             "#e6f5d0"
            ],
            [
             0.7,
             "#b8e186"
            ],
            [
             0.8,
             "#7fbc41"
            ],
            [
             0.9,
             "#4d9221"
            ],
            [
             1,
             "#276419"
            ]
           ],
           "sequential": [
            [
             0,
             "#0d0887"
            ],
            [
             0.1111111111111111,
             "#46039f"
            ],
            [
             0.2222222222222222,
             "#7201a8"
            ],
            [
             0.3333333333333333,
             "#9c179e"
            ],
            [
             0.4444444444444444,
             "#bd3786"
            ],
            [
             0.5555555555555556,
             "#d8576b"
            ],
            [
             0.6666666666666666,
             "#ed7953"
            ],
            [
             0.7777777777777778,
             "#fb9f3a"
            ],
            [
             0.8888888888888888,
             "#fdca26"
            ],
            [
             1,
             "#f0f921"
            ]
           ],
           "sequentialminus": [
            [
             0,
             "#0d0887"
            ],
            [
             0.1111111111111111,
             "#46039f"
            ],
            [
             0.2222222222222222,
             "#7201a8"
            ],
            [
             0.3333333333333333,
             "#9c179e"
            ],
            [
             0.4444444444444444,
             "#bd3786"
            ],
            [
             0.5555555555555556,
             "#d8576b"
            ],
            [
             0.6666666666666666,
             "#ed7953"
            ],
            [
             0.7777777777777778,
             "#fb9f3a"
            ],
            [
             0.8888888888888888,
             "#fdca26"
            ],
            [
             1,
             "#f0f921"
            ]
           ]
          },
          "colorway": [
           "#636efa",
           "#EF553B",
           "#00cc96",
           "#ab63fa",
           "#FFA15A",
           "#19d3f3",
           "#FF6692",
           "#B6E880",
           "#FF97FF",
           "#FECB52"
          ],
          "font": {
           "color": "#2a3f5f"
          },
          "geo": {
           "bgcolor": "white",
           "lakecolor": "white",
           "landcolor": "#E5ECF6",
           "showlakes": true,
           "showland": true,
           "subunitcolor": "white"
          },
          "hoverlabel": {
           "align": "left"
          },
          "hovermode": "closest",
          "mapbox": {
           "style": "light"
          },
          "paper_bgcolor": "white",
          "plot_bgcolor": "#E5ECF6",
          "polar": {
           "angularaxis": {
            "gridcolor": "white",
            "linecolor": "white",
            "ticks": ""
           },
           "bgcolor": "#E5ECF6",
           "radialaxis": {
            "gridcolor": "white",
            "linecolor": "white",
            "ticks": ""
           }
          },
          "scene": {
           "xaxis": {
            "backgroundcolor": "#E5ECF6",
            "gridcolor": "white",
            "gridwidth": 2,
            "linecolor": "white",
            "showbackground": true,
            "ticks": "",
            "zerolinecolor": "white"
           },
           "yaxis": {
            "backgroundcolor": "#E5ECF6",
            "gridcolor": "white",
            "gridwidth": 2,
            "linecolor": "white",
            "showbackground": true,
            "ticks": "",
            "zerolinecolor": "white"
           },
           "zaxis": {
            "backgroundcolor": "#E5ECF6",
            "gridcolor": "white",
            "gridwidth": 2,
            "linecolor": "white",
            "showbackground": true,
            "ticks": "",
            "zerolinecolor": "white"
           }
          },
          "shapedefaults": {
           "line": {
            "color": "#2a3f5f"
           }
          },
          "ternary": {
           "aaxis": {
            "gridcolor": "white",
            "linecolor": "white",
            "ticks": ""
           },
           "baxis": {
            "gridcolor": "white",
            "linecolor": "white",
            "ticks": ""
           },
           "bgcolor": "#E5ECF6",
           "caxis": {
            "gridcolor": "white",
            "linecolor": "white",
            "ticks": ""
           }
          },
          "title": {
           "x": 0.05
          },
          "xaxis": {
           "automargin": true,
           "gridcolor": "white",
           "linecolor": "white",
           "ticks": "",
           "title": {
            "standoff": 15
           },
           "zerolinecolor": "white",
           "zerolinewidth": 2
          },
          "yaxis": {
           "automargin": true,
           "gridcolor": "white",
           "linecolor": "white",
           "ticks": "",
           "title": {
            "standoff": 15
           },
           "zerolinecolor": "white",
           "zerolinewidth": 2
          }
         }
        }
       }
      },
      "text/html": [
       "<div>                            <div id=\"fe272dbc-f78c-45cc-b057-501472c99fa9\" class=\"plotly-graph-div\" style=\"height:525px; width:100%;\"></div>            <script type=\"text/javascript\">                require([\"plotly\"], function(Plotly) {                    window.PLOTLYENV=window.PLOTLYENV || {};                                    if (document.getElementById(\"fe272dbc-f78c-45cc-b057-501472c99fa9\")) {                    Plotly.newPlot(                        \"fe272dbc-f78c-45cc-b057-501472c99fa9\",                        [{\"labels\": [\"challenge\", \"article\", \"news\", \"special\", \"guest\"], \"type\": \"pie\", \"values\": [89, 89, 55, 5, 5]}],                        {\"template\": {\"data\": {\"bar\": [{\"error_x\": {\"color\": \"#2a3f5f\"}, \"error_y\": {\"color\": \"#2a3f5f\"}, \"marker\": {\"line\": {\"color\": \"#E5ECF6\", \"width\": 0.5}}, \"type\": \"bar\"}], \"barpolar\": [{\"marker\": {\"line\": {\"color\": \"#E5ECF6\", \"width\": 0.5}}, \"type\": \"barpolar\"}], \"carpet\": [{\"aaxis\": {\"endlinecolor\": \"#2a3f5f\", \"gridcolor\": \"white\", \"linecolor\": \"white\", \"minorgridcolor\": \"white\", \"startlinecolor\": \"#2a3f5f\"}, \"baxis\": {\"endlinecolor\": \"#2a3f5f\", \"gridcolor\": \"white\", \"linecolor\": \"white\", \"minorgridcolor\": \"white\", \"startlinecolor\": \"#2a3f5f\"}, \"type\": \"carpet\"}], \"choropleth\": [{\"colorbar\": {\"outlinewidth\": 0, \"ticks\": \"\"}, \"type\": \"choropleth\"}], \"contour\": [{\"colorbar\": {\"outlinewidth\": 0, \"ticks\": \"\"}, \"colorscale\": [[0.0, \"#0d0887\"], [0.1111111111111111, \"#46039f\"], [0.2222222222222222, \"#7201a8\"], [0.3333333333333333, \"#9c179e\"], [0.4444444444444444, \"#bd3786\"], [0.5555555555555556, \"#d8576b\"], [0.6666666666666666, \"#ed7953\"], [0.7777777777777778, \"#fb9f3a\"], [0.8888888888888888, \"#fdca26\"], [1.0, \"#f0f921\"]], \"type\": \"contour\"}], \"contourcarpet\": [{\"colorbar\": {\"outlinewidth\": 0, \"ticks\": \"\"}, \"type\": \"contourcarpet\"}], \"heatmap\": [{\"colorbar\": {\"outlinewidth\": 0, \"ticks\": \"\"}, \"colorscale\": [[0.0, \"#0d0887\"], [0.1111111111111111, \"#46039f\"], [0.2222222222222222, \"#7201a8\"], [0.3333333333333333, \"#9c179e\"], [0.4444444444444444, \"#bd3786\"], [0.5555555555555556, \"#d8576b\"], [0.6666666666666666, \"#ed7953\"], [0.7777777777777778, \"#fb9f3a\"], [0.8888888888888888, \"#fdca26\"], [1.0, \"#f0f921\"]], \"type\": \"heatmap\"}], \"heatmapgl\": [{\"colorbar\": {\"outlinewidth\": 0, \"ticks\": \"\"}, \"colorscale\": [[0.0, \"#0d0887\"], [0.1111111111111111, \"#46039f\"], [0.2222222222222222, \"#7201a8\"], [0.3333333333333333, \"#9c179e\"], [0.4444444444444444, \"#bd3786\"], [0.5555555555555556, \"#d8576b\"], [0.6666666666666666, \"#ed7953\"], [0.7777777777777778, \"#fb9f3a\"], [0.8888888888888888, \"#fdca26\"], [1.0, \"#f0f921\"]], \"type\": \"heatmapgl\"}], \"histogram\": [{\"marker\": {\"colorbar\": {\"outlinewidth\": 0, \"ticks\": \"\"}}, \"type\": \"histogram\"}], \"histogram2d\": [{\"colorbar\": {\"outlinewidth\": 0, \"ticks\": \"\"}, \"colorscale\": [[0.0, \"#0d0887\"], [0.1111111111111111, \"#46039f\"], [0.2222222222222222, \"#7201a8\"], [0.3333333333333333, \"#9c179e\"], [0.4444444444444444, \"#bd3786\"], [0.5555555555555556, \"#d8576b\"], [0.6666666666666666, \"#ed7953\"], [0.7777777777777778, \"#fb9f3a\"], [0.8888888888888888, \"#fdca26\"], [1.0, \"#f0f921\"]], \"type\": \"histogram2d\"}], \"histogram2dcontour\": [{\"colorbar\": {\"outlinewidth\": 0, \"ticks\": \"\"}, \"colorscale\": [[0.0, \"#0d0887\"], [0.1111111111111111, \"#46039f\"], [0.2222222222222222, \"#7201a8\"], [0.3333333333333333, \"#9c179e\"], [0.4444444444444444, \"#bd3786\"], [0.5555555555555556, \"#d8576b\"], [0.6666666666666666, \"#ed7953\"], [0.7777777777777778, \"#fb9f3a\"], [0.8888888888888888, \"#fdca26\"], [1.0, \"#f0f921\"]], \"type\": \"histogram2dcontour\"}], \"mesh3d\": [{\"colorbar\": {\"outlinewidth\": 0, \"ticks\": \"\"}, \"type\": \"mesh3d\"}], \"parcoords\": [{\"line\": {\"colorbar\": {\"outlinewidth\": 0, \"ticks\": \"\"}}, \"type\": \"parcoords\"}], \"pie\": [{\"automargin\": true, \"type\": \"pie\"}], \"scatter\": [{\"marker\": {\"colorbar\": {\"outlinewidth\": 0, \"ticks\": \"\"}}, \"type\": \"scatter\"}], \"scatter3d\": [{\"line\": {\"colorbar\": {\"outlinewidth\": 0, \"ticks\": \"\"}}, \"marker\": {\"colorbar\": {\"outlinewidth\": 0, \"ticks\": \"\"}}, \"type\": \"scatter3d\"}], \"scattercarpet\": [{\"marker\": {\"colorbar\": {\"outlinewidth\": 0, \"ticks\": \"\"}}, \"type\": \"scattercarpet\"}], \"scattergeo\": [{\"marker\": {\"colorbar\": {\"outlinewidth\": 0, \"ticks\": \"\"}}, \"type\": \"scattergeo\"}], \"scattergl\": [{\"marker\": {\"colorbar\": {\"outlinewidth\": 0, \"ticks\": \"\"}}, \"type\": \"scattergl\"}], \"scattermapbox\": [{\"marker\": {\"colorbar\": {\"outlinewidth\": 0, \"ticks\": \"\"}}, \"type\": \"scattermapbox\"}], \"scatterpolar\": [{\"marker\": {\"colorbar\": {\"outlinewidth\": 0, \"ticks\": \"\"}}, \"type\": \"scatterpolar\"}], \"scatterpolargl\": [{\"marker\": {\"colorbar\": {\"outlinewidth\": 0, \"ticks\": \"\"}}, \"type\": \"scatterpolargl\"}], \"scatterternary\": [{\"marker\": {\"colorbar\": {\"outlinewidth\": 0, \"ticks\": \"\"}}, \"type\": \"scatterternary\"}], \"surface\": [{\"colorbar\": {\"outlinewidth\": 0, \"ticks\": \"\"}, \"colorscale\": [[0.0, \"#0d0887\"], [0.1111111111111111, \"#46039f\"], [0.2222222222222222, \"#7201a8\"], [0.3333333333333333, \"#9c179e\"], [0.4444444444444444, \"#bd3786\"], [0.5555555555555556, \"#d8576b\"], [0.6666666666666666, \"#ed7953\"], [0.7777777777777778, \"#fb9f3a\"], [0.8888888888888888, \"#fdca26\"], [1.0, \"#f0f921\"]], \"type\": \"surface\"}], \"table\": [{\"cells\": {\"fill\": {\"color\": \"#EBF0F8\"}, \"line\": {\"color\": \"white\"}}, \"header\": {\"fill\": {\"color\": \"#C8D4E3\"}, \"line\": {\"color\": \"white\"}}, \"type\": \"table\"}]}, \"layout\": {\"annotationdefaults\": {\"arrowcolor\": \"#2a3f5f\", \"arrowhead\": 0, \"arrowwidth\": 1}, \"autotypenumbers\": \"strict\", \"coloraxis\": {\"colorbar\": {\"outlinewidth\": 0, \"ticks\": \"\"}}, \"colorscale\": {\"diverging\": [[0, \"#8e0152\"], [0.1, \"#c51b7d\"], [0.2, \"#de77ae\"], [0.3, \"#f1b6da\"], [0.4, \"#fde0ef\"], [0.5, \"#f7f7f7\"], [0.6, \"#e6f5d0\"], [0.7, \"#b8e186\"], [0.8, \"#7fbc41\"], [0.9, \"#4d9221\"], [1, \"#276419\"]], \"sequential\": [[0.0, \"#0d0887\"], [0.1111111111111111, \"#46039f\"], [0.2222222222222222, \"#7201a8\"], [0.3333333333333333, \"#9c179e\"], [0.4444444444444444, \"#bd3786\"], [0.5555555555555556, \"#d8576b\"], [0.6666666666666666, \"#ed7953\"], [0.7777777777777778, \"#fb9f3a\"], [0.8888888888888888, \"#fdca26\"], [1.0, \"#f0f921\"]], \"sequentialminus\": [[0.0, \"#0d0887\"], [0.1111111111111111, \"#46039f\"], [0.2222222222222222, \"#7201a8\"], [0.3333333333333333, \"#9c179e\"], [0.4444444444444444, \"#bd3786\"], [0.5555555555555556, \"#d8576b\"], [0.6666666666666666, \"#ed7953\"], [0.7777777777777778, \"#fb9f3a\"], [0.8888888888888888, \"#fdca26\"], [1.0, \"#f0f921\"]]}, \"colorway\": [\"#636efa\", \"#EF553B\", \"#00cc96\", \"#ab63fa\", \"#FFA15A\", \"#19d3f3\", \"#FF6692\", \"#B6E880\", \"#FF97FF\", \"#FECB52\"], \"font\": {\"color\": \"#2a3f5f\"}, \"geo\": {\"bgcolor\": \"white\", \"lakecolor\": \"white\", \"landcolor\": \"#E5ECF6\", \"showlakes\": true, \"showland\": true, \"subunitcolor\": \"white\"}, \"hoverlabel\": {\"align\": \"left\"}, \"hovermode\": \"closest\", \"mapbox\": {\"style\": \"light\"}, \"paper_bgcolor\": \"white\", \"plot_bgcolor\": \"#E5ECF6\", \"polar\": {\"angularaxis\": {\"gridcolor\": \"white\", \"linecolor\": \"white\", \"ticks\": \"\"}, \"bgcolor\": \"#E5ECF6\", \"radialaxis\": {\"gridcolor\": \"white\", \"linecolor\": \"white\", \"ticks\": \"\"}}, \"scene\": {\"xaxis\": {\"backgroundcolor\": \"#E5ECF6\", \"gridcolor\": \"white\", \"gridwidth\": 2, \"linecolor\": \"white\", \"showbackground\": true, \"ticks\": \"\", \"zerolinecolor\": \"white\"}, \"yaxis\": {\"backgroundcolor\": \"#E5ECF6\", \"gridcolor\": \"white\", \"gridwidth\": 2, \"linecolor\": \"white\", \"showbackground\": true, \"ticks\": \"\", \"zerolinecolor\": \"white\"}, \"zaxis\": {\"backgroundcolor\": \"#E5ECF6\", \"gridcolor\": \"white\", \"gridwidth\": 2, \"linecolor\": \"white\", \"showbackground\": true, \"ticks\": \"\", \"zerolinecolor\": \"white\"}}, \"shapedefaults\": {\"line\": {\"color\": \"#2a3f5f\"}}, \"ternary\": {\"aaxis\": {\"gridcolor\": \"white\", \"linecolor\": \"white\", \"ticks\": \"\"}, \"baxis\": {\"gridcolor\": \"white\", \"linecolor\": \"white\", \"ticks\": \"\"}, \"bgcolor\": \"#E5ECF6\", \"caxis\": {\"gridcolor\": \"white\", \"linecolor\": \"white\", \"ticks\": \"\"}}, \"title\": {\"x\": 0.05}, \"xaxis\": {\"automargin\": true, \"gridcolor\": \"white\", \"linecolor\": \"white\", \"ticks\": \"\", \"title\": {\"standoff\": 15}, \"zerolinecolor\": \"white\", \"zerolinewidth\": 2}, \"yaxis\": {\"automargin\": true, \"gridcolor\": \"white\", \"linecolor\": \"white\", \"ticks\": \"\", \"title\": {\"standoff\": 15}, \"zerolinecolor\": \"white\", \"zerolinewidth\": 2}}}},                        {\"responsive\": true}                    ).then(function(){\n",
       "                            \n",
       "var gd = document.getElementById('fe272dbc-f78c-45cc-b057-501472c99fa9');\n",
       "var x = new MutationObserver(function (mutations, observer) {{\n",
       "        var display = window.getComputedStyle(gd).display;\n",
       "        if (!display || display === 'none') {{\n",
       "            console.log([gd, 'removed!']);\n",
       "            Plotly.purge(gd);\n",
       "            observer.disconnect();\n",
       "        }}\n",
       "}});\n",
       "\n",
       "// Listen for the removal of the full notebook cells\n",
       "var notebookContainer = gd.closest('#notebook-container');\n",
       "if (notebookContainer) {{\n",
       "    x.observe(notebookContainer, {childList: true});\n",
       "}}\n",
       "\n",
       "// Listen for the clearing of the current output cell\n",
       "var outputEl = gd.closest('.output');\n",
       "if (outputEl) {{\n",
       "    x.observe(outputEl, {childList: true});\n",
       "}}\n",
       "\n",
       "                        })                };                });            </script>        </div>"
      ]
     },
     "metadata": {},
     "output_type": "display_data"
    }
   ],
   "source": [
    "labels, values = transpose_list_of_tuples(categories)\n",
    "pie = go.Pie(labels=labels, values=values)\n",
    "plotly.offline.iplot([pie], filename=\"categories\")"
   ]
  },
  {
   "cell_type": "markdown",
   "metadata": {},
   "source": [
    "https://plot.ly/create/?fid=bbelderbos:7"
   ]
  },
  {
   "cell_type": "markdown",
   "metadata": {},
   "source": [
    "<img src=\"images/plot2.png\">"
   ]
  },
  {
   "cell_type": "markdown",
   "metadata": {},
   "source": [
    "> As you know __challenges__ are a big deal for PyBites!"
   ]
  },
  {
   "cell_type": "code",
   "execution_count": 18,
   "metadata": {},
   "outputs": [
    {
     "data": {
      "application/vnd.plotly.v1+json": {
       "config": {
        "linkText": "Export to plot.ly",
        "plotlyServerURL": "https://plot.ly",
        "showLink": false
       },
       "data": [
        {
         "labels": [
          "twitter",
          "learning",
          "news",
          "python",
          "flask",
          "tips",
          "codechallenges",
          "pybites",
          "django",
          "data science",
          "pandas",
          "github",
          "regex",
          "machine learning",
          "jupyter",
          "challenges",
          "automation",
          "code",
          "guest",
          "apis"
         ],
         "type": "pie",
         "values": [
          114,
          102,
          98,
          90,
          78,
          75,
          73,
          68,
          58,
          42,
          36,
          36,
          33,
          33,
          32,
          31,
          30,
          30,
          26,
          26
         ]
        }
       ],
       "layout": {
        "template": {
         "data": {
          "bar": [
           {
            "error_x": {
             "color": "#2a3f5f"
            },
            "error_y": {
             "color": "#2a3f5f"
            },
            "marker": {
             "line": {
              "color": "#E5ECF6",
              "width": 0.5
             }
            },
            "type": "bar"
           }
          ],
          "barpolar": [
           {
            "marker": {
             "line": {
              "color": "#E5ECF6",
              "width": 0.5
             }
            },
            "type": "barpolar"
           }
          ],
          "carpet": [
           {
            "aaxis": {
             "endlinecolor": "#2a3f5f",
             "gridcolor": "white",
             "linecolor": "white",
             "minorgridcolor": "white",
             "startlinecolor": "#2a3f5f"
            },
            "baxis": {
             "endlinecolor": "#2a3f5f",
             "gridcolor": "white",
             "linecolor": "white",
             "minorgridcolor": "white",
             "startlinecolor": "#2a3f5f"
            },
            "type": "carpet"
           }
          ],
          "choropleth": [
           {
            "colorbar": {
             "outlinewidth": 0,
             "ticks": ""
            },
            "type": "choropleth"
           }
          ],
          "contour": [
           {
            "colorbar": {
             "outlinewidth": 0,
             "ticks": ""
            },
            "colorscale": [
             [
              0,
              "#0d0887"
             ],
             [
              0.1111111111111111,
              "#46039f"
             ],
             [
              0.2222222222222222,
              "#7201a8"
             ],
             [
              0.3333333333333333,
              "#9c179e"
             ],
             [
              0.4444444444444444,
              "#bd3786"
             ],
             [
              0.5555555555555556,
              "#d8576b"
             ],
             [
              0.6666666666666666,
              "#ed7953"
             ],
             [
              0.7777777777777778,
              "#fb9f3a"
             ],
             [
              0.8888888888888888,
              "#fdca26"
             ],
             [
              1,
              "#f0f921"
             ]
            ],
            "type": "contour"
           }
          ],
          "contourcarpet": [
           {
            "colorbar": {
             "outlinewidth": 0,
             "ticks": ""
            },
            "type": "contourcarpet"
           }
          ],
          "heatmap": [
           {
            "colorbar": {
             "outlinewidth": 0,
             "ticks": ""
            },
            "colorscale": [
             [
              0,
              "#0d0887"
             ],
             [
              0.1111111111111111,
              "#46039f"
             ],
             [
              0.2222222222222222,
              "#7201a8"
             ],
             [
              0.3333333333333333,
              "#9c179e"
             ],
             [
              0.4444444444444444,
              "#bd3786"
             ],
             [
              0.5555555555555556,
              "#d8576b"
             ],
             [
              0.6666666666666666,
              "#ed7953"
             ],
             [
              0.7777777777777778,
              "#fb9f3a"
             ],
             [
              0.8888888888888888,
              "#fdca26"
             ],
             [
              1,
              "#f0f921"
             ]
            ],
            "type": "heatmap"
           }
          ],
          "heatmapgl": [
           {
            "colorbar": {
             "outlinewidth": 0,
             "ticks": ""
            },
            "colorscale": [
             [
              0,
              "#0d0887"
             ],
             [
              0.1111111111111111,
              "#46039f"
             ],
             [
              0.2222222222222222,
              "#7201a8"
             ],
             [
              0.3333333333333333,
              "#9c179e"
             ],
             [
              0.4444444444444444,
              "#bd3786"
             ],
             [
              0.5555555555555556,
              "#d8576b"
             ],
             [
              0.6666666666666666,
              "#ed7953"
             ],
             [
              0.7777777777777778,
              "#fb9f3a"
             ],
             [
              0.8888888888888888,
              "#fdca26"
             ],
             [
              1,
              "#f0f921"
             ]
            ],
            "type": "heatmapgl"
           }
          ],
          "histogram": [
           {
            "marker": {
             "colorbar": {
              "outlinewidth": 0,
              "ticks": ""
             }
            },
            "type": "histogram"
           }
          ],
          "histogram2d": [
           {
            "colorbar": {
             "outlinewidth": 0,
             "ticks": ""
            },
            "colorscale": [
             [
              0,
              "#0d0887"
             ],
             [
              0.1111111111111111,
              "#46039f"
             ],
             [
              0.2222222222222222,
              "#7201a8"
             ],
             [
              0.3333333333333333,
              "#9c179e"
             ],
             [
              0.4444444444444444,
              "#bd3786"
             ],
             [
              0.5555555555555556,
              "#d8576b"
             ],
             [
              0.6666666666666666,
              "#ed7953"
             ],
             [
              0.7777777777777778,
              "#fb9f3a"
             ],
             [
              0.8888888888888888,
              "#fdca26"
             ],
             [
              1,
              "#f0f921"
             ]
            ],
            "type": "histogram2d"
           }
          ],
          "histogram2dcontour": [
           {
            "colorbar": {
             "outlinewidth": 0,
             "ticks": ""
            },
            "colorscale": [
             [
              0,
              "#0d0887"
             ],
             [
              0.1111111111111111,
              "#46039f"
             ],
             [
              0.2222222222222222,
              "#7201a8"
             ],
             [
              0.3333333333333333,
              "#9c179e"
             ],
             [
              0.4444444444444444,
              "#bd3786"
             ],
             [
              0.5555555555555556,
              "#d8576b"
             ],
             [
              0.6666666666666666,
              "#ed7953"
             ],
             [
              0.7777777777777778,
              "#fb9f3a"
             ],
             [
              0.8888888888888888,
              "#fdca26"
             ],
             [
              1,
              "#f0f921"
             ]
            ],
            "type": "histogram2dcontour"
           }
          ],
          "mesh3d": [
           {
            "colorbar": {
             "outlinewidth": 0,
             "ticks": ""
            },
            "type": "mesh3d"
           }
          ],
          "parcoords": [
           {
            "line": {
             "colorbar": {
              "outlinewidth": 0,
              "ticks": ""
             }
            },
            "type": "parcoords"
           }
          ],
          "pie": [
           {
            "automargin": true,
            "type": "pie"
           }
          ],
          "scatter": [
           {
            "marker": {
             "colorbar": {
              "outlinewidth": 0,
              "ticks": ""
             }
            },
            "type": "scatter"
           }
          ],
          "scatter3d": [
           {
            "line": {
             "colorbar": {
              "outlinewidth": 0,
              "ticks": ""
             }
            },
            "marker": {
             "colorbar": {
              "outlinewidth": 0,
              "ticks": ""
             }
            },
            "type": "scatter3d"
           }
          ],
          "scattercarpet": [
           {
            "marker": {
             "colorbar": {
              "outlinewidth": 0,
              "ticks": ""
             }
            },
            "type": "scattercarpet"
           }
          ],
          "scattergeo": [
           {
            "marker": {
             "colorbar": {
              "outlinewidth": 0,
              "ticks": ""
             }
            },
            "type": "scattergeo"
           }
          ],
          "scattergl": [
           {
            "marker": {
             "colorbar": {
              "outlinewidth": 0,
              "ticks": ""
             }
            },
            "type": "scattergl"
           }
          ],
          "scattermapbox": [
           {
            "marker": {
             "colorbar": {
              "outlinewidth": 0,
              "ticks": ""
             }
            },
            "type": "scattermapbox"
           }
          ],
          "scatterpolar": [
           {
            "marker": {
             "colorbar": {
              "outlinewidth": 0,
              "ticks": ""
             }
            },
            "type": "scatterpolar"
           }
          ],
          "scatterpolargl": [
           {
            "marker": {
             "colorbar": {
              "outlinewidth": 0,
              "ticks": ""
             }
            },
            "type": "scatterpolargl"
           }
          ],
          "scatterternary": [
           {
            "marker": {
             "colorbar": {
              "outlinewidth": 0,
              "ticks": ""
             }
            },
            "type": "scatterternary"
           }
          ],
          "surface": [
           {
            "colorbar": {
             "outlinewidth": 0,
             "ticks": ""
            },
            "colorscale": [
             [
              0,
              "#0d0887"
             ],
             [
              0.1111111111111111,
              "#46039f"
             ],
             [
              0.2222222222222222,
              "#7201a8"
             ],
             [
              0.3333333333333333,
              "#9c179e"
             ],
             [
              0.4444444444444444,
              "#bd3786"
             ],
             [
              0.5555555555555556,
              "#d8576b"
             ],
             [
              0.6666666666666666,
              "#ed7953"
             ],
             [
              0.7777777777777778,
              "#fb9f3a"
             ],
             [
              0.8888888888888888,
              "#fdca26"
             ],
             [
              1,
              "#f0f921"
             ]
            ],
            "type": "surface"
           }
          ],
          "table": [
           {
            "cells": {
             "fill": {
              "color": "#EBF0F8"
             },
             "line": {
              "color": "white"
             }
            },
            "header": {
             "fill": {
              "color": "#C8D4E3"
             },
             "line": {
              "color": "white"
             }
            },
            "type": "table"
           }
          ]
         },
         "layout": {
          "annotationdefaults": {
           "arrowcolor": "#2a3f5f",
           "arrowhead": 0,
           "arrowwidth": 1
          },
          "autotypenumbers": "strict",
          "coloraxis": {
           "colorbar": {
            "outlinewidth": 0,
            "ticks": ""
           }
          },
          "colorscale": {
           "diverging": [
            [
             0,
             "#8e0152"
            ],
            [
             0.1,
             "#c51b7d"
            ],
            [
             0.2,
             "#de77ae"
            ],
            [
             0.3,
             "#f1b6da"
            ],
            [
             0.4,
             "#fde0ef"
            ],
            [
             0.5,
             "#f7f7f7"
            ],
            [
             0.6,
             "#e6f5d0"
            ],
            [
             0.7,
             "#b8e186"
            ],
            [
             0.8,
             "#7fbc41"
            ],
            [
             0.9,
             "#4d9221"
            ],
            [
             1,
             "#276419"
            ]
           ],
           "sequential": [
            [
             0,
             "#0d0887"
            ],
            [
             0.1111111111111111,
             "#46039f"
            ],
            [
             0.2222222222222222,
             "#7201a8"
            ],
            [
             0.3333333333333333,
             "#9c179e"
            ],
            [
             0.4444444444444444,
             "#bd3786"
            ],
            [
             0.5555555555555556,
             "#d8576b"
            ],
            [
             0.6666666666666666,
             "#ed7953"
            ],
            [
             0.7777777777777778,
             "#fb9f3a"
            ],
            [
             0.8888888888888888,
             "#fdca26"
            ],
            [
             1,
             "#f0f921"
            ]
           ],
           "sequentialminus": [
            [
             0,
             "#0d0887"
            ],
            [
             0.1111111111111111,
             "#46039f"
            ],
            [
             0.2222222222222222,
             "#7201a8"
            ],
            [
             0.3333333333333333,
             "#9c179e"
            ],
            [
             0.4444444444444444,
             "#bd3786"
            ],
            [
             0.5555555555555556,
             "#d8576b"
            ],
            [
             0.6666666666666666,
             "#ed7953"
            ],
            [
             0.7777777777777778,
             "#fb9f3a"
            ],
            [
             0.8888888888888888,
             "#fdca26"
            ],
            [
             1,
             "#f0f921"
            ]
           ]
          },
          "colorway": [
           "#636efa",
           "#EF553B",
           "#00cc96",
           "#ab63fa",
           "#FFA15A",
           "#19d3f3",
           "#FF6692",
           "#B6E880",
           "#FF97FF",
           "#FECB52"
          ],
          "font": {
           "color": "#2a3f5f"
          },
          "geo": {
           "bgcolor": "white",
           "lakecolor": "white",
           "landcolor": "#E5ECF6",
           "showlakes": true,
           "showland": true,
           "subunitcolor": "white"
          },
          "hoverlabel": {
           "align": "left"
          },
          "hovermode": "closest",
          "mapbox": {
           "style": "light"
          },
          "paper_bgcolor": "white",
          "plot_bgcolor": "#E5ECF6",
          "polar": {
           "angularaxis": {
            "gridcolor": "white",
            "linecolor": "white",
            "ticks": ""
           },
           "bgcolor": "#E5ECF6",
           "radialaxis": {
            "gridcolor": "white",
            "linecolor": "white",
            "ticks": ""
           }
          },
          "scene": {
           "xaxis": {
            "backgroundcolor": "#E5ECF6",
            "gridcolor": "white",
            "gridwidth": 2,
            "linecolor": "white",
            "showbackground": true,
            "ticks": "",
            "zerolinecolor": "white"
           },
           "yaxis": {
            "backgroundcolor": "#E5ECF6",
            "gridcolor": "white",
            "gridwidth": 2,
            "linecolor": "white",
            "showbackground": true,
            "ticks": "",
            "zerolinecolor": "white"
           },
           "zaxis": {
            "backgroundcolor": "#E5ECF6",
            "gridcolor": "white",
            "gridwidth": 2,
            "linecolor": "white",
            "showbackground": true,
            "ticks": "",
            "zerolinecolor": "white"
           }
          },
          "shapedefaults": {
           "line": {
            "color": "#2a3f5f"
           }
          },
          "ternary": {
           "aaxis": {
            "gridcolor": "white",
            "linecolor": "white",
            "ticks": ""
           },
           "baxis": {
            "gridcolor": "white",
            "linecolor": "white",
            "ticks": ""
           },
           "bgcolor": "#E5ECF6",
           "caxis": {
            "gridcolor": "white",
            "linecolor": "white",
            "ticks": ""
           }
          },
          "title": {
           "x": 0.05
          },
          "xaxis": {
           "automargin": true,
           "gridcolor": "white",
           "linecolor": "white",
           "ticks": "",
           "title": {
            "standoff": 15
           },
           "zerolinecolor": "white",
           "zerolinewidth": 2
          },
          "yaxis": {
           "automargin": true,
           "gridcolor": "white",
           "linecolor": "white",
           "ticks": "",
           "title": {
            "standoff": 15
           },
           "zerolinecolor": "white",
           "zerolinewidth": 2
          }
         }
        }
       }
      },
      "text/html": [
       "<div>                            <div id=\"1ae5011f-838b-418e-9805-e0371f52dc53\" class=\"plotly-graph-div\" style=\"height:525px; width:100%;\"></div>            <script type=\"text/javascript\">                require([\"plotly\"], function(Plotly) {                    window.PLOTLYENV=window.PLOTLYENV || {};                                    if (document.getElementById(\"1ae5011f-838b-418e-9805-e0371f52dc53\")) {                    Plotly.newPlot(                        \"1ae5011f-838b-418e-9805-e0371f52dc53\",                        [{\"labels\": [\"twitter\", \"learning\", \"news\", \"python\", \"flask\", \"tips\", \"codechallenges\", \"pybites\", \"django\", \"data science\", \"pandas\", \"github\", \"regex\", \"machine learning\", \"jupyter\", \"challenges\", \"automation\", \"code\", \"guest\", \"apis\"], \"type\": \"pie\", \"values\": [114, 102, 98, 90, 78, 75, 73, 68, 58, 42, 36, 36, 33, 33, 32, 31, 30, 30, 26, 26]}],                        {\"template\": {\"data\": {\"bar\": [{\"error_x\": {\"color\": \"#2a3f5f\"}, \"error_y\": {\"color\": \"#2a3f5f\"}, \"marker\": {\"line\": {\"color\": \"#E5ECF6\", \"width\": 0.5}}, \"type\": \"bar\"}], \"barpolar\": [{\"marker\": {\"line\": {\"color\": \"#E5ECF6\", \"width\": 0.5}}, \"type\": \"barpolar\"}], \"carpet\": [{\"aaxis\": {\"endlinecolor\": \"#2a3f5f\", \"gridcolor\": \"white\", \"linecolor\": \"white\", \"minorgridcolor\": \"white\", \"startlinecolor\": \"#2a3f5f\"}, \"baxis\": {\"endlinecolor\": \"#2a3f5f\", \"gridcolor\": \"white\", \"linecolor\": \"white\", \"minorgridcolor\": \"white\", \"startlinecolor\": \"#2a3f5f\"}, \"type\": \"carpet\"}], \"choropleth\": [{\"colorbar\": {\"outlinewidth\": 0, \"ticks\": \"\"}, \"type\": \"choropleth\"}], \"contour\": [{\"colorbar\": {\"outlinewidth\": 0, \"ticks\": \"\"}, \"colorscale\": [[0.0, \"#0d0887\"], [0.1111111111111111, \"#46039f\"], [0.2222222222222222, \"#7201a8\"], [0.3333333333333333, \"#9c179e\"], [0.4444444444444444, \"#bd3786\"], [0.5555555555555556, \"#d8576b\"], [0.6666666666666666, \"#ed7953\"], [0.7777777777777778, \"#fb9f3a\"], [0.8888888888888888, \"#fdca26\"], [1.0, \"#f0f921\"]], \"type\": \"contour\"}], \"contourcarpet\": [{\"colorbar\": {\"outlinewidth\": 0, \"ticks\": \"\"}, \"type\": \"contourcarpet\"}], \"heatmap\": [{\"colorbar\": {\"outlinewidth\": 0, \"ticks\": \"\"}, \"colorscale\": [[0.0, \"#0d0887\"], [0.1111111111111111, \"#46039f\"], [0.2222222222222222, \"#7201a8\"], [0.3333333333333333, \"#9c179e\"], [0.4444444444444444, \"#bd3786\"], [0.5555555555555556, \"#d8576b\"], [0.6666666666666666, \"#ed7953\"], [0.7777777777777778, \"#fb9f3a\"], [0.8888888888888888, \"#fdca26\"], [1.0, \"#f0f921\"]], \"type\": \"heatmap\"}], \"heatmapgl\": [{\"colorbar\": {\"outlinewidth\": 0, \"ticks\": \"\"}, \"colorscale\": [[0.0, \"#0d0887\"], [0.1111111111111111, \"#46039f\"], [0.2222222222222222, \"#7201a8\"], [0.3333333333333333, \"#9c179e\"], [0.4444444444444444, \"#bd3786\"], [0.5555555555555556, \"#d8576b\"], [0.6666666666666666, \"#ed7953\"], [0.7777777777777778, \"#fb9f3a\"], [0.8888888888888888, \"#fdca26\"], [1.0, \"#f0f921\"]], \"type\": \"heatmapgl\"}], \"histogram\": [{\"marker\": {\"colorbar\": {\"outlinewidth\": 0, \"ticks\": \"\"}}, \"type\": \"histogram\"}], \"histogram2d\": [{\"colorbar\": {\"outlinewidth\": 0, \"ticks\": \"\"}, \"colorscale\": [[0.0, \"#0d0887\"], [0.1111111111111111, \"#46039f\"], [0.2222222222222222, \"#7201a8\"], [0.3333333333333333, \"#9c179e\"], [0.4444444444444444, \"#bd3786\"], [0.5555555555555556, \"#d8576b\"], [0.6666666666666666, \"#ed7953\"], [0.7777777777777778, \"#fb9f3a\"], [0.8888888888888888, \"#fdca26\"], [1.0, \"#f0f921\"]], \"type\": \"histogram2d\"}], \"histogram2dcontour\": [{\"colorbar\": {\"outlinewidth\": 0, \"ticks\": \"\"}, \"colorscale\": [[0.0, \"#0d0887\"], [0.1111111111111111, \"#46039f\"], [0.2222222222222222, \"#7201a8\"], [0.3333333333333333, \"#9c179e\"], [0.4444444444444444, \"#bd3786\"], [0.5555555555555556, \"#d8576b\"], [0.6666666666666666, \"#ed7953\"], [0.7777777777777778, \"#fb9f3a\"], [0.8888888888888888, \"#fdca26\"], [1.0, \"#f0f921\"]], \"type\": \"histogram2dcontour\"}], \"mesh3d\": [{\"colorbar\": {\"outlinewidth\": 0, \"ticks\": \"\"}, \"type\": \"mesh3d\"}], \"parcoords\": [{\"line\": {\"colorbar\": {\"outlinewidth\": 0, \"ticks\": \"\"}}, \"type\": \"parcoords\"}], \"pie\": [{\"automargin\": true, \"type\": \"pie\"}], \"scatter\": [{\"marker\": {\"colorbar\": {\"outlinewidth\": 0, \"ticks\": \"\"}}, \"type\": \"scatter\"}], \"scatter3d\": [{\"line\": {\"colorbar\": {\"outlinewidth\": 0, \"ticks\": \"\"}}, \"marker\": {\"colorbar\": {\"outlinewidth\": 0, \"ticks\": \"\"}}, \"type\": \"scatter3d\"}], \"scattercarpet\": [{\"marker\": {\"colorbar\": {\"outlinewidth\": 0, \"ticks\": \"\"}}, \"type\": \"scattercarpet\"}], \"scattergeo\": [{\"marker\": {\"colorbar\": {\"outlinewidth\": 0, \"ticks\": \"\"}}, \"type\": \"scattergeo\"}], \"scattergl\": [{\"marker\": {\"colorbar\": {\"outlinewidth\": 0, \"ticks\": \"\"}}, \"type\": \"scattergl\"}], \"scattermapbox\": [{\"marker\": {\"colorbar\": {\"outlinewidth\": 0, \"ticks\": \"\"}}, \"type\": \"scattermapbox\"}], \"scatterpolar\": [{\"marker\": {\"colorbar\": {\"outlinewidth\": 0, \"ticks\": \"\"}}, \"type\": \"scatterpolar\"}], \"scatterpolargl\": [{\"marker\": {\"colorbar\": {\"outlinewidth\": 0, \"ticks\": \"\"}}, \"type\": \"scatterpolargl\"}], \"scatterternary\": [{\"marker\": {\"colorbar\": {\"outlinewidth\": 0, \"ticks\": \"\"}}, \"type\": \"scatterternary\"}], \"surface\": [{\"colorbar\": {\"outlinewidth\": 0, \"ticks\": \"\"}, \"colorscale\": [[0.0, \"#0d0887\"], [0.1111111111111111, \"#46039f\"], [0.2222222222222222, \"#7201a8\"], [0.3333333333333333, \"#9c179e\"], [0.4444444444444444, \"#bd3786\"], [0.5555555555555556, \"#d8576b\"], [0.6666666666666666, \"#ed7953\"], [0.7777777777777778, \"#fb9f3a\"], [0.8888888888888888, \"#fdca26\"], [1.0, \"#f0f921\"]], \"type\": \"surface\"}], \"table\": [{\"cells\": {\"fill\": {\"color\": \"#EBF0F8\"}, \"line\": {\"color\": \"white\"}}, \"header\": {\"fill\": {\"color\": \"#C8D4E3\"}, \"line\": {\"color\": \"white\"}}, \"type\": \"table\"}]}, \"layout\": {\"annotationdefaults\": {\"arrowcolor\": \"#2a3f5f\", \"arrowhead\": 0, \"arrowwidth\": 1}, \"autotypenumbers\": \"strict\", \"coloraxis\": {\"colorbar\": {\"outlinewidth\": 0, \"ticks\": \"\"}}, \"colorscale\": {\"diverging\": [[0, \"#8e0152\"], [0.1, \"#c51b7d\"], [0.2, \"#de77ae\"], [0.3, \"#f1b6da\"], [0.4, \"#fde0ef\"], [0.5, \"#f7f7f7\"], [0.6, \"#e6f5d0\"], [0.7, \"#b8e186\"], [0.8, \"#7fbc41\"], [0.9, \"#4d9221\"], [1, \"#276419\"]], \"sequential\": [[0.0, \"#0d0887\"], [0.1111111111111111, \"#46039f\"], [0.2222222222222222, \"#7201a8\"], [0.3333333333333333, \"#9c179e\"], [0.4444444444444444, \"#bd3786\"], [0.5555555555555556, \"#d8576b\"], [0.6666666666666666, \"#ed7953\"], [0.7777777777777778, \"#fb9f3a\"], [0.8888888888888888, \"#fdca26\"], [1.0, \"#f0f921\"]], \"sequentialminus\": [[0.0, \"#0d0887\"], [0.1111111111111111, \"#46039f\"], [0.2222222222222222, \"#7201a8\"], [0.3333333333333333, \"#9c179e\"], [0.4444444444444444, \"#bd3786\"], [0.5555555555555556, \"#d8576b\"], [0.6666666666666666, \"#ed7953\"], [0.7777777777777778, \"#fb9f3a\"], [0.8888888888888888, \"#fdca26\"], [1.0, \"#f0f921\"]]}, \"colorway\": [\"#636efa\", \"#EF553B\", \"#00cc96\", \"#ab63fa\", \"#FFA15A\", \"#19d3f3\", \"#FF6692\", \"#B6E880\", \"#FF97FF\", \"#FECB52\"], \"font\": {\"color\": \"#2a3f5f\"}, \"geo\": {\"bgcolor\": \"white\", \"lakecolor\": \"white\", \"landcolor\": \"#E5ECF6\", \"showlakes\": true, \"showland\": true, \"subunitcolor\": \"white\"}, \"hoverlabel\": {\"align\": \"left\"}, \"hovermode\": \"closest\", \"mapbox\": {\"style\": \"light\"}, \"paper_bgcolor\": \"white\", \"plot_bgcolor\": \"#E5ECF6\", \"polar\": {\"angularaxis\": {\"gridcolor\": \"white\", \"linecolor\": \"white\", \"ticks\": \"\"}, \"bgcolor\": \"#E5ECF6\", \"radialaxis\": {\"gridcolor\": \"white\", \"linecolor\": \"white\", \"ticks\": \"\"}}, \"scene\": {\"xaxis\": {\"backgroundcolor\": \"#E5ECF6\", \"gridcolor\": \"white\", \"gridwidth\": 2, \"linecolor\": \"white\", \"showbackground\": true, \"ticks\": \"\", \"zerolinecolor\": \"white\"}, \"yaxis\": {\"backgroundcolor\": \"#E5ECF6\", \"gridcolor\": \"white\", \"gridwidth\": 2, \"linecolor\": \"white\", \"showbackground\": true, \"ticks\": \"\", \"zerolinecolor\": \"white\"}, \"zaxis\": {\"backgroundcolor\": \"#E5ECF6\", \"gridcolor\": \"white\", \"gridwidth\": 2, \"linecolor\": \"white\", \"showbackground\": true, \"ticks\": \"\", \"zerolinecolor\": \"white\"}}, \"shapedefaults\": {\"line\": {\"color\": \"#2a3f5f\"}}, \"ternary\": {\"aaxis\": {\"gridcolor\": \"white\", \"linecolor\": \"white\", \"ticks\": \"\"}, \"baxis\": {\"gridcolor\": \"white\", \"linecolor\": \"white\", \"ticks\": \"\"}, \"bgcolor\": \"#E5ECF6\", \"caxis\": {\"gridcolor\": \"white\", \"linecolor\": \"white\", \"ticks\": \"\"}}, \"title\": {\"x\": 0.05}, \"xaxis\": {\"automargin\": true, \"gridcolor\": \"white\", \"linecolor\": \"white\", \"ticks\": \"\", \"title\": {\"standoff\": 15}, \"zerolinecolor\": \"white\", \"zerolinewidth\": 2}, \"yaxis\": {\"automargin\": true, \"gridcolor\": \"white\", \"linecolor\": \"white\", \"ticks\": \"\", \"title\": {\"standoff\": 15}, \"zerolinecolor\": \"white\", \"zerolinewidth\": 2}}}},                        {\"responsive\": true}                    ).then(function(){\n",
       "                            \n",
       "var gd = document.getElementById('1ae5011f-838b-418e-9805-e0371f52dc53');\n",
       "var x = new MutationObserver(function (mutations, observer) {{\n",
       "        var display = window.getComputedStyle(gd).display;\n",
       "        if (!display || display === 'none') {{\n",
       "            console.log([gd, 'removed!']);\n",
       "            Plotly.purge(gd);\n",
       "            observer.disconnect();\n",
       "        }}\n",
       "}});\n",
       "\n",
       "// Listen for the removal of the full notebook cells\n",
       "var notebookContainer = gd.closest('#notebook-container');\n",
       "if (notebookContainer) {{\n",
       "    x.observe(notebookContainer, {childList: true});\n",
       "}}\n",
       "\n",
       "// Listen for the clearing of the current output cell\n",
       "var outputEl = gd.closest('.output');\n",
       "if (outputEl) {{\n",
       "    x.observe(outputEl, {childList: true});\n",
       "}}\n",
       "\n",
       "                        })                };                });            </script>        </div>"
      ]
     },
     "metadata": {},
     "output_type": "display_data"
    }
   ],
   "source": [
    "x, y = transpose_list_of_tuples(top_tags)\n",
    "pie = [go.Pie(labels = x, values = y)]\n",
    "plotly.offline.iplot(pie, filename = 'tag per category')"
   ]
  },
  {
   "cell_type": "code",
   "execution_count": 19,
   "metadata": {},
   "outputs": [
    {
     "data": {
      "application/vnd.plotly.v1+json": {
       "config": {
        "linkText": "Export to plot.ly",
        "plotlyServerURL": "https://plot.ly",
        "showLink": false
       },
       "data": [
        {
         "labels": [
          "twitter",
          "learning",
          "news",
          "python",
          "flask",
          "tips",
          "codechallenges",
          "pybites",
          "django",
          "data science",
          "pandas",
          "github",
          "regex",
          "machine learning",
          "jupyter",
          "challenges",
          "automation",
          "code",
          "guest",
          "apis"
         ],
         "type": "pie",
         "values": [
          114,
          102,
          98,
          90,
          78,
          75,
          73,
          68,
          58,
          42,
          36,
          36,
          33,
          33,
          32,
          31,
          30,
          30,
          26,
          26
         ]
        }
       ],
       "layout": {
        "template": {
         "data": {
          "bar": [
           {
            "error_x": {
             "color": "#2a3f5f"
            },
            "error_y": {
             "color": "#2a3f5f"
            },
            "marker": {
             "line": {
              "color": "#E5ECF6",
              "width": 0.5
             }
            },
            "type": "bar"
           }
          ],
          "barpolar": [
           {
            "marker": {
             "line": {
              "color": "#E5ECF6",
              "width": 0.5
             }
            },
            "type": "barpolar"
           }
          ],
          "carpet": [
           {
            "aaxis": {
             "endlinecolor": "#2a3f5f",
             "gridcolor": "white",
             "linecolor": "white",
             "minorgridcolor": "white",
             "startlinecolor": "#2a3f5f"
            },
            "baxis": {
             "endlinecolor": "#2a3f5f",
             "gridcolor": "white",
             "linecolor": "white",
             "minorgridcolor": "white",
             "startlinecolor": "#2a3f5f"
            },
            "type": "carpet"
           }
          ],
          "choropleth": [
           {
            "colorbar": {
             "outlinewidth": 0,
             "ticks": ""
            },
            "type": "choropleth"
           }
          ],
          "contour": [
           {
            "colorbar": {
             "outlinewidth": 0,
             "ticks": ""
            },
            "colorscale": [
             [
              0,
              "#0d0887"
             ],
             [
              0.1111111111111111,
              "#46039f"
             ],
             [
              0.2222222222222222,
              "#7201a8"
             ],
             [
              0.3333333333333333,
              "#9c179e"
             ],
             [
              0.4444444444444444,
              "#bd3786"
             ],
             [
              0.5555555555555556,
              "#d8576b"
             ],
             [
              0.6666666666666666,
              "#ed7953"
             ],
             [
              0.7777777777777778,
              "#fb9f3a"
             ],
             [
              0.8888888888888888,
              "#fdca26"
             ],
             [
              1,
              "#f0f921"
             ]
            ],
            "type": "contour"
           }
          ],
          "contourcarpet": [
           {
            "colorbar": {
             "outlinewidth": 0,
             "ticks": ""
            },
            "type": "contourcarpet"
           }
          ],
          "heatmap": [
           {
            "colorbar": {
             "outlinewidth": 0,
             "ticks": ""
            },
            "colorscale": [
             [
              0,
              "#0d0887"
             ],
             [
              0.1111111111111111,
              "#46039f"
             ],
             [
              0.2222222222222222,
              "#7201a8"
             ],
             [
              0.3333333333333333,
              "#9c179e"
             ],
             [
              0.4444444444444444,
              "#bd3786"
             ],
             [
              0.5555555555555556,
              "#d8576b"
             ],
             [
              0.6666666666666666,
              "#ed7953"
             ],
             [
              0.7777777777777778,
              "#fb9f3a"
             ],
             [
              0.8888888888888888,
              "#fdca26"
             ],
             [
              1,
              "#f0f921"
             ]
            ],
            "type": "heatmap"
           }
          ],
          "heatmapgl": [
           {
            "colorbar": {
             "outlinewidth": 0,
             "ticks": ""
            },
            "colorscale": [
             [
              0,
              "#0d0887"
             ],
             [
              0.1111111111111111,
              "#46039f"
             ],
             [
              0.2222222222222222,
              "#7201a8"
             ],
             [
              0.3333333333333333,
              "#9c179e"
             ],
             [
              0.4444444444444444,
              "#bd3786"
             ],
             [
              0.5555555555555556,
              "#d8576b"
             ],
             [
              0.6666666666666666,
              "#ed7953"
             ],
             [
              0.7777777777777778,
              "#fb9f3a"
             ],
             [
              0.8888888888888888,
              "#fdca26"
             ],
             [
              1,
              "#f0f921"
             ]
            ],
            "type": "heatmapgl"
           }
          ],
          "histogram": [
           {
            "marker": {
             "colorbar": {
              "outlinewidth": 0,
              "ticks": ""
             }
            },
            "type": "histogram"
           }
          ],
          "histogram2d": [
           {
            "colorbar": {
             "outlinewidth": 0,
             "ticks": ""
            },
            "colorscale": [
             [
              0,
              "#0d0887"
             ],
             [
              0.1111111111111111,
              "#46039f"
             ],
             [
              0.2222222222222222,
              "#7201a8"
             ],
             [
              0.3333333333333333,
              "#9c179e"
             ],
             [
              0.4444444444444444,
              "#bd3786"
             ],
             [
              0.5555555555555556,
              "#d8576b"
             ],
             [
              0.6666666666666666,
              "#ed7953"
             ],
             [
              0.7777777777777778,
              "#fb9f3a"
             ],
             [
              0.8888888888888888,
              "#fdca26"
             ],
             [
              1,
              "#f0f921"
             ]
            ],
            "type": "histogram2d"
           }
          ],
          "histogram2dcontour": [
           {
            "colorbar": {
             "outlinewidth": 0,
             "ticks": ""
            },
            "colorscale": [
             [
              0,
              "#0d0887"
             ],
             [
              0.1111111111111111,
              "#46039f"
             ],
             [
              0.2222222222222222,
              "#7201a8"
             ],
             [
              0.3333333333333333,
              "#9c179e"
             ],
             [
              0.4444444444444444,
              "#bd3786"
             ],
             [
              0.5555555555555556,
              "#d8576b"
             ],
             [
              0.6666666666666666,
              "#ed7953"
             ],
             [
              0.7777777777777778,
              "#fb9f3a"
             ],
             [
              0.8888888888888888,
              "#fdca26"
             ],
             [
              1,
              "#f0f921"
             ]
            ],
            "type": "histogram2dcontour"
           }
          ],
          "mesh3d": [
           {
            "colorbar": {
             "outlinewidth": 0,
             "ticks": ""
            },
            "type": "mesh3d"
           }
          ],
          "parcoords": [
           {
            "line": {
             "colorbar": {
              "outlinewidth": 0,
              "ticks": ""
             }
            },
            "type": "parcoords"
           }
          ],
          "pie": [
           {
            "automargin": true,
            "type": "pie"
           }
          ],
          "scatter": [
           {
            "marker": {
             "colorbar": {
              "outlinewidth": 0,
              "ticks": ""
             }
            },
            "type": "scatter"
           }
          ],
          "scatter3d": [
           {
            "line": {
             "colorbar": {
              "outlinewidth": 0,
              "ticks": ""
             }
            },
            "marker": {
             "colorbar": {
              "outlinewidth": 0,
              "ticks": ""
             }
            },
            "type": "scatter3d"
           }
          ],
          "scattercarpet": [
           {
            "marker": {
             "colorbar": {
              "outlinewidth": 0,
              "ticks": ""
             }
            },
            "type": "scattercarpet"
           }
          ],
          "scattergeo": [
           {
            "marker": {
             "colorbar": {
              "outlinewidth": 0,
              "ticks": ""
             }
            },
            "type": "scattergeo"
           }
          ],
          "scattergl": [
           {
            "marker": {
             "colorbar": {
              "outlinewidth": 0,
              "ticks": ""
             }
            },
            "type": "scattergl"
           }
          ],
          "scattermapbox": [
           {
            "marker": {
             "colorbar": {
              "outlinewidth": 0,
              "ticks": ""
             }
            },
            "type": "scattermapbox"
           }
          ],
          "scatterpolar": [
           {
            "marker": {
             "colorbar": {
              "outlinewidth": 0,
              "ticks": ""
             }
            },
            "type": "scatterpolar"
           }
          ],
          "scatterpolargl": [
           {
            "marker": {
             "colorbar": {
              "outlinewidth": 0,
              "ticks": ""
             }
            },
            "type": "scatterpolargl"
           }
          ],
          "scatterternary": [
           {
            "marker": {
             "colorbar": {
              "outlinewidth": 0,
              "ticks": ""
             }
            },
            "type": "scatterternary"
           }
          ],
          "surface": [
           {
            "colorbar": {
             "outlinewidth": 0,
             "ticks": ""
            },
            "colorscale": [
             [
              0,
              "#0d0887"
             ],
             [
              0.1111111111111111,
              "#46039f"
             ],
             [
              0.2222222222222222,
              "#7201a8"
             ],
             [
              0.3333333333333333,
              "#9c179e"
             ],
             [
              0.4444444444444444,
              "#bd3786"
             ],
             [
              0.5555555555555556,
              "#d8576b"
             ],
             [
              0.6666666666666666,
              "#ed7953"
             ],
             [
              0.7777777777777778,
              "#fb9f3a"
             ],
             [
              0.8888888888888888,
              "#fdca26"
             ],
             [
              1,
              "#f0f921"
             ]
            ],
            "type": "surface"
           }
          ],
          "table": [
           {
            "cells": {
             "fill": {
              "color": "#EBF0F8"
             },
             "line": {
              "color": "white"
             }
            },
            "header": {
             "fill": {
              "color": "#C8D4E3"
             },
             "line": {
              "color": "white"
             }
            },
            "type": "table"
           }
          ]
         },
         "layout": {
          "annotationdefaults": {
           "arrowcolor": "#2a3f5f",
           "arrowhead": 0,
           "arrowwidth": 1
          },
          "autotypenumbers": "strict",
          "coloraxis": {
           "colorbar": {
            "outlinewidth": 0,
            "ticks": ""
           }
          },
          "colorscale": {
           "diverging": [
            [
             0,
             "#8e0152"
            ],
            [
             0.1,
             "#c51b7d"
            ],
            [
             0.2,
             "#de77ae"
            ],
            [
             0.3,
             "#f1b6da"
            ],
            [
             0.4,
             "#fde0ef"
            ],
            [
             0.5,
             "#f7f7f7"
            ],
            [
             0.6,
             "#e6f5d0"
            ],
            [
             0.7,
             "#b8e186"
            ],
            [
             0.8,
             "#7fbc41"
            ],
            [
             0.9,
             "#4d9221"
            ],
            [
             1,
             "#276419"
            ]
           ],
           "sequential": [
            [
             0,
             "#0d0887"
            ],
            [
             0.1111111111111111,
             "#46039f"
            ],
            [
             0.2222222222222222,
             "#7201a8"
            ],
            [
             0.3333333333333333,
             "#9c179e"
            ],
            [
             0.4444444444444444,
             "#bd3786"
            ],
            [
             0.5555555555555556,
             "#d8576b"
            ],
            [
             0.6666666666666666,
             "#ed7953"
            ],
            [
             0.7777777777777778,
             "#fb9f3a"
            ],
            [
             0.8888888888888888,
             "#fdca26"
            ],
            [
             1,
             "#f0f921"
            ]
           ],
           "sequentialminus": [
            [
             0,
             "#0d0887"
            ],
            [
             0.1111111111111111,
             "#46039f"
            ],
            [
             0.2222222222222222,
             "#7201a8"
            ],
            [
             0.3333333333333333,
             "#9c179e"
            ],
            [
             0.4444444444444444,
             "#bd3786"
            ],
            [
             0.5555555555555556,
             "#d8576b"
            ],
            [
             0.6666666666666666,
             "#ed7953"
            ],
            [
             0.7777777777777778,
             "#fb9f3a"
            ],
            [
             0.8888888888888888,
             "#fdca26"
            ],
            [
             1,
             "#f0f921"
            ]
           ]
          },
          "colorway": [
           "#636efa",
           "#EF553B",
           "#00cc96",
           "#ab63fa",
           "#FFA15A",
           "#19d3f3",
           "#FF6692",
           "#B6E880",
           "#FF97FF",
           "#FECB52"
          ],
          "font": {
           "color": "#2a3f5f"
          },
          "geo": {
           "bgcolor": "white",
           "lakecolor": "white",
           "landcolor": "#E5ECF6",
           "showlakes": true,
           "showland": true,
           "subunitcolor": "white"
          },
          "hoverlabel": {
           "align": "left"
          },
          "hovermode": "closest",
          "mapbox": {
           "style": "light"
          },
          "paper_bgcolor": "white",
          "plot_bgcolor": "#E5ECF6",
          "polar": {
           "angularaxis": {
            "gridcolor": "white",
            "linecolor": "white",
            "ticks": ""
           },
           "bgcolor": "#E5ECF6",
           "radialaxis": {
            "gridcolor": "white",
            "linecolor": "white",
            "ticks": ""
           }
          },
          "scene": {
           "xaxis": {
            "backgroundcolor": "#E5ECF6",
            "gridcolor": "white",
            "gridwidth": 2,
            "linecolor": "white",
            "showbackground": true,
            "ticks": "",
            "zerolinecolor": "white"
           },
           "yaxis": {
            "backgroundcolor": "#E5ECF6",
            "gridcolor": "white",
            "gridwidth": 2,
            "linecolor": "white",
            "showbackground": true,
            "ticks": "",
            "zerolinecolor": "white"
           },
           "zaxis": {
            "backgroundcolor": "#E5ECF6",
            "gridcolor": "white",
            "gridwidth": 2,
            "linecolor": "white",
            "showbackground": true,
            "ticks": "",
            "zerolinecolor": "white"
           }
          },
          "shapedefaults": {
           "line": {
            "color": "#2a3f5f"
           }
          },
          "ternary": {
           "aaxis": {
            "gridcolor": "white",
            "linecolor": "white",
            "ticks": ""
           },
           "baxis": {
            "gridcolor": "white",
            "linecolor": "white",
            "ticks": ""
           },
           "bgcolor": "#E5ECF6",
           "caxis": {
            "gridcolor": "white",
            "linecolor": "white",
            "ticks": ""
           }
          },
          "title": {
           "x": 0.05
          },
          "xaxis": {
           "automargin": true,
           "gridcolor": "white",
           "linecolor": "white",
           "ticks": "",
           "title": {
            "standoff": 15
           },
           "zerolinecolor": "white",
           "zerolinewidth": 2
          },
          "yaxis": {
           "automargin": true,
           "gridcolor": "white",
           "linecolor": "white",
           "ticks": "",
           "title": {
            "standoff": 15
           },
           "zerolinecolor": "white",
           "zerolinewidth": 2
          }
         }
        }
       }
      },
      "text/html": [
       "<div>                            <div id=\"9ab08b2f-ba9c-4a97-aa07-e81317a34760\" class=\"plotly-graph-div\" style=\"height:525px; width:100%;\"></div>            <script type=\"text/javascript\">                require([\"plotly\"], function(Plotly) {                    window.PLOTLYENV=window.PLOTLYENV || {};                                    if (document.getElementById(\"9ab08b2f-ba9c-4a97-aa07-e81317a34760\")) {                    Plotly.newPlot(                        \"9ab08b2f-ba9c-4a97-aa07-e81317a34760\",                        [{\"labels\": [\"twitter\", \"learning\", \"news\", \"python\", \"flask\", \"tips\", \"codechallenges\", \"pybites\", \"django\", \"data science\", \"pandas\", \"github\", \"regex\", \"machine learning\", \"jupyter\", \"challenges\", \"automation\", \"code\", \"guest\", \"apis\"], \"type\": \"pie\", \"values\": [114, 102, 98, 90, 78, 75, 73, 68, 58, 42, 36, 36, 33, 33, 32, 31, 30, 30, 26, 26]}],                        {\"template\": {\"data\": {\"bar\": [{\"error_x\": {\"color\": \"#2a3f5f\"}, \"error_y\": {\"color\": \"#2a3f5f\"}, \"marker\": {\"line\": {\"color\": \"#E5ECF6\", \"width\": 0.5}}, \"type\": \"bar\"}], \"barpolar\": [{\"marker\": {\"line\": {\"color\": \"#E5ECF6\", \"width\": 0.5}}, \"type\": \"barpolar\"}], \"carpet\": [{\"aaxis\": {\"endlinecolor\": \"#2a3f5f\", \"gridcolor\": \"white\", \"linecolor\": \"white\", \"minorgridcolor\": \"white\", \"startlinecolor\": \"#2a3f5f\"}, \"baxis\": {\"endlinecolor\": \"#2a3f5f\", \"gridcolor\": \"white\", \"linecolor\": \"white\", \"minorgridcolor\": \"white\", \"startlinecolor\": \"#2a3f5f\"}, \"type\": \"carpet\"}], \"choropleth\": [{\"colorbar\": {\"outlinewidth\": 0, \"ticks\": \"\"}, \"type\": \"choropleth\"}], \"contour\": [{\"colorbar\": {\"outlinewidth\": 0, \"ticks\": \"\"}, \"colorscale\": [[0.0, \"#0d0887\"], [0.1111111111111111, \"#46039f\"], [0.2222222222222222, \"#7201a8\"], [0.3333333333333333, \"#9c179e\"], [0.4444444444444444, \"#bd3786\"], [0.5555555555555556, \"#d8576b\"], [0.6666666666666666, \"#ed7953\"], [0.7777777777777778, \"#fb9f3a\"], [0.8888888888888888, \"#fdca26\"], [1.0, \"#f0f921\"]], \"type\": \"contour\"}], \"contourcarpet\": [{\"colorbar\": {\"outlinewidth\": 0, \"ticks\": \"\"}, \"type\": \"contourcarpet\"}], \"heatmap\": [{\"colorbar\": {\"outlinewidth\": 0, \"ticks\": \"\"}, \"colorscale\": [[0.0, \"#0d0887\"], [0.1111111111111111, \"#46039f\"], [0.2222222222222222, \"#7201a8\"], [0.3333333333333333, \"#9c179e\"], [0.4444444444444444, \"#bd3786\"], [0.5555555555555556, \"#d8576b\"], [0.6666666666666666, \"#ed7953\"], [0.7777777777777778, \"#fb9f3a\"], [0.8888888888888888, \"#fdca26\"], [1.0, \"#f0f921\"]], \"type\": \"heatmap\"}], \"heatmapgl\": [{\"colorbar\": {\"outlinewidth\": 0, \"ticks\": \"\"}, \"colorscale\": [[0.0, \"#0d0887\"], [0.1111111111111111, \"#46039f\"], [0.2222222222222222, \"#7201a8\"], [0.3333333333333333, \"#9c179e\"], [0.4444444444444444, \"#bd3786\"], [0.5555555555555556, \"#d8576b\"], [0.6666666666666666, \"#ed7953\"], [0.7777777777777778, \"#fb9f3a\"], [0.8888888888888888, \"#fdca26\"], [1.0, \"#f0f921\"]], \"type\": \"heatmapgl\"}], \"histogram\": [{\"marker\": {\"colorbar\": {\"outlinewidth\": 0, \"ticks\": \"\"}}, \"type\": \"histogram\"}], \"histogram2d\": [{\"colorbar\": {\"outlinewidth\": 0, \"ticks\": \"\"}, \"colorscale\": [[0.0, \"#0d0887\"], [0.1111111111111111, \"#46039f\"], [0.2222222222222222, \"#7201a8\"], [0.3333333333333333, \"#9c179e\"], [0.4444444444444444, \"#bd3786\"], [0.5555555555555556, \"#d8576b\"], [0.6666666666666666, \"#ed7953\"], [0.7777777777777778, \"#fb9f3a\"], [0.8888888888888888, \"#fdca26\"], [1.0, \"#f0f921\"]], \"type\": \"histogram2d\"}], \"histogram2dcontour\": [{\"colorbar\": {\"outlinewidth\": 0, \"ticks\": \"\"}, \"colorscale\": [[0.0, \"#0d0887\"], [0.1111111111111111, \"#46039f\"], [0.2222222222222222, \"#7201a8\"], [0.3333333333333333, \"#9c179e\"], [0.4444444444444444, \"#bd3786\"], [0.5555555555555556, \"#d8576b\"], [0.6666666666666666, \"#ed7953\"], [0.7777777777777778, \"#fb9f3a\"], [0.8888888888888888, \"#fdca26\"], [1.0, \"#f0f921\"]], \"type\": \"histogram2dcontour\"}], \"mesh3d\": [{\"colorbar\": {\"outlinewidth\": 0, \"ticks\": \"\"}, \"type\": \"mesh3d\"}], \"parcoords\": [{\"line\": {\"colorbar\": {\"outlinewidth\": 0, \"ticks\": \"\"}}, \"type\": \"parcoords\"}], \"pie\": [{\"automargin\": true, \"type\": \"pie\"}], \"scatter\": [{\"marker\": {\"colorbar\": {\"outlinewidth\": 0, \"ticks\": \"\"}}, \"type\": \"scatter\"}], \"scatter3d\": [{\"line\": {\"colorbar\": {\"outlinewidth\": 0, \"ticks\": \"\"}}, \"marker\": {\"colorbar\": {\"outlinewidth\": 0, \"ticks\": \"\"}}, \"type\": \"scatter3d\"}], \"scattercarpet\": [{\"marker\": {\"colorbar\": {\"outlinewidth\": 0, \"ticks\": \"\"}}, \"type\": \"scattercarpet\"}], \"scattergeo\": [{\"marker\": {\"colorbar\": {\"outlinewidth\": 0, \"ticks\": \"\"}}, \"type\": \"scattergeo\"}], \"scattergl\": [{\"marker\": {\"colorbar\": {\"outlinewidth\": 0, \"ticks\": \"\"}}, \"type\": \"scattergl\"}], \"scattermapbox\": [{\"marker\": {\"colorbar\": {\"outlinewidth\": 0, \"ticks\": \"\"}}, \"type\": \"scattermapbox\"}], \"scatterpolar\": [{\"marker\": {\"colorbar\": {\"outlinewidth\": 0, \"ticks\": \"\"}}, \"type\": \"scatterpolar\"}], \"scatterpolargl\": [{\"marker\": {\"colorbar\": {\"outlinewidth\": 0, \"ticks\": \"\"}}, \"type\": \"scatterpolargl\"}], \"scatterternary\": [{\"marker\": {\"colorbar\": {\"outlinewidth\": 0, \"ticks\": \"\"}}, \"type\": \"scatterternary\"}], \"surface\": [{\"colorbar\": {\"outlinewidth\": 0, \"ticks\": \"\"}, \"colorscale\": [[0.0, \"#0d0887\"], [0.1111111111111111, \"#46039f\"], [0.2222222222222222, \"#7201a8\"], [0.3333333333333333, \"#9c179e\"], [0.4444444444444444, \"#bd3786\"], [0.5555555555555556, \"#d8576b\"], [0.6666666666666666, \"#ed7953\"], [0.7777777777777778, \"#fb9f3a\"], [0.8888888888888888, \"#fdca26\"], [1.0, \"#f0f921\"]], \"type\": \"surface\"}], \"table\": [{\"cells\": {\"fill\": {\"color\": \"#EBF0F8\"}, \"line\": {\"color\": \"white\"}}, \"header\": {\"fill\": {\"color\": \"#C8D4E3\"}, \"line\": {\"color\": \"white\"}}, \"type\": \"table\"}]}, \"layout\": {\"annotationdefaults\": {\"arrowcolor\": \"#2a3f5f\", \"arrowhead\": 0, \"arrowwidth\": 1}, \"autotypenumbers\": \"strict\", \"coloraxis\": {\"colorbar\": {\"outlinewidth\": 0, \"ticks\": \"\"}}, \"colorscale\": {\"diverging\": [[0, \"#8e0152\"], [0.1, \"#c51b7d\"], [0.2, \"#de77ae\"], [0.3, \"#f1b6da\"], [0.4, \"#fde0ef\"], [0.5, \"#f7f7f7\"], [0.6, \"#e6f5d0\"], [0.7, \"#b8e186\"], [0.8, \"#7fbc41\"], [0.9, \"#4d9221\"], [1, \"#276419\"]], \"sequential\": [[0.0, \"#0d0887\"], [0.1111111111111111, \"#46039f\"], [0.2222222222222222, \"#7201a8\"], [0.3333333333333333, \"#9c179e\"], [0.4444444444444444, \"#bd3786\"], [0.5555555555555556, \"#d8576b\"], [0.6666666666666666, \"#ed7953\"], [0.7777777777777778, \"#fb9f3a\"], [0.8888888888888888, \"#fdca26\"], [1.0, \"#f0f921\"]], \"sequentialminus\": [[0.0, \"#0d0887\"], [0.1111111111111111, \"#46039f\"], [0.2222222222222222, \"#7201a8\"], [0.3333333333333333, \"#9c179e\"], [0.4444444444444444, \"#bd3786\"], [0.5555555555555556, \"#d8576b\"], [0.6666666666666666, \"#ed7953\"], [0.7777777777777778, \"#fb9f3a\"], [0.8888888888888888, \"#fdca26\"], [1.0, \"#f0f921\"]]}, \"colorway\": [\"#636efa\", \"#EF553B\", \"#00cc96\", \"#ab63fa\", \"#FFA15A\", \"#19d3f3\", \"#FF6692\", \"#B6E880\", \"#FF97FF\", \"#FECB52\"], \"font\": {\"color\": \"#2a3f5f\"}, \"geo\": {\"bgcolor\": \"white\", \"lakecolor\": \"white\", \"landcolor\": \"#E5ECF6\", \"showlakes\": true, \"showland\": true, \"subunitcolor\": \"white\"}, \"hoverlabel\": {\"align\": \"left\"}, \"hovermode\": \"closest\", \"mapbox\": {\"style\": \"light\"}, \"paper_bgcolor\": \"white\", \"plot_bgcolor\": \"#E5ECF6\", \"polar\": {\"angularaxis\": {\"gridcolor\": \"white\", \"linecolor\": \"white\", \"ticks\": \"\"}, \"bgcolor\": \"#E5ECF6\", \"radialaxis\": {\"gridcolor\": \"white\", \"linecolor\": \"white\", \"ticks\": \"\"}}, \"scene\": {\"xaxis\": {\"backgroundcolor\": \"#E5ECF6\", \"gridcolor\": \"white\", \"gridwidth\": 2, \"linecolor\": \"white\", \"showbackground\": true, \"ticks\": \"\", \"zerolinecolor\": \"white\"}, \"yaxis\": {\"backgroundcolor\": \"#E5ECF6\", \"gridcolor\": \"white\", \"gridwidth\": 2, \"linecolor\": \"white\", \"showbackground\": true, \"ticks\": \"\", \"zerolinecolor\": \"white\"}, \"zaxis\": {\"backgroundcolor\": \"#E5ECF6\", \"gridcolor\": \"white\", \"gridwidth\": 2, \"linecolor\": \"white\", \"showbackground\": true, \"ticks\": \"\", \"zerolinecolor\": \"white\"}}, \"shapedefaults\": {\"line\": {\"color\": \"#2a3f5f\"}}, \"ternary\": {\"aaxis\": {\"gridcolor\": \"white\", \"linecolor\": \"white\", \"ticks\": \"\"}, \"baxis\": {\"gridcolor\": \"white\", \"linecolor\": \"white\", \"ticks\": \"\"}, \"bgcolor\": \"#E5ECF6\", \"caxis\": {\"gridcolor\": \"white\", \"linecolor\": \"white\", \"ticks\": \"\"}}, \"title\": {\"x\": 0.05}, \"xaxis\": {\"automargin\": true, \"gridcolor\": \"white\", \"linecolor\": \"white\", \"ticks\": \"\", \"title\": {\"standoff\": 15}, \"zerolinecolor\": \"white\", \"zerolinewidth\": 2}, \"yaxis\": {\"automargin\": true, \"gridcolor\": \"white\", \"linecolor\": \"white\", \"ticks\": \"\", \"title\": {\"standoff\": 15}, \"zerolinecolor\": \"white\", \"zerolinewidth\": 2}}}},                        {\"responsive\": true}                    ).then(function(){\n",
       "                            \n",
       "var gd = document.getElementById('9ab08b2f-ba9c-4a97-aa07-e81317a34760');\n",
       "var x = new MutationObserver(function (mutations, observer) {{\n",
       "        var display = window.getComputedStyle(gd).display;\n",
       "        if (!display || display === 'none') {{\n",
       "            console.log([gd, 'removed!']);\n",
       "            Plotly.purge(gd);\n",
       "            observer.disconnect();\n",
       "        }}\n",
       "}});\n",
       "\n",
       "// Listen for the removal of the full notebook cells\n",
       "var notebookContainer = gd.closest('#notebook-container');\n",
       "if (notebookContainer) {{\n",
       "    x.observe(notebookContainer, {childList: true});\n",
       "}}\n",
       "\n",
       "// Listen for the clearing of the current output cell\n",
       "var outputEl = gd.closest('.output');\n",
       "if (outputEl) {{\n",
       "    x.observe(outputEl, {childList: true});\n",
       "}}\n",
       "\n",
       "                        })                };                });            </script>        </div>"
      ]
     },
     "metadata": {},
     "output_type": "display_data"
    }
   ],
   "source": [
    "labels, values = transpose_list_of_tuples(top_tags)\n",
    "tags = go.Pie(labels=labels, values=values)\n",
    "plotly.offline.iplot([tags], filename='tags')"
   ]
  },
  {
   "cell_type": "markdown",
   "metadata": {},
   "source": [
    "https://plot.ly/create/?fid=bbelderbos:9"
   ]
  },
  {
   "cell_type": "markdown",
   "metadata": {},
   "source": [
    "<img src=\"images/plot3.png\">"
   ]
  },
  {
   "cell_type": "markdown",
   "metadata": {},
   "source": [
    "Pretty obvious, but it's interesting to see we are heavy on challenges, news, but also web frameworks (can use some more Django ...)"
   ]
  },
  {
   "cell_type": "markdown",
   "metadata": {},
   "source": [
    "I hope this gave you a bit of a taste how relatively easy it is to do data visualization in Python using one of the libraries available. Here are some alternatives we've been using:\n",
    "\n",
    "* [Visualizing website and social media metrics with matplotlib](https://pybit.es/matplotlib-starter.html)\n",
    "* [Code Challenge 28 - Integrate a Bokeh Chart Into Flask - Review](https://pybit.es/codechallenge28_review.html) (we also used Bokeh for [our Marvel challenge bonus](https://pybit.es/codechallenge44.html))\n",
    "* [Using Pandas and Seaborn to solve PyBites Marvel Challenge](https://pybit.es/guest-marvel-data-analysis.html)\n",
    "* [Analyzing Brexit data with Pandas](https://bobbelderbos.com/2016/06/analyzing-brexit-data-with-pandas/)"
   ]
  },
  {
   "cell_type": "markdown",
   "metadata": {},
   "source": [
    "## Second and Third day: roll your own!"
   ]
  },
  {
   "cell_type": "markdown",
   "metadata": {},
   "source": [
    "With the materials provided try to get your hands on an interesting data set, be it your own or another source like Kaggle. It should not be that hard, data is everywhere! You probably need some parsing and data cleaning, not the most fun part, but an important skill to have. Pick one of many data viz libraries and create some cool visualizations and share them with us on Twitter. \n",
    "\n",
    "Lack inspiration? [Randy Olson](https://twitter.com/randal_olson) tends to tweet really cool [#dataviz](https://twitter.com/hashtag/dataviz?src=hash) stuff, but remember start simple, this topic alone could cover a 100 Days :)\n",
    "\n",
    "Enjoy and remember: keep calm and code in Python!"
   ]
  },
  {
   "cell_type": "markdown",
   "metadata": {},
   "source": [
    "### Time to share what you've accomplished!\n",
    "\n",
    "Be sure to share your last couple of days work on Twitter or Facebook. Use the hashtag **#100DaysOfCode**.\n",
    "\n",
    "Here are [some examples](https://twitter.com/search?q=%23100DaysOfCode) to inspire you. Consider including [@talkpython](https://twitter.com/talkpython) and [@pybites](https://twitter.com/pybites) in your tweets.\n",
    "\n",
    "*See a mistake in these instructions? Please [submit a new issue](https://github.com/talkpython/100daysofcode-with-python-course/issues) or fix it and [submit a PR](https://github.com/talkpython/100daysofcode-with-python-course/pulls).*"
   ]
  }
 ],
 "metadata": {
  "kernelspec": {
   "display_name": "Python 3",
   "language": "python",
   "name": "python3"
  },
  "language_info": {
   "codemirror_mode": {
    "name": "ipython",
    "version": 3
   },
   "file_extension": ".py",
   "mimetype": "text/x-python",
   "name": "python",
   "nbconvert_exporter": "python",
   "pygments_lexer": "ipython3",
   "version": "3.8.8"
  }
 },
 "nbformat": 4,
 "nbformat_minor": 4
}
